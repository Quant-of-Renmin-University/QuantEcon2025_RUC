{
 "cells": [
  {
   "cell_type": "code",
   "execution_count": 41,
   "metadata": {},
   "outputs": [],
   "source": [
    "\n",
    "import pandas as pd\n",
    "import numpy as np\n",
    "import matplotlib.pyplot as plt\n",
    "from sklearn.linear_model import LinearRegression"
   ]
  },
  {
   "cell_type": "code",
   "execution_count": 11,
   "metadata": {},
   "outputs": [
    {
     "name": "stdout",
     "output_type": "stream",
     "text": [
      "5.373267326732673\n"
     ]
    }
   ],
   "source": [
    "# 劝业街房屋单价\n",
    "quanyejie_price  = pd.read_excel(\"price/queyejie_esf_data.xlsx\")\n",
    "quanyejie_price.head()\n",
    "quanyejie_price['总价']=quanyejie_price['总价'].str.replace(\"万\", \"\").astype(float)\n",
    "quanyejie_price['面积']=quanyejie_price['面积'].str.replace(\"㎡\", \"\").astype(float)\n",
    "quanyejie_price['房屋单价']=quanyejie_price['总价']/quanyejie_price['面积']\n",
    "print(quanyejie_price['房屋单价'].median())\n",
    "quanyejie_price_df = pd.DataFrame({\"单价\":quanyejie_price['房屋单价'],\"location\":[\"劝业街\"]*quanyejie_price[\"房屋单价\"].shape[0], \"面积/㎡\":quanyejie_price['面积']})"
   ]
  },
  {
   "cell_type": "code",
   "execution_count": 12,
   "metadata": {},
   "outputs": [
    {
     "name": "stdout",
     "output_type": "stream",
     "text": [
      "1.1290501117641598\n"
     ]
    }
   ],
   "source": [
    "# 武清房屋单价\n",
    "wuqing_price  = pd.read_csv(\"price/esf_wuqing.csv\")\n",
    "wuqing_price.head()\n",
    "wuqing_price['总价']=wuqing_price['总价'].str.replace(\"万\", \"\").astype(float)\n",
    "wuqing_price['面积']=wuqing_price['面积'].str.replace(\"㎡\", \"\").astype(float)\n",
    "wuqing_price['房屋单价']=wuqing_price['总价']/wuqing_price['面积']\n",
    "print(wuqing_price['房屋单价'].median())\n",
    "wuqing_price_df = pd.DataFrame({\"单价\":wuqing_price['房屋单价'],\"location\":[\"武清\"]*wuqing_price[\"房屋单价\"].shape[0], \"面积/㎡\":wuqing_price['面积']})"
   ]
  },
  {
   "cell_type": "code",
   "execution_count": 58,
   "metadata": {},
   "outputs": [
    {
     "name": "stdout",
     "output_type": "stream",
     "text": [
      "2.676056338028169\n"
     ]
    }
   ],
   "source": [
    "# 八里台房屋单价\n",
    "balitai_price  = pd.read_csv(\"price/price-tianjin-balitai.csv\")\n",
    "balitai_price.head()\n",
    "balitai_price['总价']=balitai_price['总价'].str.replace(\"万\", \"\").astype(float)\n",
    "balitai_price['面积']=balitai_price['面积'].str.replace(\"㎡\", \"\").astype(float)\n",
    "balitai_price['房屋单价']=balitai_price['总价']/balitai_price['面积']\n",
    "print(balitai_price['房屋单价'].median())\n",
    "balitai_price_df = pd.DataFrame({\"单价\":balitai_price['房屋单价'],\"location\":[\"八里台\"]*balitai_price[\"房屋单价\"].shape[0], \"面积/㎡\":balitai_price['面积']})"
   ]
  },
  {
   "cell_type": "code",
   "execution_count": 15,
   "metadata": {},
   "outputs": [
    {
     "name": "stdout",
     "output_type": "stream",
     "text": [
      "1.368421052631579\n"
     ]
    },
    {
     "name": "stderr",
     "output_type": "stream",
     "text": [
      "<>:2: SyntaxWarning: invalid escape sequence '\\p'\n",
      "<>:2: SyntaxWarning: invalid escape sequence '\\p'\n",
      "C:\\Users\\acer\\AppData\\Local\\Temp\\ipykernel_9556\\2298115438.py:2: SyntaxWarning: invalid escape sequence '\\p'\n",
      "  zhongxin_price  = pd.read_csv(\"price\\price.csv\",encoding='gbk')\n"
     ]
    }
   ],
   "source": [
    "# 中新生态城房屋单价\n",
    "zhongxin_price  = pd.read_csv(\"price\\price.csv\",encoding='gbk')\n",
    "zhongxin_price.head()\n",
    "zhongxin_price['总价']=zhongxin_price['总价'].str.replace(\"万\", \"\").astype(float)\n",
    "zhongxin_price['面积']=zhongxin_price['面积'].str.replace(\"㎡\", \"\").astype(float)\n",
    "zhongxin_price['房屋单价']=zhongxin_price['总价']/zhongxin_price['面积']\n",
    "print(zhongxin_price['房屋单价'].median())\n",
    "zhongxin_price_df = pd.DataFrame({\"单价\":zhongxin_price['房屋单价'],\"location\":[\"中新生态城\"]*zhongxin_price[\"房屋单价\"].shape[0], \"面积/㎡\":zhongxin_price['面积']})"
   ]
  },
  {
   "cell_type": "code",
   "execution_count": 17,
   "metadata": {},
   "outputs": [
    {
     "name": "stdout",
     "output_type": "stream",
     "text": [
      "66.66666666666667\n"
     ]
    }
   ],
   "source": [
    "# 劝业街租金单价\n",
    "quanyejie_rent = pd.read_excel(\"rent/queyejie_rent_data.xlsx\")\n",
    "quanyejie_rent.head()\n",
    "quanyejie_rent['价格']=quanyejie_rent['价格'].str.replace(\"元/月\", \"\").astype(float)\n",
    "quanyejie_rent['面积']=quanyejie_rent['面积'].str.replace(\"㎡\", \"\").astype(float)\n",
    "quanyejie_rent['租金单价']=quanyejie_rent['价格']/quanyejie_rent['面积']\n",
    "print(quanyejie_rent['租金单价'].median())\n",
    "quanyejie_rent_df = pd.DataFrame({\"单价\":quanyejie_rent['租金单价'],\"location\":[\"劝业街\"]*quanyejie_rent[\"租金单价\"].shape[0], \"面积/㎡\":quanyejie_rent['面积']})"
   ]
  },
  {
   "cell_type": "code",
   "execution_count": 18,
   "metadata": {},
   "outputs": [
    {
     "name": "stdout",
     "output_type": "stream",
     "text": [
      "16.26453488372093\n"
     ]
    }
   ],
   "source": [
    "# 武清租金单价\n",
    "wuqing_rent  = pd.read_csv(\"rent/zu_wuqing.csv\")\n",
    "wuqing_rent.head()\n",
    "wuqing_rent['价格']=wuqing_rent['价格'].str.replace(\"元/月\", \"\").astype(float)\n",
    "wuqing_rent['面积']=wuqing_rent['面积'].str.replace(\"㎡\", \"\").astype(float)\n",
    "wuqing_rent['租金单价']=wuqing_rent['价格']/wuqing_rent['面积']\n",
    "print(wuqing_rent['租金单价'].median())\n",
    "wuqing_rent_df = pd.DataFrame({\"单价\":wuqing_rent['租金单价'],\"location\":[\"武清\"]*wuqing_rent[\"租金单价\"].shape[0], \"面积/㎡\":wuqing_rent['面积']})"
   ]
  },
  {
   "cell_type": "code",
   "execution_count": 57,
   "metadata": {},
   "outputs": [
    {
     "name": "stdout",
     "output_type": "stream",
     "text": [
      "43.90243902439025\n"
     ]
    }
   ],
   "source": [
    "# 八里台租金单价\n",
    "balitai_rent  = pd.read_csv(\"rent/rent-tianjin-balitai.csv\")\n",
    "balitai_rent.head()\n",
    "balitai_rent['面积']=balitai_rent['面积'].str.replace(\"㎡\", \"\").astype(float)\n",
    "balitai_rent['租金单价']=balitai_rent['价格(元/月)']/balitai_rent['面积']\n",
    "print(balitai_rent['租金单价'].median())\n",
    "balitai_rent_df = pd.DataFrame({\"单价\":balitai_rent['租金单价'],\"location\":[\"八里台\"]*balitai_rent[\"租金单价\"].shape[0], \"面积/㎡\":balitai_rent['面积']})"
   ]
  },
  {
   "cell_type": "code",
   "execution_count": 27,
   "metadata": {},
   "outputs": [
    {
     "name": "stdout",
     "output_type": "stream",
     "text": [
      "25.126262626262626\n"
     ]
    }
   ],
   "source": [
    "#中新生态城租金单价\n",
    "zhongxin_rent  = pd.read_csv(\"rent/df_full_rent.csv\")\n",
    "zhongxin_rent.head()\n",
    "zhongxin_rent['价格']=zhongxin_rent['价格'].str.replace(\"元/月\", \"\").astype(float)\n",
    "zhongxin_rent['面积']=zhongxin_rent['面积'].str.replace(\"㎡\", \"\").astype(float)\n",
    "zhongxin_rent['租金单价']=zhongxin_rent['价格']/zhongxin_rent['面积']\n",
    "print(zhongxin_rent['租金单价'].median())\n",
    "zhongxin_rent_df = pd.DataFrame({\"单价\":zhongxin_rent['租金单价'],\"location\":[\"中新生态城\"]*zhongxin_rent[\"租金单价\"].shape[0], \"面积/㎡\":zhongxin_rent['面积']})"
   ]
  },
  {
   "cell_type": "code",
   "execution_count": 32,
   "metadata": {},
   "outputs": [
    {
     "data": {
      "image/png": "[encoded data removed]",
      "text/plain": [
       "<Figure size 1000x600 with 1 Axes>"
      ]
     },
     "metadata": {},
     "output_type": "display_data"
    }
   ],
   "source": [
    "# 中位租售比\n",
    "plt.figure(figsize=(10, 6))\n",
    "locations =[\"quanyejie\",\"wuqing\",\"balitai\",\"zhongxin\"]\n",
    "median_rent = [quanyejie_rent['租金单价'].median(),wuqing_rent['租金单价'].median(),balitai_rent['租金单价'].median(),zhongxin_rent['租金单价'].median()]\n",
    "plt.bar(locations, median_rent, color=['blue', 'green', 'red', 'purple'])\n",
    "plt.xlabel('Location')\n",
    "plt.ylabel('Median Rent')\n",
    "plt.title('Median Rent by Location')\n",
    "plt.show()"
   ]
  },
  {
   "cell_type": "code",
   "execution_count": 92,
   "metadata": {},
   "outputs": [
    {
     "data": {
      "text/html": [
       "<div>\n",
       "<style scoped>\n",
       "    .dataframe tbody tr th:only-of-type {\n",
       "        vertical-align: middle;\n",
       "    }\n",
       "\n",
       "    .dataframe tbody tr th {\n",
       "        vertical-align: top;\n",
       "    }\n",
       "\n",
       "    .dataframe thead th {\n",
       "        text-align: right;\n",
       "    }\n",
       "</style>\n",
       "<table border=\"1\" class=\"dataframe\">\n",
       "  <thead>\n",
       "    <tr style=\"text-align: right;\">\n",
       "      <th></th>\n",
       "      <th>单价</th>\n",
       "      <th>location</th>\n",
       "      <th>面积/㎡</th>\n",
       "    </tr>\n",
       "  </thead>\n",
       "  <tbody>\n",
       "    <tr>\n",
       "      <th>0</th>\n",
       "      <td>5.000000</td>\n",
       "      <td>劝业街</td>\n",
       "      <td>55.00</td>\n",
       "    </tr>\n",
       "    <tr>\n",
       "      <th>1</th>\n",
       "      <td>4.347826</td>\n",
       "      <td>劝业街</td>\n",
       "      <td>21.85</td>\n",
       "    </tr>\n",
       "    <tr>\n",
       "      <th>2</th>\n",
       "      <td>5.689655</td>\n",
       "      <td>劝业街</td>\n",
       "      <td>17.40</td>\n",
       "    </tr>\n",
       "    <tr>\n",
       "      <th>3</th>\n",
       "      <td>4.500000</td>\n",
       "      <td>劝业街</td>\n",
       "      <td>24.00</td>\n",
       "    </tr>\n",
       "    <tr>\n",
       "      <th>4</th>\n",
       "      <td>4.326923</td>\n",
       "      <td>劝业街</td>\n",
       "      <td>22.88</td>\n",
       "    </tr>\n",
       "  </tbody>\n",
       "</table>\n",
       "</div>"
      ],
      "text/plain": [
       "         单价 location   面积/㎡\n",
       "0  5.000000      劝业街  55.00\n",
       "1  4.347826      劝业街  21.85\n",
       "2  5.689655      劝业街  17.40\n",
       "3  4.500000      劝业街  24.00\n",
       "4  4.326923      劝业街  22.88"
      ]
     },
     "execution_count": 92,
     "metadata": {},
     "output_type": "execute_result"
    }
   ],
   "source": [
    "df_rent_merged = pd.concat([quanyejie_rent_df, wuqing_rent_df, balitai_rent_df, zhongxin_rent_df])\n",
    "df_price_merged = pd.concat([quanyejie_price_df, wuqing_price_df, balitai_price_df, zhongxin_price_df])\n",
    "df_price_merged.head()"
   ]
  },
  {
   "cell_type": "code",
   "execution_count": 87,
   "metadata": {},
   "outputs": [
    {
     "name": "stdout",
     "output_type": "stream",
     "text": [
      "回归系数：\n",
      "[-6.56699039e+12  3.09725629e+10  3.09725629e+10  3.09725629e+10\n",
      "  3.09725629e+10  6.56699039e+12  6.56699039e+12  6.56699039e+12\n",
      "  6.56699039e+12]\n",
      "截距：\n",
      "-30972562878.125298\n",
      "R2：\n",
      "0.7650350302524203\n"
     ]
    }
   ],
   "source": [
    "# 租金多元回归\n",
    "df=pd.get_dummies(df_rent_merged,columns=['location'])\n",
    "df.head()\n",
    "df['interation_zhongxin']=df['location_中新生态城']*df['面积/㎡']\n",
    "df['interation_wuqing']=df['location_武清']*df['面积/㎡']\n",
    "df['interation_balitai']=df['location_八里台']*df['面积/㎡']\n",
    "df['interation_quanye']=df['location_劝业街']*df['面积/㎡']\n",
    "X=df[['面积/㎡','location_中新生态城','location_武清','location_八里台','location_劝业街','interation_zhongxin','interation_wuqing','interation_balitai','interation_quanye']]\n",
    "y=df[\"单价\"]\n",
    "\n",
    "model_rent = LinearRegression()\n",
    "model_rent.fit(X,y)\n",
    "\n",
    "print(\"回归系数：\")\n",
    "print(model_rent.coef_)\n",
    "print(\"截距：\")\n",
    "print(model_rent.intercept_)\n",
    "print(\"R2：\")\n",
    "print(model_rent.score(X, y))"
   ]
  },
  {
   "cell_type": "code",
   "execution_count": 94,
   "metadata": {},
   "outputs": [],
   "source": [
    "# 租金预测\n",
    "predict_data =pd.DataFrame({\n",
    "    '面积/㎡':[50,50,50,50],\n",
    "    'location_中新生态城':[1,0,0,0],\n",
    "    'location_武清':[0,1,0,0],\n",
    "    'location_八里台':[0,0,1,0],\n",
    "    'location_劝业街':[0,0,0,1],\n",
    "    'interation_zhongxin':[50,0,0,0],\n",
    "    'interation_wuqing':[0,50,0,0],\n",
    "    'interation_balitai':[0,0,50,0],\n",
    "    'interation_quanye':[0,0,0,50]\n",
    "})\n",
    "data_rent_1=model_rent.predict(predict_data)"
   ]
  },
  {
   "cell_type": "code",
   "execution_count": 95,
   "metadata": {},
   "outputs": [],
   "source": [
    "predict_data =pd.DataFrame({\n",
    "    '面积/㎡':[100,100,100,100],\n",
    "    'location_中新生态城':[1,0,0,0],\n",
    "    'location_武清':[0,1,0,0],\n",
    "    'location_八里台':[0,0,1,0],\n",
    "    'location_劝业街':[0,0,0,1],\n",
    "    'interation_zhongxin':[50,0,0,0],\n",
    "    'interation_wuqing':[0,50,0,0],\n",
    "    'interation_balitai':[0,0,50,0],\n",
    "    'interation_quanye':[0,0,0,50]\n",
    "})\n",
    "model_rent.predict(predict_data)\n",
    "data_rent_2=model_rent.predict(predict_data)"
   ]
  },
  {
   "cell_type": "code",
   "execution_count": null,
   "metadata": {},
   "outputs": [
    {
     "name": "stdout",
     "output_type": "stream",
     "text": [
      "回归系数：\n",
      "[-5.59941487e+10  2.16575930e+08  2.16575930e+08  2.16575931e+08\n",
      "  2.16575936e+08  5.59941487e+10  5.59941487e+10  5.59941487e+10\n",
      "  5.59941487e+10]\n",
      "截距：\n",
      "-216575929.323628\n",
      "R2：\n",
      "0.771054983759138\n"
     ]
    }
   ],
   "source": [
    "# 房价多元回归\n",
    "df=pd.get_dummies(df_price_merged,columns=['location'])\n",
    "df.head()\n",
    "df['interation_zhongxin']=df['location_中新生态城']*df['面积/㎡']\n",
    "df['interation_wuqing']=df['location_武清']*df['面积/㎡']\n",
    "df['interation_balitai']=df['location_八里台']*df['面积/㎡']\n",
    "df['interation_quanyejie']=df['location_劝业街']*df['面积/㎡']\n",
    "X=df[['面积/㎡','location_中新生态城','location_武清','location_八里台','location_劝业街','interation_zhongxin','interation_wuqing','interation_balitai','interation_quanyejie']]\n",
    "y=df[\"\"]\n",
    "\n",
    "model_price = LinearRegression()\n",
    "model_price.fit(X,y)\n",
    "\n",
    "print(\"回归系数：\")\n",
    "print(model_price.coef_)\n",
    "print(\"截距：\")\n",
    "print(model_price.intercept_)\n",
    "print(\"R2：\")\n",
    "print(model_price.score(X, y))"
   ]
  },
  {
   "cell_type": "code",
   "execution_count": 98,
   "metadata": {},
   "outputs": [],
   "source": [
    "# 房价预测\n",
    "predict_data =pd.DataFrame({\n",
    "    '面积/㎡':[50,50,50,50],\n",
    "    'location_中新生态城':[1,0,0,0],\n",
    "    'location_武清':[0,1,0,0],\n",
    "    'location_八里台':[0,0,1,0],\n",
    "    'location_劝业街':[0,0,0,1],\n",
    "    'interation_zhongxin':[50,0,0,0],\n",
    "    'interation_wuqing':[0,50,0,0],\n",
    "    'interation_balitai':[0,0,50,0],\n",
    "    'interation_quanyejie':[0,0,0,50]\n",
    "})\n",
    "data_price_1=model_price.predict(predict_data)"
   ]
  },
  {
   "cell_type": "code",
   "execution_count": 99,
   "metadata": {},
   "outputs": [],
   "source": [
    "predict_data =pd.DataFrame({\n",
    "    '面积/㎡':[100,100,100,100],\n",
    "    'location_中新生态城':[1,0,0,0],\n",
    "    'location_武清':[0,1,0,0],\n",
    "    'location_八里台':[0,0,1,0],\n",
    "    'location_劝业街':[0,0,0,1],\n",
    "    'interation_zhongxin':[50,0,0,0],\n",
    "    'interation_wuqing':[0,50,0,0],\n",
    "    'interation_balitai':[0,0,50,0],\n",
    "    'interation_quanyejie':[0,0,0,50]\n",
    "})\n",
    "data_price_2=model_price.predict(predict_data)"
   ]
  },
  {
   "cell_type": "code",
   "execution_count": 101,
   "metadata": {},
   "outputs": [
    {
     "data": {
      "image/png": "[encoded data removed]",
      "text/plain": [
       "<Figure size 1000x600 with 1 Axes>"
      ]
     },
     "metadata": {},
     "output_type": "display_data"
    }
   ],
   "source": [
    "# 租金房价比\n",
    "plt.figure(figsize=(10, 6))\n",
    "locations =[\"zhongxin\",\"wuqing\",\"balitai\",\"quanyejie\"]\n",
    "price_to_rent = [data_price_1[0]/data_rent_1[0],data_price_1[1]/data_rent_1[1],data_price_1[2]/data_rent_1[2],data_price_1[3]/data_rent_1[3]]\n",
    "plt.bar(locations, price_to_rent, color=['blue', 'green', 'red', 'purple'])\n",
    "plt.xlabel('Location')\n",
    "plt.ylabel('Rent to Price Ratio')\n",
    "plt.title('Rent to Price Ratio by Location')\n",
    "plt.show()"
   ]
  }
 ],
 "metadata": {
  "kernelspec": {
   "display_name": "base",
   "language": "python",
   "name": "python3"
  },
  "language_info": {
   "codemirror_mode": {
    "name": "ipython",
    "version": 3
   },
   "file_extension": ".py",
   "mimetype": "text/x-python",
   "name": "python",
   "nbconvert_exporter": "python",
   "pygments_lexer": "ipython3",
   "version": "3.12.7"
  }
 },
 "nbformat": 4,
 "nbformat_minor": 2
}
