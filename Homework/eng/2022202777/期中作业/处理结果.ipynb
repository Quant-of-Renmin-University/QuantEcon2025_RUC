{
 "cells": [
  {
   "cell_type": "code",
   "execution_count": 1,
   "metadata": {},
   "outputs": [
    {
     "name": "stdout",
     "output_type": "stream",
     "text": [
      "文件 预测结果/merged_predictions.csv 已修正\n"
     ]
    }
   ],
   "source": [
    "import pandas as pd\n",
    "\n",
    "def check_and_correct_predictions(merged_file):\n",
    "    df = pd.read_csv(merged_file)\n",
    "    \n",
    "    if '预测价格' in df.columns and '地理位置评分' in df.columns and '建筑面积' in df.columns:\n",
    "        # 替换负值\n",
    "        mask = df['预测价格'] < 0\n",
    "        df.loc[mask, '预测价格'] = df.loc[mask, '地理位置评分'] * df.loc[mask, '建筑面积']\n",
    "        \n",
    "        # 将预测结果转换为整数\n",
    "        df['预测价格'] = df['预测价格'].astype(int)\n",
    "        \n",
    "        # 保存修改后的文件\n",
    "        df.to_csv(merged_file, index=False, encoding='utf-8-sig')\n",
    "        print(f\"文件 {merged_file} 已修正\")\n",
    "    else:\n",
    "        print(f\"文件 {merged_file} 缺少必要的列，无法处理\")\n",
    "\n",
    "# 使用示例\n",
    "merged_file = \"预测结果/merged_predictions.csv\"\n",
    "check_and_correct_predictions(merged_file)\n"
   ]
  }
 ],
 "metadata": {
  "kernelspec": {
   "display_name": "base",
   "language": "python",
   "name": "python3"
  },
  "language_info": {
   "codemirror_mode": {
    "name": "ipython",
    "version": 3
   },
   "file_extension": ".py",
   "mimetype": "text/x-python",
   "name": "python",
   "nbconvert_exporter": "python",
   "pygments_lexer": "ipython3",
   "version": "3.12.7"
  }
 },
 "nbformat": 4,
 "nbformat_minor": 2
}
