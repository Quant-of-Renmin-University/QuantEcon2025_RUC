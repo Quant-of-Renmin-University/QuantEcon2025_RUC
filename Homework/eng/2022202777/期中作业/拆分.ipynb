{
 "cells": [
  {
   "cell_type": "code",
   "execution_count": 2,
   "metadata": {},
   "outputs": [],
   "source": [
    "import pandas as pd\n",
    "import numpy as np"
   ]
  },
  {
   "cell_type": "code",
   "execution_count": 4,
   "metadata": {},
   "outputs": [],
   "source": [
    "# 拆分数据集\n",
    "def split_csv_by_city(file_path: str, output_prefix: str):\n",
    "    # 读取 CSV 文件\n",
    "    df = pd.read_csv(file_path)\n",
    "    \n",
    "    # 按照城市列的值进行拆分\n",
    "    for city_value in range(7): \n",
    "        city_df = df[df['城市'] == city_value]\n",
    "        city_df.to_csv(f\"{output_prefix}_{city_value}test.csv\", index=False)\n",
    "split_csv_by_city(\"test_result.csv\", \"output\")"
   ]
  }
 ],
 "metadata": {
  "kernelspec": {
   "display_name": "base",
   "language": "python",
   "name": "python3"
  },
  "language_info": {
   "codemirror_mode": {
    "name": "ipython",
    "version": 3
   },
   "file_extension": ".py",
   "mimetype": "text/x-python",
   "name": "python",
   "nbconvert_exporter": "python",
   "pygments_lexer": "ipython3",
   "version": "3.12.7"
  }
 },
 "nbformat": 4,
 "nbformat_minor": 2
}
