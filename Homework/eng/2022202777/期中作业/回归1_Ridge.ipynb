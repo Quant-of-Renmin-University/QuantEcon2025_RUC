{
 "cells": [
  {
   "cell_type": "code",
   "execution_count": 1,
   "metadata": {},
   "outputs": [
    {
     "name": "stdout",
     "output_type": "stream",
     "text": [
      "Ridge 回归评估:\n",
      "  In-sample MSE: 2257082941765.1538\n",
      "  Out-of-sample MSE: 1954398736116.9805\n",
      "  Cross-validation MSE: 3354976174628.9268\n",
      "预测结果已保存: D:/RUCer/大三下/ai_python/2022202777/期中/预测结果/预测结果Ridge.csv\n"
     ]
    }
   ],
   "source": [
    "import os\n",
    "import pandas as pd\n",
    "import numpy as np\n",
    "from sklearn.linear_model import Ridge\n",
    "from sklearn.preprocessing import StandardScaler\n",
    "from sklearn.model_selection import train_test_split, cross_val_score\n",
    "from sklearn.metrics import mean_squared_error\n",
    "\n",
    "def process_data(file_path):\n",
    "    df = pd.read_csv(file_path)\n",
    "    \n",
    "    if '价格' in df.columns:\n",
    "        Y = df['价格']\n",
    "    else:\n",
    "        Y = None\n",
    "    \n",
    "    feature_cols = ['地理位置评分', '建筑面积', '层高', '层型', '建筑结构', '装修情况', '房屋用途', '房屋年限', '梯户比']\n",
    "    X = df.filter(items=feature_cols)\n",
    "    \n",
    "    categorical_cols = X.select_dtypes(include=['object']).columns.tolist()\n",
    "    numerical_cols = X.select_dtypes(include=['number']).columns.tolist()\n",
    "    \n",
    "    X_categorical = pd.get_dummies(X[categorical_cols], drop_first=True)\n",
    "    X_numerical = X[numerical_cols].fillna(X[numerical_cols].mean())\n",
    "    \n",
    "    scaler = StandardScaler()\n",
    "    X_numerical_scaled = scaler.fit_transform(X_numerical)\n",
    "    X_numerical_scaled = pd.DataFrame(X_numerical_scaled, columns=numerical_cols)\n",
    "    \n",
    "    X_processed = pd.concat([X_numerical_scaled, X_categorical], axis=1)\n",
    "    \n",
    "    return X_processed, Y, scaler, categorical_cols\n",
    "\n",
    "def train_and_predict(train_file, test_file, output_file, alpha=1.0):\n",
    "    X, Y, scaler, categorical_cols = process_data(train_file)\n",
    "    X_train, X_test, Y_train, Y_test = train_test_split(X, Y, test_size=0.2, random_state=111)\n",
    "    \n",
    "    model = Ridge(alpha=alpha)\n",
    "    model.fit(X_train, Y_train)\n",
    "    \n",
    "    Y_train_pred = model.predict(X_train)\n",
    "    in_sample_mse = mean_squared_error(Y_train, Y_train_pred)\n",
    "    \n",
    "    Y_test_pred = model.predict(X_test)\n",
    "    out_sample_mse = mean_squared_error(Y_test, Y_test_pred)\n",
    "    \n",
    "    # 交叉验证\n",
    "    cv_scores = cross_val_score(model, X, Y, cv=5, scoring='neg_mean_squared_error')\n",
    "    cv_mse = -np.mean(cv_scores)\n",
    "    \n",
    "    print(f\"Ridge 回归评估:\")\n",
    "    print(f\"  In-sample MSE: {in_sample_mse:.4f}\")\n",
    "    print(f\"  Out-of-sample MSE: {out_sample_mse:.4f}\")\n",
    "    print(f\"  Cross-validation MSE: {cv_mse:.4f}\")\n",
    "    \n",
    "    # 处理测试集并预测\n",
    "    X_test_data, _, _, _ = process_data(test_file)\n",
    "    X_test_data = X_test_data.reindex(columns=X.columns, fill_value=0)\n",
    "    predictions = model.predict(X_test_data)\n",
    "    \n",
    "    df_test = pd.read_csv(test_file)\n",
    "    df_test['预测价格'] = predictions\n",
    "    df_test.to_csv(output_file, index=False, encoding='utf-8-sig')\n",
    "    print(f\"预测结果已保存: {output_file}\")\n",
    "\n",
    "# 直接处理一个训练集和一个测试集\n",
    "train_file = \"一次分类数据/merged_results.csv\"\n",
    "test_file = \"一次测试数据/merged_results.csv\"\n",
    "output_file = \"D:/RUCer/大三下/ai_python/2022202777/期中/预测结果/预测结果Ridge.csv\"\n",
    "\n",
    "train_and_predict(train_file, test_file, output_file, alpha=0.5)\n"
   ]
  }
 ],
 "metadata": {
  "kernelspec": {
   "display_name": "base",
   "language": "python",
   "name": "python3"
  },
  "language_info": {
   "codemirror_mode": {
    "name": "ipython",
    "version": 3
   },
   "file_extension": ".py",
   "mimetype": "text/x-python",
   "name": "python",
   "nbconvert_exporter": "python",
   "pygments_lexer": "ipython3",
   "version": "3.12.7"
  }
 },
 "nbformat": 4,
 "nbformat_minor": 2
}
