{
 "cells": [
  {
   "cell_type": "code",
   "execution_count": 1,
   "id": "ca53004b-e864-4ee4-9217-17426a3997f4",
   "metadata": {},
   "outputs": [],
   "source": [
    "from selenium import webdriver\n",
    "import pandas as pd\n",
    "from selenium.webdriver.common.by import By\n",
    "import matplotlib.pyplot as plt\n",
    "import numpy as np\n",
    "from sklearn.preprocessing import OneHotEncoder\n",
    "import statsmodels.formula.api as smf\n",
    "import seaborn as sns"
   ]
  },
  {
   "cell_type": "markdown",
   "id": "1330e7b0-4899-4d7a-8c80-1f814073d69c",
   "metadata": {},
   "source": [
    "### 1、二手房网数据爬取-北京昌平霍营"
   ]
  },
  {
   "cell_type": "code",
   "execution_count": 2,
   "id": "c660f98c-6860-4b56-9518-e35897f8c0ad",
   "metadata": {},
   "outputs": [],
   "source": [
    "driver=webdriver.Edge()\n",
    "#北京昌平霍营的网址\n",
    "url=\"https://esf.fang.com/house-a012-b02697/\"\n",
    "driver.get(url)"
   ]
  },
  {
   "cell_type": "code",
   "execution_count": 3,
   "id": "06238830-8e02-4ade-88cd-e73743073c03",
   "metadata": {},
   "outputs": [],
   "source": [
    "string_list=[]\n",
    "#在每一页跑循环，把文本分别爬下来，因为一共只有7页，所以循环7次即可\n",
    "for page in range(1,8):\n",
    "    url = f\"https://esf.fang.com/house-a012-b02697/i{page+30}/\"\n",
    "    table =driver.find_element('class name','shop_list.shop_list_4')\n",
    "    dls = table.find_elements(By.TAG_NAME, 'dl')\n",
    "    data = []\n",
    "    \n",
    "    for dl in dls:\n",
    "        cells = dl.find_elements(By.TAG_NAME, 'dd')\n",
    "        if cells:\n",
    "            dl_data = [cell.text for cell in cells]\n",
    "            data.append(dl_data)\n",
    "    df = pd.DataFrame(data)\n",
    "    string_list.append(df)"
   ]
  },
  {
   "cell_type": "code",
   "execution_count": 4,
   "id": "ca8997c5-13a5-4690-8b1b-ab93f6ae0dc0",
   "metadata": {},
   "outputs": [],
   "source": [
    "string_list2 = string_list[0]"
   ]
  },
  {
   "cell_type": "code",
   "execution_count": 5,
   "id": "343715da-cbe4-4053-95f0-53d3922cf96a",
   "metadata": {},
   "outputs": [],
   "source": [
    "#处理文本数据，列入DataFrame里面。\n",
    "#因为有些有双重验真，导致用\\n分割会出现问题，所以先替换后分割\n",
    "string_list2[0] = [s.replace(\"\\n双重验真\", \"_双重验真\", 1) for s in string_list2[0]]\n",
    "\n",
    "#拆分数据并拼到一个DataFrame里面\n",
    "df1=string_list2[0].str.split('\\n',expand=True)\n",
    "df2=string_list2[1].str.split('\\n',expand=True)\n",
    "df2.columns = ['总价(万)','单位价格(元/㎡)']\n",
    "info1 = pd.concat([df1,df2],axis=1)"
   ]
  },
  {
   "cell_type": "code",
   "execution_count": 6,
   "id": "32147b41-7100-41b8-ac33-e1a66d18f3ed",
   "metadata": {},
   "outputs": [
    {
     "data": {
      "text/html": [
       "<div>\n",
       "<style scoped>\n",
       "    .dataframe tbody tr th:only-of-type {\n",
       "        vertical-align: middle;\n",
       "    }\n",
       "\n",
       "    .dataframe tbody tr th {\n",
       "        vertical-align: top;\n",
       "    }\n",
       "\n",
       "    .dataframe thead th {\n",
       "        text-align: right;\n",
       "    }\n",
       "</style>\n",
       "<table border=\"1\" class=\"dataframe\">\n",
       "  <thead>\n",
       "    <tr style=\"text-align: right;\">\n",
       "      <th></th>\n",
       "      <th>0</th>\n",
       "      <th>2</th>\n",
       "      <th>3</th>\n",
       "      <th>4</th>\n",
       "      <th>5</th>\n",
       "      <th>6</th>\n",
       "      <th>7</th>\n",
       "      <th>8</th>\n",
       "      <th>总价(万)</th>\n",
       "      <th>单位价格(元/㎡)</th>\n",
       "      <th>出租区域</th>\n",
       "      <th>面积(㎡)</th>\n",
       "      <th>其他信息</th>\n",
       "    </tr>\n",
       "  </thead>\n",
       "  <tbody>\n",
       "    <tr>\n",
       "      <th>0</th>\n",
       "      <td>北五环外昌平霍营 紫金书院!,人大fu中,靓妆交房,</td>\n",
       "      <td>紫金书院</td>\n",
       "      <td>霍营-回龙观东侧霍营</td>\n",
       "      <td>None</td>\n",
       "      <td>None</td>\n",
       "      <td>None</td>\n",
       "      <td>None</td>\n",
       "      <td>None</td>\n",
       "      <td>717.0</td>\n",
       "      <td>64951.0</td>\n",
       "      <td>3室2厅</td>\n",
       "      <td>110.39</td>\n",
       "      <td>低层 （共10层） | 南北向 | 2024年建 |白海涛</td>\n",
       "    </tr>\n",
       "    <tr>\n",
       "      <th>1</th>\n",
       "      <td>精装修交付 回龙观高端改善盘 核心C位 三轨交汇 配套完善</td>\n",
       "      <td>紫金书院</td>\n",
       "      <td>霍营-回龙观东侧霍营</td>\n",
       "      <td>None</td>\n",
       "      <td>None</td>\n",
       "      <td>None</td>\n",
       "      <td>None</td>\n",
       "      <td>None</td>\n",
       "      <td>935.0</td>\n",
       "      <td>65434.0</td>\n",
       "      <td>5室2厅</td>\n",
       "      <td>142.89</td>\n",
       "      <td>低层 （共10层） | 南北向 | 2024年建 |白海涛</td>\n",
       "    </tr>\n",
       "    <tr>\n",
       "      <th>2</th>\n",
       "      <td>回龙观 霍营 紫金新干线 南北两居室 近地铁 有商业_双重验真</td>\n",
       "      <td>紫金新干线</td>\n",
       "      <td>霍营-昌平区霍营东路与回龙观东大街交汇处东南角</td>\n",
       "      <td>满五</td>\n",
       "      <td>None</td>\n",
       "      <td>None</td>\n",
       "      <td>None</td>\n",
       "      <td>None</td>\n",
       "      <td>370.0</td>\n",
       "      <td>42548.0</td>\n",
       "      <td>2室1厅</td>\n",
       "      <td>86.96</td>\n",
       "      <td>顶层 （共6层） | 南向 | 2009年建 |钟伏章</td>\n",
       "    </tr>\n",
       "    <tr>\n",
       "      <th>3</th>\n",
       "      <td>北五环外昌平霍营 紫金书院! 靓妆交房 人大fu中</td>\n",
       "      <td>紫金书院</td>\n",
       "      <td>霍营-回龙观东侧霍营</td>\n",
       "      <td>None</td>\n",
       "      <td>None</td>\n",
       "      <td>None</td>\n",
       "      <td>None</td>\n",
       "      <td>None</td>\n",
       "      <td>680.0</td>\n",
       "      <td>61756.0</td>\n",
       "      <td>3室2厅</td>\n",
       "      <td>110.11</td>\n",
       "      <td>底层 （共10层） | 南北向 | 2024年建 |白海涛</td>\n",
       "    </tr>\n",
       "    <tr>\n",
       "      <th>4</th>\n",
       "      <td>特价 现房好楼层 紫金书院 霍营地铁旁680万起</td>\n",
       "      <td>紫金书院</td>\n",
       "      <td>霍营-回龙观东侧霍营</td>\n",
       "      <td>配套成熟</td>\n",
       "      <td>小区中心</td>\n",
       "      <td>首付低</td>\n",
       "      <td>None</td>\n",
       "      <td>None</td>\n",
       "      <td>706.0</td>\n",
       "      <td>63603.0</td>\n",
       "      <td>3室2厅</td>\n",
       "      <td>111.00</td>\n",
       "      <td>底层 （共6层） | 南北向 | 2025年建 |郭玲玲</td>\n",
       "    </tr>\n",
       "  </tbody>\n",
       "</table>\n",
       "</div>"
      ],
      "text/plain": [
       "                                 0      2                        3     4  \\\n",
       "0       北五环外昌平霍营 紫金书院!,人大fu中,靓妆交房,   紫金书院               霍营-回龙观东侧霍营  None   \n",
       "1    精装修交付 回龙观高端改善盘 核心C位 三轨交汇 配套完善   紫金书院               霍营-回龙观东侧霍营  None   \n",
       "2  回龙观 霍营 紫金新干线 南北两居室 近地铁 有商业_双重验真  紫金新干线  霍营-昌平区霍营东路与回龙观东大街交汇处东南角    满五   \n",
       "3        北五环外昌平霍营 紫金书院! 靓妆交房 人大fu中   紫金书院               霍营-回龙观东侧霍营  None   \n",
       "4         特价 现房好楼层 紫金书院 霍营地铁旁680万起   紫金书院               霍营-回龙观东侧霍营  配套成熟   \n",
       "\n",
       "      5     6     7     8  总价(万)  单位价格(元/㎡)   出租区域   面积(㎡)  \\\n",
       "0  None  None  None  None  717.0    64951.0  3室2厅   110.39   \n",
       "1  None  None  None  None  935.0    65434.0  5室2厅   142.89   \n",
       "2  None  None  None  None  370.0    42548.0  2室1厅    86.96   \n",
       "3  None  None  None  None  680.0    61756.0  3室2厅   110.11   \n",
       "4  小区中心   首付低  None  None  706.0    63603.0  3室2厅   111.00   \n",
       "\n",
       "                             其他信息  \n",
       "0   低层 （共10层） | 南北向 | 2024年建 |白海涛  \n",
       "1   低层 （共10层） | 南北向 | 2024年建 |白海涛  \n",
       "2     顶层 （共6层） | 南向 | 2009年建 |钟伏章  \n",
       "3   底层 （共10层） | 南北向 | 2024年建 |白海涛  \n",
       "4    底层 （共6层） | 南北向 | 2025年建 |郭玲玲  "
      ]
     },
     "execution_count": 6,
     "metadata": {},
     "output_type": "execute_result"
    }
   ],
   "source": [
    "#去除单位，把str格式换成float（因为有一个有小数点）\n",
    "info1['总价(万)'] = info1['总价(万)'].apply(lambda x:x[:-1])\n",
    "info1['单位价格(元/㎡)'] = info1['单位价格(元/㎡)'].apply(lambda x:x[:-3])\n",
    "info1[['总价(万)','单位价格(元/㎡)']]=info1[['总价(万)','单位价格(元/㎡)']].astype('float')\n",
    "\n",
    "#把m2信息分割出来并换格式\n",
    "info1[['出租区域','面积(㎡)','其他信息']] = info1[1].str.split('|', n=2, expand=True)\n",
    "info1 = info1.drop(columns=[1])\n",
    "info1['面积(㎡)'] = info1['面积(㎡)'].apply(lambda x:x[:-2]).astype('float')\n",
    "\n",
    "info1.head()"
   ]
  },
  {
   "cell_type": "code",
   "execution_count": 8,
   "id": "4b91704e-f985-482e-9347-f830053a58fc",
   "metadata": {},
   "outputs": [
    {
     "data": {
      "text/html": [
       "<div>\n",
       "<style scoped>\n",
       "    .dataframe tbody tr th:only-of-type {\n",
       "        vertical-align: middle;\n",
       "    }\n",
       "\n",
       "    .dataframe tbody tr th {\n",
       "        vertical-align: top;\n",
       "    }\n",
       "\n",
       "    .dataframe thead th {\n",
       "        text-align: right;\n",
       "    }\n",
       "</style>\n",
       "<table border=\"1\" class=\"dataframe\">\n",
       "  <thead>\n",
       "    <tr style=\"text-align: right;\">\n",
       "      <th></th>\n",
       "      <th>总价(万)</th>\n",
       "      <th>单位价格(元/㎡)</th>\n",
       "      <th>面积(㎡)</th>\n",
       "    </tr>\n",
       "  </thead>\n",
       "  <tbody>\n",
       "    <tr>\n",
       "      <th>count</th>\n",
       "      <td>60.00000</td>\n",
       "      <td>60.000000</td>\n",
       "      <td>60.000000</td>\n",
       "    </tr>\n",
       "    <tr>\n",
       "      <th>mean</th>\n",
       "      <td>474.31500</td>\n",
       "      <td>48714.266667</td>\n",
       "      <td>96.572667</td>\n",
       "    </tr>\n",
       "    <tr>\n",
       "      <th>std</th>\n",
       "      <td>159.16785</td>\n",
       "      <td>9345.166505</td>\n",
       "      <td>22.126887</td>\n",
       "    </tr>\n",
       "    <tr>\n",
       "      <th>min</th>\n",
       "      <td>240.00000</td>\n",
       "      <td>29036.000000</td>\n",
       "      <td>48.960000</td>\n",
       "    </tr>\n",
       "    <tr>\n",
       "      <th>25%</th>\n",
       "      <td>373.75000</td>\n",
       "      <td>41936.250000</td>\n",
       "      <td>88.280000</td>\n",
       "    </tr>\n",
       "    <tr>\n",
       "      <th>50%</th>\n",
       "      <td>419.00000</td>\n",
       "      <td>45060.000000</td>\n",
       "      <td>89.850000</td>\n",
       "    </tr>\n",
       "    <tr>\n",
       "      <th>75%</th>\n",
       "      <td>528.00000</td>\n",
       "      <td>56880.000000</td>\n",
       "      <td>103.385000</td>\n",
       "    </tr>\n",
       "    <tr>\n",
       "      <th>max</th>\n",
       "      <td>935.00000</td>\n",
       "      <td>65434.000000</td>\n",
       "      <td>173.080000</td>\n",
       "    </tr>\n",
       "  </tbody>\n",
       "</table>\n",
       "</div>"
      ],
      "text/plain": [
       "           总价(万)     单位价格(元/㎡)       面积(㎡)\n",
       "count   60.00000     60.000000   60.000000\n",
       "mean   474.31500  48714.266667   96.572667\n",
       "std    159.16785   9345.166505   22.126887\n",
       "min    240.00000  29036.000000   48.960000\n",
       "25%    373.75000  41936.250000   88.280000\n",
       "50%    419.00000  45060.000000   89.850000\n",
       "75%    528.00000  56880.000000  103.385000\n",
       "max    935.00000  65434.000000  173.080000"
      ]
     },
     "execution_count": 8,
     "metadata": {},
     "output_type": "execute_result"
    }
   ],
   "source": [
    "#总体描述\n",
    "info1.describe()"
   ]
  },
  {
   "cell_type": "markdown",
   "id": "1d3fdac0-fc13-45ca-89e7-613e7b618972",
   "metadata": {},
   "source": [
    "离群值分析："
   ]
  },
  {
   "cell_type": "code",
   "execution_count": 11,
   "id": "4a3a95fe-28fa-42b4-834c-7bd9c8ce43d9",
   "metadata": {},
   "outputs": [
    {
     "data": {
      "image/png": "[encoded data removed]",
      "text/plain": [
       "<Figure size 1500x500 with 3 Axes>"
      ]
     },
     "metadata": {},
     "output_type": "display_data"
    }
   ],
   "source": [
    "#用箱型图找出离群值\n",
    "plot_list = ['总价(万)','单位价格(元/㎡)','面积(㎡)']\n",
    "fig, axes = plt.subplots(1, 3, figsize=(15, 5))\n",
    "for i, column in enumerate(plot_list):\n",
    "    axes[i].boxplot(info1[column]) \n",
    "plt.tight_layout()\n",
    "plt.show()"
   ]
  },
  {
   "cell_type": "markdown",
   "id": "be7c2c46-12cb-4854-a5f9-0a1f1fa09d6f",
   "metadata": {},
   "source": [
    "由图像可知，总价有3个离群值在上方，单位价格无离群值，面积有很多离群值在上方。"
   ]
  },
  {
   "cell_type": "markdown",
   "id": "df05bdb0-cec1-4c9c-9366-cf577db62601",
   "metadata": {},
   "source": [
    "### 2、租房网数据爬取-北京昌平霍营"
   ]
  },
  {
   "cell_type": "code",
   "execution_count": 12,
   "id": "39770cc9-22b8-42ff-8de8-6cf296e28e4e",
   "metadata": {},
   "outputs": [],
   "source": [
    "#租房网：北京昌平霍营\n",
    "url2=\"https://zu.fang.com/house-a012-b02697/\"\n",
    "driver.get(url2)"
   ]
  },
  {
   "cell_type": "code",
   "execution_count": 13,
   "id": "649a5637-99dd-4e89-84c9-e42040faea57",
   "metadata": {},
   "outputs": [],
   "source": [
    "#因为只有一页，所以直接爬数据\n",
    "string_list2=[]\n",
    "table =driver.find_element('class name','houseList')\n",
    "dls = table.find_elements(By.TAG_NAME, 'dl')\n",
    "data = []\n",
    "for dl in dls: \n",
    "    cells = dl.find_elements(By.TAG_NAME, 'dd')\n",
    "    if cells:\n",
    "        dl_data = [cell.text for cell in cells]\n",
    "        data.append(dl_data)\n",
    "df = pd.DataFrame(data)\n",
    "string_list2.append(df)"
   ]
  },
  {
   "cell_type": "code",
   "execution_count": 14,
   "id": "df2cd935-0c26-48af-9049-af3ae4aeb132",
   "metadata": {},
   "outputs": [
    {
     "data": {
      "text/html": [
       "<div>\n",
       "<style scoped>\n",
       "    .dataframe tbody tr th:only-of-type {\n",
       "        vertical-align: middle;\n",
       "    }\n",
       "\n",
       "    .dataframe tbody tr th {\n",
       "        vertical-align: top;\n",
       "    }\n",
       "\n",
       "    .dataframe thead th {\n",
       "        text-align: right;\n",
       "    }\n",
       "</style>\n",
       "<table border=\"1\" class=\"dataframe\">\n",
       "  <thead>\n",
       "    <tr style=\"text-align: right;\">\n",
       "      <th></th>\n",
       "      <th>0</th>\n",
       "      <th>2</th>\n",
       "      <th>3</th>\n",
       "      <th>月租价格(元/月)</th>\n",
       "      <th>出租方式</th>\n",
       "      <th>出租区域</th>\n",
       "      <th>面积(㎡)</th>\n",
       "      <th>朝向</th>\n",
       "      <th>单位月租价格(元/月/㎡)</th>\n",
       "    </tr>\n",
       "  </thead>\n",
       "  <tbody>\n",
       "    <tr>\n",
       "      <th>0</th>\n",
       "      <td>三旗百汇 龙旗广场 黄平路 育新地铁 免佣</td>\n",
       "      <td>昌平-霍营-新康园</td>\n",
       "      <td>距8号线育新站约730米。\\n交通便利周边配套齐南北通透</td>\n",
       "      <td>1000.0</td>\n",
       "      <td>整租</td>\n",
       "      <td>3室1厅</td>\n",
       "      <td>65.0</td>\n",
       "      <td>朝东南</td>\n",
       "      <td>15.384615</td>\n",
       "    </tr>\n",
       "    <tr>\n",
       "      <th>1</th>\n",
       "      <td>免佣 可月付 霍营 回龙观东大街 旗胜家园精装修南北</td>\n",
       "      <td>昌平-霍营-旗胜家园</td>\n",
       "      <td>距13号线霍营站约521米。\\n交通便利周边配套齐采光好</td>\n",
       "      <td>4000.0</td>\n",
       "      <td>整租</td>\n",
       "      <td>2室1厅</td>\n",
       "      <td>65.0</td>\n",
       "      <td>朝南北</td>\n",
       "      <td>61.538462</td>\n",
       "    </tr>\n",
       "    <tr>\n",
       "      <th>2</th>\n",
       "      <td>回龙观东大街 黄平路 农业农村干部管理学院</td>\n",
       "      <td>昌平-霍营-华龙苑中里</td>\n",
       "      <td>距8号线回龙观东大街站约782米。\\n交通便利周边配套齐南北通透</td>\n",
       "      <td>1000.0</td>\n",
       "      <td>合租主卧</td>\n",
       "      <td>3户合租</td>\n",
       "      <td>16.0</td>\n",
       "      <td>朝南北</td>\n",
       "      <td>62.500000</td>\n",
       "    </tr>\n",
       "    <tr>\n",
       "      <th>3</th>\n",
       "      <td>超值优惠! 华龙苑中里 2室,装修不错,有家具的!</td>\n",
       "      <td>昌平-霍营-华龙苑中里</td>\n",
       "      <td>距8号线回龙观东大街站约782米。\\n首次出租南北通透</td>\n",
       "      <td>5200.0</td>\n",
       "      <td>整租</td>\n",
       "      <td>2室1厅</td>\n",
       "      <td>56.0</td>\n",
       "      <td>朝南</td>\n",
       "      <td>92.857143</td>\n",
       "    </tr>\n",
       "    <tr>\n",
       "      <th>4</th>\n",
       "      <td>合租·旗胜家园 3居室 北卧</td>\n",
       "      <td>昌平-霍营-旗胜家园</td>\n",
       "      <td>距13号线霍营站约521米。\\n首次出租南北通透</td>\n",
       "      <td>1460.0</td>\n",
       "      <td>合租主卧</td>\n",
       "      <td>2户合租</td>\n",
       "      <td>8.0</td>\n",
       "      <td>朝北</td>\n",
       "      <td>182.500000</td>\n",
       "    </tr>\n",
       "  </tbody>\n",
       "</table>\n",
       "</div>"
      ],
      "text/plain": [
       "                            0            2                                 3  \\\n",
       "0       三旗百汇 龙旗广场 黄平路 育新地铁 免佣    昌平-霍营-新康园      距8号线育新站约730米。\\n交通便利周边配套齐南北通透   \n",
       "1  免佣 可月付 霍营 回龙观东大街 旗胜家园精装修南北   昌平-霍营-旗胜家园      距13号线霍营站约521米。\\n交通便利周边配套齐采光好   \n",
       "2       回龙观东大街 黄平路 农业农村干部管理学院  昌平-霍营-华龙苑中里  距8号线回龙观东大街站约782米。\\n交通便利周边配套齐南北通透   \n",
       "3   超值优惠! 华龙苑中里 2室,装修不错,有家具的!  昌平-霍营-华龙苑中里       距8号线回龙观东大街站约782米。\\n首次出租南北通透   \n",
       "4              合租·旗胜家园 3居室 北卧   昌平-霍营-旗胜家园          距13号线霍营站约521米。\\n首次出租南北通透   \n",
       "\n",
       "   月租价格(元/月)  出租方式  出租区域  面积(㎡)   朝向  单位月租价格(元/月/㎡)  \n",
       "0     1000.0    整租  3室1厅   65.0  朝东南      15.384615  \n",
       "1     4000.0    整租  2室1厅   65.0  朝南北      61.538462  \n",
       "2     1000.0  合租主卧  3户合租   16.0  朝南北      62.500000  \n",
       "3     5200.0    整租  2室1厅   56.0   朝南      92.857143  \n",
       "4     1460.0  合租主卧  2户合租    8.0   朝北     182.500000  "
      ]
     },
     "execution_count": 14,
     "metadata": {},
     "output_type": "execute_result"
    }
   ],
   "source": [
    "#数据处理\n",
    "string_list2 = pd.DataFrame(string_list2[0])\n",
    "info2 = string_list2[0].str.split('\\n', n=3, expand=True)\n",
    "\n",
    "#分出月租价格并转换格式\n",
    "info2[[3, '月租价格(元/月)']] = info2[3].str.rsplit('\\n', n=1, expand=True)\n",
    "info2['月租价格(元/月)'] = info2['月租价格(元/月)'].apply(lambda x:x[:-3]).astype('float')\n",
    "\n",
    "#拆出m2数据并转换格式\n",
    "info2[['出租方式','出租区域','面积(㎡)','朝向']] = info2[1].str.rsplit('|', n=3, expand=True)\n",
    "info2['面积(㎡)'] = info2['面积(㎡)'].apply(lambda x:x[:-1]).astype('float')\n",
    "\n",
    "#计算单位月租价格\n",
    "info2['单位月租价格(元/月/㎡)'] = info2['月租价格(元/月)']/info2['面积(㎡)']\n",
    "\n",
    "info2 = info2.drop(columns=[1])\n",
    "\n",
    "info2.head()"
   ]
  },
  {
   "cell_type": "code",
   "execution_count": 15,
   "id": "1c54c6e0-44b2-47e2-9ba7-2239d40e4923",
   "metadata": {},
   "outputs": [
    {
     "data": {
      "text/html": [
       "<div>\n",
       "<style scoped>\n",
       "    .dataframe tbody tr th:only-of-type {\n",
       "        vertical-align: middle;\n",
       "    }\n",
       "\n",
       "    .dataframe tbody tr th {\n",
       "        vertical-align: top;\n",
       "    }\n",
       "\n",
       "    .dataframe thead th {\n",
       "        text-align: right;\n",
       "    }\n",
       "</style>\n",
       "<table border=\"1\" class=\"dataframe\">\n",
       "  <thead>\n",
       "    <tr style=\"text-align: right;\">\n",
       "      <th></th>\n",
       "      <th>月租价格(元/月)</th>\n",
       "      <th>面积(㎡)</th>\n",
       "      <th>单位月租价格(元/月/㎡)</th>\n",
       "    </tr>\n",
       "  </thead>\n",
       "  <tbody>\n",
       "    <tr>\n",
       "      <th>count</th>\n",
       "      <td>56.000000</td>\n",
       "      <td>56.000000</td>\n",
       "      <td>56.000000</td>\n",
       "    </tr>\n",
       "    <tr>\n",
       "      <th>mean</th>\n",
       "      <td>2898.571429</td>\n",
       "      <td>41.500000</td>\n",
       "      <td>89.343472</td>\n",
       "    </tr>\n",
       "    <tr>\n",
       "      <th>std</th>\n",
       "      <td>1729.882212</td>\n",
       "      <td>31.991476</td>\n",
       "      <td>36.151178</td>\n",
       "    </tr>\n",
       "    <tr>\n",
       "      <th>min</th>\n",
       "      <td>1000.000000</td>\n",
       "      <td>8.000000</td>\n",
       "      <td>10.000000</td>\n",
       "    </tr>\n",
       "    <tr>\n",
       "      <th>25%</th>\n",
       "      <td>1500.000000</td>\n",
       "      <td>16.000000</td>\n",
       "      <td>64.501404</td>\n",
       "    </tr>\n",
       "    <tr>\n",
       "      <th>50%</th>\n",
       "      <td>2000.000000</td>\n",
       "      <td>20.000000</td>\n",
       "      <td>92.582418</td>\n",
       "    </tr>\n",
       "    <tr>\n",
       "      <th>75%</th>\n",
       "      <td>4800.000000</td>\n",
       "      <td>66.250000</td>\n",
       "      <td>101.923077</td>\n",
       "    </tr>\n",
       "    <tr>\n",
       "      <th>max</th>\n",
       "      <td>6500.000000</td>\n",
       "      <td>120.000000</td>\n",
       "      <td>182.500000</td>\n",
       "    </tr>\n",
       "  </tbody>\n",
       "</table>\n",
       "</div>"
      ],
      "text/plain": [
       "         月租价格(元/月)       面积(㎡)  单位月租价格(元/月/㎡)\n",
       "count    56.000000   56.000000      56.000000\n",
       "mean   2898.571429   41.500000      89.343472\n",
       "std    1729.882212   31.991476      36.151178\n",
       "min    1000.000000    8.000000      10.000000\n",
       "25%    1500.000000   16.000000      64.501404\n",
       "50%    2000.000000   20.000000      92.582418\n",
       "75%    4800.000000   66.250000     101.923077\n",
       "max    6500.000000  120.000000     182.500000"
      ]
     },
     "execution_count": 15,
     "metadata": {},
     "output_type": "execute_result"
    }
   ],
   "source": [
    "info2.describe()"
   ]
  },
  {
   "cell_type": "markdown",
   "id": "21684953-3995-4a8e-a85a-8ef00c5db3a3",
   "metadata": {},
   "source": [
    "离群值分析："
   ]
  },
  {
   "cell_type": "code",
   "execution_count": 19,
   "id": "08156384-07c5-4fa0-8459-851c560f804d",
   "metadata": {},
   "outputs": [
    {
     "data": {
      "image/png": "[encoded data removed]",
      "text/plain": [
       "<Figure size 1500x500 with 3 Axes>"
      ]
     },
     "metadata": {},
     "output_type": "display_data"
    }
   ],
   "source": [
    "#用箱型图找出离群值\n",
    "plot_list = ['月租价格(元/月)','面积(㎡)','单位月租价格(元/月/㎡)']\n",
    "fig, axes = plt.subplots(1, 3, figsize=(15, 5))\n",
    "for i, column in enumerate(plot_list):\n",
    "    axes[i].boxplot(info2[column]) \n",
    "plt.tight_layout()\n",
    "plt.show()"
   ]
  },
  {
   "cell_type": "markdown",
   "id": "dc12b419-2fb7-4df1-8f3a-b7a98b6779fe",
   "metadata": {},
   "source": [
    "由箱型图可知，月租价格无离群值，面积无离群值，单位月租价格有2个离群值在上方。"
   ]
  },
  {
   "cell_type": "markdown",
   "id": "b383ba97-ce67-4054-92d9-d81c71742613",
   "metadata": {},
   "source": [
    "### 3、计算rent ratio"
   ]
  },
  {
   "cell_type": "code",
   "execution_count": 22,
   "id": "742c643c-ea04-42d1-921e-04dbe4880664",
   "metadata": {},
   "outputs": [
    {
     "name": "stdout",
     "output_type": "stream",
     "text": [
      "40.558456790359486\n",
      "84.324749325402\n"
     ]
    }
   ],
   "source": [
    "#按照每㎡计算rent ratio（房价租金比 = 房价中位数/年租金中位数）\n",
    "rent_ratio = 45060/(92.582418*12)\n",
    "print(rent_ratio)\n",
    "# 组员爬取的沙河地区：\n",
    "ratio1 = 56216.5000/(55.555556*12)\n",
    "print(ratio1)"
   ]
  },
  {
   "cell_type": "markdown",
   "id": "2fbf6c25-5d64-4fe7-b9c1-8137eb2bb8c0",
   "metadata": {},
   "source": [
    "组员计算的沙河的rent ratio是：84.324749325402"
   ]
  },
  {
   "cell_type": "code",
   "execution_count": 23,
   "id": "80a2a77f-606e-4953-b520-ba570949129e",
   "metadata": {},
   "outputs": [
    {
     "data": {
      "image/png": "[encoded data removed]",
      "text/plain": [
       "<Figure size 640x480 with 1 Axes>"
      ]
     },
     "metadata": {},
     "output_type": "display_data"
    }
   ],
   "source": [
    "plt.rcParams['font.sans-serif']=['SimHei']\n",
    "block_list = ['北京昌平霍营', '北京昌平沙河']\n",
    "values = [40.558456790359486,84.324749325402]\n",
    "\n",
    "# 绘制条形图\n",
    "plt.bar(block_list, values,width = 0.4)\n",
    "plt.title('Figure A') #标题\n",
    "plt.xlabel('block') #横轴标签\n",
    "plt.ylabel('the median price to rent ratio') #纵轴标签\n",
    "plt.tight_layout()\n",
    "plt.show()"
   ]
  },
  {
   "cell_type": "markdown",
   "id": "a5fd6656-3c8a-4f24-81b5-8f9de6052eb6",
   "metadata": {},
   "source": [
    "### 4、跑回归\n",
    "（1）模型1"
   ]
  },
  {
   "cell_type": "code",
   "execution_count": 24,
   "id": "4e4aed7a-f1fd-4525-9450-693d9a913c0e",
   "metadata": {},
   "outputs": [],
   "source": [
    "#根据模型找出跑回归需要的数据\n",
    "info_m1 = pd.DataFrame()\n",
    "info_m1[['price','m2']] = info1[['单位价格(元/㎡)','面积(㎡)']]\n",
    "info_m1['block'] = '北京昌平霍营'\n",
    "info_m1.tail()\n",
    "#导出数据给组员\n",
    "info_m1.to_csv('霍营.csv',index=False)"
   ]
  },
  {
   "cell_type": "code",
   "execution_count": 25,
   "id": "9b3309c1-1f18-486b-b075-a324febd8433",
   "metadata": {},
   "outputs": [
    {
     "data": {
      "text/html": [
       "<div>\n",
       "<style scoped>\n",
       "    .dataframe tbody tr th:only-of-type {\n",
       "        vertical-align: middle;\n",
       "    }\n",
       "\n",
       "    .dataframe tbody tr th {\n",
       "        vertical-align: top;\n",
       "    }\n",
       "\n",
       "    .dataframe thead th {\n",
       "        text-align: right;\n",
       "    }\n",
       "</style>\n",
       "<table border=\"1\" class=\"dataframe\">\n",
       "  <thead>\n",
       "    <tr style=\"text-align: right;\">\n",
       "      <th></th>\n",
       "      <th>price</th>\n",
       "      <th>m2</th>\n",
       "      <th>block</th>\n",
       "    </tr>\n",
       "  </thead>\n",
       "  <tbody>\n",
       "    <tr>\n",
       "      <th>0</th>\n",
       "      <td>64951.0</td>\n",
       "      <td>110.390000</td>\n",
       "      <td>北京昌平霍营</td>\n",
       "    </tr>\n",
       "    <tr>\n",
       "      <th>1</th>\n",
       "      <td>65434.0</td>\n",
       "      <td>142.890000</td>\n",
       "      <td>北京昌平霍营</td>\n",
       "    </tr>\n",
       "    <tr>\n",
       "      <th>2</th>\n",
       "      <td>42548.0</td>\n",
       "      <td>86.960000</td>\n",
       "      <td>北京昌平霍营</td>\n",
       "    </tr>\n",
       "    <tr>\n",
       "      <th>3</th>\n",
       "      <td>61756.0</td>\n",
       "      <td>110.110000</td>\n",
       "      <td>北京昌平霍营</td>\n",
       "    </tr>\n",
       "    <tr>\n",
       "      <th>4</th>\n",
       "      <td>63603.0</td>\n",
       "      <td>111.000000</td>\n",
       "      <td>北京昌平霍营</td>\n",
       "    </tr>\n",
       "    <tr>\n",
       "      <th>...</th>\n",
       "      <td>...</td>\n",
       "      <td>...</td>\n",
       "      <td>...</td>\n",
       "    </tr>\n",
       "    <tr>\n",
       "      <th>115</th>\n",
       "      <td>41709.0</td>\n",
       "      <td>563.427558</td>\n",
       "      <td>北京昌平沙河</td>\n",
       "    </tr>\n",
       "    <tr>\n",
       "      <th>116</th>\n",
       "      <td>36078.0</td>\n",
       "      <td>255.003049</td>\n",
       "      <td>北京昌平沙河</td>\n",
       "    </tr>\n",
       "    <tr>\n",
       "      <th>117</th>\n",
       "      <td>90452.0</td>\n",
       "      <td>497.501437</td>\n",
       "      <td>北京昌平沙河</td>\n",
       "    </tr>\n",
       "    <tr>\n",
       "      <th>118</th>\n",
       "      <td>29900.0</td>\n",
       "      <td>69.230769</td>\n",
       "      <td>北京昌平沙河</td>\n",
       "    </tr>\n",
       "    <tr>\n",
       "      <th>119</th>\n",
       "      <td>36654.0</td>\n",
       "      <td>87.030065</td>\n",
       "      <td>北京昌平沙河</td>\n",
       "    </tr>\n",
       "  </tbody>\n",
       "</table>\n",
       "<p>120 rows × 3 columns</p>\n",
       "</div>"
      ],
      "text/plain": [
       "       price          m2   block\n",
       "0    64951.0  110.390000  北京昌平霍营\n",
       "1    65434.0  142.890000  北京昌平霍营\n",
       "2    42548.0   86.960000  北京昌平霍营\n",
       "3    61756.0  110.110000  北京昌平霍营\n",
       "4    63603.0  111.000000  北京昌平霍营\n",
       "..       ...         ...     ...\n",
       "115  41709.0  563.427558  北京昌平沙河\n",
       "116  36078.0  255.003049  北京昌平沙河\n",
       "117  90452.0  497.501437  北京昌平沙河\n",
       "118  29900.0   69.230769  北京昌平沙河\n",
       "119  36654.0   87.030065  北京昌平沙河\n",
       "\n",
       "[120 rows x 3 columns]"
      ]
     },
     "execution_count": 25,
     "metadata": {},
     "output_type": "execute_result"
    }
   ],
   "source": [
    "#导入组员的数据\n",
    "info_m1_2 = pd.read_csv('沙河.csv')\n",
    "info_m1_2 = pd.DataFrame(info_m1_2)\n",
    "#合并数据\n",
    "info_m1 = pd.concat([info_m1,info_m1_2], ignore_index=True)\n",
    "info_m1"
   ]
  },
  {
   "cell_type": "code",
   "execution_count": 26,
   "id": "8907edcc-f85c-4baa-b9af-a8227c2e15fb",
   "metadata": {},
   "outputs": [],
   "source": [
    "#把block变成哑变量\n",
    "info_m1 = pd.get_dummies(info_m1,columns=['block'],drop_first=True,dtype=int)"
   ]
  },
  {
   "cell_type": "code",
   "execution_count": 27,
   "id": "52b93948-4284-44aa-8fb3-565118f1c19b",
   "metadata": {},
   "outputs": [
    {
     "name": "stdout",
     "output_type": "stream",
     "text": [
      "       price          m2  block_北京昌平霍营\n",
      "0    64951.0  110.390000             1\n",
      "1    65434.0  142.890000             1\n",
      "2    42548.0   86.960000             1\n",
      "3    61756.0  110.110000             1\n",
      "4    63603.0  111.000000             1\n",
      "..       ...         ...           ...\n",
      "115  41709.0  563.427558             0\n",
      "116  36078.0  255.003049             0\n",
      "117  90452.0  497.501437             0\n",
      "118  29900.0   69.230769             0\n",
      "119  36654.0   87.030065             0\n",
      "\n",
      "[120 rows x 3 columns]\n"
     ]
    }
   ],
   "source": [
    "print(info_m1)"
   ]
  },
  {
   "cell_type": "code",
   "execution_count": 28,
   "id": "dab826ea-d7c6-4aa1-8540-7bbaa733a2fa",
   "metadata": {},
   "outputs": [
    {
     "name": "stdout",
     "output_type": "stream",
     "text": [
      "                            OLS Regression Results                            \n",
      "==============================================================================\n",
      "Dep. Variable:                  price   R-squared:                       0.257\n",
      "Model:                            OLS   Adj. R-squared:                  0.238\n",
      "Method:                 Least Squares   F-statistic:                     13.39\n",
      "Date:                Thu, 20 Mar 2025   Prob (F-statistic):           1.45e-07\n",
      "Time:                        12:38:52   Log-Likelihood:                -1326.9\n",
      "No. Observations:                 120   AIC:                             2662.\n",
      "Df Residuals:                     116   BIC:                             2673.\n",
      "Df Model:                           3                                         \n",
      "Covariance Type:            nonrobust                                         \n",
      "===================================================================================\n",
      "                      coef    std err          t      P>|t|      [0.025      0.975]\n",
      "-----------------------------------------------------------------------------------\n",
      "Intercept        3.394e+04   3749.835      9.052      0.000    2.65e+04    4.14e+04\n",
      "m2                 63.1708     10.389      6.081      0.000      42.594      83.747\n",
      "block_北京昌平霍营     7021.0028   9839.194      0.714      0.477   -1.25e+04    2.65e+04\n",
      "m2:block_北京昌平霍营    17.0794     92.439      0.185      0.854    -166.008     200.167\n",
      "==============================================================================\n",
      "Omnibus:                        7.470   Durbin-Watson:                   2.173\n",
      "Prob(Omnibus):                  0.024   Jarque-Bera (JB):                7.157\n",
      "Skew:                           0.510   Prob(JB):                       0.0279\n",
      "Kurtosis:                       3.624   Cond. No.                     1.85e+03\n",
      "==============================================================================\n",
      "\n",
      "Notes:\n",
      "[1] Standard Errors assume that the covariance matrix of the errors is correctly specified.\n",
      "[2] The condition number is large, 1.85e+03. This might indicate that there are\n",
      "strong multicollinearity or other numerical problems.\n"
     ]
    }
   ],
   "source": [
    "#根据模型跑回归\n",
    "model1 = smf.ols(formula='price ~ m2 + block_北京昌平霍营 + m2:block_北京昌平霍营', data=info_m1).fit()\n",
    "print(model1.summary())"
   ]
  },
  {
   "cell_type": "code",
   "execution_count": 29,
   "id": "8bb5dc32-4723-4caa-a9f6-22ff1a4d5d93",
   "metadata": {},
   "outputs": [
    {
     "data": {
      "text/plain": [
       "0    44976.799415\n",
       "1    37101.825315\n",
       "2    48989.310958\n",
       "3    40260.365523\n",
       "dtype: float64"
      ]
     },
     "execution_count": 29,
     "metadata": {},
     "output_type": "execute_result"
    }
   ],
   "source": [
    "#构建需要预测的信息\n",
    "predict_m1 = pd.DataFrame()\n",
    "\n",
    "predict_m1[['m2','block_北京昌平霍营']]=[[50,1]]\n",
    "predict_m1.loc[len(predict_m1.index)] = [50,0]\n",
    "predict_m1.loc[len(predict_m1.index)] = [100,1]\n",
    "predict_m1.loc[len(predict_m1.index)] = [100,0]\n",
    "#进行预测\n",
    "pre1_result = model1.predict(predict_m1)\n",
    "pre1_result"
   ]
  },
  {
   "cell_type": "code",
   "execution_count": 30,
   "id": "c0591fae-8d5c-4de6-9820-a605076fd2d0",
   "metadata": {},
   "outputs": [
    {
     "data": {
      "text/html": [
       "<div>\n",
       "<style scoped>\n",
       "    .dataframe tbody tr th:only-of-type {\n",
       "        vertical-align: middle;\n",
       "    }\n",
       "\n",
       "    .dataframe tbody tr th {\n",
       "        vertical-align: top;\n",
       "    }\n",
       "\n",
       "    .dataframe thead th {\n",
       "        text-align: right;\n",
       "    }\n",
       "</style>\n",
       "<table border=\"1\" class=\"dataframe\">\n",
       "  <thead>\n",
       "    <tr style=\"text-align: right;\">\n",
       "      <th></th>\n",
       "      <th>m2</th>\n",
       "      <th>block</th>\n",
       "      <th>price/m2</th>\n",
       "    </tr>\n",
       "  </thead>\n",
       "  <tbody>\n",
       "    <tr>\n",
       "      <th>0</th>\n",
       "      <td>50</td>\n",
       "      <td>1</td>\n",
       "      <td>44976.799415</td>\n",
       "    </tr>\n",
       "    <tr>\n",
       "      <th>1</th>\n",
       "      <td>50</td>\n",
       "      <td>0</td>\n",
       "      <td>37101.825315</td>\n",
       "    </tr>\n",
       "    <tr>\n",
       "      <th>2</th>\n",
       "      <td>100</td>\n",
       "      <td>1</td>\n",
       "      <td>48989.310958</td>\n",
       "    </tr>\n",
       "    <tr>\n",
       "      <th>3</th>\n",
       "      <td>100</td>\n",
       "      <td>0</td>\n",
       "      <td>40260.365523</td>\n",
       "    </tr>\n",
       "  </tbody>\n",
       "</table>\n",
       "</div>"
      ],
      "text/plain": [
       "    m2  block      price/m2\n",
       "0   50      1  44976.799415\n",
       "1   50      0  37101.825315\n",
       "2  100      1  48989.310958\n",
       "3  100      0  40260.365523"
      ]
     },
     "execution_count": 30,
     "metadata": {},
     "output_type": "execute_result"
    }
   ],
   "source": [
    "m1_result = pd.concat([predict_m1,pre1_result],axis=1)\n",
    "m1_result.columns = ['m2','block','price/m2']\n",
    "m1_result"
   ]
  },
  {
   "cell_type": "code",
   "execution_count": 38,
   "id": "d2a8a183-0f19-430c-bf74-7006ed3b2ce4",
   "metadata": {},
   "outputs": [
    {
     "data": {
      "image/png": "[encoded data removed]",
      "text/plain": [
       "<Figure size 800x500 with 1 Axes>"
      ]
     },
     "metadata": {},
     "output_type": "display_data"
    }
   ],
   "source": [
    "#画图看下预测结果\n",
    "plt.figure(figsize=(8, 5))\n",
    "plot_pre = sns.barplot(x='m2', y='price/m2', hue='block', data=m1_result)\n",
    "\n",
    "plt.xlabel(\"m2\")\n",
    "plt.ylabel(\"Price per m2\")\n",
    "plt.title(\"预测结果\")\n",
    "handles, labels = plot_pre.get_legend_handles_labels()\n",
    "plt.legend(handles,[\"北京昌平沙河\", \"北京昌平霍营\"])\n",
    "plt.show()"
   ]
  },
  {
   "cell_type": "markdown",
   "id": "24f5eb09-c4a4-4906-82e1-1762f44b510a",
   "metadata": {},
   "source": [
    "（2）模型2"
   ]
  },
  {
   "cell_type": "code",
   "execution_count": 32,
   "id": "c84b19b4-ff78-4720-ad64-005c84d508ce",
   "metadata": {},
   "outputs": [],
   "source": [
    "#根据模型找出跑回归需要的数据\n",
    "info_m2 = pd.DataFrame()\n",
    "info_m2[['rent','m2']] = info2[['单位月租价格(元/月/㎡)','面积(㎡)']]\n",
    "info_m2['block'] = '北京昌平霍营'\n",
    "#导出数据给组员\n",
    "info_m2.to_csv('霍营租金.csv',index=False)"
   ]
  },
  {
   "cell_type": "code",
   "execution_count": 33,
   "id": "afc1ef21-9a91-47b2-bb94-25c8f5951d64",
   "metadata": {},
   "outputs": [
    {
     "data": {
      "text/html": [
       "<div>\n",
       "<style scoped>\n",
       "    .dataframe tbody tr th:only-of-type {\n",
       "        vertical-align: middle;\n",
       "    }\n",
       "\n",
       "    .dataframe tbody tr th {\n",
       "        vertical-align: top;\n",
       "    }\n",
       "\n",
       "    .dataframe thead th {\n",
       "        text-align: right;\n",
       "    }\n",
       "</style>\n",
       "<table border=\"1\" class=\"dataframe\">\n",
       "  <thead>\n",
       "    <tr style=\"text-align: right;\">\n",
       "      <th></th>\n",
       "      <th>rent</th>\n",
       "      <th>m2</th>\n",
       "      <th>block_北京昌平霍营</th>\n",
       "    </tr>\n",
       "  </thead>\n",
       "  <tbody>\n",
       "    <tr>\n",
       "      <th>0</th>\n",
       "      <td>15.384615</td>\n",
       "      <td>65.0</td>\n",
       "      <td>1</td>\n",
       "    </tr>\n",
       "    <tr>\n",
       "      <th>1</th>\n",
       "      <td>61.538462</td>\n",
       "      <td>65.0</td>\n",
       "      <td>1</td>\n",
       "    </tr>\n",
       "    <tr>\n",
       "      <th>2</th>\n",
       "      <td>62.500000</td>\n",
       "      <td>16.0</td>\n",
       "      <td>1</td>\n",
       "    </tr>\n",
       "    <tr>\n",
       "      <th>3</th>\n",
       "      <td>92.857143</td>\n",
       "      <td>56.0</td>\n",
       "      <td>1</td>\n",
       "    </tr>\n",
       "    <tr>\n",
       "      <th>4</th>\n",
       "      <td>182.500000</td>\n",
       "      <td>8.0</td>\n",
       "      <td>1</td>\n",
       "    </tr>\n",
       "    <tr>\n",
       "      <th>...</th>\n",
       "      <td>...</td>\n",
       "      <td>...</td>\n",
       "      <td>...</td>\n",
       "    </tr>\n",
       "    <tr>\n",
       "      <th>111</th>\n",
       "      <td>35.714286</td>\n",
       "      <td>28.0</td>\n",
       "      <td>0</td>\n",
       "    </tr>\n",
       "    <tr>\n",
       "      <th>112</th>\n",
       "      <td>55.555556</td>\n",
       "      <td>18.0</td>\n",
       "      <td>0</td>\n",
       "    </tr>\n",
       "    <tr>\n",
       "      <th>113</th>\n",
       "      <td>55.555556</td>\n",
       "      <td>18.0</td>\n",
       "      <td>0</td>\n",
       "    </tr>\n",
       "    <tr>\n",
       "      <th>114</th>\n",
       "      <td>55.555556</td>\n",
       "      <td>18.0</td>\n",
       "      <td>0</td>\n",
       "    </tr>\n",
       "    <tr>\n",
       "      <th>115</th>\n",
       "      <td>66.333333</td>\n",
       "      <td>60.0</td>\n",
       "      <td>0</td>\n",
       "    </tr>\n",
       "  </tbody>\n",
       "</table>\n",
       "<p>116 rows × 3 columns</p>\n",
       "</div>"
      ],
      "text/plain": [
       "           rent    m2  block_北京昌平霍营\n",
       "0     15.384615  65.0             1\n",
       "1     61.538462  65.0             1\n",
       "2     62.500000  16.0             1\n",
       "3     92.857143  56.0             1\n",
       "4    182.500000   8.0             1\n",
       "..          ...   ...           ...\n",
       "111   35.714286  28.0             0\n",
       "112   55.555556  18.0             0\n",
       "113   55.555556  18.0             0\n",
       "114   55.555556  18.0             0\n",
       "115   66.333333  60.0             0\n",
       "\n",
       "[116 rows x 3 columns]"
      ]
     },
     "execution_count": 33,
     "metadata": {},
     "output_type": "execute_result"
    }
   ],
   "source": [
    "#导入组员的数据\n",
    "info_m2_2 = pd.read_csv('沙河租金.csv')\n",
    "info_m2_2 = pd.DataFrame(info_m2_2)\n",
    "#合并数据\n",
    "info_m2 = pd.concat([info_m2,info_m2_2], ignore_index=True)\n",
    "\n",
    "#把block变成哑变量\n",
    "info_m2 = pd.get_dummies(info_m2,columns=['block'],drop_first=True,dtype=int)\n",
    "info_m2"
   ]
  },
  {
   "cell_type": "code",
   "execution_count": 34,
   "id": "bd058638-ebbd-478d-b19e-4de0f4a6834b",
   "metadata": {},
   "outputs": [
    {
     "name": "stdout",
     "output_type": "stream",
     "text": [
      "                            OLS Regression Results                            \n",
      "==============================================================================\n",
      "Dep. Variable:                   rent   R-squared:                       0.615\n",
      "Model:                            OLS   Adj. R-squared:                  0.605\n",
      "Method:                 Least Squares   F-statistic:                     59.72\n",
      "Date:                Thu, 20 Mar 2025   Prob (F-statistic):           3.90e-23\n",
      "Time:                        12:39:38   Log-Likelihood:                -505.79\n",
      "No. Observations:                 116   AIC:                             1020.\n",
      "Df Residuals:                     112   BIC:                             1031.\n",
      "Df Model:                           3                                         \n",
      "Covariance Type:            nonrobust                                         \n",
      "===================================================================================\n",
      "                      coef    std err          t      P>|t|      [0.025      0.975]\n",
      "-----------------------------------------------------------------------------------\n",
      "Intercept          57.6115      2.789     20.653      0.000      52.085      63.138\n",
      "m2                 -0.0089      0.024     -0.372      0.710      -0.057       0.039\n",
      "block_北京昌平霍营       65.1400      5.078     12.829      0.000      55.079      75.201\n",
      "m2:block_北京昌平霍营    -0.7961      0.085     -9.397      0.000      -0.964      -0.628\n",
      "==============================================================================\n",
      "Omnibus:                       17.912   Durbin-Watson:                   2.128\n",
      "Prob(Omnibus):                  0.000   Jarque-Bera (JB):               48.156\n",
      "Skew:                           0.485   Prob(JB):                     3.49e-11\n",
      "Kurtosis:                       6.004   Cond. No.                         276.\n",
      "==============================================================================\n",
      "\n",
      "Notes:\n",
      "[1] Standard Errors assume that the covariance matrix of the errors is correctly specified.\n"
     ]
    }
   ],
   "source": [
    "#根据模型跑回归\n",
    "model2 = smf.ols(formula='rent ~ m2 + block_北京昌平霍营 + m2:block_北京昌平霍营', data=info_m2).fit()\n",
    "print(model2.summary())"
   ]
  },
  {
   "cell_type": "code",
   "execution_count": 35,
   "id": "bbcb731e-472d-41d7-a909-87d045506b7b",
   "metadata": {},
   "outputs": [
    {
     "data": {
      "text/html": [
       "<div>\n",
       "<style scoped>\n",
       "    .dataframe tbody tr th:only-of-type {\n",
       "        vertical-align: middle;\n",
       "    }\n",
       "\n",
       "    .dataframe tbody tr th {\n",
       "        vertical-align: top;\n",
       "    }\n",
       "\n",
       "    .dataframe thead th {\n",
       "        text-align: right;\n",
       "    }\n",
       "</style>\n",
       "<table border=\"1\" class=\"dataframe\">\n",
       "  <thead>\n",
       "    <tr style=\"text-align: right;\">\n",
       "      <th></th>\n",
       "      <th>price/m2</th>\n",
       "      <th>rent/m2</th>\n",
       "      <th>rent ratio</th>\n",
       "    </tr>\n",
       "  </thead>\n",
       "  <tbody>\n",
       "    <tr>\n",
       "      <th>0</th>\n",
       "      <td>44976.799415</td>\n",
       "      <td>82.500854</td>\n",
       "      <td>45.430640</td>\n",
       "    </tr>\n",
       "    <tr>\n",
       "      <th>1</th>\n",
       "      <td>37101.825315</td>\n",
       "      <td>57.164380</td>\n",
       "      <td>54.086457</td>\n",
       "    </tr>\n",
       "    <tr>\n",
       "      <th>2</th>\n",
       "      <td>48989.310958</td>\n",
       "      <td>42.250163</td>\n",
       "      <td>96.625487</td>\n",
       "    </tr>\n",
       "    <tr>\n",
       "      <th>3</th>\n",
       "      <td>40260.365523</td>\n",
       "      <td>56.717237</td>\n",
       "      <td>59.153630</td>\n",
       "    </tr>\n",
       "  </tbody>\n",
       "</table>\n",
       "</div>"
      ],
      "text/plain": [
       "       price/m2    rent/m2  rent ratio\n",
       "0  44976.799415  82.500854   45.430640\n",
       "1  37101.825315  57.164380   54.086457\n",
       "2  48989.310958  42.250163   96.625487\n",
       "3  40260.365523  56.717237   59.153630"
      ]
     },
     "execution_count": 35,
     "metadata": {},
     "output_type": "execute_result"
    }
   ],
   "source": [
    "#因为需要预测的信息一致，所以直接进行预测\n",
    "pre2_result = model2.predict(predict_m1)\n",
    "rr_result = pd.concat([pre1_result,pre2_result],axis=1,ignore_index=True)\n",
    "rr_result.columns = ['price/m2','rent/m2']\n",
    "rr_result['rent ratio'] = rr_result['price/m2']/(rr_result['rent/m2']*12)\n",
    "rr_result"
   ]
  },
  {
   "cell_type": "code",
   "execution_count": 36,
   "id": "dbf06147-80cd-4fc8-9007-f4498167bbc3",
   "metadata": {},
   "outputs": [
    {
     "data": {
      "image/png": "[encoded data removed]",
      "text/plain": [
       "<Figure size 600x400 with 1 Axes>"
      ]
     },
     "metadata": {},
     "output_type": "display_data"
    }
   ],
   "source": [
    "#霍营的预测结果\n",
    "rr2 = pd.DataFrame({'m2': ['50', '100'], 'rent_ratio': [44.818283, 96.214985]})\n",
    "# 画条形图\n",
    "plt.figure(figsize=(6, 4))\n",
    "plt.bar(rr2['m2'], rr2['rent_ratio'], color=['blue', 'orange'])\n",
    "# 添加标签\n",
    "plt.xlabel(\"m2\")\n",
    "plt.ylabel(\"Rent Ratio\")\n",
    "plt.title(\"Figure B (block=霍营)\")\n",
    "\n",
    "plt.show()"
   ]
  },
  {
   "cell_type": "code",
   "execution_count": 37,
   "id": "340935a5-1382-4948-8205-1793447aafc9",
   "metadata": {},
   "outputs": [
    {
     "data": {
      "image/png": "[encoded data removed]",
      "text/plain": [
       "<Figure size 600x400 with 1 Axes>"
      ]
     },
     "metadata": {},
     "output_type": "display_data"
    }
   ],
   "source": [
    "#沙河的预测结果\n",
    "rr3 = pd.DataFrame({'m2': ['50', '100'], 'rent_ratio': [54.086457, 59.153630]})\n",
    "# 画条形图\n",
    "plt.figure(figsize=(6, 4))\n",
    "plt.bar(rr3['m2'], rr3['rent_ratio'], color=['blue', 'orange'])\n",
    "# 添加标签\n",
    "plt.xlabel(\"m2\")\n",
    "plt.ylabel(\"Rent Ratio\")\n",
    "plt.title(\"Figure C (block=沙河)\")\n",
    "\n",
    "plt.show()"
   ]
  }
 ],
 "metadata": {
  "kernelspec": {
   "display_name": "Python 3 (ipykernel)",
   "language": "python",
   "name": "python3"
  },
  "language_info": {
   "codemirror_mode": {
    "name": "ipython",
    "version": 3
   },
   "file_extension": ".py",
   "mimetype": "text/x-python",
   "name": "python",
   "nbconvert_exporter": "python",
   "pygments_lexer": "ipython3",
   "version": "3.12.7"
  }
 },
 "nbformat": 4,
 "nbformat_minor": 5
}
