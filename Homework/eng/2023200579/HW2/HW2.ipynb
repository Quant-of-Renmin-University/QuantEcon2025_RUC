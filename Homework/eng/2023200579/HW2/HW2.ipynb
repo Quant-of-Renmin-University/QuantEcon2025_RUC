{
 "cells": [
  {
   "cell_type": "code",
   "execution_count": 1,
   "id": "51a89ddd-7ad1-4554-a1b4-390c76254381",
   "metadata": {},
   "outputs": [],
   "source": [
    "from docxtpl import DocxTemplate\n",
    "from docx2pdf import convert\n",
    "import pandas as pd\n",
    "import os"
   ]
  },
  {
   "cell_type": "code",
   "execution_count": 2,
   "id": "e42f3f10-8522-4fcb-9b8a-ab58d67d0bce",
   "metadata": {},
   "outputs": [],
   "source": [
    "template = 'Template.docx'\n",
    "PDF_document = \"HW2_document\"\n",
    "os.makedirs(PDF_document, exist_ok=True)"
   ]
  },
  {
   "cell_type": "code",
   "execution_count": 3,
   "id": "a1eddb7a-6070-40d4-8922-79d8bfe873b9",
   "metadata": {},
   "outputs": [],
   "source": [
    "rawrows = pd.read_csv('university.csv')\n",
    "rows = pd.DataFrame(rawrows)"
   ]
  },
  {
   "cell_type": "code",
   "execution_count": 4,
   "id": "93b273f8-09b9-4446-b7eb-496424f43f4e",
   "metadata": {},
   "outputs": [
    {
     "data": {
      "application/vnd.jupyter.widget-view+json": {
       "model_id": "18a5c5e50fe945278a7c700a247559e1",
       "version_major": 2,
       "version_minor": 0
      },
      "text/plain": [
       "  0%|          | 0/1 [00:00<?, ?it/s]"
      ]
     },
     "metadata": {},
     "output_type": "display_data"
    },
    {
     "data": {
      "application/vnd.jupyter.widget-view+json": {
       "model_id": "76a186a3fb90443c908b3229d2679c46",
       "version_major": 2,
       "version_minor": 0
      },
      "text/plain": [
       "  0%|          | 0/1 [00:00<?, ?it/s]"
      ]
     },
     "metadata": {},
     "output_type": "display_data"
    },
    {
     "data": {
      "application/vnd.jupyter.widget-view+json": {
       "model_id": "cfce179aed954b72bd086d4fd7ed3253",
       "version_major": 2,
       "version_minor": 0
      },
      "text/plain": [
       "  0%|          | 0/1 [00:00<?, ?it/s]"
      ]
     },
     "metadata": {},
     "output_type": "display_data"
    },
    {
     "data": {
      "application/vnd.jupyter.widget-view+json": {
       "model_id": "54881023b4344296839b966277c08342",
       "version_major": 2,
       "version_minor": 0
      },
      "text/plain": [
       "  0%|          | 0/1 [00:00<?, ?it/s]"
      ]
     },
     "metadata": {},
     "output_type": "display_data"
    },
    {
     "data": {
      "application/vnd.jupyter.widget-view+json": {
       "model_id": "8e918c83243a4db3b7b017f3f25db9d8",
       "version_major": 2,
       "version_minor": 0
      },
      "text/plain": [
       "  0%|          | 0/1 [00:00<?, ?it/s]"
      ]
     },
     "metadata": {},
     "output_type": "display_data"
    },
    {
     "data": {
      "application/vnd.jupyter.widget-view+json": {
       "model_id": "88a426499d1b4537b98fc75e01af4e40",
       "version_major": 2,
       "version_minor": 0
      },
      "text/plain": [
       "  0%|          | 0/1 [00:00<?, ?it/s]"
      ]
     },
     "metadata": {},
     "output_type": "display_data"
    },
    {
     "data": {
      "application/vnd.jupyter.widget-view+json": {
       "model_id": "f5511a440e9d4a13b244f8a7c9e05f94",
       "version_major": 2,
       "version_minor": 0
      },
      "text/plain": [
       "  0%|          | 0/1 [00:00<?, ?it/s]"
      ]
     },
     "metadata": {},
     "output_type": "display_data"
    },
    {
     "data": {
      "application/vnd.jupyter.widget-view+json": {
       "model_id": "18ac2b418a9745f0ad292f212904959b",
       "version_major": 2,
       "version_minor": 0
      },
      "text/plain": [
       "  0%|          | 0/1 [00:00<?, ?it/s]"
      ]
     },
     "metadata": {},
     "output_type": "display_data"
    },
    {
     "data": {
      "application/vnd.jupyter.widget-view+json": {
       "model_id": "c4d1aea147ef4bbfb9dfbb7621b30c8f",
       "version_major": 2,
       "version_minor": 0
      },
      "text/plain": [
       "  0%|          | 0/1 [00:00<?, ?it/s]"
      ]
     },
     "metadata": {},
     "output_type": "display_data"
    }
   ],
   "source": [
    "for university in rows['University Names']:\n",
    "    a = rows[rows['University Names']== university].index.tolist()[0]\n",
    "    majors = rows.loc[[a],['Major1','Major2','Major3']]\n",
    "    majors_row = majors.values.tolist()\n",
    "    for major in majors_row[0]:\n",
    "        context = {\n",
    "            'university': university,\n",
    "            'major': major\n",
    "        }\n",
    "        doc = DocxTemplate(template)\n",
    "        doc.render(context)\n",
    "        safe_major = major.replace('.', '_').replace(' ', '_')\n",
    "        output_docx = f\"{PDF_document}/{university}_({safe_major}).docx\"\n",
    "        doc.save(output_docx)\n",
    "        output_pdf = f\"{PDF_document}/{university}_({major}).pdf\"\n",
    "        convert(output_docx, output_pdf)\n",
    "        os.remove(output_docx)"
   ]
  }
 ],
 "metadata": {
  "kernelspec": {
   "display_name": "Python 3 (ipykernel)",
   "language": "python",
   "name": "python3"
  },
  "language_info": {
   "codemirror_mode": {
    "name": "ipython",
    "version": 3
   },
   "file_extension": ".py",
   "mimetype": "text/x-python",
   "name": "python",
   "nbconvert_exporter": "python",
   "pygments_lexer": "ipython3",
   "version": "3.12.7"
  }
 },
 "nbformat": 4,
 "nbformat_minor": 5
}
