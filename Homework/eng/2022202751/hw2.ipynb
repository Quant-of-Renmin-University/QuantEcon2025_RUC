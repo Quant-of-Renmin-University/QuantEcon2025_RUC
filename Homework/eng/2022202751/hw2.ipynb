{
 "cells": [
  {
   "cell_type": "code",
   "execution_count": 1,
   "metadata": {},
   "outputs": [
    {
     "name": "stderr",
     "output_type": "stream",
     "text": [
      "C:\\Users\\张雷臻\\AppData\\Roaming\\Python\\Python312\\site-packages\\tqdm\\auto.py:21: TqdmWarning: IProgress not found. Please update jupyter and ipywidgets. See https://ipywidgets.readthedocs.io/en/stable/user_install.html\n",
      "  from .autonotebook import tqdm as notebook_tqdm\n"
     ]
    },
    {
     "name": "stdout",
     "output_type": "stream",
     "text": [
      "Application template has been created and saved as 'application_letter_template.docx'.\n",
      "Excel file 'universities_programs.xlsx' has been created.\n",
      "Application letters have been generated for all universities and programs.\n"
     ]
    },
    {
     "name": "stderr",
     "output_type": "stream",
     "text": [
      "100%|██████████| 1/1 [00:02<00:00,  2.24s/it]\n",
      "  0%|          | 0/1 [00:00<?, ?it/s]"
     ]
    },
    {
     "ename": "com_error",
     "evalue": "(-2147417848, '被调用的对象已与其客户端断开连接。', None, None)",
     "output_type": "error",
     "traceback": [
      "\u001b[1;31m---------------------------------------------------------------------------\u001b[0m",
      "\u001b[1;31mcom_error\u001b[0m                                 Traceback (most recent call last)",
      "Cell \u001b[1;32mIn[1], line 85\u001b[0m\n\u001b[0;32m     82\u001b[0m         docx_file \u001b[38;5;241m=\u001b[39m \u001b[38;5;124mf\u001b[39m\u001b[38;5;124m\"\u001b[39m\u001b[38;5;124mapplication_letter_\u001b[39m\u001b[38;5;132;01m{\u001b[39;00muniversity\u001b[38;5;132;01m}\u001b[39;00m\u001b[38;5;124m_\u001b[39m\u001b[38;5;132;01m{\u001b[39;00mprogram\u001b[38;5;241m.\u001b[39mreplace(\u001b[38;5;124m'\u001b[39m\u001b[38;5;124m \u001b[39m\u001b[38;5;124m'\u001b[39m,\u001b[38;5;250m \u001b[39m\u001b[38;5;124m'\u001b[39m\u001b[38;5;124m_\u001b[39m\u001b[38;5;124m'\u001b[39m)\u001b[38;5;132;01m}\u001b[39;00m\u001b[38;5;124m.docx\u001b[39m\u001b[38;5;124m\"\u001b[39m\n\u001b[0;32m     83\u001b[0m         pdf_file \u001b[38;5;241m=\u001b[39m \u001b[38;5;124mf\u001b[39m\u001b[38;5;124m\"\u001b[39m\u001b[38;5;124mapplication_letter_\u001b[39m\u001b[38;5;132;01m{\u001b[39;00muniversity\u001b[38;5;132;01m}\u001b[39;00m\u001b[38;5;124m_\u001b[39m\u001b[38;5;132;01m{\u001b[39;00mprogram\u001b[38;5;241m.\u001b[39mreplace(\u001b[38;5;124m'\u001b[39m\u001b[38;5;124m \u001b[39m\u001b[38;5;124m'\u001b[39m,\u001b[38;5;250m \u001b[39m\u001b[38;5;124m'\u001b[39m\u001b[38;5;124m_\u001b[39m\u001b[38;5;124m'\u001b[39m)\u001b[38;5;132;01m}\u001b[39;00m\u001b[38;5;124m.pdf\u001b[39m\u001b[38;5;124m\"\u001b[39m\n\u001b[1;32m---> 85\u001b[0m         convert(docx_file, pdf_file)\n\u001b[0;32m     87\u001b[0m \u001b[38;5;28mprint\u001b[39m(\u001b[38;5;124m\"\u001b[39m\u001b[38;5;124mPDF documents have been generated for all application letters.\u001b[39m\u001b[38;5;124m\"\u001b[39m)\n",
      "File \u001b[1;32m~\\AppData\\Roaming\\Python\\Python312\\site-packages\\docx2pdf\\__init__.py:106\u001b[0m, in \u001b[0;36mconvert\u001b[1;34m(input_path, output_path, keep_active)\u001b[0m\n\u001b[0;32m    104\u001b[0m     \u001b[38;5;28;01mreturn\u001b[39;00m macos(paths, keep_active)\n\u001b[0;32m    105\u001b[0m \u001b[38;5;28;01melif\u001b[39;00m sys\u001b[38;5;241m.\u001b[39mplatform \u001b[38;5;241m==\u001b[39m \u001b[38;5;124m\"\u001b[39m\u001b[38;5;124mwin32\u001b[39m\u001b[38;5;124m\"\u001b[39m:\n\u001b[1;32m--> 106\u001b[0m     \u001b[38;5;28;01mreturn\u001b[39;00m windows(paths, keep_active)\n\u001b[0;32m    107\u001b[0m \u001b[38;5;28;01melse\u001b[39;00m:\n\u001b[0;32m    108\u001b[0m     \u001b[38;5;28;01mraise\u001b[39;00m \u001b[38;5;167;01mNotImplementedError\u001b[39;00m(\n\u001b[0;32m    109\u001b[0m         \u001b[38;5;124m\"\u001b[39m\u001b[38;5;124mdocx2pdf is not implemented for linux as it requires Microsoft Word to be installed\u001b[39m\u001b[38;5;124m\"\u001b[39m\n\u001b[0;32m    110\u001b[0m     )\n",
      "File \u001b[1;32m~\\AppData\\Roaming\\Python\\Python312\\site-packages\\docx2pdf\\__init__.py:34\u001b[0m, in \u001b[0;36mwindows\u001b[1;34m(paths, keep_active)\u001b[0m\n\u001b[0;32m     32\u001b[0m     doc \u001b[38;5;241m=\u001b[39m word\u001b[38;5;241m.\u001b[39mDocuments\u001b[38;5;241m.\u001b[39mOpen(\u001b[38;5;28mstr\u001b[39m(docx_filepath))\n\u001b[0;32m     33\u001b[0m     doc\u001b[38;5;241m.\u001b[39mSaveAs(\u001b[38;5;28mstr\u001b[39m(pdf_filepath), FileFormat\u001b[38;5;241m=\u001b[39mwdFormatPDF)\n\u001b[1;32m---> 34\u001b[0m     doc\u001b[38;5;241m.\u001b[39mClose(\u001b[38;5;241m0\u001b[39m)\n\u001b[0;32m     35\u001b[0m     pbar\u001b[38;5;241m.\u001b[39mupdate(\u001b[38;5;241m1\u001b[39m)\n\u001b[0;32m     37\u001b[0m \u001b[38;5;28;01mif\u001b[39;00m \u001b[38;5;129;01mnot\u001b[39;00m keep_active:\n",
      "File \u001b[1;32m<COMObject Open>:2\u001b[0m, in \u001b[0;36mClose\u001b[1;34m(self, SaveChanges, OriginalFormat, RouteDocument)\u001b[0m\n",
      "\u001b[1;31mcom_error\u001b[0m: (-2147417848, '被调用的对象已与其客户端断开连接。', None, None)"
     ]
    }
   ],
   "source": [
    "from docxtpl import DocxTemplate\n",
    "from docx import Document\n",
    "import pandas as pd\n",
    "import os\n",
    "from docx2pdf import convert\n",
    "\n",
    "# Step 1: 生成申请信模板\n",
    "application_letter_template = \"\"\"\n",
    "Dear Admissions Committee,\n",
    "\n",
    "I am writing to express my interest in applying for the {{ program }} at {{ university }}. My academic background and professional experiences have prepared me well for this program.\n",
    "\n",
    "I hold a Bachelor's degree in Economics from Renmin University of China, where I developed a strong foundation in quantitative analysis and economic theory. During my undergraduate studies, I conducted research on digital economy, which was published in Review of Economic Studies . This experience sparked my passion for DeFi, and I am eager to further my knowledge and skills in this area through your esteemed program.\n",
    "\n",
    "In addition to my academic achievements, I have gained practical experience through internships at Google and Tencnet, where I worked on Industry research and data analytics. These experiences have honed my analytical and problem-solving skills, and I am confident that they will enable me to contribute meaningfully to your program.\n",
    "\n",
    "I am particularly drawn to {{ university }} because of its renowned faculty and cutting-edge research in platform economy. I am excited about the opportunity to learn from and collaborate with leading experts in the field.\n",
    "\n",
    "Thank you for considering my application. I look forward to the possibility of contributing to and benefiting from the academic community at {{ university }}.\n",
    "\n",
    "Sincerely,\n",
    "Ray Zhang\n",
    "\"\"\"\n",
    "\n",
    "# 将模板保存为Word文档\n",
    "doc = Document()\n",
    "doc.add_paragraph(application_letter_template)\n",
    "doc.save(\"application_letter_template.docx\")\n",
    "\n",
    "# Step 2: 生成MS Word模板\n",
    "print(\"Application template has been created and saved as 'application_letter_template.docx'.\")\n",
    "\n",
    "# Step 3: 创建Excel文件\n",
    "universities = [\n",
    "    \"Harvard University\", \"Stanford University\", \"Massachusetts Institute of Technology\",\n",
    "    \"University of Chicago\", \"Princeton University\", \"University of California, Berkeley\",\n",
    "    \"Yale University\", \"Columbia University\", \"University of Pennsylvania\",\n",
    "    \"Northwestern University\", \"University of California, Los Angeles\",\n",
    "    \"New York University\", \"University of Michigan\", \"University of Wisconsin-Madison\",\n",
    "    \"University of Minnesota\", \"Cornell University\", \"Duke University\",\n",
    "    \"University of Texas at Austin\", \"University of Illinois at Urbana-Champaign\",\n",
    "    \"University of Maryland\", \"University of Washington\", \"Boston University\",\n",
    "    \"University of North Carolina at Chapel Hill\", \"University of Virginia\",\n",
    "    \"University of Southern California\", \"University of Rochester\", \"Brown University\",\n",
    "    \"Johns Hopkins University\", \"Carnegie Mellon University\", \"University of California, San Diego\"\n",
    "]\n",
    "\n",
    "programs = [\"MA in Economics\", \"MA in Statistics\", \"PhD in Data Science\"]\n",
    "\n",
    "data = {\"University\": universities, \"Program 1\": [programs[0]]*30, \"Program 2\": [programs[1]]*30, \"Program 3\": [programs[2]]*30}\n",
    "\n",
    "df = pd.DataFrame(data)\n",
    "df.to_excel(\"universities_programs.xlsx\", index=False)\n",
    "\n",
    "print(\"Excel file 'universities_programs.xlsx' has been created.\")\n",
    "\n",
    "# Step 5: 使用Python循环填充模板\n",
    "df = pd.read_excel(\"universities_programs.xlsx\")\n",
    "\n",
    "for index, row in df.iterrows():\n",
    "    university = row[\"University\"]\n",
    "    programs = [row[\"Program 1\"], row[\"Program 2\"], row[\"Program 3\"]]\n",
    "    \n",
    "    for program in programs:\n",
    "        context = {\n",
    "            \"university\": university,\n",
    "            \"program\": program\n",
    "        }\n",
    "        \n",
    "        doc = DocxTemplate(\"application_letter_template.docx\")\n",
    "        doc.render(context)\n",
    "        doc.save(f\"application_letter_{university}_{program.replace(' ', '_')}.docx\")\n",
    "\n",
    "print(\"Application letters have been generated for all universities and programs.\")\n",
    "\n",
    "# Step 7: 使用docx2pdf生成PDF文档\n",
    "for index, row in df.iterrows():\n",
    "    university = row[\"University\"]\n",
    "    programs = [row[\"Program 1\"], row[\"Program 2\"], row[\"Program 3\"]]\n",
    "    \n",
    "    for program in programs:\n",
    "        docx_file = f\"application_letter_{university}_{program.replace(' ', '_')}.docx\"\n",
    "        pdf_file = f\"application_letter_{university}_{program.replace(' ', '_')}.pdf\"\n",
    "        \n",
    "        convert(docx_file, pdf_file)\n",
    "\n",
    "print(\"PDF documents have been generated for all application letters.\")"
   ]
  },
  {
   "cell_type": "code",
   "execution_count": null,
   "metadata": {},
   "outputs": [],
   "source": []
  }
 ],
 "metadata": {
  "kernelspec": {
   "display_name": "dev",
   "language": "python",
   "name": "python3"
  },
  "language_info": {
   "codemirror_mode": {
    "name": "ipython",
    "version": 3
   },
   "file_extension": ".py",
   "mimetype": "text/x-python",
   "name": "python",
   "nbconvert_exporter": "python",
   "pygments_lexer": "ipython3",
   "version": "3.12.9"
  }
 },
 "nbformat": 4,
 "nbformat_minor": 2
}
