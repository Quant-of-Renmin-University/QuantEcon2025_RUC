{
 "cells": [
  {
   "cell_type": "code",
   "execution_count": 21,
   "metadata": {},
   "outputs": [
    {
     "name": "stdout",
     "output_type": "stream",
     "text": [
      "['Solarize_Light2', '_classic_test_patch', '_mpl-gallery', '_mpl-gallery-nogrid', 'bmh', 'classic', 'dark_background', 'fast', 'fivethirtyeight', 'ggplot', 'grayscale', 'petroff10', 'seaborn-v0_8', 'seaborn-v0_8-bright', 'seaborn-v0_8-colorblind', 'seaborn-v0_8-dark', 'seaborn-v0_8-dark-palette', 'seaborn-v0_8-darkgrid', 'seaborn-v0_8-deep', 'seaborn-v0_8-muted', 'seaborn-v0_8-notebook', 'seaborn-v0_8-paper', 'seaborn-v0_8-pastel', 'seaborn-v0_8-poster', 'seaborn-v0_8-talk', 'seaborn-v0_8-ticks', 'seaborn-v0_8-white', 'seaborn-v0_8-whitegrid', 'tableau-colorblind10']\n"
     ]
    }
   ],
   "source": [
    "from selenium import webdriver\n",
    "from time import sleep\n",
    "import pandas as pd\n",
    "from io import StringIO\n",
    "from functools import partial\n",
    "import matplotlib.pyplot as plt\n",
    "from selenium.webdriver.support import expected_conditions as EC\n",
    "from selenium.webdriver.common.by import By\n",
    "from selenium.common import NoSuchElementException,StaleElementReferenceException\n",
    "from matplotlib import style\n",
    "\n",
    "print(plt.style.available)\n",
    "%matplotlib inline\n",
    "\n",
    "driver=webdriver.Edge() #打开浏览器\n",
    "url='https://tj.esf.fang.com/house-a037-b0154/' #房源链接\n",
    "driver.get(url)"
   ]
  },
  {
   "cell_type": "code",
   "execution_count": 22,
   "metadata": {},
   "outputs": [],
   "source": [
    "string_list=[]\n",
    "i=0\n",
    "#数据获取\n",
    "while i<20:\n",
    "    table = driver.find_element(By.CLASS_NAME,'shop_list.shop_list_4')\n",
    "    # Extract table rows\n",
    "    rows = table.find_elements(By.TAG_NAME, 'dl')\n",
    "    # Initialize lists to store data\n",
    "    data = []\n",
    "    # Loop through rows and extract data\n",
    "    for row in rows:\n",
    "        cells = row.find_elements(By.TAG_NAME, 'dd')\n",
    "        if cells:  # Skip rows without data (e.g., headers)\n",
    "            row_data = [cell.text for cell in cells]\n",
    "            data.append(row_data)\n",
    "    df = pd.DataFrame(data)\n",
    "    string_list.append(df)\n",
    "    #driver.refresh()\n",
    "    try:\n",
    "        next_page=driver.find_element(By.LINK_TEXT,'下一页')\n",
    "        next_page.click()\n",
    "        i+=1\n",
    "    except NoSuchElementException:\n",
    "        break\n"
   ]
  },
  {
   "cell_type": "code",
   "execution_count": null,
   "metadata": {},
   "outputs": [],
   "source": [
    "def split_info(string_list,index_num):\n",
    "    info = string_list[0][0][index_num].split(\"\\n\")\n",
    "    price_info = string_list[0][1][index_num].split(\"\\n\")\n",
    "    #数据清洗\n",
    "    if info[1]==\"双重验真\":#异常值处理\n",
    "        title = info[0]\n",
    "        address = info[3]\n",
    "        price = price_info[0]\n",
    "        unit_price = price_info[1]\n",
    "        type =  info[2].split(\"|\")[0]\n",
    "        square =  info[2].split(\"|\")[1]\n",
    "        floor =  info[2].split(\"|\")[2]\n",
    "        direction =  info[2].split(\"|\")[3]\n",
    "        district =  info[4]\n",
    "        traffic =  info[-1]\n",
    "        if len(info[2].split(\"|\")) ==6:#异常值处理\n",
    "            date = info[1].split(\"|\")[4]\n",
    "        else:\n",
    "            date = None\n",
    "    else:\n",
    "        title = info[0]\n",
    "        address = info[2]\n",
    "        price = price_info[0]\n",
    "        unit_price = price_info[1]\n",
    "        type =  info[1].split(\"|\")[0]\n",
    "        square =  info[1].split(\"|\")[1]\n",
    "        floor =  info[1].split(\"|\")[2]\n",
    "        direction =  info[1].split(\"|\")[3]\n",
    "        district =  info[3]\n",
    "        traffic =  info[-1]\n",
    "        if len(info[1].split(\"|\")) ==6:#异常值处理\n",
    "            date = info[1].split(\"|\")[4]\n",
    "        else:\n",
    "            date = None\n",
    "    return [title,address,price,unit_price,type,square,floor,direction,date,district,traffic]\n"
   ]
  },
  {
   "cell_type": "code",
   "execution_count": null,
   "metadata": {},
   "outputs": [],
   "source": [
    "df = pd.DataFrame(columns=[\"标题\",\"小区\",\"总价\",\"单价\",\"户型\",\"面积\",\"层型\",\"朝向\",\"建成时间\",\"区域\",\"交通信息\"])\n",
    "for i in range(len(string_list)):#遍历子列表 写入数据\n",
    "    try:\n",
    "        for j in range(len(string_list[i])):\n",
    "            if j>59:\n",
    "                i+=1\n",
    "            infomation = split_info(string_list,j)\n",
    "            new_row = pd.DataFrame([infomation], columns=df.columns)\n",
    "            df = pd.concat([df, new_row], ignore_index=True)\n",
    "    except Exception as e:\n",
    "        print(f\"处理第 {i+1} 个子列表的第{j+1}条数据时出错: {e}\")"
   ]
  },
  {
   "cell_type": "code",
   "execution_count": null,
   "metadata": {},
   "outputs": [],
   "source": [
    "df\n"
   ]
  },
  {
   "cell_type": "code",
   "execution_count": null,
   "metadata": {},
   "outputs": [],
   "source": [
    "df.to_excel(\"queyechang_esf_data.xlsx\")"
   ]
  }
 ],
 "metadata": {
  "kernelspec": {
   "display_name": "dev",
   "language": "python",
   "name": "python3"
  },
  "language_info": {
   "codemirror_mode": {
    "name": "ipython",
    "version": 3
   },
   "file_extension": ".py",
   "mimetype": "text/x-python",
   "name": "python",
   "nbconvert_exporter": "python",
   "pygments_lexer": "ipython3",
   "version": "3.12.9"
  }
 },
 "nbformat": 4,
 "nbformat_minor": 2
}
