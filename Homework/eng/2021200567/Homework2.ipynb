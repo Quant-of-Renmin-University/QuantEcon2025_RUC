{
 "cells": [
  {
   "cell_type": "code",
   "execution_count": 3,
   "id": "ab660c23-d520-4382-abaa-b9e32a5c5d55",
   "metadata": {},
   "outputs": [],
   "source": [
    "from docxtpl import DocxTemplate"
   ]
  },
  {
   "cell_type": "code",
   "execution_count": 4,
   "id": "4662ae7a-a5be-4d32-bee2-e934dee110b7",
   "metadata": {},
   "outputs": [],
   "source": [
    "from docx2pdf import convert\n",
    "import time"
   ]
  },
  {
   "cell_type": "code",
   "execution_count": 5,
   "id": "134ec276-9c59-4a86-a3d1-dcbfb7f86c4b",
   "metadata": {},
   "outputs": [],
   "source": [
    "import pandas as pd"
   ]
  },
  {
   "cell_type": "code",
   "execution_count": 6,
   "id": "aa7611b2-e9f7-4c7b-9699-40a79f0c3de7",
   "metadata": {},
   "outputs": [],
   "source": [
    "df = pd.read_excel(\"schoollist.xlsx\", sheet_name = \"Sheet1\")"
   ]
  },
  {
   "cell_type": "code",
   "execution_count": 7,
   "id": "6acf2df0-aa1d-4f11-8f3d-bda0874e5e47",
   "metadata": {},
   "outputs": [],
   "source": [
    "datalist = df.values.tolist()"
   ]
  },
  {
   "cell_type": "code",
   "execution_count": 8,
   "id": "00d6f189-cc2a-48e3-86f9-afaeb9a2414f",
   "metadata": {},
   "outputs": [],
   "source": [
    "doc = DocxTemplate(\"application letter.docx\")"
   ]
  },
  {
   "cell_type": "code",
   "execution_count": 13,
   "id": "682c1d2e-63c1-48b2-aa58-70d93a9099b7",
   "metadata": {
    "scrolled": true
   },
   "outputs": [
    {
     "data": {
      "application/vnd.jupyter.widget-view+json": {
       "model_id": "e1cdedd84d1b44bcb90a24085a0d8ab8",
       "version_major": 2,
       "version_minor": 0
      },
      "text/plain": [
       "  0%|          | 0/90 [00:00<?, ?it/s]"
      ]
     },
     "metadata": {},
     "output_type": "display_data"
    }
   ],
   "source": [
    "for i in datalist:\n",
    "    for j in range(1,4,1):\n",
    "        context = {\"University\" : i[0], \"Program\" : i[j]}\n",
    "        doc.render(context)\n",
    "        doc.save(\"application/{}.docx\".format(i[0] + i[j]))        \n",
    "convert(\"application/\")        "
   ]
  }
 ],
 "metadata": {
  "kernelspec": {
   "display_name": "Python [conda env:base] *",
   "language": "python",
   "name": "conda-base-py"
  },
  "language_info": {
   "codemirror_mode": {
    "name": "ipython",
    "version": 3
   },
   "file_extension": ".py",
   "mimetype": "text/x-python",
   "name": "python",
   "nbconvert_exporter": "python",
   "pygments_lexer": "ipython3",
   "version": "3.12.7"
  }
 },
 "nbformat": 4,
 "nbformat_minor": 5
}
