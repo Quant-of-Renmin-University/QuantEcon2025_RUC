{
 "cells": [
  {
   "cell_type": "code",
   "execution_count": 2,
   "id": "9f6c205f-dbad-4a77-8479-dbb65e85ab16",
   "metadata": {},
   "outputs": [],
   "source": [
    "#pip install selenium"
   ]
  },
  {
   "cell_type": "code",
   "execution_count": 3,
   "id": "ec4e770e-461a-403f-bc6e-687a45108475",
   "metadata": {},
   "outputs": [],
   "source": [
    "from selenium import webdriver\n",
    "from time import sleep\n",
    "import pandas as pd\n",
    "from io import StringIO\n",
    "from functools import partial\n",
    "import matplotlib.pyplot as plt\n",
    "from selenium.webdriver.support import expected_conditions as EC\n",
    "from selenium.webdriver.common.by import By\n",
    "from selenium.common import NoSuchElementException,StaleElementReferenceException\n",
    "from matplotlib import style"
   ]
  },
  {
   "cell_type": "code",
   "execution_count": 5,
   "id": "6da3a4b1-797c-4564-99de-8e2ee607e7be",
   "metadata": {},
   "outputs": [],
   "source": [
    "#打开网页\n",
    "driver = webdriver.Chrome()\n",
    "url = 'https://tj.esf.fang.com/house-a010383-b011784/'\n",
    "driver.get(url)"
   ]
  },
  {
   "cell_type": "code",
   "execution_count": 8,
   "id": "b91c5b39-ccb6-41a5-ae94-d9ec19f7570b",
   "metadata": {},
   "outputs": [
    {
     "name": "stdout",
     "output_type": "stream",
     "text": [
      "1\n",
      "1\n",
      "1\n",
      "1\n",
      "1\n",
      "1\n",
      "1\n",
      "1\n",
      "1\n",
      "1\n",
      "1\n",
      "1\n",
      "1\n",
      "1\n",
      "1\n",
      "1\n",
      "1\n",
      "1\n",
      "1\n",
      "1\n"
     ]
    }
   ],
   "source": [
    "string_list = []\n",
    "\n",
    "i = 0\n",
    "\n",
    "while i < 20:\n",
    "    #爬取数据\n",
    "    table = driver.find_element('class name','shop_list')\n",
    "    rows = table.find_elements(By.TAG_NAME, 'dl')\n",
    "\n",
    "    # 提取信息\n",
    "    data = []\n",
    "    for row in rows:\n",
    "        title = row.find_element(By.CSS_SELECTOR, \"h4 a\").text\n",
    "        details_text = row.find_element(By.CSS_SELECTOR, \"p.tel_shop\").text\n",
    "        details = details_text.split(\"|\")\n",
    "        if len(details) >= 5:\n",
    "            house_type = details[0]  \n",
    "            area = details[1]         \n",
    "            floor = details[2]        \n",
    "            direction = details[3]    \n",
    "            built_year = details[4]  \n",
    "        else:\n",
    "            house_type = area = floor = direction = built_year = None \n",
    "        name = row.find_element(By.CSS_SELECTOR, \"p.add_shop a\").text\n",
    "        locate = row.find_element(By.CSS_SELECTOR, \"p.add_shop span\").text\n",
    "        price_dd = row.find_element(By.CSS_SELECTOR, \"dd.price_right\")\n",
    "        total_price = price_dd.find_element(By.CSS_SELECTOR, \"span.red\").text\n",
    "        price_per_m2 = price_dd.find_element(By.CSS_SELECTOR, \"span:not(.red)\").text\n",
    "        data.append([title, house_type, area, floor, direction, built_year, name, locate, total_price, price_per_m2])\n",
    "\n",
    "    df = pd.DataFrame(data)\n",
    "    #检测运行\n",
    "    print(1)\n",
    "    string_list.append(df)\n",
    "    #翻页\n",
    "    try:\n",
    "        next_page=driver.find_element('class name','last')\n",
    "        next_page.click()\n",
    "        i+=1\n",
    "    except NoSuchElementException:\n",
    "        break"
   ]
  },
  {
   "cell_type": "code",
   "execution_count": 9,
   "id": "dd68f2f7-2587-423b-857b-7f9a6b1efee6",
   "metadata": {},
   "outputs": [],
   "source": [
    "driver.quit()"
   ]
  },
  {
   "cell_type": "code",
   "execution_count": 10,
   "id": "3fccd120-d89f-4afe-bc37-000b8dcf5569",
   "metadata": {},
   "outputs": [],
   "source": [
    "#进一步收拾数据\n",
    "df_full=pd.concat(string_list)\n",
    "df_full.columns=['标题',\n",
    "'房型',\n",
    "'面积',\n",
    "'层型',\n",
    "'朝向','建成时间','小区名','区域','总价','单价']"
   ]
  },
  {
   "cell_type": "code",
   "execution_count": 11,
   "id": "97201155-0a8b-43c7-9bcc-9d5de49d074f",
   "metadata": {},
   "outputs": [
    {
     "data": {
      "text/html": [
       "<div>\n",
       "<style scoped>\n",
       "    .dataframe tbody tr th:only-of-type {\n",
       "        vertical-align: middle;\n",
       "    }\n",
       "\n",
       "    .dataframe tbody tr th {\n",
       "        vertical-align: top;\n",
       "    }\n",
       "\n",
       "    .dataframe thead th {\n",
       "        text-align: right;\n",
       "    }\n",
       "</style>\n",
       "<table border=\"1\" class=\"dataframe\">\n",
       "  <thead>\n",
       "    <tr style=\"text-align: right;\">\n",
       "      <th></th>\n",
       "      <th>标题</th>\n",
       "      <th>房型</th>\n",
       "      <th>面积</th>\n",
       "      <th>层型</th>\n",
       "      <th>朝向</th>\n",
       "      <th>建成时间</th>\n",
       "      <th>小区名</th>\n",
       "      <th>区域</th>\n",
       "      <th>总价</th>\n",
       "      <th>单价</th>\n",
       "    </tr>\n",
       "  </thead>\n",
       "  <tbody>\n",
       "    <tr>\n",
       "      <th>count</th>\n",
       "      <td>1200</td>\n",
       "      <td>1200</td>\n",
       "      <td>1200</td>\n",
       "      <td>1200</td>\n",
       "      <td>1200</td>\n",
       "      <td>1200</td>\n",
       "      <td>1200</td>\n",
       "      <td>1200</td>\n",
       "      <td>1200</td>\n",
       "      <td>1200</td>\n",
       "    </tr>\n",
       "    <tr>\n",
       "      <th>unique</th>\n",
       "      <td>690</td>\n",
       "      <td>15</td>\n",
       "      <td>332</td>\n",
       "      <td>115</td>\n",
       "      <td>95</td>\n",
       "      <td>27</td>\n",
       "      <td>100</td>\n",
       "      <td>81</td>\n",
       "      <td>268</td>\n",
       "      <td>697</td>\n",
       "    </tr>\n",
       "    <tr>\n",
       "      <th>top</th>\n",
       "      <td>工抵房6套66万精装小高洋房总价低近车接车送靠谱</td>\n",
       "      <td>3室2厅</td>\n",
       "      <td>卧室：4个</td>\n",
       "      <td>无花园</td>\n",
       "      <td>南北向</td>\n",
       "      <td>2018年建</td>\n",
       "      <td>博屿海</td>\n",
       "      <td>中新生态城-生态城北区中新大道与中海大道交汇</td>\n",
       "      <td>130万</td>\n",
       "      <td>7586元/㎡</td>\n",
       "    </tr>\n",
       "    <tr>\n",
       "      <th>freq</th>\n",
       "      <td>16</td>\n",
       "      <td>570</td>\n",
       "      <td>67</td>\n",
       "      <td>167</td>\n",
       "      <td>823</td>\n",
       "      <td>217</td>\n",
       "      <td>82</td>\n",
       "      <td>82</td>\n",
       "      <td>36</td>\n",
       "      <td>12</td>\n",
       "    </tr>\n",
       "  </tbody>\n",
       "</table>\n",
       "</div>"
      ],
      "text/plain": [
       "                              标题     房型       面积     层型     朝向      建成时间  \\\n",
       "count                       1200   1200     1200   1200   1200      1200   \n",
       "unique                       690     15      332    115     95        27   \n",
       "top     工抵房6套66万精装小高洋房总价低近车接车送靠谱  3室2厅    卧室：4个    无花园    南北向    2018年建    \n",
       "freq                          16    570       67    167    823       217   \n",
       "\n",
       "         小区名                      区域    总价       单价  \n",
       "count   1200                    1200  1200     1200  \n",
       "unique   100                      81   268      697  \n",
       "top      博屿海  中新生态城-生态城北区中新大道与中海大道交汇  130万  7586元/㎡  \n",
       "freq      82                      82    36       12  "
      ]
     },
     "execution_count": 11,
     "metadata": {},
     "output_type": "execute_result"
    }
   ],
   "source": [
    "df_full.describe()"
   ]
  },
  {
   "cell_type": "code",
   "execution_count": 12,
   "id": "0604b8d4-047c-42a0-b938-0aba1465473a",
   "metadata": {},
   "outputs": [],
   "source": [
    "#导出d\n",
    "df_full.to_csv('price.csv', index=False)"
   ]
  }
 ],
 "metadata": {
  "kernelspec": {
   "display_name": "Python [conda env:base] *",
   "language": "python",
   "name": "conda-base-py"
  },
  "language_info": {
   "codemirror_mode": {
    "name": "ipython",
    "version": 3
   },
   "file_extension": ".py",
   "mimetype": "text/x-python",
   "name": "python",
   "nbconvert_exporter": "python",
   "pygments_lexer": "ipython3",
   "version": "3.12.7"
  }
 },
 "nbformat": 4,
 "nbformat_minor": 5
}
