{
 "cells": [
  {
   "cell_type": "code",
   "execution_count": 54,
   "id": "8990300c-7171-4620-90b9-607200fefac1",
   "metadata": {},
   "outputs": [],
   "source": [
    "from selenium import webdriver\n",
    "from time import sleep\n",
    "import pandas as pd\n",
    "from io import StringIO\n",
    "from functools import partial\n",
    "import matplotlib.pyplot as plt\n",
    "from selenium.webdriver.support import expected_conditions as EC\n",
    "from selenium.webdriver.common.by import By\n",
    "from selenium.common import NoSuchElementException,StaleElementReferenceException\n",
    "from matplotlib import style\n",
    "from selenium.webdriver.support.ui import WebDriverWait"
   ]
  },
  {
   "cell_type": "code",
   "execution_count": 26,
   "id": "25ad81b5-2d5e-4b81-b047-b30eb43c29fc",
   "metadata": {},
   "outputs": [],
   "source": [
    "#打开网页\n",
    "driver = webdriver.Chrome()\n",
    "url = 'https://zu.fang.com/'\n",
    "driver.get(url)"
   ]
  },
  {
   "cell_type": "code",
   "execution_count": 36,
   "id": "f75950ab-83f1-4866-a332-2e517e593c36",
   "metadata": {},
   "outputs": [],
   "source": [
    "#debug\n",
    "table =driver.find_element('class name','houseList')\n",
    "    # Extract table rows\n",
    "rows = table.find_elements(By.TAG_NAME, 'dl')"
   ]
  },
  {
   "cell_type": "code",
   "execution_count": 38,
   "id": "c06ff845-d0c3-4415-805b-f94825918bcc",
   "metadata": {},
   "outputs": [
    {
     "data": {
      "text/plain": [
       "'直播看房\\n正南 贻成学府壹号 2室1厅 精装修\\n整租|2室1厅|83㎡|朝南\\n滨海新区-中新生态城-贻成学府壹号\\n交通便利精装修采光好\\n2800元/月\\n直播看房\\n南北通透 碧桂园滨海城 3室1厅 精装修\\n整租|3室1厅|94㎡|朝南北\\n滨海新区-中新生态城-碧桂园滨海城\\n拎包入住采光好精装修\\n3200元/月\\n直播看房\\n宸和园 2室2厅1卫 电梯房 精装\\n整租|3室2厅|135㎡|朝南北\\n滨海新区-中新生态城-宸和园\\n生活便利采光好拎包入住\\n4000元/月\\n直播看房\\n正南 吉宝季景铭郡 2室2厅 精装修\\n整租|2室2厅|87㎡|朝南\\n滨海新区-中新生态城-吉宝季景铭郡\\n生活便利采光好拎包入住\\n2300元/月\\n直播看房\\n南北通透 融创观澜壹號 2室2厅 精装修\\n整租|2室2厅|80㎡|朝南北\\n滨海新区-中新生态城-融创观澜壹號\\n拎包入住精装修生活便利\\n2800元/月\\n直播看房\\n南北通透鲲玺园3室2厅精装修\\n整租|3室2厅|145㎡|朝南北\\n滨海新区-中新生态城-鲲玺园\\n精装修拎包入住生活便利\\n2800元/月\\n直播看房\\n南北通透 首创康桥郡 2室2厅 精装修\\n整租|2室2厅|94㎡|朝南北\\n滨海新区-中新生态城-首创康桥郡\\n拎包入住精装修生活便利\\n3200元/月\\n直播看房\\n正南鲲贝园2室1厅精装修\\n整租|2室1厅|92㎡|朝南\\n滨海新区-中新生态城-鲲贝园\\n拎包入住采光好精装修\\n2200元/月\\n直播看房\\n正南 家和园 2室2厅 精装修\\n整租|2室2厅|99㎡|朝南\\n滨海新区-中新生态城-家和园\\n生活便利拎包入住精装修\\n2500元/月\\n直播看房\\n南北通透凤栖梧桐2室2厅精装修\\n整租|2室2厅|99㎡|朝南北\\n滨海新区-中新生态城-凤栖梧桐\\n精装修拎包入住生活便利\\n2700元/月\\n直播看房\\n南北通透和溪园3室2厅精装修\\n整租|3室2厅|97㎡|朝南北\\n滨海新区-中新生态城-和溪园\\n精装修拎包入住生活便利\\n2800元/月\\n南北通透亿利国际生态岛3室2厅精装修\\n整租|3室2厅|150㎡|朝南北\\n滨海新区-中新生态城-亿利国际生态岛\\n采光好精装修拎包入住\\n5000元/月\\n正南鲲贝园2室2厅精装修\\n整租|2室2厅|92㎡|朝南\\n滨海新区-中新生态城-鲲贝园\\n2000元/月\\n红星天铂晴园三室精装 家具齐全 随时看房\\n整租|3室2厅|100㎡|朝南北\\n滨海新区-中新生态城-滨海红星天铂\\n2500元/月\\n正南 班芙小镇枫书园 3室1厅 精装修\\n整租|3室1厅|117㎡|朝南\\n滨海新区-中新生态城-班芙小镇枫书园\\n2500元/月\\n正南和溪园2室1厅精装修\\n整租|2室1厅|83㎡|朝南\\n滨海新区-中新生态城-和溪园\\n2700元/月\\n精装样板间出租 全屋实木家具 陪读一路之隔 看房方便\\n整租|4室2厅|151㎡|朝南北\\n滨海新区-中新生态城-朗诗中福翡翠澜湾\\n4500元/月\\n南北通透凤栖梧桐3室2厅精装修\\n整租|3室2厅|110㎡|朝南北\\n滨海新区-中新生态城-凤栖梧桐\\n2600元/月\\n南北通透 宜和澜岸 3室2厅 豪华装修\\n整租|3室2厅|176㎡|朝南北\\n滨海新区-中新生态城-宜和澜岸\\n精装修拎包入住采光好\\n5500元/月\\n直播看房\\n南北通透 世茂玖熙 3室2厅 精装修\\n整租|3室2厅|99㎡|朝南北\\n滨海新区-中新生态城-世茂玖熙\\n精装修采光好交通便利\\n2800元/月\\n直播看房\\n南北通透 宜禾美嘉园 3室2厅 精装修\\n整租|3室2厅|125㎡|朝南北\\n滨海新区-中新生态城-宜禾美嘉园\\n精装修拎包入住生活便利\\n2400元/月\\n直播看房\\n南北通透 万通生态城新新家园 3室2厅 精装修\\n整租|3室2厅|155㎡|朝南北\\n滨海新区-中新生态城-万通生态城新新家园\\n拎包入住精装修采光好\\n4800元/月\\n直播看房\\n南北通透 双威悦馨苑 4室2厅 精装修\\n整租|4室2厅|167㎡|朝南北\\n滨海新区-中新生态城-双威悦馨苑\\n生活便利拎包入住精装修\\n3200元/月\\n直播看房\\n南北通透 远雄上林苑 2室2厅 精装修\\n整租|2室2厅|79㎡|朝南北\\n滨海新区-中新生态城-远雄上林苑\\n拎包入住生活便利精装修\\n2500元/月\\n直播看房\\n南北通透 凤栖梧桐 2室2厅 精装修\\n整租|2室2厅|93㎡|朝南北\\n滨海新区-中新生态城-凤栖梧桐\\n生活便利精装修拎包入住\\n2500元/月\\n直播看房\\n南北通透 贻成学府壹号 3室2厅 精装修\\n整租|3室2厅|115㎡|朝南北\\n滨海新区-中新生态城-贻成学府壹号\\n生活便利拎包入住采光好\\n3000元/月\\n直播看房\\n南北通透 阿亚拉雅境 3室2厅 精装修\\n整租|3室2厅|133㎡|朝南北\\n滨海新区-中新生态城-阿亚拉雅境\\n生活便利拎包入住精装修\\n2800元/月\\n直播看房\\n南北通透吉宝季景兰庭3室2厅精装修\\n整租|3室2厅|126㎡|朝南北\\n滨海新区-中新生态城-吉宝季景兰庭\\n拎包入住精装修生活便利\\n4000元/月\\n直播看房\\n南北通透首创康桥郡2室2厅精装修\\n整租|2室2厅|93㎡|朝南北\\n滨海新区-中新生态城-首创康桥郡\\n拎包入住精装修生活便利\\n2200元/月\\n直播看房\\n正南 贻成学府壹号 2室2厅 精装修\\n整租|2室2厅|83㎡|朝南\\n滨海新区-中新生态城-贻成学府壹号\\n生活便利拎包入住精装修\\n3300元/月\\n直播看房\\n正南 鲲玺园 2室1厅 精装修\\n整租|2室1厅|89㎡|朝南\\n滨海新区-中新生态城-鲲玺园\\n交通便利精装修采光好\\n2200元/月\\n直播看房\\n南北通透 世茂玖熙 3室2厅 精装修\\n整租|3室2厅|99㎡|朝南北\\n滨海新区-中新生态城-世茂玖熙\\n生活便利拎包入住精装修\\n2700元/月\\n直播看房\\n南北通透远雄兰苑2室2厅精装修\\n整租|2室2厅|122㎡|朝南北\\n滨海新区-中新生态城-远雄兰苑\\n生活便利精装修拎包入住\\n2500元/月\\n直播看房\\n南北通透鲲玉园3室2厅精装修\\n整租|3室2厅|156㎡|朝南北\\n滨海新区-中新生态城-鲲玉园\\n拎包入住精装修交通便利\\n3700元/月\\n直播看房\\n毛坯出租,适合工人用房,起步区中心位置,周边吃饭买菜\\n整租|2室1厅|98㎡|朝南\\n滨海新区-中新生态城-和畅园\\n交通便利生活便利\\n2200元/月\\n直播看房\\n南北通透 凤栖梧桐 3室2厅 精装修\\n整租|3室2厅|125㎡|朝南北\\n滨海新区-中新生态城-凤栖梧桐\\n生活便利拎包入住精装修\\n2700元/月\\n直播看房\\n南北通透 世茂玖熙 3室2厅 精装修\\n整租|3室2厅|116㎡|朝南北\\n滨海新区-中新生态城-世茂玖熙\\n交通便利精装修采光好\\n2600元/月\\n直播看房\\n正南 万科锦庐 2室2厅 精装修\\n整租|2室2厅|92㎡|朝南\\n滨海新区-中新生态城-万科锦庐\\n生活便利拎包入住精装修\\n2400元/月\\n直播看房\\n省心好住优质房源,周围商圈配套齐全,生活便利,公园超\\n整租|2室2厅|87㎡|朝南北\\n滨海新区-中新生态城-吉宝季景铭郡\\n精装修交通便利生活便利\\n2600元/月\\n直播看房\\n众美青城 3室2厅1卫 电梯房 精装修104平米\\n整租|3室2厅|104㎡|朝南北\\n滨海新区-中新生态城-众美青城\\n3200元/月\\n直播看房\\n南北通透美林园3室2厅精装修\\n整租|3室2厅|129㎡|朝南北\\n滨海新区-中新生态城-美林园\\n采光好精装修拎包入住\\n3800元/月\\n直播看房\\n正南 和溪园 2室1厅 精装修\\n整租|2室1厅|87㎡|朝南\\n滨海新区-中新生态城-和溪园\\n生活便利拎包入住精装修\\n2700元/月\\n直播看房\\n南北通透 凤栖梧桐 3室2厅 精装修\\n整租|3室2厅|117㎡|朝南北\\n滨海新区-中新生态城-凤栖梧桐\\n精装修采光好交通便利\\n2800元/月\\n直播看房\\n正南 双威悦馨苑 2室2厅 精装修\\n整租|2室2厅|96㎡|朝南\\n滨海新区-中新生态城-双威悦馨苑\\n2500元/月\\n直播看房\\n正南季景华庭1室1厅精装修\\n整租|1室1厅|57㎡|朝南\\n滨海新区-中新生态城-季景华庭\\n拎包入住精装修交通便利\\n1800元/月\\n直播看房\\n正南凤栖梧桐4室2厅精装修\\n整租|4室2厅|141㎡|朝南\\n滨海新区-中新生态城-凤栖梧桐\\n精装修拎包入住采光好\\n3200元/月\\n直播看房\\n南北通透 天房天和园 2室2厅 精装修\\n整租|2室2厅|101㎡|朝南北\\n滨海新区-中新生态城-天房天和园\\n拎包入住精装修采光好\\n2800元/月\\n直播看房\\n南北通透 美林园 3室2厅 精装修\\n整租|3室2厅|127㎡|朝南北\\n滨海新区-中新生态城-美林园\\n生活便利拎包入住精装修\\n2000元/月\\n正南和畅园1室1厅精装修\\n整租|1室1厅|59㎡|朝南\\n滨海新区-中新生态城-和畅园\\n1800元/月\\n直播看房\\n南北通透 世茂国风锦唐 3室2厅 精装修\\n整租|3室2厅|124㎡|朝南北\\n滨海新区-中新生态城-世茂国风锦唐\\n采光好精装修生活便利\\n3000元/月\\n直播看房\\n正南宸和园3室2厅精装修\\n整租|3室2厅|96㎡|朝南\\n滨海新区-中新生态城-宸和园\\n精装修拎包入住采光好\\n4000元/月\\n直播看房\\n正南 和溪园 2室2厅 精装修\\n整租|2室2厅|87㎡|朝南\\n滨海新区-中新生态城-和溪园\\n生活便利拎包入住采光好\\n2400元/月\\n南北通透 景杉园 3室2厅 精装修\\n整租|3室2厅|129㎡|朝南北\\n滨海新区-中新生态城-景杉园\\n生活便利拎包入住采光好\\n3500元/月\\n直播看房\\n南北通透 宜禾美嘉园 3室2厅 精装修\\n整租|3室2厅|125㎡|朝南北\\n滨海新区-中新生态城-宜禾美嘉园\\n生活便利精装修采光好\\n4500元/月\\n直播看房\\n正南 融创观澜壹號 3室2厅 精装修\\n整租|3室2厅|101㎡|朝南\\n滨海新区-中新生态城-融创观澜壹號\\n生活便利拎包入住采光好\\n2600元/月\\n直播看房\\n正南 新城樾府 3室2厅 精装修\\n整租|3室2厅|108㎡|朝南\\n滨海新区-中新生态城-新城樾府\\n拎包入住精装修采光好\\n3000元/月\\n直播看房\\n南北通透 鲲贝园 2室2厅 精装修\\n整租|2室2厅|102㎡|朝南北\\n滨海新区-中新生态城-鲲贝园\\n拎包入住精装修生活便利\\n2200元/月\\n直播看房\\n正南鲲玉园2室1厅精装修\\n整租|2室1厅|93㎡|朝南\\n滨海新区-中新生态城-鲲玉园\\n生活便利精装修拎包入住\\n2000元/月\\n直播看房\\n正南双威悦馨苑2室2厅精装修\\n整租|2室2厅|86㎡|朝南\\n滨海新区-中新生态城-双威悦馨苑\\n生活便利采光好精装修\\n2500元/月\\n直播看房\\n毛坯,一楼带小院,适合商用培训\\n整租|2室2厅|94㎡|朝南北\\n滨海新区-中新生态城-首创康桥郡\\n采光好交通便利生活便利\\n3000元/月'"
      ]
     },
     "execution_count": 38,
     "metadata": {},
     "output_type": "execute_result"
    }
   ],
   "source": [
    "table.text"
   ]
  },
  {
   "cell_type": "code",
   "execution_count": 69,
   "id": "d29efa1e-e98b-446c-ba77-cf5977a6ae28",
   "metadata": {},
   "outputs": [
    {
     "name": "stdout",
     "output_type": "stream",
     "text": [
      "1\n",
      "成功点击下一页\n",
      "1\n",
      "成功点击下一页\n",
      "1\n",
      "成功点击下一页\n",
      "1\n",
      "成功点击下一页\n",
      "1\n",
      "成功点击下一页\n",
      "1\n",
      "成功点击下一页\n",
      "1\n",
      "成功点击下一页\n",
      "1\n"
     ]
    }
   ],
   "source": [
    "string_list = []\n",
    "\n",
    "i = 0\n",
    "\n",
    "while i < 20:\n",
    "    #爬数据\n",
    "    table =driver.find_element('class name','houseList')\n",
    "    rows = table.find_elements(By.TAG_NAME, 'dl')\n",
    "\n",
    "    # 收拾数据\n",
    "    data = []\n",
    "    for row in rows:\n",
    "        title = row.find_element(By.CSS_SELECTOR, \"p.title\").text\n",
    "        details_text = row.find_element(By.CSS_SELECTOR, \"p.font15.mt12.bold\").text\n",
    "        details = details_text.split(\"|\")\n",
    "        if len(details) >= 4:\n",
    "            rent_type = details[0]  \n",
    "            floor = details[1]\n",
    "            area = details[2]         \n",
    "            direction = details[3]\n",
    "        else:\n",
    "            house_type = area = floor = direction = None \n",
    "        #locate = row.find_element(By.CSS_SELECTOR, \"p#rentid_D09_1_06.gray6.mt12\").text\n",
    "        locate = driver.find_element(By.XPATH, \"//p[@id='rentid_D09_1_06' and contains(@class, 'gray6') and contains(@class, 'mt12')]\").text\n",
    "        price = row.find_element(By.CSS_SELECTOR, \"p.mt5.alingC\").text\n",
    "        data.append([title, rent_type, floor, area, direction, locate, price])\n",
    "\n",
    "    df = pd.DataFrame(data)\n",
    "\n",
    "    #检查运行\n",
    "    print(1)\n",
    "    string_list.append(df)\n",
    "    #翻页\n",
    "    try:\n",
    "        next_page = WebDriverWait(driver, 20).until(\n",
    "            EC.element_to_be_clickable(\n",
    "                (By.XPATH, '//div[@id=\"rentid_D10_01\"]/a[text()=\"下一页\"]')\n",
    "            )\n",
    "        )\n",
    "        next_page.click()\n",
    "        print(\"成功点击下一页\")\n",
    "        i+=1   \n",
    "    except Exception as e:\n",
    "        break"
   ]
  },
  {
   "cell_type": "code",
   "execution_count": 71,
   "id": "80acf16c-f141-445f-b77f-d5e49efce9a5",
   "metadata": {},
   "outputs": [],
   "source": [
    "driver.quit()"
   ]
  },
  {
   "cell_type": "code",
   "execution_count": 72,
   "id": "82909711-bc1b-4213-9b49-0aa0fc74702a",
   "metadata": {},
   "outputs": [],
   "source": [
    "#进一步收拾数据并观察\n",
    "df_full=pd.concat(string_list)\n",
    "df_full.columns=['标题',\n",
    "'租房类型',\n",
    "'房型',\n",
    "'面积',\n",
    "'朝向',\n",
    "'位置','价格',]"
   ]
  },
  {
   "cell_type": "code",
   "execution_count": 76,
   "id": "6a2a2c02-0799-4157-bb87-a422ce496dde",
   "metadata": {},
   "outputs": [
    {
     "data": {
      "text/html": [
       "<div>\n",
       "<style scoped>\n",
       "    .dataframe tbody tr th:only-of-type {\n",
       "        vertical-align: middle;\n",
       "    }\n",
       "\n",
       "    .dataframe tbody tr th {\n",
       "        vertical-align: top;\n",
       "    }\n",
       "\n",
       "    .dataframe thead th {\n",
       "        text-align: right;\n",
       "    }\n",
       "</style>\n",
       "<table border=\"1\" class=\"dataframe\">\n",
       "  <thead>\n",
       "    <tr style=\"text-align: right;\">\n",
       "      <th></th>\n",
       "      <th>标题</th>\n",
       "      <th>租房类型</th>\n",
       "      <th>房型</th>\n",
       "      <th>面积</th>\n",
       "      <th>朝向</th>\n",
       "      <th>位置</th>\n",
       "      <th>价格</th>\n",
       "    </tr>\n",
       "  </thead>\n",
       "  <tbody>\n",
       "    <tr>\n",
       "      <th>count</th>\n",
       "      <td>442</td>\n",
       "      <td>442</td>\n",
       "      <td>442</td>\n",
       "      <td>442</td>\n",
       "      <td>442</td>\n",
       "      <td>442</td>\n",
       "      <td>442</td>\n",
       "    </tr>\n",
       "    <tr>\n",
       "      <th>unique</th>\n",
       "      <td>271</td>\n",
       "      <td>1</td>\n",
       "      <td>10</td>\n",
       "      <td>91</td>\n",
       "      <td>7</td>\n",
       "      <td>8</td>\n",
       "      <td>44</td>\n",
       "    </tr>\n",
       "    <tr>\n",
       "      <th>top</th>\n",
       "      <td>正南力高阳光海岸逸海苑1室1厅精装修</td>\n",
       "      <td>整租</td>\n",
       "      <td>3室2厅</td>\n",
       "      <td>89㎡</td>\n",
       "      <td>朝南北</td>\n",
       "      <td>滨海新区-中新生态城-家和园</td>\n",
       "      <td>3000元/月</td>\n",
       "    </tr>\n",
       "    <tr>\n",
       "      <th>freq</th>\n",
       "      <td>10</td>\n",
       "      <td>442</td>\n",
       "      <td>236</td>\n",
       "      <td>30</td>\n",
       "      <td>278</td>\n",
       "      <td>60</td>\n",
       "      <td>51</td>\n",
       "    </tr>\n",
       "  </tbody>\n",
       "</table>\n",
       "</div>"
      ],
      "text/plain": [
       "                        标题 租房类型    房型   面积   朝向              位置       价格\n",
       "count                  442  442   442  442  442             442      442\n",
       "unique                 271    1    10   91    7               8       44\n",
       "top     正南力高阳光海岸逸海苑1室1厅精装修   整租  3室2厅  89㎡  朝南北  滨海新区-中新生态城-家和园  3000元/月\n",
       "freq                    10  442   236   30  278              60       51"
      ]
     },
     "execution_count": 76,
     "metadata": {},
     "output_type": "execute_result"
    }
   ],
   "source": [
    "df_full.describe()"
   ]
  },
  {
   "cell_type": "code",
   "execution_count": 79,
   "id": "f2630c9b-641c-4841-a73f-e53fc839fe6b",
   "metadata": {},
   "outputs": [],
   "source": [
    "#输出\n",
    "df_full.to_csv('df_full_rent.csv', index=False)"
   ]
  }
 ],
 "metadata": {
  "kernelspec": {
   "display_name": "Python [conda env:base] *",
   "language": "python",
   "name": "conda-base-py"
  },
  "language_info": {
   "codemirror_mode": {
    "name": "ipython",
    "version": 3
   },
   "file_extension": ".py",
   "mimetype": "text/x-python",
   "name": "python",
   "nbconvert_exporter": "python",
   "pygments_lexer": "ipython3",
   "version": "3.12.7"
  }
 },
 "nbformat": 4,
 "nbformat_minor": 5
}
