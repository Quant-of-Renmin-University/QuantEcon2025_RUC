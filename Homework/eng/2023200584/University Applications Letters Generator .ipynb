{
 "cells": [
  {
   "cell_type": "code",
   "execution_count": null,
   "id": "b056a29a-5e28-462b-ac68-4b8f5438c694",
   "metadata": {},
   "outputs": [],
   "source": [
    "import pandas as pd\n",
    "!pip install docxtpl\n",
    "!pip install docx2pdf\n",
    "from docxtpl import DocxTemplate\n",
    "from docx2pdf import convert"
   ]
  },
  {
   "cell_type": "code",
   "execution_count": 27,
   "id": "aab56297-fed2-4578-aa32-27818b96f2d1",
   "metadata": {},
   "outputs": [],
   "source": [
    "df = pd.read_excel('university_application.xlsx')\n",
    "template = DocxTemplate('university_application.docx')"
   ]
  },
  {
   "cell_type": "code",
   "execution_count": null,
   "id": "74ff5a8a-cabe-4f35-8f96-2cad4016d0d6",
   "metadata": {},
   "outputs": [],
   "source": [
    "for index, row in df.iterrows():\n",
    "    university = row['University Names']\n",
    "    for major in ['Major1', 'Major2','Major3']:\n",
    "        context = {'university': university, 'major': row[major]}\n",
    "        template.render(context)\n",
    "        output_filename = f\"{university}_{row[major]}.docx\"\n",
    "        template.save(output_filename)\n",
    "        convert(output_filename)"
   ]
  }
 ],
 "metadata": {
  "kernelspec": {
   "display_name": "Python 3 (ipykernel)",
   "language": "python",
   "name": "python3"
  },
  "language_info": {
   "codemirror_mode": {
    "name": "ipython",
    "version": 3
   },
   "file_extension": ".py",
   "mimetype": "text/x-python",
   "name": "python",
   "nbconvert_exporter": "python",
   "pygments_lexer": "ipython3",
   "version": "3.12.4"
  }
 },
 "nbformat": 4,
 "nbformat_minor": 5
}
