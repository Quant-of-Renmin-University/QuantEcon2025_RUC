{
 "cells": [
  {
   "cell_type": "code",
   "execution_count": 23,
   "metadata": {},
   "outputs": [],
   "source": [
    "import pandas as pd\n",
    "import matplotlib.pyplot as plt\n",
    "from matplotlib import style\n"
   ]
  },
  {
   "cell_type": "code",
   "execution_count": null,
   "metadata": {},
   "outputs": [
    {
     "name": "stdout",
     "output_type": "stream",
     "text": [
      "['Solarize_Light2', '_classic_test_patch', '_mpl-gallery', '_mpl-gallery-nogrid', 'bmh', 'classic', 'dark_background', 'fast', 'fivethirtyeight', 'ggplot', 'grayscale', 'petroff10', 'seaborn-v0_8', 'seaborn-v0_8-bright', 'seaborn-v0_8-colorblind', 'seaborn-v0_8-dark', 'seaborn-v0_8-dark-palette', 'seaborn-v0_8-darkgrid', 'seaborn-v0_8-deep', 'seaborn-v0_8-muted', 'seaborn-v0_8-notebook', 'seaborn-v0_8-paper', 'seaborn-v0_8-pastel', 'seaborn-v0_8-poster', 'seaborn-v0_8-talk', 'seaborn-v0_8-ticks', 'seaborn-v0_8-white', 'seaborn-v0_8-whitegrid', 'tableau-colorblind10']\n"
     ]
    }
   ],
   "source": [
    "\n",
    "%matplotlib inline\n",
    "#设置中文字体\n",
    "plt.rcParams['font.sans-serif'] = ['SimHei']"
   ]
  },
  {
   "cell_type": "code",
   "execution_count": 25,
   "metadata": {},
   "outputs": [],
   "source": [
    "#读取文件\n",
    "df_price = pd.read_excel('combine_price.xlsx')\n",
    "df_rent = pd.read_excel('combine_rent.xlsx')"
   ]
  },
  {
   "cell_type": "markdown",
   "metadata": {},
   "source": [
    "# Data Research"
   ]
  },
  {
   "cell_type": "code",
   "execution_count": 26,
   "metadata": {},
   "outputs": [
    {
     "data": {
      "text/html": [
       "<div>\n",
       "<style scoped>\n",
       "    .dataframe tbody tr th:only-of-type {\n",
       "        vertical-align: middle;\n",
       "    }\n",
       "\n",
       "    .dataframe tbody tr th {\n",
       "        vertical-align: top;\n",
       "    }\n",
       "\n",
       "    .dataframe thead th {\n",
       "        text-align: right;\n",
       "    }\n",
       "</style>\n",
       "<table border=\"1\" class=\"dataframe\">\n",
       "  <thead>\n",
       "    <tr style=\"text-align: right;\">\n",
       "      <th></th>\n",
       "      <th>Unnamed: 0.1</th>\n",
       "      <th>Unnamed: 0</th>\n",
       "      <th>m2(esf)</th>\n",
       "      <th>price_sum</th>\n",
       "      <th>P/m2</th>\n",
       "      <th>block</th>\n",
       "    </tr>\n",
       "  </thead>\n",
       "  <tbody>\n",
       "    <tr>\n",
       "      <th>count</th>\n",
       "      <td>3552.000000</td>\n",
       "      <td>3552.000000</td>\n",
       "      <td>3552.000000</td>\n",
       "      <td>3.552000e+03</td>\n",
       "      <td>3552.000000</td>\n",
       "      <td>3552.000000</td>\n",
       "    </tr>\n",
       "    <tr>\n",
       "      <th>mean</th>\n",
       "      <td>521.490991</td>\n",
       "      <td>29.328829</td>\n",
       "      <td>121.578925</td>\n",
       "      <td>1.262254e+07</td>\n",
       "      <td>96894.885980</td>\n",
       "      <td>2.504505</td>\n",
       "    </tr>\n",
       "    <tr>\n",
       "      <th>std</th>\n",
       "      <td>358.981867</td>\n",
       "      <td>17.316572</td>\n",
       "      <td>68.446894</td>\n",
       "      <td>7.093253e+06</td>\n",
       "      <td>27894.675199</td>\n",
       "      <td>1.292040</td>\n",
       "    </tr>\n",
       "    <tr>\n",
       "      <th>min</th>\n",
       "      <td>0.000000</td>\n",
       "      <td>0.000000</td>\n",
       "      <td>2.000000</td>\n",
       "      <td>1.900000e+06</td>\n",
       "      <td>22949.000000</td>\n",
       "      <td>1.000000</td>\n",
       "    </tr>\n",
       "    <tr>\n",
       "      <th>25%</th>\n",
       "      <td>221.750000</td>\n",
       "      <td>14.000000</td>\n",
       "      <td>78.000000</td>\n",
       "      <td>7.500000e+06</td>\n",
       "      <td>75600.000000</td>\n",
       "      <td>1.000000</td>\n",
       "    </tr>\n",
       "    <tr>\n",
       "      <th>50%</th>\n",
       "      <td>443.500000</td>\n",
       "      <td>29.000000</td>\n",
       "      <td>109.110000</td>\n",
       "      <td>1.098000e+07</td>\n",
       "      <td>94344.000000</td>\n",
       "      <td>3.000000</td>\n",
       "    </tr>\n",
       "    <tr>\n",
       "      <th>75%</th>\n",
       "      <td>815.250000</td>\n",
       "      <td>44.000000</td>\n",
       "      <td>152.000000</td>\n",
       "      <td>1.569000e+07</td>\n",
       "      <td>117708.000000</td>\n",
       "      <td>4.000000</td>\n",
       "    </tr>\n",
       "    <tr>\n",
       "      <th>max</th>\n",
       "      <td>1259.000000</td>\n",
       "      <td>59.000000</td>\n",
       "      <td>559.390000</td>\n",
       "      <td>4.900000e+07</td>\n",
       "      <td>184172.000000</td>\n",
       "      <td>4.000000</td>\n",
       "    </tr>\n",
       "  </tbody>\n",
       "</table>\n",
       "</div>"
      ],
      "text/plain": [
       "       Unnamed: 0.1   Unnamed: 0      m2(esf)     price_sum           P/m2  \\\n",
       "count   3552.000000  3552.000000  3552.000000  3.552000e+03    3552.000000   \n",
       "mean     521.490991    29.328829   121.578925  1.262254e+07   96894.885980   \n",
       "std      358.981867    17.316572    68.446894  7.093253e+06   27894.675199   \n",
       "min        0.000000     0.000000     2.000000  1.900000e+06   22949.000000   \n",
       "25%      221.750000    14.000000    78.000000  7.500000e+06   75600.000000   \n",
       "50%      443.500000    29.000000   109.110000  1.098000e+07   94344.000000   \n",
       "75%      815.250000    44.000000   152.000000  1.569000e+07  117708.000000   \n",
       "max     1259.000000    59.000000   559.390000  4.900000e+07  184172.000000   \n",
       "\n",
       "             block  \n",
       "count  3552.000000  \n",
       "mean      2.504505  \n",
       "std       1.292040  \n",
       "min       1.000000  \n",
       "25%       1.000000  \n",
       "50%       3.000000  \n",
       "75%       4.000000  \n",
       "max       4.000000  "
      ]
     },
     "execution_count": 26,
     "metadata": {},
     "output_type": "execute_result"
    }
   ],
   "source": [
    "# Data description\n",
    "df_price['price_sum'] = df_price['price_sum'] * 10000    # 调整单位 将房价的单位从‘万元’转化为‘元’\n",
    "df_price.describe()   "
   ]
  },
  {
   "cell_type": "code",
   "execution_count": 27,
   "metadata": {},
   "outputs": [
    {
     "data": {
      "text/html": [
       "<div>\n",
       "<style scoped>\n",
       "    .dataframe tbody tr th:only-of-type {\n",
       "        vertical-align: middle;\n",
       "    }\n",
       "\n",
       "    .dataframe tbody tr th {\n",
       "        vertical-align: top;\n",
       "    }\n",
       "\n",
       "    .dataframe thead th {\n",
       "        text-align: right;\n",
       "    }\n",
       "</style>\n",
       "<table border=\"1\" class=\"dataframe\">\n",
       "  <thead>\n",
       "    <tr style=\"text-align: right;\">\n",
       "      <th></th>\n",
       "      <th>Unnamed: 0.1</th>\n",
       "      <th>Unnamed: 0</th>\n",
       "      <th>m2(rent)</th>\n",
       "      <th>rent</th>\n",
       "      <th>block</th>\n",
       "    </tr>\n",
       "  </thead>\n",
       "  <tbody>\n",
       "    <tr>\n",
       "      <th>count</th>\n",
       "      <td>1448.000000</td>\n",
       "      <td>1448.000000</td>\n",
       "      <td>1448.000000</td>\n",
       "      <td>1.448000e+03</td>\n",
       "      <td>1448.000000</td>\n",
       "    </tr>\n",
       "    <tr>\n",
       "      <th>mean</th>\n",
       "      <td>201.242403</td>\n",
       "      <td>28.825276</td>\n",
       "      <td>80.125691</td>\n",
       "      <td>1.743311e+05</td>\n",
       "      <td>2.361878</td>\n",
       "    </tr>\n",
       "    <tr>\n",
       "      <th>std</th>\n",
       "      <td>134.542517</td>\n",
       "      <td>17.261772</td>\n",
       "      <td>74.673799</td>\n",
       "      <td>7.595001e+05</td>\n",
       "      <td>1.242079</td>\n",
       "    </tr>\n",
       "    <tr>\n",
       "      <th>min</th>\n",
       "      <td>0.000000</td>\n",
       "      <td>0.000000</td>\n",
       "      <td>6.000000</td>\n",
       "      <td>1.200000e+04</td>\n",
       "      <td>1.000000</td>\n",
       "    </tr>\n",
       "    <tr>\n",
       "      <th>25%</th>\n",
       "      <td>90.000000</td>\n",
       "      <td>14.000000</td>\n",
       "      <td>18.000000</td>\n",
       "      <td>2.640000e+04</td>\n",
       "      <td>1.000000</td>\n",
       "    </tr>\n",
       "    <tr>\n",
       "      <th>50%</th>\n",
       "      <td>180.500000</td>\n",
       "      <td>29.000000</td>\n",
       "      <td>59.000000</td>\n",
       "      <td>6.960000e+04</td>\n",
       "      <td>2.000000</td>\n",
       "    </tr>\n",
       "    <tr>\n",
       "      <th>75%</th>\n",
       "      <td>293.250000</td>\n",
       "      <td>44.000000</td>\n",
       "      <td>118.750000</td>\n",
       "      <td>1.320000e+05</td>\n",
       "      <td>4.000000</td>\n",
       "    </tr>\n",
       "    <tr>\n",
       "      <th>max</th>\n",
       "      <td>525.000000</td>\n",
       "      <td>59.000000</td>\n",
       "      <td>346.000000</td>\n",
       "      <td>9.600000e+06</td>\n",
       "      <td>4.000000</td>\n",
       "    </tr>\n",
       "  </tbody>\n",
       "</table>\n",
       "</div>"
      ],
      "text/plain": [
       "       Unnamed: 0.1   Unnamed: 0     m2(rent)          rent        block\n",
       "count   1448.000000  1448.000000  1448.000000  1.448000e+03  1448.000000\n",
       "mean     201.242403    28.825276    80.125691  1.743311e+05     2.361878\n",
       "std      134.542517    17.261772    74.673799  7.595001e+05     1.242079\n",
       "min        0.000000     0.000000     6.000000  1.200000e+04     1.000000\n",
       "25%       90.000000    14.000000    18.000000  2.640000e+04     1.000000\n",
       "50%      180.500000    29.000000    59.000000  6.960000e+04     2.000000\n",
       "75%      293.250000    44.000000   118.750000  1.320000e+05     4.000000\n",
       "max      525.000000    59.000000   346.000000  9.600000e+06     4.000000"
      ]
     },
     "execution_count": 27,
     "metadata": {},
     "output_type": "execute_result"
    }
   ],
   "source": [
    "df_rent['rent'] = df_rent['rent']*12    #调整单位 将月租金转化为年租金\n",
    "df_rent.describe()"
   ]
  },
  {
   "cell_type": "code",
   "execution_count": 28,
   "metadata": {},
   "outputs": [
    {
     "data": {
      "text/plain": [
       "<Axes: >"
      ]
     },
     "execution_count": 28,
     "metadata": {},
     "output_type": "execute_result"
    },
    {
     "data": {
      "image/png": "[encoded data removed]",
      "text/plain": [
       "<Figure size 1500x600 with 2 Axes>"
      ]
     },
     "metadata": {},
     "output_type": "display_data"
    }
   ],
   "source": [
    "# find outliers\n",
    "# use Box Plot\n",
    "fig, axes = plt.subplots(nrows = 1, ncols = 2, figsize = (15,6))\n",
    "df_price.boxplot(column = ['m2(esf)'], ax = axes[0])\n",
    "df_price.boxplot(column = ['price_sum'], ax = axes[1])"
   ]
  },
  {
   "cell_type": "code",
   "execution_count": 29,
   "metadata": {},
   "outputs": [
    {
     "data": {
      "text/plain": [
       "<Axes: >"
      ]
     },
     "execution_count": 29,
     "metadata": {},
     "output_type": "execute_result"
    },
    {
     "data": {
      "image/png": "[encoded data removed]",
      "text/plain": [
       "<Figure size 1500x600 with 2 Axes>"
      ]
     },
     "metadata": {},
     "output_type": "display_data"
    }
   ],
   "source": [
    "fig, axes = plt.subplots(nrows = 1, ncols = 2, figsize = (15,6))\n",
    "df_rent.boxplot(column = ['m2(rent)'], ax = axes[0])\n",
    "df_rent.boxplot(column = ['rent'], ax = axes[1])"
   ]
  },
  {
   "cell_type": "code",
   "execution_count": 42,
   "metadata": {},
   "outputs": [
    {
     "data": {
      "text/plain": [
       "count     1448.000000\n",
       "mean      1815.782606\n",
       "std       4155.519956\n",
       "min        120.000000\n",
       "25%       1086.883117\n",
       "50%       1360.000000\n",
       "75%       1680.000000\n",
       "max      53631.284916\n",
       "Name: rent/m2, dtype: float64"
      ]
     },
     "execution_count": 42,
     "metadata": {},
     "output_type": "execute_result"
    }
   ],
   "source": [
    "# price/m2  and rent/m2  for each block\n",
    "df_rent['rent/m2'] = df_rent[\"rent\"] / df_rent['m2(rent)']\n",
    "df_rent['rent/m2'].describe()"
   ]
  },
  {
   "cell_type": "code",
   "execution_count": 31,
   "metadata": {},
   "outputs": [
    {
     "data": {
      "text/plain": [
       "count      3552.000000\n",
       "mean      96894.885980\n",
       "std       27894.675199\n",
       "min       22949.000000\n",
       "25%       75600.000000\n",
       "50%       94344.000000\n",
       "75%      117708.000000\n",
       "max      184172.000000\n",
       "Name: P/m2, dtype: float64"
      ]
     },
     "execution_count": 31,
     "metadata": {},
     "output_type": "execute_result"
    }
   ],
   "source": [
    "# price/m2 has already provided by the website\n",
    "df_price['P/m2'].describe()"
   ]
  },
  {
   "cell_type": "code",
   "execution_count": 32,
   "metadata": {},
   "outputs": [
    {
     "data": {
      "text/html": [
       "<div>\n",
       "<style scoped>\n",
       "    .dataframe tbody tr th:only-of-type {\n",
       "        vertical-align: middle;\n",
       "    }\n",
       "\n",
       "    .dataframe tbody tr th {\n",
       "        vertical-align: top;\n",
       "    }\n",
       "\n",
       "    .dataframe thead th {\n",
       "        text-align: right;\n",
       "    }\n",
       "</style>\n",
       "<table border=\"1\" class=\"dataframe\">\n",
       "  <thead>\n",
       "    <tr style=\"text-align: right;\">\n",
       "      <th></th>\n",
       "      <th>block</th>\n",
       "      <th>median_price</th>\n",
       "      <th>median_rent</th>\n",
       "      <th>price_to_rent_ratio</th>\n",
       "    </tr>\n",
       "  </thead>\n",
       "  <tbody>\n",
       "    <tr>\n",
       "      <th>0</th>\n",
       "      <td>1</td>\n",
       "      <td>13880000.0</td>\n",
       "      <td>68400.0</td>\n",
       "      <td>202.923977</td>\n",
       "    </tr>\n",
       "    <tr>\n",
       "      <th>1</th>\n",
       "      <td>2</td>\n",
       "      <td>7050000.0</td>\n",
       "      <td>54000.0</td>\n",
       "      <td>130.555556</td>\n",
       "    </tr>\n",
       "    <tr>\n",
       "      <th>2</th>\n",
       "      <td>3</td>\n",
       "      <td>11000000.0</td>\n",
       "      <td>76200.0</td>\n",
       "      <td>144.356955</td>\n",
       "    </tr>\n",
       "    <tr>\n",
       "      <th>3</th>\n",
       "      <td>4</td>\n",
       "      <td>10650000.0</td>\n",
       "      <td>69600.0</td>\n",
       "      <td>153.017241</td>\n",
       "    </tr>\n",
       "  </tbody>\n",
       "</table>\n",
       "</div>"
      ],
      "text/plain": [
       "   block  median_price  median_rent  price_to_rent_ratio\n",
       "0      1    13880000.0      68400.0           202.923977\n",
       "1      2     7050000.0      54000.0           130.555556\n",
       "2      3    11000000.0      76200.0           144.356955\n",
       "3      4    10650000.0      69600.0           153.017241"
      ]
     },
     "execution_count": 32,
     "metadata": {},
     "output_type": "execute_result"
    }
   ],
   "source": [
    "# median price to rent ratio for each block\n",
    "median_price = df_price.groupby(\"block\")['price_sum'].median().reset_index()\n",
    "median_price.columns = ['block', 'median_price']\n",
    "\n",
    "median_rent = df_rent.groupby('block')['rent'].median().reset_index()\n",
    "median_rent.columns = ['block', 'median_rent']\n",
    "\n",
    "df_median = pd.merge(median_price, median_rent, on = 'block')\n",
    "\n",
    "df_median['price_to_rent_ratio'] = df_median['median_price'] / df_median['median_rent']\n",
    "df_median"
   ]
  },
  {
   "cell_type": "code",
   "execution_count": 33,
   "metadata": {},
   "outputs": [
    {
     "data": {
      "text/plain": [
       "Text(0.5, 1.0, 'Figure A: Median price to rent ratio for each block')"
      ]
     },
     "execution_count": 33,
     "metadata": {},
     "output_type": "execute_result"
    },
    {
     "data": {
      "image/png": "[encoded data removed]",
      "text/plain": [
       "<Figure size 1000x600 with 1 Axes>"
      ]
     },
     "metadata": {},
     "output_type": "display_data"
    }
   ],
   "source": [
    "#Figure A: Bar Plot the median price to rent ratio for each block\n",
    "plt.figure(figsize = (10,6))\n",
    "plt.bar(df_median['block'], df_median['price_to_rent_ratio'])\n",
    "block = ['','清河', '西三旗', '西二旗', '上地']\n",
    "plt.xlabel('block')    \n",
    "plt.xticks(ticks = range(len(block)), labels = block)\n",
    "plt.ylabel('median price to rent ratio')\n",
    "plt.title('Figure A: Median price to rent ratio for each block')\n"
   ]
  },
  {
   "cell_type": "markdown",
   "metadata": {},
   "source": [
    "# Data Science"
   ]
  },
  {
   "cell_type": "markdown",
   "metadata": {},
   "source": [
    "### Model 1\n",
    "$ price/m2_i = \\beta_0*m2_i + \\beta_2*location_i + \\beta_2*m2_i*location_i + \\epsilon_i$\n",
    "\n",
    "### Model 2\n",
    "$ rent/m2_i = \\beta_0*m2_i + \\beta_2*location_i + \\beta_3 *m2_i * location_i + \\epsilon_i$"
   ]
  },
  {
   "cell_type": "code",
   "execution_count": 34,
   "metadata": {},
   "outputs": [
    {
     "name": "stdout",
     "output_type": "stream",
     "text": [
      "Defaulting to user installation because normal site-packages is not writeable\n",
      "Requirement already satisfied: scikit-learn in c:\\users\\102zz\\appdata\\roaming\\python\\python312\\site-packages (1.6.1)\n",
      "Requirement already satisfied: numpy>=1.19.5 in c:\\users\\102zz\\appdata\\roaming\\python\\python312\\site-packages (from scikit-learn) (2.2.3)\n",
      "Requirement already satisfied: scipy>=1.6.0 in c:\\users\\102zz\\appdata\\roaming\\python\\python312\\site-packages (from scikit-learn) (1.15.2)\n",
      "Requirement already satisfied: joblib>=1.2.0 in c:\\users\\102zz\\appdata\\roaming\\python\\python312\\site-packages (from scikit-learn) (1.4.2)\n",
      "Requirement already satisfied: threadpoolctl>=3.1.0 in c:\\users\\102zz\\appdata\\roaming\\python\\python312\\site-packages (from scikit-learn) (3.6.0)\n"
     ]
    },
    {
     "name": "stderr",
     "output_type": "stream",
     "text": [
      "\n",
      "[notice] A new release of pip is available: 24.0 -> 25.0.1\n",
      "[notice] To update, run: python.exe -m pip install --upgrade pip\n"
     ]
    }
   ],
   "source": [
    "!pip install scikit-learn\n",
    "from sklearn.linear_model import LinearRegression\n"
   ]
  },
  {
   "cell_type": "code",
   "execution_count": 35,
   "metadata": {},
   "outputs": [],
   "source": [
    "# train the model 1\n",
    "df_price['m2_location'] = df_price['m2(esf)'] * df_price['block']\n",
    "x1 = df_price[['m2(esf)','block','m2_location']]\n",
    "y1 = df_price['P/m2']\n",
    "model1 = LinearRegression().fit(x1, y1)"
   ]
  },
  {
   "cell_type": "code",
   "execution_count": 36,
   "metadata": {},
   "outputs": [],
   "source": [
    "# train the model 2\n",
    "df_rent['m2_location'] = df_rent['m2(rent)'] * df_price['block']\n",
    "x2 = df_rent[['m2(rent)','block','m2_location']]\n",
    "y2 = df_rent['rent/m2']\n",
    "model2 = LinearRegression().fit(x2, y2)"
   ]
  },
  {
   "cell_type": "code",
   "execution_count": 37,
   "metadata": {},
   "outputs": [
    {
     "name": "stderr",
     "output_type": "stream",
     "text": [
      "C:\\Users\\102zz\\AppData\\Roaming\\Python\\Python312\\site-packages\\sklearn\\utils\\validation.py:2739: UserWarning: X does not have valid feature names, but LinearRegression was fitted with feature names\n",
      "  warnings.warn(\n",
      "C:\\Users\\102zz\\AppData\\Roaming\\Python\\Python312\\site-packages\\sklearn\\utils\\validation.py:2739: UserWarning: X does not have valid feature names, but LinearRegression was fitted with feature names\n",
      "  warnings.warn(\n",
      "C:\\Users\\102zz\\AppData\\Roaming\\Python\\Python312\\site-packages\\sklearn\\utils\\validation.py:2739: UserWarning: X does not have valid feature names, but LinearRegression was fitted with feature names\n",
      "  warnings.warn(\n",
      "C:\\Users\\102zz\\AppData\\Roaming\\Python\\Python312\\site-packages\\sklearn\\utils\\validation.py:2739: UserWarning: X does not have valid feature names, but LinearRegression was fitted with feature names\n",
      "  warnings.warn(\n",
      "C:\\Users\\102zz\\AppData\\Roaming\\Python\\Python312\\site-packages\\sklearn\\utils\\validation.py:2739: UserWarning: X does not have valid feature names, but LinearRegression was fitted with feature names\n",
      "  warnings.warn(\n",
      "C:\\Users\\102zz\\AppData\\Roaming\\Python\\Python312\\site-packages\\sklearn\\utils\\validation.py:2739: UserWarning: X does not have valid feature names, but LinearRegression was fitted with feature names\n",
      "  warnings.warn(\n",
      "C:\\Users\\102zz\\AppData\\Roaming\\Python\\Python312\\site-packages\\sklearn\\utils\\validation.py:2739: UserWarning: X does not have valid feature names, but LinearRegression was fitted with feature names\n",
      "  warnings.warn(\n",
      "C:\\Users\\102zz\\AppData\\Roaming\\Python\\Python312\\site-packages\\sklearn\\utils\\validation.py:2739: UserWarning: X does not have valid feature names, but LinearRegression was fitted with feature names\n",
      "  warnings.warn(\n",
      "C:\\Users\\102zz\\AppData\\Roaming\\Python\\Python312\\site-packages\\sklearn\\utils\\validation.py:2739: UserWarning: X does not have valid feature names, but LinearRegression was fitted with feature names\n",
      "  warnings.warn(\n",
      "C:\\Users\\102zz\\AppData\\Roaming\\Python\\Python312\\site-packages\\sklearn\\utils\\validation.py:2739: UserWarning: X does not have valid feature names, but LinearRegression was fitted with feature names\n",
      "  warnings.warn(\n",
      "C:\\Users\\102zz\\AppData\\Roaming\\Python\\Python312\\site-packages\\sklearn\\utils\\validation.py:2739: UserWarning: X does not have valid feature names, but LinearRegression was fitted with feature names\n",
      "  warnings.warn(\n",
      "C:\\Users\\102zz\\AppData\\Roaming\\Python\\Python312\\site-packages\\sklearn\\utils\\validation.py:2739: UserWarning: X does not have valid feature names, but LinearRegression was fitted with feature names\n",
      "  warnings.warn(\n",
      "C:\\Users\\102zz\\AppData\\Roaming\\Python\\Python312\\site-packages\\sklearn\\utils\\validation.py:2739: UserWarning: X does not have valid feature names, but LinearRegression was fitted with feature names\n",
      "  warnings.warn(\n",
      "C:\\Users\\102zz\\AppData\\Roaming\\Python\\Python312\\site-packages\\sklearn\\utils\\validation.py:2739: UserWarning: X does not have valid feature names, but LinearRegression was fitted with feature names\n",
      "  warnings.warn(\n",
      "C:\\Users\\102zz\\AppData\\Roaming\\Python\\Python312\\site-packages\\sklearn\\utils\\validation.py:2739: UserWarning: X does not have valid feature names, but LinearRegression was fitted with feature names\n",
      "  warnings.warn(\n",
      "C:\\Users\\102zz\\AppData\\Roaming\\Python\\Python312\\site-packages\\sklearn\\utils\\validation.py:2739: UserWarning: X does not have valid feature names, but LinearRegression was fitted with feature names\n",
      "  warnings.warn(\n"
     ]
    },
    {
     "data": {
      "text/html": [
       "<div>\n",
       "<style scoped>\n",
       "    .dataframe tbody tr th:only-of-type {\n",
       "        vertical-align: middle;\n",
       "    }\n",
       "\n",
       "    .dataframe tbody tr th {\n",
       "        vertical-align: top;\n",
       "    }\n",
       "\n",
       "    .dataframe thead th {\n",
       "        text-align: right;\n",
       "    }\n",
       "</style>\n",
       "<table border=\"1\" class=\"dataframe\">\n",
       "  <thead>\n",
       "    <tr style=\"text-align: right;\">\n",
       "      <th></th>\n",
       "      <th>m2</th>\n",
       "      <th>block</th>\n",
       "      <th>price</th>\n",
       "      <th>rent</th>\n",
       "    </tr>\n",
       "  </thead>\n",
       "  <tbody>\n",
       "    <tr>\n",
       "      <th>0</th>\n",
       "      <td>50</td>\n",
       "      <td>1</td>\n",
       "      <td>4.546027e+06</td>\n",
       "      <td>108841.187170</td>\n",
       "    </tr>\n",
       "    <tr>\n",
       "      <th>1</th>\n",
       "      <td>50</td>\n",
       "      <td>2</td>\n",
       "      <td>4.803934e+06</td>\n",
       "      <td>86708.676616</td>\n",
       "    </tr>\n",
       "    <tr>\n",
       "      <th>2</th>\n",
       "      <td>50</td>\n",
       "      <td>3</td>\n",
       "      <td>5.061840e+06</td>\n",
       "      <td>64576.166061</td>\n",
       "    </tr>\n",
       "    <tr>\n",
       "      <th>3</th>\n",
       "      <td>50</td>\n",
       "      <td>4</td>\n",
       "      <td>5.319747e+06</td>\n",
       "      <td>42443.655506</td>\n",
       "    </tr>\n",
       "    <tr>\n",
       "      <th>4</th>\n",
       "      <td>100</td>\n",
       "      <td>1</td>\n",
       "      <td>9.563032e+06</td>\n",
       "      <td>242563.296936</td>\n",
       "    </tr>\n",
       "    <tr>\n",
       "      <th>5</th>\n",
       "      <td>100</td>\n",
       "      <td>2</td>\n",
       "      <td>9.620631e+06</td>\n",
       "      <td>190696.168080</td>\n",
       "    </tr>\n",
       "    <tr>\n",
       "      <th>6</th>\n",
       "      <td>100</td>\n",
       "      <td>3</td>\n",
       "      <td>9.678230e+06</td>\n",
       "      <td>138829.039224</td>\n",
       "    </tr>\n",
       "    <tr>\n",
       "      <th>7</th>\n",
       "      <td>100</td>\n",
       "      <td>4</td>\n",
       "      <td>9.735828e+06</td>\n",
       "      <td>86961.910368</td>\n",
       "    </tr>\n",
       "  </tbody>\n",
       "</table>\n",
       "</div>"
      ],
      "text/plain": [
       "    m2  block         price           rent\n",
       "0   50      1  4.546027e+06  108841.187170\n",
       "1   50      2  4.803934e+06   86708.676616\n",
       "2   50      3  5.061840e+06   64576.166061\n",
       "3   50      4  5.319747e+06   42443.655506\n",
       "4  100      1  9.563032e+06  242563.296936\n",
       "5  100      2  9.620631e+06  190696.168080\n",
       "6  100      3  9.678230e+06  138829.039224\n",
       "7  100      4  9.735828e+06   86961.910368"
      ]
     },
     "execution_count": 37,
     "metadata": {},
     "output_type": "execute_result"
    }
   ],
   "source": [
    "# use model 1 and model 2 to predict price and rent for the m2 = 50, m2 = 100\n",
    "m2s = [50, 100]\n",
    "locations = [1, 2, 3, 4]\n",
    "predictions = []\n",
    "for m2 in m2s:\n",
    "    for location in locations:\n",
    "        m2_location = m2 * location\n",
    "        X_new = [[m2, location, m2_location]]\n",
    "        predicted_price_per_m2 = model1.predict(X_new)[0]\n",
    "        predicted_rent_per_m2 = model2.predict(X_new)[0]\n",
    "        predicted_price = predicted_price_per_m2 * m2\n",
    "        predicted_rent = predicted_rent_per_m2 * m2\n",
    "        predictions.append((m2, location, predicted_price, predicted_rent))\n",
    "\n",
    "df_predict = pd.DataFrame(predictions)\n",
    "df_predict.columns = ['m2', 'block', 'price', 'rent']\n",
    "df_predict\n"
   ]
  },
  {
   "cell_type": "code",
   "execution_count": 38,
   "metadata": {},
   "outputs": [
    {
     "data": {
      "text/plain": [
       "(   m2  block         price           rent  price_to_rent_ratio\n",
       " 0  50      1  4.546027e+06  108841.187170            41.767524\n",
       " 1  50      2  4.803934e+06   86708.676616            55.403148\n",
       " 2  50      3  5.061840e+06   64576.166061            78.385582\n",
       " 3  50      4  5.319747e+06   42443.655506           125.336685,\n",
       "     m2  block         price           rent  price_to_rent_ratio\n",
       " 4  100      1  9.563032e+06  242563.296936            39.424891\n",
       " 5  100      2  9.620631e+06  190696.168080            50.450047\n",
       " 6  100      3  9.678230e+06  138829.039224            69.713293\n",
       " 7  100      4  9.735828e+06   86961.910368           111.955090)"
      ]
     },
     "execution_count": 38,
     "metadata": {},
     "output_type": "execute_result"
    }
   ],
   "source": [
    "# Figure B and C : Bar Plot the price to ratio for each block for the m2=50, m2=100\n",
    "df_predict['price_to_rent_ratio'] = df_predict['price']/ df_predict['rent']\n",
    "df_predict_50 = df_predict[df_predict['m2']==50]\n",
    "df_predict_100 = df_predict[df_predict['m2']==100]\n",
    "df_predict_50, df_predict_100\n"
   ]
  },
  {
   "cell_type": "code",
   "execution_count": 39,
   "metadata": {},
   "outputs": [
    {
     "data": {
      "text/plain": [
       "Text(0.5, 1.0, 'Figure C: predictions for m2 = 100')"
      ]
     },
     "execution_count": 39,
     "metadata": {},
     "output_type": "execute_result"
    },
    {
     "data": {
      "image/png": "[encoded data removed]",
      "text/plain": [
       "<Figure size 1500x600 with 2 Axes>"
      ]
     },
     "metadata": {},
     "output_type": "display_data"
    }
   ],
   "source": [
    "fig, axes = plt.subplots(nrows = 1, ncols = 2, figsize = (15,6))\n",
    "#Figure B\n",
    "axes[0].bar(df_predict_50['block'], df_predict_50['price_to_rent_ratio'])\n",
    "axes[0].set_xlabel('block')\n",
    "axes[0].set_xticks(df_predict_50['block'])\n",
    "axes[0].set_xticklabels(['清河','西三旗','西二旗','上地'])\n",
    "axes[0].set_ylabel('price to rent ratio')\n",
    "axes[0].set_title('Figure B: predictions for m2 = 50 ')\n",
    "\n",
    "#Figure C\n",
    "axes[1].bar(df_predict_100['block'],df_predict_100['price_to_rent_ratio'])\n",
    "axes[1].set_xlabel('block')\n",
    "axes[1].set_xticks(df_predict_100['block'])\n",
    "axes[1].set_xticklabels(['清河','西三旗','西二旗','上地'])\n",
    "axes[1].set_ylabel('price to rent ratio')\n",
    "axes[1].set_title('Figure C: predictions for m2 = 100')\n",
    "\n",
    "\n"
   ]
  }
 ],
 "metadata": {
  "kernelspec": {
   "display_name": "Python 3",
   "language": "python",
   "name": "python3"
  },
  "language_info": {
   "codemirror_mode": {
    "name": "ipython",
    "version": 3
   },
   "file_extension": ".py",
   "mimetype": "text/x-python",
   "name": "python",
   "nbconvert_exporter": "python",
   "pygments_lexer": "ipython3",
   "version": "3.12.3"
  }
 },
 "nbformat": 4,
 "nbformat_minor": 2
}
