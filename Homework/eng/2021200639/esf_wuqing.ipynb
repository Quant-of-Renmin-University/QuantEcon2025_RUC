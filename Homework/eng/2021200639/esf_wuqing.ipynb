{
 "cells": [
  {
   "cell_type": "code",
   "execution_count": null,
   "id": "a6d82788-727d-452d-aa07-20f5f56856a0",
   "metadata": {},
   "outputs": [],
   "source": [
    "#pip install selenium"
   ]
  },
  {
   "cell_type": "code",
   "execution_count": 1,
   "id": "909ef665-e2a3-414a-bf03-94e1d5980e21",
   "metadata": {},
   "outputs": [],
   "source": [
    "from selenium import webdriver\n",
    "from selenium.webdriver.common.by import By\n",
    "from selenium.webdriver.support.ui import WebDriverWait\n",
    "from selenium.webdriver.support import expected_conditions as EC\n",
    "from selenium.common.exceptions import NoSuchElementException, StaleElementReferenceException\n",
    "import pandas as pd\n",
    "import time"
   ]
  },
  {
   "cell_type": "code",
   "execution_count": 2,
   "id": "b1d66cdc-e17d-4626-b6c8-10a4668355e7",
   "metadata": {
    "editable": true,
    "slideshow": {
     "slide_type": ""
    },
    "tags": []
   },
   "outputs": [
    {
     "name": "stdout",
     "output_type": "stream",
     "text": [
      "已爬取第 1 页数据\n",
      "已爬取第 2 页数据\n",
      "已爬取第 3 页数据\n",
      "已爬取第 4 页数据\n",
      "已爬取第 5 页数据\n",
      "已爬取第 6 页数据\n",
      "已爬取第 7 页数据\n",
      "已爬取第 8 页数据\n",
      "已爬取第 9 页数据\n",
      "已爬取第 10 页数据\n",
      "已爬取第 11 页数据\n",
      "已爬取第 12 页数据\n",
      "已爬取第 13 页数据\n",
      "已爬取第 14 页数据\n",
      "已爬取第 15 页数据\n",
      "已爬取第 16 页数据\n",
      "已爬取第 17 页数据\n",
      "已爬取第 18 页数据\n",
      "已爬取第 19 页数据\n",
      "已爬取第 20 页数据\n"
     ]
    }
   ],
   "source": [
    "# 初始化 WebDriver\n",
    "driver = webdriver.Chrome()\n",
    "\n",
    "# 目标 URL\n",
    "url = 'https://tj.esf.fang.com/house-a052/'\n",
    "\n",
    "# 打开网页\n",
    "driver.get(url)\n",
    "\n",
    "# 存储所有页面的数据\n",
    "string_list = []\n",
    "\n",
    "# 最大爬取页数\n",
    "MAX_PAGES = 20\n",
    "\n",
    "# 定义数据提取函数\n",
    "def extract_house_data(row):\n",
    "    \"\"\"从单行数据中提取房源信息\"\"\"\n",
    "    try:\n",
    "        title = row.find_element(By.CSS_SELECTOR, \"h4 a\").text\n",
    "        details_text = row.find_element(By.CSS_SELECTOR, \"p.tel_shop\").text\n",
    "        details = details_text.split(\"|\")\n",
    "        house_type = details[0].strip() if len(details) > 0 else None\n",
    "        area = details[1].strip() if len(details) > 1 else None\n",
    "        floor = details[2].strip() if len(details) > 2 else None\n",
    "        direction = details[3].strip() if len(details) > 3 else None\n",
    "        built_year = details[4].strip() if len(details) > 4 else None\n",
    "        name = row.find_element(By.CSS_SELECTOR, \"p.add_shop a\").text\n",
    "        locate = row.find_element(By.CSS_SELECTOR, \"p.add_shop span\").text\n",
    "        total_price = row.find_element(By.CSS_SELECTOR, \"span.red b\").text\n",
    "        price_dd = row.find_element(By.CSS_SELECTOR, \"dd.price_right\")\n",
    "        total_price = price_dd.find_element(By.CSS_SELECTOR, \"span.red\").text\n",
    "        price_per_m2 = price_dd.find_element(By.CSS_SELECTOR, \"span:not(.red)\").text\n",
    "        return [title, house_type, area, floor, direction, built_year, name, locate, total_price, price_per_m2]\n",
    "    except NoSuchElementException:\n",
    "        return None  # 如果某一行数据缺失，返回 None\n",
    "\n",
    "# 主循环\n",
    "for i in range(MAX_PAGES):\n",
    "    try:\n",
    "        # 等待表格加载完成\n",
    "        table = WebDriverWait(driver, 10).until(\n",
    "            EC.presence_of_element_located((By.CLASS_NAME, 'shop_list'))\n",
    "        )\n",
    "        rows = table.find_elements(By.TAG_NAME, 'dl')\n",
    "        data = []\n",
    "\n",
    "        # 提取每一行数据\n",
    "        for row in rows:\n",
    "            house_data = extract_house_data(row)\n",
    "            if house_data:\n",
    "                data.append(house_data)\n",
    "\n",
    "        # 将当前页数据存储到 DataFrame\n",
    "        df = pd.DataFrame(data, columns=[\n",
    "            '标题', '户型', '面积', '层型', '朝向', '建成时间', '小区名', '区域', '总价', '单价'\n",
    "        ])\n",
    "        string_list.append(df)\n",
    "        print(f\"已爬取第 {i + 1} 页数据\")\n",
    "\n",
    "        # 翻页\n",
    "        next_page = WebDriverWait(driver, 10).until(\n",
    "            EC.element_to_be_clickable((By.CLASS_NAME, 'last'))\n",
    "        )\n",
    "        next_page.click()\n",
    "        time.sleep(2)  # 等待页面加载\n",
    "    except TimeoutException:\n",
    "        print(\"已到达最后一页或页面加载超时\")\n",
    "        break\n",
    "    except StaleElementReferenceException:\n",
    "        print(\"页面元素已过期，重新尝试\")\n",
    "        continue\n",
    "    except Exception as e:\n",
    "        print(f\"发生异常: {e}\")\n",
    "        break\n",
    "\n",
    "# 关闭浏览器\n",
    "driver.quit()\n",
    "\n"
   ]
  },
  {
   "cell_type": "code",
   "execution_count": 3,
   "id": "46b005b3-fa61-482d-889a-39c4e82177bc",
   "metadata": {},
   "outputs": [
    {
     "name": "stdout",
     "output_type": "stream",
     "text": [
      "数据已保存\n",
      "                                标题    房型    面积        层型    朝向    建成时间   小区名  \\\n",
      "count                         1200  1200  1200      1200  1200    1200  1200   \n",
      "unique                         944    15   688       107    27      43   186   \n",
      "top     希望源于失望,奋斗始于忧患适合的房子在于一个懂你的!  3室2厅  109㎡  中层 （共7层）   南北向  2006年建  枫丹天城   \n",
      "freq                             4   521    13        65   704     430    59   \n",
      "\n",
      "                          区域    总价        单价  \n",
      "count                   1200  1200      1200  \n",
      "unique                   149   223       922  \n",
      "top     武清-新城雍阳西道与翠亨路交汇路口西北侧  140万  10000元/㎡  \n",
      "freq                      59    23         5  \n"
     ]
    }
   ],
   "source": [
    "# 合并所有数据\n",
    "if string_list:\n",
    "    df_full = pd.concat(string_list, ignore_index=True)\n",
    "    df_full.to_csv('esf_wuqing.csv', index=False, encoding='utf_8_sig')  # 保存为 CSV 文件\n",
    "    print(\"数据已保存\")\n",
    "\n",
    "    # 数据描述\n",
    "    print(df_full.describe())\n",
    "else:\n",
    "    print(\"未爬取到任何数据\")"
   ]
  }
 ],
 "metadata": {
  "kernelspec": {
   "display_name": "Python [conda env:base] *",
   "language": "python",
   "name": "conda-base-py"
  },
  "language_info": {
   "codemirror_mode": {
    "name": "ipython",
    "version": 3
   },
   "file_extension": ".py",
   "mimetype": "text/x-python",
   "name": "python",
   "nbconvert_exporter": "python",
   "pygments_lexer": "ipython3",
   "version": "3.12.7"
  }
 },
 "nbformat": 4,
 "nbformat_minor": 5
}
