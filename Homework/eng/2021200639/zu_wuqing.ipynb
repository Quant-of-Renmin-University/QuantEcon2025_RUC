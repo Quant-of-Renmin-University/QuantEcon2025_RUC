{
 "cells": [
  {
   "cell_type": "code",
   "execution_count": 1,
   "id": "5f60bf41-1d43-4c76-9a5c-23a32de15790",
   "metadata": {
    "editable": true,
    "slideshow": {
     "slide_type": ""
    },
    "tags": []
   },
   "outputs": [],
   "source": [
    "import time\n",
    "import pandas as pd\n",
    "from selenium import webdriver\n",
    "from selenium.webdriver.common.by import By\n",
    "from selenium.webdriver.support.ui import WebDriverWait\n",
    "from selenium.webdriver.support import expected_conditions as EC\n",
    "from selenium.common.exceptions import TimeoutException, NoSuchElementException"
   ]
  },
  {
   "cell_type": "code",
   "execution_count": 2,
   "id": "b3d114cb-1135-41ea-afcc-1eb211f0cc94",
   "metadata": {
    "editable": true,
    "slideshow": {
     "slide_type": ""
    },
    "tags": []
   },
   "outputs": [
    {
     "name": "stdout",
     "output_type": "stream",
     "text": [
      "已爬取第 1 页数据\n",
      "已爬取第 2 页数据\n",
      "已爬取第 3 页数据\n",
      "已到达最后一页或页面加载超时\n",
      "数据已保存为 zu_wuqing.csv\n"
     ]
    }
   ],
   "source": [
    "\n",
    "# 常量定义\n",
    "URL = 'https://tj.zu.fang.com/house-a052/'\n",
    "MAX_PAGES = 20\n",
    "OUTPUT_FILE = 'zu_wuqing.csv'\n",
    "\n",
    "# 初始化 WebDriver\n",
    "driver = webdriver.Chrome()\n",
    "driver.get(URL)\n",
    "\n",
    "# 定义数据提取函数\n",
    "def extract_house_data(row):\n",
    "    \"\"\"从单行数据中提取租房信息\"\"\"\n",
    "    try:\n",
    "        title = row.find_element(By.CSS_SELECTOR, \"p.title\").text\n",
    "        details_text = row.find_element(By.CSS_SELECTOR, \"p.font15.mt12.bold\").text\n",
    "        details = details_text.split(\"|\")\n",
    "        rent_type = details[0].strip() if len(details) > 0 else None\n",
    "        floor = details[1].strip() if len(details) > 1 else None\n",
    "        area = details[2].strip() if len(details) > 2 else None\n",
    "        direction = details[3].strip() if len(details) > 3 else None\n",
    "        locate = row.find_element(By.XPATH, \".//p[contains(@class, 'gray6') and contains(@class, 'mt12')]\").text\n",
    "        price = row.find_element(By.CSS_SELECTOR, \"p.mt5.alingC\").text\n",
    "        return [title, rent_type, floor, area, direction, locate, price]\n",
    "    except NoSuchElementException:\n",
    "        return None  # 如果某一行数据缺失，返回 None\n",
    "\n",
    "# 主循环\n",
    "string_list = []\n",
    "for i in range(MAX_PAGES):\n",
    "    try:\n",
    "        # 等待表格加载完成\n",
    "        table = WebDriverWait(driver, 10).until(\n",
    "            EC.presence_of_element_located((By.CLASS_NAME, 'houseList'))\n",
    "        )\n",
    "        rows = table.find_elements(By.TAG_NAME, 'dl')\n",
    "        data = []\n",
    "\n",
    "        # 提取每一行数据\n",
    "        for row in rows:\n",
    "            house_data = extract_house_data(row)\n",
    "            if house_data:\n",
    "                data.append(house_data)\n",
    "\n",
    "        # 将当前页数据存储到 DataFrame\n",
    "        df = pd.DataFrame(data, columns=['标题', '租赁类型', '户型', '面积', '朝向', '位置', '价格'])\n",
    "        string_list.append(df)\n",
    "        print(f\"已爬取第 {i + 1} 页数据\")\n",
    "\n",
    "        # 翻页\n",
    "        next_page = WebDriverWait(driver, 10).until(\n",
    "            EC.element_to_be_clickable((By.XPATH, '//div[@id=\"rentid_D10_01\"]/a[text()=\"下一页\"]'))\n",
    "        )\n",
    "        next_page.click()\n",
    "        time.sleep(2)  # 等待页面加载\n",
    "    except TimeoutException:\n",
    "        print(\"已到达最后一页或页面加载超时\")\n",
    "        break\n",
    "    except Exception as e:\n",
    "        print(f\"发生异常: {e}\")\n",
    "        break\n",
    "\n",
    "# 合并所有数据并保存为 CSV 文件\n",
    "if string_list:\n",
    "    final_df = pd.concat(string_list, ignore_index=True)\n",
    "    final_df.to_csv(OUTPUT_FILE, index=False, encoding='utf_8_sig')  # 修改为保存 CSV 文件\n",
    "    print(f\"数据已保存为 {OUTPUT_FILE}\")\n",
    "else:\n",
    "    print(\"未爬取到任何数据\")\n",
    "\n",
    "# 关闭浏览器\n",
    "driver.quit()"
   ]
  }
 ],
 "metadata": {
  "kernelspec": {
   "display_name": "Python [conda env:base] *",
   "language": "python",
   "name": "conda-base-py"
  },
  "language_info": {
   "codemirror_mode": {
    "name": "ipython",
    "version": 3
   },
   "file_extension": ".py",
   "mimetype": "text/x-python",
   "name": "python",
   "nbconvert_exporter": "python",
   "pygments_lexer": "ipython3",
   "version": "3.12.7"
  }
 },
 "nbformat": 4,
 "nbformat_minor": 5
}
