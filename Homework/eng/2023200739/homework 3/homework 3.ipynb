{
 "cells": [
  {
   "cell_type": "code",
   "execution_count": 356,
   "id": "ca53004b-e864-4ee4-9217-17426a3997f4",
   "metadata": {},
   "outputs": [],
   "source": [
    "from selenium import webdriver\n",
    "import pandas as pd\n",
    "from selenium.webdriver.common.by import By\n",
    "import matplotlib.pyplot as plt\n",
    "import numpy as np\n",
    "from sklearn.preprocessing import OneHotEncoder\n",
    "import statsmodels.formula.api as smf\n",
    "from sklearn.linear_model import LinearRegression\n",
    "import seaborn as sns"
   ]
  },
  {
   "cell_type": "markdown",
   "id": "c412b733-c26a-4be7-95c6-f41389b890eb",
   "metadata": {},
   "source": [
    "# 北京昌平地区买房租房价格数据爬取及分析"
   ]
  },
  {
   "cell_type": "markdown",
   "id": "20d684bf-1616-4233-a5ad-cced687e5f0c",
   "metadata": {
    "jp-MarkdownHeadingCollapsed": true
   },
   "source": [
    "## Task 1：数据爬取\n",
    "负责block：沙河"
   ]
  },
  {
   "cell_type": "markdown",
   "id": "60a6266d-8319-4732-9bb3-a7a718d19c7a",
   "metadata": {
    "jp-MarkdownHeadingCollapsed": true
   },
   "source": [
    "### 二手房网数据爬取"
   ]
  },
  {
   "cell_type": "code",
   "execution_count": 254,
   "id": "511214ae-8f34-4a97-936a-ffb306350949",
   "metadata": {},
   "outputs": [],
   "source": [
    "# 封装一个爬虫函数，便于后续重复调用\n",
    "def scrape_data(base_url, start_page, end_page, class_name, tag_name):\n",
    "    string_list = []\n",
    "    #用edge浏览器打开目标网页\n",
    "    driver=webdriver.Edge()\n",
    "    url = base_url\n",
    "    driver.get(url)\n",
    "    #用for循环爬取目标范围内每一页的文本\n",
    "    for page in range(start_page, end_page + 1): \n",
    "        table = driver.find_element('class name', class_name)\n",
    "        dls = table.find_elements(By.TAG_NAME, tag_name)\n",
    "        data = []\n",
    "        \n",
    "        for dl in dls:\n",
    "            cells = dl.find_elements(By.TAG_NAME, 'dd')\n",
    "            if cells:\n",
    "                dl_data = [cell.text for cell in cells]\n",
    "                data.append(dl_data)\n",
    "        \n",
    "        df = pd.DataFrame(data)\n",
    "        string_list.append(df)\n",
    "    \n",
    "    return string_list"
   ]
  },
  {
   "cell_type": "code",
   "execution_count": 256,
   "id": "c08a93cd-bfc4-441b-b288-b8f801550d1b",
   "metadata": {},
   "outputs": [],
   "source": [
    "detail1 = scrape_data(\"https://esf.fang.com/house-a012-b02698/\",1,20,'shop_list.shop_list_4','dl')"
   ]
  },
  {
   "cell_type": "code",
   "execution_count": 265,
   "id": "343715da-cbe4-4053-95f0-53d3922cf96a",
   "metadata": {},
   "outputs": [],
   "source": [
    "# 处理文本数据\n",
    "string_list1 = detail1[0]\n",
    "#在切分文本时，“双重验真”会导致每一列数据切割后无法对齐，所以需要用\\n标记后再做切分\n",
    "string_list1[0] = [s.replace(\"\\n双重验真\", \"_双重验真\", 1) for s in string_list2[0]]\n",
    "df1=string_list1[0].str.split('\\n',expand=True)\n",
    "df2=string_list1[1].str.split('\\n',expand=True)\n",
    "df2.columns = ['总价(万)','单位价格(元/㎡)']\n",
    "# 将分割后的数据按行拼接成一个二维表格\n",
    "info1 = pd.concat([df1,df2],axis=1)"
   ]
  },
  {
   "cell_type": "code",
   "execution_count": 267,
   "id": "32147b41-7100-41b8-ac33-e1a66d18f3ed",
   "metadata": {
    "scrolled": true
   },
   "outputs": [
    {
     "data": {
      "text/html": [
       "<div>\n",
       "<style scoped>\n",
       "    .dataframe tbody tr th:only-of-type {\n",
       "        vertical-align: middle;\n",
       "    }\n",
       "\n",
       "    .dataframe tbody tr th {\n",
       "        vertical-align: top;\n",
       "    }\n",
       "\n",
       "    .dataframe thead th {\n",
       "        text-align: right;\n",
       "    }\n",
       "</style>\n",
       "<table border=\"1\" class=\"dataframe\">\n",
       "  <thead>\n",
       "    <tr style=\"text-align: right;\">\n",
       "      <th></th>\n",
       "      <th>0</th>\n",
       "      <th>1</th>\n",
       "      <th>2</th>\n",
       "      <th>3</th>\n",
       "      <th>4</th>\n",
       "      <th>5</th>\n",
       "      <th>6</th>\n",
       "      <th>7</th>\n",
       "      <th>8</th>\n",
       "      <th>9</th>\n",
       "      <th>10</th>\n",
       "      <th>总价(万)</th>\n",
       "      <th>单位价格(元/㎡)</th>\n",
       "      <th>面积(㎡)</th>\n",
       "    </tr>\n",
       "  </thead>\n",
       "  <tbody>\n",
       "    <tr>\n",
       "      <th>0</th>\n",
       "      <td>碧水三期小独栋别墅 570平占地2200平毛坯仅此一套</td>\n",
       "      <td>独栋| 卧室：5个 | 570㎡ | 东向 |苏丽莉</td>\n",
       "      <td>碧水庄园</td>\n",
       "      <td>沙河-碧水庄园</td>\n",
       "      <td>满五</td>\n",
       "      <td>None</td>\n",
       "      <td>None</td>\n",
       "      <td>None</td>\n",
       "      <td>None</td>\n",
       "      <td>None</td>\n",
       "      <td>None</td>\n",
       "      <td>3800.0</td>\n",
       "      <td>66666.0</td>\n",
       "      <td>570.005700</td>\n",
       "    </tr>\n",
       "    <tr>\n",
       "      <th>1</th>\n",
       "      <td>北京玫瑰园别墅独栋带电梯客厅大挑空</td>\n",
       "      <td>独栋| 卧室：6个 | 237.85㎡ | 东向 |苏丽莉</td>\n",
       "      <td>北京玫瑰园</td>\n",
       "      <td>沙河-沙河镇北八达岭高速路22出口沙河镇小寨村</td>\n",
       "      <td>满五</td>\n",
       "      <td>None</td>\n",
       "      <td>None</td>\n",
       "      <td>None</td>\n",
       "      <td>None</td>\n",
       "      <td>None</td>\n",
       "      <td>None</td>\n",
       "      <td>2200.0</td>\n",
       "      <td>92495.0</td>\n",
       "      <td>237.850695</td>\n",
       "    </tr>\n",
       "    <tr>\n",
       "      <th>2</th>\n",
       "      <td>保真!碧水庄园三期次临湖 独栋别墅,占地2535㎡</td>\n",
       "      <td>独栋| 卧室：6个 | 739.48㎡ | 东向 |苏丽莉</td>\n",
       "      <td>碧水庄园</td>\n",
       "      <td>沙河-碧水庄园</td>\n",
       "      <td>满五</td>\n",
       "      <td>None</td>\n",
       "      <td>None</td>\n",
       "      <td>None</td>\n",
       "      <td>None</td>\n",
       "      <td>None</td>\n",
       "      <td>None</td>\n",
       "      <td>3800.0</td>\n",
       "      <td>51387.0</td>\n",
       "      <td>739.486641</td>\n",
       "    </tr>\n",
       "    <tr>\n",
       "      <th>3</th>\n",
       "      <td>保真!碧水庄园 三期临湖B2户型 毛坯大独栋</td>\n",
       "      <td>独栋| 卧室：9个 | 758.17㎡ | 南向 |苏丽莉</td>\n",
       "      <td>碧水庄园</td>\n",
       "      <td>沙河-碧水庄园</td>\n",
       "      <td>满五</td>\n",
       "      <td>None</td>\n",
       "      <td>None</td>\n",
       "      <td>None</td>\n",
       "      <td>None</td>\n",
       "      <td>None</td>\n",
       "      <td>None</td>\n",
       "      <td>8000.0</td>\n",
       "      <td>105517.0</td>\n",
       "      <td>758.171669</td>\n",
       "    </tr>\n",
       "    <tr>\n",
       "      <th>4</th>\n",
       "      <td>碧水庄园3期 占地1500平 800万装修 挑空南客厅</td>\n",
       "      <td>独栋| 卧室：4个 | 314.06㎡ | 南向 |苏丽莉</td>\n",
       "      <td>碧水庄园</td>\n",
       "      <td>沙河-碧水庄园</td>\n",
       "      <td>满五</td>\n",
       "      <td>None</td>\n",
       "      <td>None</td>\n",
       "      <td>None</td>\n",
       "      <td>None</td>\n",
       "      <td>None</td>\n",
       "      <td>None</td>\n",
       "      <td>3600.0</td>\n",
       "      <td>114627.0</td>\n",
       "      <td>314.062132</td>\n",
       "    </tr>\n",
       "  </tbody>\n",
       "</table>\n",
       "</div>"
      ],
      "text/plain": [
       "                             0                              1      2  \\\n",
       "0  碧水三期小独栋别墅 570平占地2200平毛坯仅此一套     独栋| 卧室：5个 | 570㎡ | 东向 |苏丽莉   碧水庄园   \n",
       "1            北京玫瑰园别墅独栋带电梯客厅大挑空  独栋| 卧室：6个 | 237.85㎡ | 东向 |苏丽莉  北京玫瑰园   \n",
       "2    保真!碧水庄园三期次临湖 独栋别墅,占地2535㎡  独栋| 卧室：6个 | 739.48㎡ | 东向 |苏丽莉   碧水庄园   \n",
       "3       保真!碧水庄园 三期临湖B2户型 毛坯大独栋  独栋| 卧室：9个 | 758.17㎡ | 南向 |苏丽莉   碧水庄园   \n",
       "4  碧水庄园3期 占地1500平 800万装修 挑空南客厅  独栋| 卧室：4个 | 314.06㎡ | 南向 |苏丽莉   碧水庄园   \n",
       "\n",
       "                         3   4     5     6     7     8     9    10   总价(万)  \\\n",
       "0                  沙河-碧水庄园  满五  None  None  None  None  None  None  3800.0   \n",
       "1  沙河-沙河镇北八达岭高速路22出口沙河镇小寨村  满五  None  None  None  None  None  None  2200.0   \n",
       "2                  沙河-碧水庄园  满五  None  None  None  None  None  None  3800.0   \n",
       "3                  沙河-碧水庄园  满五  None  None  None  None  None  None  8000.0   \n",
       "4                  沙河-碧水庄园  满五  None  None  None  None  None  None  3600.0   \n",
       "\n",
       "   单位价格(元/㎡)       面积(㎡)  \n",
       "0    66666.0  570.005700  \n",
       "1    92495.0  237.850695  \n",
       "2    51387.0  739.486641  \n",
       "3   105517.0  758.171669  \n",
       "4   114627.0  314.062132  "
      ]
     },
     "execution_count": 267,
     "metadata": {},
     "output_type": "execute_result"
    }
   ],
   "source": [
    "# 整理表格格式，数字数据都转换为float类型\n",
    "info1['总价(万)'] = info1['总价(万)'].apply(lambda x:x[:-1])\n",
    "info1['单位价格(元/㎡)'] = info1['单位价格(元/㎡)'].apply(lambda x:x[:-3])\n",
    "info1[['总价(万)','单位价格(元/㎡)']]=info1[['总价(万)','单位价格(元/㎡)']].astype('float')\n",
    "info1['面积(㎡)'] = info1['总价(万)']*10000/info1['单位价格(元/㎡)'].astype('float')\n",
    "info1.head()"
   ]
  },
  {
   "cell_type": "code",
   "execution_count": 275,
   "id": "7cbe0a15-8d5d-445e-82cb-404d86db90cb",
   "metadata": {},
   "outputs": [],
   "source": [
    "# 将数据分析需要的部分单独导出\n",
    "info_m1 = pd.DataFrame()\n",
    "info_m1[['price','m2']] = info1[['单位价格(元/㎡)','面积(㎡)']]\n",
    "info_m1['block'] = '北京昌平沙河'\n",
    "info_m1.to_csv('沙河二手房价.csv', index=False)"
   ]
  },
  {
   "cell_type": "markdown",
   "id": "f17e5c12-f5d4-4621-86c7-a6321d37d081",
   "metadata": {
    "jp-MarkdownHeadingCollapsed": true
   },
   "source": [
    "### 租房网数据爬取"
   ]
  },
  {
   "cell_type": "code",
   "execution_count": 263,
   "id": "a3a77e19-310b-4962-9a97-86b5d4ddf56a",
   "metadata": {},
   "outputs": [],
   "source": [
    "# 调用封装的爬虫函数，爬取租房信息\n",
    "detail2 = scrape_data(\"https://zu.fang.com/house-a012-b02698/\",1,20,'houseList','dl')"
   ]
  },
  {
   "cell_type": "code",
   "execution_count": 270,
   "id": "df2cd935-0c26-48af-9049-af3ae4aeb132",
   "metadata": {},
   "outputs": [
    {
     "data": {
      "text/html": [
       "<div>\n",
       "<style scoped>\n",
       "    .dataframe tbody tr th:only-of-type {\n",
       "        vertical-align: middle;\n",
       "    }\n",
       "\n",
       "    .dataframe tbody tr th {\n",
       "        vertical-align: top;\n",
       "    }\n",
       "\n",
       "    .dataframe thead th {\n",
       "        text-align: right;\n",
       "    }\n",
       "</style>\n",
       "<table border=\"1\" class=\"dataframe\">\n",
       "  <thead>\n",
       "    <tr style=\"text-align: right;\">\n",
       "      <th></th>\n",
       "      <th>0</th>\n",
       "      <th>2</th>\n",
       "      <th>3</th>\n",
       "      <th>月租价格(元/月)</th>\n",
       "      <th>出租方式</th>\n",
       "      <th>出租区域</th>\n",
       "      <th>面积(㎡)</th>\n",
       "      <th>朝向</th>\n",
       "      <th>单位月租价格(元/月/㎡)</th>\n",
       "    </tr>\n",
       "  </thead>\n",
       "  <tbody>\n",
       "    <tr>\n",
       "      <th>0</th>\n",
       "      <td>开间整租 独门独户 独立厨卫 家具齐全交通便捷 小区</td>\n",
       "      <td>昌平-沙河-北街家园五区</td>\n",
       "      <td>\\n交通便利独门独卫采光好</td>\n",
       "      <td>2300.0</td>\n",
       "      <td>整租</td>\n",
       "      <td>1室1厅</td>\n",
       "      <td>36.0</td>\n",
       "      <td>朝东南</td>\n",
       "      <td>63.888889</td>\n",
       "    </tr>\n",
       "    <tr>\n",
       "      <th>1</th>\n",
       "      <td>花合租的钱住整租一间,有独立洗手间</td>\n",
       "      <td>昌平-沙河-高教大楼</td>\n",
       "      <td>\\n距昌平线沙河高教园站约1119米。\\n可注册办公首次出租南北通透</td>\n",
       "      <td>1050.0</td>\n",
       "      <td>整租</td>\n",
       "      <td>1室0厅</td>\n",
       "      <td>18.0</td>\n",
       "      <td>朝西南</td>\n",
       "      <td>58.333333</td>\n",
       "    </tr>\n",
       "    <tr>\n",
       "      <th>2</th>\n",
       "      <td>昌平沙河高教园 独门独卫有电梯 家具齐全随时看 拎包</td>\n",
       "      <td>昌平-沙河-高教大楼</td>\n",
       "      <td>\\n距昌平线沙河高教园站约1119米。\\n可注册办公首次出租南北通透</td>\n",
       "      <td>2300.0</td>\n",
       "      <td>整租</td>\n",
       "      <td>1室0厅</td>\n",
       "      <td>36.0</td>\n",
       "      <td>朝东南</td>\n",
       "      <td>63.888889</td>\n",
       "    </tr>\n",
       "    <tr>\n",
       "      <th>3</th>\n",
       "      <td>西二旗上地清河,优选公寓一居,非合租 月付 租期灵活</td>\n",
       "      <td>昌平-沙河-高教大楼</td>\n",
       "      <td>\\n距昌平线沙河高教园站约1119米。\\n周边配套齐独门独卫采光好</td>\n",
       "      <td>1200.0</td>\n",
       "      <td>整租</td>\n",
       "      <td>1室0厅</td>\n",
       "      <td>18.0</td>\n",
       "      <td>朝南北</td>\n",
       "      <td>66.666667</td>\n",
       "    </tr>\n",
       "    <tr>\n",
       "      <th>4</th>\n",
       "      <td>正南 北京玫瑰园 5室3厅 精装修</td>\n",
       "      <td>昌平-沙河-北京玫瑰园</td>\n",
       "      <td></td>\n",
       "      <td>22000.0</td>\n",
       "      <td>整租</td>\n",
       "      <td>5室3厅</td>\n",
       "      <td>233.0</td>\n",
       "      <td>朝南</td>\n",
       "      <td>94.420601</td>\n",
       "    </tr>\n",
       "  </tbody>\n",
       "</table>\n",
       "</div>"
      ],
      "text/plain": [
       "                            0             2  \\\n",
       "0  开间整租 独门独户 独立厨卫 家具齐全交通便捷 小区  昌平-沙河-北街家园五区   \n",
       "1           花合租的钱住整租一间,有独立洗手间    昌平-沙河-高教大楼   \n",
       "2  昌平沙河高教园 独门独卫有电梯 家具齐全随时看 拎包    昌平-沙河-高教大楼   \n",
       "3  西二旗上地清河,优选公寓一居,非合租 月付 租期灵活    昌平-沙河-高教大楼   \n",
       "4           正南 北京玫瑰园 5室3厅 精装修   昌平-沙河-北京玫瑰园   \n",
       "\n",
       "                                    3  月租价格(元/月) 出租方式  出租区域  面积(㎡)   朝向  \\\n",
       "0                       \\n交通便利独门独卫采光好     2300.0   整租  1室1厅   36.0  朝东南   \n",
       "1  \\n距昌平线沙河高教园站约1119米。\\n可注册办公首次出租南北通透     1050.0   整租  1室0厅   18.0  朝西南   \n",
       "2  \\n距昌平线沙河高教园站约1119米。\\n可注册办公首次出租南北通透     2300.0   整租  1室0厅   36.0  朝东南   \n",
       "3   \\n距昌平线沙河高教园站约1119米。\\n周边配套齐独门独卫采光好     1200.0   整租  1室0厅   18.0  朝南北   \n",
       "4                                        22000.0   整租  5室3厅  233.0   朝南   \n",
       "\n",
       "   单位月租价格(元/月/㎡)  \n",
       "0      63.888889  \n",
       "1      58.333333  \n",
       "2      63.888889  \n",
       "3      66.666667  \n",
       "4      94.420601  "
      ]
     },
     "execution_count": 270,
     "metadata": {},
     "output_type": "execute_result"
    }
   ],
   "source": [
    "# 切分文本数据，整理为表格格式，数字数据都转换为float类型\n",
    "string_list2 = pd.DataFrame(detail2[0])\n",
    "info2 = string_list2[0].str.split('\\n', n=3, expand=True)\n",
    "info2[3] = '\\n' + info2[3]\n",
    "info2[[3, '月租价格(元/月)']] = info2[3].str.rsplit('\\n', n=1, expand=True)\n",
    "info2['月租价格(元/月)'] = info2['月租价格(元/月)'].apply(lambda x:x[:-3]).astype('float')\n",
    "info2[['出租方式','出租区域','面积(㎡)','朝向']] = info2[1].str.rsplit('|', n=3, expand=True)\n",
    "info2['面积(㎡)'] = info2['面积(㎡)'].apply(lambda x:x[:-1]).astype('float')\n",
    "info2['单位月租价格(元/月/㎡)'] = info2['月租价格(元/月)']/info2['面积(㎡)']\n",
    "info2 = info2.drop(columns=[1])\n",
    "info2.head()"
   ]
  },
  {
   "cell_type": "code",
   "execution_count": 277,
   "id": "c42bb2ee-2979-403a-bd7e-ca6bca648a14",
   "metadata": {},
   "outputs": [],
   "source": [
    "# 将数据分析需要的部分单独导出\n",
    "info_m2 = pd.DataFrame()\n",
    "info_m2[['rent','m2']] = info2[['单位月租价格(元/月/㎡)','面积(㎡)']]\n",
    "info_m2['block'] = '北京昌平沙河'\n",
    "info_m2.to_csv('沙河租房租金.csv', index=False)"
   ]
  },
  {
   "cell_type": "markdown",
   "id": "4a506271-2d28-4408-907c-d73a5003fe98",
   "metadata": {
    "jp-MarkdownHeadingCollapsed": true
   },
   "source": [
    "## Task 2：data description 以及寻找outlier"
   ]
  },
  {
   "cell_type": "markdown",
   "id": "2fc8cb3a-eb07-460e-b2e1-cb34d111b5bf",
   "metadata": {
    "jp-MarkdownHeadingCollapsed": true
   },
   "source": [
    "### -沙河二手房价数据"
   ]
  },
  {
   "cell_type": "code",
   "execution_count": 180,
   "id": "4b91704e-f985-482e-9347-f830053a58fc",
   "metadata": {},
   "outputs": [
    {
     "data": {
      "text/html": [
       "<div>\n",
       "<style scoped>\n",
       "    .dataframe tbody tr th:only-of-type {\n",
       "        vertical-align: middle;\n",
       "    }\n",
       "\n",
       "    .dataframe tbody tr th {\n",
       "        vertical-align: top;\n",
       "    }\n",
       "\n",
       "    .dataframe thead th {\n",
       "        text-align: right;\n",
       "    }\n",
       "</style>\n",
       "<table border=\"1\" class=\"dataframe\">\n",
       "  <thead>\n",
       "    <tr style=\"text-align: right;\">\n",
       "      <th></th>\n",
       "      <th>总价(万)</th>\n",
       "      <th>单位价格(元/㎡)</th>\n",
       "      <th>面积(㎡)</th>\n",
       "    </tr>\n",
       "  </thead>\n",
       "  <tbody>\n",
       "    <tr>\n",
       "      <th>count</th>\n",
       "      <td>60.00000</td>\n",
       "      <td>60.0000</td>\n",
       "      <td>60.000000</td>\n",
       "    </tr>\n",
       "    <tr>\n",
       "      <th>mean</th>\n",
       "      <td>2364.70000</td>\n",
       "      <td>61154.2000</td>\n",
       "      <td>387.092639</td>\n",
       "    </tr>\n",
       "    <tr>\n",
       "      <th>std</th>\n",
       "      <td>1491.80411</td>\n",
       "      <td>19287.3591</td>\n",
       "      <td>214.701979</td>\n",
       "    </tr>\n",
       "    <tr>\n",
       "      <th>min</th>\n",
       "      <td>230.00000</td>\n",
       "      <td>30164.0000</td>\n",
       "      <td>57.001239</td>\n",
       "    </tr>\n",
       "    <tr>\n",
       "      <th>25%</th>\n",
       "      <td>1387.50000</td>\n",
       "      <td>46921.5000</td>\n",
       "      <td>257.246784</td>\n",
       "    </tr>\n",
       "    <tr>\n",
       "      <th>50%</th>\n",
       "      <td>2290.00000</td>\n",
       "      <td>56216.5000</td>\n",
       "      <td>353.663771</td>\n",
       "    </tr>\n",
       "    <tr>\n",
       "      <th>75%</th>\n",
       "      <td>3020.00000</td>\n",
       "      <td>71205.5000</td>\n",
       "      <td>565.496796</td>\n",
       "    </tr>\n",
       "    <tr>\n",
       "      <th>max</th>\n",
       "      <td>8000.00000</td>\n",
       "      <td>114627.0000</td>\n",
       "      <td>768.795602</td>\n",
       "    </tr>\n",
       "  </tbody>\n",
       "</table>\n",
       "</div>"
      ],
      "text/plain": [
       "            总价(万)    单位价格(元/㎡)       面积(㎡)\n",
       "count    60.00000      60.0000   60.000000\n",
       "mean   2364.70000   61154.2000  387.092639\n",
       "std    1491.80411   19287.3591  214.701979\n",
       "min     230.00000   30164.0000   57.001239\n",
       "25%    1387.50000   46921.5000  257.246784\n",
       "50%    2290.00000   56216.5000  353.663771\n",
       "75%    3020.00000   71205.5000  565.496796\n",
       "max    8000.00000  114627.0000  768.795602"
      ]
     },
     "execution_count": 180,
     "metadata": {},
     "output_type": "execute_result"
    }
   ],
   "source": [
    "info1.describe()"
   ]
  },
  {
   "cell_type": "code",
   "execution_count": 299,
   "id": "0949c34d-7b6f-4c59-b1bb-2e8ab4a26040",
   "metadata": {},
   "outputs": [
    {
     "data": {
      "image/png": "[encoded data removed]",
      "text/plain": [
       "<Figure size 1500x500 with 3 Axes>"
      ]
     },
     "metadata": {},
     "output_type": "display_data"
    }
   ],
   "source": [
    "#用箱线图判断是否存在异常值\n",
    "plot_list1 = ['总价(万)','单位价格(元/㎡)','面积(㎡)']\n",
    "fig, axes = plt.subplots(1, 3, figsize=(15, 5))\n",
    "for i, column in enumerate(plot_list1):\n",
    "    axes[i].boxplot(info1[column]) \n",
    "plt.tight_layout()\n",
    "plt.show()"
   ]
  },
  {
   "cell_type": "markdown",
   "id": "edaac9ef-ff0f-4318-8f7c-468c2bd3301f",
   "metadata": {},
   "source": [
    "观察图象得，总价有1个异常大的离群值，单位价格和面积均无异常值。"
   ]
  },
  {
   "cell_type": "markdown",
   "id": "e3752545-5f38-4deb-a233-1f815a55ffd5",
   "metadata": {
    "jp-MarkdownHeadingCollapsed": true
   },
   "source": [
    "### -沙河租房租金数据"
   ]
  },
  {
   "cell_type": "code",
   "execution_count": 297,
   "id": "1c54c6e0-44b2-47e2-9ba7-2239d40e4923",
   "metadata": {
    "scrolled": true
   },
   "outputs": [
    {
     "data": {
      "text/html": [
       "<div>\n",
       "<style scoped>\n",
       "    .dataframe tbody tr th:only-of-type {\n",
       "        vertical-align: middle;\n",
       "    }\n",
       "\n",
       "    .dataframe tbody tr th {\n",
       "        vertical-align: top;\n",
       "    }\n",
       "\n",
       "    .dataframe thead th {\n",
       "        text-align: right;\n",
       "    }\n",
       "</style>\n",
       "<table border=\"1\" class=\"dataframe\">\n",
       "  <thead>\n",
       "    <tr style=\"text-align: right;\">\n",
       "      <th></th>\n",
       "      <th>月租价格(元/月)</th>\n",
       "      <th>面积(㎡)</th>\n",
       "      <th>单位月租价格(元/月/㎡)</th>\n",
       "    </tr>\n",
       "  </thead>\n",
       "  <tbody>\n",
       "    <tr>\n",
       "      <th>count</th>\n",
       "      <td>60.000000</td>\n",
       "      <td>60.000000</td>\n",
       "      <td>60.000000</td>\n",
       "    </tr>\n",
       "    <tr>\n",
       "      <th>mean</th>\n",
       "      <td>2822.500000</td>\n",
       "      <td>50.766667</td>\n",
       "      <td>57.337515</td>\n",
       "    </tr>\n",
       "    <tr>\n",
       "      <th>std</th>\n",
       "      <td>5524.241071</td>\n",
       "      <td>104.393384</td>\n",
       "      <td>9.724986</td>\n",
       "    </tr>\n",
       "    <tr>\n",
       "      <th>min</th>\n",
       "      <td>1000.000000</td>\n",
       "      <td>15.000000</td>\n",
       "      <td>35.714286</td>\n",
       "    </tr>\n",
       "    <tr>\n",
       "      <th>25%</th>\n",
       "      <td>1000.000000</td>\n",
       "      <td>18.000000</td>\n",
       "      <td>55.555556</td>\n",
       "    </tr>\n",
       "    <tr>\n",
       "      <th>50%</th>\n",
       "      <td>1000.000000</td>\n",
       "      <td>18.000000</td>\n",
       "      <td>55.555556</td>\n",
       "    </tr>\n",
       "    <tr>\n",
       "      <th>75%</th>\n",
       "      <td>1225.000000</td>\n",
       "      <td>20.750000</td>\n",
       "      <td>57.440476</td>\n",
       "    </tr>\n",
       "    <tr>\n",
       "      <th>max</th>\n",
       "      <td>25000.000000</td>\n",
       "      <td>545.000000</td>\n",
       "      <td>96.153846</td>\n",
       "    </tr>\n",
       "  </tbody>\n",
       "</table>\n",
       "</div>"
      ],
      "text/plain": [
       "          月租价格(元/月)       面积(㎡)  单位月租价格(元/月/㎡)\n",
       "count     60.000000   60.000000      60.000000\n",
       "mean    2822.500000   50.766667      57.337515\n",
       "std     5524.241071  104.393384       9.724986\n",
       "min     1000.000000   15.000000      35.714286\n",
       "25%     1000.000000   18.000000      55.555556\n",
       "50%     1000.000000   18.000000      55.555556\n",
       "75%     1225.000000   20.750000      57.440476\n",
       "max    25000.000000  545.000000      96.153846"
      ]
     },
     "execution_count": 297,
     "metadata": {},
     "output_type": "execute_result"
    }
   ],
   "source": [
    "info2.describe()"
   ]
  },
  {
   "cell_type": "code",
   "execution_count": 301,
   "id": "2fc67bd7-5825-4008-bd34-318c44f90832",
   "metadata": {},
   "outputs": [
    {
     "data": {
      "image/png": "[encoded data removed]",
      "text/plain": [
       "<Figure size 1500x500 with 3 Axes>"
      ]
     },
     "metadata": {},
     "output_type": "display_data"
    }
   ],
   "source": [
    "#用箱线图判断是否存在异常值\n",
    "plot_list2 = ['月租价格(元/月)','面积(㎡)','单位月租价格(元/月/㎡)']\n",
    "fig, axes = plt.subplots(1, 3, figsize=(15, 5))\n",
    "for i, column in enumerate(plot_list2):\n",
    "    axes[i].boxplot(info2[column]) \n",
    "plt.tight_layout()\n",
    "plt.show()"
   ]
  },
  {
   "cell_type": "markdown",
   "id": "144605f0-5338-4e8c-a423-3bcab56fbf2e",
   "metadata": {},
   "source": [
    "观察图象得，月租价格，面积和单位月租价格都存在较多离群值。\n",
    "初步猜测可能由于沙河地区合租和整租的房源都较多，而这二者在面积和租金上的差别都较大。"
   ]
  },
  {
   "cell_type": "markdown",
   "id": "4fda6a3f-8695-4e53-ad09-fbca55dcd295",
   "metadata": {
    "jp-MarkdownHeadingCollapsed": true
   },
   "source": [
    "## Task 3：计算房价租金比并且绘制Figure A"
   ]
  },
  {
   "cell_type": "code",
   "execution_count": 309,
   "id": "742c643c-ea04-42d1-921e-04dbe4880664",
   "metadata": {},
   "outputs": [
    {
     "name": "stdout",
     "output_type": "stream",
     "text": [
      "84.324749325402 40.558456790359486\n"
     ]
    }
   ],
   "source": [
    "# 用数据description table中的中位数进行计算: 房价租金比 = 房价中位数/年租金中位数\n",
    "# 沙河地区：\n",
    "ratio1 = 56216.5000/(55.555556*12)\n",
    "# 同伴爬取的霍营地区：\n",
    "ratio2 = 40.558456790359486\n",
    "print(ratio1, ratio2)"
   ]
  },
  {
   "cell_type": "code",
   "execution_count": 311,
   "id": "3c774310-663f-4f8f-b7df-679e3b4771e8",
   "metadata": {},
   "outputs": [
    {
     "data": {
      "image/png": "[encoded data removed]",
      "text/plain": [
       "<Figure size 640x480 with 1 Axes>"
      ]
     },
     "metadata": {},
     "output_type": "display_data"
    }
   ],
   "source": [
    "# 绘制两个房价租金比的柱形图\n",
    "Ratio = {'Category': ['SH', 'HY'],\n",
    "        ' the median price to rent ratio ': [ratio1, ratio2]}\n",
    "Ratio = pd.DataFrame(Ratio)\n",
    "Ratio.plot(kind='bar', x='Category', y=' the median price to rent ratio ', color='pink')\n",
    "\n",
    "plt.title('Figure A')\n",
    "plt.xlabel('block')\n",
    "plt.ylabel('Ratio')\n",
    "plt.xticks(rotation=0) \n",
    "plt.tight_layout() \n",
    "plt.show()"
   ]
  },
  {
   "cell_type": "markdown",
   "id": "89a38a2c-d12d-46ce-8866-811e2c7e4c42",
   "metadata": {
    "jp-MarkdownHeadingCollapsed": true
   },
   "source": [
    "## Task 4：建立回归模型、尝试预测并绘制Figure B&C"
   ]
  },
  {
   "cell_type": "markdown",
   "id": "3ea6e9b1-82a4-44d9-b47e-0719807c714e",
   "metadata": {
    "jp-MarkdownHeadingCollapsed": true
   },
   "source": [
    "### -二手房价模型"
   ]
  },
  {
   "cell_type": "code",
   "execution_count": 331,
   "id": "c6f89924-7f0d-4241-974d-ca691b4a8e0c",
   "metadata": {},
   "outputs": [
    {
     "name": "stdout",
     "output_type": "stream",
     "text": [
      "        price          m2   block\n",
      "0     66666.0  570.005700  北京昌平沙河\n",
      "1     92495.0  237.850695  北京昌平沙河\n",
      "2     51387.0  739.486641  北京昌平沙河\n",
      "3    105517.0  758.171669  北京昌平沙河\n",
      "4    114627.0  314.062132  北京昌平沙河\n",
      "..        ...         ...     ...\n",
      "115   47339.0   88.720000  北京昌平霍营\n",
      "116   43911.0   85.400000  北京昌平霍营\n",
      "117   43211.0  150.190000  北京昌平霍营\n",
      "118   48701.0   92.400000  北京昌平霍营\n",
      "119   43462.0   56.370000  北京昌平霍营\n",
      "\n",
      "[120 rows x 3 columns]\n"
     ]
    }
   ],
   "source": [
    "# 导入同伴爬取的霍营二手房价数据\n",
    "info_m1_2 = pd.read_csv('霍营二手房价.csv')\n",
    "info_m1_2 = pd.DataFrame(info_m1_2)\n",
    "# 将霍营和沙河的数据合并为一个二维表格\n",
    "info_price = pd.concat([info_m1, info_m1_2], ignore_index = True)\n",
    "print(info_price)"
   ]
  },
  {
   "cell_type": "code",
   "execution_count": 333,
   "id": "8907edcc-f85c-4baa-b9af-a8227c2e15fb",
   "metadata": {},
   "outputs": [
    {
     "name": "stdout",
     "output_type": "stream",
     "text": [
      "        price          m2  block_北京昌平霍营\n",
      "0     66666.0  570.005700             0\n",
      "1     92495.0  237.850695             0\n",
      "2     51387.0  739.486641             0\n",
      "3    105517.0  758.171669             0\n",
      "4    114627.0  314.062132             0\n",
      "..        ...         ...           ...\n",
      "115   47339.0   88.720000             1\n",
      "116   43911.0   85.400000             1\n",
      "117   43211.0  150.190000             1\n",
      "118   48701.0   92.400000             1\n",
      "119   43462.0   56.370000             1\n",
      "\n",
      "[120 rows x 3 columns]\n"
     ]
    }
   ],
   "source": [
    "# 对分类变量'block'进行独热编码\n",
    "info_price = pd.get_dummies(info_price,columns=['block'],drop_first=True,dtype=int)\n",
    "print(info_price)"
   ]
  },
  {
   "cell_type": "code",
   "execution_count": 340,
   "id": "7d90d8f3-0670-467a-9904-e8bf2cbd1c5d",
   "metadata": {},
   "outputs": [
    {
     "name": "stdout",
     "output_type": "stream",
     "text": [
      "                            OLS Regression Results                            \n",
      "==============================================================================\n",
      "Dep. Variable:                  price   R-squared:                       0.137\n",
      "Model:                            OLS   Adj. R-squared:                  0.114\n",
      "Method:                 Least Squares   F-statistic:                     6.113\n",
      "Date:                Thu, 20 Mar 2025   Prob (F-statistic):           0.000675\n",
      "Time:                        11:38:40   Log-Likelihood:                -1332.2\n",
      "No. Observations:                 120   AIC:                             2672.\n",
      "Df Residuals:                     116   BIC:                             2684.\n",
      "Df Model:                           3                                         \n",
      "Covariance Type:            nonrobust                                         \n",
      "===================================================================================\n",
      "                      coef    std err          t      P>|t|      [0.025      0.975]\n",
      "-----------------------------------------------------------------------------------\n",
      "Intercept        5.781e+04   5081.410     11.377      0.000    4.77e+04    6.79e+04\n",
      "m2                  7.3409     10.784      0.681      0.497     -14.019      28.701\n",
      "block_北京昌平霍营    -1.785e+04   1.04e+04     -1.711      0.090   -3.85e+04    2811.366\n",
      "m2:block_北京昌平霍营    80.8717     89.926      0.899      0.370     -97.238     258.981\n",
      "==============================================================================\n",
      "Omnibus:                       24.365   Durbin-Watson:                   2.025\n",
      "Prob(Omnibus):                  0.000   Jarque-Bera (JB):               33.119\n",
      "Skew:                           1.062   Prob(JB):                     6.43e-08\n",
      "Kurtosis:                       4.454   Cond. No.                     2.47e+03\n",
      "==============================================================================\n",
      "\n",
      "Notes:\n",
      "[1] Standard Errors assume that the covariance matrix of the errors is correctly specified.\n",
      "[2] The condition number is large, 2.47e+03. This might indicate that there are\n",
      "strong multicollinearity or other numerical problems.\n"
     ]
    }
   ],
   "source": [
    "# 开始跑回归\n",
    "model1 = smf.ols(formula='price ~ m2 + block_北京昌平霍营 + m2:block_北京昌平霍营', data=info_price).fit()\n",
    "print(model1.summary())"
   ]
  },
  {
   "cell_type": "code",
   "execution_count": 351,
   "id": "4285943f-a952-43c4-b6d7-f9f4a3c86af4",
   "metadata": {},
   "outputs": [
    {
     "data": {
      "text/html": [
       "<div>\n",
       "<style scoped>\n",
       "    .dataframe tbody tr th:only-of-type {\n",
       "        vertical-align: middle;\n",
       "    }\n",
       "\n",
       "    .dataframe tbody tr th {\n",
       "        vertical-align: top;\n",
       "    }\n",
       "\n",
       "    .dataframe thead th {\n",
       "        text-align: right;\n",
       "    }\n",
       "</style>\n",
       "<table border=\"1\" class=\"dataframe\">\n",
       "  <thead>\n",
       "    <tr style=\"text-align: right;\">\n",
       "      <th></th>\n",
       "      <th>m2</th>\n",
       "      <th>block</th>\n",
       "      <th>price/m2</th>\n",
       "    </tr>\n",
       "  </thead>\n",
       "  <tbody>\n",
       "    <tr>\n",
       "      <th>0</th>\n",
       "      <td>50</td>\n",
       "      <td>1</td>\n",
       "      <td>44370.559520</td>\n",
       "    </tr>\n",
       "    <tr>\n",
       "      <th>1</th>\n",
       "      <td>50</td>\n",
       "      <td>0</td>\n",
       "      <td>58178.050415</td>\n",
       "    </tr>\n",
       "    <tr>\n",
       "      <th>2</th>\n",
       "      <td>100</td>\n",
       "      <td>1</td>\n",
       "      <td>48781.185837</td>\n",
       "    </tr>\n",
       "    <tr>\n",
       "      <th>3</th>\n",
       "      <td>100</td>\n",
       "      <td>0</td>\n",
       "      <td>58545.093234</td>\n",
       "    </tr>\n",
       "  </tbody>\n",
       "</table>\n",
       "</div>"
      ],
      "text/plain": [
       "    m2  block      price/m2\n",
       "0   50      1  44370.559520\n",
       "1   50      0  58178.050415\n",
       "2  100      1  48781.185837\n",
       "3  100      0  58545.093234"
      ]
     },
     "execution_count": 351,
     "metadata": {},
     "output_type": "execute_result"
    }
   ],
   "source": [
    "#对m2=50、m2=100的情况展开预测\n",
    "predict_m1 = pd.DataFrame()\n",
    "predict_m1[['m2','block_北京昌平霍营']]=[[50,1]]\n",
    "predict_m1.loc[len(predict_m1.index)] = [50,0]\n",
    "predict_m1.loc[len(predict_m1.index)] = [100,1]\n",
    "predict_m1.loc[len(predict_m1.index)] = [100,0]\n",
    "pre1_result = model1.predict(predict_m1)\n",
    "#以二维表格形式输出\n",
    "m1_result = pd.concat([predict_m1,pre1_result],axis=1)\n",
    "m1_result.columns = ['m2','block','price/m2']\n",
    "m1_result"
   ]
  },
  {
   "cell_type": "code",
   "execution_count": 364,
   "id": "95adcb4d-5377-4b94-8c0e-e816757f3e10",
   "metadata": {},
   "outputs": [
    {
     "data": {
      "image/png": "[encoded data removed]",
      "text/plain": [
       "<Figure size 800x500 with 1 Axes>"
      ]
     },
     "metadata": {},
     "output_type": "display_data"
    }
   ],
   "source": [
    "# 以柱形图形式输出\n",
    "plt.figure(figsize=(8, 5))\n",
    "plot_pre = sns.barplot(x='m2', y='price/m2', hue='block', data=m1_result, palette=['pink','skyblue'])\n",
    "plt.xlabel(\"m2\")\n",
    "plt.ylabel(\"Price per m2\")\n",
    "plt.title(\"prediction\")\n",
    "handles, labels = plot_pre.get_legend_handles_labels()\n",
    "plt.legend(handles,[\"SH\", \"HY\"])\n",
    "plt.show()"
   ]
  },
  {
   "cell_type": "markdown",
   "id": "fb9bcc21-8565-494c-a117-5823e80b6e0b",
   "metadata": {
    "jp-MarkdownHeadingCollapsed": true
   },
   "source": [
    "### -租房租金模型"
   ]
  },
  {
   "cell_type": "code",
   "execution_count": 397,
   "id": "8d25d3a3-ebe5-44c9-a15b-33f043743632",
   "metadata": {},
   "outputs": [
    {
     "name": "stdout",
     "output_type": "stream",
     "text": [
      "           rent     m2   block\n",
      "0     63.888889   36.0  北京昌平沙河\n",
      "1     58.333333   18.0  北京昌平沙河\n",
      "2     63.888889   36.0  北京昌平沙河\n",
      "3     66.666667   18.0  北京昌平沙河\n",
      "4     94.420601  233.0  北京昌平沙河\n",
      "..          ...    ...     ...\n",
      "111   57.291667   96.0  北京昌平霍营\n",
      "112   94.117647   17.0  北京昌平霍营\n",
      "113  165.000000   20.0  北京昌平霍营\n",
      "114   92.307692   52.0  北京昌平霍营\n",
      "115   60.674157   89.0  北京昌平霍营\n",
      "\n",
      "[116 rows x 3 columns]\n"
     ]
    }
   ],
   "source": [
    "# 导入同伴爬取的霍营租房租金数据\n",
    "info_m2_2 = pd.read_csv('霍营租房租金.csv')\n",
    "info_m2_2 = pd.DataFrame(info_m2_2)\n",
    "# 将霍营和沙河的数据合并为一个二维表格\n",
    "info_rent = pd.concat([info_m2, info_m2_2], ignore_index = True)\n",
    "print(info_rent)"
   ]
  },
  {
   "cell_type": "code",
   "execution_count": 399,
   "id": "cc867f8a-27cc-4183-91be-b10b894f0255",
   "metadata": {},
   "outputs": [
    {
     "name": "stdout",
     "output_type": "stream",
     "text": [
      "           rent     m2  block_北京昌平霍营\n",
      "0     63.888889   36.0             0\n",
      "1     58.333333   18.0             0\n",
      "2     63.888889   36.0             0\n",
      "3     66.666667   18.0             0\n",
      "4     94.420601  233.0             0\n",
      "..          ...    ...           ...\n",
      "111   57.291667   96.0             1\n",
      "112   94.117647   17.0             1\n",
      "113  165.000000   20.0             1\n",
      "114   92.307692   52.0             1\n",
      "115   60.674157   89.0             1\n",
      "\n",
      "[116 rows x 3 columns]\n"
     ]
    }
   ],
   "source": [
    "# 对分类变量'block'进行独热编码\n",
    "info_rent = pd.get_dummies(info_rent,columns=['block'],drop_first=True,dtype=int)\n",
    "print(info_rent)"
   ]
  },
  {
   "cell_type": "code",
   "execution_count": 401,
   "id": "68071d62-9e73-4bf0-b2d6-06979f35263a",
   "metadata": {},
   "outputs": [
    {
     "name": "stdout",
     "output_type": "stream",
     "text": [
      "                            OLS Regression Results                            \n",
      "==============================================================================\n",
      "Dep. Variable:                   rent   R-squared:                       0.618\n",
      "Model:                            OLS   Adj. R-squared:                  0.608\n",
      "Method:                 Least Squares   F-statistic:                     60.37\n",
      "Date:                Thu, 20 Mar 2025   Prob (F-statistic):           2.70e-23\n",
      "Time:                        12:12:39   Log-Likelihood:                -504.84\n",
      "No. Observations:                 116   AIC:                             1018.\n",
      "Df Residuals:                     112   BIC:                             1029.\n",
      "Df Model:                           3                                         \n",
      "Covariance Type:            nonrobust                                         \n",
      "===================================================================================\n",
      "                      coef    std err          t      P>|t|      [0.025      0.975]\n",
      "-----------------------------------------------------------------------------------\n",
      "Intercept          57.7560      2.749     21.010      0.000      52.309      63.203\n",
      "m2                 -0.0082      0.024     -0.346      0.730      -0.055       0.039\n",
      "block_北京昌平霍营       64.9956      5.027     12.930      0.000      55.036      74.955\n",
      "m2:block_北京昌平霍营    -0.7968      0.084     -9.481      0.000      -0.963      -0.630\n",
      "==============================================================================\n",
      "Omnibus:                       19.087   Durbin-Watson:                   2.126\n",
      "Prob(Omnibus):                  0.000   Jarque-Bera (JB):               53.545\n",
      "Skew:                           0.513   Prob(JB):                     2.36e-12\n",
      "Kurtosis:                       6.166   Cond. No.                         274.\n",
      "==============================================================================\n",
      "\n",
      "Notes:\n",
      "[1] Standard Errors assume that the covariance matrix of the errors is correctly specified.\n"
     ]
    }
   ],
   "source": [
    "# 开始跑回归\n",
    "model2 = smf.ols(formula='rent ~ m2 + block_北京昌平霍营 + m2:block_北京昌平霍营', data=info_rent).fit()\n",
    "print(model2.summary())"
   ]
  },
  {
   "cell_type": "code",
   "execution_count": 403,
   "id": "29657e4d-9712-452c-8df8-f97065297519",
   "metadata": {},
   "outputs": [
    {
     "data": {
      "text/html": [
       "<div>\n",
       "<style scoped>\n",
       "    .dataframe tbody tr th:only-of-type {\n",
       "        vertical-align: middle;\n",
       "    }\n",
       "\n",
       "    .dataframe tbody tr th {\n",
       "        vertical-align: top;\n",
       "    }\n",
       "\n",
       "    .dataframe thead th {\n",
       "        text-align: right;\n",
       "    }\n",
       "</style>\n",
       "<table border=\"1\" class=\"dataframe\">\n",
       "  <thead>\n",
       "    <tr style=\"text-align: right;\">\n",
       "      <th></th>\n",
       "      <th>m2</th>\n",
       "      <th>block</th>\n",
       "      <th>rent/m2</th>\n",
       "    </tr>\n",
       "  </thead>\n",
       "  <tbody>\n",
       "    <tr>\n",
       "      <th>0</th>\n",
       "      <td>50</td>\n",
       "      <td>1</td>\n",
       "      <td>82.500854</td>\n",
       "    </tr>\n",
       "    <tr>\n",
       "      <th>1</th>\n",
       "      <td>50</td>\n",
       "      <td>0</td>\n",
       "      <td>57.343834</td>\n",
       "    </tr>\n",
       "    <tr>\n",
       "      <th>2</th>\n",
       "      <td>100</td>\n",
       "      <td>1</td>\n",
       "      <td>42.250163</td>\n",
       "    </tr>\n",
       "    <tr>\n",
       "      <th>3</th>\n",
       "      <td>100</td>\n",
       "      <td>0</td>\n",
       "      <td>56.931686</td>\n",
       "    </tr>\n",
       "  </tbody>\n",
       "</table>\n",
       "</div>"
      ],
      "text/plain": [
       "    m2  block    rent/m2\n",
       "0   50      1  82.500854\n",
       "1   50      0  57.343834\n",
       "2  100      1  42.250163\n",
       "3  100      0  56.931686"
      ]
     },
     "execution_count": 403,
     "metadata": {},
     "output_type": "execute_result"
    }
   ],
   "source": [
    "#对m2=50、m2=100的情况展开预测\n",
    "predict_m2 = pd.DataFrame()\n",
    "predict_m2[['m2','block_北京昌平霍营']]=[[50,1]]\n",
    "predict_m2.loc[len(predict_m2.index)] = [50,0]\n",
    "predict_m2.loc[len(predict_m2.index)] = [100,1]\n",
    "predict_m2.loc[len(predict_m2.index)] = [100,0]\n",
    "pre2_result = model2.predict(predict_m2)\n",
    "#以二维表格形式输出\n",
    "m2_result = pd.concat([predict_m2,pre2_result],axis=1)\n",
    "m2_result.columns = ['m2','block','rent/m2']\n",
    "m2_result"
   ]
  },
  {
   "cell_type": "code",
   "execution_count": 405,
   "id": "ad101c01-4494-48a9-82ca-cff0b74d8a6c",
   "metadata": {},
   "outputs": [
    {
     "data": {
      "image/png": "[encoded data removed]",
      "text/plain": [
       "<Figure size 800x500 with 1 Axes>"
      ]
     },
     "metadata": {},
     "output_type": "display_data"
    }
   ],
   "source": [
    "# 以柱形图形式输出\n",
    "plt.figure(figsize=(8, 5))\n",
    "plot_pre = sns.barplot(x='m2', y='rent/m2', hue='block', data=m2_result, palette=['pink','skyblue'])\n",
    "plt.xlabel(\"m2\")\n",
    "plt.ylabel(\"Rent per m2\")\n",
    "plt.title(\"prediction\")\n",
    "handles, labels = plot_pre.get_legend_handles_labels()\n",
    "plt.legend(handles,[\"SH\", \"HY\"])\n",
    "plt.show()"
   ]
  },
  {
   "cell_type": "markdown",
   "id": "a7e706ba-874b-4810-9b63-27d51a33c60b",
   "metadata": {
    "jp-MarkdownHeadingCollapsed": true
   },
   "source": [
    "### -绘制Figure B&C"
   ]
  },
  {
   "cell_type": "code",
   "execution_count": 409,
   "id": "8bb5dc32-4723-4caa-a9f6-22ff1a4d5d93",
   "metadata": {},
   "outputs": [
    {
     "data": {
      "text/html": [
       "<div>\n",
       "<style scoped>\n",
       "    .dataframe tbody tr th:only-of-type {\n",
       "        vertical-align: middle;\n",
       "    }\n",
       "\n",
       "    .dataframe tbody tr th {\n",
       "        vertical-align: top;\n",
       "    }\n",
       "\n",
       "    .dataframe thead th {\n",
       "        text-align: right;\n",
       "    }\n",
       "</style>\n",
       "<table border=\"1\" class=\"dataframe\">\n",
       "  <thead>\n",
       "    <tr style=\"text-align: right;\">\n",
       "      <th></th>\n",
       "      <th>price/m2</th>\n",
       "      <th>rent/m2</th>\n",
       "      <th>rent ratio</th>\n",
       "    </tr>\n",
       "  </thead>\n",
       "  <tbody>\n",
       "    <tr>\n",
       "      <th>0</th>\n",
       "      <td>44370.559520</td>\n",
       "      <td>82.500854</td>\n",
       "      <td>44.818283</td>\n",
       "    </tr>\n",
       "    <tr>\n",
       "      <th>1</th>\n",
       "      <td>58178.050415</td>\n",
       "      <td>57.343834</td>\n",
       "      <td>84.545635</td>\n",
       "    </tr>\n",
       "    <tr>\n",
       "      <th>2</th>\n",
       "      <td>48781.185837</td>\n",
       "      <td>42.250163</td>\n",
       "      <td>96.214985</td>\n",
       "    </tr>\n",
       "    <tr>\n",
       "      <th>3</th>\n",
       "      <td>58545.093234</td>\n",
       "      <td>56.931686</td>\n",
       "      <td>85.694947</td>\n",
       "    </tr>\n",
       "  </tbody>\n",
       "</table>\n",
       "</div>"
      ],
      "text/plain": [
       "       price/m2    rent/m2  rent ratio\n",
       "0  44370.559520  82.500854   44.818283\n",
       "1  58178.050415  57.343834   84.545635\n",
       "2  48781.185837  42.250163   96.214985\n",
       "3  58545.093234  56.931686   85.694947"
      ]
     },
     "execution_count": 409,
     "metadata": {},
     "output_type": "execute_result"
    }
   ],
   "source": [
    "# 直接导入\n",
    "rr_result = pd.concat([pre1_result,pre2_result],axis=1,ignore_index=True)\n",
    "rr_result.columns = ['price/m2','rent/m2']\n",
    "rr_result['rent ratio'] = rr_result['price/m2']/(rr_result['rent/m2']*12)\n",
    "rr_result"
   ]
  },
  {
   "cell_type": "code",
   "execution_count": 416,
   "id": "90ce845c-5ce2-4502-af1e-c6342270ce41",
   "metadata": {},
   "outputs": [
    {
     "data": {
      "image/png": "[encoded data removed]",
      "text/plain": [
       "<Figure size 600x400 with 1 Axes>"
      ]
     },
     "metadata": {},
     "output_type": "display_data"
    }
   ],
   "source": [
    "# 绘制Figure B：霍营的房价租金比\n",
    "rr2 = pd.DataFrame({'m2': ['50', '100'], 'rent_ratio': [44.818283, 96.214985]})\n",
    "plt.figure(figsize=(6, 4))\n",
    "plt.bar(rr2['m2'], rr2['rent_ratio'], color=['pink', 'skyblue'])\n",
    "plt.xlabel(\"m2\")\n",
    "plt.ylabel(\"Rent Ratio\")\n",
    "plt.title(\"Figure B (block=HY)\")\n",
    "plt.show()"
   ]
  },
  {
   "cell_type": "code",
   "execution_count": 422,
   "id": "1661150c-ffb2-4c64-bcd3-4f29b60389c5",
   "metadata": {},
   "outputs": [
    {
     "data": {
      "image/png": "[encoded data removed]",
      "text/plain": [
       "<Figure size 600x400 with 1 Axes>"
      ]
     },
     "metadata": {},
     "output_type": "display_data"
    }
   ],
   "source": [
    "# 绘制Figure C：沙河的房价租金比\n",
    "rr3 = pd.DataFrame({'m2': ['50', '100'], 'rent_ratio': [54.086457, 59.153630]})\n",
    "plt.figure(figsize=(6, 4))\n",
    "plt.bar(rr3['m2'], rr3['rent_ratio'], color=['pink', 'skyblue'])\n",
    "plt.xlabel(\"m2\")\n",
    "plt.ylabel(\"Rent Ratio\")\n",
    "plt.title(\"Figure C (block=HY)\")\n",
    "plt.show()"
   ]
  }
 ],
 "metadata": {
  "kernelspec": {
   "display_name": "Python [conda env:base] *",
   "language": "python",
   "name": "conda-base-py"
  },
  "language_info": {
   "codemirror_mode": {
    "name": "ipython",
    "version": 3
   },
   "file_extension": ".py",
   "mimetype": "text/x-python",
   "name": "python",
   "nbconvert_exporter": "python",
   "pygments_lexer": "ipython3",
   "version": "3.12.7"
  }
 },
 "nbformat": 4,
 "nbformat_minor": 5
}
