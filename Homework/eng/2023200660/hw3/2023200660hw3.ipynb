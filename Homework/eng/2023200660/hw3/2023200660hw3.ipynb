{
 "cells": [
  {
   "cell_type": "markdown",
   "metadata": {},
   "source": [
    "# <center>作业三：数据爬取与分析</center>\n",
    "<center>2025年3月19日\n",
    "**2023200660**</center>\n",
    "\n",
    "\n",
    "#### 西二旗数据爬取与分析\n",
    "\n",
    "\n",
    "### 3-1,2: Data Mining\n",
    "- Housing Price Data from https://esf.fang.com/\n",
    "- Housing Rent Data from https://zu.fang.com/\n",
    "- Data needed: listed below\n",
    "\n",
    "| Data | Description |\n",
    "| --- | --- |\n",
    "| Block | Block Name |\n",
    "| Price | Housing Price |\n",
    "| Rent | Housing Rent |\n",
    "| Area | Housing Area |\n",
    "| Layout | Housing Layout |\n",
    "| Floor | Housing Floor |\n",
    "| Year | Housing Year |\n",
    "| Direction | Housing Direction |\n",
    "| Community | Housing Community |\n",
    "| District | Housing District |\n",
    "|---> | Housing URL |\n",
    "\n",
    "### 网页原代码如下:\n"
   ]
  },
  {
   "cell_type": "markdown",
   "metadata": {},
   "source": [
    "<dd><h4 class=\"clearfix\"><a ps=\"1_2_60\" href=\"/chushou/3_483820454.htm\" target=\"_blank\" data_channel=\"2,2\" title=\"优选 966万 领秀硅谷 西二旗 158平 南北三居 低价房\"><span class=\"tit_shop\"> 优选 966万 领秀硅谷 西二旗 158平 南北三居 低价房</span></a></h4><p class=\"tel_shop\"> 3室2厅 <i>|</i> 158.23㎡ <i>|</i> 底层 （共5层） <i>|</i> 南北向 <i>|</i> 2003年建 <i>|</i><span class=\"people_name\"><a nofollow=\"\" href=\"/agentshop/19907671.html\" title=\"访问[安兰春]的个人网上店铺，查看更多房源\" target=\"_blank\">安兰春</a></span></p><p class=\"add_shop\"><a target=\"_blank\" href=\"/house-xm1010625783/\" title=\"领秀硅谷\"> 领秀硅谷 </a><span>西二旗-西二旗中路六号</span></p><p class=\"clearfix label\"><a href=\"//baike.fang.com/item/满五/2098659\" target=\"_blank\">满五</a><a href=\"//baike.fang.com/item/业主急售/12851714\" target=\"_blank\">业主急售</a><a href=\"//baike.fang.com/item/性价比高/12851715\" target=\"_blank\">性价比高</a><a href=\"//baike.fang.com/item/首付低/12851716\" target=\"_blank\">首付低</a><a href=\"//baike.fang.com/item/配套成熟/12851723\" target=\"_blank\">配套成熟</a></p></dd>"
   ]
  },
  {
   "cell_type": "code",
   "execution_count": 1,
   "metadata": {},
   "outputs": [
    {
     "name": "stdout",
     "output_type": "stream",
     "text": [
      "Collecting selenium\n",
      "  Downloading selenium-4.29.0-py3-none-any.whl.metadata (7.1 kB)\n",
      "Requirement already satisfied: requests in /home/duanyi_prv/anaconda3/envs/ES/lib/python3.9/site-packages (2.32.3)\n",
      "Requirement already satisfied: urllib3<3,>=1.26 in /home/duanyi_prv/anaconda3/envs/ES/lib/python3.9/site-packages (from urllib3[socks]<3,>=1.26->selenium) (2.2.3)\n",
      "Collecting trio~=0.17 (from selenium)\n",
      "  Downloading trio-0.29.0-py3-none-any.whl.metadata (8.5 kB)\n",
      "Collecting trio-websocket~=0.9 (from selenium)\n",
      "  Downloading trio_websocket-0.12.2-py3-none-any.whl.metadata (5.1 kB)\n",
      "Requirement already satisfied: certifi>=2021.10.8 in /home/duanyi_prv/anaconda3/envs/ES/lib/python3.9/site-packages (from selenium) (2024.8.30)\n",
      "Requirement already satisfied: typing_extensions~=4.9 in /home/duanyi_prv/anaconda3/envs/ES/lib/python3.9/site-packages (from selenium) (4.12.2)\n",
      "Collecting websocket-client~=1.8 (from selenium)\n",
      "  Using cached websocket_client-1.8.0-py3-none-any.whl.metadata (8.0 kB)\n",
      "Requirement already satisfied: charset-normalizer<4,>=2 in /home/duanyi_prv/anaconda3/envs/ES/lib/python3.9/site-packages (from requests) (3.4.0)\n",
      "Requirement already satisfied: idna<4,>=2.5 in /home/duanyi_prv/anaconda3/envs/ES/lib/python3.9/site-packages (from requests) (3.10)\n",
      "Requirement already satisfied: attrs>=23.2.0 in /home/duanyi_prv/anaconda3/envs/ES/lib/python3.9/site-packages (from trio~=0.17->selenium) (25.1.0)\n",
      "Collecting sortedcontainers (from trio~=0.17->selenium)\n",
      "  Downloading sortedcontainers-2.4.0-py2.py3-none-any.whl.metadata (10 kB)\n",
      "Collecting outcome (from trio~=0.17->selenium)\n",
      "  Using cached outcome-1.3.0.post0-py2.py3-none-any.whl.metadata (2.6 kB)\n",
      "Requirement already satisfied: sniffio>=1.3.0 in /home/duanyi_prv/anaconda3/envs/ES/lib/python3.9/site-packages (from trio~=0.17->selenium) (1.3.1)\n",
      "Requirement already satisfied: exceptiongroup in /home/duanyi_prv/anaconda3/envs/ES/lib/python3.9/site-packages (from trio~=0.17->selenium) (1.2.2)\n",
      "Collecting wsproto>=0.14 (from trio-websocket~=0.9->selenium)\n",
      "  Using cached wsproto-1.2.0-py3-none-any.whl.metadata (5.6 kB)\n",
      "Collecting pysocks!=1.5.7,<2.0,>=1.5.6 (from urllib3[socks]<3,>=1.26->selenium)\n",
      "  Downloading PySocks-1.7.1-py3-none-any.whl.metadata (13 kB)\n",
      "Requirement already satisfied: h11<1,>=0.9.0 in /home/duanyi_prv/anaconda3/envs/ES/lib/python3.9/site-packages (from wsproto>=0.14->trio-websocket~=0.9->selenium) (0.14.0)\n",
      "Downloading selenium-4.29.0-py3-none-any.whl (9.5 MB)\n",
      "\u001b[2K   \u001b[90m━━━━━━━━━━━━━━━━━━━━━━━━━━━━━━━━━━━━━━━━\u001b[0m \u001b[32m9.5/9.5 MB\u001b[0m \u001b[31m1.1 MB/s\u001b[0m eta \u001b[36m0:00:00\u001b[0m00:01\u001b[0m00:01\u001b[0m\n",
      "\u001b[?25hDownloading trio-0.29.0-py3-none-any.whl (492 kB)\n",
      "Downloading trio_websocket-0.12.2-py3-none-any.whl (21 kB)\n",
      "Using cached websocket_client-1.8.0-py3-none-any.whl (58 kB)\n",
      "Using cached outcome-1.3.0.post0-py2.py3-none-any.whl (10 kB)\n",
      "Downloading PySocks-1.7.1-py3-none-any.whl (16 kB)\n",
      "Using cached wsproto-1.2.0-py3-none-any.whl (24 kB)\n",
      "Downloading sortedcontainers-2.4.0-py2.py3-none-any.whl (29 kB)\n",
      "Installing collected packages: sortedcontainers, wsproto, websocket-client, pysocks, outcome, trio, trio-websocket, selenium\n",
      "Successfully installed outcome-1.3.0.post0 pysocks-1.7.1 selenium-4.29.0 sortedcontainers-2.4.0 trio-0.29.0 trio-websocket-0.12.2 websocket-client-1.8.0 wsproto-1.2.0\n"
     ]
    }
   ],
   "source": [
    "!pip install selenium requests"
   ]
  },
  {
   "cell_type": "code",
   "execution_count": 8,
   "metadata": {},
   "outputs": [
    {
     "name": "stdout",
     "output_type": "stream",
     "text": [
      "Collecting webdriver_manager\n",
      "  Using cached webdriver_manager-4.0.2-py2.py3-none-any.whl.metadata (12 kB)\n",
      "Requirement already satisfied: requests in /home/duanyi_prv/anaconda3/envs/ES/lib/python3.9/site-packages (from webdriver_manager) (2.32.3)\n",
      "Collecting python-dotenv (from webdriver_manager)\n",
      "  Downloading python_dotenv-1.0.1-py3-none-any.whl.metadata (23 kB)\n",
      "Requirement already satisfied: packaging in /home/duanyi_prv/anaconda3/envs/ES/lib/python3.9/site-packages (from webdriver_manager) (24.2)\n",
      "Requirement already satisfied: charset-normalizer<4,>=2 in /home/duanyi_prv/anaconda3/envs/ES/lib/python3.9/site-packages (from requests->webdriver_manager) (3.4.0)\n",
      "Requirement already satisfied: idna<4,>=2.5 in /home/duanyi_prv/anaconda3/envs/ES/lib/python3.9/site-packages (from requests->webdriver_manager) (3.10)\n",
      "Requirement already satisfied: urllib3<3,>=1.21.1 in /home/duanyi_prv/anaconda3/envs/ES/lib/python3.9/site-packages (from requests->webdriver_manager) (2.2.3)\n",
      "Requirement already satisfied: certifi>=2017.4.17 in /home/duanyi_prv/anaconda3/envs/ES/lib/python3.9/site-packages (from requests->webdriver_manager) (2024.8.30)\n",
      "Using cached webdriver_manager-4.0.2-py2.py3-none-any.whl (27 kB)\n",
      "Downloading python_dotenv-1.0.1-py3-none-any.whl (19 kB)\n",
      "Installing collected packages: python-dotenv, webdriver_manager\n",
      "Successfully installed python-dotenv-1.0.1 webdriver_manager-4.0.2\n"
     ]
    }
   ],
   "source": [
    "!pip install webdriver_manager"
   ]
  },
  {
   "cell_type": "code",
   "execution_count": 1,
   "metadata": {},
   "outputs": [],
   "source": [
    "import csv\n",
    "import time\n",
    "import tqdm\n",
    "import numpy as np\n",
    "import pandas as pd\n",
    "import seaborn as sns\n",
    "from selenium import webdriver\n",
    "import matplotlib.pyplot as plt\n",
    "from selenium.webdriver.common.by import By\n",
    "from selenium.webdriver.chrome.service import Service\n",
    "from selenium.webdriver.support.ui import WebDriverWait\n",
    "from webdriver_manager.chrome import ChromeDriverManager\n",
    "from selenium.common.exceptions import NoSuchElementException\n",
    "from selenium.webdriver.support import expected_conditions as EC\n",
    "plt.rcParams['font.sans-serif'] = ['WenQuanYi Micro Hei']\n",
    "plt.rcParams['axes.unicode_minus'] = False  # 用于正常显示负号\n",
    "\n",
    "CHROMEDRIVER_PATH = \"\\mnt\\c\\Program Files\\Google\\Chrome\\Application\\chromedriver.exe\" \n",
    "service = Service(CHROMEDRIVER_PATH)\n",
    "\n",
    "options = webdriver.ChromeOptions()\n",
    "options=webdriver.ChromeOptions()\n",
    "\n",
    "options.add_argument('--ignore-ssl-errors')\n",
    "options.add_argument('--headless')  # debug完成,故为了节约时间采用无头模式\n",
    "options.add_argument('--ignore-certificate-errors') # 忽略证书错误\n",
    "options.add_experimental_option('excludeSwitches', ['enable-automation'])# 忽略 Bluetooth: bluetooth_adapter_winrt.cc:1075 Getting Default Adapter failed. 错误\n",
    "options.add_experimental_option('excludeSwitches', ['enable-logging'])# 忽略 DevTools listening on ws://127.0.0.1... 提示"
   ]
  },
  {
   "cell_type": "code",
   "execution_count": 16,
   "metadata": {},
   "outputs": [
    {
     "name": "stderr",
     "output_type": "stream",
     "text": [
      " 10%|█         | 1/10 [00:08<01:13,  8.20s/it]"
     ]
    },
    {
     "name": "stdout",
     "output_type": "stream",
     "text": [
      "- 已翻至第2页\n"
     ]
    },
    {
     "name": "stderr",
     "output_type": "stream",
     "text": [
      " 20%|██        | 2/10 [00:16<01:06,  8.27s/it]"
     ]
    },
    {
     "name": "stdout",
     "output_type": "stream",
     "text": [
      "- 已翻至第3页\n"
     ]
    },
    {
     "name": "stderr",
     "output_type": "stream",
     "text": [
      " 30%|███       | 3/10 [00:24<00:55,  7.96s/it]"
     ]
    },
    {
     "name": "stdout",
     "output_type": "stream",
     "text": [
      "- 已翻至第4页\n"
     ]
    },
    {
     "name": "stderr",
     "output_type": "stream",
     "text": [
      " 40%|████      | 4/10 [00:32<00:47,  7.98s/it]"
     ]
    },
    {
     "name": "stdout",
     "output_type": "stream",
     "text": [
      "- 已翻至第5页\n"
     ]
    },
    {
     "name": "stderr",
     "output_type": "stream",
     "text": [
      " 50%|█████     | 5/10 [00:39<00:39,  7.89s/it]"
     ]
    },
    {
     "name": "stdout",
     "output_type": "stream",
     "text": [
      "- 已翻至第6页\n"
     ]
    },
    {
     "name": "stderr",
     "output_type": "stream",
     "text": [
      " 60%|██████    | 6/10 [00:47<00:31,  7.91s/it]"
     ]
    },
    {
     "name": "stdout",
     "output_type": "stream",
     "text": [
      "- 已翻至第7页\n"
     ]
    },
    {
     "name": "stderr",
     "output_type": "stream",
     "text": [
      " 70%|███████   | 7/10 [00:55<00:23,  7.89s/it]"
     ]
    },
    {
     "name": "stdout",
     "output_type": "stream",
     "text": [
      "- 已翻至第8页\n"
     ]
    },
    {
     "name": "stderr",
     "output_type": "stream",
     "text": [
      " 80%|████████  | 8/10 [01:03<00:15,  7.97s/it]"
     ]
    },
    {
     "name": "stdout",
     "output_type": "stream",
     "text": [
      "- 已翻至第9页\n"
     ]
    },
    {
     "name": "stderr",
     "output_type": "stream",
     "text": [
      " 80%|████████  | 8/10 [01:18<00:19,  9.82s/it]"
     ]
    },
    {
     "name": "stdout",
     "output_type": "stream",
     "text": [
      "- 翻页失败/已是最后一页\n",
      "数据爬取完成！\n"
     ]
    },
    {
     "name": "stderr",
     "output_type": "stream",
     "text": [
      "\n"
     ]
    }
   ],
   "source": [
    "service = Service(ChromeDriverManager().install())\n",
    "driver = webdriver.Chrome(service=service, options=options)\n",
    "\n",
    "target_url1 = \"https://esf.fang.com/house-a015277-b07195/\"\n",
    "driver.get(target_url1)\n",
    "# 创建CSV文件并写入表头\n",
    "with open('xierqi.csv', 'w', newline='', encoding='utf-8') as f:\n",
    "    writer = csv.writer(f)\n",
    "    writer.writerow(['id','title','tag','loc','price','unit_price','clearfix_label'])\n",
    "    \n",
    "    house_id = 1  # 房源ID计数器\n",
    "    for page in tqdm.tqdm(range(10)):   # 处理10页数据\n",
    "        # 等待页面加载完成\n",
    "        WebDriverWait(driver, 10).until(EC.presence_of_element_located((By.CSS_SELECTOR, '.shop_list')))\n",
    "        \n",
    "        # 获取所有房源容器\n",
    "        house_list = driver.find_elements(By.CSS_SELECTOR, 'dl[dataflag]')\n",
    "        \n",
    "        for house in house_list:\n",
    "            try:# 提取标题\n",
    "                title = house.find_element(By.CSS_SELECTOR, 'h4 a').get_attribute('title')               \n",
    "                \n",
    "                try:    # 提取房屋信息\n",
    "                    tel_shop = house.find_element(By.CLASS_NAME, 'tel_shop').text\n",
    "                    tag = tel_shop.replace(' | ', ', ')\n",
    "                except NoSuchElementException:tag = 'nan'\n",
    "                \n",
    "                # 提取位置信息\n",
    "                try:loc = house.find_element(By.CSS_SELECTOR, '.add_shop a').get_attribute('title')\n",
    "                except NoSuchElementException:loc = 'nan'\n",
    "                \n",
    "                try:    # 提取价格信息\n",
    "                    price = house.find_element(By.CLASS_NAME, 'price_right').text.split('\\n')[0]\n",
    "                    unit_price = house.find_element(By.CLASS_NAME, 'price_right').text.split('\\n')[1]\n",
    "                except:price = 'nan';unit_price = 'nan'\n",
    "                \n",
    "                try:    # 提取标签\n",
    "                    labels = house.find_elements(By.CSS_SELECTOR, '.label a')\n",
    "                    clearfix_label = ' '.join([label.text for label in labels])\n",
    "                except:clearfix_label = 'nan'\n",
    "                \n",
    "                # 写入数据\n",
    "                writer.writerow([\n",
    "                    house_id,\n",
    "                    title,\n",
    "                    tag,\n",
    "                    loc,\n",
    "                    price,\n",
    "                    unit_price,\n",
    "                    clearfix_label\n",
    "                ])\n",
    "                house_id += 1\n",
    "                \n",
    "            except Exception as e:\n",
    "                print(f\"处理房源时发生错误：{str(e)}\")\n",
    "                continue\n",
    "        # 翻页处理\n",
    "        if page < 9:  # 只需要翻9次页即可获取10页数据\n",
    "            try:\n",
    "                next_btn = WebDriverWait(driver, 10).until(EC.element_to_be_clickable((By.XPATH, '//a[contains(text(),\"下一页\")]')))\n",
    "                driver.execute_script(\"arguments[0].click();\", next_btn)\n",
    "                time.sleep(2)\n",
    "                print(f\"- 已翻至第{page+2}页\")\n",
    "            except Exception as e:\n",
    "                print(\"- 翻页失败/已是最后一页\")\n",
    "                break\n",
    "\n",
    "driver.quit()\n",
    "print(\"数据爬取完成！\")"
   ]
  },
  {
   "cell_type": "markdown",
   "metadata": {},
   "source": [
    "### 接下来爬取租房的数据\n",
    "\n",
    "<dd class=\"info rel\"><p class=\"title\" id=\"rentid_D09_2_02\"><a href=\"/chuzu/3_483866268_1.htm\" data_channel=\"2,8\" source_page=\"1\" target=\"_blank\" title=\"一号线九棵树 两家合租 南向主卧阳台 可月付 家电齐全无杂费\">一号线九棵树 两家合租 南向主卧阳台 可月付 家电齐</a></p><p class=\"font15 mt12 bold\"> 合租主卧<span class=\"splitline\">|</span>2户合租<span class=\"splitline\">|</span>21㎡<span class=\"splitline\">|</span>朝南 </p><p class=\"gray6 mt12\" id=\"rentid_D09_2_06\"><a href=\"//zu.fang.com/house-a010/\" target=\"_blank\"><span>通州</span></a>-<a href=\"//zu.fang.com/house-a010-b01174/\" target=\"_blank\"><span>梨园</span></a>-<a href=\"//zu.fang.com/house-xm1010499747/\" target=\"_blank\"><span>葛布店东里</span></a></p><div id=\"rentid_D09_2_07\"><p class=\"mt12\"><span class=\"note subInfor\">距1号线(八通线)梨园站约749米。</span></p></div><p class=\"gray6 mt15\" style=\"line-height: 16px;\"></p><p class=\"mt12\"><span class=\"note colorGreen\"><a href=\"https://baike.fang.com/item/%E5%85%A8%E8%A3%85%E5%85%A8%E9%85%8D/12851762\" class=\"link_rk\" target=\"_blank\">全装全配</a></span><span class=\"note colorRed\"><a href=\"https://baike.fang.com/item/%E9%87%87%E5%85%89%E5%A5%BD/12851718\" class=\"link_rk\" target=\"_blank\">采光好</a></span><span class=\"note colorBlue\"><a href=\"https://baike.fang.com/item/%E5%91%A8%E8%BE%B9%E9%85%8D%E5%A5%97%E9%BD%90/12851760\" class=\"link_rk\" target=\"_blank\">周边配套齐</a></span></p><div class=\"moreInfo\"><p class=\"mt5 alingC\"><span class=\"price\">1698</span>元/月</p></div><div style=\"display: none;\" class=\"notice\" id=\"rentid_D09_2_04\"><a class=\"gray6 duibi\">对比</a></div></dd>"
   ]
  },
  {
   "cell_type": "code",
   "execution_count": 3,
   "metadata": {},
   "outputs": [
    {
     "name": "stderr",
     "output_type": "stream",
     "text": [
      " 20%|██        | 1/5 [00:06<00:26,  6.64s/it]"
     ]
    },
    {
     "name": "stdout",
     "output_type": "stream",
     "text": [
      "- 已翻至第2页\n"
     ]
    },
    {
     "name": "stderr",
     "output_type": "stream",
     "text": [
      " 40%|████      | 2/5 [00:13<00:20,  7.00s/it]"
     ]
    },
    {
     "name": "stdout",
     "output_type": "stream",
     "text": [
      "- 已翻至第3页\n"
     ]
    },
    {
     "name": "stderr",
     "output_type": "stream",
     "text": [
      " 60%|██████    | 3/5 [00:21<00:14,  7.26s/it]"
     ]
    },
    {
     "name": "stdout",
     "output_type": "stream",
     "text": [
      "- 已翻至第4页\n"
     ]
    },
    {
     "name": "stderr",
     "output_type": "stream",
     "text": [
      "100%|██████████| 5/5 [00:25<00:00,  5.10s/it]"
     ]
    },
    {
     "name": "stdout",
     "output_type": "stream",
     "text": [
      "- 已翻至第5页\n",
      "租房数据爬取完成！\n"
     ]
    },
    {
     "name": "stderr",
     "output_type": "stream",
     "text": [
      "\n"
     ]
    }
   ],
   "source": [
    "service = Service(ChromeDriverManager().install())\n",
    "driver = webdriver.Chrome(service=service, options=options)\n",
    "\n",
    "target_url2 = \"https://zu.fang.com/house-a015277-b07195/\"\n",
    "driver.get(target_url2)\n",
    "headers = ['id', 'title', 'rental_type', 'area', 'orientation', \n",
    "          'district', 'location', 'subway_info', 'price', 'tags']\n",
    "\n",
    "# 创建CSV文件并写入新表头\n",
    "with open('西二旗租房.csv', 'w', newline='', encoding='utf-8') as f:\n",
    "    writer = csv.writer(f)\n",
    "    writer.writerow(headers)\n",
    "    \n",
    "    house_id = 1  # 房源ID计数器\n",
    "    # 处理5页数据\n",
    "    for page in tqdm.tqdm(range(5)):\n",
    "        # 等待页面加载完成\n",
    "        WebDriverWait(driver, 10).until(\n",
    "            EC.presence_of_element_located((By.CSS_SELECTOR, '.houseList')))\n",
    "        \n",
    "        # 获取所有房源容器\n",
    "        house_list = driver.find_elements(By.CSS_SELECTOR, 'dd.info.rel')\n",
    "        \n",
    "        for house in house_list:\n",
    "            try:# 提取标题\n",
    "                title = house.find_element(By.CSS_SELECTOR, 'p.title a').get_attribute('title').strip()\n",
    "                             \n",
    "                try:    # 提取房屋类型信息\n",
    "                    type_info = house.find_element(By.CSS_SELECTOR, 'p.font15.bold').text\n",
    "                    parts = [p.strip() for p in type_info.split('|')]\n",
    "                    rental_type = parts[0] if len(parts)>0 else 'nan'\n",
    "                    area = parts[2].replace('㎡','') if len(parts)>2 else 'nan'  # 提取21㎡中的数字\n",
    "                    orientation = parts[3] if len(parts)>3 else 'nan'\n",
    "                except NoSuchElementException:rental_type = area = orientation = 'nan'\n",
    "                                \n",
    "                try:    # 提取位置信息\n",
    "                    loc_elements = house.find_elements(By.CSS_SELECTOR, 'p.gray6.mt12 a')\n",
    "                    district = '-'.join([e.text for e in loc_elements[:1]])  # 行政区\n",
    "                    location = '-'.join([e.text for e in loc_elements[1:]])  # 具体位置\n",
    "                except:district = location = 'nan'\n",
    "                \n",
    "                # 提取地铁信息\n",
    "                try:subway_info = house.find_element(By.CSS_SELECTOR, 'span.subInfor').text\n",
    "                except:subway_info = 'nan'\n",
    "                \n",
    "                # 提取价格\n",
    "                try:price = house.find_element(By.CSS_SELECTOR, 'div.moreInfo span.price').text + '元/月'\n",
    "                except:price = 'nan'\n",
    "                \n",
    "                # 提取标签\n",
    "                try:tags = ' '.join([tag.text for tag in house.find_elements(By.CSS_SELECTOR, 'span.note a')])\n",
    "                except:tags = 'nan'\n",
    "                \n",
    "                # 写入数据\n",
    "                writer.writerow([\n",
    "                    house_id,\n",
    "                    title,\n",
    "                    rental_type,\n",
    "                    area,\n",
    "                    orientation,\n",
    "                    district,\n",
    "                    location,\n",
    "                    subway_info,\n",
    "                    price,\n",
    "                    tags\n",
    "                ])\n",
    "                \n",
    "                house_id += 1      \n",
    "            except Exception as e:\n",
    "                print(f\"处理房源时发生错误：{str(e)}\")\n",
    "                continue      \n",
    "        # 翻页处理\n",
    "        if page < 4:\n",
    "            try:\n",
    "                next_page = page + 2  # 第一页是1，第二页是i32，第三页i33...\n",
    "                next_url = f\"https://zu.fang.com/house-a015277-b07195/i3{next_page}/\"\n",
    "                driver.get(next_url)\n",
    "                time.sleep(1)\n",
    "                print(f\"- 已翻至第{page+2}页\")\n",
    "            except Exception as e:\n",
    "                print(\"翻页失败或已是最后一页\")\n",
    "                break\n",
    "\n",
    "driver.quit()\n",
    "print(\"租房数据爬取完成！\")"
   ]
  },
  {
   "cell_type": "markdown",
   "metadata": {},
   "source": [
    "## 3-3: Data Research\n",
    "- Collect Data from your teammates and merge the data\n",
    "(please feedback to TA if someone no response, so we can\n",
    "help both team and other student)\n",
    "- Data description of your data and whether data has outliers\n",
    "- Then get housing price per m2 and housing rent per m2\n",
    "(price/m2 and rent /m2) for each block\n",
    "- Calculate median price to rent ratio for each block\n",
    "- Figure A: Bar Plot the median price to rent ratio for each\n",
    "block (The global fair value should around 200)"
   ]
  },
  {
   "cell_type": "code",
   "execution_count": 14,
   "metadata": {},
   "outputs": [
    {
     "data": {
      "text/plain": [
       "(          merge_id    origin_id       s_rent           rent        block\n",
       " count  1448.000000  1448.000000  1448.000000    1448.000000  1448.000000\n",
       " mean    201.242403    28.825276    80.125691   14527.595304     2.361878\n",
       " std     134.542517    17.261772    74.673799   63291.675088     1.242079\n",
       " min       0.000000     0.000000     6.000000    1000.000000     1.000000\n",
       " 25%      90.000000    14.000000    18.000000    2200.000000     1.000000\n",
       " 50%     180.500000    29.000000    59.000000    5800.000000     2.000000\n",
       " 75%     293.250000    44.000000   118.750000   11000.000000     4.000000\n",
       " max     525.000000    59.000000   346.000000  800000.000000     4.000000,\n",
       "           merge_id    origin_id        s_esf    price_sum        ori_P/S  \\\n",
       " count  3552.000000  3552.000000  3552.000000  3552.000000    3552.000000   \n",
       " mean    521.490991    29.328829   121.578925  1262.254082   96894.885980   \n",
       " std     358.981867    17.316572    68.446894   709.325275   27894.675199   \n",
       " min       0.000000     0.000000     2.000000   190.000000   22949.000000   \n",
       " 25%     221.750000    14.000000    78.000000   750.000000   75600.000000   \n",
       " 50%     443.500000    29.000000   109.110000  1098.000000   94344.000000   \n",
       " 75%     815.250000    44.000000   152.000000  1569.000000  117708.000000   \n",
       " max    1259.000000    59.000000   559.390000  4900.000000  184172.000000   \n",
       " \n",
       "              block  \n",
       " count  3552.000000  \n",
       " mean      2.504505  \n",
       " std       1.292040  \n",
       " min       1.000000  \n",
       " 25%       1.000000  \n",
       " 50%       3.000000  \n",
       " 75%       4.000000  \n",
       " max       4.000000  )"
      ]
     },
     "execution_count": 14,
     "metadata": {},
     "output_type": "execute_result"
    }
   ],
   "source": [
    "merge_rent_file = 'merge_rent.csv'\n",
    "merge_price_file = 'merge_price.csv'\n",
    "merge_rent_df = pd.read_csv('merge_rent.csv')\n",
    "merge_price_df = pd.read_csv('merge_price.csv')\n",
    "merge_rent_df.describe(),merge_price_df.describe()"
   ]
  },
  {
   "cell_type": "code",
   "execution_count": 15,
   "metadata": {},
   "outputs": [
    {
     "name": "stdout",
     "output_type": "stream",
     "text": [
      "清河's rent_ratio is 202.92\n",
      "西三旗's rent_ratio is 130.56\n",
      "西二旗's rent_ratio is 144.36\n",
      "上地's rent_ratio is 153.02\n"
     ]
    },
    {
     "data": {
      "image/png": "[encoded data removed]",
      "text/plain": [
       "<Figure size 1000x600 with 1 Axes>"
      ]
     },
     "metadata": {},
     "output_type": "display_data"
    }
   ],
   "source": [
    "blocks = [1,2,3,4]\n",
    "block_names = ['清河','西三旗','西二旗','上地']\n",
    "rent_ratios = []\n",
    "for block in blocks:\n",
    "    price = 10000*merge_price_df[merge_price_df['block']==block]['price_sum'].median()\n",
    "    rent = merge_rent_df[merge_rent_df['block']==block]['rent'].median()\n",
    "    rent_ratio = price/(12*rent)\n",
    "    print(f\"{block_names[block-1]}'s rent_ratio is {rent_ratio:.2f}\")\n",
    "    rent_ratios.append(rent_ratio)\n",
    "\n",
    "colors = plt.cm.viridis(np.linspace(0, 1, len(rent_ratios)))\n",
    "# 绘制条形图\n",
    "plt.figure(figsize=(10, 6))\n",
    "for i, (ratio, color) in enumerate(zip(rent_ratios, colors)):\n",
    "    plt.bar(x=block_names[i], height=ratio, color=color, alpha=0.7, edgecolor='black')\n",
    "\n",
    "# 设置标签和标题\n",
    "plt.xlabel('District', fontsize=12)\n",
    "plt.ylabel('rent-ratio', fontsize=12)\n",
    "plt.title('Figure A', fontsize=15)\n",
    "plt.xticks(rotation=45)\n",
    "plt.gca().spines['top'].set_visible(False)\n",
    "plt.gca().spines['right'].set_visible(False)\n",
    "plt.grid(axis='y', linestyle='--', alpha=0.5)\n",
    "plt.show()"
   ]
  },
  {
   "cell_type": "markdown",
   "metadata": {},
   "source": [
    "## 3-4: Data Science\n",
    "- Model 1\n",
    "$price/m^2_i = \\beta_0 m^2_i + \\beta_2 \\cdot location_i + \\beta_2 m^2_i \\times location_i + \\epsilon_i$\n",
    "- Model 2\n",
    "$rent/m^2_i = \\beta_0 m^2_i + \\beta_2 location_i + \\beta_3 m^2_i \\times location_i + \\epsilon_i$\n",
    "- Use model 1 and model 2 to predict price and rent for the $m^2 = 50$, $m^2 = 100$\n",
    "- Figure B and C: Bar Plot the price to rent ratio for each block for the $m^2 = 50$, $m^2 = 100$\n",
    "- Submission: only Ipynb codes to your personal folder (NO DATA PLEASE, Git is for codes not for data)"
   ]
  },
  {
   "cell_type": "code",
   "execution_count": 27,
   "metadata": {},
   "outputs": [
    {
     "name": "stdout",
     "output_type": "stream",
     "text": [
      "Predicted price for 清河: [0.005 0.01 ]\n",
      "Predicted price for 西三旗: [0.005 0.01 ]\n",
      "Predicted price for 西二旗: [0.005 0.01 ]\n",
      "Predicted price for 上地: [0.005 0.01 ]\n"
     ]
    },
    {
     "data": {
      "image/png": "[encoded data removed]",
      "text/plain": [
       "<Figure size 1000x600 with 1 Axes>"
      ]
     },
     "metadata": {},
     "output_type": "display_data"
    }
   ],
   "source": [
    "from sklearn.linear_model import LinearRegression\n",
    "linreg1 = LinearRegression()\n",
    "\n",
    "# $price/m^2_i = \\beta_0 m^2_i + \\beta_2 \\cdot location_i + \\beta_2 m^2_i \\times location_i + \\epsilon_i$\n",
    "y1 = merge_price_df['price_sum']/merge_price_df['ori_P/S']\n",
    "merge_price_df['area'] = merge_price_df['price_sum']*10000/merge_price_df['ori_P/S']\n",
    "merge_price_df['area*block'] = merge_price_df['area']*merge_price_df['block']\n",
    "X1 = merge_price_df[['area', 'block','area*block']].values\n",
    "linreg1.fit(X1, y1)\n",
    "\n",
    "blocks = [1,2,3,4]\n",
    "block_names = ['清河','西三旗','西二旗','上地']\n",
    "\n",
    "# model 1 to predict price for the $m^2 = 50$, $m^2 = 100$\n",
    "pred_price = []\n",
    "for block in blocks:\n",
    "    area = [50, 100]\n",
    "    area_block = [area[0]*block, area[1]*block]\n",
    "    X_test = np.array([area, [block]*2, area_block]).T\n",
    "    y_pred = linreg1.predict(X_test)\n",
    "    print(f\"Predicted price for {block_names[block-1]}: {y_pred}\")\n",
    "    pred_price.append(y_pred)\n",
    "\n",
    "colors = plt.cm.viridis(np.linspace(0, 1, len(pred_price)))\n",
    "# 绘制条形图\n",
    "plt.figure(figsize=(10, 6))\n",
    "for i, (ratio, color) in enumerate(zip(pred_price, colors)):\n",
    "    plt.bar(x=block_names[i], height=ratio, color=color, alpha=0.7, edgecolor='black')\n",
    "\n",
    "# 设置标签和标题\n",
    "plt.xlabel('District', fontsize=12)\n",
    "plt.ylabel('rent-ratio', fontsize=12)\n",
    "plt.title('Figure A', fontsize=15)\n",
    "plt.xticks(rotation=45)\n",
    "plt.gca().spines['top'].set_visible(False)\n",
    "plt.gca().spines['right'].set_visible(False)\n",
    "plt.grid(axis='y', linestyle='--', alpha=0.5)\n",
    "plt.show()"
   ]
  },
  {
   "cell_type": "code",
   "execution_count": 26,
   "metadata": {},
   "outputs": [
    {
     "data": {
      "text/html": [
       "<style>#sk-container-id-5 {\n",
       "  /* Definition of color scheme common for light and dark mode */\n",
       "  --sklearn-color-text: black;\n",
       "  --sklearn-color-line: gray;\n",
       "  /* Definition of color scheme for unfitted estimators */\n",
       "  --sklearn-color-unfitted-level-0: #fff5e6;\n",
       "  --sklearn-color-unfitted-level-1: #f6e4d2;\n",
       "  --sklearn-color-unfitted-level-2: #ffe0b3;\n",
       "  --sklearn-color-unfitted-level-3: chocolate;\n",
       "  /* Definition of color scheme for fitted estimators */\n",
       "  --sklearn-color-fitted-level-0: #f0f8ff;\n",
       "  --sklearn-color-fitted-level-1: #d4ebff;\n",
       "  --sklearn-color-fitted-level-2: #b3dbfd;\n",
       "  --sklearn-color-fitted-level-3: cornflowerblue;\n",
       "\n",
       "  /* Specific color for light theme */\n",
       "  --sklearn-color-text-on-default-background: var(--sg-text-color, var(--theme-code-foreground, var(--jp-content-font-color1, black)));\n",
       "  --sklearn-color-background: var(--sg-background-color, var(--theme-background, var(--jp-layout-color0, white)));\n",
       "  --sklearn-color-border-box: var(--sg-text-color, var(--theme-code-foreground, var(--jp-content-font-color1, black)));\n",
       "  --sklearn-color-icon: #696969;\n",
       "\n",
       "  @media (prefers-color-scheme: dark) {\n",
       "    /* Redefinition of color scheme for dark theme */\n",
       "    --sklearn-color-text-on-default-background: var(--sg-text-color, var(--theme-code-foreground, var(--jp-content-font-color1, white)));\n",
       "    --sklearn-color-background: var(--sg-background-color, var(--theme-background, var(--jp-layout-color0, #111)));\n",
       "    --sklearn-color-border-box: var(--sg-text-color, var(--theme-code-foreground, var(--jp-content-font-color1, white)));\n",
       "    --sklearn-color-icon: #878787;\n",
       "  }\n",
       "}\n",
       "\n",
       "#sk-container-id-5 {\n",
       "  color: var(--sklearn-color-text);\n",
       "}\n",
       "\n",
       "#sk-container-id-5 pre {\n",
       "  padding: 0;\n",
       "}\n",
       "\n",
       "#sk-container-id-5 input.sk-hidden--visually {\n",
       "  border: 0;\n",
       "  clip: rect(1px 1px 1px 1px);\n",
       "  clip: rect(1px, 1px, 1px, 1px);\n",
       "  height: 1px;\n",
       "  margin: -1px;\n",
       "  overflow: hidden;\n",
       "  padding: 0;\n",
       "  position: absolute;\n",
       "  width: 1px;\n",
       "}\n",
       "\n",
       "#sk-container-id-5 div.sk-dashed-wrapped {\n",
       "  border: 1px dashed var(--sklearn-color-line);\n",
       "  margin: 0 0.4em 0.5em 0.4em;\n",
       "  box-sizing: border-box;\n",
       "  padding-bottom: 0.4em;\n",
       "  background-color: var(--sklearn-color-background);\n",
       "}\n",
       "\n",
       "#sk-container-id-5 div.sk-container {\n",
       "  /* jupyter's `normalize.less` sets `[hidden] { display: none; }`\n",
       "     but bootstrap.min.css set `[hidden] { display: none !important; }`\n",
       "     so we also need the `!important` here to be able to override the\n",
       "     default hidden behavior on the sphinx rendered scikit-learn.org.\n",
       "     See: https://github.com/scikit-learn/scikit-learn/issues/21755 */\n",
       "  display: inline-block !important;\n",
       "  position: relative;\n",
       "}\n",
       "\n",
       "#sk-container-id-5 div.sk-text-repr-fallback {\n",
       "  display: none;\n",
       "}\n",
       "\n",
       "div.sk-parallel-item,\n",
       "div.sk-serial,\n",
       "div.sk-item {\n",
       "  /* draw centered vertical line to link estimators */\n",
       "  background-image: linear-gradient(var(--sklearn-color-text-on-default-background), var(--sklearn-color-text-on-default-background));\n",
       "  background-size: 2px 100%;\n",
       "  background-repeat: no-repeat;\n",
       "  background-position: center center;\n",
       "}\n",
       "\n",
       "/* Parallel-specific style estimator block */\n",
       "\n",
       "#sk-container-id-5 div.sk-parallel-item::after {\n",
       "  content: \"\";\n",
       "  width: 100%;\n",
       "  border-bottom: 2px solid var(--sklearn-color-text-on-default-background);\n",
       "  flex-grow: 1;\n",
       "}\n",
       "\n",
       "#sk-container-id-5 div.sk-parallel {\n",
       "  display: flex;\n",
       "  align-items: stretch;\n",
       "  justify-content: center;\n",
       "  background-color: var(--sklearn-color-background);\n",
       "  position: relative;\n",
       "}\n",
       "\n",
       "#sk-container-id-5 div.sk-parallel-item {\n",
       "  display: flex;\n",
       "  flex-direction: column;\n",
       "}\n",
       "\n",
       "#sk-container-id-5 div.sk-parallel-item:first-child::after {\n",
       "  align-self: flex-end;\n",
       "  width: 50%;\n",
       "}\n",
       "\n",
       "#sk-container-id-5 div.sk-parallel-item:last-child::after {\n",
       "  align-self: flex-start;\n",
       "  width: 50%;\n",
       "}\n",
       "\n",
       "#sk-container-id-5 div.sk-parallel-item:only-child::after {\n",
       "  width: 0;\n",
       "}\n",
       "\n",
       "/* Serial-specific style estimator block */\n",
       "\n",
       "#sk-container-id-5 div.sk-serial {\n",
       "  display: flex;\n",
       "  flex-direction: column;\n",
       "  align-items: center;\n",
       "  background-color: var(--sklearn-color-background);\n",
       "  padding-right: 1em;\n",
       "  padding-left: 1em;\n",
       "}\n",
       "\n",
       "\n",
       "/* Toggleable style: style used for estimator/Pipeline/ColumnTransformer box that is\n",
       "clickable and can be expanded/collapsed.\n",
       "- Pipeline and ColumnTransformer use this feature and define the default style\n",
       "- Estimators will overwrite some part of the style using the `sk-estimator` class\n",
       "*/\n",
       "\n",
       "/* Pipeline and ColumnTransformer style (default) */\n",
       "\n",
       "#sk-container-id-5 div.sk-toggleable {\n",
       "  /* Default theme specific background. It is overwritten whether we have a\n",
       "  specific estimator or a Pipeline/ColumnTransformer */\n",
       "  background-color: var(--sklearn-color-background);\n",
       "}\n",
       "\n",
       "/* Toggleable label */\n",
       "#sk-container-id-5 label.sk-toggleable__label {\n",
       "  cursor: pointer;\n",
       "  display: block;\n",
       "  width: 100%;\n",
       "  margin-bottom: 0;\n",
       "  padding: 0.5em;\n",
       "  box-sizing: border-box;\n",
       "  text-align: center;\n",
       "}\n",
       "\n",
       "#sk-container-id-5 label.sk-toggleable__label-arrow:before {\n",
       "  /* Arrow on the left of the label */\n",
       "  content: \"▸\";\n",
       "  float: left;\n",
       "  margin-right: 0.25em;\n",
       "  color: var(--sklearn-color-icon);\n",
       "}\n",
       "\n",
       "#sk-container-id-5 label.sk-toggleable__label-arrow:hover:before {\n",
       "  color: var(--sklearn-color-text);\n",
       "}\n",
       "\n",
       "/* Toggleable content - dropdown */\n",
       "\n",
       "#sk-container-id-5 div.sk-toggleable__content {\n",
       "  max-height: 0;\n",
       "  max-width: 0;\n",
       "  overflow: hidden;\n",
       "  text-align: left;\n",
       "  /* unfitted */\n",
       "  background-color: var(--sklearn-color-unfitted-level-0);\n",
       "}\n",
       "\n",
       "#sk-container-id-5 div.sk-toggleable__content.fitted {\n",
       "  /* fitted */\n",
       "  background-color: var(--sklearn-color-fitted-level-0);\n",
       "}\n",
       "\n",
       "#sk-container-id-5 div.sk-toggleable__content pre {\n",
       "  margin: 0.2em;\n",
       "  border-radius: 0.25em;\n",
       "  color: var(--sklearn-color-text);\n",
       "  /* unfitted */\n",
       "  background-color: var(--sklearn-color-unfitted-level-0);\n",
       "}\n",
       "\n",
       "#sk-container-id-5 div.sk-toggleable__content.fitted pre {\n",
       "  /* unfitted */\n",
       "  background-color: var(--sklearn-color-fitted-level-0);\n",
       "}\n",
       "\n",
       "#sk-container-id-5 input.sk-toggleable__control:checked~div.sk-toggleable__content {\n",
       "  /* Expand drop-down */\n",
       "  max-height: 200px;\n",
       "  max-width: 100%;\n",
       "  overflow: auto;\n",
       "}\n",
       "\n",
       "#sk-container-id-5 input.sk-toggleable__control:checked~label.sk-toggleable__label-arrow:before {\n",
       "  content: \"▾\";\n",
       "}\n",
       "\n",
       "/* Pipeline/ColumnTransformer-specific style */\n",
       "\n",
       "#sk-container-id-5 div.sk-label input.sk-toggleable__control:checked~label.sk-toggleable__label {\n",
       "  color: var(--sklearn-color-text);\n",
       "  background-color: var(--sklearn-color-unfitted-level-2);\n",
       "}\n",
       "\n",
       "#sk-container-id-5 div.sk-label.fitted input.sk-toggleable__control:checked~label.sk-toggleable__label {\n",
       "  background-color: var(--sklearn-color-fitted-level-2);\n",
       "}\n",
       "\n",
       "/* Estimator-specific style */\n",
       "\n",
       "/* Colorize estimator box */\n",
       "#sk-container-id-5 div.sk-estimator input.sk-toggleable__control:checked~label.sk-toggleable__label {\n",
       "  /* unfitted */\n",
       "  background-color: var(--sklearn-color-unfitted-level-2);\n",
       "}\n",
       "\n",
       "#sk-container-id-5 div.sk-estimator.fitted input.sk-toggleable__control:checked~label.sk-toggleable__label {\n",
       "  /* fitted */\n",
       "  background-color: var(--sklearn-color-fitted-level-2);\n",
       "}\n",
       "\n",
       "#sk-container-id-5 div.sk-label label.sk-toggleable__label,\n",
       "#sk-container-id-5 div.sk-label label {\n",
       "  /* The background is the default theme color */\n",
       "  color: var(--sklearn-color-text-on-default-background);\n",
       "}\n",
       "\n",
       "/* On hover, darken the color of the background */\n",
       "#sk-container-id-5 div.sk-label:hover label.sk-toggleable__label {\n",
       "  color: var(--sklearn-color-text);\n",
       "  background-color: var(--sklearn-color-unfitted-level-2);\n",
       "}\n",
       "\n",
       "/* Label box, darken color on hover, fitted */\n",
       "#sk-container-id-5 div.sk-label.fitted:hover label.sk-toggleable__label.fitted {\n",
       "  color: var(--sklearn-color-text);\n",
       "  background-color: var(--sklearn-color-fitted-level-2);\n",
       "}\n",
       "\n",
       "/* Estimator label */\n",
       "\n",
       "#sk-container-id-5 div.sk-label label {\n",
       "  font-family: monospace;\n",
       "  font-weight: bold;\n",
       "  display: inline-block;\n",
       "  line-height: 1.2em;\n",
       "}\n",
       "\n",
       "#sk-container-id-5 div.sk-label-container {\n",
       "  text-align: center;\n",
       "}\n",
       "\n",
       "/* Estimator-specific */\n",
       "#sk-container-id-5 div.sk-estimator {\n",
       "  font-family: monospace;\n",
       "  border: 1px dotted var(--sklearn-color-border-box);\n",
       "  border-radius: 0.25em;\n",
       "  box-sizing: border-box;\n",
       "  margin-bottom: 0.5em;\n",
       "  /* unfitted */\n",
       "  background-color: var(--sklearn-color-unfitted-level-0);\n",
       "}\n",
       "\n",
       "#sk-container-id-5 div.sk-estimator.fitted {\n",
       "  /* fitted */\n",
       "  background-color: var(--sklearn-color-fitted-level-0);\n",
       "}\n",
       "\n",
       "/* on hover */\n",
       "#sk-container-id-5 div.sk-estimator:hover {\n",
       "  /* unfitted */\n",
       "  background-color: var(--sklearn-color-unfitted-level-2);\n",
       "}\n",
       "\n",
       "#sk-container-id-5 div.sk-estimator.fitted:hover {\n",
       "  /* fitted */\n",
       "  background-color: var(--sklearn-color-fitted-level-2);\n",
       "}\n",
       "\n",
       "/* Specification for estimator info (e.g. \"i\" and \"?\") */\n",
       "\n",
       "/* Common style for \"i\" and \"?\" */\n",
       "\n",
       ".sk-estimator-doc-link,\n",
       "a:link.sk-estimator-doc-link,\n",
       "a:visited.sk-estimator-doc-link {\n",
       "  float: right;\n",
       "  font-size: smaller;\n",
       "  line-height: 1em;\n",
       "  font-family: monospace;\n",
       "  background-color: var(--sklearn-color-background);\n",
       "  border-radius: 1em;\n",
       "  height: 1em;\n",
       "  width: 1em;\n",
       "  text-decoration: none !important;\n",
       "  margin-left: 1ex;\n",
       "  /* unfitted */\n",
       "  border: var(--sklearn-color-unfitted-level-1) 1pt solid;\n",
       "  color: var(--sklearn-color-unfitted-level-1);\n",
       "}\n",
       "\n",
       ".sk-estimator-doc-link.fitted,\n",
       "a:link.sk-estimator-doc-link.fitted,\n",
       "a:visited.sk-estimator-doc-link.fitted {\n",
       "  /* fitted */\n",
       "  border: var(--sklearn-color-fitted-level-1) 1pt solid;\n",
       "  color: var(--sklearn-color-fitted-level-1);\n",
       "}\n",
       "\n",
       "/* On hover */\n",
       "div.sk-estimator:hover .sk-estimator-doc-link:hover,\n",
       ".sk-estimator-doc-link:hover,\n",
       "div.sk-label-container:hover .sk-estimator-doc-link:hover,\n",
       ".sk-estimator-doc-link:hover {\n",
       "  /* unfitted */\n",
       "  background-color: var(--sklearn-color-unfitted-level-3);\n",
       "  color: var(--sklearn-color-background);\n",
       "  text-decoration: none;\n",
       "}\n",
       "\n",
       "div.sk-estimator.fitted:hover .sk-estimator-doc-link.fitted:hover,\n",
       ".sk-estimator-doc-link.fitted:hover,\n",
       "div.sk-label-container:hover .sk-estimator-doc-link.fitted:hover,\n",
       ".sk-estimator-doc-link.fitted:hover {\n",
       "  /* fitted */\n",
       "  background-color: var(--sklearn-color-fitted-level-3);\n",
       "  color: var(--sklearn-color-background);\n",
       "  text-decoration: none;\n",
       "}\n",
       "\n",
       "/* Span, style for the box shown on hovering the info icon */\n",
       ".sk-estimator-doc-link span {\n",
       "  display: none;\n",
       "  z-index: 9999;\n",
       "  position: relative;\n",
       "  font-weight: normal;\n",
       "  right: .2ex;\n",
       "  padding: .5ex;\n",
       "  margin: .5ex;\n",
       "  width: min-content;\n",
       "  min-width: 20ex;\n",
       "  max-width: 50ex;\n",
       "  color: var(--sklearn-color-text);\n",
       "  box-shadow: 2pt 2pt 4pt #999;\n",
       "  /* unfitted */\n",
       "  background: var(--sklearn-color-unfitted-level-0);\n",
       "  border: .5pt solid var(--sklearn-color-unfitted-level-3);\n",
       "}\n",
       "\n",
       ".sk-estimator-doc-link.fitted span {\n",
       "  /* fitted */\n",
       "  background: var(--sklearn-color-fitted-level-0);\n",
       "  border: var(--sklearn-color-fitted-level-3);\n",
       "}\n",
       "\n",
       ".sk-estimator-doc-link:hover span {\n",
       "  display: block;\n",
       "}\n",
       "\n",
       "/* \"?\"-specific style due to the `<a>` HTML tag */\n",
       "\n",
       "#sk-container-id-5 a.estimator_doc_link {\n",
       "  float: right;\n",
       "  font-size: 1rem;\n",
       "  line-height: 1em;\n",
       "  font-family: monospace;\n",
       "  background-color: var(--sklearn-color-background);\n",
       "  border-radius: 1rem;\n",
       "  height: 1rem;\n",
       "  width: 1rem;\n",
       "  text-decoration: none;\n",
       "  /* unfitted */\n",
       "  color: var(--sklearn-color-unfitted-level-1);\n",
       "  border: var(--sklearn-color-unfitted-level-1) 1pt solid;\n",
       "}\n",
       "\n",
       "#sk-container-id-5 a.estimator_doc_link.fitted {\n",
       "  /* fitted */\n",
       "  border: var(--sklearn-color-fitted-level-1) 1pt solid;\n",
       "  color: var(--sklearn-color-fitted-level-1);\n",
       "}\n",
       "\n",
       "/* On hover */\n",
       "#sk-container-id-5 a.estimator_doc_link:hover {\n",
       "  /* unfitted */\n",
       "  background-color: var(--sklearn-color-unfitted-level-3);\n",
       "  color: var(--sklearn-color-background);\n",
       "  text-decoration: none;\n",
       "}\n",
       "\n",
       "#sk-container-id-5 a.estimator_doc_link.fitted:hover {\n",
       "  /* fitted */\n",
       "  background-color: var(--sklearn-color-fitted-level-3);\n",
       "}\n",
       "</style><div id=\"sk-container-id-5\" class=\"sk-top-container\"><div class=\"sk-text-repr-fallback\"><pre>LinearRegression()</pre><b>In a Jupyter environment, please rerun this cell to show the HTML representation or trust the notebook. <br />On GitHub, the HTML representation is unable to render, please try loading this page with nbviewer.org.</b></div><div class=\"sk-container\" hidden><div class=\"sk-item\"><div class=\"sk-estimator fitted sk-toggleable\"><input class=\"sk-toggleable__control sk-hidden--visually\" id=\"sk-estimator-id-5\" type=\"checkbox\" checked><label for=\"sk-estimator-id-5\" class=\"sk-toggleable__label fitted sk-toggleable__label-arrow fitted\">&nbsp;&nbsp;LinearRegression<a class=\"sk-estimator-doc-link fitted\" rel=\"noreferrer\" target=\"_blank\" href=\"https://scikit-learn.org/1.5/modules/generated/sklearn.linear_model.LinearRegression.html\">?<span>Documentation for LinearRegression</span></a><span class=\"sk-estimator-doc-link fitted\">i<span>Fitted</span></span></label><div class=\"sk-toggleable__content fitted\"><pre>LinearRegression()</pre></div> </div></div></div></div>"
      ],
      "text/plain": [
       "LinearRegression()"
      ]
     },
     "execution_count": 26,
     "metadata": {},
     "output_type": "execute_result"
    }
   ],
   "source": [
    "linreg2 = LinearRegression()\n",
    "\n",
    "# $rent/m^2_i = \\beta_0 m^2_i + \\beta_2 location_i + \\beta_3 m^2_i \\times location_i + \\epsilon_i$\n",
    "y2 = merge_rent_df['rent']/merge_rent_df['s_rent']\n",
    "merge_rent_df['area*block'] = merge_rent_df['s_rent']*merge_rent_df['block']\n",
    "X2 = merge_rent_df[['s_rent',  'block', 'area*block']].values\n",
    "linreg2.fit(X2, y2)"
   ]
  },
  {
   "cell_type": "markdown",
   "metadata": {},
   "source": []
  },
  {
   "cell_type": "markdown",
   "metadata": {},
   "source": []
  }
 ],
 "metadata": {
  "kernelspec": {
   "display_name": "ES",
   "language": "python",
   "name": "python3"
  },
  "language_info": {
   "codemirror_mode": {
    "name": "ipython",
    "version": 3
   },
   "file_extension": ".py",
   "mimetype": "text/x-python",
   "name": "python",
   "nbconvert_exporter": "python",
   "pygments_lexer": "ipython3",
   "version": "3.9.20"
  }
 },
 "nbformat": 4,
 "nbformat_minor": 2
}
