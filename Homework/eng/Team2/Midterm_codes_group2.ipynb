{
 "cells": [
  {
   "cell_type": "code",
   "execution_count": null,
   "id": "94172e715e3ab8e",
   "metadata": {
    "ExecuteTime": {
     "end_time": "2025-04-03T02:41:12.235635Z",
     "start_time": "2025-04-03T02:41:11.421379Z"
    }
   },
   "outputs": [],
   "source": []
  },
  {
   "cell_type": "markdown",
   "id": "9180aa51",
   "metadata": {},
   "source": [
    "# <center>**第二小组期中建模项目**</center>"
   ]
  },
  {
   "cell_type": "markdown",
   "id": "e10f96e9",
   "metadata": {},
   "source": [
    "# 数据集描述\n",
    "\n",
    "|序号|变量名称|描述|\n",
    "|------------|-------------|----------------------|\n",
    "| 1 | 城市 | 房屋所在城市 |\n",
    "| 2 | 区域 | 房屋所在县/市/区 |\n",
    "| 3 | 板块 | 房屋所在板块（城市、区域、板块为包含关系） |\n",
    "| 4 | 环线 | 房屋相对于城市重要环线/主干道路的位置 |\n",
    "| 5 | 小区名称 | 房屋所属小区名称 |\n",
    "| 6 | 价格 | 房屋成交价格 |\n",
    "| 7 | 房屋户型 | 房屋户型（包含卧室数量、客厅数量、厨房数量、卫生间数量等信息） |\n",
    "| 8 | 所在楼层 | 房屋所在楼层（包含总楼层信息） |\n",
    "| 9 | 建筑面积 | 房屋建筑面积（套内面积+公摊面积） |\n",
    "| 10 | 套内面积 | 房屋套内面积 |\n",
    "| 11 | 房屋朝向 | 房屋朝向（存在多朝向房屋） |\n",
    "| 12 | 建筑结构 | 房屋建筑主体构造 |\n",
    "| 13 | 装修情况 | 房屋交易时装修情况 |\n",
    "| 14 | 梯户比例 | 电梯数量与每层住户数量比例 |\n",
    "| 15 | 配备电梯 | 楼层是否配备电梯 |\n",
    "| 16 | 别墅类型 | 别墅的建筑风格和建筑形式（非别墅房屋为空值） |\n",
    "| 17 | 交易时间 | 房屋成交时间 |\n",
    "| 18 | 交易权属 | 房屋交易权属（商品房，已购公房等） |\n",
    "| 19 | 上次交易 | 上次交易时间 |\n",
    "| 20 | 房屋用途 | 房屋用途（普通住宅，商用住宅，商住两用等） |\n",
    "| 21 | 房屋年限 | 房屋首次购买过户到交易时间年限 |\n",
    "| 22 | 产权所属 | 房屋所有权人（共有、非） |\n",
    "| 23 | 抵押信息 | 房屋抵押信息（是否用于抵押贷款等，无抵押信息为空） |\n",
    "| 24 | 房屋优势 | 自然语言描述，针对房屋总体优势进行总结 |\n",
    "| 25 | 核心卖点 | 自然语言描述，针对房屋卖点进行详细描述 |\n",
    "| 26 | 户型介绍 | 自然语言描述，针对户型、朝向、楼层等信息进行描述 |\n",
    "| 27 | 周边配套 | 自然语言描述，针对房屋周边商场、学校、医院等描述 |\n",
    "| 28 | 交通出行 | 自然语言描述，针对房屋周边交通情况描述，包括地铁、公交、主干道等 |\n",
    "| 29 | lon | 房屋所在经度 |\n",
    "| 30 | lat | 房屋所在维度 |\n",
    "| 31 | 年份 | 房屋登记时间 |"
   ]
  },
  {
   "cell_type": "markdown",
   "id": "4e7eb90c",
   "metadata": {},
   "source": [
    "# 数据预处理  \n",
    "\n",
    "数据集分为两类：  \n",
    "\n",
    "1. train和test：用于训练模型和模型评估  \n",
    "2. details：包含小区的基本信息，用于结合训练集和测试集  \n",
    "\n",
    "数据预处理：  \n",
    "\n",
    "1. 数据清洗：删除缺失值、异常值等  \n",
    "2. 数据转换：将数据类型转换为模型可接受的格式  \n",
    "3. 数据集成：将多个数据源合并为一个数据集  \n",
    "4. 数据标准化：将数据缩放到同一量级  \n",
    "5. 数据分桶：将连续变量离散化  \n",
    "6. 数据降维：减少数据维度，提高模型效率"
   ]
  },
  {
   "cell_type": "code",
   "execution_count": null,
   "id": "a62106bb",
   "metadata": {},
   "outputs": [],
   "source": [
    "#导入数据\n",
    "import pandas as pd\n",
    "ori_pre_data=pd.read_csv('ori_pre_data.csv')\n",
    "ori_train_data=pd.read_csv('ori_train_data.csv')\n",
    "rent_data=pd.read_csv('rent_data.csv')\n",
    "detail_data=pd.read_csv('detail_data.csv')"
   ]
  },
  {
   "cell_type": "code",
   "execution_count": 3,
   "id": "351f1feb375852bf",
   "metadata": {
    "ExecuteTime": {
     "end_time": "2025-04-03T02:41:12.442984Z",
     "start_time": "2025-04-03T02:41:12.262266Z"
    }
   },
   "outputs": [],
   "source": [
    "#导入相应的包\n",
    "\n",
    "import pandas as pd\n",
    "import matplotlib.pyplot as plt\n",
    "import numpy as np\n",
    "import seaborn as sns\n",
    "import cn2an\n",
    "import datetime\n",
    "from collections import Counter\n",
    "import jieba\n",
    "from sklearn import metrics\n",
    "from dateutil.parser import parse\n",
    "from sklearn.cluster import KMeans\n",
    "from sklearn.preprocessing import LabelEncoder\n",
    "\n"
   ]
  },
  {
   "cell_type": "code",
   "execution_count": 4,
   "id": "513cc6009ef6bf13",
   "metadata": {
    "ExecuteTime": {
     "end_time": "2025-04-03T02:41:12.654046Z",
     "start_time": "2025-04-03T02:41:12.450022Z"
    }
   },
   "outputs": [
    {
     "data": {
      "image/png": "[encoded data removed]",
      "text/plain": [
       "<Figure size 640x480 with 1 Axes>"
      ]
     },
     "metadata": {},
     "output_type": "display_data"
    }
   ],
   "source": [
    "plt.boxplot(ori_train_data['价格'], vert=True, patch_artist=True)\n",
    "plt.title(\"price_condition\")\n",
    "plt.show()"
   ]
  },
  {
   "cell_type": "code",
   "execution_count": 5,
   "id": "9195c4896b0ee8e0",
   "metadata": {
    "ExecuteTime": {
     "end_time": "2025-04-03T02:41:12.708752Z",
     "start_time": "2025-04-03T02:41:12.687757Z"
    }
   },
   "outputs": [
    {
     "name": "stdout",
     "output_type": "stream",
     "text": [
      "原始数据量: 84133\n",
      "清洗后数据量: 75927\n"
     ]
    }
   ],
   "source": [
    "#剔除价格异常值，根据四分位数筛选异常价格\n",
    "print(f\"原始数据量: {len(ori_train_data)}\")\n",
    "Q1=ori_train_data['价格'].quantile(0.25)\n",
    "Q3=ori_train_data['价格'].quantile(0.75)\n",
    "IQR = Q3 - Q1\n",
    "low_bound=Q1 - 1.5*IQR\n",
    "high_bound=Q3 + 1.5*IQR\n",
    "full_data_train=ori_train_data[(ori_train_data['价格']>=low_bound)&(ori_train_data['价格']<=high_bound)]\n",
    "# 展示删除结果\n",
    "print(f\"清洗后数据量: {len(full_data_train)}\")"
   ]
  },
  {
   "cell_type": "code",
   "execution_count": 6,
   "id": "initial_id",
   "metadata": {
    "ExecuteTime": {
     "end_time": "2025-04-03T02:41:52.713396Z",
     "start_time": "2025-04-03T02:41:12.735906Z"
    },
    "collapsed": true
   },
   "outputs": [
    {
     "name": "stderr",
     "output_type": "stream",
     "text": [
      "C:\\Users\\Lenovo\\AppData\\Local\\Temp\\ipykernel_26168\\1277519247.py:6: SettingWithCopyWarning: \n",
      "A value is trying to be set on a copy of a slice from a DataFrame.\n",
      "Try using .loc[row_indexer,col_indexer] = value instead\n",
      "\n",
      "See the caveats in the documentation: https://pandas.pydata.org/pandas-docs/stable/user_guide/indexing.html#returning-a-view-versus-a-copy\n",
      "  full_data_train[\"建筑面积\"] = full_data_train['建筑面积'].str.replace(r'[^\\d.]', '', regex=True)\n",
      "C:\\Users\\Lenovo\\AppData\\Local\\Temp\\ipykernel_26168\\1277519247.py:7: SettingWithCopyWarning: \n",
      "A value is trying to be set on a copy of a slice from a DataFrame.\n",
      "Try using .loc[row_indexer,col_indexer] = value instead\n",
      "\n",
      "See the caveats in the documentation: https://pandas.pydata.org/pandas-docs/stable/user_guide/indexing.html#returning-a-view-versus-a-copy\n",
      "  full_data_train[\"建筑面积\"]=pd.to_numeric(full_data_train[\"建筑面积\"], errors='coerce')\n",
      "C:\\Users\\Lenovo\\AppData\\Local\\Temp\\ipykernel_26168\\1277519247.py:13: SettingWithCopyWarning: \n",
      "A value is trying to be set on a copy of a slice from a DataFrame.\n",
      "Try using .loc[row_indexer,col_indexer] = value instead\n",
      "\n",
      "See the caveats in the documentation: https://pandas.pydata.org/pandas-docs/stable/user_guide/indexing.html#returning-a-view-versus-a-copy\n",
      "  full_data_train['建筑面积_boxcox']=mjbocxoc\n"
     ]
    },
    {
     "name": "stdout",
     "output_type": "stream",
     "text": [
      "原始数据量: 75927, 清洗后数据量: 72130\n"
     ]
    }
   ],
   "source": [
    "#对面积进行处理\n",
    "#将面积转化为float\n",
    "ori_pre_data[\"建筑面积\"] = ori_pre_data['建筑面积'].str.replace(r'[^\\d.]', '', regex=True)\n",
    "ori_pre_data[\"建筑面积\"]=pd.to_numeric(ori_pre_data[\"建筑面积\"], errors='coerce')\n",
    "\n",
    "full_data_train[\"建筑面积\"] = full_data_train['建筑面积'].str.replace(r'[^\\d.]', '', regex=True)\n",
    "full_data_train[\"建筑面积\"]=pd.to_numeric(full_data_train[\"建筑面积\"], errors='coerce')\n",
    "#对面积进行正态化，采用boxcox\n",
    "from scipy import stats\n",
    "mjbocxoc,extra = stats.boxcox(full_data_train['建筑面积'])\n",
    "#sns.kdeplot(mjbocxoc, fill=True, bw_adjust=0.5, color='blue')\n",
    "#sns.kdeplot(fulldata[\"建筑面积\"], fill=True, bw_adjust=0.5, color='blue')\n",
    "full_data_train['建筑面积_boxcox']=mjbocxoc\n",
    "\n",
    "\n",
    "#利用核密度函数，删除异常值（5%）\n",
    "from scipy.stats import gaussian_kde\n",
    "area_col = full_data_train['建筑面积_boxcox']\n",
    "kde = gaussian_kde(area_col)\n",
    "density = kde.evaluate(area_col)\n",
    "threshold = np.quantile(density, 0.05)\n",
    "valid_mask = density >= threshold\n",
    "ori_train_data2 = full_data_train[valid_mask].copy().reset_index(drop=True)\n",
    "# 展示删除结果\n",
    "print(f\"原始数据量: {len(full_data_train)}, 清洗后数据量: {len(ori_train_data2)}\")\n",
    "\n",
    "#合并训练预测数据集\n",
    "ori_train_data=ori_train_data2.drop(columns=['建筑面积_boxcox'])\n",
    "fulldata = pd.concat([ori_train_data, ori_pre_data], axis=0)\n",
    "\n",
    "#对整个合并的数据集的面积正态化\n",
    "mjbocxoc,extra = stats.boxcox(fulldata['建筑面积'])\n",
    "#sns.kdeplot(mjbocxoc, fill=True, bw_adjust=0.5, color='blue')\n",
    "#sns.kdeplot(fulldata[\"建筑面积\"], fill=True, bw_adjust=0.5, color='blue')\n",
    "fulldata['建筑面积_boxcox']=mjbocxoc\n",
    "fulldata=fulldata.drop(columns=['建筑面积'])\n"
   ]
  },
  {
   "cell_type": "code",
   "execution_count": 7,
   "id": "c96a4574ee5f6c89",
   "metadata": {
    "ExecuteTime": {
     "end_time": "2025-04-03T02:41:53.222422Z",
     "start_time": "2025-04-03T02:41:52.720383Z"
    }
   },
   "outputs": [
    {
     "data": {
      "image/png": "[encoded data removed]",
      "text/plain": [
       "<Figure size 1000x600 with 1 Axes>"
      ]
     },
     "metadata": {},
     "output_type": "display_data"
    }
   ],
   "source": [
    "plt.figure(figsize=(10, 6))\n",
    "sns.kdeplot(full_data_train['建筑面积_boxcox'], label='Before', color='blue',fill=True, bw_adjust=0.5)\n",
    "sns.kdeplot(fulldata['建筑面积_boxcox'], label='After', color='red',fill=True, bw_adjust=0.5)\n",
    "plt.title('Comparison of KDE Before and After Change')\n",
    "plt.xlabel('Value')\n",
    "plt.ylabel('Density_s')\n",
    "plt.legend()\n",
    "plt.show()"
   ]
  },
  {
   "cell_type": "code",
   "execution_count": 8,
   "id": "13a792d33d62d0e4",
   "metadata": {
    "ExecuteTime": {
     "end_time": "2025-04-03T02:41:53.258287Z",
     "start_time": "2025-04-03T02:41:53.252304Z"
    }
   },
   "outputs": [
    {
     "data": {
      "text/plain": [
       "区域\n",
       "93.0    6051\n",
       "65.0    5549\n",
       "59.0    3833\n",
       "53.0    3491\n",
       "46.0    3329\n",
       "        ... \n",
       "8.0        3\n",
       "16.0       2\n",
       "10.0       2\n",
       "75.0       1\n",
       "63.0       1\n",
       "Name: count, Length: 94, dtype: int64"
      ]
     },
     "execution_count": 8,
     "metadata": {},
     "output_type": "execute_result"
    }
   ],
   "source": [
    "fulldata['区域'].value_counts()"
   ]
  },
  {
   "cell_type": "code",
   "execution_count": 9,
   "id": "d1a9c1e1bd2c2b89",
   "metadata": {
    "ExecuteTime": {
     "end_time": "2025-04-03T02:41:53.673319Z",
     "start_time": "2025-04-03T02:41:53.309311Z"
    }
   },
   "outputs": [
    {
     "data": {
      "image/png": "[encoded data removed]",
      "text/plain": [
       "<Figure size 640x480 with 1 Axes>"
      ]
     },
     "metadata": {},
     "output_type": "display_data"
    }
   ],
   "source": [
    "#detail数据集坐标与生活成本列生成\n",
    "#观察坐标关系\n",
    "fig, ax = plt.subplots()\n",
    "ax.scatter(ori_train_data['lon'], ori_train_data['lat'], color='blue', label='full_train_data', alpha=0.6)\n",
    "ax.scatter(detail_data['coord_x'], detail_data['coord_y'], color='red', label='rentdata',alpha=0.6)\n",
    "ax.legend()\n",
    "plt.title(\"rent_data & full_train_data location\")\n",
    "plt.show()"
   ]
  },
  {
   "cell_type": "code",
   "execution_count": 10,
   "id": "de32b999889cec51",
   "metadata": {
    "ExecuteTime": {
     "end_time": "2025-04-03T02:41:53.704102Z",
     "start_time": "2025-04-03T02:41:53.697693Z"
    }
   },
   "outputs": [
    {
     "data": {
      "text/plain": [
       "区县            1\n",
       "名称            0\n",
       "城市            0\n",
       "板块            5\n",
       "环线位置       1298\n",
       "小区地址          0\n",
       "物业类别          0\n",
       "建筑年代        188\n",
       "开发商         524\n",
       "房屋总数          0\n",
       "楼栋总数          0\n",
       "物业公司        655\n",
       "绿 化 率       386\n",
       "容 积 率       383\n",
       "物 业 费       356\n",
       "建筑结构        143\n",
       "物业办公电话     2123\n",
       "产权描述          2\n",
       "供水          187\n",
       "供暖          734\n",
       "供电          170\n",
       "燃气费         432\n",
       "供热费        1865\n",
       "停车位         554\n",
       "停车费用        435\n",
       "coord_x       0\n",
       "coord_y       0\n",
       "dtype: int64"
      ]
     },
     "execution_count": 10,
     "metadata": {},
     "output_type": "execute_result"
    }
   ],
   "source": [
    "#检查缺失值\n",
    "detail_data.isnull().sum()"
   ]
  },
  {
   "cell_type": "code",
   "execution_count": 11,
   "id": "4b7332f508005dda",
   "metadata": {
    "ExecuteTime": {
     "end_time": "2025-04-03T02:41:53.833067Z",
     "start_time": "2025-04-03T02:41:53.820867Z"
    }
   },
   "outputs": [],
   "source": [
    "#detail数据集的数据处理\n",
    "#转为数字\n",
    "detail_data[\"物 业 费\"] = detail_data['物 业 费'].str.replace(r'[^\\d.]', '', regex=True)\n",
    "detail_data[\"物 业 费\"]=pd.to_numeric(detail_data[\"物 业 费\"], errors='coerce')\n",
    "\n",
    "detail_data[\"燃气费\"] = detail_data['燃气费'].str.replace(r'[^\\d.]', '', regex=True)\n",
    "detail_data[\"燃气费\"]=pd.to_numeric(detail_data[\"燃气费\"], errors='coerce')\n",
    "#填充缺失值\n",
    "median_wuye=detail_data['物 业 费'].median()\n",
    "median_ranqi=detail_data['燃气费'].median()\n",
    "detail_data['物 业 费']=detail_data['物 业 费'].fillna(median_wuye)\n",
    "detail_data['燃气费']=detail_data['燃气费'].fillna(median_ranqi)\n",
    "#生活成本列生成\n",
    "detail_data['价格']=12*detail_data['物 业 费']+detail_data['燃气费']\n",
    "detail_data['lon']=detail_data['coord_x']\n",
    "detail_data['lat']=detail_data['coord_y']"
   ]
  },
  {
   "cell_type": "code",
   "execution_count": 12,
   "id": "f2a1d72fc1aff3c0",
   "metadata": {
    "ExecuteTime": {
     "end_time": "2025-04-03T02:41:54.178566Z",
     "start_time": "2025-04-03T02:41:53.869186Z"
    }
   },
   "outputs": [
    {
     "name": "stderr",
     "output_type": "stream",
     "text": [
      "C:\\Users\\Lenovo\\miniconda3\\Lib\\site-packages\\pandas\\core\\arraylike.py:399: RuntimeWarning: invalid value encountered in log\n",
      "  result = getattr(ufunc, method)(*inputs, **kwargs)\n"
     ]
    }
   ],
   "source": [
    "from sklearn.cluster import KMeans\n",
    "#合并成full_detail\n",
    "detail_loc=detail_data[['lon','lat','价格']].copy()\n",
    "detail_loc_price=fulldata[['lon','lat','价格']].copy()\n",
    "full_detail=pd.concat([detail_loc, detail_loc_price], axis=0)\n",
    "# 聚类，假设分为30类\n",
    "kmeans = KMeans(n_clusters=30, random_state=42)\n",
    "full_detail['cluster'] = kmeans.fit_predict(full_detail[['lon', 'lat']])\n",
    "#独热编码\n",
    "one_hot = pd.get_dummies(full_detail['cluster'], prefix='Cluster')\n",
    "\n",
    "# 合并到原始DataFrame\n",
    "full_loc = pd.concat([full_detail, one_hot], axis=1)\n",
    "#拟合detail的数据，给fulldata新的一列一个基于生活成本的预测值\n",
    "detail_xtrain=full_detail[:3100].drop(columns=['价格'])\n",
    "detail_ytrain=full_detail[:3100]['价格']\n",
    "detail_pre=full_detail[3100:].drop(columns=['价格'])\n",
    "#线性回归模型\n",
    "from sklearn.linear_model import LassoCV\n",
    "from sklearn import metrics\n",
    "alphas2 = np.array([1e-5, 5e-5, 0.0001, 0.0005])\n",
    "lassoCV = LassoCV(alphas=alphas2, max_iter=1000, cv=6).fit(detail_xtrain, detail_ytrain)\n",
    "#生成生活成本预测\n",
    "fulldata['detail_pre'] = lassoCV.predict(detail_pre)\n",
    "fulldata['detail_pre']=fulldata['detail_pre'].fillna(fulldata['detail_pre'].median())\n",
    "#对数正态化\n",
    "fulldata['detail_pre']=np.log(fulldata['detail_pre'])"
   ]
  },
  {
   "cell_type": "code",
   "execution_count": 13,
   "id": "8aa4a489daeb0175",
   "metadata": {
    "ExecuteTime": {
     "end_time": "2025-04-03T02:41:54.922509Z",
     "start_time": "2025-04-03T02:41:54.186570Z"
    }
   },
   "outputs": [
    {
     "data": {
      "image/png": "[encoded data removed]",
      "text/plain": [
       "<Figure size 640x480 with 1 Axes>"
      ]
     },
     "metadata": {},
     "output_type": "display_data"
    }
   ],
   "source": [
    "#坐标处理数据，rent数据集\n",
    "#观察数据分布\n",
    "fig, ax = plt.subplots()\n",
    "ax.scatter(fulldata['lon'], fulldata['lat'], color='blue', label='full_train_data', alpha=0.6)\n",
    "ax.scatter(rent_data['lon'], rent_data['lat'], color='red', label='detail_data',alpha=0.6)\n",
    "ax.legend()\n",
    "plt.title(\"detail_data & full_train_data location\")\n",
    "plt.show()"
   ]
  },
  {
   "cell_type": "code",
   "execution_count": 14,
   "id": "c10660c5d5d9117b",
   "metadata": {
    "ExecuteTime": {
     "end_time": "2025-04-03T02:41:58.434653Z",
     "start_time": "2025-04-03T02:41:54.964097Z"
    }
   },
   "outputs": [
    {
     "name": "stderr",
     "output_type": "stream",
     "text": [
     ]
    }
   ],
   "source": [
    "from sklearn.cluster import KMeans\n",
    "#将rent和dfulldata的坐标和价格合并为full_loc\n",
    "rent_loc=rent_data[['lon','lat','价格']].copy()\n",
    "buy_loc=fulldata[['lon','lat','价格']].copy()\n",
    "full_loc=pd.concat([rent_loc, buy_loc], axis=0)\n",
    "# 聚类，假设分为30类(15\n",
    "kmeans = KMeans(n_clusters=30, random_state=42)\n",
    "full_loc['cluster'] = kmeans.fit_predict(full_loc[['lon', 'lat']])\n",
    "#独热编码\n",
    "one_hot = pd.get_dummies(full_loc['cluster'], prefix='Cluster')\n",
    "\n",
    "# 合并到原始DataFrame\n",
    "full_loc = pd.concat([full_loc, one_hot], axis=1)\n",
    "#用rent的数据训练，预测dataframe的结果\n",
    "loc_xtrain=full_loc[:84150].drop(columns=['价格'])\n",
    "loc_ytrain=full_loc[:84150]['价格']\n",
    "loc_pre=full_loc[84150:].drop(columns=['价格'])\n",
    "#预测\n",
    "alphas2 = np.array([1e-5, 5e-5, 0.0001, 0.0005])\n",
    "lassoCV = LassoCV(alphas=alphas2, max_iter=1000, cv=6).fit(loc_xtrain, loc_ytrain)\n",
    "fulldata['rent_pre'] = lassoCV.predict(loc_pre)\n",
    "#对数正态化\n",
    "fulldata['rent_pre']=np.log(fulldata['rent_pre'])\n",
    "\n",
    "#填充fulldata\n",
    "fulldata = pd.concat([fulldata, one_hot[84150:]], axis=1)\n"
   ]
  },
  {
   "cell_type": "code",
   "execution_count": 15,
   "id": "b170263a8b304a86",
   "metadata": {
    "ExecuteTime": {
     "end_time": "2025-04-03T02:41:59.450624Z",
     "start_time": "2025-04-03T02:41:58.479290Z"
    }
   },
   "outputs": [
    {
     "data": {
      "image/png": "[encoded data removed]",
      "text/plain": [
       "<Figure size 640x480 with 1 Axes>"
      ]
     },
     "metadata": {},
     "output_type": "display_data"
    }
   ],
   "source": [
    "#展示聚类结果\n",
    "\n",
    "import matplotlib.pyplot as plt\n",
    "\n",
    "plt.scatter(fulldata['lon'], fulldata['lat'], c=full_loc['cluster'][84150:], cmap='viridis')\n",
    "plt.xlabel('X')\n",
    "plt.ylabel('Y')\n",
    "plt.title('Clustering Results')\n",
    "plt.show()\n",
    "\n",
    "fulldata=fulldata.drop(columns=['lon','lat'])"
   ]
  },
  {
   "cell_type": "code",
   "execution_count": 16,
   "id": "a15f921a601a3755",
   "metadata": {
    "ExecuteTime": {
     "end_time": "2025-04-03T02:42:01.824729Z",
     "start_time": "2025-04-03T02:41:59.494318Z"
    }
   },
   "outputs": [],
   "source": [
    "#fulldata数据处理\n",
    "#梯户比例处理\n",
    "#将梯户比例分解\n",
    "middledf = fulldata[\"梯户比例\"].str.split('梯', expand=True)\n",
    "# 重命名新列\n",
    "middledf.columns = [f'{i}' for i in [\"梯数\",\"户数\"]]\n",
    "# 合并到原DataFrame\n",
    "fulldata = pd.concat([fulldata, middledf], axis=1)\n",
    "fulldata.drop(columns=[\"梯户比例\"], inplace=True)\n",
    "fulldata['户数']=fulldata['户数'].str.replace('户','')\n",
    "#转化为数字\n",
    "fulldata['户数']=fulldata['户数'].fillna(\"零\")\n",
    "fulldata['户数'] = fulldata['户数'].apply(lambda x: cn2an.cn2an(x, 'normal'))\n",
    "fulldata['梯数']=fulldata['梯数'].fillna(\"一百\")\n",
    "fulldata['梯数'] = fulldata['梯数'].apply(lambda x: cn2an.cn2an(x, 'normal'))\n",
    "fulldata['梯户比']=fulldata['户数']/fulldata['梯数']\n",
    "THrate_m=fulldata['梯户比'].median()\n",
    "fulldata['梯户比']=fulldata['梯户比'].replace(0,THrate_m)\n",
    "fulldata=fulldata.drop(columns=['梯数','户数'])\n",
    "#正态化\n",
    "fulldata[\"梯户比\"]=np.log(fulldata[\"梯户比\"])\n",
    "\n",
    "\n",
    "#房屋户型处理\n",
    "pattern = r'(?P<室>\\d+)室?.*?(?P<厅>\\d+)厅?.*?(?P<厨>\\d+)厨?.*?(?P<卫>\\d+)卫?'\n",
    "fulldata[['室', '厅', '厨', '卫']] = fulldata['房屋户型'].str.extract(pattern, expand=True).fillna(0).astype(int)\n",
    "#特征工程，用房间的相对数量反应房屋结构\n",
    "fulldata['总房间数']=fulldata['室']+fulldata['厅']+fulldata['厨']+fulldata['卫']\n",
    "fulldata['卧总比']=fulldata['室']/fulldata['总房间数']\n",
    "fulldata['卧卫比']=fulldata['室']/fulldata['卫']\n",
    "#防止除0导致inf\n",
    "fulldata[\"卧总比\"]=fulldata.apply(\n",
    "    lambda row: 0 if (row['总房间数']==0)\n",
    "                else row['卧总比'],\n",
    "    axis=1\n",
    ")\n",
    "\n",
    "fulldata[\"卧卫比\"]=fulldata.apply(\n",
    "    lambda row: 0 if (row['卫']==0)\n",
    "                else row['卧卫比'],\n",
    "    axis=1\n",
    ")\n",
    "\n",
    "fulldata=fulldata.drop(columns=['房屋户型'])\n",
    "\n",
    "#将所在楼层分解\n",
    "split_df = fulldata[\"所在楼层\"].str.split('(', expand=True)\n",
    "# 重命名新列\n",
    "split_df.columns = [f'{i}' for i in [\"楼层区域\",\"楼层总数\"]]\n",
    "# 合并到原DataFrame\n",
    "fulldata = pd.concat([fulldata, split_df], axis=1)\n",
    "fulldata.drop(columns=[\"所在楼层\"], inplace=True)\n",
    "#将楼层总数转化为float\n",
    "fulldata[\"楼层总数\"] = fulldata['楼层总数'].str.replace(r'[^\\d.]', '', regex=True)\n",
    "fulldata[\"楼层总数\"]=pd.to_numeric(fulldata[\"楼层总数\"], errors='coerce')\n",
    "\n",
    "#交易时间转化为数字\n",
    "fulldata['交易时间'] = pd.to_datetime(fulldata['交易时间'], format='%Y-%m-%d')\n",
    "target_date = pd.to_datetime('2025-01-01')\n",
    "fulldata['days_diff'] = (target_date - fulldata['交易时间']).dt.days\n",
    "#删除特定异常值\n",
    "\n",
    "#年份\n",
    "fulldata['年份']=2025-fulldata['年份']\n"
   ]
  },
  {
   "cell_type": "code",
   "execution_count": 17,
   "id": "c8ac414339af28e7",
   "metadata": {
    "ExecuteTime": {
     "end_time": "2025-04-03T02:42:03.474069Z",
     "start_time": "2025-04-03T02:42:01.870688Z"
    }
   },
   "outputs": [
    {
     "name": "stderr",
     "output_type": "stream",
     "text": [
     ]
    }
   ],
   "source": [
    "#rent数据集有关房屋结构的数据处理——用于在dataframe生成一列基于房屋结构预测的租金列MDH_pre\n",
    "#rent\n",
    "#房屋户型处理\n",
    "pattern = r'(?P<室>\\d+)室?.*?(?P<厅>\\d+)厅?.*?(?P<卫>\\d+)卫?'\n",
    "rent_data[['室', '厅', '卫']] = rent_data['户型'].str.extract(pattern, expand=True).fillna(0).astype(int)\n",
    "#特征工程\n",
    "rent_data['总房间数']=rent_data['室']+rent_data['厅']+rent_data['卫']\n",
    "\n",
    "rent_data['卧总比']=rent_data['室']/rent_data['总房间数']\n",
    "rent_data['卧卫比']=rent_data['室']/rent_data['卫']\n",
    "\n",
    "rent_data[\"卧总比\"]=rent_data.apply(\n",
    "    lambda row: 0 if (row['总房间数']==0)\n",
    "                else row['卧总比'],\n",
    "    axis=1\n",
    ")\n",
    "\n",
    "rent_data[\"卧卫比\"]=rent_data.apply(\n",
    "    lambda row: 0 if (row['卫']==0)\n",
    "                else row['卧卫比'],\n",
    "    axis=1\n",
    ")\n",
    "#rent面积处理\n",
    "rent_data[\"建筑面积_boxcox\"] = rent_data['面积'].str.replace(r'[^\\d.]', '', regex=True)\n",
    "rent_data[\"建筑面积_boxcox\"]=pd.to_numeric(rent_data[\"建筑面积_boxcox\"], errors='coerce')\n",
    "rent_data[\"建筑面积_boxcox\"]=np.log(rent_data[\"建筑面积_boxcox\"])\n",
    "rent_data=rent_data.drop(columns=['户型','面积'])\n",
    "\n",
    "#合并成新的数据集\n",
    "rent_M_D_H=rent_data[['建筑面积_boxcox','室','厅','卫','总房间数','卧总比','卧卫比','价格']].copy()\n",
    "price_M_D_H=fulldata[['建筑面积_boxcox','室','厅','卫','总房间数','卧总比','卧卫比','价格']].copy()\n",
    "full_mdh=pd.concat([rent_M_D_H, price_M_D_H], axis=0)\n",
    "\n",
    "#拆分训练测试\n",
    "MDH_xtrain=full_mdh[:84150].drop(columns=['价格'])\n",
    "MDH_ytrain=full_mdh[:84150]['价格']\n",
    "MDH_pre=full_mdh[84150:].drop(columns=['价格'])\n",
    "\n",
    "#在fulldata生成新列MDH_pre\n",
    "alphas2 = np.array([0.005,0.0008, 0.001, 0.0005])\n",
    "lassoCV = LassoCV(alphas=alphas2, max_iter=1000, cv=6).fit(MDH_xtrain, MDH_ytrain)\n",
    "fulldata['MDH_pre'] = lassoCV.predict(MDH_pre)\n",
    "#对数正态化\n",
    "fulldata['MDH_pre']=np.log(fulldata['MDH_pre'])\n",
    "fulldata['面积平方']=fulldata['建筑面积_boxcox']*fulldata['建筑面积_boxcox']\n",
    "fulldata['rent_pre2']=fulldata['rent_pre']*fulldata['rent_pre']"
   ]
  },
  {
   "cell_type": "code",
   "execution_count": 18,
   "id": "a6e4ed80e1b1523d",
   "metadata": {
    "ExecuteTime": {
     "end_time": "2025-04-03T02:49:30.714103Z",
     "start_time": "2025-04-03T02:42:03.521599Z"
    }
   },
   "outputs": [
    {
     "name": "stderr",
     "output_type": "stream",
     "text": [
      "Building prefix dict from the default dictionary ...\n",
      "Loading model from cache C:\\Users\\Lenovo\\AppData\\Local\\Temp\\jieba.cache\n",
      "Loading model cost 0.475 seconds.\n",
      "Prefix dict has been built successfully.\n"
     ]
    },
    {
     "name": "stdout",
     "output_type": "stream",
     "text": [
      "[('房本满', 49437), ('装修', 38764), ('五年', 31461), ('地铁', 30451), ('两年', 17976)]\n",
      "[('南', 59165), ('北', 33350), ('东南', 10850), ('东', 8229), ('西', 5661), ('西南', 3294), ('西北', 1712), ('东北', 1347)]\n",
      "[('好', 35085), ('采光', 21864), ('户型', 18252), ('楼层', 17775), ('此房', 16450), ('视野', 14668), ('小区', 13785), ('通透', 10491), ('出售', 10479), ('业主', 10369), ('南北', 10149), ('方正', 10072), ('方便', 9614), ('诚心', 9527), ('配套', 9284), ('交通', 8214), ('精装修', 8156), ('满', 7772), ('唯一', 7535), ('便利', 7503), ('充足', 6815), ('格局', 6175), ('房子', 5955), ('齐全', 5901), ('满五', 5829), ('开阔', 5810), ('中间', 5660), ('装修', 5453), ('五年', 5320), ('精装', 5272)]\n"
     ]
    }
   ],
   "source": [
    "#文本处理\n",
    "#统计词频——房屋优势\n",
    "def chinese_word_segment(text):\n",
    "    words = jieba.lcut(str(text))  # 强制转为字符串避免报错\n",
    "    return [word for word in words if '\\u4e00' <= word <= '\\u9fff']  # Unicode汉字范围\n",
    "# 应用分词并统计\n",
    "word_list = fulldata['房屋优势'].apply(chinese_word_segment).sum()\n",
    "word_counts = Counter(word_list)\n",
    "# 3输出结果\n",
    "print(word_counts.most_common(10))\n",
    "target_word = []\n",
    "for i in range(len(word_counts.most_common(10))):\n",
    "    target_word.append(word_counts.most_common(10)[i][0])\n",
    "for target_w in target_word:\n",
    "    fulldata[f'{target_w}_count'] = fulldata['房屋优势'].str.count(target_w).fillna(0)\n",
    "fulldata.drop(columns=['房屋优势'])\n",
    "\n",
    "\n",
    "#统计词频——方向\n",
    "def chinese_word_segment(text):\n",
    "    words = jieba.lcut(str(text))  # 强制转为字符串避免报错\n",
    "    return [word for word in words if '\\u4e00' <= word <= '\\u9fff']  # Unicode汉字范围\n",
    "#应用分词并统计\n",
    "word_list = fulldata['房屋朝向'].apply(chinese_word_segment).sum()\n",
    "word_counts = Counter(word_list)\n",
    "#输出结果\n",
    "print(word_counts.most_common())\n",
    "direct=[]\n",
    "for i in range(len(word_counts.most_common())):\n",
    "    direct.append(word_counts.most_common()[i][0])\n",
    "for target_w in direct:\n",
    "    fulldata[f'{target_w}_direct'] = fulldata['房屋朝向'].str.count(target_w).fillna(0)\n",
    "fulldata.drop(columns=['房屋朝向'])\n",
    "fulldata['朝向总数']=0\n",
    "for i in direct:\n",
    "   fulldata['朝向总数']+=fulldata[f'{i}_direct']\n",
    "\n",
    "#统计词频——核心卖点\n",
    "def chinese_word_segment(text):\n",
    "    words = jieba.lcut(str(text))  # 强制转为字符串避免报错\n",
    "    return [word for word in words if '\\u4e00' <= word <= '\\u9fff']  # Unicode汉字范围\n",
    "#应用分词并统计\n",
    "word_list = fulldata['核心卖点'].apply(chinese_word_segment).sum()\n",
    "word_counts = Counter(word_list)\n",
    "#输出结果\n",
    "print(word_counts.most_common(30))\n",
    "#提取前20高频词\n",
    "sellpoint=[]\n",
    "for i in range(len(word_counts.most_common(30))):\n",
    "    sellpoint.append(word_counts.most_common(30)[i][0])\n",
    "for target_w in sellpoint:\n",
    "    fulldata[f'{target_w}_count2'] = fulldata['核心卖点'].str.count(target_w).fillna(0)\n",
    "fulldata.drop(columns=['核心卖点'])\n",
    "\n",
    "#删除原文本列\n",
    "fulldata=fulldata.drop(columns=['房屋朝向','房屋优势','核心卖点'])\n",
    "\n",
    "\n",
    "\n"
   ]
  },
  {
   "cell_type": "code",
   "execution_count": 19,
   "id": "496c853c7b67abac",
   "metadata": {
    "ExecuteTime": {
     "end_time": "2025-04-03T02:49:32.125836Z",
     "start_time": "2025-04-03T02:49:30.846538Z"
    }
   },
   "outputs": [],
   "source": [
    "#类别变量处理\n",
    "#填充缺失值_房屋年限\n",
    "fulldata['房屋年限']=fulldata['房屋年限'].fillna(\"满五年\")\n",
    "fulldata = pd.get_dummies(fulldata, columns=['房屋年限'], prefix='房屋年限')\n",
    "\n",
    "#填充配备电梯\n",
    "fulldata[\"配备电梯\"]=fulldata.apply(\n",
    "    lambda row: \"有\" if (pd.isna(row['配备电梯']) and row['楼层总数']>8)\n",
    "                else \"无\" if pd.isna(row['配备电梯'])\n",
    "                else row['配备电梯'],\n",
    "    axis=1\n",
    ")\n",
    "from sklearn.preprocessing import OrdinalEncoder\n",
    "encoder = OrdinalEncoder(categories=[['无', '有']])\n",
    "fulldata['配备电梯'] = encoder.fit_transform(fulldata[['配备电梯']])\n",
    "\n",
    "#填充建筑结构\n",
    "fulldata['建筑结构']=fulldata['建筑结构'].fillna(\"未知结构\")\n",
    "fulldata = pd.get_dummies(fulldata, columns=['建筑结构'], prefix='建筑结构')\n",
    "#填装修情况\n",
    "\n",
    "fulldata['装修情况']=fulldata['装修情况'].fillna(\"其他\")\n",
    "fulldata = pd.get_dummies(fulldata, columns=['装修情况'], prefix='装修情况')\n",
    "\n",
    "#填充房屋用途并化简房屋用途类型\n",
    "fulldata['房屋用途']=fulldata['房屋用途'].fillna(\"其他\")\n",
    "top_6 = fulldata['房屋用途'].value_counts().nlargest(6).index\n",
    "fulldata['房屋用途'] = fulldata['房屋用途'].where(fulldata['房屋用途'].isin(top_6), '其他结构')\n",
    "fulldata = pd.get_dummies(fulldata, columns=['房屋用途'], prefix='房屋用途')\n",
    "\n",
    "#将不需要填充的类别变量独热编码\n",
    "fulldata = pd.get_dummies(fulldata, columns=['产权所属'], prefix='产权所属')\n",
    "fulldata = pd.get_dummies(fulldata, columns=['交易权属'], prefix='交易权属')\n",
    "fulldata = pd.get_dummies(fulldata, columns=['楼层区域'], prefix='楼层区域')\n",
    "fulldata['房间结构健全']=( (fulldata[['室', '厨', '厅', '卫']] != 0).all(axis=1) ).astype(int)\n",
    "fulldata = pd.get_dummies(fulldata, columns=['城市'], prefix='城市')\n",
    "\n",
    "#特征工程_朝向个数统计与文本中高频词采光交互项\n",
    "fulldata['朝向_采光']=fulldata['朝向总数']*fulldata['采光_count2']\n",
    "\n",
    "#特征工程_房屋位置与是否配备电梯与楼层总数生成交互项\n",
    "for i in ['底层 ','低楼层 ','中楼层 ','高楼层 ','顶层 ','地下室 ']:\n",
    "    fulldata[f'方便_{i}']=fulldata[f'楼层区域_{i}']*fulldata['配备电梯']*fulldata['楼层总数']"
   ]
  },
  {
   "cell_type": "code",
   "execution_count": 20,
   "id": "70c43aba7a93988e",
   "metadata": {
    "ExecuteTime": {
     "end_time": "2025-04-03T02:49:32.175261Z",
     "start_time": "2025-04-03T02:49:32.131235Z"
    }
   },
   "outputs": [],
   "source": [
    "#删除未处理的列\n",
    "fulldata=fulldata.drop(columns=[\"抵押信息\",\"ID\",\"套内面积\",\"户型介绍\",\"别墅类型\",\"周边配套\",\"交通出行\",\"环线\",\"小区名称\",\"板块\",\"区域\",'上次交易','交易时间'])\n",
    "\n",
    "#序列重构\n",
    "cols_to_move=[]\n",
    "for i in range(30):\n",
    "    cols_to_move.append(f'Cluster_{i}')\n",
    "new_columns = [col for col in fulldata.columns if col not in cols_to_move] + cols_to_move\n",
    "fulldata = fulldata[new_columns]"
   ]
  },
  {
   "cell_type": "code",
   "execution_count": 21,
   "id": "50e5f446a20c7d20",
   "metadata": {
    "ExecuteTime": {
     "end_time": "2025-04-03T02:49:32.251058Z",
     "start_time": "2025-04-03T02:49:32.240688Z"
    }
   },
   "outputs": [
    {
     "name": "stdout",
     "output_type": "stream",
     "text": [
      "<class 'pandas.core.frame.DataFrame'>\n",
      "Index: 86916 entries, 0 to 14785\n",
      "Data columns (total 153 columns):\n",
      " #    Column        Dtype  \n",
      "---   ------        -----  \n",
      " 0    价格            float64\n",
      " 1    配备电梯          float64\n",
      " 2    年份            float64\n",
      " 3    建筑面积_boxcox   float64\n",
      " 4    detail_pre    float64\n",
      " 5    rent_pre      float64\n",
      " 6    梯户比           float64\n",
      " 7    室             int64  \n",
      " 8    厅             int64  \n",
      " 9    厨             int64  \n",
      " 10   卫             int64  \n",
      " 11   总房间数          int64  \n",
      " 12   卧总比           float64\n",
      " 13   卧卫比           float64\n",
      " 14   楼层总数          int64  \n",
      " 15   days_diff     int64  \n",
      " 16   MDH_pre       float64\n",
      " 17   面积平方          float64\n",
      " 18   rent_pre2     float64\n",
      " 19   房本满_count     float64\n",
      " 20   装修_count      float64\n",
      " 21   五年_count      float64\n",
      " 22   地铁_count      float64\n",
      " 23   两年_count      float64\n",
      " 24   南_direct      int64  \n",
      " 25   北_direct      int64  \n",
      " 26   东南_direct     int64  \n",
      " 27   东_direct      int64  \n",
      " 28   西_direct      int64  \n",
      " 29   西南_direct     int64  \n",
      " 30   西北_direct     int64  \n",
      " 31   东北_direct     int64  \n",
      " 32   朝向总数          int64  \n",
      " 33   好_count2      float64\n",
      " 34   采光_count2     float64\n",
      " 35   户型_count2     float64\n",
      " 36   楼层_count2     float64\n",
      " 37   此房_count2     float64\n",
      " 38   视野_count2     float64\n",
      " 39   小区_count2     float64\n",
      " 40   通透_count2     float64\n",
      " 41   出售_count2     float64\n",
      " 42   业主_count2     float64\n",
      " 43   南北_count2     float64\n",
      " 44   方正_count2     float64\n",
      " 45   方便_count2     float64\n",
      " 46   诚心_count2     float64\n",
      " 47   配套_count2     float64\n",
      " 48   交通_count2     float64\n",
      " 49   精装修_count2    float64\n",
      " 50   满_count2      float64\n",
      " 51   唯一_count2     float64\n",
      " 52   便利_count2     float64\n",
      " 53   充足_count2     float64\n",
      " 54   格局_count2     float64\n",
      " 55   房子_count2     float64\n",
      " 56   齐全_count2     float64\n",
      " 57   满五_count2     float64\n",
      " 58   开阔_count2     float64\n",
      " 59   中间_count2     float64\n",
      " 60   装修_count2     float64\n",
      " 61   五年_count2     float64\n",
      " 62   精装_count2     float64\n",
      " 63   房屋年限_未满两年     bool   \n",
      " 64   房屋年限_满两年      bool   \n",
      " 65   房屋年限_满五年      bool   \n",
      " 66   建筑结构_未知结构     bool   \n",
      " 67   建筑结构_框架结构     bool   \n",
      " 68   建筑结构_混合结构     bool   \n",
      " 69   建筑结构_砖木结构     bool   \n",
      " 70   建筑结构_砖混结构     bool   \n",
      " 71   建筑结构_钢混结构     bool   \n",
      " 72   建筑结构_钢结构      bool   \n",
      " 73   装修情况_其他       bool   \n",
      " 74   装修情况_毛坯       bool   \n",
      " 75   装修情况_简装       bool   \n",
      " 76   装修情况_精装       bool   \n",
      " 77   房屋用途_公寓       bool   \n",
      " 78   房屋用途_其他结构     bool   \n",
      " 79   房屋用途_别墅       bool   \n",
      " 80   房屋用途_商业办公类    bool   \n",
      " 81   房屋用途_商住两用     bool   \n",
      " 82   房屋用途_普通住宅     bool   \n",
      " 83   房屋用途_车库       bool   \n",
      " 84   产权所属_共有       bool   \n",
      " 85   产权所属_非共有      bool   \n",
      " 86   交易权属_一类经济适用房  bool   \n",
      " 87   交易权属_二类经济适用房  bool   \n",
      " 88   交易权属_使用权      bool   \n",
      " 89   交易权属_动迁安置房    bool   \n",
      " 90   交易权属_售后公房     bool   \n",
      " 91   交易权属_商品房      bool   \n",
      " 92   交易权属_央产房      bool   \n",
      " 93   交易权属_定向安置房    bool   \n",
      " 94   交易权属_已购公房     bool   \n",
      " 95   交易权属_房改房      bool   \n",
      " 96   交易权属_拆迁还建房    bool   \n",
      " 97   交易权属_私产       bool   \n",
      " 98   交易权属_经济适用房    bool   \n",
      " 99   交易权属_自住型商品房   bool   \n",
      " 100  交易权属_限价商品房    bool   \n",
      " 101  交易权属_集资房      bool   \n",
      " 102  楼层区域_中楼层      bool   \n",
      " 103  楼层区域_低楼层      bool   \n",
      " 104  楼层区域_地下室      bool   \n",
      " 105  楼层区域_底层       bool   \n",
      " 106  楼层区域_顶层       bool   \n",
      " 107  楼层区域_高楼层      bool   \n",
      " 108  房间结构健全        int64  \n",
      " 109  城市_0          bool   \n",
      " 110  城市_1          bool   \n",
      " 111  城市_2          bool   \n",
      " 112  城市_3          bool   \n",
      " 113  城市_4          bool   \n",
      " 114  城市_5          bool   \n",
      " 115  城市_6          bool   \n",
      " 116  朝向_采光         float64\n",
      " 117  方便_底层         float64\n",
      " 118  方便_低楼层        float64\n",
      " 119  方便_中楼层        float64\n",
      " 120  方便_高楼层        float64\n",
      " 121  方便_顶层         float64\n",
      " 122  方便_地下室        float64\n",
      " 123  Cluster_0     bool   \n",
      " 124  Cluster_1     bool   \n",
      " 125  Cluster_2     bool   \n",
      " 126  Cluster_3     bool   \n",
      " 127  Cluster_4     bool   \n",
      " 128  Cluster_5     bool   \n",
      " 129  Cluster_6     bool   \n",
      " 130  Cluster_7     bool   \n",
      " 131  Cluster_8     bool   \n",
      " 132  Cluster_9     bool   \n",
      " 133  Cluster_10    bool   \n",
      " 134  Cluster_11    bool   \n",
      " 135  Cluster_12    bool   \n",
      " 136  Cluster_13    bool   \n",
      " 137  Cluster_14    bool   \n",
      " 138  Cluster_15    bool   \n",
      " 139  Cluster_16    bool   \n",
      " 140  Cluster_17    bool   \n",
      " 141  Cluster_18    bool   \n",
      " 142  Cluster_19    bool   \n",
      " 143  Cluster_20    bool   \n",
      " 144  Cluster_21    bool   \n",
      " 145  Cluster_22    bool   \n",
      " 146  Cluster_23    bool   \n",
      " 147  Cluster_24    bool   \n",
      " 148  Cluster_25    bool   \n",
      " 149  Cluster_26    bool   \n",
      " 150  Cluster_27    bool   \n",
      " 151  Cluster_28    bool   \n",
      " 152  Cluster_29    bool   \n",
      "dtypes: bool(82), float64(54), int64(17)\n",
      "memory usage: 54.5 MB\n"
     ]
    }
   ],
   "source": [
    "#查看数据集\n",
    "fulldata.info(20)"
   ]
  },
  {
   "cell_type": "code",
   "execution_count": null,
   "id": "3fd78a56e4e59ca8",
   "metadata": {
    "ExecuteTime": {
     "end_time": "2025-04-03T02:49:32.497604Z",
     "start_time": "2025-04-03T02:49:32.313592Z"
    }
   },
   "outputs": [],
   "source": [
    "#标准化_将连续型变量标准化，消除量纲结果\n",
    "from sklearn.preprocessing import StandardScaler\n",
    "StdSc=StandardScaler()\n",
    "fulldata['detail_pre']=fulldata['detail_pre'].fillna(fulldata['detail_pre'].median())\n",
    "full_stand=fulldata.iloc[:,:50]\n",
    "StdSc=StdSc.fit(full_stand)\n",
    "fullData_=StdSc.transform(full_stand)\n",
    "fullData_1=pd.DataFrame(fullData_)\n",
    "fullData_1.columns = full_stand.columns\n",
    "fullData_1.head()\n",
    "\n",
    "#拼接标准化后的连续型变量和类别变量\n",
    "fullData_2=fulldata.iloc[:,50:]\n",
    "fullData2=pd.concat([fullData_1.reset_index(), fullData_2.reset_index()], axis=1)\n",
    "fullData2=fullData2.drop(columns=['index'])"
   ]
  },
  {
   "cell_type": "code",
   "execution_count": null,
   "id": "3a53d22c7eb65cb1",
   "metadata": {
    "ExecuteTime": {
     "end_time": "2025-04-03T02:49:35.372628Z",
     "start_time": "2025-04-03T02:49:32.577549Z"
    }
   },
   "outputs": [
    {
     "data": {
      "text/plain": [
       "价格            1.000000\n",
       "rent_pre2     0.719876\n",
       "rent_pre      0.717731\n",
       "城市_0          0.588372\n",
       "Cluster_8     0.395010\n",
       "                ...   \n",
       "房屋用途_其他结构     0.002126\n",
       "西北_direct     0.001523\n",
       "东北_direct     0.001235\n",
       "房屋年限_满两年      0.000817\n",
       "Cluster_11         NaN\n",
       "Name: 价格, Length: 153, dtype: float64"
      ]
     },
     "execution_count": 23,
     "metadata": {},
     "output_type": "execute_result"
    }
   ],
   "source": [
    "#查看变量与价格的相关性\n",
    "test=fullData2[0:]\n",
    "corrDf = test.corr()\n",
    "#变量太多热力图看不清楚，注释掉\n",
    "#plt.figure()\n",
    "#sns.heatmap(corrDf,cmap=plt.cm.RdBu,linecolor='white',annot=True)\n",
    "corrDf['价格'].map(abs).sort_values(ascending =False)"
   ]
  },
  {
   "cell_type": "markdown",
   "id": "421af49e",
   "metadata": {},
   "source": [
    "# 建模预测"
   ]
  },
  {
   "cell_type": "code",
   "execution_count": 24,
   "id": "b8ce8b3acdfa8ea4",
   "metadata": {
    "ExecuteTime": {
     "end_time": "2025-04-03T02:49:35.549226Z",
     "start_time": "2025-04-03T02:49:35.473130Z"
    }
   },
   "outputs": [],
   "source": [
    "#选取相关性大于0.005的列\n",
    "cols = corrDf['价格'][abs(corrDf['价格'])>0.0001].index\n",
    "fullNew = fullData2[cols]\n",
    "sum_train=fullNew.drop(columns=['价格'])\n",
    "#划分训练预测集位置\n",
    "train_X=sum_train[:72130]\n",
    "train_Y=fulldata['价格'][:72130]\n",
    "predict_X=sum_train[72130:]\n",
    "#划分训练集与测试集\n",
    "from sklearn.model_selection import train_test_split\n",
    "X_train_0, X_test_0, y_train, y_test = train_test_split(train_X, train_Y, test_size=0.2, random_state=111)"
   ]
  },
  {
   "cell_type": "code",
   "execution_count": 25,
   "id": "3d545c9e4b44164a",
   "metadata": {
    "ExecuteTime": {
     "end_time": "2025-04-03T02:49:35.804103Z",
     "start_time": "2025-04-03T02:49:35.572489Z"
    }
   },
   "outputs": [],
   "source": [
    "#检查每列数据是否有无穷大等异常值\n",
    "for col in train_X.columns:\n",
    "    if train_X[col].isin([np.inf, -np.inf]).any():\n",
    "        print(f\"列【{col}】存在无穷大\")\n",
    "        # 输出具体行号\n",
    "        inf_rows = train_X.index[train_X[col].isin([np.inf, -np.inf])].tolist()\n",
    "        print(f\"异常行号：{inf_rows}\")\n",
    "\n",
    "# 检查超float64范围的值\n",
    "max_float = np.finfo(np.float64).max\n",
    "out_of_range = train_X.apply(lambda x: x.abs() > max_float)\n",
    "if out_of_range.any().any():\n",
    "    print(\"存在超过float64范围的值\")"
   ]
  },
  {
   "cell_type": "code",
   "execution_count": 26,
   "id": "6e5d68e0c5b44b8f",
   "metadata": {
    "ExecuteTime": {
     "end_time": "2025-04-03T02:49:49.802930Z",
     "start_time": "2025-04-03T02:49:35.813348Z"
    }
   },
   "outputs": [
    {
     "name": "stderr",
     "output_type": "stream",
     "text": [
     ]
    },
    {
     "name": "stdout",
     "output_type": "stream",
     "text": [
      "Root mean square error (RMSE): 422784.0186884484\n",
      "1e-05\n"
     ]
    },
    {
     "name": "stderr",
     "output_type": "stream",
     "text": [
     ]
    }
   ],
   "source": [
    "#lassco回归\n",
    "from sklearn.linear_model import LassoCV\n",
    "from sklearn import metrics\n",
    "alphas2 = np.array([1e-5, 0.0006, 0.0007, 0.0005])\n",
    "lassoCV = LassoCV(alphas=alphas2, max_iter=1000, cv=6).fit(X_train_0, y_train)\n",
    "y_pred = lassoCV.predict(X_test_0)\n",
    "print(\"Root mean square error (RMSE):\", np.sqrt(metrics.mean_squared_error(y_test,y_pred)))\n",
    "print(lassoCV.alpha_)\n"
   ]
  },
  {
   "cell_type": "code",
   "execution_count": 36,
   "id": "f5442e1d91b7e09f",
   "metadata": {
    "ExecuteTime": {
     "end_time": "2025-04-03T03:17:48.695482Z",
     "start_time": "2025-04-03T03:02:24.242776Z"
    }
   },
   "outputs": [
    {
     "name": "stderr",
     "output_type": "stream",
     "text": [
     ]
    },
    {
     "name": "stdout",
     "output_type": "stream",
     "text": [
      "RMSE: 422794.75936732435\n"
     ]
    },
    {
     "name": "stderr",
     "output_type": "stream",
     "text": [
     ]
    }
   ],
   "source": [
    "#ElasticNet回归\n",
    "from sklearn.linear_model import ElasticNetCV\n",
    "from sklearn.metrics import mean_squared_error\n",
    "from sklearn import metrics\n",
    "alphas2 = np.array([0.1,0.0005,0.001])\n",
    "l1_ratios = np.linspace(0.5, 0.9, 10)\n",
    "elasticNetCV = ElasticNetCV(alphas=alphas2, l1_ratio=l1_ratios, max_iter=50000, cv=6).fit(X_train_0, y_train)\n",
    "y_pred = elasticNetCV.predict(X_test_0)\n",
    "rmse = np.sqrt(mean_squared_error(y_test, y_pred))\n",
    "print(\"RMSE:\", rmse)"
   ]
  },
  {
   "cell_type": "code",
   "execution_count": 37,
   "id": "493932d74615fa91",
   "metadata": {
    "ExecuteTime": {
     "end_time": "2025-04-03T03:21:36.723140Z",
     "start_time": "2025-04-03T03:21:36.677560Z"
    }
   },
   "outputs": [],
   "source": [
    "from sklearn.linear_model import ElasticNet\n",
    "#提交预测结果\n",
    "y_final=elasticNetCV.predict(predict_X)\n",
    "house_id=ori_pre_data['ID']\n",
    "submission = pd.DataFrame({'id': house_id , 'price': y_final})\n",
    "\n",
    "submission.to_csv('house_pred.csv', index=False)"
   ]
  },
  {
   "cell_type": "code",
   "execution_count": 29,
   "id": "6a898c57938410f1",
   "metadata": {
    "ExecuteTime": {
     "end_time": "2025-04-03T02:50:29.410944Z",
     "start_time": "2025-04-03T02:50:29.345057Z"
    }
   },
   "outputs": [
    {
     "name": "stdout",
     "output_type": "stream",
     "text": [
      "MAE_in sample: 416423.129668964\n",
      "MAE_in sample: 290522.17412227514\n",
      "RMSE_out sample: 422849.98352813424\n",
      "MAE_out sample: 292911.51271311875\n"
     ]
    }
   ],
   "source": [
    "#指标验证\n",
    "#insample\n",
    "y_pred_insample = elasticNetCV.predict(X_train_0)\n",
    "rmse = np.sqrt(mean_squared_error(y_train, y_pred_insample))\n",
    "print(\"MAE_in sample:\", rmse)\n",
    "mae_lin=metrics.mean_absolute_error(y_train,y_pred_insample)\n",
    "print(\"MAE_in sample:\", mae_lin)\n",
    "#outsample\n",
    "y_pred_outsample = elasticNetCV.predict(X_test_0)\n",
    "rmse = np.sqrt(mean_squared_error(y_test, y_pred_outsample))\n",
    "print(\"RMSE_out sample:\", rmse)\n",
    "mae_lin=metrics.mean_absolute_error(y_test,y_pred_outsample)\n",
    "print(\"MAE_out sample:\", mae_lin)"
   ]
  },
  {
   "cell_type": "code",
   "execution_count": 30,
   "id": "65d19f17040b5ab4",
   "metadata": {
    "ExecuteTime": {
     "end_time": "2025-04-03T02:51:06.105310Z",
     "start_time": "2025-04-03T02:50:29.504443Z"
    }
   },
   "outputs": [
    {
     "name": "stdout",
     "output_type": "stream",
     "text": [
      "RMSE_insample_lin: 415556.93330337136\n",
      "MAE_insample_lin: 290080.663033931\n",
      "RMSE_outsample_lin: 421173.88768221095\n",
      "MAE_outsample_lin: 291990.17079219135\n",
      "RMSE_cv_lin: 415556.93330336985\n",
      "MAE_cv_lin: 291990.1707921718\n"
     ]
    }
   ],
   "source": [
    "#OLS线性回归\n",
    "from sklearn.linear_model import LinearRegression\n",
    "from sklearn.model_selection import GridSearchCV\n",
    "linreg = LinearRegression()\n",
    "linreg.fit(X_train_0, y_train)\n",
    "#in sample\n",
    "y_pred_lin = linreg.predict(X_train_0)\n",
    "rmse_lin = np.sqrt(mean_squared_error(y_train, y_pred_lin))\n",
    "print(\"RMSE_insample_lin:\", rmse_lin)\n",
    "mae_lin=metrics.mean_absolute_error(y_train,y_pred_lin)\n",
    "print(\"MAE_insample_lin:\", mae_lin)\n",
    "#out of sample\n",
    "y_pred_lin = linreg.predict(X_test_0)\n",
    "rmse_lin = np.sqrt(mean_squared_error(y_test, y_pred_lin))\n",
    "print(\"RMSE_outsample_lin:\", rmse_lin)\n",
    "mae_lin=metrics.mean_absolute_error(y_test,y_pred_lin)\n",
    "print(\"MAE_outsample_lin:\", mae_lin)\n",
    "\n",
    "#交叉验证\n",
    "from sklearn.model_selection import cross_val_score\n",
    "param_grid = {\n",
    "    'fit_intercept': [True, False],\n",
    "    'positive': [True, False]\n",
    "}\n",
    "\n",
    "# 初始化网格搜索器\n",
    "linreg = LinearRegression()\n",
    "grid_search = GridSearchCV(\n",
    "    estimator=linreg,\n",
    "    param_grid=param_grid,\n",
    "    cv=6,\n",
    "    scoring='neg_mean_squared_error',\n",
    "    n_jobs=-1  # 并行加速\n",
    ")\n",
    "\n",
    "# 执行搜索并获取最优模型\n",
    "grid_search.fit(X_train_0, y_train)\n",
    "best_model = grid_search.best_estimator_\n",
    "\n",
    "y_pred_lin = best_model.predict(X_train_0)\n",
    "rmse_lin = np.sqrt(mean_squared_error(y_train, y_pred_lin))\n",
    "print(\"RMSE_cv_lin:\", rmse_lin)\n",
    "y_pred_lin = best_model.predict(X_test_0)\n",
    "mae_lin=metrics.mean_absolute_error(y_test,y_pred_lin)\n",
    "print(\"MAE_cv_lin:\", mae_lin)\n",
    "\n",
    "y_final=best_model.predict(predict_X)\n",
    "house_id=ori_pre_data['ID']\n",
    "submission = pd.DataFrame({'id': house_id , 'price': y_final})\n",
    "\n",
    "submission.to_csv('house_pred_lin.csv', index=False)"
   ]
  },
  {
   "cell_type": "code",
   "execution_count": 31,
   "id": "ecb96f2f29d0e5f7",
   "metadata": {
    "ExecuteTime": {
     "end_time": "2025-04-03T02:51:12.851753Z",
     "start_time": "2025-04-03T02:51:06.197721Z"
    }
   },
   "outputs": [
    {
     "name": "stdout",
     "output_type": "stream",
     "text": [
      "RMSE_insample_rig: 415814.4222448111\n",
      "MAE_insample_rig: 290211.45210812456\n",
      "RMSE_outsample_rig: 421799.13262543915\n",
      "MAE_outsample_rig: 292310.8268965608\n",
      "RMSE_cv_rig: 422021.5183074754\n",
      "MAE_cv_rig: 292426.16366922244\n"
     ]
    }
   ],
   "source": [
    "from sklearn.linear_model import RidgeCV\n",
    "from sklearn.linear_model import Ridge\n",
    "\n",
    "# rig_insample\n",
    "rr = Ridge(alpha=0.001)\n",
    "rr.fit(X_train_0, y_train)\n",
    "y_pred_rr = rr.predict(X_train_0)\n",
    "print(\"RMSE_insample_rig:\", np.sqrt(metrics.mean_squared_error(y_train,y_pred_rr)))\n",
    "print(\"MAE_insample_rig:\", metrics.mean_absolute_error(y_train, y_pred_rr))\n",
    "\n",
    "#rig_ousanple\n",
    "y_pred_rr = rr.predict(X_test_0)\n",
    "print(\"RMSE_outsample_rig:\", np.sqrt(metrics.mean_squared_error(y_test,y_pred_rr)))\n",
    "print(\"MAE_outsample_rig:\", metrics.mean_absolute_error(y_test, y_pred_rr))\n",
    "\n",
    "#rig_cv\n",
    "alphas = [0.005, 0.05, 0.1, 0.3, 1, 3, 5, 10, 15, 30, 80]\n",
    "ridgeCV = RidgeCV(alphas=alphas, cv=6).fit(X_train_0, y_train)\n",
    "y_pred_rid = ridgeCV.predict(X_test_0)\n",
    "print(\"RMSE_cv_rig:\", np.sqrt(metrics.mean_squared_error(y_test,y_pred_rid)))\n",
    "print(\"MAE_cv_rig:\", metrics.mean_absolute_error(y_test, y_pred_rid))\n",
    "\n",
    "#提交\n",
    "y_final=ridgeCV.predict(predict_X)\n",
    "house_id=ori_pre_data['ID']\n",
    "submission = pd.DataFrame({'id': house_id , 'price': y_final})\n",
    "\n",
    "submission.to_csv('house_pred_rig.csv', index=False)"
   ]
  },
  {
   "cell_type": "code",
   "execution_count": 38,
   "id": "64daf8a4cfe535c5",
   "metadata": {
    "ExecuteTime": {
     "end_time": "2025-04-03T03:33:10.887072Z",
     "start_time": "2025-04-03T03:27:01.289109Z"
    }
   },
   "outputs": [
    {
     "name": "stderr",
     "output_type": "stream",
     "text": [
     ]
    },
    {
     "name": "stdout",
     "output_type": "stream",
     "text": [
      "RMSE_insample_lasso: 416387.5365691262\n",
      "MAE_insample_lasso: 290476.41636202345\n",
      "RMSE_outsample_lasso: 422784.01847863436\n",
      "MAE_outsample_lasso: 292858.387447299\n"
     ]
    },
    {
     "name": "stderr",
     "output_type": "stream",
     "text": [
     ]
    },
    {
     "name": "stdout",
     "output_type": "stream",
     "text": [
      "RMSE_cv_lasso: 422573.63097980287\n",
      "MAE_cv_lasso: 292771.5510209398\n"
     ]
    },
    {
     "name": "stderr",
     "output_type": "stream",
     "text": [
     ]
    }
   ],
   "source": [
    "from sklearn.linear_model import LassoCV\n",
    "from sklearn.linear_model import Lasso\n",
    "\n",
    "# lasso_insample\n",
    "lassor = Lasso(alpha=0.0001)\n",
    "lassor.fit(X_train_0, y_train)\n",
    "y_pred_lasso = lassor.predict(X_train_0)\n",
    "print(\"RMSE_insample_lasso:\", np.sqrt(metrics.mean_squared_error(y_train,y_pred_lasso)))\n",
    "print(\"MAE_insample_lasso:\", metrics.mean_absolute_error(y_train, y_pred_lasso))\n",
    "\n",
    "#lasso_ousanple\n",
    "y_pred_lasso = lassor.predict(X_test_0)\n",
    "print(\"RMSE_outsample_lasso:\", np.sqrt(metrics.mean_squared_error(y_test,y_pred_lasso)))\n",
    "print(\"MAE_outsample_lasso:\", metrics.mean_absolute_error(y_test, y_pred_lasso))\n",
    "\n",
    "#lasso_cv\n",
    "alphas2 = np.array([1e-5, 5e-5, 0.0001, 0.0005])\n",
    "lassoCV = LassoCV(alphas=alphas2, max_iter=20000, cv=6).fit(X_train_0, y_train)\n",
    "y_pred_lasso = lassoCV.predict(X_test_0)\n",
    "print(\"RMSE_cv_lasso:\", np.sqrt(metrics.mean_squared_error(y_test,y_pred_lasso)))\n",
    "print(\"MAE_cv_lasso:\", metrics.mean_absolute_error(y_test, y_pred_lasso))\n",
    "\n",
    "#提交\n",
    "y_final=lassoCV.predict(predict_X)\n",
    "house_id=ori_pre_data['ID']\n",
    "submission = pd.DataFrame({'id': house_id , 'price': y_final})\n",
    "\n",
    "submission.to_csv('house_pred_lasso.csv', index=False)"
   ]
  }
 ],
 "metadata": {
  "kernelspec": {
   "display_name": "Python 3",
   "language": "python",
   "name": "python3"
  },
  "language_info": {
   "codemirror_mode": {
    "name": "ipython",
    "version": 2
   },
   "file_extension": ".py",
   "mimetype": "text/x-python",
   "name": "python",
   "nbconvert_exporter": "python",
   "pygments_lexer": "ipython2",
   "version": "2.7.6"
  }
 },
 "nbformat": 4,
 "nbformat_minor": 5
}
