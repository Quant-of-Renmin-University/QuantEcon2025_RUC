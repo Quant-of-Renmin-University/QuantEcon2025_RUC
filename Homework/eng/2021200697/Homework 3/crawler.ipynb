{
 "cells": [
  {
   "cell_type": "code",
   "execution_count": null,
   "id": "52e2e3fe-e71f-42f7-8986-ce6f5daa7c36",
   "metadata": {
    "tags": []
   },
   "outputs": [
    {
     "name": "stdout",
     "output_type": "stream",
     "text": [
      "['Solarize_Light2', '_classic_test_patch', '_mpl-gallery', '_mpl-gallery-nogrid', 'bmh', 'classic', 'dark_background', 'fast', 'fivethirtyeight', 'ggplot', 'grayscale', 'petroff10', 'seaborn-v0_8', 'seaborn-v0_8-bright', 'seaborn-v0_8-colorblind', 'seaborn-v0_8-dark', 'seaborn-v0_8-dark-palette', 'seaborn-v0_8-darkgrid', 'seaborn-v0_8-deep', 'seaborn-v0_8-muted', 'seaborn-v0_8-notebook', 'seaborn-v0_8-paper', 'seaborn-v0_8-pastel', 'seaborn-v0_8-poster', 'seaborn-v0_8-talk', 'seaborn-v0_8-ticks', 'seaborn-v0_8-white', 'seaborn-v0_8-whitegrid', 'tableau-colorblind10']\n"
     ]
    }
   ],
   "source": [
    "from selenium import webdriver\n",
    "import pandas as pd\n",
    "from time import sleep\n",
    "from selenium.webdriver.common.by import By\n",
    "from selenium.common import NoSuchElementException\n",
    "\n",
    "print(plt.style.available)\n",
    "%matplotlib inline\n",
    "\n",
    "driver=webdriver.Edge()\n",
    "\n",
    "url='https://zu.fang.com/house-a015277-b02313/'\n",
    "driver.get(url)"
   ]
  },
  {
   "cell_type": "code",
   "execution_count": 64,
   "id": "99701335-daaa-423e-9b00-6c2d29596eb5",
   "metadata": {
    "tags": []
   },
   "outputs": [],
   "source": [
    "try:\n",
    "    next_page = driver.find_element(By.LINK_TEXT, \"下一页\")\n",
    "    next_page.click()\n",
    "except NoSuchElementException:\n",
    "    print(\"NoSuchElementException\")"
   ]
  },
  {
   "cell_type": "code",
   "execution_count": 65,
   "id": "430f922b-351e-4fb6-8527-cba9e411d662",
   "metadata": {
    "tags": []
   },
   "outputs": [],
   "source": [
    "data = []\n",
    "houses = driver.find_elements(By.CSS_SELECTOR, 'dl.list.hiddenMap.rel')\n",
    "\n",
    "for house in houses:\n",
    "    try:\n",
    "        title = house.find_element(By.CSS_SELECTOR, 'p.title a').get_attribute('title')\n",
    "        price = house.find_element(By.CSS_SELECTOR, 'span.price').text\n",
    "        house_info = house.find_element(By.CSS_SELECTOR, 'p.font15.mt12.bold').text\n",
    "        info_parts = [x.strip() for x in house_info.split('|')]\n",
    "        area = house.find_element(By.CSS_SELECTOR, 'p.gray6.mt12').text.replace('\\n', ' ')\n",
    "        try:\n",
    "            metro = house.find_element(By.CSS_SELECTOR, 'span.note.subInfor').text\n",
    "        except:\n",
    "            metro = '无'\n",
    "        \n",
    "        item = {\n",
    "            '标题': title,\n",
    "            '价格(元/月)': price,\n",
    "            '租赁类型': info_parts[0],\n",
    "            '户型': info_parts[1],\n",
    "            '面积': info_parts[2],\n",
    "            '朝向': info_parts[3],\n",
    "            '区域': area,\n",
    "            '交通信息': metro\n",
    "        }\n",
    "        \n",
    "        data.append(item)\n",
    "    except Exception as e:\n",
    "        print(f'解析条目时出错：{str(e)}')\n",
    "        continue\n"
   ]
  },
  {
   "cell_type": "code",
   "execution_count": 13,
   "id": "ae91a26a",
   "metadata": {},
   "outputs": [],
   "source": [
    "filename = 'haidian-wanliu.csv'\n",
    "df = pd.DataFrame(data)\n",
    "# !首次写入时\n",
    "df.to_csv(filename,\n",
    "          mode='w',\n",
    "          header=True,\n",
    "          index=False,\n",
    "          encoding='utf_8_sig')"
   ]
  },
  {
   "cell_type": "code",
   "execution_count": 66,
   "id": "b1961c58",
   "metadata": {},
   "outputs": [],
   "source": [
    "filename = 'haidian-wanliu.csv'\n",
    "df = pd.DataFrame(data)\n",
    "\n",
    "df.to_csv(filename,\n",
    "          mode='a',\n",
    "          header=False,\n",
    "          index=False,\n",
    "          encoding='utf_8_sig')"
   ]
  }
 ],
 "metadata": {
  "kernelspec": {
   "display_name": "QuantCourse",
   "language": "python",
   "name": "python3"
  },
  "language_info": {
   "codemirror_mode": {
    "name": "ipython",
    "version": 3
   },
   "file_extension": ".py",
   "mimetype": "text/x-python",
   "name": "python",
   "nbconvert_exporter": "python",
   "pygments_lexer": "ipython3",
   "version": "3.12.8"
  }
 },
 "nbformat": 4,
 "nbformat_minor": 5
}
