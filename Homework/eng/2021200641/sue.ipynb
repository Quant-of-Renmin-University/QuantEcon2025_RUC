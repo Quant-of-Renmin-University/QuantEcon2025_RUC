{
 "cells": [
  {
   "cell_type": "code",
   "execution_count": 19,
   "metadata": {},
   "outputs": [
    {
     "name": "stdout",
     "output_type": "stream",
     "text": [
      "Loading library list...\n",
      "Done\n"
     ]
    }
   ],
   "source": [
    "# Calculate HSZ Replicating Anomalies\n",
    "# SUE: Standardized Unexpected Earnings (Earnings surprise)\n",
    "\n",
    "import pandas as pd\n",
    "import numpy as np\n",
    "import datetime as dt\n",
    "import wrds\n",
    "from dateutil.relativedelta import *\n",
    "from pandas.tseries.offsets import *\n",
    "from pandasql import *\n",
    "import pickle as pkl\n",
    "import pyarrow.feather as feather\n",
    "import os"
   ]
  },
  {
   "cell_type": "code",
   "execution_count": null,
   "metadata": {},
   "outputs": [],
   "source": [
    "ccm = pd.read_feather(\"raw_data/sue_ccm.ftr\")\n",
    "comp = pd.read_feather(\"raw_data/sue_comp.ftr\")"
   ]
  },
  {
   "cell_type": "code",
   "execution_count": 23,
   "metadata": {},
   "outputs": [],
   "source": [
    "ccm['linkdt'] = pd.to_datetime(ccm['linkdt'])\n",
    "ccm['linkenddt'] = pd.to_datetime(ccm['linkenddt'])\n",
    "# if linkenddt is missing then set to today date\n",
    "ccm['linkenddt'] = ccm['linkenddt'].fillna(pd.to_datetime('today'))\n",
    "\n",
    "ccm1 = pd.merge(comp, ccm, how='left', on=['gvkey'])\n",
    "\n",
    "# set link date bounds\n",
    "ccm2 = ccm1[(ccm1['datadate']>=ccm1['linkdt']) & (ccm1['datadate']<=ccm1['linkenddt'])]\n",
    "ccm2 = ccm2[['gvkey', 'permno', 'datadate', 'fyearq', 'fqtr', 'epspxq', 'ajexq']]\n",
    "\n",
    "# the time series of exspxq/ajexq\n",
    "ccm2['eps'] = ccm2['epspxq']/ccm2['ajexq']\n",
    "ccm2.drop_duplicates(['permno', 'datadate'], inplace=True)\n",
    "\n",
    "# merge lag1 to lag9, then calculate stand deviation\n",
    "ccm2 = ccm2[ccm2['eps'].notna()]\n",
    "ccm2['count'] = ccm2.groupby('permno').cumcount() + 1\n",
    "ccm2.sort_values(by=['permno', 'datadate'], inplace=True)\n",
    "\n",
    "ccm2['e1'] = ccm2.groupby(['permno'])['eps'].shift(1)\n",
    "ccm2['e2'] = ccm2.groupby(['permno'])['eps'].shift(2)\n",
    "ccm2['e3'] = ccm2.groupby(['permno'])['eps'].shift(3)\n",
    "ccm2['e4'] = ccm2.groupby(['permno'])['eps'].shift(4)\n",
    "ccm2['e5'] = ccm2.groupby(['permno'])['eps'].shift(5)\n",
    "ccm2['e6'] = ccm2.groupby(['permno'])['eps'].shift(6)\n",
    "ccm2['e7'] = ccm2.groupby(['permno'])['eps'].shift(7)\n",
    "ccm2['e8'] = ccm2.groupby(['permno'])['eps'].shift(8)\n",
    "\n",
    "condlist = [ccm2['count']<=6,\n",
    "            ccm2['count']==7,\n",
    "            ccm2['count']==8,\n",
    "            ccm2['count']>=9]\n",
    "choicelist = [np.nan,\n",
    "              ccm2[['e8', 'e7', 'e6', 'e5', 'e4', 'e3']].std(axis=1),\n",
    "              ccm2[['e8', 'e7', 'e6', 'e5', 'e4', 'e3', 'e2']].std(axis=1),\n",
    "              ccm2[['e8', 'e7', 'e6', 'e5', 'e4', 'e3', 'e2', 'e1']].std(axis=1)]\n",
    "ccm2['sue_std'] = np.select(condlist, choicelist, default=np.nan)\n",
    "\n",
    "ccm2['sue'] = (ccm2['eps'] - ccm2['e4'])/ccm2['sue_std']"
   ]
  },
  {
   "cell_type": "code",
   "execution_count": 24,
   "metadata": {},
   "outputs": [],
   "source": [
    "crsp_msf = pd.read_feather(\"raw_data/sue_crsp_msp.ftr\")"
   ]
  },
  {
   "cell_type": "code",
   "execution_count": 25,
   "metadata": {},
   "outputs": [],
   "source": [
    "ccm2['datadate'] = pd.to_datetime(ccm2['datadate'])\n",
    "ccm2['plus12m'] = ccm2['datadate'] + np.timedelta64(12, 'm')\n",
    "ccm2['plus12m'] = ccm2['plus12m'] + MonthEnd(0)\n",
    "\n",
    "df = sqldf(\"\"\"select a.*, b.date\n",
    "              from ccm2 a left join crsp_msf b \n",
    "              on a.datadate <= b.date\n",
    "              and a.plus12m >= b.date\n",
    "              order by a.permno, b.date, a.datadate desc;\"\"\", globals())\n",
    "\n",
    "df = df.drop_duplicates(['permno', 'date'])\n",
    "df['datadate'] = pd.to_datetime(df['datadate'])\n",
    "df = df[['gvkey', 'permno', 'datadate', 'date', 'sue']]"
   ]
  },
  {
   "cell_type": "code",
   "execution_count": 26,
   "metadata": {},
   "outputs": [],
   "source": [
    "df.to_feather(\"processed_data/sue.ftr\")"
   ]
  }
 ],
 "metadata": {
  "kernelspec": {
   "display_name": "apml",
   "language": "python",
   "name": "python3"
  },
  "language_info": {
   "codemirror_mode": {
    "name": "ipython",
    "version": 3
   },
   "file_extension": ".py",
   "mimetype": "text/x-python",
   "name": "python",
   "nbconvert_exporter": "python",
   "pygments_lexer": "ipython3",
   "version": "3.11.11"
  }
 },
 "nbformat": 4,
 "nbformat_minor": 2
}
