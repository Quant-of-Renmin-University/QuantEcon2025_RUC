{
 "cells": [
  {
   "cell_type": "code",
   "execution_count": null,
   "metadata": {},
   "outputs": [],
   "source": [
    "import pandas as pd\n",
    "import numpy as np\n",
    "import wrds\n",
    "from functions import *\n",
    "import os\n",
    "\n",
    "os.makedirs(name=raw_data_path,exist_ok=True)\n",
    "os.makedirs(name=processed_data_path, exist_ok=True)\n",
    "conn = wrds.Connection()"
   ]
  },
  {
   "cell_type": "markdown",
   "metadata": {},
   "source": [
    "一次性提取出所有需要的数据，避免重复提取"
   ]
  },
  {
   "cell_type": "markdown",
   "metadata": {},
   "source": [
    "#### 1. Raw Data for accounting_60_hxz.ipynb"
   ]
  },
  {
   "cell_type": "code",
   "execution_count": null,
   "metadata": {},
   "outputs": [],
   "source": [
    "comp = conn.raw_sql(\"\"\"\n",
    "                    /*header info*/\n",
    "                    select c.gvkey, f.cusip, f.datadate, f.fyear, c.cik, substr(c.sic,1,2) as sic2, c.sic, c.naics,\n",
    "                    \n",
    "                    /*firm variables*/\n",
    "                    /*income statement*/\n",
    "                    f.sale, f.revt, f.cogs, f.xsga, f.dp, f.xrd, f.xad, f.ib, f.ebitda,\n",
    "                    f.ebit, f.nopi, f.spi, f.pi, f.txp, f.ni, f.txfed, f.txfo, f.txt, f.xint,\n",
    "                    \n",
    "                    /*CF statement and others*/\n",
    "                    f.capx, f.oancf, f.dvt, f.ob, f.gdwlia, f.gdwlip, f.gwo, f.mib, f.oiadp, f.ivao,\n",
    "                    \n",
    "                    /*assets*/\n",
    "                    f.rect, f.act, f.che, f.ppegt, f.invt, f.at, f.aco, f.intan, f.ao, f.ppent, f.gdwl, f.fatb, f.fatl,\n",
    "                    \n",
    "                    /*liabilities*/\n",
    "                    f.lct, f.dlc, f.dltt, f.lt, f.dm, f.dcvt, f.cshrc, \n",
    "                    f.dcpstk, f.pstk, f.ap, f.lco, f.lo, f.drc, f.drlt, f.txdi,\n",
    "                    \n",
    "                    /*equity and other*/\n",
    "                    f.ceq, f.scstkc, f.emp, f.csho, f.seq, f.txditc, f.pstkrv, f.pstkl, f.np, f.txdc, f.dpc, f.ajex,\n",
    "                    \n",
    "                    /*market*/\n",
    "                    abs(f.prcc_f) as prcc_f\n",
    "                    \n",
    "                    from comp.funda as f\n",
    "                    left join comp.company as c\n",
    "                    on f.gvkey = c.gvkey\n",
    "                    \n",
    "                    /*get consolidated, standardized, industrial format statements*/\n",
    "                    where f.indfmt = 'INDL' \n",
    "                    and f.datafmt = 'STD'\n",
    "                    and f.popsrc = 'D'\n",
    "                    and f.consol = 'C'\n",
    "                    and f.datadate >= '01/01/2016'\n",
    "                    \"\"\")\n",
    "comp.to_feather(os.path.join(raw_data_path, \"comp.ftr\"))"
   ]
  },
  {
   "cell_type": "code",
   "execution_count": null,
   "metadata": {},
   "outputs": [],
   "source": [
    "crsp = conn.raw_sql(\"\"\"\n",
    "                      select a.prc, a.ret, a.retx, a.shrout, a.vol, a.cfacpr, a.cfacshr, a.date, a.permno, a.permco,\n",
    "                      b.ticker, b.ncusip, b.shrcd, b.exchcd\n",
    "                      from crsp.msf as a\n",
    "                      left join crsp.msenames as b\n",
    "                      on a.permno=b.permno\n",
    "                      and b.namedt<=a.date\n",
    "                      and a.date<=b.nameendt\n",
    "                      where a.date >= '01/01/2016'\n",
    "                      and b.exchcd between 1 and 3\n",
    "                      \"\"\")\n",
    "crsp.to_feather(os.path.join(raw_data_path,\"crsp.ftr\"))"
   ]
  },
  {
   "cell_type": "code",
   "execution_count": null,
   "metadata": {},
   "outputs": [],
   "source": [
    "comp_q = conn.raw_sql(\"\"\"\n",
    "            /*header info*/\n",
    "            select c.gvkey, f.cusip, f.datadate, f.fyearq,  substr(c.sic,1,2) as sic2, c.sic, f.fqtr, f.rdq,\n",
    "\n",
    "            /*income statement*/\n",
    "            f.ibq, f.saleq, f.txtq, f.revtq, f.cogsq, f.xsgaq, f.revty, f.cogsy, f.saley,\n",
    "\n",
    "            /*balance sheet items*/\n",
    "            f.atq, f.actq, f.cheq, f.lctq, f.dlcq, f.ppentq, f.ppegtq,\n",
    "\n",
    "            /*others*/\n",
    "            abs(f.prccq) as prccq, abs(f.prccq)*f.cshoq as mveq_f, f.ceqq, f.seqq, f.pstkq, f.ltq,\n",
    "            f.pstkrq, f.gdwlq, f.intanq, f.mibq, f.oiadpq, f.ivaoq,\n",
    "            \n",
    "            /* v3 my formula add*/\n",
    "            f.ajexq, f.cshoq, f.txditcq, f.npq, f.xrdy, f.xrdq, f.dpq, f.xintq, f.invtq, f.scstkcy, f.niq,\n",
    "            f.oancfy, f.dlttq, f.rectq, f.acoq, f.apq, f.lcoq, f.loq, f.aoq\n",
    "\n",
    "            from comp.fundq as f\n",
    "            left join comp.company as c\n",
    "            on f.gvkey = c.gvkey\n",
    "\n",
    "            /*get consolidated, standardized, industrial format statements*/\n",
    "            where f.indfmt = 'INDL' \n",
    "            and f.datafmt = 'STD'\n",
    "            and f.popsrc = 'D'\n",
    "            and f.consol = 'C'\n",
    "            and f.datadate >= '01/01/2016'\n",
    "            \"\"\")\n",
    "comp_q.to_feather(os.path.join(raw_data_path, \"comp_q.ftr\"))"
   ]
  },
  {
   "cell_type": "code",
   "execution_count": null,
   "metadata": {},
   "outputs": [],
   "source": [
    "crsp_mom = conn.raw_sql(\"\"\"\n",
    "                select permno, date, ret, retx, prc, shrout, vol\n",
    "                from crsp.msf\n",
    "                where date >= '01/01/2016'\n",
    "                \"\"\")\n",
    "crsp_mom.to_feather(os.path.join(raw_data_path, \"crsp_mom.ftr\"))"
   ]
  },
  {
   "cell_type": "code",
   "execution_count": null,
   "metadata": {},
   "outputs": [],
   "source": [
    "dlret = conn.raw_sql(\"\"\"\n",
    "                     select permno, dlret, dlstdt \n",
    "                     from crsp.msedelist\n",
    "                     \"\"\")\n",
    "dlret.to_feather(os.path.join(raw_data_path, \"dlret.ftr\"))"
   ]
  },
  {
   "cell_type": "code",
   "execution_count": null,
   "metadata": {},
   "outputs": [],
   "source": [
    "ccm_sql = \"\"\"\n",
    "            select gvkey, lpermno as permno, linktype, linkprim, \n",
    "            linkdt, linkenddt\n",
    "            from crsp.ccmxpf_linktable\n",
    "            where substr(linktype,1,1)='L'\n",
    "            and (linkprim ='C' or linkprim='P')\n",
    "        \"\"\"\n",
    "        \n",
    "ccm = conn.raw_sql(ccm_sql)\n",
    "ccm.to_feather(os.path.join(raw_data_path, \"raw_data\"))"
   ]
  },
  {
   "cell_type": "markdown",
   "metadata": {},
   "source": [
    "#### 2. Raw Data for beta.ipynb(rvar_capm,ipynb, rvar_ff3.ipynb, rvar_mean.ipynb)"
   ]
  },
  {
   "cell_type": "code",
   "execution_count": null,
   "metadata": {},
   "outputs": [],
   "source": [
    "# CRSP Block\n",
    "crsp_beta = conn.raw_sql(\"\"\"\n",
    "                    select a.permno, a.date, a.ret, b.rf, b.mktrf, b.smb, b.hml\n",
    "                    from crsp.dsf as a\n",
    "                    left join ff.factors_daily as b\n",
    "                    on a.date=b.date\n",
    "                    where a.date > '01/01/2016'\n",
    "                    \"\"\")\n",
    "crsp_beta.to_feather(os.path.join(raw_data_path, \"crsp_beta.ftr\"))"
   ]
  },
  {
   "cell_type": "markdown",
   "metadata": {},
   "source": [
    "#### 3.Raw Data for ill.ipynb(market_d.ipynb)"
   ]
  },
  {
   "cell_type": "code",
   "execution_count": null,
   "metadata": {},
   "outputs": [],
   "source": [
    "# CRSP Block\n",
    "crsp = conn.raw_sql(\"\"\"\n",
    "                    select a.permno, a.date, a.ret, a.vol, a.prc\n",
    "                    from crsp.dsf as a\n",
    "                    where a.date > '01/01/2016'\n",
    "                    \"\"\")\n",
    "\n",
    "crsp.to_feather(os.path.join(raw_data_path, \"ill_crsp.ftr\"))"
   ]
  },
  {
   "cell_type": "markdown",
   "metadata": {},
   "source": [
    "#### 4. Raw Data for sue.ipynb"
   ]
  },
  {
   "cell_type": "code",
   "execution_count": null,
   "metadata": {},
   "outputs": [],
   "source": [
    "comp = conn.raw_sql(\"\"\"\n",
    "                        select gvkey, datadate, fyearq, fqtr, epspxq, ajexq\n",
    "                        from comp.fundq\n",
    "                        where indfmt = 'INDL' \n",
    "                        and datafmt = 'STD'\n",
    "                        and popsrc = 'D'\n",
    "                        and consol = 'C'\n",
    "                        and datadate >= '01/01/2016'\n",
    "                        \"\"\")\n",
    "\n",
    "comp['datadate'] = pd.to_datetime(comp['datadate'])\n",
    "comp.to_feather(os.path.join(raw_data_path, \"sue_comp.ftr\"))"
   ]
  },
  {
   "cell_type": "code",
   "execution_count": null,
   "metadata": {},
   "outputs": [],
   "source": [
    "ccm = conn.raw_sql(\"\"\"\n",
    "                  select gvkey, lpermno as permno, linktype, linkprim, \n",
    "                  linkdt, linkenddt\n",
    "                  from crsp.ccmxpf_linktable\n",
    "                  where linktype in ('LU', 'LC')\n",
    "                  \"\"\")\n",
    "ccm.to_feather(os.path.join(raw_data_path, \"sue_ccm.ftr\"))"
   ]
  },
  {
   "cell_type": "code",
   "execution_count": null,
   "metadata": {},
   "outputs": [],
   "source": [
    "# populate the quarterly sue to monthly\n",
    "crsp_msf = conn.raw_sql(\"\"\"\n",
    "                        select distinct date\n",
    "                        from crsp.msf\n",
    "                        where date >= '01/01/2016'\n",
    "                        \"\"\")\n",
    "crsp_msf.to_feather(os.path.join(raw_data_path, \"sue_crsp_msp.ftr\"))"
   ]
  },
  {
   "cell_type": "markdown",
   "metadata": {},
   "source": [
    "#### 5. Raw Data for std_dolvol.ipynb(std_turn.ipynb, zerotrade.ipynb)"
   ]
  },
  {
   "cell_type": "code",
   "execution_count": null,
   "metadata": {},
   "outputs": [],
   "source": [
    "# CRSP Block\n",
    "crsp = conn.raw_sql(\"\"\"\n",
    "                    select a.permno, a.date, a.vol, a.prc, a.shrout\n",
    "                    from crsp.dsf as a\n",
    "                    where a.date > '01/01/2016'\n",
    "                    \"\"\")\n",
    "crsp.to_feather(os.path.join(raw_data_path, \"std_dolvol_crsp.ftr\"))"
   ]
  },
  {
   "cell_type": "markdown",
   "metadata": {},
   "source": [
    "#### 6.Raw Data for abr.ipynb"
   ]
  },
  {
   "cell_type": "code",
   "execution_count": null,
   "metadata": {},
   "outputs": [],
   "source": [
    "comp = conn.raw_sql(\"\"\"\n",
    "                    select gvkey, datadate, rdq, fyearq, fqtr\n",
    "                    from comp.fundq\n",
    "                    where indfmt = 'INDL' \n",
    "                   and datafmt = 'STD'\n",
    "                   and popsrc = 'D'\n",
    "                    and consol = 'C'\n",
    "                    and datadate >= '01/01/2016'                    \"\"\")\n",
    "comp = pd.to_feather(\"raw_data/abr_comp.ftr\")"
   ]
  },
  {
   "cell_type": "code",
   "execution_count": null,
   "metadata": {},
   "outputs": [],
   "source": [
    "ccm = conn.raw_sql(\"\"\"\n",
    "                 select gvkey, lpermno as permno, linktype, linkprim, \n",
    "                  linkdt, linkenddt\n",
    "                  from crsp.ccmxpf_linktable\n",
    "                  where linktype in ('LU', 'LC')\n",
    "                  \"\"\")\n",
    "\n",
    "ccm = pd.to_feather(\"raw_data/abr_ccm.ftr\")"
   ]
  },
  {
   "cell_type": "code",
   "execution_count": null,
   "metadata": {},
   "outputs": [],
   "source": [
    "crsp_dsi = conn.raw_sql(\"\"\"\n",
    "                        select distinct date\n",
    "                        from crsp.dsi\n",
    "                        where date >= '01/01/2016'\n",
    "                        \"\"\")\n",
    "crsp_dsi = pd.to_feather(\"raw_data/abr_crsp_dsi.ftr\")"
   ]
  },
  {
   "cell_type": "code",
   "execution_count": null,
   "metadata": {},
   "outputs": [],
   "source": [
    "crsp_d = conn.raw_sql(\"\"\"\n",
    "                      select a.prc, a.ret, a.shrout, a.vol, a.cfacpr, a.cfacshr, a.permno, a.permco, a.date,\n",
    "                      b.siccd, b.ncusip, b.shrcd, b.exchcd\n",
    "                      from crsp.dsf as a\n",
    "                      left join crsp.dsenames as b\n",
    "                      on a.permno=b.permno\n",
    "                     and b.namedt<=a.date\n",
    "                      and a.date<=b.nameendt\n",
    "                      where a.date >= '01/01/2016'\n",
    "                     and b.exchcd between 1 and 3\n",
    "                      and b.shrcd in (10,11)\n",
    "                      \"\"\")\n",
    "crsp_d = pd.to_feather(\"raw_data/abr_crsp_d.ftr\")"
   ]
  }
 ],
 "metadata": {
  "kernelspec": {
   "display_name": "apml",
   "language": "python",
   "name": "python3"
  },
  "language_info": {
   "codemirror_mode": {
    "name": "ipython",
    "version": 3
   },
   "file_extension": ".py",
   "mimetype": "text/x-python",
   "name": "python",
   "nbconvert_exporter": "python",
   "pygments_lexer": "ipython3",
   "version": "3.11.11"
  }
 },
 "nbformat": 4,
 "nbformat_minor": 2
}
