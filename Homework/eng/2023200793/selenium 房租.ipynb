{
 "cells": [
  {
   "cell_type": "code",
   "execution_count": 1,
   "id": "d5c4fd15",
   "metadata": {},
   "outputs": [],
   "source": [
    "from selenium import webdriver\n",
    "import pandas as pd\n",
    "import numpy as np\n",
    "from selenium.webdriver.common.by import By\n",
    "from selenium.webdriver.support.ui import WebDriverWait\n",
    "from selenium.webdriver.support import expected_conditions as EC\n",
    "from selenium.common import NoSuchElementException\n",
    "import re\n"
   ]
  },
  {
   "cell_type": "code",
   "execution_count": 8,
   "id": "61a210d2",
   "metadata": {},
   "outputs": [
    {
     "name": "stderr",
     "output_type": "stream",
     "text": [
      "There was an error managing chromedriver (error sending request for url (https://googlechromelabs.github.io/chrome-for-testing/known-good-versions-with-downloads.json)); using driver found in the cache\n"
     ]
    }
   ],
   "source": [
    "driver = webdriver.Chrome()\n",
    "url=\"https://zu.fang.com/house-a015277-b02313/\"\n",
    "driver.get(url)"
   ]
  },
  {
   "cell_type": "code",
   "execution_count": 9,
   "id": "5e484b75",
   "metadata": {},
   "outputs": [
    {
     "data": {
      "text/plain": [
       "<selenium.webdriver.chrome.webdriver.WebDriver (session=\"7c53b23866eac7e5be08fba5345f5d18\")>"
      ]
     },
     "execution_count": 9,
     "metadata": {},
     "output_type": "execute_result"
    }
   ],
   "source": [
    "driver"
   ]
  },
  {
   "cell_type": "code",
   "execution_count": 10,
   "id": "3e998f43",
   "metadata": {},
   "outputs": [
    {
     "name": "stdout",
     "output_type": "stream",
     "text": [
      "NoSuchElementException\n",
      "NoSuchElementException\n",
      "NoSuchElementException\n",
      "NoSuchElementException\n",
      "NoSuchElementException\n"
     ]
    }
   ],
   "source": [
    "items=driver.find_elements(By.CSS_SELECTOR, \"dd.info.rel\")\n",
    "house_data=[]\n",
    "\n",
    "i=0\n",
    "while i<=4:\n",
    "    for driver in items :\n",
    "        title_element = driver.find_element(By.CSS_SELECTOR, \".title a\")\n",
    "        title = title_element.get_attribute(\"title\")\n",
    "        house_info = driver.find_element(By.CLASS_NAME, \"font15.mt12.bold\").text\n",
    "        address=driver.find_element(By.CSS_SELECTOR, \"p.gray6.mt12\").text\n",
    "        traffic=driver.find_element(By.CSS_SELECTOR,\"span.note.subInfor\").text\n",
    "        price=driver.find_element(By.CSS_SELECTOR,\"span.price\").text\n",
    "        item={\"名字\":title,\"房子信息\":house_info,\"地址\":address,\"traffic\":traffic,\"价格\":price}\n",
    "        house_data.append(item)\n",
    "    try:\n",
    "        next_page = driver.find_element(By.LINK_TEXT, \"下一页\")\n",
    "        next_page.click()\n",
    "    except NoSuchElementException:\n",
    "        print(\"NoSuchElementException\")\n",
    "    i+=1\n",
    "\n"
   ]
  },
  {
   "cell_type": "code",
   "execution_count": 23,
   "id": "29d61cba",
   "metadata": {},
   "outputs": [],
   "source": [
    "cleaned_data=[]\n",
    "\n",
    "for house in house_data:\n",
    "    house_info=house[\"房子信息\"].split(\"|\")\n",
    "    \n",
    "    house={\n",
    "    \"名字\":house[\"名字\"],\n",
    "    \"出租情况\":house_info[0],\n",
    "    \"房子布局\":house_info[1],\n",
    "    '面积(㎡)': int(house_info[2][:-1]),\n",
    "    \"朝向\":house_info[3] ,\n",
    "     \"地址\":house['地址'],\n",
    "     \"交通\":house['traffic'],\n",
    "    \"价格\":int(house[\"价格\"])}\n",
    "    cleaned_data.append(house)\n",
    "    \n",
    "    \n",
    "\n",
    "df= pd.DataFrame(cleaned_data)    "
   ]
  },
  {
   "cell_type": "code",
   "execution_count": 27,
   "id": "39eb485d",
   "metadata": {},
   "outputs": [],
   "source": [
    "df.to_csv(\"/Users/macbookair/Documents/万柳租金信息.csv\",encoding=\"utf-8-sig\")"
   ]
  },
  {
   "cell_type": "code",
   "execution_count": 25,
   "id": "9ad55fb1",
   "metadata": {},
   "outputs": [
    {
     "data": {
      "text/plain": [
       "0        6000\n",
       "1        6000\n",
       "2      150000\n",
       "3       55000\n",
       "4       60000\n",
       "        ...  \n",
       "295     15500\n",
       "296     13000\n",
       "297     31000\n",
       "298     28000\n",
       "299    126000\n",
       "Name: 价格, Length: 300, dtype: int64"
      ]
     },
     "execution_count": 25,
     "metadata": {},
     "output_type": "execute_result"
    }
   ],
   "source": [
    "df[\"价格\"]"
   ]
  },
  {
   "cell_type": "code",
   "execution_count": 26,
   "id": "9dc74f2e",
   "metadata": {},
   "outputs": [],
   "source": [
    "df[\"unit price\"]=df[\"价格\"]/df[\"价格\"]"
   ]
  },
  {
   "cell_type": "code",
   "execution_count": null,
   "id": "915d56db",
   "metadata": {},
   "outputs": [],
   "source": []
  },
  {
   "cell_type": "code",
   "execution_count": null,
   "id": "8c90ce5b",
   "metadata": {},
   "outputs": [],
   "source": []
  }
 ],
 "metadata": {
  "kernelspec": {
   "display_name": "Python 3 (ipykernel)",
   "language": "python",
   "name": "python3"
  },
  "language_info": {
   "codemirror_mode": {
    "name": "ipython",
    "version": 3
   },
   "file_extension": ".py",
   "mimetype": "text/x-python",
   "name": "python",
   "nbconvert_exporter": "python",
   "pygments_lexer": "ipython3",
   "version": "3.11.5"
  }
 },
 "nbformat": 4,
 "nbformat_minor": 5
}
