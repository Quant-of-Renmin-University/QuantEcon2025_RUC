{
 "cells": [
  {
   "cell_type": "code",
   "execution_count": 1,
   "id": "b21edad5",
   "metadata": {},
   "outputs": [],
   "source": [
    "from selenium import webdriver\n",
    "import pandas as pd\n",
    "import numpy as np\n",
    "from selenium.webdriver.common.by import By\n",
    "from selenium.webdriver.support.ui import WebDriverWait\n",
    "from selenium.webdriver.support import expected_conditions as EC\n",
    "from selenium.common import NoSuchElementException\n",
    "import re\n"
   ]
  },
  {
   "cell_type": "code",
   "execution_count": 2,
   "id": "46614972",
   "metadata": {},
   "outputs": [],
   "source": [
    "driver = webdriver.Chrome()\n",
    "url=\"https://esf.fang.com/house-a015277-b02655/\"\n",
    "driver.get(url)"
   ]
  },
  {
   "cell_type": "code",
   "execution_count": 4,
   "id": "420d8851",
   "metadata": {},
   "outputs": [
    {
     "name": "stdout",
     "output_type": "stream",
     "text": [
      "NoSuchElementException\n",
      "NoSuchElementException\n"
     ]
    }
   ],
   "source": [
    "i=0\n",
    "house_data=[]\n",
    "cleaned_data=[]\n",
    "while i<=3:\n",
    "    houses=driver.find_elements(By.CSS_SELECTOR,\"dl.clearfix\")\n",
    "    for house in houses:\n",
    "        house_name=house.find_element(By.CSS_SELECTOR,\".clearfix\").text\n",
    "        house_info=house.find_element(By.CSS_SELECTOR,\".tel_shop\").text\n",
    "        house_price=house.find_element(By.CSS_SELECTOR,\".price_right\").text\n",
    "        #transport=house.find_element(By.CSS_SELECTOR,\".bg_none icon_dt\").text\n",
    "        item={\"名字\":house_name,\"房子信息\":house_info,\"价格\":house_price}\n",
    "        house_data.append(item)\n",
    "    try:\n",
    "        next_page = driver.find_element(By.LINK_TEXT, \"下一页\")\n",
    "        next_page.click()\n",
    "    except NoSuchElementException:\n",
    "        print(\"NoSuchElementException\")\n",
    "    i+=1\n",
    "    "
   ]
  },
  {
   "cell_type": "code",
   "execution_count": 77,
   "id": "31c764b0",
   "metadata": {},
   "outputs": [],
   "source": [
    "#价格数据清洗 整理\n",
    "def parse_price(price):\n",
    "    price_match = re.search(r'(\\d+)万', price)\n",
    "    unit_price_match = re.search(r'(\\d+)元/㎡', price)\n",
    "    return {\n",
    "        '总价(万)': int(price_match.group(1)) if price_match else None,\n",
    "        '单价(元/㎡)': int(unit_price_match.group(1)) if unit_price_match else None\n",
    "    }\n"
   ]
  },
  {
   "cell_type": "code",
   "execution_count": null,
   "id": "82549259",
   "metadata": {},
   "outputs": [],
   "source": []
  },
  {
   "cell_type": "code",
   "execution_count": 78,
   "id": "19637359",
   "metadata": {},
   "outputs": [],
   "source": [
    "#整理为dataframe\n",
    "info=[]\n",
    "for item in house_data:\n",
    "    house_info=item[\"房子信息\"].split(\"|\")\n",
    "    price_info=parse_price(item[\"价格\"])\n",
    "    cleaned_entry = { \n",
    "        '名字': item['名字'].replace('\\n', ''),\n",
    "        \"房子布局\":house_info[0],\n",
    "        '面积(㎡)': float(house_info[1][:-2]),\n",
    "            '楼层': house_info[2],\n",
    "            '朝向':house_info[3] ,\n",
    "            '建成年份':int(house_info[4][:-3]) ,\n",
    "         **price_info\n",
    "    }\n",
    "    info.append(cleaned_entry)\n",
    "df= pd.DataFrame(info)"
   ]
  },
  {
   "cell_type": "code",
   "execution_count": 82,
   "id": "7c132d13",
   "metadata": {},
   "outputs": [],
   "source": [
    "df.to_csv(\"/Users/macbookair/Documents/苏州街房子信息.csv\",encoding=\"utf-8-sig\")"
   ]
  },
  {
   "cell_type": "code",
   "execution_count": null,
   "id": "7dd49503",
   "metadata": {},
   "outputs": [],
   "source": []
  },
  {
   "cell_type": "code",
   "execution_count": null,
   "id": "feef2b1f",
   "metadata": {},
   "outputs": [],
   "source": []
  },
  {
   "cell_type": "code",
   "execution_count": null,
   "id": "011f639f",
   "metadata": {},
   "outputs": [],
   "source": []
  }
 ],
 "metadata": {
  "kernelspec": {
   "display_name": "Python 3 (ipykernel)",
   "language": "python",
   "name": "python3"
  },
  "language_info": {
   "codemirror_mode": {
    "name": "ipython",
    "version": 3
   },
   "file_extension": ".py",
   "mimetype": "text/x-python",
   "name": "python",
   "nbconvert_exporter": "python",
   "pygments_lexer": "ipython3",
   "version": "3.11.5"
  }
 },
 "nbformat": 4,
 "nbformat_minor": 5
}
