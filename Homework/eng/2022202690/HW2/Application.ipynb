{
 "cells": [
  {
   "cell_type": "code",
   "execution_count": 1,
   "id": "945c07fe",
   "metadata": {},
   "outputs": [
    {
     "name": "stdout",
     "output_type": "stream",
     "text": [
      "Collecting docx2pdf\n",
      "  Downloading docx2pdf-0.1.8-py3-none-any.whl (6.7 kB)\n",
      "Requirement already satisfied: pywin32>=227 in c:\\users\\jasonrod\\anaconda3\\lib\\site-packages (from docx2pdf) (302)\n",
      "Requirement already satisfied: tqdm>=4.41.0 in c:\\users\\jasonrod\\anaconda3\\lib\\site-packages (from docx2pdf) (4.64.1)\n",
      "Requirement already satisfied: colorama in c:\\users\\jasonrod\\anaconda3\\lib\\site-packages (from tqdm>=4.41.0->docx2pdf) (0.4.5)\n",
      "Installing collected packages: docx2pdf\n",
      "Successfully installed docx2pdf-0.1.8\n",
      "Note: you may need to restart the kernel to use updated packages.\n"
     ]
    }
   ],
   "source": [
    "pip install docx2pdf"
   ]
  },
  {
   "cell_type": "code",
   "execution_count": 2,
   "id": "463e12df",
   "metadata": {},
   "outputs": [
    {
     "name": "stdout",
     "output_type": "stream",
     "text": [
      "Requirement already satisfied: ipywidgets in c:\\users\\jasonrod\\anaconda3\\lib\\site-packages (7.6.5)\n",
      "Requirement already satisfied: ipython>=4.0.0 in c:\\users\\jasonrod\\anaconda3\\lib\\site-packages (from ipywidgets) (7.31.1)\n",
      "Requirement already satisfied: ipykernel>=4.5.1 in c:\\users\\jasonrod\\anaconda3\\lib\\site-packages (from ipywidgets) (6.15.2)\n",
      "Requirement already satisfied: widgetsnbextension~=3.5.0 in c:\\users\\jasonrod\\anaconda3\\lib\\site-packages (from ipywidgets) (3.5.2)\n",
      "Requirement already satisfied: traitlets>=4.3.1 in c:\\users\\jasonrod\\anaconda3\\lib\\site-packages (from ipywidgets) (5.1.1)\n",
      "Requirement already satisfied: nbformat>=4.2.0 in c:\\users\\jasonrod\\anaconda3\\lib\\site-packages (from ipywidgets) (5.5.0)\n",
      "Requirement already satisfied: ipython-genutils~=0.2.0 in c:\\users\\jasonrod\\anaconda3\\lib\\site-packages (from ipywidgets) (0.2.0)\n",
      "Requirement already satisfied: jupyterlab-widgets>=1.0.0 in c:\\users\\jasonrod\\anaconda3\\lib\\site-packages (from ipywidgets) (1.0.0)\n",
      "Requirement already satisfied: psutil in c:\\users\\jasonrod\\anaconda3\\lib\\site-packages (from ipykernel>=4.5.1->ipywidgets) (5.9.0)\n",
      "Requirement already satisfied: pyzmq>=17 in c:\\users\\jasonrod\\anaconda3\\lib\\site-packages (from ipykernel>=4.5.1->ipywidgets) (23.2.0)\n",
      "Requirement already satisfied: tornado>=6.1 in c:\\users\\jasonrod\\anaconda3\\lib\\site-packages (from ipykernel>=4.5.1->ipywidgets) (6.1)\n",
      "Requirement already satisfied: debugpy>=1.0 in c:\\users\\jasonrod\\anaconda3\\lib\\site-packages (from ipykernel>=4.5.1->ipywidgets) (1.5.1)\n",
      "Requirement already satisfied: jupyter-client>=6.1.12 in c:\\users\\jasonrod\\anaconda3\\lib\\site-packages (from ipykernel>=4.5.1->ipywidgets) (7.3.4)\n",
      "Requirement already satisfied: matplotlib-inline>=0.1 in c:\\users\\jasonrod\\anaconda3\\lib\\site-packages (from ipykernel>=4.5.1->ipywidgets) (0.1.6)\n",
      "Requirement already satisfied: nest-asyncio in c:\\users\\jasonrod\\anaconda3\\lib\\site-packages (from ipykernel>=4.5.1->ipywidgets) (1.5.5)\n",
      "Requirement already satisfied: packaging in c:\\users\\jasonrod\\anaconda3\\lib\\site-packages (from ipykernel>=4.5.1->ipywidgets) (21.3)\n",
      "Requirement already satisfied: pygments in c:\\users\\jasonrod\\anaconda3\\lib\\site-packages (from ipython>=4.0.0->ipywidgets) (2.11.2)\n",
      "Requirement already satisfied: colorama in c:\\users\\jasonrod\\anaconda3\\lib\\site-packages (from ipython>=4.0.0->ipywidgets) (0.4.5)\n",
      "Requirement already satisfied: backcall in c:\\users\\jasonrod\\anaconda3\\lib\\site-packages (from ipython>=4.0.0->ipywidgets) (0.2.0)\n",
      "Requirement already satisfied: jedi>=0.16 in c:\\users\\jasonrod\\anaconda3\\lib\\site-packages (from ipython>=4.0.0->ipywidgets) (0.18.1)\n",
      "Requirement already satisfied: setuptools>=18.5 in c:\\users\\jasonrod\\anaconda3\\lib\\site-packages (from ipython>=4.0.0->ipywidgets) (63.4.1)\n",
      "Requirement already satisfied: pickleshare in c:\\users\\jasonrod\\anaconda3\\lib\\site-packages (from ipython>=4.0.0->ipywidgets) (0.7.5)\n",
      "Requirement already satisfied: decorator in c:\\users\\jasonrod\\anaconda3\\lib\\site-packages (from ipython>=4.0.0->ipywidgets) (5.1.1)\n",
      "Requirement already satisfied: prompt-toolkit!=3.0.0,!=3.0.1,<3.1.0,>=2.0.0 in c:\\users\\jasonrod\\anaconda3\\lib\\site-packages (from ipython>=4.0.0->ipywidgets) (3.0.20)\n",
      "Requirement already satisfied: fastjsonschema in c:\\users\\jasonrod\\anaconda3\\lib\\site-packages (from nbformat>=4.2.0->ipywidgets) (2.16.2)\n",
      "Requirement already satisfied: jsonschema>=2.6 in c:\\users\\jasonrod\\anaconda3\\lib\\site-packages (from nbformat>=4.2.0->ipywidgets) (4.16.0)\n",
      "Requirement already satisfied: jupyter_core in c:\\users\\jasonrod\\anaconda3\\lib\\site-packages (from nbformat>=4.2.0->ipywidgets) (4.11.1)\n",
      "Requirement already satisfied: notebook>=4.4.1 in c:\\users\\jasonrod\\anaconda3\\lib\\site-packages (from widgetsnbextension~=3.5.0->ipywidgets) (6.4.12)\n",
      "Requirement already satisfied: parso<0.9.0,>=0.8.0 in c:\\users\\jasonrod\\anaconda3\\lib\\site-packages (from jedi>=0.16->ipython>=4.0.0->ipywidgets) (0.8.3)\n",
      "Requirement already satisfied: pyrsistent!=0.17.0,!=0.17.1,!=0.17.2,>=0.14.0 in c:\\users\\jasonrod\\anaconda3\\lib\\site-packages (from jsonschema>=2.6->nbformat>=4.2.0->ipywidgets) (0.18.0)\n",
      "Requirement already satisfied: attrs>=17.4.0 in c:\\users\\jasonrod\\anaconda3\\lib\\site-packages (from jsonschema>=2.6->nbformat>=4.2.0->ipywidgets) (21.4.0)\n",
      "Requirement already satisfied: entrypoints in c:\\users\\jasonrod\\anaconda3\\lib\\site-packages (from jupyter-client>=6.1.12->ipykernel>=4.5.1->ipywidgets) (0.4)\n",
      "Requirement already satisfied: python-dateutil>=2.8.2 in c:\\users\\jasonrod\\anaconda3\\lib\\site-packages (from jupyter-client>=6.1.12->ipykernel>=4.5.1->ipywidgets) (2.8.2)\n",
      "Requirement already satisfied: pywin32>=1.0 in c:\\users\\jasonrod\\anaconda3\\lib\\site-packages (from jupyter_core->nbformat>=4.2.0->ipywidgets) (302)\n",
      "Requirement already satisfied: Send2Trash>=1.8.0 in c:\\users\\jasonrod\\anaconda3\\lib\\site-packages (from notebook>=4.4.1->widgetsnbextension~=3.5.0->ipywidgets) (1.8.0)\n",
      "Requirement already satisfied: nbconvert>=5 in c:\\users\\jasonrod\\anaconda3\\lib\\site-packages (from notebook>=4.4.1->widgetsnbextension~=3.5.0->ipywidgets) (6.4.4)\n",
      "Requirement already satisfied: terminado>=0.8.3 in c:\\users\\jasonrod\\anaconda3\\lib\\site-packages (from notebook>=4.4.1->widgetsnbextension~=3.5.0->ipywidgets) (0.13.1)\n",
      "Requirement already satisfied: prometheus-client in c:\\users\\jasonrod\\anaconda3\\lib\\site-packages (from notebook>=4.4.1->widgetsnbextension~=3.5.0->ipywidgets) (0.14.1)\n",
      "Requirement already satisfied: jinja2 in c:\\users\\jasonrod\\anaconda3\\lib\\site-packages (from notebook>=4.4.1->widgetsnbextension~=3.5.0->ipywidgets) (2.11.3)\n",
      "Requirement already satisfied: argon2-cffi in c:\\users\\jasonrod\\anaconda3\\lib\\site-packages (from notebook>=4.4.1->widgetsnbextension~=3.5.0->ipywidgets) (21.3.0)\n",
      "Requirement already satisfied: wcwidth in c:\\users\\jasonrod\\anaconda3\\lib\\site-packages (from prompt-toolkit!=3.0.0,!=3.0.1,<3.1.0,>=2.0.0->ipython>=4.0.0->ipywidgets) (0.2.5)\n",
      "Requirement already satisfied: pyparsing!=3.0.5,>=2.0.2 in c:\\users\\jasonrod\\anaconda3\\lib\\site-packages (from packaging->ipykernel>=4.5.1->ipywidgets) (3.0.9)\n",
      "Requirement already satisfied: pandocfilters>=1.4.1 in c:\\users\\jasonrod\\anaconda3\\lib\\site-packages (from nbconvert>=5->notebook>=4.4.1->widgetsnbextension~=3.5.0->ipywidgets) (1.5.0)\n",
      "Requirement already satisfied: jupyterlab-pygments in c:\\users\\jasonrod\\anaconda3\\lib\\site-packages (from nbconvert>=5->notebook>=4.4.1->widgetsnbextension~=3.5.0->ipywidgets) (0.1.2)\n",
      "Requirement already satisfied: defusedxml in c:\\users\\jasonrod\\anaconda3\\lib\\site-packages (from nbconvert>=5->notebook>=4.4.1->widgetsnbextension~=3.5.0->ipywidgets) (0.7.1)\n",
      "Requirement already satisfied: bleach in c:\\users\\jasonrod\\anaconda3\\lib\\site-packages (from nbconvert>=5->notebook>=4.4.1->widgetsnbextension~=3.5.0->ipywidgets) (4.1.0)\n",
      "Requirement already satisfied: beautifulsoup4 in c:\\users\\jasonrod\\anaconda3\\lib\\site-packages (from nbconvert>=5->notebook>=4.4.1->widgetsnbextension~=3.5.0->ipywidgets) (4.11.1)\n",
      "Requirement already satisfied: testpath in c:\\users\\jasonrod\\anaconda3\\lib\\site-packages (from nbconvert>=5->notebook>=4.4.1->widgetsnbextension~=3.5.0->ipywidgets) (0.6.0)\n",
      "Requirement already satisfied: mistune<2,>=0.8.1 in c:\\users\\jasonrod\\anaconda3\\lib\\site-packages (from nbconvert>=5->notebook>=4.4.1->widgetsnbextension~=3.5.0->ipywidgets) (0.8.4)\n",
      "Requirement already satisfied: nbclient<0.6.0,>=0.5.0 in c:\\users\\jasonrod\\anaconda3\\lib\\site-packages (from nbconvert>=5->notebook>=4.4.1->widgetsnbextension~=3.5.0->ipywidgets) (0.5.13)\n",
      "Requirement already satisfied: MarkupSafe>=0.23 in c:\\users\\jasonrod\\anaconda3\\lib\\site-packages (from jinja2->notebook>=4.4.1->widgetsnbextension~=3.5.0->ipywidgets) (2.0.1)\n",
      "Requirement already satisfied: six>=1.5 in c:\\users\\jasonrod\\anaconda3\\lib\\site-packages (from python-dateutil>=2.8.2->jupyter-client>=6.1.12->ipykernel>=4.5.1->ipywidgets) (1.16.0)\n",
      "Requirement already satisfied: pywinpty>=1.1.0 in c:\\users\\jasonrod\\anaconda3\\lib\\site-packages (from terminado>=0.8.3->notebook>=4.4.1->widgetsnbextension~=3.5.0->ipywidgets) (2.0.2)\n",
      "Requirement already satisfied: argon2-cffi-bindings in c:\\users\\jasonrod\\anaconda3\\lib\\site-packages (from argon2-cffi->notebook>=4.4.1->widgetsnbextension~=3.5.0->ipywidgets) (21.2.0)\n",
      "Requirement already satisfied: cffi>=1.0.1 in c:\\users\\jasonrod\\anaconda3\\lib\\site-packages (from argon2-cffi-bindings->argon2-cffi->notebook>=4.4.1->widgetsnbextension~=3.5.0->ipywidgets) (1.15.1)\n",
      "Requirement already satisfied: soupsieve>1.2 in c:\\users\\jasonrod\\anaconda3\\lib\\site-packages (from beautifulsoup4->nbconvert>=5->notebook>=4.4.1->widgetsnbextension~=3.5.0->ipywidgets) (2.3.1)\n",
      "Requirement already satisfied: webencodings in c:\\users\\jasonrod\\anaconda3\\lib\\site-packages (from bleach->nbconvert>=5->notebook>=4.4.1->widgetsnbextension~=3.5.0->ipywidgets) (0.5.1)\n",
      "Requirement already satisfied: pycparser in c:\\users\\jasonrod\\anaconda3\\lib\\site-packages (from cffi>=1.0.1->argon2-cffi-bindings->argon2-cffi->notebook>=4.4.1->widgetsnbextension~=3.5.0->ipywidgets) (2.21)\n",
      "Note: you may need to restart the kernel to use updated packages.\n"
     ]
    }
   ],
   "source": [
    "pip install ipywidgets"
   ]
  },
  {
   "cell_type": "code",
   "execution_count": 1,
   "id": "5c4239da",
   "metadata": {},
   "outputs": [],
   "source": [
    "from ipywidgets import interact\n",
    "import ipywidgets as widgets"
   ]
  },
  {
   "cell_type": "code",
   "execution_count": 2,
   "id": "a7b49c0f",
   "metadata": {},
   "outputs": [],
   "source": [
    "import pandas as pd\n",
    "from docxtpl import DocxTemplate\n",
    "from docx2pdf import convert\n",
    "import os"
   ]
  },
  {
   "cell_type": "code",
   "execution_count": 3,
   "id": "4fcfab11",
   "metadata": {},
   "outputs": [
    {
     "name": "stdout",
     "output_type": "stream",
     "text": [
      "Collecting docxtpl\n",
      "  Downloading docxtpl-0.19.1-py2.py3-none-any.whl (29 kB)\n",
      "Requirement already satisfied: jinja2 in c:\\users\\jasonrod\\anaconda3\\lib\\site-packages (from docxtpl) (2.11.3)\n",
      "Collecting docxcompose\n",
      "  Downloading docxcompose-1.4.0.tar.gz (20 kB)\n",
      "  Preparing metadata (setup.py): started\n",
      "  Preparing metadata (setup.py): finished with status 'done'\n",
      "Requirement already satisfied: lxml in c:\\users\\jasonrod\\anaconda3\\lib\\site-packages (from docxtpl) (4.9.1)\n",
      "Collecting python-docx>=1.1.1\n",
      "  Downloading python_docx-1.1.2-py3-none-any.whl (244 kB)\n",
      "     -------------------------------------- 244.3/244.3 kB 1.5 MB/s eta 0:00:00\n",
      "Collecting typing-extensions>=4.9.0\n",
      "  Downloading typing_extensions-4.13.0-py3-none-any.whl (45 kB)\n",
      "     ---------------------------------------- 45.7/45.7 kB 2.2 MB/s eta 0:00:00\n",
      "Requirement already satisfied: setuptools in c:\\users\\jasonrod\\anaconda3\\lib\\site-packages (from docxcompose->docxtpl) (63.4.1)\n",
      "Requirement already satisfied: six in c:\\users\\jasonrod\\anaconda3\\lib\\site-packages (from docxcompose->docxtpl) (1.16.0)\n",
      "Requirement already satisfied: babel in c:\\users\\jasonrod\\anaconda3\\lib\\site-packages (from docxcompose->docxtpl) (2.9.1)\n",
      "Requirement already satisfied: MarkupSafe>=0.23 in c:\\users\\jasonrod\\anaconda3\\lib\\site-packages (from jinja2->docxtpl) (2.0.1)\n",
      "Requirement already satisfied: pytz>=2015.7 in c:\\users\\jasonrod\\anaconda3\\lib\\site-packages (from babel->docxcompose->docxtpl) (2022.1)\n",
      "Building wheels for collected packages: docxcompose\n",
      "  Building wheel for docxcompose (setup.py): started\n",
      "  Building wheel for docxcompose (setup.py): finished with status 'done'\n",
      "  Created wheel for docxcompose: filename=docxcompose-1.4.0-py3-none-any.whl size=23268 sha256=0ea6528dcc3755d7b4e43382d8880c5fac62e2bef569f96ebefdb657cb35f31d\n",
      "  Stored in directory: c:\\users\\jasonrod\\appdata\\local\\pip\\cache\\wheels\\f9\\22\\4d\\418ab9840b5f20cdd451d9adbc10f29f9c455c86c04f46648d\n",
      "Successfully built docxcompose\n",
      "Installing collected packages: typing-extensions, python-docx, docxcompose, docxtpl\n",
      "  Attempting uninstall: typing-extensions\n",
      "    Found existing installation: typing_extensions 4.3.0\n",
      "    Uninstalling typing_extensions-4.3.0:\n",
      "      Successfully uninstalled typing_extensions-4.3.0\n",
      "Successfully installed docxcompose-1.4.0 docxtpl-0.19.1 python-docx-1.1.2 typing-extensions-4.13.0\n",
      "Note: you may need to restart the kernel to use updated packages.\n"
     ]
    }
   ],
   "source": [
    "pip install docxtpl"
   ]
  },
  {
   "cell_type": "code",
   "execution_count": 3,
   "id": "13c86c21",
   "metadata": {},
   "outputs": [
    {
     "name": "stdout",
     "output_type": "stream",
     "text": [
      "                                     University Names  \\\n",
      "0                                  Harvard University   \n",
      "1         Massachusetts Institute of Technology (MIT)   \n",
      "2                  University of California, Berkeley   \n",
      "3                               University of Chicago   \n",
      "4                           Paris School of Economics   \n",
      "5                                Princeton University   \n",
      "6                                 Stanford University   \n",
      "7                  Toulouse School of Economics (TSE)   \n",
      "8                                University of Oxford   \n",
      "9                                     Yale University   \n",
      "10                Barcelona School of Economics (BSE)   \n",
      "11                                Columbia University   \n",
      "12                          New York University (NYU)   \n",
      "13                                   Brown University   \n",
      "14                         University of Pennsylvania   \n",
      "15                                  Boston University   \n",
      "16                   London School of Economics (LSE)   \n",
      "17                    University College London (UCL)   \n",
      "18         University of California, San Diego (UCSD)   \n",
      "19                            Northwestern University   \n",
      "20                                  Dartmouth College   \n",
      "21                             University of Michigan   \n",
      "22                                 Tilburg University   \n",
      "23       University of California, Los Angeles (UCLA)   \n",
      "24  Columbia University (Graduate School of Business)   \n",
      "25                  University of Southern California   \n",
      "26                     University of British Columbia   \n",
      "27                    University of Wisconsin-Madison   \n",
      "28                              University of Toronto   \n",
      "29                                    Duke University   \n",
      "\n",
      "                        Major1                    Major2            Major3  \n",
      "0   MA in Economics Department  MA in Finance Department  PhD in Economics  \n",
      "1   MA in Economics Department  MA in Finance Department  PhD in Economics  \n",
      "2   MA in Economics Department  MA in Finance Department  PhD in Economics  \n",
      "3   MA in Economics Department  MA in Finance Department  PhD in Economics  \n",
      "4   MA in Economics Department  MA in Finance Department  PhD in Economics  \n",
      "5   MA in Economics Department  MA in Finance Department  PhD in Economics  \n",
      "6   MA in Economics Department  MA in Finance Department  PhD in Economics  \n",
      "7   MA in Economics Department  MA in Finance Department  PhD in Economics  \n",
      "8   MA in Economics Department  MA in Finance Department  PhD in Economics  \n",
      "9   MA in Economics Department  MA in Finance Department  PhD in Economics  \n",
      "10  MA in Economics Department  MA in Finance Department  PhD in Economics  \n",
      "11  MA in Economics Department  MA in Finance Department  PhD in Economics  \n",
      "12  MA in Economics Department  MA in Finance Department  PhD in Economics  \n",
      "13  MA in Economics Department  MA in Finance Department  PhD in Economics  \n",
      "14  MA in Economics Department  MA in Finance Department  PhD in Economics  \n",
      "15  MA in Economics Department  MA in Finance Department  PhD in Economics  \n",
      "16  MA in Economics Department  MA in Finance Department  PhD in Economics  \n",
      "17  MA in Economics Department  MA in Finance Department  PhD in Economics  \n",
      "18  MA in Economics Department  MA in Finance Department  PhD in Economics  \n",
      "19  MA in Economics Department  MA in Finance Department  PhD in Economics  \n",
      "20  MA in Economics Department  MA in Finance Department  PhD in Economics  \n",
      "21  MA in Economics Department  MA in Finance Department  PhD in Economics  \n",
      "22  MA in Economics Department  MA in Finance Department  PhD in Economics  \n",
      "23  MA in Economics Department  MA in Finance Department  PhD in Economics  \n",
      "24  MA in Economics Department  MA in Finance Department  PhD in Economics  \n",
      "25  MA in Economics Department  MA in Finance Department  PhD in Economics  \n",
      "26  MA in Economics Department  MA in Finance Department  PhD in Economics  \n",
      "27  MA in Economics Department  MA in Finance Department  PhD in Economics  \n",
      "28  MA in Economics Department  MA in Finance Department  PhD in Economics  \n",
      "29  MA in Economics Department  MA in Finance Department  PhD in Economics  \n"
     ]
    }
   ],
   "source": [
    "# 读取 Excel 文件\n",
    "excel_path = r\"C:\\Users\\jasonrod\\Desktop\\自用数据库\\世界大学数据\\List.xlsx\"  # 替换为你的文件路径\n",
    "df = pd.read_excel(excel_path)\n",
    "print(df)"
   ]
  },
  {
   "cell_type": "code",
   "execution_count": 5,
   "id": "c50b1641",
   "metadata": {},
   "outputs": [
    {
     "name": "stdout",
     "output_type": "stream",
     "text": [
      "University: Harvard University\n",
      "Majors: MA in Economics Department, MA in Finance Department, PhD in Economics\n",
      "University: Massachusetts Institute of Technology (MIT)\n",
      "Majors: MA in Economics Department, MA in Finance Department, PhD in Economics\n",
      "University: University of California, Berkeley\n",
      "Majors: MA in Economics Department, MA in Finance Department, PhD in Economics\n",
      "University: University of Chicago\n",
      "Majors: MA in Economics Department, MA in Finance Department, PhD in Economics\n",
      "University: Paris School of Economics\n",
      "Majors: MA in Economics Department, MA in Finance Department, PhD in Economics\n",
      "University: Princeton University\n",
      "Majors: MA in Economics Department, MA in Finance Department, PhD in Economics\n",
      "University: Stanford University\n",
      "Majors: MA in Economics Department, MA in Finance Department, PhD in Economics\n",
      "University: Toulouse School of Economics (TSE)\n",
      "Majors: MA in Economics Department, MA in Finance Department, PhD in Economics\n",
      "University: University of Oxford\n",
      "Majors: MA in Economics Department, MA in Finance Department, PhD in Economics\n",
      "University: Yale University\n",
      "Majors: MA in Economics Department, MA in Finance Department, PhD in Economics\n",
      "University: Barcelona School of Economics (BSE)\n",
      "Majors: MA in Economics Department, MA in Finance Department, PhD in Economics\n",
      "University: Columbia University\n",
      "Majors: MA in Economics Department, MA in Finance Department, PhD in Economics\n",
      "University: New York University (NYU)\n",
      "Majors: MA in Economics Department, MA in Finance Department, PhD in Economics\n",
      "University: Brown University\n",
      "Majors: MA in Economics Department, MA in Finance Department, PhD in Economics\n",
      "University: University of Pennsylvania\n",
      "Majors: MA in Economics Department, MA in Finance Department, PhD in Economics\n",
      "University: Boston University\n",
      "Majors: MA in Economics Department, MA in Finance Department, PhD in Economics\n",
      "University: London School of Economics (LSE)\n",
      "Majors: MA in Economics Department, MA in Finance Department, PhD in Economics\n",
      "University: University College London (UCL)\n",
      "Majors: MA in Economics Department, MA in Finance Department, PhD in Economics\n",
      "University: University of California, San Diego (UCSD)\n",
      "Majors: MA in Economics Department, MA in Finance Department, PhD in Economics\n",
      "University: Northwestern University\n",
      "Majors: MA in Economics Department, MA in Finance Department, PhD in Economics\n",
      "University: Dartmouth College\n",
      "Majors: MA in Economics Department, MA in Finance Department, PhD in Economics\n",
      "University: University of Michigan\n",
      "Majors: MA in Economics Department, MA in Finance Department, PhD in Economics\n",
      "University: Tilburg University\n",
      "Majors: MA in Economics Department, MA in Finance Department, PhD in Economics\n",
      "University: University of California, Los Angeles (UCLA)\n",
      "Majors: MA in Economics Department, MA in Finance Department, PhD in Economics\n",
      "University: Columbia University (Graduate School of Business)\n",
      "Majors: MA in Economics Department, MA in Finance Department, PhD in Economics\n",
      "University: University of Southern California\n",
      "Majors: MA in Economics Department, MA in Finance Department, PhD in Economics\n",
      "University: University of British Columbia\n",
      "Majors: MA in Economics Department, MA in Finance Department, PhD in Economics\n",
      "University: University of Wisconsin-Madison\n",
      "Majors: MA in Economics Department, MA in Finance Department, PhD in Economics\n",
      "University: University of Toronto\n",
      "Majors: MA in Economics Department, MA in Finance Department, PhD in Economics\n",
      "University: Duke University\n",
      "Majors: MA in Economics Department, MA in Finance Department, PhD in Economics\n"
     ]
    }
   ],
   "source": [
    "# 遍历每一行\n",
    "for index, row in df.iterrows():\n",
    "    university = row['University Names']  # 获取大学名称\n",
    "    major1 = row['Major1']  # 获取专业1\n",
    "    major2 = row['Major2']  # 获取专业2\n",
    "    major3 = row['Major3']  # 获取专业3\n",
    "    \n",
    "    # 打印大学及其专业信息\n",
    "    print(f\"University: {university}\")\n",
    "    print(f\"Majors: {major1}, {major2}, {major3}\")"
   ]
  },
  {
   "cell_type": "code",
   "execution_count": 6,
   "id": "8f79c0a3",
   "metadata": {},
   "outputs": [],
   "source": [
    "from docxtpl import DocxTemplate\n",
    "import os"
   ]
  },
  {
   "cell_type": "code",
   "execution_count": 7,
   "id": "02c76650",
   "metadata": {},
   "outputs": [],
   "source": [
    "template_path = r\"C:\\Users\\jasonrod\\Desktop\\自用数据库\\世界大学数据\\Application Letter.docx\"  # 替换为模板文件路径\n",
    "doc = DocxTemplate(template_path)"
   ]
  },
  {
   "cell_type": "code",
   "execution_count": 8,
   "id": "617be6bf",
   "metadata": {},
   "outputs": [],
   "source": [
    "output_dir = 'generated_applications'\n",
    "os.makedirs(output_dir, exist_ok=True)"
   ]
  },
  {
   "cell_type": "code",
   "execution_count": 10,
   "id": "a0b413d8",
   "metadata": {},
   "outputs": [
    {
     "data": {
      "application/vnd.jupyter.widget-view+json": {
       "model_id": "3c70dec28eb0446492200030952ddf66",
       "version_major": 2,
       "version_minor": 0
      },
      "text/plain": [
       "  0%|          | 0/1 [00:00<?, ?it/s]"
      ]
     },
     "metadata": {},
     "output_type": "display_data"
    },
    {
     "name": "stdout",
     "output_type": "stream",
     "text": [
      "已生成: Harvard University_MA_in_Economics_Department.docx 和 Harvard University_MA_in_Economics_Department.pdf\n"
     ]
    },
    {
     "data": {
      "application/vnd.jupyter.widget-view+json": {
       "model_id": "98427ec6a58d4c248d8410b62bcb0e4c",
       "version_major": 2,
       "version_minor": 0
      },
      "text/plain": [
       "  0%|          | 0/1 [00:00<?, ?it/s]"
      ]
     },
     "metadata": {},
     "output_type": "display_data"
    },
    {
     "name": "stdout",
     "output_type": "stream",
     "text": [
      "已生成: Harvard University_MA_in_Finance_Department.docx 和 Harvard University_MA_in_Finance_Department.pdf\n"
     ]
    },
    {
     "data": {
      "application/vnd.jupyter.widget-view+json": {
       "model_id": "3f300382630b46289672d03a12108a23",
       "version_major": 2,
       "version_minor": 0
      },
      "text/plain": [
       "  0%|          | 0/1 [00:00<?, ?it/s]"
      ]
     },
     "metadata": {},
     "output_type": "display_data"
    },
    {
     "name": "stdout",
     "output_type": "stream",
     "text": [
      "已生成: Harvard University_PhD_in_Economics.docx 和 Harvard University_PhD_in_Economics.pdf\n"
     ]
    },
    {
     "data": {
      "application/vnd.jupyter.widget-view+json": {
       "model_id": "54548b0ba48c4abe8d428b82a8c8c07b",
       "version_major": 2,
       "version_minor": 0
      },
      "text/plain": [
       "  0%|          | 0/1 [00:00<?, ?it/s]"
      ]
     },
     "metadata": {},
     "output_type": "display_data"
    },
    {
     "name": "stdout",
     "output_type": "stream",
     "text": [
      "已生成: Massachusetts Institute of Technology (MIT)_MA_in_Economics_Department.docx 和 Massachusetts Institute of Technology (MIT)_MA_in_Economics_Department.pdf\n"
     ]
    },
    {
     "data": {
      "application/vnd.jupyter.widget-view+json": {
       "model_id": "14369274709d42a6b941700dae9c4642",
       "version_major": 2,
       "version_minor": 0
      },
      "text/plain": [
       "  0%|          | 0/1 [00:00<?, ?it/s]"
      ]
     },
     "metadata": {},
     "output_type": "display_data"
    },
    {
     "name": "stdout",
     "output_type": "stream",
     "text": [
      "已生成: Massachusetts Institute of Technology (MIT)_MA_in_Finance_Department.docx 和 Massachusetts Institute of Technology (MIT)_MA_in_Finance_Department.pdf\n"
     ]
    },
    {
     "data": {
      "application/vnd.jupyter.widget-view+json": {
       "model_id": "78332921448144e3a6e65cb934996d44",
       "version_major": 2,
       "version_minor": 0
      },
      "text/plain": [
       "  0%|          | 0/1 [00:00<?, ?it/s]"
      ]
     },
     "metadata": {},
     "output_type": "display_data"
    },
    {
     "name": "stdout",
     "output_type": "stream",
     "text": [
      "已生成: Massachusetts Institute of Technology (MIT)_PhD_in_Economics.docx 和 Massachusetts Institute of Technology (MIT)_PhD_in_Economics.pdf\n"
     ]
    },
    {
     "data": {
      "application/vnd.jupyter.widget-view+json": {
       "model_id": "683b5012eb3a4bbf83652831324a5925",
       "version_major": 2,
       "version_minor": 0
      },
      "text/plain": [
       "  0%|          | 0/1 [00:00<?, ?it/s]"
      ]
     },
     "metadata": {},
     "output_type": "display_data"
    },
    {
     "name": "stdout",
     "output_type": "stream",
     "text": [
      "已生成: University of California, Berkeley_MA_in_Economics_Department.docx 和 University of California, Berkeley_MA_in_Economics_Department.pdf\n"
     ]
    },
    {
     "data": {
      "application/vnd.jupyter.widget-view+json": {
       "model_id": "ba870ec2ab624f62b6cd16f057581829",
       "version_major": 2,
       "version_minor": 0
      },
      "text/plain": [
       "  0%|          | 0/1 [00:00<?, ?it/s]"
      ]
     },
     "metadata": {},
     "output_type": "display_data"
    },
    {
     "name": "stdout",
     "output_type": "stream",
     "text": [
      "已生成: University of California, Berkeley_MA_in_Finance_Department.docx 和 University of California, Berkeley_MA_in_Finance_Department.pdf\n"
     ]
    },
    {
     "data": {
      "application/vnd.jupyter.widget-view+json": {
       "model_id": "811c60b79a5a4cef9b6aa76e78446835",
       "version_major": 2,
       "version_minor": 0
      },
      "text/plain": [
       "  0%|          | 0/1 [00:00<?, ?it/s]"
      ]
     },
     "metadata": {},
     "output_type": "display_data"
    },
    {
     "name": "stdout",
     "output_type": "stream",
     "text": [
      "已生成: University of California, Berkeley_PhD_in_Economics.docx 和 University of California, Berkeley_PhD_in_Economics.pdf\n"
     ]
    },
    {
     "data": {
      "application/vnd.jupyter.widget-view+json": {
       "model_id": "f7b522ab47a24553a9cb00022d6986ac",
       "version_major": 2,
       "version_minor": 0
      },
      "text/plain": [
       "  0%|          | 0/1 [00:00<?, ?it/s]"
      ]
     },
     "metadata": {},
     "output_type": "display_data"
    },
    {
     "name": "stdout",
     "output_type": "stream",
     "text": [
      "已生成: University of Chicago_MA_in_Economics_Department.docx 和 University of Chicago_MA_in_Economics_Department.pdf\n"
     ]
    },
    {
     "data": {
      "application/vnd.jupyter.widget-view+json": {
       "model_id": "66a2cd848f714a2f98f952cead1db8f8",
       "version_major": 2,
       "version_minor": 0
      },
      "text/plain": [
       "  0%|          | 0/1 [00:00<?, ?it/s]"
      ]
     },
     "metadata": {},
     "output_type": "display_data"
    },
    {
     "name": "stdout",
     "output_type": "stream",
     "text": [
      "已生成: University of Chicago_MA_in_Finance_Department.docx 和 University of Chicago_MA_in_Finance_Department.pdf\n"
     ]
    },
    {
     "data": {
      "application/vnd.jupyter.widget-view+json": {
       "model_id": "2b933a93c8ba4fb8bb04585bfde8baa2",
       "version_major": 2,
       "version_minor": 0
      },
      "text/plain": [
       "  0%|          | 0/1 [00:00<?, ?it/s]"
      ]
     },
     "metadata": {},
     "output_type": "display_data"
    },
    {
     "name": "stdout",
     "output_type": "stream",
     "text": [
      "已生成: University of Chicago_PhD_in_Economics.docx 和 University of Chicago_PhD_in_Economics.pdf\n"
     ]
    },
    {
     "data": {
      "application/vnd.jupyter.widget-view+json": {
       "model_id": "db68ede309a24b7888cd8a65b2e2d184",
       "version_major": 2,
       "version_minor": 0
      },
      "text/plain": [
       "  0%|          | 0/1 [00:00<?, ?it/s]"
      ]
     },
     "metadata": {},
     "output_type": "display_data"
    },
    {
     "name": "stdout",
     "output_type": "stream",
     "text": [
      "已生成: Paris School of Economics_MA_in_Economics_Department.docx 和 Paris School of Economics_MA_in_Economics_Department.pdf\n"
     ]
    },
    {
     "data": {
      "application/vnd.jupyter.widget-view+json": {
       "model_id": "cb25cc71ceb04bf48bc2e7f3d2459018",
       "version_major": 2,
       "version_minor": 0
      },
      "text/plain": [
       "  0%|          | 0/1 [00:00<?, ?it/s]"
      ]
     },
     "metadata": {},
     "output_type": "display_data"
    },
    {
     "name": "stdout",
     "output_type": "stream",
     "text": [
      "已生成: Paris School of Economics_MA_in_Finance_Department.docx 和 Paris School of Economics_MA_in_Finance_Department.pdf\n"
     ]
    },
    {
     "data": {
      "application/vnd.jupyter.widget-view+json": {
       "model_id": "3afb296f1d5d44c8a76793dbadf78a59",
       "version_major": 2,
       "version_minor": 0
      },
      "text/plain": [
       "  0%|          | 0/1 [00:00<?, ?it/s]"
      ]
     },
     "metadata": {},
     "output_type": "display_data"
    },
    {
     "name": "stdout",
     "output_type": "stream",
     "text": [
      "已生成: Paris School of Economics_PhD_in_Economics.docx 和 Paris School of Economics_PhD_in_Economics.pdf\n"
     ]
    },
    {
     "data": {
      "application/vnd.jupyter.widget-view+json": {
       "model_id": "fd212b62900a44eab67d0db536152c7a",
       "version_major": 2,
       "version_minor": 0
      },
      "text/plain": [
       "  0%|          | 0/1 [00:00<?, ?it/s]"
      ]
     },
     "metadata": {},
     "output_type": "display_data"
    },
    {
     "name": "stdout",
     "output_type": "stream",
     "text": [
      "已生成: Princeton University_MA_in_Economics_Department.docx 和 Princeton University_MA_in_Economics_Department.pdf\n"
     ]
    },
    {
     "data": {
      "application/vnd.jupyter.widget-view+json": {
       "model_id": "ffce74a77871419193843d906d7ee0eb",
       "version_major": 2,
       "version_minor": 0
      },
      "text/plain": [
       "  0%|          | 0/1 [00:00<?, ?it/s]"
      ]
     },
     "metadata": {},
     "output_type": "display_data"
    },
    {
     "name": "stdout",
     "output_type": "stream",
     "text": [
      "已生成: Princeton University_MA_in_Finance_Department.docx 和 Princeton University_MA_in_Finance_Department.pdf\n"
     ]
    },
    {
     "data": {
      "application/vnd.jupyter.widget-view+json": {
       "model_id": "b81cba0f2f2349888afe985f589af904",
       "version_major": 2,
       "version_minor": 0
      },
      "text/plain": [
       "  0%|          | 0/1 [00:00<?, ?it/s]"
      ]
     },
     "metadata": {},
     "output_type": "display_data"
    },
    {
     "name": "stdout",
     "output_type": "stream",
     "text": [
      "已生成: Princeton University_PhD_in_Economics.docx 和 Princeton University_PhD_in_Economics.pdf\n"
     ]
    },
    {
     "data": {
      "application/vnd.jupyter.widget-view+json": {
       "model_id": "cf8256a5fdd24003822005961ace080f",
       "version_major": 2,
       "version_minor": 0
      },
      "text/plain": [
       "  0%|          | 0/1 [00:00<?, ?it/s]"
      ]
     },
     "metadata": {},
     "output_type": "display_data"
    },
    {
     "name": "stdout",
     "output_type": "stream",
     "text": [
      "已生成: Stanford University_MA_in_Economics_Department.docx 和 Stanford University_MA_in_Economics_Department.pdf\n"
     ]
    },
    {
     "data": {
      "application/vnd.jupyter.widget-view+json": {
       "model_id": "13e432318d3341acabcb632c13344d96",
       "version_major": 2,
       "version_minor": 0
      },
      "text/plain": [
       "  0%|          | 0/1 [00:00<?, ?it/s]"
      ]
     },
     "metadata": {},
     "output_type": "display_data"
    },
    {
     "name": "stdout",
     "output_type": "stream",
     "text": [
      "已生成: Stanford University_MA_in_Finance_Department.docx 和 Stanford University_MA_in_Finance_Department.pdf\n"
     ]
    },
    {
     "data": {
      "application/vnd.jupyter.widget-view+json": {
       "model_id": "291ab97e1bdb46a484cd0df6ac600af7",
       "version_major": 2,
       "version_minor": 0
      },
      "text/plain": [
       "  0%|          | 0/1 [00:00<?, ?it/s]"
      ]
     },
     "metadata": {},
     "output_type": "display_data"
    },
    {
     "name": "stdout",
     "output_type": "stream",
     "text": [
      "已生成: Stanford University_PhD_in_Economics.docx 和 Stanford University_PhD_in_Economics.pdf\n"
     ]
    },
    {
     "data": {
      "application/vnd.jupyter.widget-view+json": {
       "model_id": "d635507a64c249a59730190ea1e71a52",
       "version_major": 2,
       "version_minor": 0
      },
      "text/plain": [
       "  0%|          | 0/1 [00:00<?, ?it/s]"
      ]
     },
     "metadata": {},
     "output_type": "display_data"
    },
    {
     "name": "stdout",
     "output_type": "stream",
     "text": [
      "已生成: Toulouse School of Economics (TSE)_MA_in_Economics_Department.docx 和 Toulouse School of Economics (TSE)_MA_in_Economics_Department.pdf\n"
     ]
    },
    {
     "data": {
      "application/vnd.jupyter.widget-view+json": {
       "model_id": "08e8e30be0334c5c9095dd5065b3c8ce",
       "version_major": 2,
       "version_minor": 0
      },
      "text/plain": [
       "  0%|          | 0/1 [00:00<?, ?it/s]"
      ]
     },
     "metadata": {},
     "output_type": "display_data"
    },
    {
     "name": "stdout",
     "output_type": "stream",
     "text": [
      "已生成: Toulouse School of Economics (TSE)_MA_in_Finance_Department.docx 和 Toulouse School of Economics (TSE)_MA_in_Finance_Department.pdf\n"
     ]
    },
    {
     "data": {
      "application/vnd.jupyter.widget-view+json": {
       "model_id": "a4d3b27b280f43db85b519bc29b7ff43",
       "version_major": 2,
       "version_minor": 0
      },
      "text/plain": [
       "  0%|          | 0/1 [00:00<?, ?it/s]"
      ]
     },
     "metadata": {},
     "output_type": "display_data"
    },
    {
     "name": "stdout",
     "output_type": "stream",
     "text": [
      "已生成: Toulouse School of Economics (TSE)_PhD_in_Economics.docx 和 Toulouse School of Economics (TSE)_PhD_in_Economics.pdf\n"
     ]
    },
    {
     "data": {
      "application/vnd.jupyter.widget-view+json": {
       "model_id": "9bc6542b56164343966014eef345b939",
       "version_major": 2,
       "version_minor": 0
      },
      "text/plain": [
       "  0%|          | 0/1 [00:00<?, ?it/s]"
      ]
     },
     "metadata": {},
     "output_type": "display_data"
    },
    {
     "name": "stdout",
     "output_type": "stream",
     "text": [
      "已生成: University of Oxford_MA_in_Economics_Department.docx 和 University of Oxford_MA_in_Economics_Department.pdf\n"
     ]
    },
    {
     "data": {
      "application/vnd.jupyter.widget-view+json": {
       "model_id": "d55d4222cf264ccd8c022b4571d6449d",
       "version_major": 2,
       "version_minor": 0
      },
      "text/plain": [
       "  0%|          | 0/1 [00:00<?, ?it/s]"
      ]
     },
     "metadata": {},
     "output_type": "display_data"
    },
    {
     "name": "stdout",
     "output_type": "stream",
     "text": [
      "已生成: University of Oxford_MA_in_Finance_Department.docx 和 University of Oxford_MA_in_Finance_Department.pdf\n"
     ]
    },
    {
     "data": {
      "application/vnd.jupyter.widget-view+json": {
       "model_id": "99026224354c47659365eb0689ab1da0",
       "version_major": 2,
       "version_minor": 0
      },
      "text/plain": [
       "  0%|          | 0/1 [00:00<?, ?it/s]"
      ]
     },
     "metadata": {},
     "output_type": "display_data"
    },
    {
     "name": "stdout",
     "output_type": "stream",
     "text": [
      "已生成: University of Oxford_PhD_in_Economics.docx 和 University of Oxford_PhD_in_Economics.pdf\n"
     ]
    },
    {
     "data": {
      "application/vnd.jupyter.widget-view+json": {
       "model_id": "4d940a5025874184a94a62f17edbbc0b",
       "version_major": 2,
       "version_minor": 0
      },
      "text/plain": [
       "  0%|          | 0/1 [00:00<?, ?it/s]"
      ]
     },
     "metadata": {},
     "output_type": "display_data"
    },
    {
     "name": "stdout",
     "output_type": "stream",
     "text": [
      "已生成: Yale University_MA_in_Economics_Department.docx 和 Yale University_MA_in_Economics_Department.pdf\n"
     ]
    },
    {
     "data": {
      "application/vnd.jupyter.widget-view+json": {
       "model_id": "0281a036d4b44cb794375419b454a6d9",
       "version_major": 2,
       "version_minor": 0
      },
      "text/plain": [
       "  0%|          | 0/1 [00:00<?, ?it/s]"
      ]
     },
     "metadata": {},
     "output_type": "display_data"
    },
    {
     "name": "stdout",
     "output_type": "stream",
     "text": [
      "已生成: Yale University_MA_in_Finance_Department.docx 和 Yale University_MA_in_Finance_Department.pdf\n"
     ]
    },
    {
     "data": {
      "application/vnd.jupyter.widget-view+json": {
       "model_id": "919d9da99fbb47c8a58219ed5e5d2fb7",
       "version_major": 2,
       "version_minor": 0
      },
      "text/plain": [
       "  0%|          | 0/1 [00:00<?, ?it/s]"
      ]
     },
     "metadata": {},
     "output_type": "display_data"
    },
    {
     "name": "stdout",
     "output_type": "stream",
     "text": [
      "已生成: Yale University_PhD_in_Economics.docx 和 Yale University_PhD_in_Economics.pdf\n"
     ]
    },
    {
     "data": {
      "application/vnd.jupyter.widget-view+json": {
       "model_id": "c6cdccc679394c02b638d0dd8e1fbf62",
       "version_major": 2,
       "version_minor": 0
      },
      "text/plain": [
       "  0%|          | 0/1 [00:00<?, ?it/s]"
      ]
     },
     "metadata": {},
     "output_type": "display_data"
    },
    {
     "name": "stdout",
     "output_type": "stream",
     "text": [
      "已生成: Barcelona School of Economics (BSE)_MA_in_Economics_Department.docx 和 Barcelona School of Economics (BSE)_MA_in_Economics_Department.pdf\n"
     ]
    },
    {
     "data": {
      "application/vnd.jupyter.widget-view+json": {
       "model_id": "fac61707f07f4f48bae6c265b35b0629",
       "version_major": 2,
       "version_minor": 0
      },
      "text/plain": [
       "  0%|          | 0/1 [00:00<?, ?it/s]"
      ]
     },
     "metadata": {},
     "output_type": "display_data"
    },
    {
     "name": "stdout",
     "output_type": "stream",
     "text": [
      "已生成: Barcelona School of Economics (BSE)_MA_in_Finance_Department.docx 和 Barcelona School of Economics (BSE)_MA_in_Finance_Department.pdf\n"
     ]
    },
    {
     "data": {
      "application/vnd.jupyter.widget-view+json": {
       "model_id": "2139322e623c497a8fdd0e7e320d270b",
       "version_major": 2,
       "version_minor": 0
      },
      "text/plain": [
       "  0%|          | 0/1 [00:00<?, ?it/s]"
      ]
     },
     "metadata": {},
     "output_type": "display_data"
    },
    {
     "name": "stdout",
     "output_type": "stream",
     "text": [
      "已生成: Barcelona School of Economics (BSE)_PhD_in_Economics.docx 和 Barcelona School of Economics (BSE)_PhD_in_Economics.pdf\n"
     ]
    },
    {
     "data": {
      "application/vnd.jupyter.widget-view+json": {
       "model_id": "e91573b19da44879b325cf9181a3d09c",
       "version_major": 2,
       "version_minor": 0
      },
      "text/plain": [
       "  0%|          | 0/1 [00:00<?, ?it/s]"
      ]
     },
     "metadata": {},
     "output_type": "display_data"
    },
    {
     "name": "stdout",
     "output_type": "stream",
     "text": [
      "已生成: Columbia University_MA_in_Economics_Department.docx 和 Columbia University_MA_in_Economics_Department.pdf\n"
     ]
    },
    {
     "data": {
      "application/vnd.jupyter.widget-view+json": {
       "model_id": "bf4a463a64924199a815d8222b67211b",
       "version_major": 2,
       "version_minor": 0
      },
      "text/plain": [
       "  0%|          | 0/1 [00:00<?, ?it/s]"
      ]
     },
     "metadata": {},
     "output_type": "display_data"
    },
    {
     "name": "stdout",
     "output_type": "stream",
     "text": [
      "已生成: Columbia University_MA_in_Finance_Department.docx 和 Columbia University_MA_in_Finance_Department.pdf\n"
     ]
    },
    {
     "data": {
      "application/vnd.jupyter.widget-view+json": {
       "model_id": "76c9f3f9f1e64ee6b4a35f36ececa1e3",
       "version_major": 2,
       "version_minor": 0
      },
      "text/plain": [
       "  0%|          | 0/1 [00:00<?, ?it/s]"
      ]
     },
     "metadata": {},
     "output_type": "display_data"
    },
    {
     "name": "stdout",
     "output_type": "stream",
     "text": [
      "已生成: Columbia University_PhD_in_Economics.docx 和 Columbia University_PhD_in_Economics.pdf\n"
     ]
    },
    {
     "data": {
      "application/vnd.jupyter.widget-view+json": {
       "model_id": "1f90808692e04b32bef60ede09481b33",
       "version_major": 2,
       "version_minor": 0
      },
      "text/plain": [
       "  0%|          | 0/1 [00:00<?, ?it/s]"
      ]
     },
     "metadata": {},
     "output_type": "display_data"
    },
    {
     "name": "stdout",
     "output_type": "stream",
     "text": [
      "已生成: New York University (NYU)_MA_in_Economics_Department.docx 和 New York University (NYU)_MA_in_Economics_Department.pdf\n"
     ]
    },
    {
     "data": {
      "application/vnd.jupyter.widget-view+json": {
       "model_id": "ddfcf25ce5c24d5294dbc4d7c7dfbc7c",
       "version_major": 2,
       "version_minor": 0
      },
      "text/plain": [
       "  0%|          | 0/1 [00:00<?, ?it/s]"
      ]
     },
     "metadata": {},
     "output_type": "display_data"
    },
    {
     "name": "stdout",
     "output_type": "stream",
     "text": [
      "已生成: New York University (NYU)_MA_in_Finance_Department.docx 和 New York University (NYU)_MA_in_Finance_Department.pdf\n"
     ]
    },
    {
     "data": {
      "application/vnd.jupyter.widget-view+json": {
       "model_id": "eda06cd1958e4766a6a682334631969c",
       "version_major": 2,
       "version_minor": 0
      },
      "text/plain": [
       "  0%|          | 0/1 [00:00<?, ?it/s]"
      ]
     },
     "metadata": {},
     "output_type": "display_data"
    },
    {
     "name": "stdout",
     "output_type": "stream",
     "text": [
      "已生成: New York University (NYU)_PhD_in_Economics.docx 和 New York University (NYU)_PhD_in_Economics.pdf\n"
     ]
    },
    {
     "data": {
      "application/vnd.jupyter.widget-view+json": {
       "model_id": "186ab210e9d44e148dfbbc0d4e2cfd27",
       "version_major": 2,
       "version_minor": 0
      },
      "text/plain": [
       "  0%|          | 0/1 [00:00<?, ?it/s]"
      ]
     },
     "metadata": {},
     "output_type": "display_data"
    },
    {
     "name": "stdout",
     "output_type": "stream",
     "text": [
      "已生成: Brown University_MA_in_Economics_Department.docx 和 Brown University_MA_in_Economics_Department.pdf\n"
     ]
    },
    {
     "data": {
      "application/vnd.jupyter.widget-view+json": {
       "model_id": "a3d092bfbb4a45b98e882b7b87c1c529",
       "version_major": 2,
       "version_minor": 0
      },
      "text/plain": [
       "  0%|          | 0/1 [00:00<?, ?it/s]"
      ]
     },
     "metadata": {},
     "output_type": "display_data"
    },
    {
     "name": "stdout",
     "output_type": "stream",
     "text": [
      "已生成: Brown University_MA_in_Finance_Department.docx 和 Brown University_MA_in_Finance_Department.pdf\n"
     ]
    },
    {
     "data": {
      "application/vnd.jupyter.widget-view+json": {
       "model_id": "91429eb71ef241328acd6b057aa937d3",
       "version_major": 2,
       "version_minor": 0
      },
      "text/plain": [
       "  0%|          | 0/1 [00:00<?, ?it/s]"
      ]
     },
     "metadata": {},
     "output_type": "display_data"
    },
    {
     "name": "stdout",
     "output_type": "stream",
     "text": [
      "已生成: Brown University_PhD_in_Economics.docx 和 Brown University_PhD_in_Economics.pdf\n"
     ]
    },
    {
     "data": {
      "application/vnd.jupyter.widget-view+json": {
       "model_id": "a64910241ffa478182756d507000de47",
       "version_major": 2,
       "version_minor": 0
      },
      "text/plain": [
       "  0%|          | 0/1 [00:00<?, ?it/s]"
      ]
     },
     "metadata": {},
     "output_type": "display_data"
    },
    {
     "name": "stdout",
     "output_type": "stream",
     "text": [
      "已生成: University of Pennsylvania_MA_in_Economics_Department.docx 和 University of Pennsylvania_MA_in_Economics_Department.pdf\n"
     ]
    },
    {
     "data": {
      "application/vnd.jupyter.widget-view+json": {
       "model_id": "4132b1b4b7bc4a3b8795d86a196d2327",
       "version_major": 2,
       "version_minor": 0
      },
      "text/plain": [
       "  0%|          | 0/1 [00:00<?, ?it/s]"
      ]
     },
     "metadata": {},
     "output_type": "display_data"
    },
    {
     "name": "stdout",
     "output_type": "stream",
     "text": [
      "已生成: University of Pennsylvania_MA_in_Finance_Department.docx 和 University of Pennsylvania_MA_in_Finance_Department.pdf\n"
     ]
    },
    {
     "data": {
      "application/vnd.jupyter.widget-view+json": {
       "model_id": "b77f70b05f594935b1376f304f7a067d",
       "version_major": 2,
       "version_minor": 0
      },
      "text/plain": [
       "  0%|          | 0/1 [00:00<?, ?it/s]"
      ]
     },
     "metadata": {},
     "output_type": "display_data"
    },
    {
     "name": "stdout",
     "output_type": "stream",
     "text": [
      "已生成: University of Pennsylvania_PhD_in_Economics.docx 和 University of Pennsylvania_PhD_in_Economics.pdf\n"
     ]
    },
    {
     "data": {
      "application/vnd.jupyter.widget-view+json": {
       "model_id": "cced76c9148747bba0c568a933ece968",
       "version_major": 2,
       "version_minor": 0
      },
      "text/plain": [
       "  0%|          | 0/1 [00:00<?, ?it/s]"
      ]
     },
     "metadata": {},
     "output_type": "display_data"
    },
    {
     "name": "stdout",
     "output_type": "stream",
     "text": [
      "已生成: Boston University_MA_in_Economics_Department.docx 和 Boston University_MA_in_Economics_Department.pdf\n"
     ]
    },
    {
     "data": {
      "application/vnd.jupyter.widget-view+json": {
       "model_id": "e2f190e66b8843feb512adc12ece29ac",
       "version_major": 2,
       "version_minor": 0
      },
      "text/plain": [
       "  0%|          | 0/1 [00:00<?, ?it/s]"
      ]
     },
     "metadata": {},
     "output_type": "display_data"
    },
    {
     "name": "stdout",
     "output_type": "stream",
     "text": [
      "已生成: Boston University_MA_in_Finance_Department.docx 和 Boston University_MA_in_Finance_Department.pdf\n"
     ]
    },
    {
     "data": {
      "application/vnd.jupyter.widget-view+json": {
       "model_id": "163bb0bdb8cb4712ab2aeebf75d7fdc9",
       "version_major": 2,
       "version_minor": 0
      },
      "text/plain": [
       "  0%|          | 0/1 [00:00<?, ?it/s]"
      ]
     },
     "metadata": {},
     "output_type": "display_data"
    },
    {
     "name": "stdout",
     "output_type": "stream",
     "text": [
      "已生成: Boston University_PhD_in_Economics.docx 和 Boston University_PhD_in_Economics.pdf\n"
     ]
    },
    {
     "data": {
      "application/vnd.jupyter.widget-view+json": {
       "model_id": "f1b24bbb4c78443aa16132a64b1989ed",
       "version_major": 2,
       "version_minor": 0
      },
      "text/plain": [
       "  0%|          | 0/1 [00:00<?, ?it/s]"
      ]
     },
     "metadata": {},
     "output_type": "display_data"
    },
    {
     "name": "stdout",
     "output_type": "stream",
     "text": [
      "已生成: London School of Economics (LSE)_MA_in_Economics_Department.docx 和 London School of Economics (LSE)_MA_in_Economics_Department.pdf\n"
     ]
    },
    {
     "data": {
      "application/vnd.jupyter.widget-view+json": {
       "model_id": "9c16cc52bdaf4654bf8b1e00bf3d6771",
       "version_major": 2,
       "version_minor": 0
      },
      "text/plain": [
       "  0%|          | 0/1 [00:00<?, ?it/s]"
      ]
     },
     "metadata": {},
     "output_type": "display_data"
    },
    {
     "name": "stdout",
     "output_type": "stream",
     "text": [
      "已生成: London School of Economics (LSE)_MA_in_Finance_Department.docx 和 London School of Economics (LSE)_MA_in_Finance_Department.pdf\n"
     ]
    },
    {
     "data": {
      "application/vnd.jupyter.widget-view+json": {
       "model_id": "4d7c706b417644cbbc276171f0214d4c",
       "version_major": 2,
       "version_minor": 0
      },
      "text/plain": [
       "  0%|          | 0/1 [00:00<?, ?it/s]"
      ]
     },
     "metadata": {},
     "output_type": "display_data"
    },
    {
     "name": "stdout",
     "output_type": "stream",
     "text": [
      "已生成: London School of Economics (LSE)_PhD_in_Economics.docx 和 London School of Economics (LSE)_PhD_in_Economics.pdf\n"
     ]
    },
    {
     "data": {
      "application/vnd.jupyter.widget-view+json": {
       "model_id": "fc341a08ca0e4b8e84870b4c3b4a119d",
       "version_major": 2,
       "version_minor": 0
      },
      "text/plain": [
       "  0%|          | 0/1 [00:00<?, ?it/s]"
      ]
     },
     "metadata": {},
     "output_type": "display_data"
    },
    {
     "name": "stdout",
     "output_type": "stream",
     "text": [
      "已生成: University College London (UCL)_MA_in_Economics_Department.docx 和 University College London (UCL)_MA_in_Economics_Department.pdf\n"
     ]
    },
    {
     "data": {
      "application/vnd.jupyter.widget-view+json": {
       "model_id": "465bc0dd08fe4ece9564b1c301195566",
       "version_major": 2,
       "version_minor": 0
      },
      "text/plain": [
       "  0%|          | 0/1 [00:00<?, ?it/s]"
      ]
     },
     "metadata": {},
     "output_type": "display_data"
    },
    {
     "name": "stdout",
     "output_type": "stream",
     "text": [
      "已生成: University College London (UCL)_MA_in_Finance_Department.docx 和 University College London (UCL)_MA_in_Finance_Department.pdf\n"
     ]
    },
    {
     "data": {
      "application/vnd.jupyter.widget-view+json": {
       "model_id": "bb663e8ec2374f18903179bb16a9934f",
       "version_major": 2,
       "version_minor": 0
      },
      "text/plain": [
       "  0%|          | 0/1 [00:00<?, ?it/s]"
      ]
     },
     "metadata": {},
     "output_type": "display_data"
    },
    {
     "name": "stdout",
     "output_type": "stream",
     "text": [
      "已生成: University College London (UCL)_PhD_in_Economics.docx 和 University College London (UCL)_PhD_in_Economics.pdf\n"
     ]
    },
    {
     "data": {
      "application/vnd.jupyter.widget-view+json": {
       "model_id": "78c47af7fca443438e991638e713cf0b",
       "version_major": 2,
       "version_minor": 0
      },
      "text/plain": [
       "  0%|          | 0/1 [00:00<?, ?it/s]"
      ]
     },
     "metadata": {},
     "output_type": "display_data"
    },
    {
     "name": "stdout",
     "output_type": "stream",
     "text": [
      "已生成: University of California, San Diego (UCSD)_MA_in_Economics_Department.docx 和 University of California, San Diego (UCSD)_MA_in_Economics_Department.pdf\n"
     ]
    },
    {
     "data": {
      "application/vnd.jupyter.widget-view+json": {
       "model_id": "fb92f87f80c440d485931cf32af0189f",
       "version_major": 2,
       "version_minor": 0
      },
      "text/plain": [
       "  0%|          | 0/1 [00:00<?, ?it/s]"
      ]
     },
     "metadata": {},
     "output_type": "display_data"
    },
    {
     "name": "stdout",
     "output_type": "stream",
     "text": [
      "已生成: University of California, San Diego (UCSD)_MA_in_Finance_Department.docx 和 University of California, San Diego (UCSD)_MA_in_Finance_Department.pdf\n"
     ]
    },
    {
     "data": {
      "application/vnd.jupyter.widget-view+json": {
       "model_id": "83afc7f14cf244a7b31d53dffa620a44",
       "version_major": 2,
       "version_minor": 0
      },
      "text/plain": [
       "  0%|          | 0/1 [00:00<?, ?it/s]"
      ]
     },
     "metadata": {},
     "output_type": "display_data"
    },
    {
     "name": "stdout",
     "output_type": "stream",
     "text": [
      "已生成: University of California, San Diego (UCSD)_PhD_in_Economics.docx 和 University of California, San Diego (UCSD)_PhD_in_Economics.pdf\n"
     ]
    },
    {
     "data": {
      "application/vnd.jupyter.widget-view+json": {
       "model_id": "54cc6ac6ce1d4412b35950f7330d86f8",
       "version_major": 2,
       "version_minor": 0
      },
      "text/plain": [
       "  0%|          | 0/1 [00:00<?, ?it/s]"
      ]
     },
     "metadata": {},
     "output_type": "display_data"
    },
    {
     "name": "stdout",
     "output_type": "stream",
     "text": [
      "已生成: Northwestern University_MA_in_Economics_Department.docx 和 Northwestern University_MA_in_Economics_Department.pdf\n"
     ]
    },
    {
     "data": {
      "application/vnd.jupyter.widget-view+json": {
       "model_id": "548e146cbf0640da8ed3f3708790cd5e",
       "version_major": 2,
       "version_minor": 0
      },
      "text/plain": [
       "  0%|          | 0/1 [00:00<?, ?it/s]"
      ]
     },
     "metadata": {},
     "output_type": "display_data"
    },
    {
     "name": "stdout",
     "output_type": "stream",
     "text": [
      "已生成: Northwestern University_MA_in_Finance_Department.docx 和 Northwestern University_MA_in_Finance_Department.pdf\n"
     ]
    },
    {
     "data": {
      "application/vnd.jupyter.widget-view+json": {
       "model_id": "10c4bf79efb14b209c887c339824299a",
       "version_major": 2,
       "version_minor": 0
      },
      "text/plain": [
       "  0%|          | 0/1 [00:00<?, ?it/s]"
      ]
     },
     "metadata": {},
     "output_type": "display_data"
    },
    {
     "name": "stdout",
     "output_type": "stream",
     "text": [
      "已生成: Northwestern University_PhD_in_Economics.docx 和 Northwestern University_PhD_in_Economics.pdf\n"
     ]
    },
    {
     "data": {
      "application/vnd.jupyter.widget-view+json": {
       "model_id": "40e1207375c942659ac3e2e0f63d0ada",
       "version_major": 2,
       "version_minor": 0
      },
      "text/plain": [
       "  0%|          | 0/1 [00:00<?, ?it/s]"
      ]
     },
     "metadata": {},
     "output_type": "display_data"
    },
    {
     "name": "stdout",
     "output_type": "stream",
     "text": [
      "已生成: Dartmouth College_MA_in_Economics_Department.docx 和 Dartmouth College_MA_in_Economics_Department.pdf\n"
     ]
    },
    {
     "data": {
      "application/vnd.jupyter.widget-view+json": {
       "model_id": "c63038102bb1465a8bca915f5c78b4c4",
       "version_major": 2,
       "version_minor": 0
      },
      "text/plain": [
       "  0%|          | 0/1 [00:00<?, ?it/s]"
      ]
     },
     "metadata": {},
     "output_type": "display_data"
    },
    {
     "name": "stdout",
     "output_type": "stream",
     "text": [
      "已生成: Dartmouth College_MA_in_Finance_Department.docx 和 Dartmouth College_MA_in_Finance_Department.pdf\n"
     ]
    },
    {
     "data": {
      "application/vnd.jupyter.widget-view+json": {
       "model_id": "344c82f4cc0044e08e3ba274b1a83474",
       "version_major": 2,
       "version_minor": 0
      },
      "text/plain": [
       "  0%|          | 0/1 [00:00<?, ?it/s]"
      ]
     },
     "metadata": {},
     "output_type": "display_data"
    },
    {
     "name": "stdout",
     "output_type": "stream",
     "text": [
      "已生成: Dartmouth College_PhD_in_Economics.docx 和 Dartmouth College_PhD_in_Economics.pdf\n"
     ]
    },
    {
     "data": {
      "application/vnd.jupyter.widget-view+json": {
       "model_id": "3368ca295b1a4e7a8a968c0c096516e1",
       "version_major": 2,
       "version_minor": 0
      },
      "text/plain": [
       "  0%|          | 0/1 [00:00<?, ?it/s]"
      ]
     },
     "metadata": {},
     "output_type": "display_data"
    },
    {
     "name": "stdout",
     "output_type": "stream",
     "text": [
      "已生成: University of Michigan_MA_in_Economics_Department.docx 和 University of Michigan_MA_in_Economics_Department.pdf\n"
     ]
    },
    {
     "data": {
      "application/vnd.jupyter.widget-view+json": {
       "model_id": "c36f0184572140af8f4bcf6b95d3504e",
       "version_major": 2,
       "version_minor": 0
      },
      "text/plain": [
       "  0%|          | 0/1 [00:00<?, ?it/s]"
      ]
     },
     "metadata": {},
     "output_type": "display_data"
    },
    {
     "name": "stdout",
     "output_type": "stream",
     "text": [
      "已生成: University of Michigan_MA_in_Finance_Department.docx 和 University of Michigan_MA_in_Finance_Department.pdf\n"
     ]
    },
    {
     "data": {
      "application/vnd.jupyter.widget-view+json": {
       "model_id": "4def120e2d834766b23429e56c97ca94",
       "version_major": 2,
       "version_minor": 0
      },
      "text/plain": [
       "  0%|          | 0/1 [00:00<?, ?it/s]"
      ]
     },
     "metadata": {},
     "output_type": "display_data"
    },
    {
     "name": "stdout",
     "output_type": "stream",
     "text": [
      "已生成: University of Michigan_PhD_in_Economics.docx 和 University of Michigan_PhD_in_Economics.pdf\n"
     ]
    },
    {
     "data": {
      "application/vnd.jupyter.widget-view+json": {
       "model_id": "da811cdcf32a4cdfabbb463f08ff8d1a",
       "version_major": 2,
       "version_minor": 0
      },
      "text/plain": [
       "  0%|          | 0/1 [00:00<?, ?it/s]"
      ]
     },
     "metadata": {},
     "output_type": "display_data"
    },
    {
     "name": "stdout",
     "output_type": "stream",
     "text": [
      "已生成: Tilburg University_MA_in_Economics_Department.docx 和 Tilburg University_MA_in_Economics_Department.pdf\n"
     ]
    },
    {
     "data": {
      "application/vnd.jupyter.widget-view+json": {
       "model_id": "46620ad330c4400584bce8ee4c020e81",
       "version_major": 2,
       "version_minor": 0
      },
      "text/plain": [
       "  0%|          | 0/1 [00:00<?, ?it/s]"
      ]
     },
     "metadata": {},
     "output_type": "display_data"
    },
    {
     "name": "stdout",
     "output_type": "stream",
     "text": [
      "已生成: Tilburg University_MA_in_Finance_Department.docx 和 Tilburg University_MA_in_Finance_Department.pdf\n"
     ]
    },
    {
     "data": {
      "application/vnd.jupyter.widget-view+json": {
       "model_id": "ca245175136340b8bfb1fa44a2eebf74",
       "version_major": 2,
       "version_minor": 0
      },
      "text/plain": [
       "  0%|          | 0/1 [00:00<?, ?it/s]"
      ]
     },
     "metadata": {},
     "output_type": "display_data"
    },
    {
     "name": "stdout",
     "output_type": "stream",
     "text": [
      "已生成: Tilburg University_PhD_in_Economics.docx 和 Tilburg University_PhD_in_Economics.pdf\n"
     ]
    },
    {
     "data": {
      "application/vnd.jupyter.widget-view+json": {
       "model_id": "03dd53da7a0f4047a98af853d8204ea0",
       "version_major": 2,
       "version_minor": 0
      },
      "text/plain": [
       "  0%|          | 0/1 [00:00<?, ?it/s]"
      ]
     },
     "metadata": {},
     "output_type": "display_data"
    },
    {
     "name": "stdout",
     "output_type": "stream",
     "text": [
      "已生成: University of California, Los Angeles (UCLA)_MA_in_Economics_Department.docx 和 University of California, Los Angeles (UCLA)_MA_in_Economics_Department.pdf\n"
     ]
    },
    {
     "data": {
      "application/vnd.jupyter.widget-view+json": {
       "model_id": "874498be675b465fa9e7c511d7f1707e",
       "version_major": 2,
       "version_minor": 0
      },
      "text/plain": [
       "  0%|          | 0/1 [00:00<?, ?it/s]"
      ]
     },
     "metadata": {},
     "output_type": "display_data"
    },
    {
     "name": "stdout",
     "output_type": "stream",
     "text": [
      "已生成: University of California, Los Angeles (UCLA)_MA_in_Finance_Department.docx 和 University of California, Los Angeles (UCLA)_MA_in_Finance_Department.pdf\n"
     ]
    },
    {
     "data": {
      "application/vnd.jupyter.widget-view+json": {
       "model_id": "e5f286627792407abe04c43aeebf9139",
       "version_major": 2,
       "version_minor": 0
      },
      "text/plain": [
       "  0%|          | 0/1 [00:00<?, ?it/s]"
      ]
     },
     "metadata": {},
     "output_type": "display_data"
    },
    {
     "name": "stdout",
     "output_type": "stream",
     "text": [
      "已生成: University of California, Los Angeles (UCLA)_PhD_in_Economics.docx 和 University of California, Los Angeles (UCLA)_PhD_in_Economics.pdf\n"
     ]
    },
    {
     "data": {
      "application/vnd.jupyter.widget-view+json": {
       "model_id": "cd6104e6952d4129b71e33d69db2b24e",
       "version_major": 2,
       "version_minor": 0
      },
      "text/plain": [
       "  0%|          | 0/1 [00:00<?, ?it/s]"
      ]
     },
     "metadata": {},
     "output_type": "display_data"
    },
    {
     "name": "stdout",
     "output_type": "stream",
     "text": [
      "已生成: Columbia University (Graduate School of Business)_MA_in_Economics_Department.docx 和 Columbia University (Graduate School of Business)_MA_in_Economics_Department.pdf\n"
     ]
    },
    {
     "data": {
      "application/vnd.jupyter.widget-view+json": {
       "model_id": "b7f512b06fca4ddbbf71541a91bf0081",
       "version_major": 2,
       "version_minor": 0
      },
      "text/plain": [
       "  0%|          | 0/1 [00:00<?, ?it/s]"
      ]
     },
     "metadata": {},
     "output_type": "display_data"
    },
    {
     "name": "stdout",
     "output_type": "stream",
     "text": [
      "已生成: Columbia University (Graduate School of Business)_MA_in_Finance_Department.docx 和 Columbia University (Graduate School of Business)_MA_in_Finance_Department.pdf\n"
     ]
    },
    {
     "data": {
      "application/vnd.jupyter.widget-view+json": {
       "model_id": "71a300d45e48420fad8cc29814606c8d",
       "version_major": 2,
       "version_minor": 0
      },
      "text/plain": [
       "  0%|          | 0/1 [00:00<?, ?it/s]"
      ]
     },
     "metadata": {},
     "output_type": "display_data"
    },
    {
     "name": "stdout",
     "output_type": "stream",
     "text": [
      "已生成: Columbia University (Graduate School of Business)_PhD_in_Economics.docx 和 Columbia University (Graduate School of Business)_PhD_in_Economics.pdf\n"
     ]
    },
    {
     "data": {
      "application/vnd.jupyter.widget-view+json": {
       "model_id": "05a7a683a6db4ef7a54dafc997342ca2",
       "version_major": 2,
       "version_minor": 0
      },
      "text/plain": [
       "  0%|          | 0/1 [00:00<?, ?it/s]"
      ]
     },
     "metadata": {},
     "output_type": "display_data"
    },
    {
     "name": "stdout",
     "output_type": "stream",
     "text": [
      "已生成: University of Southern California_MA_in_Economics_Department.docx 和 University of Southern California_MA_in_Economics_Department.pdf\n"
     ]
    },
    {
     "data": {
      "application/vnd.jupyter.widget-view+json": {
       "model_id": "48151695b8dd49289581f6c085e43d9e",
       "version_major": 2,
       "version_minor": 0
      },
      "text/plain": [
       "  0%|          | 0/1 [00:00<?, ?it/s]"
      ]
     },
     "metadata": {},
     "output_type": "display_data"
    },
    {
     "name": "stdout",
     "output_type": "stream",
     "text": [
      "已生成: University of Southern California_MA_in_Finance_Department.docx 和 University of Southern California_MA_in_Finance_Department.pdf\n"
     ]
    },
    {
     "data": {
      "application/vnd.jupyter.widget-view+json": {
       "model_id": "4267fa09b5a546f29ce9b8c398519026",
       "version_major": 2,
       "version_minor": 0
      },
      "text/plain": [
       "  0%|          | 0/1 [00:00<?, ?it/s]"
      ]
     },
     "metadata": {},
     "output_type": "display_data"
    },
    {
     "name": "stdout",
     "output_type": "stream",
     "text": [
      "已生成: University of Southern California_PhD_in_Economics.docx 和 University of Southern California_PhD_in_Economics.pdf\n"
     ]
    },
    {
     "data": {
      "application/vnd.jupyter.widget-view+json": {
       "model_id": "5a1f814a964149b7ad350e5074de0a84",
       "version_major": 2,
       "version_minor": 0
      },
      "text/plain": [
       "  0%|          | 0/1 [00:00<?, ?it/s]"
      ]
     },
     "metadata": {},
     "output_type": "display_data"
    },
    {
     "name": "stdout",
     "output_type": "stream",
     "text": [
      "已生成: University of British Columbia_MA_in_Economics_Department.docx 和 University of British Columbia_MA_in_Economics_Department.pdf\n"
     ]
    },
    {
     "data": {
      "application/vnd.jupyter.widget-view+json": {
       "model_id": "a91a2255d2db411e893384937bdfc70f",
       "version_major": 2,
       "version_minor": 0
      },
      "text/plain": [
       "  0%|          | 0/1 [00:00<?, ?it/s]"
      ]
     },
     "metadata": {},
     "output_type": "display_data"
    },
    {
     "name": "stdout",
     "output_type": "stream",
     "text": [
      "已生成: University of British Columbia_MA_in_Finance_Department.docx 和 University of British Columbia_MA_in_Finance_Department.pdf\n"
     ]
    },
    {
     "data": {
      "application/vnd.jupyter.widget-view+json": {
       "model_id": "de483d861dbf474495e8eb0db1cb166c",
       "version_major": 2,
       "version_minor": 0
      },
      "text/plain": [
       "  0%|          | 0/1 [00:00<?, ?it/s]"
      ]
     },
     "metadata": {},
     "output_type": "display_data"
    },
    {
     "name": "stdout",
     "output_type": "stream",
     "text": [
      "已生成: University of British Columbia_PhD_in_Economics.docx 和 University of British Columbia_PhD_in_Economics.pdf\n"
     ]
    },
    {
     "data": {
      "application/vnd.jupyter.widget-view+json": {
       "model_id": "4463acf6b45046a3a04d293a00b0776a",
       "version_major": 2,
       "version_minor": 0
      },
      "text/plain": [
       "  0%|          | 0/1 [00:00<?, ?it/s]"
      ]
     },
     "metadata": {},
     "output_type": "display_data"
    },
    {
     "name": "stdout",
     "output_type": "stream",
     "text": [
      "已生成: University of Wisconsin-Madison_MA_in_Economics_Department.docx 和 University of Wisconsin-Madison_MA_in_Economics_Department.pdf\n"
     ]
    },
    {
     "data": {
      "application/vnd.jupyter.widget-view+json": {
       "model_id": "395cf926f7aa40bfb2a7eb4bf746a025",
       "version_major": 2,
       "version_minor": 0
      },
      "text/plain": [
       "  0%|          | 0/1 [00:00<?, ?it/s]"
      ]
     },
     "metadata": {},
     "output_type": "display_data"
    },
    {
     "name": "stdout",
     "output_type": "stream",
     "text": [
      "已生成: University of Wisconsin-Madison_MA_in_Finance_Department.docx 和 University of Wisconsin-Madison_MA_in_Finance_Department.pdf\n"
     ]
    },
    {
     "data": {
      "application/vnd.jupyter.widget-view+json": {
       "model_id": "3b69ae1bd2e844b182e25e3bdf8b9e10",
       "version_major": 2,
       "version_minor": 0
      },
      "text/plain": [
       "  0%|          | 0/1 [00:00<?, ?it/s]"
      ]
     },
     "metadata": {},
     "output_type": "display_data"
    },
    {
     "name": "stdout",
     "output_type": "stream",
     "text": [
      "已生成: University of Wisconsin-Madison_PhD_in_Economics.docx 和 University of Wisconsin-Madison_PhD_in_Economics.pdf\n"
     ]
    },
    {
     "data": {
      "application/vnd.jupyter.widget-view+json": {
       "model_id": "a475bd0265d54f6788086c3c5f29ac06",
       "version_major": 2,
       "version_minor": 0
      },
      "text/plain": [
       "  0%|          | 0/1 [00:00<?, ?it/s]"
      ]
     },
     "metadata": {},
     "output_type": "display_data"
    },
    {
     "name": "stdout",
     "output_type": "stream",
     "text": [
      "已生成: University of Toronto_MA_in_Economics_Department.docx 和 University of Toronto_MA_in_Economics_Department.pdf\n"
     ]
    },
    {
     "data": {
      "application/vnd.jupyter.widget-view+json": {
       "model_id": "f53b742f097744a2b30a26b3114f3cd5",
       "version_major": 2,
       "version_minor": 0
      },
      "text/plain": [
       "  0%|          | 0/1 [00:00<?, ?it/s]"
      ]
     },
     "metadata": {},
     "output_type": "display_data"
    },
    {
     "name": "stdout",
     "output_type": "stream",
     "text": [
      "已生成: University of Toronto_MA_in_Finance_Department.docx 和 University of Toronto_MA_in_Finance_Department.pdf\n"
     ]
    },
    {
     "data": {
      "application/vnd.jupyter.widget-view+json": {
       "model_id": "4ad52c48862f4f1683d1b913f57b4844",
       "version_major": 2,
       "version_minor": 0
      },
      "text/plain": [
       "  0%|          | 0/1 [00:00<?, ?it/s]"
      ]
     },
     "metadata": {},
     "output_type": "display_data"
    },
    {
     "name": "stdout",
     "output_type": "stream",
     "text": [
      "已生成: University of Toronto_PhD_in_Economics.docx 和 University of Toronto_PhD_in_Economics.pdf\n"
     ]
    },
    {
     "data": {
      "application/vnd.jupyter.widget-view+json": {
       "model_id": "670095c5f6cc4f2ca9b95abf1d8c6d4e",
       "version_major": 2,
       "version_minor": 0
      },
      "text/plain": [
       "  0%|          | 0/1 [00:00<?, ?it/s]"
      ]
     },
     "metadata": {},
     "output_type": "display_data"
    },
    {
     "name": "stdout",
     "output_type": "stream",
     "text": [
      "已生成: Duke University_MA_in_Economics_Department.docx 和 Duke University_MA_in_Economics_Department.pdf\n"
     ]
    },
    {
     "data": {
      "application/vnd.jupyter.widget-view+json": {
       "model_id": "ca6dd5914c444f8996564ed4c204ec8c",
       "version_major": 2,
       "version_minor": 0
      },
      "text/plain": [
       "  0%|          | 0/1 [00:00<?, ?it/s]"
      ]
     },
     "metadata": {},
     "output_type": "display_data"
    },
    {
     "name": "stdout",
     "output_type": "stream",
     "text": [
      "已生成: Duke University_MA_in_Finance_Department.docx 和 Duke University_MA_in_Finance_Department.pdf\n"
     ]
    },
    {
     "data": {
      "application/vnd.jupyter.widget-view+json": {
       "model_id": "cc163fef5ba342c09afe4bfbb42a0b3e",
       "version_major": 2,
       "version_minor": 0
      },
      "text/plain": [
       "  0%|          | 0/1 [00:00<?, ?it/s]"
      ]
     },
     "metadata": {},
     "output_type": "display_data"
    },
    {
     "name": "stdout",
     "output_type": "stream",
     "text": [
      "已生成: Duke University_PhD_in_Economics.docx 和 Duke University_PhD_in_Economics.pdf\n",
      "所有申请信已生成完毕。\n"
     ]
    }
   ],
   "source": [
    "for index, row in df.iterrows():\n",
    "    university = row['University Names'].strip()  # 去除多余空格\n",
    "    programs = [row['Major1'], row['Major2'], row['Major3']]  # 提取三个专业\n",
    "    \n",
    "    # 遍历每个专业\n",
    "    for program in programs:\n",
    "        context = {\n",
    "            'university': university,\n",
    "            'program': program}\n",
    "    \n",
    "        doc.render(context)\n",
    "        \n",
    "         # 生成 Word 文件名\n",
    "        word_filename = f\"{university}_{program.replace(' ', '_')}.docx\"\n",
    "        word_filepath = os.path.join(output_dir, word_filename)\n",
    "        \n",
    "        # 保存 Word 文档\n",
    "        doc.save(word_filepath)\n",
    "        \n",
    "        # 生成 PDF 文件名\n",
    "        pdf_filename = f\"{university}_{program.replace(' ', '_')}.pdf\"\n",
    "        pdf_filepath = os.path.join(output_dir, pdf_filename)\n",
    "        \n",
    "        # 将 Word 文档转换为 PDF\n",
    "        convert(word_filepath, pdf_filepath)\n",
    "        \n",
    "        print(f\"已生成: {word_filename} 和 {pdf_filename}\")\n",
    "\n",
    "print(\"所有申请信已生成完毕。\")"
   ]
  },
  {
   "cell_type": "code",
   "execution_count": null,
   "id": "fd759e09",
   "metadata": {},
   "outputs": [],
   "source": []
  }
 ],
 "metadata": {
  "kernelspec": {
   "display_name": "Python 3 (ipykernel)",
   "language": "python",
   "name": "python3"
  },
  "language_info": {
   "codemirror_mode": {
    "name": "ipython",
    "version": 3
   },
   "file_extension": ".py",
   "mimetype": "text/x-python",
   "name": "python",
   "nbconvert_exporter": "python",
   "pygments_lexer": "ipython3",
   "version": "3.9.13"
  }
 },
 "nbformat": 4,
 "nbformat_minor": 5
}
