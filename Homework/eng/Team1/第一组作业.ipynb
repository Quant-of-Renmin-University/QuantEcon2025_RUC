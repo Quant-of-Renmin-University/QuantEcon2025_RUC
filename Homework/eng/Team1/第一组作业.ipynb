{
 "cells": [
  {
   "cell_type": "markdown",
   "metadata": {
    "id": "EB56009CB4834C308A6413BB63A7F925",
    "jupyter": {},
    "notebookId": "67e4d8c25302e998c31b2e52",
    "runtime": {
     "execution_status": null,
     "is_visible": false,
     "status": "default"
    },
    "scrolled": false,
    "slideshow": {
     "slide_type": "slide"
    },
    "tags": []
   },
   "source": [
    "## 欢迎进入 ModelWhale Notebook  \n",
    "\n",
    "这里你可以编写代码，文档  \n",
    "\n",
    "### 关于文件目录  \n",
    "\n",
    "\n",
    "**project**：project 目录是本项目的工作空间，可以把将项目运行有关的所有文件放在这里，目录中文件的增、删、改操作都会被保留  \n",
    "\n",
    "\n",
    "**input**：input 目录是数据集的挂载位置，所有挂载进项目的数据集都在这里，未挂载数据集时 input 目录被隐藏  \n",
    "\n",
    "\n",
    "**temp**：temp 目录是临时磁盘空间，训练或分析过程中产生的不必要文件可以存放在这里，目录中的文件不会保存  \n"
   ]
  },
  {
   "cell_type": "code",
   "execution_count": 1,
   "metadata": {
    "id": "11AC17DD7CD34FB8A522BA92F66A08A5",
    "jupyter": {},
    "notebookId": "67e4d8c25302e998c31b2e52",
    "scrolled": false,
    "slideshow": {
     "slide_type": "slide"
    },
    "tags": []
   },
   "outputs": [],
   "source": [
    "# 查看个人持久化工作区文件\n",
    "import pandas as pd\n",
    "import re\n",
    "import cn2an\n",
    "import numpy as np\n",
    "from sklearn.model_selection import train_test_split\n",
    "from sklearn.linear_model import LinearRegression,Ridge, Lasso, ElasticNet\n",
    "from sklearn.metrics import mean_absolute_error, mean_squared_error, r2_score\n",
    "from sklearn.preprocessing import StandardScaler\n",
    "from sklearn.cluster import KMeans\n",
    "from sklearn.pipeline import make_pipeline\n",
    "import seaborn as sas\n",
    "import matplotlib.pyplot as plt\n",
    "import nltk\n",
    "import jieba "
   ]
  },
  {
   "cell_type": "code",
   "execution_count": 2,
   "metadata": {
    "id": "D80895E8308F4A648AE4A27517DD27AE",
    "jupyter": {},
    "notebookId": "67e4d8c25302e998c31b2e52",
    "scrolled": false,
    "slideshow": {
     "slide_type": "slide"
    },
    "tags": []
   },
   "outputs": [],
   "source": [
    "#pip install cn2an"
   ]
  },
  {
   "cell_type": "code",
   "execution_count": 3,
   "metadata": {
    "id": "00610E86C8E24C248816F2691737B98F",
    "jupyter": {},
    "notebookId": "67e4d8c25302e998c31b2e52",
    "scrolled": false,
    "slideshow": {
     "slide_type": "slide"
    },
    "tags": []
   },
   "outputs": [
    {
     "data": {
      "text/plain": [
       "0          一梯三户\n",
       "1          一梯两户\n",
       "2          一梯一户\n",
       "3        三梯二十三户\n",
       "4         两梯十一户\n",
       "          ...  \n",
       "84128      三梯六户\n",
       "84129      两梯六户\n",
       "84130      两梯六户\n",
       "84131      一梯两户\n",
       "84132      一梯三户\n",
       "Name: 梯户比例, Length: 84133, dtype: object"
      ]
     },
     "execution_count": 3,
     "metadata": {},
     "output_type": "execute_result"
    }
   ],
   "source": [
    "# 查看当前挂载的数据集目录\n",
    "data=pd.read_csv(\"/Users/macbookair/Documents/train_data.csv\")\n",
    "data[\"梯户比例\"]\n"
   ]
  },
  {
   "cell_type": "code",
   "execution_count": 4,
   "metadata": {
    "id": "91E54A2C2A5B44C99772A7333F7EA02F",
    "jupyter": {},
    "notebookId": "67e4d8c25302e998c31b2e52",
    "scrolled": false,
    "slideshow": {
     "slide_type": "slide"
    },
    "tags": []
   },
   "outputs": [],
   "source": [
    "#房屋类型处理\n",
    "def house_type(x):\n",
    "    pattern_1=r\"(\\d+)室(\\d+)厅(\\d+)厨(\\d+)卫\"\n",
    "    pattern_2=r\"(\\d+)房间(\\d+)卫\"\n",
    "    match=re.search(pattern_1,x)\n",
    "    if match:\n",
    "        return {\"房间个数\":match.group(1),\"厅个数\":match.group(3),\"厨房个数\":match.group(2),\"厕所个数\":match.group(4)}\n",
    "    else:\n",
    "        match_2=re.search(pattern_2,x)\n",
    "        if match_2:\n",
    "            return {\"房间个数\":match_2.group(1),\"厅个数\":0,\"厨房个数\":0,\"厕所个数\":match_2.group(2)}\n",
    "        "
   ]
  },
  {
   "cell_type": "code",
   "execution_count": 5,
   "metadata": {
    "id": "106F6C709136451D843531104493E243",
    "jupyter": {},
    "notebookId": "67e4d8c25302e998c31b2e52",
    "scrolled": false,
    "slideshow": {
     "slide_type": "slide"
    },
    "tags": []
   },
   "outputs": [],
   "source": [
    "#楼户比处理\n",
    "def elevator_ratio(x):\n",
    "    pattern=r\"(\\D+)梯(\\D+)户\"\n",
    "    match=re.search(pattern,x)\n",
    "    if match:\n",
    "        elevators=match.group(1)\n",
    "        households=match.group(2)\n",
    "        elevators_num = int(cn2an.cn2an(elevators, \"normal\"))\n",
    "        households_num = int(cn2an.cn2an(households, \"normal\"))\n",
    "    return elevators_num/households_num"
   ]
  },
  {
   "cell_type": "code",
   "execution_count": 6,
   "metadata": {},
   "outputs": [],
   "source": [
    "data[\"梯户比例\"]=data[\"梯户比例\"].map(lambda x: elevator_ratio(x) if pd.notna(x) else 0)"
   ]
  },
  {
   "cell_type": "code",
   "execution_count": 7,
   "metadata": {
    "id": "DF521C0E1DE446CB9E6791F63912741E",
    "jupyter": {},
    "notebookId": "67e4d8c25302e998c31b2e52",
    "scrolled": false,
    "slideshow": {
     "slide_type": "slide"
    },
    "tags": []
   },
   "outputs": [],
   "source": [
    "#所在楼层\n",
    "def floor(x):\n",
    "    parts = x.replace('(', '').replace(')', '').split()\n",
    "    floor_type = parts[0]\n",
    "    return floor_type\n",
    "def total_floor(x):\n",
    "    parts = x.replace('(', '').replace(')', '').split()\n",
    "    total_floor = int(parts[1][1])\n",
    "    return total_floor"
   ]
  },
  {
   "cell_type": "code",
   "execution_count": 8,
   "metadata": {
    "id": "6E7F2048D0CC4CEC9CB50642B4997510",
    "jupyter": {},
    "notebookId": "67e4d8c25302e998c31b2e52",
    "scrolled": false,
    "slideshow": {
     "slide_type": "slide"
    },
    "tags": []
   },
   "outputs": [],
   "source": [
    " \n",
    "def area(x):\n",
    "    pattern=r\"(\\d+)\\.(\\d+)㎡\"\n",
    "    match=re.search(pattern,x)\n",
    "    if match:\n",
    "        return float(match.group(1))"
   ]
  },
  {
   "cell_type": "code",
   "execution_count": 9,
   "metadata": {
    "id": "7B215004263940268B602B16BF7749BE",
    "jupyter": {},
    "notebookId": "67e4d8c25302e998c31b2e52",
    "scrolled": false,
    "slideshow": {
     "slide_type": "slide"
    },
    "tags": []
   },
   "outputs": [],
   "source": [
    "#时间处理\n",
    "def safe_date_convert(date_str):\n",
    "    try:\n",
    "        return pd.to_datetime(date_str)\n",
    "    except :\n",
    "        return pd.Timestamp(\"2018-04-11\")\n",
    "        "
   ]
  },
  {
   "cell_type": "code",
   "execution_count": 10,
   "metadata": {
    "id": "6DD5486FB1C74BB59CE8D127B4F13104",
    "jupyter": {},
    "notebookId": "67e4d8c25302e998c31b2e52",
    "scrolled": false,
    "slideshow": {
     "slide_type": "slide"
    },
    "tags": []
   },
   "outputs": [],
   "source": [
    "#地点处理\n",
    "def location(row):\n",
    "    return str(row[\"城市\"]) + \"_\" + str(row[\"区域\"]) + \"_\" + str(row[\"板块\"])\n"
   ]
  },
  {
   "cell_type": "code",
   "execution_count": 11,
   "metadata": {
    "id": "EF4FCDD08A9F423FB3177907567CEB91",
    "jupyter": {},
    "notebookId": "67e4d8c25302e998c31b2e52",
    "scrolled": false,
    "slideshow": {
     "slide_type": "slide"
    },
    "tags": []
   },
   "outputs": [],
   "source": [
    "#环线处理\n",
    "def simplify_ring(x):\n",
    "    ring={\"核心\" :[\"内环内\",\"一至二环\",\"二环内\",\"一环内\"],\n",
    "    \"市中心\" : [ \"二至三环\", \"三至四环\",\"内环至中环\"],\n",
    "    \"近郊\": [\"内环至外环\",\"四至五环\", \"五至六环\", \"中环至外环\"],\n",
    "    \"远郊\" : [\"六环外\", \"外环外\"],\n",
    "    \"其他\":[\"三环外\", \"四环外\", \"其他\"]}\n",
    "    for key , item in ring.items():\n",
    "        if x in ring[key]:\n",
    "            return key\n",
    "    "
   ]
  },
  {
   "cell_type": "code",
   "execution_count": 12,
   "metadata": {
    "id": "BB68AA9C11DA410E88B785A41725DCC6",
    "jupyter": {},
    "notebookId": "67e4d8c25302e998c31b2e52",
    "scrolled": false,
    "slideshow": {
     "slide_type": "slide"
    },
    "tags": []
   },
   "outputs": [],
   "source": [
    "#使用K-mean对经纬度进行聚类\n",
    "def kmeans(data):\n",
    "    kmeans = KMeans(n_clusters=10, random_state=42)\n",
    "    data[\"location_cluster\"] = kmeans.fit_predict(data[[\"lon\", \"lat\"]])\n",
    "    data=data.drop(columns=[\"lon\",\"lat\"])\n",
    "    return data"
   ]
  },
  {
   "cell_type": "code",
   "execution_count": 13,
   "metadata": {
    "id": "4B1E63027E98463EA725070142CB4D6C",
    "jupyter": {},
    "notebookId": "67e4d8c25302e998c31b2e52",
    "scrolled": false,
    "slideshow": {
     "slide_type": "slide"
    },
    "tags": []
   },
   "outputs": [],
   "source": [
    "#模型评估\n",
    "def evaluate_model(y_true, y_pred, dataset_name=\"Dataset\"):\n",
    "    print(f\"—— {dataset_name} 评估 ——\")\n",
    "    print(f\"R² Score: {r2_score(y_true, y_pred):.4f}\")\n",
    "    print(f\"MAE: {mean_absolute_error(y_true, y_pred):.4f}\")\n",
    "    print(f\"RMSE: {np.sqrt(mean_squared_error(y_true, y_pred)):.4f}\")\n",
    "    print(\"-\" * 30)"
   ]
  },
  {
   "cell_type": "code",
   "execution_count": 14,
   "metadata": {
    "id": "CE60693B593F4883A171B0D9BC23A925",
    "jupyter": {},
    "notebookId": "67e4d8c25302e998c31b2e52",
    "scrolled": false,
    "slideshow": {
     "slide_type": "slide"
    },
    "tags": []
   },
   "outputs": [
    {
     "data": {
      "text/plain": [
       "'plt.rcParams[\\'font.sans-serif\\'] = [\\'Songti SC\\']\\ncorr_matrix=data[[\\'城市\\', \\'区域\\', \\'板块\\', \\'lon\\', \\'lat\\']].corr()\\nplt.figure(figsize=(8,6))\\nsas.heatmap(corr_matrix, annot=True, cmap=\"coolwarm\", fmt=\".2f\")\\nplt.title(\"相关性矩阵\")\\nplt.show()'"
      ]
     },
     "execution_count": 14,
     "metadata": {},
     "output_type": "execute_result"
    }
   ],
   "source": [
    "\"\"\"plt.rcParams['font.sans-serif'] = ['Songti SC']\n",
    "corr_matrix=data[['城市', '区域', '板块', 'lon', 'lat']].corr()\n",
    "plt.figure(figsize=(8,6))\n",
    "sas.heatmap(corr_matrix, annot=True, cmap=\"coolwarm\", fmt=\".2f\")\n",
    "plt.title(\"相关性矩阵\")\n",
    "plt.show()\"\"\""
   ]
  },
  {
   "cell_type": "code",
   "execution_count": 15,
   "metadata": {},
   "outputs": [],
   "source": [
    "#文本特征处理\n",
    "\n",
    "def text(row):\n",
    "    return str(row[\"核心卖点\"])+str(row[\"户型介绍\"])+str(row[\"周边配套\"])+str(row[\"交通出行\"])\n",
    "\n"
   ]
  },
  {
   "cell_type": "code",
   "execution_count": 16,
   "metadata": {},
   "outputs": [],
   "source": [
    "important_words={\"地铁\", \"公交\", \"银行\", \"商场\", \"超市\", \"医院\", \"学校\", \"公园\", \"菜市场\"}\n",
    "def feature(row):\n",
    "    words=jieba.lcut(row[\"text\"])\n",
    "    return list(set([word for word in words if word in important_words]))\n",
    "    "
   ]
  },
  {
   "cell_type": "code",
   "execution_count": 17,
   "metadata": {},
   "outputs": [],
   "source": [
    "def data_preprocess(data):\n",
    "    \n",
    "    #for col in [\"房屋优势\",\"核心卖点\",\"户型介绍\",\"周边配套\",\"交通出行\"]:\n",
    "        #data[col]=data[col].map(lambda x:x if pd.notna(x) else \"无\")\n",
    "    data[\"地址\"]=data.apply(lambda x:location(x),axis=1)\n",
    "    for loc in data[\"地址\"].unique():\n",
    "        data_l=data[data[\"地址\"]==loc]\n",
    "        if data_l.isnull() !=0:\n",
    "            data_l=data.fillna(method=\"ffill\")\n",
    "            data_l=data.fillna(method=\"bfill\")\n",
    "        data[data[\"地址\"]==loc]=data_l\n",
    "    if data.isnull().sum().sum() !=0 :\n",
    "        data=data.fillna(method=\"ffill\")\n",
    "    return data"
   ]
  },
  {
   "cell_type": "code",
   "execution_count": 18,
   "metadata": {
    "id": "175E486E3F4F4F7CB7ACC9F38DD781B9",
    "jupyter": {},
    "notebookId": "67e4d8c25302e998c31b2e52",
    "scrolled": false,
    "slideshow": {
     "slide_type": "slide"
    },
    "tags": []
   },
   "outputs": [],
   "source": [
    "def feature_enigeering(data):\n",
    "    #合并环线\n",
    "    data[\"环线\"]=data[\"环线\"].map(lambda x :x if pd.notna(x) else \"其他\")\n",
    "    data[\"环线\"]=data[\"环线\"].map(lambda x :simplify_ring(x))\n",
    "    data[\"城市\"]=data[\"城市\"].map(lambda x: str(x))\n",
    "    #文本特征处理\n",
    "    data[\"text\"]=data.apply(lambda x: text(x),axis=1)\n",
    "    data[\"feature\"]=data.apply(lambda x :feature(x),axis=1)\n",
    "    for col in important_words:\n",
    "        data[col] = data[\"feature\"].apply(lambda x: 1 if col in x else 0)\n",
    "        data=pd.get_dummies(data, columns=[col], drop_first=True)  \n",
    "    #将房屋朝向变为主朝向\n",
    "    data[\"房屋朝向\"]=data[\"房屋朝向\"].map(lambda x:x.split()[0])\n",
    "    #地铁特征\n",
    "    data[\"房屋优势\"]=data[\"房屋优势\"].apply(lambda x : x if pd.notna(x) else \"无\")\n",
    "    #将类别变量转化为独热代码\n",
    "    for col in [\"城市\",\"房屋朝向\",\"建筑结构\",\"装修情况\",\"配备电梯\",\"交易权属\",\"房屋用途\",\"房屋年限\",\"产权所属\",\"环线\",\"location_cluster\"]:\n",
    "        data[col]=data[col].map(lambda x:x if pd.notna(x) else \"其他\")\n",
    "        data=pd.get_dummies(data, columns=[col], drop_first=True)\n",
    "    #合并\n",
    "    #data[\"房屋用途_公寓\"]=data[\"房屋用途_公寓\"]+data[\"房屋用途_公寓/住宅\"]+data[\"房屋用途_公寓（住宅）\"]+data[\"房屋用途_公寓/公寓\"]\n",
    "    data[\"楼层\"]=data[\"所在楼层\"].map(lambda x:floor(x) if pd.notna(x) else None)\n",
    "    data=pd.get_dummies(data, columns=[\"楼层\"], drop_first=True)\n",
    "    data[\"楼层总数\"]=data[\"所在楼层\"].map(lambda x:total_floor(x) if pd.notna(x) else None)\n",
    "    data[\"梯户比例\"]=data[\"梯户比例\"].map(lambda x: elevator_ratio(x) if pd.notna(x) else 0)\n",
    "    #将房屋户型分为房间 客厅等特征\n",
    "    house_info=data[\"房屋户型\"].map(lambda x:house_type(x) if pd.notna(x) else None)\n",
    "    house_info_df = pd.json_normalize(house_info)\n",
    "    data = pd.concat([data, house_info_df], axis=1)\n",
    "    data[\"建筑面积\"]=data[\"建筑面积\"].map(lambda x:area(x) if pd.notna(x) else 0 )\n",
    "    #时间特征的处理，房价段时间内波动不大，只保留交易的年份\n",
    "    data[\"交易时间\"] = safe_date_convert(data[\"交易时间\"])\n",
    "    data[\"上次交易\"]=safe_date_convert(data[\"上次交易\"])\n",
    "    data[\"交易时间间隔\"] = ( data[\"交易时间\"]- data[\"上次交易\"]).dt.days\n",
    "    data[\"交易时间\"]=data[\"交易时间\"].dt.year\n",
    "    data=data.fillna(method='bfill')\n",
    "    #生成频率特征，衡量市场的供给\n",
    "    place=pd.DataFrame(data.groupby(\"地址\").size())\n",
    "    data[\"频率\"]=data[\"地址\"].apply(lambda x:place.loc[x,0])\n",
    "    #生产面积的多项式\n",
    "    data[\"建筑面积^2\"]=data[\"建筑面积\"]**2\n",
    "    #\n",
    "    #删去无用的特征\n",
    "    data=data.drop(columns=[\"小区名称\",\"套内面积\",\"别墅类型\",\"年份\",\"房屋户型\",\"所在楼层\",\"上次交易\",\"地址\",\"抵押信息\"])\n",
    "    return data\n",
    "\n",
    "    "
   ]
  },
  {
   "cell_type": "code",
   "execution_count": 19,
   "metadata": {},
   "outputs": [],
   "source": [
    "data=data_preprocess(data)"
   ]
  },
  {
   "cell_type": "code",
   "execution_count": 20,
   "metadata": {},
   "outputs": [
    {
     "name": "stderr",
     "output_type": "stream",
     "text": [
      "/Users/macbookair/anaconda3/lib/python3.11/site-packages/sklearn/cluster/_kmeans.py:1412: FutureWarning: The default value of `n_init` will change from 10 to 'auto' in 1.4. Set the value of `n_init` explicitly to suppress the warning\n",
      "  super()._check_params_vs_input(X, default_n_init=10)\n"
     ]
    }
   ],
   "source": [
    "data=kmeans(data)"
   ]
  },
  {
   "cell_type": "code",
   "execution_count": 21,
   "metadata": {
    "id": "DC735ED77F834296A3CDFED9652EA3F5",
    "jupyter": {},
    "notebookId": "67e4d8c25302e998c31b2e52",
    "scrolled": true,
    "slideshow": {
     "slide_type": "slide"
    },
    "tags": []
   },
   "outputs": [
    {
     "name": "stderr",
     "output_type": "stream",
     "text": [
      "Building prefix dict from the default dictionary ...\n",
      "Loading model from cache /var/folders/__/d899fryn1f5cgxzyjrhv6k140000gn/T/jieba.cache\n",
      "Loading model cost 0.435 seconds.\n",
      "Prefix dict has been built successfully.\n"
     ]
    },
    {
     "ename": "TypeError",
     "evalue": "expected string or bytes-like object, got 'float'",
     "output_type": "error",
     "traceback": [
      "\u001b[0;31m---------------------------------------------------------------------------\u001b[0m",
      "\u001b[0;31mTypeError\u001b[0m                                 Traceback (most recent call last)",
      "Cell \u001b[0;32mIn[21], line 2\u001b[0m\n\u001b[1;32m      1\u001b[0m \u001b[38;5;66;03m#数据处理和生产特征将重复无用特征删除\u001b[39;00m\n\u001b[0;32m----> 2\u001b[0m data\u001b[38;5;241m=\u001b[39mfeature_enigeering(data)\n",
      "Cell \u001b[0;32mIn[18], line 25\u001b[0m, in \u001b[0;36mfeature_enigeering\u001b[0;34m(data)\u001b[0m\n\u001b[1;32m     23\u001b[0m data\u001b[38;5;241m=\u001b[39mpd\u001b[38;5;241m.\u001b[39mget_dummies(data, columns\u001b[38;5;241m=\u001b[39m[\u001b[38;5;124m\"\u001b[39m\u001b[38;5;124m楼层\u001b[39m\u001b[38;5;124m\"\u001b[39m], drop_first\u001b[38;5;241m=\u001b[39m\u001b[38;5;28;01mTrue\u001b[39;00m)\n\u001b[1;32m     24\u001b[0m data[\u001b[38;5;124m\"\u001b[39m\u001b[38;5;124m楼层总数\u001b[39m\u001b[38;5;124m\"\u001b[39m]\u001b[38;5;241m=\u001b[39mdata[\u001b[38;5;124m\"\u001b[39m\u001b[38;5;124m所在楼层\u001b[39m\u001b[38;5;124m\"\u001b[39m]\u001b[38;5;241m.\u001b[39mmap(\u001b[38;5;28;01mlambda\u001b[39;00m x:total_floor(x) \u001b[38;5;28;01mif\u001b[39;00m pd\u001b[38;5;241m.\u001b[39mnotna(x) \u001b[38;5;28;01melse\u001b[39;00m \u001b[38;5;28;01mNone\u001b[39;00m)\n\u001b[0;32m---> 25\u001b[0m data[\u001b[38;5;124m\"\u001b[39m\u001b[38;5;124m梯户比例\u001b[39m\u001b[38;5;124m\"\u001b[39m]\u001b[38;5;241m=\u001b[39mdata[\u001b[38;5;124m\"\u001b[39m\u001b[38;5;124m梯户比例\u001b[39m\u001b[38;5;124m\"\u001b[39m]\u001b[38;5;241m.\u001b[39mmap(\u001b[38;5;28;01mlambda\u001b[39;00m x: elevator_ratio(x) \u001b[38;5;28;01mif\u001b[39;00m pd\u001b[38;5;241m.\u001b[39mnotna(x) \u001b[38;5;28;01melse\u001b[39;00m \u001b[38;5;241m0\u001b[39m)\n\u001b[1;32m     26\u001b[0m \u001b[38;5;66;03m#将房屋户型分为房间 客厅等特征\u001b[39;00m\n\u001b[1;32m     27\u001b[0m house_info\u001b[38;5;241m=\u001b[39mdata[\u001b[38;5;124m\"\u001b[39m\u001b[38;5;124m房屋户型\u001b[39m\u001b[38;5;124m\"\u001b[39m]\u001b[38;5;241m.\u001b[39mmap(\u001b[38;5;28;01mlambda\u001b[39;00m x:house_type(x) \u001b[38;5;28;01mif\u001b[39;00m pd\u001b[38;5;241m.\u001b[39mnotna(x) \u001b[38;5;28;01melse\u001b[39;00m \u001b[38;5;28;01mNone\u001b[39;00m)\n",
      "File \u001b[0;32m~/anaconda3/lib/python3.11/site-packages/pandas/core/series.py:4397\u001b[0m, in \u001b[0;36mSeries.map\u001b[0;34m(self, arg, na_action)\u001b[0m\n\u001b[1;32m   4318\u001b[0m \u001b[38;5;28;01mdef\u001b[39;00m \u001b[38;5;21mmap\u001b[39m(\n\u001b[1;32m   4319\u001b[0m     \u001b[38;5;28mself\u001b[39m,\n\u001b[1;32m   4320\u001b[0m     arg: Callable \u001b[38;5;241m|\u001b[39m Mapping \u001b[38;5;241m|\u001b[39m Series,\n\u001b[1;32m   4321\u001b[0m     na_action: Literal[\u001b[38;5;124m\"\u001b[39m\u001b[38;5;124mignore\u001b[39m\u001b[38;5;124m\"\u001b[39m] \u001b[38;5;241m|\u001b[39m \u001b[38;5;28;01mNone\u001b[39;00m \u001b[38;5;241m=\u001b[39m \u001b[38;5;28;01mNone\u001b[39;00m,\n\u001b[1;32m   4322\u001b[0m ) \u001b[38;5;241m-\u001b[39m\u001b[38;5;241m>\u001b[39m Series:\n\u001b[1;32m   4323\u001b[0m \u001b[38;5;250m    \u001b[39m\u001b[38;5;124;03m\"\"\"\u001b[39;00m\n\u001b[1;32m   4324\u001b[0m \u001b[38;5;124;03m    Map values of Series according to an input mapping or function.\u001b[39;00m\n\u001b[1;32m   4325\u001b[0m \n\u001b[0;32m   (...)\u001b[0m\n\u001b[1;32m   4395\u001b[0m \u001b[38;5;124;03m    dtype: object\u001b[39;00m\n\u001b[1;32m   4396\u001b[0m \u001b[38;5;124;03m    \"\"\"\u001b[39;00m\n\u001b[0;32m-> 4397\u001b[0m     new_values \u001b[38;5;241m=\u001b[39m \u001b[38;5;28mself\u001b[39m\u001b[38;5;241m.\u001b[39m_map_values(arg, na_action\u001b[38;5;241m=\u001b[39mna_action)\n\u001b[1;32m   4398\u001b[0m     \u001b[38;5;28;01mreturn\u001b[39;00m \u001b[38;5;28mself\u001b[39m\u001b[38;5;241m.\u001b[39m_constructor(new_values, index\u001b[38;5;241m=\u001b[39m\u001b[38;5;28mself\u001b[39m\u001b[38;5;241m.\u001b[39mindex, copy\u001b[38;5;241m=\u001b[39m\u001b[38;5;28;01mFalse\u001b[39;00m)\u001b[38;5;241m.\u001b[39m__finalize__(\n\u001b[1;32m   4399\u001b[0m         \u001b[38;5;28mself\u001b[39m, method\u001b[38;5;241m=\u001b[39m\u001b[38;5;124m\"\u001b[39m\u001b[38;5;124mmap\u001b[39m\u001b[38;5;124m\"\u001b[39m\n\u001b[1;32m   4400\u001b[0m     )\n",
      "File \u001b[0;32m~/anaconda3/lib/python3.11/site-packages/pandas/core/base.py:924\u001b[0m, in \u001b[0;36mIndexOpsMixin._map_values\u001b[0;34m(self, mapper, na_action)\u001b[0m\n\u001b[1;32m    921\u001b[0m         \u001b[38;5;28;01mraise\u001b[39;00m \u001b[38;5;167;01mValueError\u001b[39;00m(msg)\n\u001b[1;32m    923\u001b[0m \u001b[38;5;66;03m# mapper is a function\u001b[39;00m\n\u001b[0;32m--> 924\u001b[0m new_values \u001b[38;5;241m=\u001b[39m map_f(values, mapper)\n\u001b[1;32m    926\u001b[0m \u001b[38;5;28;01mreturn\u001b[39;00m new_values\n",
      "File \u001b[0;32m~/anaconda3/lib/python3.11/site-packages/pandas/_libs/lib.pyx:2834\u001b[0m, in \u001b[0;36mpandas._libs.lib.map_infer\u001b[0;34m()\u001b[0m\n",
      "Cell \u001b[0;32mIn[18], line 25\u001b[0m, in \u001b[0;36mfeature_enigeering.<locals>.<lambda>\u001b[0;34m(x)\u001b[0m\n\u001b[1;32m     23\u001b[0m data\u001b[38;5;241m=\u001b[39mpd\u001b[38;5;241m.\u001b[39mget_dummies(data, columns\u001b[38;5;241m=\u001b[39m[\u001b[38;5;124m\"\u001b[39m\u001b[38;5;124m楼层\u001b[39m\u001b[38;5;124m\"\u001b[39m], drop_first\u001b[38;5;241m=\u001b[39m\u001b[38;5;28;01mTrue\u001b[39;00m)\n\u001b[1;32m     24\u001b[0m data[\u001b[38;5;124m\"\u001b[39m\u001b[38;5;124m楼层总数\u001b[39m\u001b[38;5;124m\"\u001b[39m]\u001b[38;5;241m=\u001b[39mdata[\u001b[38;5;124m\"\u001b[39m\u001b[38;5;124m所在楼层\u001b[39m\u001b[38;5;124m\"\u001b[39m]\u001b[38;5;241m.\u001b[39mmap(\u001b[38;5;28;01mlambda\u001b[39;00m x:total_floor(x) \u001b[38;5;28;01mif\u001b[39;00m pd\u001b[38;5;241m.\u001b[39mnotna(x) \u001b[38;5;28;01melse\u001b[39;00m \u001b[38;5;28;01mNone\u001b[39;00m)\n\u001b[0;32m---> 25\u001b[0m data[\u001b[38;5;124m\"\u001b[39m\u001b[38;5;124m梯户比例\u001b[39m\u001b[38;5;124m\"\u001b[39m]\u001b[38;5;241m=\u001b[39mdata[\u001b[38;5;124m\"\u001b[39m\u001b[38;5;124m梯户比例\u001b[39m\u001b[38;5;124m\"\u001b[39m]\u001b[38;5;241m.\u001b[39mmap(\u001b[38;5;28;01mlambda\u001b[39;00m x: elevator_ratio(x) \u001b[38;5;28;01mif\u001b[39;00m pd\u001b[38;5;241m.\u001b[39mnotna(x) \u001b[38;5;28;01melse\u001b[39;00m \u001b[38;5;241m0\u001b[39m)\n\u001b[1;32m     26\u001b[0m \u001b[38;5;66;03m#将房屋户型分为房间 客厅等特征\u001b[39;00m\n\u001b[1;32m     27\u001b[0m house_info\u001b[38;5;241m=\u001b[39mdata[\u001b[38;5;124m\"\u001b[39m\u001b[38;5;124m房屋户型\u001b[39m\u001b[38;5;124m\"\u001b[39m]\u001b[38;5;241m.\u001b[39mmap(\u001b[38;5;28;01mlambda\u001b[39;00m x:house_type(x) \u001b[38;5;28;01mif\u001b[39;00m pd\u001b[38;5;241m.\u001b[39mnotna(x) \u001b[38;5;28;01melse\u001b[39;00m \u001b[38;5;28;01mNone\u001b[39;00m)\n",
      "Cell \u001b[0;32mIn[5], line 4\u001b[0m, in \u001b[0;36melevator_ratio\u001b[0;34m(x)\u001b[0m\n\u001b[1;32m      2\u001b[0m \u001b[38;5;28;01mdef\u001b[39;00m \u001b[38;5;21melevator_ratio\u001b[39m(x):\n\u001b[1;32m      3\u001b[0m     pattern\u001b[38;5;241m=\u001b[39m\u001b[38;5;124mr\u001b[39m\u001b[38;5;124m\"\u001b[39m\u001b[38;5;124m(\u001b[39m\u001b[38;5;124m\\\u001b[39m\u001b[38;5;124mD+)梯(\u001b[39m\u001b[38;5;124m\\\u001b[39m\u001b[38;5;124mD+)户\u001b[39m\u001b[38;5;124m\"\u001b[39m\n\u001b[0;32m----> 4\u001b[0m     match\u001b[38;5;241m=\u001b[39mre\u001b[38;5;241m.\u001b[39msearch(pattern,x)\n\u001b[1;32m      5\u001b[0m     \u001b[38;5;28;01mif\u001b[39;00m match:\n\u001b[1;32m      6\u001b[0m         elevators\u001b[38;5;241m=\u001b[39mmatch\u001b[38;5;241m.\u001b[39mgroup(\u001b[38;5;241m1\u001b[39m)\n",
      "File \u001b[0;32m~/anaconda3/lib/python3.11/re/__init__.py:176\u001b[0m, in \u001b[0;36msearch\u001b[0;34m(pattern, string, flags)\u001b[0m\n\u001b[1;32m    173\u001b[0m \u001b[38;5;28;01mdef\u001b[39;00m \u001b[38;5;21msearch\u001b[39m(pattern, string, flags\u001b[38;5;241m=\u001b[39m\u001b[38;5;241m0\u001b[39m):\n\u001b[1;32m    174\u001b[0m \u001b[38;5;250m    \u001b[39m\u001b[38;5;124;03m\"\"\"Scan through string looking for a match to the pattern, returning\u001b[39;00m\n\u001b[1;32m    175\u001b[0m \u001b[38;5;124;03m    a Match object, or None if no match was found.\"\"\"\u001b[39;00m\n\u001b[0;32m--> 176\u001b[0m     \u001b[38;5;28;01mreturn\u001b[39;00m _compile(pattern, flags)\u001b[38;5;241m.\u001b[39msearch(string)\n",
      "\u001b[0;31mTypeError\u001b[0m: expected string or bytes-like object, got 'float'"
     ]
    }
   ],
   "source": [
    "#数据处理和生产特征将重复无用特征删除\n",
    "data=feature_enigeering(data)\n",
    "#data=data.drop(columns=[\"房屋用途_公寓/住宅\",\"房屋用途_公寓/公寓\",\"房屋用途_公寓（住宅）\"])"
   ]
  },
  {
   "cell_type": "code",
   "execution_count": null,
   "metadata": {},
   "outputs": [],
   "source": [
    "data.columns"
   ]
  },
  {
   "cell_type": "code",
   "execution_count": null,
   "metadata": {},
   "outputs": [],
   "source": [
    "#data_Set数据处理\n",
    "data_test=pd.read_csv(\"test_data.csv\")\n",
    "data_test=data_preprocess(data_test)"
   ]
  },
  {
   "cell_type": "code",
   "execution_count": null,
   "metadata": {},
   "outputs": [],
   "source": [
    "data_test=kmeans(data_test)"
   ]
  },
  {
   "cell_type": "code",
   "execution_count": null,
   "metadata": {},
   "outputs": [],
   "source": [
    "data_test=feature_enigeering(data_test)"
   ]
  },
  {
   "cell_type": "code",
   "execution_count": null,
   "metadata": {},
   "outputs": [],
   "source": [
    "data_test=data_test.drop(columns=['Unnamed: 0'])\n",
    "data_test=data_test.sort_values(by=\"ID\")\n"
   ]
  },
  {
   "cell_type": "code",
   "execution_count": null,
   "metadata": {
    "id": "101745A973104D5AB64FAF089CC613F7",
    "jupyter": {},
    "notebookId": "67e4d8c25302e998c31b2e52",
    "scrolled": true,
    "slideshow": {
     "slide_type": "slide"
    },
    "tags": []
   },
   "outputs": [],
   "source": [
    "#分为两个样本包含极端值和不包含极端值\n",
    "houing_outlier=data.copy()\n",
    "houing_outlier_price=houing_outlier[\"价格\"]\n",
    "Q1=houing_outlier_price.quantile(0.25)\n",
    "Q3=houing_outlier_price.quantile(0.75)\n",
    "IQR=Q3-Q1\n",
    "upper_bound=Q3+1.5*IQR\n",
    "lower_bound=Q1-1.5*IQR\n",
    "houing_outlier=houing_outlier[(houing_outlier[\"价格\"]>=lower_bound)&(houing_outlier[\"价格\"]<=upper_bound)]"
   ]
  },
  {
   "cell_type": "code",
   "execution_count": null,
   "metadata": {
    "id": "FE2FE167EB82470B96BB328CE04B4F08",
    "jupyter": {},
    "notebookId": "67e4d8c25302e998c31b2e52",
    "scrolled": false,
    "slideshow": {
     "slide_type": "slide"
    },
    "tags": []
   },
   "outputs": [],
   "source": [
    "#除去价格\n",
    "house_price=data[\"价格\"]\n",
    "data=data.drop(columns=[\"价格\"])\n",
    "house_price_outlier=houing_outlier[\"价格\"]\n",
    "houing_outlier=houing_outlier.drop(columns=[\"价格\"])\n"
   ]
  },
  {
   "cell_type": "code",
   "execution_count": null,
   "metadata": {},
   "outputs": [],
   "source": [
    "data_1=data.copy()\n",
    "data_1=data_1.drop(columns=[\"区域\",\"板块\",\"房屋优势\",\"核心卖点\",\"户型介绍\",\"周边配套\",\"交通出行\",\n",
    "                            \"text\",\"feature\",\"菜市场_1\",'超市_1','银行_1','商场_1','地铁_1','公交_1','公园_1','学校_1','医院_1'])\n",
    "\n",
    "\n",
    "\n",
    "\n",
    "\n"
   ]
  },
  {
   "cell_type": "code",
   "execution_count": null,
   "metadata": {},
   "outputs": [],
   "source": [
    "y_train=house_price\n",
    "#X_train, X_test, y_train, y_test = train_test_split(X, y, test_size=0.2, random_state=42)"
   ]
  },
  {
   "cell_type": "code",
   "execution_count": null,
   "metadata": {},
   "outputs": [],
   "source": [
    "X_train=data_1\n",
    "X_test=data_test\n",
    "common_cols = X_train.columns.intersection(X_test.columns)\n",
    "X_train = X_train[common_cols]\n",
    "X_test = X_test[common_cols]"
   ]
  },
  {
   "cell_type": "code",
   "execution_count": null,
   "metadata": {},
   "outputs": [],
   "source": [
    "scaler = StandardScaler()\n",
    "X_train_scaled = scaler.fit_transform(X_train)\n",
    "X_test_scaled = scaler.transform(X_test)\n"
   ]
  },
  {
   "cell_type": "code",
   "execution_count": null,
   "metadata": {},
   "outputs": [],
   "source": [
    "# cross volidation\n",
    "pipeline_LinearRegression = make_pipeline(StandardScaler(),LinearRegression() )\n",
    "pipeline_Ridge=make_pipeline(StandardScaler(),Ridge() )\n",
    "pipeline_Lasso=make_pipeline(StandardScaler(),Lasso() )\n",
    "pipeline_ElasticNet=make_pipeline(StandardScaler(),ElasticNet() )\n",
    "for pipeline in [pipeline_LinearRegression,pipeline_Ridge,pipeline_Lasso,pipeline_ElasticNet]:\n",
    "    scores = cross_val_score(pipeline, X_train, y_train, cv=5,scoring='r2')\n",
    "    print(f\"每一折的R² 分数：{scores}\")\n",
    "    print(f\"平均R² 分数：{np.mean(scores)}\")\n"
   ]
  },
  {
   "cell_type": "code",
   "execution_count": null,
   "metadata": {},
   "outputs": [],
   "source": [
    "#拟合函数\n",
    "elastic_net = ElasticNet(alpha=0.1, l1_ratio=0.5)  # alpha 和 l1_ratio 控制正则化\n",
    "elastic_net.fit(X_train_scaled, y_train)\n",
    "elastic_net_pred = elastic_net.predict(X_test_scaled)\n",
    "print(f\"回归系数: {elastic_net.coef_}\")\n",
    "print(f\"截距: {elastic_net.intercept_}\")\n",
    "print(f\"R² 分数: {elastic_net.score(X_train, y_train)}\")"
   ]
  },
  {
   "cell_type": "code",
   "execution_count": null,
   "metadata": {},
   "outputs": [],
   "source": [
    "y_test_pred=pd.Series(elastic_net_pred,name=\"price\")\n",
    "y_test_pred=pd.DataFrame(elastic_net_pred)\n",
    "y_test_pred.to_csv(\"elastic_net_pred.csv\")"
   ]
  },
  {
   "cell_type": "code",
   "execution_count": null,
   "metadata": {},
   "outputs": [],
   "source": []
  },
  {
   "cell_type": "code",
   "execution_count": null,
   "metadata": {},
   "outputs": [],
   "source": []
  }
 ],
 "metadata": {
  "kernelspec": {
   "display_name": "Python 3 (ipykernel)",
   "language": "python",
   "name": "python3"
  },
  "language_info": {
   "codemirror_mode": {
    "name": "ipython",
    "version": 3
   },
   "file_extension": ".py",
   "mimetype": "text/x-python",
   "name": "python",
   "nbconvert_exporter": "python",
   "pygments_lexer": "ipython3",
   "version": "3.11.5"
  }
 },
 "nbformat": 4,
 "nbformat_minor": 1
}
