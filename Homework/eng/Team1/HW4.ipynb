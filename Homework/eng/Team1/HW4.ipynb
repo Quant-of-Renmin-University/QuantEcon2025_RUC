{
 "cells": [
  {
   "cell_type": "code",
   "execution_count": 2,
   "id": "61a11944-b7b4-4e1f-bb3c-407170b18b53",
   "metadata": {},
   "outputs": [],
   "source": [
    "#一、标签未标准化，导致 ElasticNet 报收敛警告"
   ]
  },
  {
   "cell_type": "code",
   "execution_count": null,
   "id": "64b15f28-94c1-4bcc-b949-f8ae34b4b11e",
   "metadata": {},
   "outputs": [],
   "source": [
    "#问题：原始代码直接将价格作为目标变量，数值跨度较大，ElasticNet 报出以下警告：\n",
    "#ConvergenceWarning: Objective did not converge. You might want to increase the number of iterations..."
   ]
  },
  {
   "cell_type": "code",
   "execution_count": null,
   "id": "2f4271c0-cb6a-4d47-aa70-e5810e08361e",
   "metadata": {},
   "outputs": [],
   "source": [
    "#修改建议：对标签进行对数变换（log1p），以稳定模型优化过程。"
   ]
  },
  {
   "cell_type": "code",
   "execution_count": null,
   "id": "2e43e355-597f-4028-9772-311abbaebfd6",
   "metadata": {},
   "outputs": [],
   "source": [
    "data['价格_log'] = np.log1p(data['价格'])"
   ]
  },
  {
   "cell_type": "code",
   "execution_count": null,
   "id": "b7606f8f-bd8a-4c96-be3b-fe8becbbfa02",
   "metadata": {},
   "outputs": [],
   "source": [
    "#二、Box-Cox 变换在合并数据集上进行，可能发生数据泄露"
   ]
  },
  {
   "cell_type": "code",
   "execution_count": null,
   "id": "1b1f6a0c-928e-4702-be1a-a98bf8254709",
   "metadata": {},
   "outputs": [],
   "source": [
    "#问题：Box-Cox 或 Yeo-Johnson 对全部数据（训练 + 测试）做变换：\n",
    "full_data['建筑面积_norm'] = boxcox(full_data['建筑面积'])"
   ]
  },
  {
   "cell_type": "code",
   "execution_count": null,
   "id": "3eea3a26-aab8-478e-9600-bb9e35d79a53",
   "metadata": {},
   "outputs": [],
   "source": [
    "#修改建议：只在训练集拟合变换器，然后应用到测试集。"
   ]
  },
  {
   "cell_type": "code",
   "execution_count": null,
   "id": "dbeaae6a-e66c-48ac-a08c-07bc5434b261",
   "metadata": {},
   "outputs": [],
   "source": [
    "from sklearn.preprocessing import PowerTransformer\n",
    "\n",
    "pt = PowerTransformer(method='yeo-johnson')\n",
    "train_data['建筑面积_norm'] = pt.fit_transform(train_data[['建筑面积']])\n",
    "test_data['建筑面积_norm'] = pt.transform(test_data[['建筑面积']])"
   ]
  },
  {
   "cell_type": "code",
   "execution_count": null,
   "id": "6349d37d-9400-4df2-9f9e-8e74b0983af1",
   "metadata": {},
   "outputs": [],
   "source": [
    "# 三、聚类模型在训练+测试集上统一聚类，可能发生信息泄露"
   ]
  },
  {
   "cell_type": "code",
   "execution_count": null,
   "id": "e76a3417-4f3d-483c-8723-6c56eebef926",
   "metadata": {},
   "outputs": [],
   "source": [
    "# 错误做法\n",
    "full_data['cluster'] = KMeans(n_clusters=5).fit_predict(full_data[features])"
   ]
  },
  {
   "cell_type": "code",
   "execution_count": null,
   "id": "c6797915-1bbc-4da1-b10d-feb791429d4e",
   "metadata": {},
   "outputs": [],
   "source": [
    "#修改建议：仅在训练集上聚类，然后将模型用于预测集。\n",
    "from sklearn.cluster import KMeans\n",
    "\n",
    "cluster_model = KMeans(n_clusters=5, random_state=42)\n",
    "train_data['cluster'] = cluster_model.fit_predict(train_data[cluster_features])\n",
    "test_data['cluster'] = cluster_model.predict(test_data[cluster_features])"
   ]
  },
  {
   "cell_type": "code",
   "execution_count": null,
   "id": "f2ab0aa6-6f84-4f5e-b089-945bb5517c15",
   "metadata": {},
   "outputs": [],
   "source": [
    "#四、通过标签训练回归生成新特征：detail_pre 和 MDH_pre"
   ]
  },
  {
   "cell_type": "code",
   "execution_count": null,
   "id": "64f148e3-0b23-4824-83a7-1a98509fc861",
   "metadata": {},
   "outputs": [],
   "source": [
    "# “标签回归再变成特征”的方式本质上是标签穿透，属于典型的数据泄露\n",
    "model.fit(X_train, y_train)\n",
    "full_data['detail_pre'] = model.predict(full_data[features])"
   ]
  },
  {
   "cell_type": "code",
   "execution_count": null,
   "id": "afad0ca4-e32c-4317-9553-957a5dae6320",
   "metadata": {},
   "outputs": [],
   "source": [
    "#建议删除该特征，或仅在训练集上构造，测试集完全隔离。\n",
    "train_data['detail_pre'] = model.fit(...).predict(...)\n",
    "test_data['detail_pre'] = model.predict(...)"
   ]
  },
  {
   "cell_type": "code",
   "execution_count": null,
   "id": "8828c993-a6a5-41a6-939e-b7591b8b41f1",
   "metadata": {},
   "outputs": [],
   "source": [
    "#五、ElasticNetCV 参数粗糙，alpha/l1_ratio 太少"
   ]
  },
  {
   "cell_type": "code",
   "execution_count": null,
   "id": "cd22ff5e-a281-4162-a4df-cdf93c7e43a8",
   "metadata": {},
   "outputs": [],
   "source": [
    "ElasticNetCV(alphas=[0.1, 1], l1_ratio=[0.5, 0.7], ...)\n",
    "#网格太粗，容易错过较优参数组合。"
   ]
  },
  {
   "cell_type": "code",
   "execution_count": null,
   "id": "2efc0a58-ab04-4fe2-a482-8474895a0fe5",
   "metadata": {},
   "outputs": [],
   "source": [
    "#修改建议：细化搜索网格以提升模型表现：\n",
    "\n",
    "from sklearn.linear_model import ElasticNetCV\n",
    "\n",
    "model = ElasticNetCV(\n",
    "    alphas=np.logspace(-3, 2, 30),        # 更密集的 alpha\n",
    "    l1_ratio=np.linspace(0.1, 0.9, 9),    # 更细的 l1_ratio 粒度\n",
    "    cv=5,\n",
    "    max_iter=5000,\n",
    "    random_state=42\n",
    ")"
   ]
  },
  {
   "cell_type": "code",
   "execution_count": null,
   "id": "82f7b860-d0a7-4c39-813e-0b8e755fc358",
   "metadata": {},
   "outputs": [],
   "source": [
    "#六、手动相关性筛选 + 忽略变量交互，合理性存疑"
   ]
  },
  {
   "cell_type": "code",
   "execution_count": null,
   "id": "d2ca8de1-1818-4d0a-a0f9-e62cf777ecbc",
   "metadata": {},
   "outputs": [],
   "source": [
    "cols = corrDf['价格'][abs(corrDf['价格']) > 0.0001].index\n",
    "#单变量相关性筛选没有考虑多重共线性或变量组合的交互作用。ElasticNet 本身有变量筛选能力，手动筛选可能反而剔除有价值特征。"
   ]
  },
  {
   "cell_type": "code",
   "execution_count": null,
   "id": "6c011ccf-69c8-46d2-9e0c-867c2bf2b603",
   "metadata": {},
   "outputs": [],
   "source": [
    "#修改建议：加入 VIF 检查冗余变量或完全依赖 ElasticNet 做特征选择。\n",
    "from statsmodels.stats.outliers_influence import variance_inflation_factor\n",
    "\n",
    "X = train_data[features]\n",
    "vif = pd.DataFrame()\n",
    "vif[\"feature\"] = X.columns\n",
    "vif[\"VIF\"] = [variance_inflation_factor(X.values, i) for i in range(X.shape[1])]"
   ]
  },
  {
   "cell_type": "code",
   "execution_count": null,
   "id": "47a681e2-9235-4cf3-981e-411c34f8c6b8",
   "metadata": {},
   "outputs": [],
   "source": [
    "#七、代码风格问题：可读性有待改进、函数未封装"
   ]
  },
  {
   "cell_type": "code",
   "execution_count": null,
   "id": "c31b6686-6202-4d01-b6f4-15006b49ab64",
   "metadata": {},
   "outputs": [],
   "source": [
    "#问题：命名混乱，如 sum_train, fullNew，含义不清。多段重复代码可封装为函数。"
   ]
  },
  {
   "cell_type": "code",
   "execution_count": null,
   "id": "08be7b0a-9bff-46f7-aa16-418ced15e6f1",
   "metadata": {},
   "outputs": [],
   "source": [
    "#修改建议：封装常用过程，例如：\n",
    "\n",
    "def normalize_building_area(train_df, test_df, col='建筑面积'):\n",
    "    pt = PowerTransformer(method='yeo-johnson')\n",
    "    train_df[col + '_norm'] = pt.fit_transform(train_df[[col]])\n",
    "    test_df[col + '_norm'] = pt.transform(test_df[[col]])\n",
    "    return train_df, test_df"
   ]
  }
 ],
 "metadata": {
  "kernelspec": {
   "display_name": "Python 3 (ipykernel)",
   "language": "python",
   "name": "python3"
  },
  "language_info": {
   "codemirror_mode": {
    "name": "ipython",
    "version": 3
   },
   "file_extension": ".py",
   "mimetype": "text/x-python",
   "name": "python",
   "nbconvert_exporter": "python",
   "pygments_lexer": "ipython3",
   "version": "3.12.7"
  }
 },
 "nbformat": 4,
 "nbformat_minor": 5
}
