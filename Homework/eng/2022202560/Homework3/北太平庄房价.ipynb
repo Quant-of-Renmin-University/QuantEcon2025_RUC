{
 "cells": [
  {
   "cell_type": "code",
   "execution_count": 127,
   "id": "47f7d592-d426-4a90-98cb-8552dc40d451",
   "metadata": {},
   "outputs": [
    {
     "name": "stdout",
     "output_type": "stream",
     "text": [
      "Defaulting to user installation because normal site-packages is not writeable\n",
      "Requirement already satisfied: selenium in c:\\users\\18910\\appdata\\roaming\\python\\python312\\site-packages (4.29.0)\n",
      "Requirement already satisfied: urllib3<3,>=1.26 in d:\\anaconda\\lib\\site-packages (from urllib3[socks]<3,>=1.26->selenium) (2.2.3)\n",
      "Requirement already satisfied: trio~=0.17 in c:\\users\\18910\\appdata\\roaming\\python\\python312\\site-packages (from selenium) (0.29.0)\n",
      "Requirement already satisfied: trio-websocket~=0.9 in c:\\users\\18910\\appdata\\roaming\\python\\python312\\site-packages (from selenium) (0.12.2)\n",
      "Requirement already satisfied: certifi>=2021.10.8 in d:\\anaconda\\lib\\site-packages (from selenium) (2024.8.30)\n",
      "Requirement already satisfied: typing_extensions~=4.9 in d:\\anaconda\\lib\\site-packages (from selenium) (4.11.0)\n",
      "Requirement already satisfied: websocket-client~=1.8 in d:\\anaconda\\lib\\site-packages (from selenium) (1.8.0)\n",
      "Requirement already satisfied: attrs>=23.2.0 in c:\\users\\18910\\appdata\\roaming\\python\\python312\\site-packages (from trio~=0.17->selenium) (25.3.0)\n",
      "Requirement already satisfied: sortedcontainers in d:\\anaconda\\lib\\site-packages (from trio~=0.17->selenium) (2.4.0)\n",
      "Requirement already satisfied: idna in d:\\anaconda\\lib\\site-packages (from trio~=0.17->selenium) (3.7)\n",
      "Requirement already satisfied: outcome in c:\\users\\18910\\appdata\\roaming\\python\\python312\\site-packages (from trio~=0.17->selenium) (1.3.0.post0)\n",
      "Requirement already satisfied: sniffio>=1.3.0 in d:\\anaconda\\lib\\site-packages (from trio~=0.17->selenium) (1.3.0)\n",
      "Requirement already satisfied: cffi>=1.14 in d:\\anaconda\\lib\\site-packages (from trio~=0.17->selenium) (1.17.1)\n",
      "Requirement already satisfied: wsproto>=0.14 in c:\\users\\18910\\appdata\\roaming\\python\\python312\\site-packages (from trio-websocket~=0.9->selenium) (1.2.0)\n",
      "Requirement already satisfied: pysocks!=1.5.7,<2.0,>=1.5.6 in d:\\anaconda\\lib\\site-packages (from urllib3[socks]<3,>=1.26->selenium) (1.7.1)\n",
      "Requirement already satisfied: pycparser in d:\\anaconda\\lib\\site-packages (from cffi>=1.14->trio~=0.17->selenium) (2.21)\n",
      "Requirement already satisfied: h11<1,>=0.9.0 in d:\\anaconda\\lib\\site-packages (from wsproto>=0.14->trio-websocket~=0.9->selenium) (0.14.0)\n",
      "['Solarize_Light2', '_classic_test_patch', '_mpl-gallery', '_mpl-gallery-nogrid', 'bmh', 'classic', 'dark_background', 'fast', 'fivethirtyeight', 'ggplot', 'grayscale', 'seaborn-v0_8', 'seaborn-v0_8-bright', 'seaborn-v0_8-colorblind', 'seaborn-v0_8-dark', 'seaborn-v0_8-dark-palette', 'seaborn-v0_8-darkgrid', 'seaborn-v0_8-deep', 'seaborn-v0_8-muted', 'seaborn-v0_8-notebook', 'seaborn-v0_8-paper', 'seaborn-v0_8-pastel', 'seaborn-v0_8-poster', 'seaborn-v0_8-talk', 'seaborn-v0_8-ticks', 'seaborn-v0_8-white', 'seaborn-v0_8-whitegrid', 'tableau-colorblind10']\n"
     ]
    }
   ],
   "source": [
    "!pip install selenium\n",
    "from selenium import webdriver\n",
    "import pandas as pd\n",
    "from selenium.common import NoSuchElementException, StaleElementReferenceException\n",
    "from matplotlib import style\n",
    "from selenium.webdriver.common.by import By\n",
    "from selenium.webdriver.support.ui import WebDriverWait\n",
    "import re\n",
    "\n",
    "print(plt.style.available)\n",
    "%matplotlib inline"
   ]
  },
  {
   "cell_type": "code",
   "execution_count": 152,
   "id": "4c36e359-ca04-4f59-a409-2ab31b9fd35e",
   "metadata": {},
   "outputs": [],
   "source": [
    "driver = webdriver.Edge()\n",
    "url = \"https://esf.fang.com/house-a015277-b05/\"\n",
    "driver.get(url)"
   ]
  },
  {
   "cell_type": "code",
   "execution_count": 153,
   "id": "841f9460-c378-45d1-b135-9aae95160155",
   "metadata": {},
   "outputs": [],
   "source": [
    "#def next_page(driver):\n",
    "#    try:\n",
    "#        next_page = WebDriverWait(driver, 10).until(\n",
    "#            EC.presence_of_element_located((By.LINK_TEXT, \"下一页\"))\n",
    "#        )\n",
    "#        driver.execute_script(\"arguments[0].click();\", next_page) \n"
   ]
  },
  {
   "cell_type": "code",
   "execution_count": 154,
   "id": "c013eab3-9d66-447d-967e-d3a088efd23f",
   "metadata": {},
   "outputs": [
    {
     "name": "stdout",
     "output_type": "stream",
     "text": [
      "NoSuchElementException\n",
      "NoSuchElementException\n"
     ]
    }
   ],
   "source": [
    "i = 0\n",
    "data = []\n",
    "while i <= 2:\n",
    "    houses = driver.find_elements(By.CSS_SELECTOR, 'dl.clearfix')\n",
    "    for house in houses:\n",
    "        title = house.find_element(By.CSS_SELECTOR, '.tit_shop').text\n",
    "        info = house.find_element(By.CSS_SELECTOR, '.tel_shop').text\n",
    "        price = house.find_element(By.CSS_SELECTOR, '.price_right').text\n",
    "        item = {\"名字\":title,\"信息\":info,\"价格\":price}\n",
    "        data.append(item)\n",
    "    try:\n",
    "        next_page = driver.find_element(By.LINK_TEXT, \"下一页\")\n",
    "        next_page.click()\n",
    "    except NoSuchElementException:\n",
    "        print(\"NoSuchElementException\")\n",
    "    i+=1"
   ]
  },
  {
   "cell_type": "code",
   "execution_count": 161,
   "id": "668c165d-f987-4027-b33a-f55b7e7f6580",
   "metadata": {},
   "outputs": [],
   "source": [
    "def house_price(house_price):\n",
    "    if not isinstance(house_price, str): \n",
    "        return {'总价(万)': None, '单价(元/㎡)': None}\n",
    "\n",
    "    total_price = re.search(r'(\\d+(\\.\\d+)?)万', house_price) \n",
    "    unit_price = re.search(r'(\\d+(\\.\\d+)?)元/㎡', house_price)\n",
    "\n",
    "    return {\n",
    "        '总价(万)': float(total_price.group(1)) if total_price else None,\n",
    "        '单价(元/㎡)': float(unit_price.group(1)) if unit_price else None\n",
    "    }"
   ]
  },
  {
   "cell_type": "code",
   "execution_count": 162,
   "id": "79f0b211-47d1-47be-9317-b69aac56e728",
   "metadata": {},
   "outputs": [
    {
     "name": "stdout",
     "output_type": "stream",
     "text": [
      "                               名字     布局  面积（㎡）          楼层     朝向  建成年份  \\\n",
      "0       蓟门桥地铁央产大院双南向两居室精装交付满五年商品房  2室1厅   60.30  高层 （共16层）    东南向   1993   \n",
      "1  北京邮电大学家属区 电梯房 视野开阔 采光好小户型 钢混结构  2室1厅   57.70  高层 （共16层）    西北向   1992   \n",
      "2    小西天 北京邮电大学家属楼 正规朝南一居室 业主诚意出售  1室1厅   33.15   底层 （共5层）     南向   1985   \n",
      "3          小西天 · 北京邮电大学 · 3室 · 1厅  3室1厅   93.49   中层 （共7层）     东向   2001   \n",
      "4  蓟门桥 小西天 师大北 教科所 南向两居室 电梯房 看房方便  2室1厅   54.13  顶层 （共12层）     南向   1985   \n",
      "\n",
      "   总价(万)   单价(元/㎡)  \n",
      "0  598.0   99170.0  \n",
      "1  530.0   91854.0  \n",
      "2  350.0  105580.0  \n",
      "3  805.0   86105.0  \n",
      "4  415.0   76667.0  \n"
     ]
    }
   ],
   "source": [
    "houses_data = []\n",
    "\n",
    "for item in data:\n",
    "    info = item[\"信息\"].split(\"|\")\n",
    "    price = house_price(item[\"价格\"])  \n",
    "    layout = info[0] if len(info) > 0 else None\n",
    "    area = float(info[1][:-2]) if len(info) > 1 and \"㎡\" in info[1] else None\n",
    "    floor = info[2] if len(info) > 2 else None\n",
    "    orientation = info[3] if len(info) > 3 else None\n",
    "    year_built = int(info[4][:-3]) if len(info) > 4 and \"年\" in info[4] else None\n",
    "\n",
    "    house_dict = {\n",
    "        '名字': item.get(\"名字\", \"未知\"),\n",
    "        '布局': layout,\n",
    "        '面积（㎡）': area,\n",
    "        '楼层': floor,\n",
    "        '朝向': orientation,\n",
    "        '建成年份': year_built,\n",
    "        **price  \n",
    "    }\n",
    "\n",
    "    houses_data.append(house_dict)  # 存入列表\n",
    "\n",
    "df = pd.DataFrame(houses_data)\n",
    "\n",
    "# 输出前几行检查\n",
    "print(df.head())"
   ]
  },
  {
   "cell_type": "code",
   "execution_count": 163,
   "id": "54c99cd0-2724-47ed-948b-7f6205dbc648",
   "metadata": {},
   "outputs": [],
   "source": [
    "df.to_csv(r\"C:\\Users\\18910\\Desktop\\北太平庄房价.csv\",encoding='utf_8_sig')"
   ]
  },
  {
   "cell_type": "code",
   "execution_count": null,
   "id": "e15be8a6-3dfc-4199-acf0-ebdc83f1b07e",
   "metadata": {},
   "outputs": [],
   "source": []
  },
  {
   "cell_type": "code",
   "execution_count": 126,
   "id": "2d324895-8fc5-48b8-aa45-52369c55fba2",
   "metadata": {},
   "outputs": [],
   "source": []
  },
  {
   "cell_type": "code",
   "execution_count": 114,
   "id": "00795f5b-b908-403c-bd1b-5425e1001aeb",
   "metadata": {},
   "outputs": [],
   "source": []
  }
 ],
 "metadata": {
  "kernelspec": {
   "display_name": "Python 3 (ipykernel)",
   "language": "python",
   "name": "python3"
  },
  "language_info": {
   "codemirror_mode": {
    "name": "ipython",
    "version": 3
   },
   "file_extension": ".py",
   "mimetype": "text/x-python",
   "name": "python",
   "nbconvert_exporter": "python",
   "pygments_lexer": "ipython3",
   "version": "3.12.7"
  }
 },
 "nbformat": 4,
 "nbformat_minor": 5
}
