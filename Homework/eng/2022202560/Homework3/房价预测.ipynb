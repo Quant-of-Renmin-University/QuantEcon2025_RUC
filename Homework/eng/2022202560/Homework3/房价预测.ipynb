{
 "cells": [
  {
   "cell_type": "code",
   "execution_count": 12,
   "id": "3ed9187d-0d55-4ee6-a703-76e0c847b9d1",
   "metadata": {},
   "outputs": [
    {
     "data": {
      "text/plain": [
       "85532.0"
      ]
     },
     "execution_count": 12,
     "metadata": {},
     "output_type": "execute_result"
    }
   ],
   "source": [
    "#!/usr/bin/env python\n",
    "# coding: utf-8\n",
    "\n",
    "# In[29]:\n",
    "\n",
    "import pandas as pd\n",
    "import numpy as np\n",
    "import matplotlib.pyplot as plt\n",
    "from sklearn.linear_model import LinearRegression\n",
    "from sklearn.preprocessing import StandardScaler\n",
    "\n",
    "#苏州街租金单价\n",
    "suzhoujie_rental=pd.read_csv(\"/Users/18910/Desktop/苏州街租金信息.csv\")\n",
    "suzhoujie_rental[\"单价\"]=round(suzhoujie_rental[\"价格\"]/suzhoujie_rental[\"面积(㎡)\"],2)\n",
    "suzhoujie_rental_median=suzhoujie_rental[\"单价\"].median()\n",
    "\n",
    "df1=pd.DataFrame({\"单位租金\":suzhoujie_rental[\"单价\"],\"location\":[\"苏州街\"]*suzhoujie_rental[\"单价\"].shape[0],\"面积\":suzhoujie_rental[\"面积(㎡)\"]})\n",
    "\n",
    "#苏州街房价\n",
    "suzhoujie_price=pd.read_csv(\"/Users/18910/Desktop/苏州街房子信息.csv\")\n",
    "suzhoujie_price_median=suzhoujie_price[\"单价(元/㎡)\"].median()\n",
    "suzhoujie_price_df=pd.DataFrame({\"单价\":suzhoujie_price[\"单价(元/㎡)\"],\"location\":[\"苏州街\"]*suzhoujie_price[\"单价(元/㎡)\"].shape[0],\n",
    "                                \"面积\":suzhoujie_price[\"面积(㎡)\"]})\n",
    "\n",
    "suzhoujie_price_median"
   ]
  },
  {
   "cell_type": "code",
   "execution_count": 13,
   "id": "38a181f4-c909-4e8a-b42a-e873a13b8c60",
   "metadata": {},
   "outputs": [
    {
     "data": {
      "text/plain": [
       "145637.0"
      ]
     },
     "execution_count": 13,
     "metadata": {},
     "output_type": "execute_result"
    }
   ],
   "source": [
    "#万柳租金单价\n",
    "rental3=pd.read_csv(\"/Users/18910/Desktop/万柳租金.csv\")\n",
    "rental3[\"单价\"]=rental3[\"价格(元/月)\"]/rental3[\"面积（㎡）\"]\n",
    "rental3_median=rental3[\"单价\"].median()\n",
    "area3=rental3[\"面积（㎡）\"]\n",
    "df2=pd.DataFrame({\"单位租金\":rental3[\"单价\"],\"location\":[\"万柳\"]*rental3[\"单价\"].shape[0],\"面积\":area3})\n",
    "\n",
    "#万柳房价\n",
    "price3=pd.read_csv(\"/Users/18910/Desktop/万柳房价.csv\")\n",
    "price3_median=price3[\"单价（元/㎡）\"].median()\n",
    "price3_df=pd.DataFrame({\"单价\":price3[\"单价（元/㎡）\"],\"location\":[\"万柳\"]*price3[\"单价（元/㎡）\"].shape[0],\n",
    "                       \"面积\":price3[\"面积（㎡）\"]})\n",
    "price3_median"
   ]
  },
  {
   "cell_type": "code",
   "execution_count": 14,
   "id": "02b12cca-3e8d-467c-b9e4-1d44d38df943",
   "metadata": {},
   "outputs": [
    {
     "data": {
      "text/plain": [
       "90898.0"
      ]
     },
     "execution_count": 14,
     "metadata": {},
     "output_type": "execute_result"
    }
   ],
   "source": [
    "#北太平庄租金单价\n",
    "rental2=pd.read_csv(\"/Users/18910/Desktop/北太平庄房租.csv\")\n",
    "rental2[\"单价\"]=rental2[\"价格\"]/rental2[\"面积（㎡）\"]\n",
    "rental2_median=rental2[\"单价\"].median()\n",
    "area2=rental2[\"面积（㎡）\"]\n",
    "df3=pd.DataFrame({\"单位租金\":rental2[\"单价\"],\"location\":[\"北太平庄\"]*rental2[\"单价\"].shape[0],\"面积\":area2})\n",
    "rental2_median\n",
    "\n",
    "#北太平庄房价\n",
    "price2=pd.read_csv(\"/Users/18910/Desktop/北太平庄房价.csv\")\n",
    "price2_median=price2[\"单价(元/㎡)\"].median()\n",
    "price2_df=pd.DataFrame({\"单价\":price2[\"单价(元/㎡)\"],\"location\":[\"北太平庄\"]*price2[\"单价(元/㎡)\"].shape[0],\n",
    "                       \"面积\":price2[\"面积（㎡）\"]})\n",
    "price2_median\n"
   ]
  },
  {
   "cell_type": "code",
   "execution_count": 15,
   "id": "886c6ab3-0f9b-47ce-8ddb-248433329390",
   "metadata": {},
   "outputs": [
    {
     "data": {
      "image/png": "[encoded data removed]",
      "text/plain": [
       "<Figure size 1000x400 with 1 Axes>"
      ]
     },
     "metadata": {},
     "output_type": "display_data"
    }
   ],
   "source": [
    "#单价的条形图\n",
    "plt.figure(figsize=(10, 4))\n",
    "locations = [\"suzhoujie\", \"north taipingzhuang\",\"wanliu\"]\n",
    "median_rent=[suzhoujie_price_median/(suzhoujie_rental_median*12),price2_median/(rental2_median*12),price3_median/(rental3_median*12)]\n",
    "plt.bar(locations,median_rent, color=[\"green\",\"blue\",\"black\"])\n",
    "plt.xlabel(\"block\")\n",
    "plt.ylabel(\"ratio\")\n",
    "plt.title(\"the median price to rent ratio\")\n",
    "plt.show()\n",
    "\n",
    "df_combined = pd.concat([df1, df2, df3], ignore_index=True)"
   ]
  },
  {
   "cell_type": "code",
   "execution_count": 16,
   "id": "507d70cd-b442-4824-bbe8-f0ce69124f8e",
   "metadata": {},
   "outputs": [
    {
     "name": "stdout",
     "output_type": "stream",
     "text": [
      "回归系数: [-4.37306211e-01  7.68152606e+01 -1.52200027e+01 -6.15952580e+01\n",
      " -1.18961886e+00  5.75409232e-03  7.46558556e-01]\n",
      "截距: 182.4827384297336\n",
      "R² 分数: 0.2260245464061389\n"
     ]
    }
   ],
   "source": [
    "df = pd.get_dummies(df_combined, columns=['location'])\n",
    "df['m2_苏州街_interaction'] = df['面积'] * df['location_苏州街']\n",
    "df['m2_万柳_interaction'] = df['面积'] * df['location_万柳']\n",
    "df['m2_北太平庄_interaction'] = df['面积'] * df['location_北太平庄']\n",
    "X = df[['面积', 'location_苏州街', 'location_北太平庄',\"location_万柳\",'m2_苏州街_interaction', 'm2_北太平庄_interaction',\"m2_万柳_interaction\"]]\n",
    "y = df['单位租金']\n",
    "\n",
    "model = LinearRegression()\n",
    "model.fit(X, y)\n",
    "print(f\"回归系数: {model.coef_}\")\n",
    "print(f\"截距: {model.intercept_}\")\n",
    "print(f\"R² 分数: {model.score(X, y)}\")"
   ]
  },
  {
   "cell_type": "code",
   "execution_count": 17,
   "id": "92bbac10-c54a-49b7-85b3-225c0f7e64aa",
   "metadata": {},
   "outputs": [
    {
     "name": "stdout",
     "output_type": "stream",
     "text": [
      "预测的单位租金: [118.47080256 146.26053906 248.333881  ]\n"
     ]
    }
   ],
   "source": [
    "new_data = pd.DataFrame({\n",
    "    '面积': [50, 50, 50],  # 新的面积数据\n",
    "    'location_苏州街': [1, 0, 0],  # 新的苏州街位置数据\n",
    "    'location_北太平庄': [0, 1, 0],  # 新的北太平庄位置数据\n",
    "    'location_万柳': [0, 0, 1],  # 新的万柳位置数据\n",
    "    'm2_苏州街_interaction': [100 * 1, 150 * 0, 200 * 0],  # 面积与苏州街的交互项\n",
    "      # 面积与万柳的交互项\n",
    "    'm2_北太平庄_interaction': [100 * 0, 150 * 1, 200 * 0],'m2_万柳_interaction': [100 * 0, 150 * 0, 200 * 1]  # 面积与北太平庄的交互项\n",
    "})\n",
    "predictions = model.predict(new_data)\n",
    "print(\"预测的单位租金:\", predictions)\n",
    "\n",
    "df_combined2 = pd.concat([suzhoujie_price_df,price2_df,price3_df], ignore_index=True)"
   ]
  },
  {
   "cell_type": "code",
   "execution_count": 18,
   "id": "588a1d7f-a66a-48c6-a7eb-d166b02d886e",
   "metadata": {},
   "outputs": [
    {
     "name": "stdout",
     "output_type": "stream",
     "text": [
      "回归系数: [ 2.33805351e+02 -2.04243604e+04 -9.14477675e+03  2.95691372e+04\n",
      "  7.32017423e+01  0.00000000e+00  2.33953023e+01]\n",
      "截距: 81502.2696542804\n",
      "R² 分数: 0.5601109978241835\n"
     ]
    }
   ],
   "source": [
    "#房价的多元回归\n",
    "df2 = pd.get_dummies(df_combined2, columns=['location'])\n",
    "df2['m2_苏州街_interaction'] = df['面积'] * df['location_苏州街']\n",
    "df2['m2_万柳_interaction'] = df['面积'] * df['location_万柳']\n",
    "df2['m2_北太平庄_interaction'] = df['面积'] * df['location_北太平庄']\n",
    "X = df2[['面积', 'location_苏州街', 'location_北太平庄',\"location_万柳\",'m2_苏州街_interaction', 'm2_北太平庄_interaction',\"m2_万柳_interaction\"]]\n",
    "y=df2[\"单价\"]\n",
    "model = LinearRegression()\n",
    "model.fit(X, y)\n",
    "print(f\"回归系数: {model.coef_}\")\n",
    "print(f\"截距: {model.intercept_}\")\n",
    "print(f\"R² 分数: {model.score(X, y)}\")"
   ]
  },
  {
   "cell_type": "code",
   "execution_count": 19,
   "id": "d23d0425-e4b0-4039-9687-9e62cc27d22b",
   "metadata": {},
   "outputs": [
    {
     "name": "stdout",
     "output_type": "stream",
     "text": [
      "预测的单位价格: [ 80088.35100346  84047.76042608 127440.73479323]\n"
     ]
    }
   ],
   "source": [
    "#房价预测\n",
    "new_data = pd.DataFrame({\n",
    "    '面积': [50, 50, 50],  \n",
    "    'location_苏州街': [1, 0, 0],  \n",
    "    'location_北太平庄': [0, 1, 0],  \n",
    "    'location_万柳': [0, 0, 1],  \n",
    "    'm2_苏州街_interaction': [100 * 1, 150 * 0, 200 * 0],  \n",
    "\n",
    "    'm2_北太平庄_interaction': [100 * 0, 150 * 1, 200 * 0],'m2_万柳_interaction': [100 * 0, 150 * 0, 200 * 1]  # 面积与北太平庄的交互项\n",
    "})\n",
    "predictions = model.predict(new_data)\n",
    "print(\"预测的单位价格:\", predictions)"
   ]
  },
  {
   "cell_type": "code",
   "execution_count": null,
   "id": "1d5150e3-143f-4f95-9c37-6b6e25385348",
   "metadata": {},
   "outputs": [],
   "source": [
    "new_data = pd.DataFrame({\n",
    "    '面积': [100, 100, 100],  \n",
    "    'location_苏州街': [1, 0, 0],  \n",
    "    'location_北太平庄': [0, 1, 0],  \n",
    "    'location_万柳': [0, 0, 1],  \n",
    "    'm2_苏州街_interaction': [100 * 1, 150 * 0, 200 * 0],  \n",
    "      \n",
    "    'm2_北太平庄_interaction': [100 * 0, 150 * 1, 200 * 0],'m2_万柳_interaction': [100 * 0, 150 * 0, 200 * 1]  # 面积与北太平庄的交互项\n",
    "})\n",
    "predictions = model.predict(new_data)\n",
    "print(\"预测的单位价格:\", predictions)"
   ]
  }
 ],
 "metadata": {
  "kernelspec": {
   "display_name": "Python 3 (ipykernel)",
   "language": "python",
   "name": "python3"
  },
  "language_info": {
   "codemirror_mode": {
    "name": "ipython",
    "version": 3
   },
   "file_extension": ".py",
   "mimetype": "text/x-python",
   "name": "python",
   "nbconvert_exporter": "python",
   "pygments_lexer": "ipython3",
   "version": "3.12.7"
  }
 },
 "nbformat": 4,
 "nbformat_minor": 5
}
