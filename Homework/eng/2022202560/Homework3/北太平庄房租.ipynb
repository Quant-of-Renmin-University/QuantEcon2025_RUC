{
 "cells": [
  {
   "cell_type": "code",
   "execution_count": 10,
   "id": "47f7d592-d426-4a90-98cb-8552dc40d451",
   "metadata": {},
   "outputs": [
    {
     "name": "stdout",
     "output_type": "stream",
     "text": [
      "Defaulting to user installation because normal site-packages is not writeable\n",
      "Requirement already satisfied: selenium in c:\\users\\18910\\appdata\\roaming\\python\\python312\\site-packages (4.29.0)\n",
      "Requirement already satisfied: urllib3<3,>=1.26 in d:\\anaconda\\lib\\site-packages (from urllib3[socks]<3,>=1.26->selenium) (2.2.3)\n",
      "Requirement already satisfied: trio~=0.17 in c:\\users\\18910\\appdata\\roaming\\python\\python312\\site-packages (from selenium) (0.29.0)\n",
      "Requirement already satisfied: trio-websocket~=0.9 in c:\\users\\18910\\appdata\\roaming\\python\\python312\\site-packages (from selenium) (0.12.2)\n",
      "Requirement already satisfied: certifi>=2021.10.8 in d:\\anaconda\\lib\\site-packages (from selenium) (2024.8.30)\n",
      "Requirement already satisfied: typing_extensions~=4.9 in d:\\anaconda\\lib\\site-packages (from selenium) (4.11.0)\n",
      "Requirement already satisfied: websocket-client~=1.8 in d:\\anaconda\\lib\\site-packages (from selenium) (1.8.0)\n",
      "Requirement already satisfied: attrs>=23.2.0 in c:\\users\\18910\\appdata\\roaming\\python\\python312\\site-packages (from trio~=0.17->selenium) (25.3.0)\n",
      "Requirement already satisfied: sortedcontainers in d:\\anaconda\\lib\\site-packages (from trio~=0.17->selenium) (2.4.0)\n",
      "Requirement already satisfied: idna in d:\\anaconda\\lib\\site-packages (from trio~=0.17->selenium) (3.7)\n",
      "Requirement already satisfied: outcome in c:\\users\\18910\\appdata\\roaming\\python\\python312\\site-packages (from trio~=0.17->selenium) (1.3.0.post0)\n",
      "Requirement already satisfied: sniffio>=1.3.0 in d:\\anaconda\\lib\\site-packages (from trio~=0.17->selenium) (1.3.0)\n",
      "Requirement already satisfied: cffi>=1.14 in d:\\anaconda\\lib\\site-packages (from trio~=0.17->selenium) (1.17.1)\n",
      "Requirement already satisfied: wsproto>=0.14 in c:\\users\\18910\\appdata\\roaming\\python\\python312\\site-packages (from trio-websocket~=0.9->selenium) (1.2.0)\n",
      "Requirement already satisfied: pysocks!=1.5.7,<2.0,>=1.5.6 in d:\\anaconda\\lib\\site-packages (from urllib3[socks]<3,>=1.26->selenium) (1.7.1)\n",
      "Requirement already satisfied: pycparser in d:\\anaconda\\lib\\site-packages (from cffi>=1.14->trio~=0.17->selenium) (2.21)\n",
      "Requirement already satisfied: h11<1,>=0.9.0 in d:\\anaconda\\lib\\site-packages (from wsproto>=0.14->trio-websocket~=0.9->selenium) (0.14.0)\n"
     ]
    }
   ],
   "source": [
    "!pip install selenium\n",
    "from selenium import webdriver\n",
    "from time import sleep\n",
    "import pandas as pd\n",
    "from selenium.common import NoSuchElementException, StaleElementReferenceException\n",
    "from matplotlib import style\n",
    "from selenium.webdriver.common.by import By\n",
    "from selenium.webdriver.support.ui import WebDriverWait\n",
    "import re\n",
    "\n",
    "%matplotlib inline"
   ]
  },
  {
   "cell_type": "code",
   "execution_count": 32,
   "id": "4c36e359-ca04-4f59-a409-2ab31b9fd35e",
   "metadata": {},
   "outputs": [],
   "source": [
    "driver = webdriver.Edge()\n",
    "url = \"https://zu.fang.com/house-a015277-b05/\"\n",
    "driver.get(url)"
   ]
  },
  {
   "cell_type": "code",
   "execution_count": 33,
   "id": "841f9460-c378-45d1-b135-9aae95160155",
   "metadata": {},
   "outputs": [],
   "source": [
    "#def next_page(driver):\n",
    "#    try:\n",
    "#        next_page = WebDriverWait(driver, 10).until(\n",
    "#            EC.presence_of_element_located((By.LINK_TEXT, \"下一页\"))\n",
    "#        )\n",
    "#        driver.execute_script(\"arguments[0].click();\", next_page) \n"
   ]
  },
  {
   "cell_type": "code",
   "execution_count": 34,
   "id": "c013eab3-9d66-447d-967e-d3a088efd23f",
   "metadata": {
    "scrolled": true
   },
   "outputs": [
    {
     "name": "stdout",
     "output_type": "stream",
     "text": [
      "NoSuchElementException\n",
      "NoSuchElementException\n"
     ]
    }
   ],
   "source": [
    "i = 0\n",
    "data = []\n",
    "while i <= 2:\n",
    "    houses = driver.find_elements(By.CSS_SELECTOR, 'dl.list.hiddenMap.rel')\n",
    "    for house in houses:\n",
    "        title = house.find_element(By.CSS_SELECTOR, 'p.title a').get_attribute('title')\n",
    "        info = house.find_element(By.CSS_SELECTOR, 'p.font15.mt12.bold').text\n",
    "        location = house.find_element(By.CSS_SELECTOR, 'p.gray6.mt12').text\n",
    "        \n",
    "        traffic_elements = house.find_elements(By.CSS_SELECTOR, 'span.note.subInfor')\n",
    "        traffic = traffic_elements[0].text if traffic_elements else \"无信息\"\n",
    "        \n",
    "        price = house.find_element(By.CSS_SELECTOR, 'span.price').text\n",
    "        \n",
    "        item = {\"名字\": title, \"信息\": info, \"地址\": location, \"交通\": traffic, \"价格\": price}\n",
    "        data.append(item)\n",
    "    \n",
    "    try:\n",
    "        next_page = driver.find_element(By.LINK_TEXT, \"下一页\")\n",
    "        next_page.click()\n",
    "    except NoSuchElementException:\n",
    "        print(\"NoSuchElementException\")\n",
    "    \n",
    "    i += 1"
   ]
  },
  {
   "cell_type": "code",
   "execution_count": 35,
   "id": "79f0b211-47d1-47be-9317-b69aac56e728",
   "metadata": {},
   "outputs": [],
   "source": [
    "houses_data = []\n",
    "\n",
    "for item in data:\n",
    "    title = item[\"名字\"]\n",
    "    info = item[\"信息\"].split(\"|\")\n",
    "    price = item[\"价格\"] \n",
    "    location = item[\"地址\"]\n",
    "    traffic = item[\"交通\"]\n",
    "    mode = info[0]\n",
    "    layout = info[1]\n",
    "    \n",
    "    area = None\n",
    "    if len(info) > 2 and \"㎡\" in info[2]:\n",
    "        try:\n",
    "            area = float(info[2].replace(\"㎡\", \"\").strip())\n",
    "        except ValueError:\n",
    "            area = None\n",
    "    \n",
    "    orientation = info[3] if len(info) > 3 else \"未知\"\n",
    "    \n",
    "    house_dict = {\n",
    "        '名字': title,\n",
    "        '价格': price,\n",
    "        '地址': location,\n",
    "        '交通': traffic,\n",
    "        '出租方式': mode,\n",
    "        '布局': layout,\n",
    "        '面积（㎡）': area,\n",
    "        '朝向': orientation\n",
    "    }\n",
    "\n",
    "    houses_data.append(house_dict)  # 存入列表\n",
    "\n",
    "df = pd.DataFrame(houses_data)"
   ]
  },
  {
   "cell_type": "code",
   "execution_count": 36,
   "id": "54c99cd0-2724-47ed-948b-7f6205dbc648",
   "metadata": {},
   "outputs": [],
   "source": [
    "df.to_csv(r\"C:\\Users\\18910\\Desktop\\北太平庄房租.csv\",encoding='utf_8_sig')"
   ]
  },
  {
   "cell_type": "code",
   "execution_count": null,
   "id": "e15be8a6-3dfc-4199-acf0-ebdc83f1b07e",
   "metadata": {},
   "outputs": [],
   "source": []
  },
  {
   "cell_type": "code",
   "execution_count": null,
   "id": "2d324895-8fc5-48b8-aa45-52369c55fba2",
   "metadata": {},
   "outputs": [],
   "source": []
  },
  {
   "cell_type": "code",
   "execution_count": 114,
   "id": "00795f5b-b908-403c-bd1b-5425e1001aeb",
   "metadata": {},
   "outputs": [],
   "source": []
  }
 ],
 "metadata": {
  "kernelspec": {
   "display_name": "Python 3 (ipykernel)",
   "language": "python",
   "name": "python3"
  },
  "language_info": {
   "codemirror_mode": {
    "name": "ipython",
    "version": 3
   },
   "file_extension": ".py",
   "mimetype": "text/x-python",
   "name": "python",
   "nbconvert_exporter": "python",
   "pygments_lexer": "ipython3",
   "version": "3.12.7"
  }
 },
 "nbformat": 4,
 "nbformat_minor": 5
}
