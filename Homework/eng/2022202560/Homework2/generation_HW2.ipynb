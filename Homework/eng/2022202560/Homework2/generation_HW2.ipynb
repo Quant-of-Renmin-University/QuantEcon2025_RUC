{
 "cells": [
  {
   "cell_type": "code",
   "execution_count": 33,
   "id": "9e8367f7-d9ed-4cf0-b5b3-7a7f4caab28a",
   "metadata": {},
   "outputs": [
    {
     "name": "stdout",
     "output_type": "stream",
     "text": [
      "Defaulting to user installation because normal site-packages is not writeable\n",
      "Requirement already satisfied: docxtpl in c:\\users\\18910\\appdata\\roaming\\python\\python312\\site-packages (0.19.1)\n",
      "Requirement already satisfied: python-docx>=1.1.1 in c:\\users\\18910\\appdata\\roaming\\python\\python312\\site-packages (from docxtpl) (1.1.2)\n",
      "Requirement already satisfied: docxcompose in c:\\users\\18910\\appdata\\roaming\\python\\python312\\site-packages (from docxtpl) (1.4.0)\n",
      "Requirement already satisfied: jinja2 in d:\\anaconda\\lib\\site-packages (from docxtpl) (3.1.4)\n",
      "Requirement already satisfied: lxml in d:\\anaconda\\lib\\site-packages (from docxtpl) (5.2.1)\n",
      "Requirement already satisfied: typing-extensions>=4.9.0 in d:\\anaconda\\lib\\site-packages (from python-docx>=1.1.1->docxtpl) (4.11.0)\n",
      "Requirement already satisfied: setuptools in d:\\anaconda\\lib\\site-packages (from docxcompose->docxtpl) (75.1.0)\n",
      "Requirement already satisfied: six in d:\\anaconda\\lib\\site-packages (from docxcompose->docxtpl) (1.16.0)\n",
      "Requirement already satisfied: babel in d:\\anaconda\\lib\\site-packages (from docxcompose->docxtpl) (2.11.0)\n",
      "Requirement already satisfied: MarkupSafe>=2.0 in d:\\anaconda\\lib\\site-packages (from jinja2->docxtpl) (2.1.3)\n",
      "Requirement already satisfied: pytz>=2015.7 in d:\\anaconda\\lib\\site-packages (from babel->docxcompose->docxtpl) (2024.1)\n"
     ]
    }
   ],
   "source": [
    "import sys\n",
    "!{sys.executable} -m pip install docxtpl"
   ]
  },
  {
   "cell_type": "code",
   "execution_count": 34,
   "id": "b7fb1512-86c8-46bf-9010-09a0f5cf5336",
   "metadata": {},
   "outputs": [
    {
     "name": "stdout",
     "output_type": "stream",
     "text": [
      "Defaulting to user installation because normal site-packages is not writeable\n",
      "Requirement already satisfied: docx2pdf in c:\\users\\18910\\appdata\\roaming\\python\\python312\\site-packages (0.1.8)\n",
      "Requirement already satisfied: pywin32>=227 in d:\\anaconda\\lib\\site-packages (from docx2pdf) (305.1)\n",
      "Requirement already satisfied: tqdm>=4.41.0 in d:\\anaconda\\lib\\site-packages (from docx2pdf) (4.66.5)\n",
      "Requirement already satisfied: colorama in d:\\anaconda\\lib\\site-packages (from tqdm>=4.41.0->docx2pdf) (0.4.6)\n"
     ]
    }
   ],
   "source": [
    "import sys\n",
    "!{sys.executable} -m pip install docx2pdf"
   ]
  },
  {
   "cell_type": "code",
   "execution_count": 35,
   "id": "fdd4784e-a9c0-4d1e-9bc5-bdc9b1a4f514",
   "metadata": {},
   "outputs": [],
   "source": [
    "import pandas as pd\n",
    "from docxtpl import DocxTemplate\n",
    "from docx2pdf import convert"
   ]
  },
  {
   "cell_type": "code",
   "execution_count": 36,
   "id": "3657ea4d-bc0b-43a1-92cb-ee46198e27c3",
   "metadata": {},
   "outputs": [],
   "source": [
    "import sys\n",
    "import os\n",
    "import pandas as pd\n",
    "from docxtpl import DocxTemplate\n",
    "from docx2pdf import convert"
   ]
  },
  {
   "cell_type": "code",
   "execution_count": 37,
   "id": "a1b90818-ff27-4d85-ac52-182aa4408a99",
   "metadata": {},
   "outputs": [],
   "source": [
    "excel_path = r\"C:\\Users\\18910\\Desktop\\List.xlsx\"  \n",
    "df = pd.read_excel(excel_path)\n",
    "\n",
    "template_path = r\"C:\\Users\\18910\\Desktop\\Application Letter.docx\"\n",
    "template = DocxTemplate(template_path)"
   ]
  },
  {
   "cell_type": "code",
   "execution_count": 38,
   "id": "d9545559-082c-4fc4-883d-bfdab88dacb9",
   "metadata": {},
   "outputs": [],
   "source": [
    "output_folder = r\"C:\\Users\\18910\\Desktop\\Generated_Applications\"\n",
    "os.makedirs(output_folder, exist_ok=True)"
   ]
  },
  {
   "cell_type": "code",
   "execution_count": 47,
   "id": "654c9045-fb2b-447c-8ddf-3a96a3ab06e0",
   "metadata": {},
   "outputs": [],
   "source": [
    "for index, row in df.iterrows():\n",
    "    university_name = row[\"University Names\"]\n",
    "    for major_col in [\"Major1\", \"Major2\", \"Major3\"]:\n",
    "        program_name = row[major_col]\n",
    "        template_path = r\"C:\\Users\\18910\\Desktop\\Application Letter.docx\"\n",
    "        template = DocxTemplate(template_path)\n",
    "        context = {\n",
    "            \"university_name\": university_name,\n",
    "            \"program_name\": program_name\n",
    "        }\n",
    "        template.render(context)\n",
    "        safe_university_name = \"\".join(c if c.isalnum() or c in \" _-\" else \"_\" for c in university_name)\n",
    "        safe_program_name = \"\".join(c if c.isalnum() or c in \" _-\" else \"_\" for c in program_name)\n",
    "        word_filename = os.path.join(output_folder, f\"{safe_university_name}_{safe_program_name}.docx\")\n",
    "        template.save(word_filename)\n"
   ]
  },
  {
   "cell_type": "code",
   "execution_count": 48,
   "id": "b10b4b43-d75e-42fb-8064-070874d50999",
   "metadata": {},
   "outputs": [
    {
     "data": {
      "application/vnd.jupyter.widget-view+json": {
       "model_id": "58e42308bb794b7cbd7f6cf321f3c40d",
       "version_major": 2,
       "version_minor": 0
      },
      "text/plain": [
       "  0%|          | 0/92 [00:00<?, ?it/s]"
      ]
     },
     "metadata": {},
     "output_type": "display_data"
    }
   ],
   "source": [
    "convert(output_folder)"
   ]
  },
  {
   "cell_type": "code",
   "execution_count": 45,
   "id": "5d49bb50-ceb1-4fa6-9b9f-2340d6d8cbb4",
   "metadata": {},
   "outputs": [
    {
     "data": {
      "application/vnd.jupyter.widget-view+json": {
       "model_id": "82de22999acf48ed9a33ef0391dbfa39",
       "version_major": 2,
       "version_minor": 0
      },
      "text/plain": [
       "  0%|          | 0/3 [00:00<?, ?it/s]"
      ]
     },
     "metadata": {},
     "output_type": "display_data"
    }
   ],
   "source": []
  },
  {
   "cell_type": "code",
   "execution_count": null,
   "id": "e92a4f22-4136-47cc-8c42-cd806e89b0d8",
   "metadata": {},
   "outputs": [],
   "source": []
  }
 ],
 "metadata": {
  "kernelspec": {
   "display_name": "Python 3 (ipykernel)",
   "language": "python",
   "name": "python3"
  },
  "language_info": {
   "codemirror_mode": {
    "name": "ipython",
    "version": 3
   },
   "file_extension": ".py",
   "mimetype": "text/x-python",
   "name": "python",
   "nbconvert_exporter": "python",
   "pygments_lexer": "ipython3",
   "version": "3.12.7"
  }
 },
 "nbformat": 4,
 "nbformat_minor": 5
}
