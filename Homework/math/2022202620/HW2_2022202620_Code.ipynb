{
 "cells": [
  {
   "cell_type": "code",
   "execution_count": null,
   "metadata": {},
   "outputs": [],
   "source": [
    "import os\n",
    "import pandas as pd\n",
    "from docx import Document\n",
    "import docx2pdf\n",
    "import time\n",
    "import subprocess"
   ]
  },
  {
   "cell_type": "code",
   "execution_count": null,
   "metadata": {},
   "outputs": [],
   "source": [
    "# 生成申请信模板的函数\n",
    "def generate_sop_template(name, university, department, program):\n",
    "    sop = f\"\"\"\n",
    "    Dear admission committee,\n",
    "\n",
    "    My name is {name}, and I am writing to express my sincere interest in applying for admission to the {department} at {university}. \n",
    "    {university}'s reputation for academic excellence, particularly in the field of economics, aligns perfectly with my academic aspirations and career goals.\n",
    "\n",
    "    Over the past few years, I have developed a strong foundation in economics, statistics, and data science, which I believe makes me well-prepared for the rigorous academic environment at {university}.\n",
    "    I am particularly interested in pursuing the {program} at your esteemed institution. I am confident that this program will equip me with the necessary skills to contribute meaningfully to the field of economics and make significant strides in the industry.\n",
    "\n",
    "    I have always been passionate about analyzing economic data and understanding the deeper mechanisms that govern the economy. My previous academic experiences have allowed me to build a strong quantitative background, and I am eager to expand my knowledge further under the guidance of your distinguished faculty.\n",
    "\n",
    "    Thank you for considering my application. I look forward to the opportunity to contribute to and learn from the vibrant academic community at {university}.\n",
    "\n",
    "    Sincerely,\n",
    "    {name}\n",
    "    \"\"\"\n",
    "    return sop"
   ]
  },
  {
   "cell_type": "code",
   "execution_count": null,
   "metadata": {},
   "outputs": [],
   "source": [
    "excel_path = 'C:/Users/86158/Desktop/HW2/Universities_Programs.xlsx'\n",
    "df = pd.read_excel(excel_path)\n",
    "word_folder = r\"C:\\Users\\86158\\Desktop\\HW2\\output\\Word\"\n",
    "pdf_folder = r\"C:\\Users\\86158\\Desktop\\HW2\\output\\PDF\"\n",
    "os.makedirs(word_folder, exist_ok=True)\n",
    "os.makedirs(pdf_folder, exist_ok=True)"
   ]
  },
  {
   "cell_type": "code",
   "execution_count": null,
   "metadata": {},
   "outputs": [],
   "source": [
    "# 生成所有Word文件\n",
    "for index, row in df.iterrows():\n",
    "    university = row['University Names']\n",
    "    department = \"Economics Department\"\n",
    "    programs = [row['Major1'].strip(), row['Major2'].strip(), row['Major3'].strip()]\n",
    "    \n",
    "    for i, program in enumerate(programs, start=1):\n",
    "        name = \"Chenglin Wang\"  \n",
    "        sop = generate_sop_template(name, university, department, program)\n",
    "        \n",
    "        filename = f\"{word_folder}/StatementOfPurpose_{university.replace(' ', '_')}_{i}.docx\"\n",
    "        save_sop_as_word(sop, filename)\n",
    "        print(f\"Statement of Purpose for {program} at {university} has been saved as {filename}\")"
   ]
  },
  {
   "cell_type": "code",
   "execution_count": null,
   "metadata": {},
   "outputs": [],
   "source": [
    "# 将所有Word文件转换为PDF\n",
    "for filename in os.listdir(word_folder):\n",
    "    if filename.endswith('.docx'):\n",
    "        docx_path = os.path.join(word_folder, filename)\n",
    "        pdf_path = os.path.join(pdf_folder, filename.replace('.docx', '.pdf'))\n",
    "        docx2pdf.convert(docx_path, pdf_path)\n",
    "        print(f\"Converted {filename} to PDF as {pdf_path}\")"
   ]
  }
 ],
 "metadata": {
  "language_info": {
   "name": "python"
  }
 },
 "nbformat": 4,
 "nbformat_minor": 2
}
