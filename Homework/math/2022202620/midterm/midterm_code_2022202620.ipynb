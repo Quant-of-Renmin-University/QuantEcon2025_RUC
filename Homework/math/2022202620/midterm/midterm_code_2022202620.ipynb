{
 "cells": [
  {
   "cell_type": "markdown",
   "metadata": {},
   "source": [
    "# Midterm Project: Machine Learning Modeling\n",
    "## 一、数据加载与准备"
   ]
  },
  {
   "cell_type": "code",
   "execution_count": 2,
   "metadata": {},
   "outputs": [],
   "source": [
    "from sklearn.model_selection import train_test_split, cross_validate, cross_val_score\n",
    "from sklearn.linear_model import LinearRegression, Lasso, Ridge, ElasticNet , SGDRegressor\n",
    "from sklearn.metrics import mean_absolute_error, mean_squared_error\n",
    "from sklearn.preprocessing import StandardScaler, OneHotEncoder\n",
    "from sklearn.compose import ColumnTransformer\n",
    "from category_encoders import TargetEncoder\n",
    "from sklearn.impute import SimpleImputer\n",
    "from sklearn.metrics import make_scorer\n",
    "from sklearn.pipeline import Pipeline\n",
    "import numpy as np\n",
    "import pandas as pd\n",
    "import re\n",
    "import warnings\n",
    "\n",
    "# 加载数据\n",
    "train_df = pd.read_csv(\"C:/Users/86158/Desktop/Mid_Test/Data/ruc_Class25Q1_train.csv\")\n",
    "test_df = pd.read_csv(\"C:/Users/86158/Desktop/Mid_Test/Data/ruc_Class25Q1_test.csv\")\n",
    "detail_df = pd.read_csv(\"C:/Users/86158/Desktop/Mid_Test/Data/ruc_Class25Q1_details.csv\")\n",
    "\n",
    "warnings.filterwarnings('ignore') "
   ]
  },
  {
   "cell_type": "markdown",
   "metadata": {},
   "source": [
    "## 二、数据预处理\n",
    "### 2.1 数据检查"
   ]
  },
  {
   "cell_type": "code",
   "execution_count": 3,
   "metadata": {},
   "outputs": [
    {
     "name": "stdout",
     "output_type": "stream",
     "text": [
      "训练数据列名: ['城市', '区域', '板块', '环线', '小区名称', '价格', '房屋户型', '所在楼层', '建筑面积', '套内面积', '房屋朝向', '建筑结构', '装修情况', '梯户比例', '配备电梯', '别墅类型', '交易时间', '交易权属', '上次交易', '房屋用途', '房屋年限', '产权所属', '抵押信息', '房屋优势', '核心卖点', '户型介绍', '周边配套', '交通出行', 'lon', 'lat', '年份']\n",
      "详情数据列名: ['区县', '名称', '城市', '板块', '环线位置', '小区地址', '物业类别', '建筑年代', '开发商', '房屋总数', '楼栋总数', '物业公司', '绿 化 率', '容 积 率', '物 业 费', '建筑结构', '物业办公电话', '产权描述', '供水', '供暖', '供电', '燃气费', '供热费', '停车位', '停车费用', 'coord_x', 'coord_y']\n"
     ]
    }
   ],
   "source": [
    "print(\"训练数据列名:\", train_df.columns.tolist())\n",
    "print(\"详情数据列名:\", detail_df.columns.tolist())"
   ]
  },
  {
   "cell_type": "markdown",
   "metadata": {},
   "source": [
    "### 2.2 预处理函数构建（特征工程）"
   ]
  },
  {
   "cell_type": "code",
   "execution_count": 25,
   "metadata": {},
   "outputs": [],
   "source": [
    "def improved_preprocessing(df, is_train=True, target_enc=None):\n",
    "    # 记录初始行数\n",
    "    initial_rows = len(df)\n",
    "    print(f\"\\n{'训练数据' if is_train else '测试数据'}初始行数: {initial_rows}\")\n",
    "    \n",
    "    processed_df = df.copy()\n",
    "    \n",
    "    # 1. 合并小区详情数据\n",
    "    if '小区名称' in processed_df.columns and '名称' in detail_df.columns:\n",
    "        print(\"\\n正在合并小区详情数据...\")\n",
    "        print(f\"详情数据初始行数: {len(detail_df)}\")\n",
    "        \n",
    "        detail_df_clean = detail_df.drop_duplicates(subset=['名称'])\n",
    "        print(f\"去重后详情数据行数: {len(detail_df_clean)}\")\n",
    "        \n",
    "        processed_df = pd.merge(\n",
    "            processed_df, \n",
    "            detail_df_clean, \n",
    "            left_on='小区名称', \n",
    "            right_on='名称', \n",
    "            how='left'\n",
    "        )\n",
    "        print(f\"合并后行数: {len(processed_df)} (应与合并前相同)\")\n",
    "        \n",
    "        # 删除合并后多余的列\n",
    "        if '名称' in processed_df.columns:\n",
    "            processed_df = processed_df.drop('名称', axis=1)\n",
    "    \n",
    "    # 2. 删除无用和泄露特征\n",
    "    drop_cols = [\n",
    "        '房屋优势', '核心卖点', '户型介绍', '周边配套', '交通出行',\n",
    "        'lon', 'lat', '小区名称',\n",
    "        '房屋年限', '上次交易', '年份',\n",
    "        '梯户比例', '交易权属',\n",
    "        '房屋户型', '所在楼层'\n",
    "    ]\n",
    "    # 只删除实际存在的列\n",
    "    drop_cols = [col for col in drop_cols if col in processed_df.columns]\n",
    "    print(f\"\\n将删除以下列: {drop_cols}\")\n",
    "    processed_df = processed_df.drop(drop_cols, axis=1)\n",
    "    print(f\"删除列后行数: {len(processed_df)} (应与删除前相同)\")\n",
    "    \n",
    "    # 3. 处理日期特征\n",
    "    if '交易时间' in processed_df.columns:\n",
    "        try:\n",
    "            processed_df['交易时间'] = pd.to_datetime(processed_df['交易时间'], errors='coerce')\n",
    "            processed_df['交易年份'] = processed_df['交易时间'].dt.year\n",
    "            processed_df['交易月份'] = processed_df['交易时间'].dt.month\n",
    "            processed_df = processed_df.drop('交易时间', axis=1)\n",
    "            print(\"\\n已处理日期特征\")\n",
    "        except Exception as e:\n",
    "            print(\"日期处理错误:\", e)\n",
    "    \n",
    "    # 4. 数值特征处理\n",
    "    # 建筑面积处理\n",
    "    if '建筑面积' in processed_df.columns:\n",
    "        try:\n",
    "            processed_df['建筑面积'] = processed_df['建筑面积'].astype(str).str.replace('㎡', '').astype(float)\n",
    "            processed_df['建筑面积_ori'] = processed_df['建筑面积']\n",
    "            print(\"\\n已处理建筑面积特征\")\n",
    "        except Exception as e:\n",
    "            print(\"建筑面积处理错误:\", e)\n",
    "            processed_df['建筑面积'] = processed_df['建筑面积'].astype(float, errors='ignore')\n",
    "            processed_df['建筑面积_ori'] = processed_df['建筑面积']\n",
    "    \n",
    "    # 5. 特征工程\n",
    "    # 建筑结构\n",
    "    if '建筑结构' in processed_df.columns:\n",
    "        processed_df['建筑结构_钢混'] = processed_df['建筑结构'].apply(lambda x: 1 if str(x) == '钢混结构' else 0)\n",
    "        processed_df['建筑结构_混合'] = processed_df['建筑结构'].apply(lambda x: 1 if str(x) == '混合结构' else 0)\n",
    "        print(\"\\n已处理建筑结构特征\")\n",
    "    \n",
    "    # 装修情况\n",
    "    if '装修情况' in processed_df.columns:\n",
    "        processed_df['装修_精装'] = processed_df['装修情况'].apply(lambda x: 1 if str(x) == '精装' else 0)\n",
    "        processed_df['装修_简装'] = processed_df['装修情况'].apply(lambda x: 1 if str(x) == '简装' else 0)\n",
    "        print(\"\\n已处理装修情况特征\")\n",
    "    \n",
    "    # 电梯信息\n",
    "    if '配备电梯' in processed_df.columns:\n",
    "        processed_df['有电梯'] = processed_df['配备电梯'].map({'有':1, '无':0}).fillna(0)\n",
    "        print(\"\\n已处理电梯信息特征\")\n",
    "    \n",
    "    # 6. 创建交互特征\n",
    "    if '建筑面积' in processed_df.columns and '室数' in processed_df.columns:\n",
    "        processed_df['面积_室数'] = processed_df['建筑面积'] * processed_df['室数']\n",
    "        print(\"\\n已创建交互特征: 面积×室数\")\n",
    "    \n",
    "    # 7. 高基数分类特征编码\n",
    "    high_card_cols = []\n",
    "    for col in ['区域', '板块']:\n",
    "        if col in processed_df.columns:\n",
    "            high_card_cols.append(col)\n",
    "    \n",
    "    if high_card_cols:\n",
    "        print(f\"\\n正在处理高基数分类特征: {high_card_cols}\")\n",
    "        if is_train and '价格' in processed_df.columns and '建筑面积_ori' in processed_df.columns:\n",
    "            try:\n",
    "                # 使用频率编码\n",
    "                processed_df['log_price_per_area'] = np.log1p(processed_df['价格'] / processed_df['建筑面积_ori'])\n",
    "                \n",
    "                for col in high_card_cols:\n",
    "                    freq = processed_df.groupby(col)['log_price_per_area'].mean().to_dict()\n",
    "                    processed_df[col+'_encoded'] = processed_df[col].map(freq)\n",
    "                    # 保存编码器状态\n",
    "                    if target_enc is None:\n",
    "                        target_enc = {}\n",
    "                    target_enc[col] = freq\n",
    "                \n",
    "                # 删除原始分类列\n",
    "                processed_df = processed_df.drop(high_card_cols, axis=1)\n",
    "                print(f\"已完成分类特征编码，删除了原始列: {high_card_cols}\")\n",
    "            except Exception as e:\n",
    "                print(\"目标编码错误:\", e)\n",
    "        elif not is_train and target_enc is not None:\n",
    "            # 测试集应用编码\n",
    "            try:\n",
    "                for col in high_card_cols:\n",
    "                    if col in target_enc:\n",
    "                        processed_df[col+'_encoded'] = processed_df[col].map(target_enc[col])\n",
    "                # 删除原始分类列\n",
    "                processed_df = processed_df.drop(high_card_cols, axis=1)\n",
    "                print(f\"已应用预训练的编码器，删除了原始列: {high_card_cols}\")\n",
    "            except Exception as e:\n",
    "                print(\"测试集编码错误:\", e)\n",
    "    \n",
    "    \n",
    "    # 最终行数检查\n",
    "    final_rows = len(processed_df)\n",
    "    print(f\"\\n预处理完成，最终行数: {final_rows}\")\n",
    "    if initial_rows != final_rows:\n",
    "        print(f\"警告: 行数发生变化 (初始: {initial_rows}, 最终: {final_rows})\")\n",
    "    else:\n",
    "        print(\"行数保持一致\")\n",
    "    \n",
    "    return processed_df, target_enc"
   ]
  },
  {
   "cell_type": "markdown",
   "metadata": {},
   "source": [
    "### 2.3 执行数据预处理"
   ]
  },
  {
   "cell_type": "code",
   "execution_count": 26,
   "metadata": {},
   "outputs": [
    {
     "name": "stdout",
     "output_type": "stream",
     "text": [
      "\n",
      "=== 预处理训练数据 ===\n",
      "\n",
      "训练数据初始行数: 84133\n",
      "\n",
      "正在合并小区详情数据...\n",
      "详情数据初始行数: 3100\n",
      "去重后详情数据行数: 2973\n",
      "合并后行数: 84133 (应与合并前相同)\n",
      "\n",
      "将删除以下列: ['房屋优势', '核心卖点', '户型介绍', '周边配套', '交通出行', 'lon', 'lat', '小区名称', '房屋年限', '上次交易', '年份', '梯户比例', '交易权属', '房屋户型', '所在楼层']\n",
      "删除列后行数: 84133 (应与删除前相同)\n",
      "\n",
      "已处理日期特征\n",
      "\n",
      "已处理建筑面积特征\n",
      "\n",
      "已处理装修情况特征\n",
      "\n",
      "已处理电梯信息特征\n",
      "\n",
      "正在处理高基数分类特征: ['区域']\n",
      "已完成分类特征编码，删除了原始列: ['区域']\n",
      "\n",
      "预处理完成，最终行数: 84133\n",
      "行数保持一致\n",
      "\n",
      "=== 预处理测试数据 ===\n",
      "\n",
      "测试数据初始行数: 14786\n",
      "\n",
      "正在合并小区详情数据...\n",
      "详情数据初始行数: 3100\n",
      "去重后详情数据行数: 2973\n",
      "合并后行数: 14786 (应与合并前相同)\n",
      "\n",
      "将删除以下列: ['房屋优势', '核心卖点', '户型介绍', '周边配套', '交通出行', 'lon', 'lat', '小区名称', '房屋年限', '上次交易', '年份', '梯户比例', '交易权属', '房屋户型', '所在楼层']\n",
      "删除列后行数: 14786 (应与删除前相同)\n",
      "\n",
      "已处理日期特征\n",
      "\n",
      "已处理建筑面积特征\n",
      "\n",
      "已处理装修情况特征\n",
      "\n",
      "已处理电梯信息特征\n",
      "\n",
      "正在处理高基数分类特征: ['区域']\n",
      "已应用预训练的编码器，删除了原始列: ['区域']\n",
      "\n",
      "预处理完成，最终行数: 14786\n",
      "行数保持一致\n",
      "\n",
      "预处理成功完成！\n",
      "训练数据形状: (84133, 48)\n",
      "测试数据形状: (14786, 47)\n"
     ]
    }
   ],
   "source": [
    "try:\n",
    "    print(\"\\n=== 预处理训练数据 ===\")\n",
    "    train_processed, target_encoder = improved_preprocessing(train_df, is_train=True)\n",
    "    \n",
    "    print(\"\\n=== 预处理测试数据 ===\")\n",
    "    test_processed, _ = improved_preprocessing(test_df, is_train=False, target_enc=target_encoder)\n",
    "    \n",
    "    # 检查结果\n",
    "    if 'train_processed' in locals() and 'test_processed' in locals():\n",
    "        print(\"\\n预处理成功完成！\")\n",
    "        print(\"训练数据形状:\", train_processed.shape)\n",
    "        print(\"测试数据形状:\", test_processed.shape)\n",
    "    else:\n",
    "        print(\"\\n预处理未能完成\")\n",
    "except Exception as e:\n",
    "    print(\"\\n执行预处理时出错:\", str(e))"
   ]
  },
  {
   "cell_type": "markdown",
   "metadata": {},
   "source": [
    "### 2.4 异常值处理"
   ]
  },
  {
   "cell_type": "code",
   "execution_count": 44,
   "metadata": {},
   "outputs": [
    {
     "name": "stdout",
     "output_type": "stream",
     "text": [
      "\n",
      "=== 异常值处理 ===\n",
      "板块_x: 截断范围 [27.00, 807.00]\n",
      "  处理了 1256 个异常值 (低于1%: 775, 高于99%: 481)\n",
      "建筑面积: 截断范围 [30.18, 279.61]\n",
      "  处理了 1684 个异常值 (低于1%: 842, 高于99%: 842)\n",
      "区县: 截断范围 [3.00, 99.97]\n",
      "  处理了 1427 个异常值 (低于1%: 642, 高于99%: 785)\n",
      "板块_y: 截断范围 [27.00, 807.00]\n",
      "  处理了 1197 个异常值 (低于1%: 751, 高于99%: 446)\n",
      "容 积 率: 截断范围 [0.73, 8.30]\n",
      "  处理了 1383 个异常值 (低于1%: 745, 高于99%: 638)\n",
      "停车位: 截断范围 [3.00, 6000.00]\n",
      "  处理了 811 个异常值 (低于1%: 409, 高于99%: 402)\n",
      "coord_x: 截断范围 [106.30, 126.71]\n",
      "  处理了 1541 个异常值 (低于1%: 765, 高于99%: 776)\n",
      "coord_y: 截断范围 [29.43, 45.89]\n",
      "  处理了 1075 个异常值 (低于1%: 670, 高于99%: 405)\n",
      "交易月份: 截断范围 [1.00, 12.00]\n",
      "  处理了 0 个异常值 (低于1%: 0, 高于99%: 0)\n",
      "区域_encoded: 截断范围 [8.25, 11.34]\n",
      "  处理了 1159 个异常值 (低于1%: 344, 高于99%: 815)\n"
     ]
    }
   ],
   "source": [
    "X = train_processed.drop(['价格', 'log_price_per_area', '建筑面积_ori'], axis=1, errors='ignore')\n",
    "y = train_processed['log_price_per_area']\n",
    "\n",
    "# 异常值处理\n",
    "print(\"\\n=== 异常值处理 ===\")\n",
    "numeric_cols = X.select_dtypes(include=np.number).columns\n",
    "\n",
    "for col in numeric_cols:\n",
    "    if X[col].nunique() > 10:  # 只对连续型数值特征处理\n",
    "        lower = X[col].quantile(0.01)\n",
    "        upper = X[col].quantile(0.99)\n",
    "        print(f\"{col}: 截断范围 [{lower:.2f}, {upper:.2f}]\")\n",
    "        \n",
    "        # 保存原始值计数用于报告\n",
    "        original_count = len(X)\n",
    "        outliers_low = (X[col] < lower).sum()\n",
    "        outliers_high = (X[col] > upper).sum()\n",
    "        \n",
    "        # 执行截断\n",
    "        X[col] = X[col].clip(lower, upper)\n",
    "        \n",
    "        # 打印处理结果\n",
    "        print(f\"  处理了 {outliers_low + outliers_high} 个异常值 \"\n",
    "              f\"(低于1%: {outliers_low}, 高于99%: {outliers_high})\")\n"
   ]
  },
  {
   "cell_type": "markdown",
   "metadata": {},
   "source": [
    "### 2.5 缺失值处理"
   ]
  },
  {
   "cell_type": "code",
   "execution_count": 45,
   "metadata": {},
   "outputs": [
    {
     "name": "stdout",
     "output_type": "stream",
     "text": [
      "\n",
      "=== 缺失值处理 ===\n",
      "处理前缺失值统计:\n",
      "抵押信息          84133\n",
      "别墅类型          83384\n",
      "套内面积          58987\n",
      "物业办公电话        56272\n",
      "环线位置          42758\n",
      "环线            41407\n",
      "供热费           37973\n",
      "供暖            27920\n",
      "开发商           13328\n",
      "物业公司          12914\n",
      "停车位           12096\n",
      "停车费用          10016\n",
      "容 积 率          8821\n",
      "绿 化 率          8646\n",
      "配备电梯           8315\n",
      "燃气费            7777\n",
      "建筑年代           7325\n",
      "物 业 费          7220\n",
      "供水             6957\n",
      "供电             6592\n",
      "建筑结构_y         6294\n",
      "板块_y           5795\n",
      "区县             5729\n",
      "楼栋总数           5677\n",
      "小区地址           5677\n",
      "城市_y           5677\n",
      "房屋总数           5677\n",
      "物业类别           5677\n",
      "产权描述           5677\n",
      "coord_x        5677\n",
      "coord_y        5677\n",
      "建筑结构_x          605\n",
      "装修情况            605\n",
      "房屋用途              2\n",
      "城市_x              0\n",
      "板块_x              0\n",
      "建筑面积              0\n",
      "产权所属              0\n",
      "房屋朝向              0\n",
      "交易年份              0\n",
      "交易月份              0\n",
      "装修_精装             0\n",
      "装修_简装             0\n",
      "有电梯               0\n",
      "区域_encoded        0\n",
      "dtype: int64\n",
      "\n",
      "处理后缺失值统计:\n",
      "城市_x          0\n",
      "板块_x          0\n",
      "环线            0\n",
      "建筑面积          0\n",
      "套内面积          0\n",
      "房屋朝向          0\n",
      "建筑结构_x        0\n",
      "装修情况          0\n",
      "配备电梯          0\n",
      "别墅类型          0\n",
      "房屋用途          0\n",
      "产权所属          0\n",
      "抵押信息          0\n",
      "区县            0\n",
      "城市_y          0\n",
      "板块_y          0\n",
      "环线位置          0\n",
      "小区地址          0\n",
      "物业类别          0\n",
      "建筑年代          0\n",
      "开发商           0\n",
      "房屋总数          0\n",
      "楼栋总数          0\n",
      "物业公司          0\n",
      "绿 化 率         0\n",
      "容 积 率         0\n",
      "物 业 费         0\n",
      "建筑结构_y        0\n",
      "物业办公电话        0\n",
      "产权描述          0\n",
      "供水            0\n",
      "供暖            0\n",
      "供电            0\n",
      "燃气费           0\n",
      "供热费           0\n",
      "停车位           0\n",
      "停车费用          0\n",
      "coord_x       0\n",
      "coord_y       0\n",
      "交易年份          0\n",
      "交易月份          0\n",
      "装修_精装         0\n",
      "装修_简装         0\n",
      "有电梯           0\n",
      "区域_encoded    0\n",
      "dtype: int64\n"
     ]
    }
   ],
   "source": [
    "print(\"\\n=== 缺失值处理 ===\")\n",
    "print(\"处理前缺失值统计:\")\n",
    "print(X.isna().sum().sort_values(ascending=False))\n",
    "\n",
    "# 数值型缺失值\n",
    "for col in numeric_cols:\n",
    "    if X[col].isna().any():\n",
    "        median_val = X[col].median()\n",
    "        X[col] = X[col].fillna(median_val if not np.isnan(median_val) else 0)\n",
    "\n",
    "# 类别型缺失值\n",
    "categorical_cols = X.select_dtypes(include='object').columns\n",
    "for col in categorical_cols:\n",
    "    if X[col].isna().any():\n",
    "        X[col] = X[col].fillna('missing')\n",
    "\n",
    "print(\"\\n处理后缺失值统计:\")\n",
    "print(X.isna().sum().sort_values(ascending=False))\n",
    "\n",
    "y_price = train_processed['价格']  # 用于价格级别评估"
   ]
  },
  {
   "cell_type": "markdown",
   "metadata": {},
   "source": [
    "## 三、模型构建与训练"
   ]
  },
  {
   "cell_type": "markdown",
   "metadata": {},
   "source": [
    "### 3.1 预处理管道构建"
   ]
  },
  {
   "cell_type": "code",
   "execution_count": 35,
   "metadata": {},
   "outputs": [],
   "source": [
    "numeric_features = X_train.select_dtypes(include=np.number).columns\n",
    "categorical_features = X_train.select_dtypes(include='object').columns\n",
    "\n",
    "numeric_transformer = Pipeline(steps=[\n",
    "    ('imputer', SimpleImputer(strategy='median')),\n",
    "    ('scaler', StandardScaler())])\n",
    "\n",
    "categorical_transformer = Pipeline(steps=[\n",
    "    ('imputer', SimpleImputer(strategy='constant', fill_value='missing')),\n",
    "    ('onehot', OneHotEncoder(handle_unknown='ignore', sparse_output=True))])\n",
    "\n",
    "preprocessor = ColumnTransformer(\n",
    "    transformers=[\n",
    "        ('num', numeric_transformer, numeric_features),\n",
    "        ('cat', categorical_transformer, categorical_features)\n",
    "    ])"
   ]
  },
  {
   "cell_type": "markdown",
   "metadata": {},
   "source": [
    "### 3.2 模型配置"
   ]
  },
  {
   "cell_type": "code",
   "execution_count": 36,
   "metadata": {},
   "outputs": [],
   "source": [
    "models = {\n",
    "    'OLS': Pipeline(steps=[\n",
    "        ('preprocessor', preprocessor),\n",
    "        ('model', LinearRegression(n_jobs=-1))\n",
    "    ]),\n",
    "    'Lasso': Pipeline(steps=[\n",
    "        ('preprocessor', preprocessor),\n",
    "        ('model', SGDRegressor(\n",
    "            penalty='l1',\n",
    "            alpha=0.0001,\n",
    "            max_iter=2000,\n",
    "            tol=1e-3,\n",
    "            random_state=111))\n",
    "    ]),\n",
    "    'Ridge': Pipeline(steps=[\n",
    "        ('preprocessor', preprocessor),\n",
    "        ('model', SGDRegressor(\n",
    "            penalty='l2',\n",
    "            alpha=0.0001,\n",
    "            max_iter=2000,\n",
    "            tol=1e-3,\n",
    "            random_state=111))\n",
    "    ]),\n",
    "    'ElasticNet': Pipeline(steps=[\n",
    "        ('preprocessor', preprocessor),\n",
    "        ('model', SGDRegressor(\n",
    "            penalty='elasticnet',\n",
    "            alpha=0.0001,\n",
    "            l1_ratio=0.5,\n",
    "            max_iter=2000,\n",
    "            tol=1e-3,\n",
    "            random_state=111))\n",
    "    ])\n",
    "}"
   ]
  },
  {
   "cell_type": "markdown",
   "metadata": {},
   "source": [
    "## 四、模型评估与结果分析"
   ]
  },
  {
   "cell_type": "markdown",
   "metadata": {},
   "source": [
    "### 4.1 模型训练与评估"
   ]
  },
  {
   "cell_type": "code",
   "execution_count": 37,
   "metadata": {},
   "outputs": [
    {
     "name": "stdout",
     "output_type": "stream",
     "text": [
      "\n",
      "训练 OLS...\n",
      "\n",
      "训练 Lasso...\n",
      "\n",
      "训练 Ridge...\n",
      "\n",
      "训练 ElasticNet...\n"
     ]
    }
   ],
   "source": [
    "results = {}\n",
    "for name, pipe in models.items():\n",
    "    print(f\"\\n训练 {name}...\")\n",
    "    try:\n",
    "        pipe.fit(X_train, y_train)\n",
    "        \n",
    "        # 常规评估\n",
    "        y_pred = pipe.predict(X_val)\n",
    "        price_pred = np.exp(y_pred) * X_val['建筑面积'] if '建筑面积' in X_val.columns else np.exp(y_pred)\n",
    "        price_true = np.exp(y_val) * X_val['建筑面积'] if '建筑面积' in X_val.columns else np.exp(y_val)\n",
    "        \n",
    "        # 6折交叉验证（在训练集上）\n",
    "        cv_scores = cross_val_score(\n",
    "            pipe, X_train, y_train,\n",
    "            cv=6,\n",
    "            scoring='neg_mean_absolute_error',\n",
    "            n_jobs=-1\n",
    "        )\n",
    "        \n",
    "        results[name] = {\n",
    "            'In-sample MAE': mean_absolute_error(y_train, pipe.predict(X_train)),\n",
    "            'Out-sample MAE': mean_absolute_error(y_val, y_pred),\n",
    "            'Price MAE': mean_absolute_error(price_true, price_pred),\n",
    "            'Price RMSE': np.sqrt(mean_squared_error(price_true, price_pred)),\n",
    "            'Cross-validation MAE': -cv_scores.mean()  # 交叉验证结果\n",
    "        }\n",
    "    except Exception as e:\n",
    "        print(f\"{name}训练失败:\", str(e))\n",
    "        results[name] = {k: np.nan for k in ['In-sample MAE', 'Out-sample MAE', 'Price MAE', 'Price RMSE', 'Cross-validation MAE']}\n"
   ]
  },
  {
   "cell_type": "markdown",
   "metadata": {},
   "source": [
    "### 4.2 结果展示与分析"
   ]
  },
  {
   "cell_type": "code",
   "execution_count": 39,
   "metadata": {},
   "outputs": [
    {
     "name": "stdout",
     "output_type": "stream",
     "text": [
      "\n",
      "=== 测试结果 ===\n",
      "            In-sample MAE  Out-sample MAE  Cross-validation MAE  \\\n",
      "OLS              0.090271        0.110282              0.112245   \n",
      "Lasso            0.149035        0.151241              0.151512   \n",
      "Ridge            0.130874        0.133988              0.134815   \n",
      "ElasticNet       0.140959        0.143379              0.144701   \n",
      "Best Model       0.090271        0.110282              0.112245   \n",
      "\n",
      "                Price MAE    Price RMSE  \n",
      "OLS         224799.017005  8.858480e+05  \n",
      "Lasso       327440.864845  9.569172e+05  \n",
      "Ridge       297732.763145  1.030084e+06  \n",
      "ElasticNet  309469.195884  9.303855e+05  \n",
      "Best Model  224799.017005  8.858480e+05  \n"
     ]
    }
   ],
   "source": [
    "metrics = pd.DataFrame(results).T\n",
    "\n",
    "# 确定最佳模型\n",
    "valid_results = metrics.dropna()\n",
    "if not valid_results.empty:\n",
    "    best_model = valid_results['Cross-validation MAE'].idxmin()\n",
    "    metrics.loc['Best Model'] = metrics.loc[best_model]\n",
    "    \n",
    "print(\"\\n=== 测试结果 ===\")\n",
    "print(metrics[['In-sample MAE', 'Out-sample MAE', 'Cross-validation MAE', 'Price MAE', 'Price RMSE']])\n",
    "\n"
   ]
  },
  {
   "cell_type": "markdown",
   "metadata": {},
   "source": [
    "## 五、预测结果生成"
   ]
  },
  {
   "cell_type": "markdown",
   "metadata": {},
   "source": [
    "### 5.1 测试集预测准备"
   ]
  },
  {
   "cell_type": "code",
   "execution_count": 40,
   "metadata": {},
   "outputs": [],
   "source": [
    "# 确保测试数据包含所有训练特征\n",
    "missing_cols = set(X_train.columns) - set(test_processed.columns)\n",
    "for col in missing_cols:\n",
    "    test_processed[col] = 0  # 用0填充缺失特征\n",
    "\n",
    "# 确保列顺序一致\n",
    "X_test = test_processed[X_train.columns]"
   ]
  },
  {
   "cell_type": "markdown",
   "metadata": {},
   "source": [
    "### 5.2 执行预测并保存结果"
   ]
  },
  {
   "cell_type": "code",
   "execution_count": 42,
   "metadata": {},
   "outputs": [
    {
     "name": "stdout",
     "output_type": "stream",
     "text": [
      "\n",
      "所有模型预测结果统计:\n",
      "OLS: 预测值范围 [84695, 61574625]\n",
      "Lasso: 预测值范围 [108582, 37661625]\n",
      "Ridge: 预测值范围 [119738, 27689734]\n",
      "ElasticNet: 预测值范围 [114408, 39328853]\n"
     ]
    }
   ],
   "source": [
    "# 生成所有模型的预测结果\n",
    "predictions = {}\n",
    "for model_name, model in models.items():\n",
    "    try:\n",
    "        test_log_pred = model.predict(X_test)\n",
    "        \n",
    "        # 转换回原始价格\n",
    "        if '建筑面积_ori' in test_processed.columns:\n",
    "            test_price_pred = np.exp(test_log_pred) * test_processed['建筑面积_ori']\n",
    "        else:\n",
    "            test_price_pred = np.exp(test_log_pred)\n",
    "        \n",
    "        # 保存预测结果\n",
    "        predictions[model_name] = test_price_pred\n",
    "        \n",
    "        # 创建DataFrame并保存\n",
    "        submission = pd.DataFrame({\n",
    "            'ID': test_df['ID'],\n",
    "            'Price': np.round(test_price_pred).astype(int)\n",
    "        })\n",
    "        submission.to_csv(f\"prediction_{model_name}.csv\", index=False)\n",
    "        \n",
    "    except Exception as e:\n",
    "        print(f\"模型 {model_name} 预测失败: {str(e)}\")\n",
    "        predictions[model_name] = None\n",
    "\n",
    "# 输出预测统计信息\n",
    "print(\"\\n所有模型预测结果统计:\")\n",
    "for model_name, pred in predictions.items():\n",
    "    if pred is not None:\n",
    "        print(f\"{model_name}: 预测值范围 [{pred.min():.0f}, {pred.max():.0f}]\")\n",
    "    else:\n",
    "        print(f\"{model_name}: 无有效预测结果\")"
   ]
  },
  {
   "cell_type": "markdown",
   "metadata": {},
   "source": [
    "### 5.3 最终结果"
   ]
  },
  {
   "cell_type": "code",
   "execution_count": null,
   "metadata": {},
   "outputs": [
    {
     "name": "stdout",
     "output_type": "stream",
     "text": [
      "\n",
      "=== 最终结果 ===\n",
      "\n",
      "| Metrics        | In sample | Out of sample | Cross-validation | Datahub Score |\n",
      "|----------------|-----------|---------------|-------------------|---------------|\n",
      "| OLS            |     0.090 |         0.110 |             0.112 |        78.422 |\n",
      "| Lasso          |     0.149 |         0.151 |             0.152 |        73.782 |\n",
      "| Ridge          |     0.131 |         0.134 |             0.135 |        74.505 |\n",
      "| ElasticNet     |     0.141 |         0.143 |             0.145 |        74.798 |\n",
      "| Best Model     |     0.090 |         0.110 |             0.112 |        78.422 |\n"
     ]
    }
   ],
   "source": [
    "metrics = pd.DataFrame(results).T\n",
    "metrics['Datahub Score'] = [78.422, 73.782, 74.505, 74.798]  # 按OLS,Lasso,Ridge,ElasticNet顺序\n",
    "\n",
    "print(\"\\n=== 最终结果 ===\")\n",
    "# 确定最佳模型（基于Cross-validation MAE）\n",
    "valid_results = metrics.dropna()\n",
    "if not valid_results.empty:\n",
    "    best_model = valid_results['Cross-validation MAE'].idxmin()\n",
    "    metrics.loc['Best Model'] = metrics.loc[best_model]\n",
    "    metrics.at['Best Model', 'Datahub Score'] = metrics.loc[best_model, 'Datahub Score']\n",
    "\n",
    "# 输出表格（保留3位小数）\n",
    "final_table = metrics[['In-sample MAE', 'Out-sample MAE', 'Cross-validation MAE', 'Datahub Score']]\n",
    "final_table.columns = ['In sample', 'Out of sample', 'Cross-validation', 'Datahub Score']\n",
    "print(\"\\n| Metrics        | In sample | Out of sample | Cross-validation | Datahub Score |\")\n",
    "print(\"|----------------|-----------|---------------|-------------------|---------------|\")\n",
    "for model in final_table.index:\n",
    "    print(f\"| {model:14} | {final_table.loc[model, 'In sample']:>9.3f} | \"\n",
    "          f\"{final_table.loc[model, 'Out of sample']:>13.3f} | \"\n",
    "          f\"{final_table.loc[model, 'Cross-validation']:>17.3f} | \"\n",
    "          f\"{final_table.loc[model, 'Datahub Score']:>13.3f} |\")"
   ]
  }
 ],
 "metadata": {
  "kernelspec": {
   "display_name": "Python 3",
   "language": "python",
   "name": "python3"
  },
  "language_info": {
   "codemirror_mode": {
    "name": "ipython",
    "version": 3
   },
   "file_extension": ".py",
   "mimetype": "text/x-python",
   "name": "python",
   "nbconvert_exporter": "python",
   "pygments_lexer": "ipython3",
   "version": "3.12.6"
  }
 },
 "nbformat": 4,
 "nbformat_minor": 2
}
