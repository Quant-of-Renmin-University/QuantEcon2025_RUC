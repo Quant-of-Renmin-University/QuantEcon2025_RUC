{
 "cells": [
  {
   "cell_type": "code",
   "execution_count": 3,
   "id": "45a752ff-2d51-43c8-bcc7-265cfa0de0fb",
   "metadata": {},
   "outputs": [
    {
     "name": "stdout",
     "output_type": "stream",
     "text": [
      "生成的Word文件已保存：C:\\QuantEcon2025_RUC-main\\Homework\\Harvard University MA in Economics Department.docx\n"
     ]
    },
    {
     "data": {
      "application/vnd.jupyter.widget-view+json": {
       "model_id": "e4155e6cbfae4068bc5976e386ecf283",
       "version_major": 2,
       "version_minor": 0
      },
      "text/plain": [
       "  0%|          | 0/1 [00:00<?, ?it/s]"
      ]
     },
     "metadata": {},
     "output_type": "display_data"
    },
    {
     "name": "stdout",
     "output_type": "stream",
     "text": [
      "生成的PDF文件已保存：C:\\QuantEcon2025_RUC-main\\Homework\\Harvard University MA in Economics Department.pdf\n",
      "生成的Word文件已保存：C:\\QuantEcon2025_RUC-main\\Homework\\Harvard University MA in Data Science.docx\n"
     ]
    },
    {
     "data": {
      "application/vnd.jupyter.widget-view+json": {
       "model_id": "2085805193bd41f2ba31cf0e9762fd6a",
       "version_major": 2,
       "version_minor": 0
      },
      "text/plain": [
       "  0%|          | 0/1 [00:00<?, ?it/s]"
      ]
     },
     "metadata": {},
     "output_type": "display_data"
    },
    {
     "name": "stdout",
     "output_type": "stream",
     "text": [
      "生成的PDF文件已保存：C:\\QuantEcon2025_RUC-main\\Homework\\Harvard University MA in Data Science.pdf\n",
      "生成的Word文件已保存：C:\\QuantEcon2025_RUC-main\\Homework\\Harvard University PhD in Statistics.docx\n"
     ]
    },
    {
     "data": {
      "application/vnd.jupyter.widget-view+json": {
       "model_id": "7890cc0aff7d47fb97bb785f79929030",
       "version_major": 2,
       "version_minor": 0
      },
      "text/plain": [
       "  0%|          | 0/1 [00:00<?, ?it/s]"
      ]
     },
     "metadata": {},
     "output_type": "display_data"
    },
    {
     "ename": "KeyboardInterrupt",
     "evalue": "",
     "output_type": "error",
     "traceback": [
      "\u001b[1;31m---------------------------------------------------------------------------\u001b[0m",
      "\u001b[1;31mKeyboardInterrupt\u001b[0m                         Traceback (most recent call last)",
      "Cell \u001b[1;32mIn[3], line 63\u001b[0m\n\u001b[0;32m     61\u001b[0m \u001b[38;5;66;03m# 调用主函数\u001b[39;00m\n\u001b[0;32m     62\u001b[0m \u001b[38;5;28;01mif\u001b[39;00m \u001b[38;5;18m__name__\u001b[39m \u001b[38;5;241m==\u001b[39m \u001b[38;5;124m\"\u001b[39m\u001b[38;5;124m__main__\u001b[39m\u001b[38;5;124m\"\u001b[39m:\n\u001b[1;32m---> 63\u001b[0m     main()\n",
      "Cell \u001b[1;32mIn[3], line 59\u001b[0m, in \u001b[0;36mmain\u001b[1;34m()\u001b[0m\n\u001b[0;32m     56\u001b[0m output_dir \u001b[38;5;241m=\u001b[39m \u001b[38;5;124m\"\u001b[39m\u001b[38;5;124mC:\u001b[39m\u001b[38;5;130;01m\\\\\u001b[39;00m\u001b[38;5;124mQuantEcon2025_RUC-main\u001b[39m\u001b[38;5;130;01m\\\\\u001b[39;00m\u001b[38;5;124mHomework\u001b[39m\u001b[38;5;124m\"\u001b[39m  \u001b[38;5;66;03m# 输出文件保存目录\u001b[39;00m\n\u001b[0;32m     58\u001b[0m \u001b[38;5;66;03m# 步骤3：调用函数生成Word和PDF文件\u001b[39;00m\n\u001b[1;32m---> 59\u001b[0m fill_template_and_save(df, template_path, output_dir)\n",
      "Cell \u001b[1;32mIn[3], line 47\u001b[0m, in \u001b[0;36mfill_template_and_save\u001b[1;34m(df, template_path, output_dir)\u001b[0m\n\u001b[0;32m     45\u001b[0m output_pdf_file \u001b[38;5;241m=\u001b[39m output_word_file\u001b[38;5;241m.\u001b[39mreplace(\u001b[38;5;124m\"\u001b[39m\u001b[38;5;124m.docx\u001b[39m\u001b[38;5;124m\"\u001b[39m, \u001b[38;5;124m\"\u001b[39m\u001b[38;5;124m.pdf\u001b[39m\u001b[38;5;124m\"\u001b[39m)\n\u001b[0;32m     46\u001b[0m convert(output_word_file, output_pdf_file)\n\u001b[1;32m---> 47\u001b[0m \u001b[38;5;28mprint\u001b[39m(\u001b[38;5;124mf\u001b[39m\u001b[38;5;124m\"\u001b[39m\u001b[38;5;124m生成的PDF文件已保存：\u001b[39m\u001b[38;5;132;01m{\u001b[39;00moutput_pdf_file\u001b[38;5;132;01m}\u001b[39;00m\u001b[38;5;124m\"\u001b[39m)\n",
      "\u001b[1;31mKeyboardInterrupt\u001b[0m: "
     ]
    }
   ],
   "source": [
    "import pandas as pd\n",
    "from docxtpl import DocxTemplate\n",
    "from docx2pdf import convert\n",
    "\n",
    "def fill_template_and_save(df, template_path, output_dir):\n",
    "    \"\"\"\n",
    "    函数用于填充模板、保存Word文档并转换为PDF。\n",
    "    \n",
    "    参数:\n",
    "    df : pandas DataFrame\n",
    "        包含大学名称和专业的DataFrame。\n",
    "    template_path : str\n",
    "        模板文件的路径。\n",
    "    output_dir : str\n",
    "        输出文件保存目录。\n",
    "    \"\"\"\n",
    "    for index, row in df.iterrows():\n",
    "        university_name = row['University Names']\n",
    "        major1 = row['Major1']\n",
    "        major2 = row['Major2']\n",
    "        major3 = row['Major3']\n",
    "        \n",
    "        # 为每个专业生成不同的文件\n",
    "        majors = [major1, major2, major3]\n",
    "        \n",
    "        for i, major in enumerate(majors, start=1):\n",
    "            # 格式化：学校+专业\n",
    "            formatted_name = f\"{university_name} {major}\"\n",
    "\n",
    "            # 加载Word模板\n",
    "            template = DocxTemplate(template_path)\n",
    "            \n",
    "            # 填充模板\n",
    "            context = {\n",
    "                'formatted_name': formatted_name\n",
    "            }\n",
    "            template.render(context)\n",
    "            \n",
    "            # 保存Word文档\n",
    "            output_word_file = f\"{output_dir}\\\\{formatted_name}.docx\"\n",
    "            template.save(output_word_file)\n",
    "            print(f\"生成的Word文件已保存：{output_word_file}\")\n",
    "\n",
    "            # 转换为PDF\n",
    "            output_pdf_file = output_word_file.replace(\".docx\", \".pdf\")\n",
    "            convert(output_word_file, output_pdf_file)\n",
    "            print(f\"生成的PDF文件已保存：{output_pdf_file}\")\n",
    "\n",
    "def main():\n",
    "    # 步骤1：读取Excel文件\n",
    "    excel_file = \"C:\\\\QuantEcon2025_RUC-main\\\\Homework\\\\Excel files.xlsx\"  # 替换为你的Excel文件路径\n",
    "    df = pd.read_excel(excel_file)\n",
    "\n",
    "    # 步骤2：设置模板路径和输出目录\n",
    "    template_path = \"C:\\\\QuantEcon2025_RUC-main\\\\Homework\\\\template.docx\"  # 替换为你的模板文件路径\n",
    "    output_dir = \"C:\\\\QuantEcon2025_RUC-main\\\\Homework\"  # 输出文件保存目录\n",
    "\n",
    "    # 步骤3：调用函数生成Word和PDF文件\n",
    "    fill_template_and_save(df, template_path, output_dir)\n",
    "\n",
    "# 调用主函数\n",
    "if __name__ == \"__main__\":\n",
    "    main()\n"
   ]
  },
  {
   "cell_type": "code",
   "execution_count": null,
   "id": "f17aaf2e-e8b4-49fc-b010-2708aab97b62",
   "metadata": {},
   "outputs": [],
   "source": []
  }
 ],
 "metadata": {
  "kernelspec": {
   "display_name": "Python [conda env:base] *",
   "language": "python",
   "name": "conda-base-py"
  },
  "language_info": {
   "codemirror_mode": {
    "name": "ipython",
    "version": 3
   },
   "file_extension": ".py",
   "mimetype": "text/x-python",
   "name": "python",
   "nbconvert_exporter": "python",
   "pygments_lexer": "ipython3",
   "version": "3.12.7"
  }
 },
 "nbformat": 4,
 "nbformat_minor": 5
}
