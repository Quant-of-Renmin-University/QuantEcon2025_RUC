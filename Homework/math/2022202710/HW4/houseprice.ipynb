{
 "cells": [
  {
   "cell_type": "code",
   "execution_count": 1,
   "id": "ae6730b6-76a5-4485-82bb-e4b243958e6e",
   "metadata": {},
   "outputs": [],
   "source": [
    "import pandas as pd\n",
    "from selenium import webdriver\n",
    "from selenium.webdriver.common.by import By\n",
    "from selenium.webdriver.support.ui import WebDriverWait\n",
    "from selenium.webdriver.support import expected_conditions as EC\n",
    "\n",
    "driver = webdriver.Edge() \n",
    "url = \"https://esf.fang.com/house-a015277-b02313/\"\n",
    "driver.get(url)"
   ]
  },
  {
   "cell_type": "code",
   "execution_count": 2,
   "id": "ed45103b-ba15-4691-bd88-48762da63f7a",
   "metadata": {},
   "outputs": [
    {
     "name": "stdout",
     "output_type": "stream",
     "text": [
      "定位成功\n",
      "爬取数据成功\n",
      "定位成功\n",
      "爬取数据成功\n",
      "定位成功\n",
      "爬取数据成功\n",
      "定位成功\n",
      "爬取数据成功\n",
      "定位成功\n",
      "爬取数据成功\n",
      "定位成功\n",
      "爬取数据成功\n",
      "定位成功\n",
      "爬取数据成功\n",
      "定位成功\n",
      "爬取数据成功\n",
      "定位成功\n",
      "爬取数据成功\n",
      "定位成功\n",
      "爬取数据成功\n"
     ]
    }
   ],
   "source": [
    "data = {\n",
    "    '面积（㎡）': [],\n",
    "    '总价（万元）': [],\n",
    "    '平均价格（元/㎡）':[]\n",
    "}\n",
    "i=0\n",
    "while i<10:\n",
    "    try:\n",
    "        wait = WebDriverWait(driver, 10)\n",
    "        element_list = wait.until(EC.presence_of_element_located((By.XPATH, '//div[@class=\"shop_list shop_list_4\"]')))\n",
    "        print(\"定位成功\")\n",
    "    except:\n",
    "        print(\"定位失败\")\n",
    "    dl_elements=element_list.find_elements(By.TAG_NAME,'dl')\n",
    "    for dl_element in dl_elements:\n",
    "         # 定位 dl 元素内的所有 dd 元素\n",
    "        dd_elements = dl_element.find_elements(By.TAG_NAME, 'dd')\n",
    "        if len(dd_elements) >= 2:\n",
    "            # 获取第一个 dd 元素\n",
    "            first_dd = dd_elements[0]\n",
    "            # 定位第一个 dd 元素内的所有 p 元素\n",
    "            p_elements = first_dd.find_elements(By.TAG_NAME, 'p')\n",
    "            if len(p_elements) >= 2:\n",
    "                # 获取第一个 dd 元素中的第二个 p 元素\n",
    "                second_p_in_first_dd = p_elements[0]\n",
    "                full_text = second_p_in_first_dd.text\n",
    "                parts = full_text.split(' | ')\n",
    "                area = parts[1].split('㎡')[0]\n",
    "                data['面积（㎡）'].append(area)\n",
    "            # 获取第二个 dd 元素\n",
    "            second_dd = dd_elements[1]\n",
    "            full_price_mean_price = second_dd.text\n",
    "            numbers = []\n",
    "            current_number = \"\"\n",
    "            for char in full_price_mean_price:\n",
    "                if char.isdigit():\n",
    "                    current_number += char\n",
    "                elif current_number:\n",
    "                    numbers.append(int(current_number))\n",
    "                    current_number = \"\"\n",
    "            if current_number:\n",
    "                numbers.append(int(current_number))\n",
    "            data['总价（万元）'].append(numbers[0])\n",
    "            data['平均价格（元/㎡）'].append(numbers[1])   \n",
    "    print('爬取数据成功')\n",
    "    try:\n",
    "        # 定位下一页按钮\n",
    "        next_page_button = wait.until(EC.element_to_be_clickable((By.XPATH, '//p[@class=\"last\"]/a')))\n",
    "        # 点击下一页按钮\n",
    "        next_page_button.click()\n",
    "        i+=1\n",
    "    except NoSuchElementException:\n",
    "        print(\"NoSuchElementException\")\n",
    "        break"
   ]
  },
  {
   "cell_type": "code",
   "execution_count": 3,
   "id": "e16f245d-21b6-4fd5-b4e2-0d84441d538d",
   "metadata": {},
   "outputs": [
    {
     "name": "stdout",
     "output_type": "stream",
     "text": [
      "数据已成功保存到 house_data_万柳.xlsx\n"
     ]
    }
   ],
   "source": [
    "#保存为 Excel 文件\n",
    "df = pd.DataFrame(data)\n",
    "excel_file_path = 'house_data_万柳.xlsx'\n",
    "df.to_excel(excel_file_path, index=False, engine='openpyxl')\n",
    "print(f\"数据已成功保存到 {excel_file_path}\")"
   ]
  }
 ],
 "metadata": {
  "kernelspec": {
   "display_name": "Python 3 (ipykernel)",
   "language": "python",
   "name": "python3"
  },
  "language_info": {
   "codemirror_mode": {
    "name": "ipython",
    "version": 3
   },
   "file_extension": ".py",
   "mimetype": "text/x-python",
   "name": "python",
   "nbconvert_exporter": "python",
   "pygments_lexer": "ipython3",
   "version": "3.12.4"
  }
 },
 "nbformat": 4,
 "nbformat_minor": 5
}
