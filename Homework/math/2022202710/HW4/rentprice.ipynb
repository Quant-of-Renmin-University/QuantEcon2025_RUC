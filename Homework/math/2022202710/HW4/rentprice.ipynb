{
 "cells": [
  {
   "cell_type": "code",
   "execution_count": 2,
   "id": "f3869ce0-6430-42f1-bd04-7078388f4883",
   "metadata": {},
   "outputs": [],
   "source": [
    "import pandas as pd\n",
    "import re\n",
    "from selenium import webdriver\n",
    "from selenium.webdriver.common.by import By\n",
    "from selenium.webdriver.support.ui import WebDriverWait\n",
    "from selenium.webdriver.support import expected_conditions as EC\n",
    "\n",
    "driver = webdriver.Edge() \n",
    "url = \"https://zu.fang.com/house-a015277-b02313/\"\n",
    "driver.get(url)"
   ]
  },
  {
   "cell_type": "code",
   "execution_count": 4,
   "id": "eac74519-f557-4f47-87aa-7e3ad8cf4ed8",
   "metadata": {},
   "outputs": [
    {
     "name": "stdout",
     "output_type": "stream",
     "text": [
      "成功定位\n",
      "爬取数据成功\n",
      "成功定位\n",
      "爬取数据成功\n",
      "成功定位\n",
      "爬取数据成功\n",
      "成功定位\n",
      "爬取数据成功\n",
      "成功定位\n",
      "爬取数据成功\n",
      "成功定位\n",
      "爬取数据成功\n",
      "成功定位\n",
      "爬取数据成功\n",
      "成功定位\n",
      "爬取数据成功\n",
      "成功定位\n",
      "爬取数据成功\n",
      "成功定位\n",
      "爬取数据成功\n"
     ]
    }
   ],
   "source": [
    "data = {\n",
    "    '面积（㎡）': [],\n",
    "    '租金（元/月）':[]\n",
    "}\n",
    "i=0\n",
    "while i<10:\n",
    "    try:\n",
    "        wait = WebDriverWait(driver, 10)\n",
    "        houselist_element = wait.until(EC.presence_of_element_located((By.CLASS_NAME, 'houseList')))\n",
    "        print(\"成功定位\")\n",
    "    except:\n",
    "        print(\"定位失败\")\n",
    "    dl_elements=houselist_element.find_elements(By.TAG_NAME,'dl')\n",
    "    for dl_element in dl_elements:\n",
    "         # 定位 dl 元素内的所有 dd 元素\n",
    "        dd_elements = dl_element.find_elements(By.TAG_NAME, 'dd')\n",
    "        text=dd_elements[0].text\n",
    "        \n",
    "        # 提取面积数字\n",
    "        area_match = re.search(r'(\\d+)\\s*㎡', text)\n",
    "        area = area_match.group(1) if area_match else None\n",
    "        data['面积（㎡）'].append(area)\n",
    "        \n",
    "        # 提取价格数字\n",
    "        price_match = re.search(r'(\\d+)\\s*元/月', text)\n",
    "        price = price_match.group(1) if price_match else None\n",
    "        data['租金（元/月）'].append(price)\n",
    "    \n",
    "    print('爬取数据成功')\n",
    "    \n",
    "    try:\n",
    "        # 定位下一页按钮并点击\n",
    "        next_page_button = wait.until(EC.element_to_be_clickable((By.XPATH, '//a[text()=\"下一页\"]')))\n",
    "        next_page_button.click()\n",
    "        i+=1\n",
    "    except NoSuchElementException:\n",
    "        print(\"NoSuchElementException\")\n",
    "        break"
   ]
  },
  {
   "cell_type": "code",
   "execution_count": 5,
   "id": "2685bb08-002f-49e1-a0b4-8be78f3cf386",
   "metadata": {},
   "outputs": [
    {
     "name": "stdout",
     "output_type": "stream",
     "text": [
      "数据已成功保存到 rent_data_万柳.xlsx\n"
     ]
    }
   ],
   "source": [
    "# 保存为 Excel 文件\n",
    "df = pd.DataFrame(data)\n",
    "excel_file_path = 'rent_data_万柳.xlsx'\n",
    "df.to_excel(excel_file_path, index=False, engine='openpyxl')\n",
    "print(f\"数据已成功保存到 {excel_file_path}\")"
   ]
  }
 ],
 "metadata": {
  "kernelspec": {
   "display_name": "Python 3 (ipykernel)",
   "language": "python",
   "name": "python3"
  },
  "language_info": {
   "codemirror_mode": {
    "name": "ipython",
    "version": 3
   },
   "file_extension": ".py",
   "mimetype": "text/x-python",
   "name": "python",
   "nbconvert_exporter": "python",
   "pygments_lexer": "ipython3",
   "version": "3.12.4"
  }
 },
 "nbformat": 4,
 "nbformat_minor": 5
}
