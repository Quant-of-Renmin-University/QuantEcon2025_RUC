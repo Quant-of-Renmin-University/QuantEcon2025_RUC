{
 "cells": [
  {
   "cell_type": "code",
   "execution_count": 5,
   "id": "bc5532bc-f4f6-400d-b7f2-01369ff30d4f",
   "metadata": {},
   "outputs": [],
   "source": [
    "import pandas as pd\n",
    "from docxtpl import DocxTemplate"
   ]
  },
  {
   "cell_type": "code",
   "execution_count": 7,
   "id": "1101c5a3-c798-4ad8-847f-1efc4d19c726",
   "metadata": {},
   "outputs": [
    {
     "data": {
      "text/html": [
       "<div>\n",
       "<style scoped>\n",
       "    .dataframe tbody tr th:only-of-type {\n",
       "        vertical-align: middle;\n",
       "    }\n",
       "\n",
       "    .dataframe tbody tr th {\n",
       "        vertical-align: top;\n",
       "    }\n",
       "\n",
       "    .dataframe thead th {\n",
       "        text-align: right;\n",
       "    }\n",
       "</style>\n",
       "<table border=\"1\" class=\"dataframe\">\n",
       "  <thead>\n",
       "    <tr style=\"text-align: right;\">\n",
       "      <th></th>\n",
       "      <th>University Names</th>\n",
       "      <th>Major1</th>\n",
       "      <th>Major2</th>\n",
       "      <th>Major3</th>\n",
       "    </tr>\n",
       "  </thead>\n",
       "  <tbody>\n",
       "    <tr>\n",
       "      <th>0</th>\n",
       "      <td>Harvard University</td>\n",
       "      <td>MA in Economics</td>\n",
       "      <td>MA in Data Science</td>\n",
       "      <td>MA in Statistics</td>\n",
       "    </tr>\n",
       "    <tr>\n",
       "      <th>1</th>\n",
       "      <td>Massachusetts Institute of Technology (MIT)</td>\n",
       "      <td>MA in Economics</td>\n",
       "      <td>MA in Data Science</td>\n",
       "      <td>MA in Statistics</td>\n",
       "    </tr>\n",
       "    <tr>\n",
       "      <th>2</th>\n",
       "      <td>Princeton University</td>\n",
       "      <td>MA in Economics</td>\n",
       "      <td>MA in Data Science</td>\n",
       "      <td>MA in Statistics</td>\n",
       "    </tr>\n",
       "    <tr>\n",
       "      <th>3</th>\n",
       "      <td>University of Chicago</td>\n",
       "      <td>MA in Economics</td>\n",
       "      <td>MA in Data Science</td>\n",
       "      <td>MA in Statistics</td>\n",
       "    </tr>\n",
       "    <tr>\n",
       "      <th>4</th>\n",
       "      <td>Stanford University</td>\n",
       "      <td>MA in Economics</td>\n",
       "      <td>MA in Data Science</td>\n",
       "      <td>MA in Statistics</td>\n",
       "    </tr>\n",
       "  </tbody>\n",
       "</table>\n",
       "</div>"
      ],
      "text/plain": [
       "                              University Names           Major1  \\\n",
       "0                           Harvard University  MA in Economics   \n",
       "1  Massachusetts Institute of Technology (MIT)  MA in Economics   \n",
       "2                         Princeton University  MA in Economics   \n",
       "3                        University of Chicago  MA in Economics   \n",
       "4                          Stanford University  MA in Economics   \n",
       "\n",
       "               Major2            Major3  \n",
       "0  MA in Data Science  MA in Statistics  \n",
       "1  MA in Data Science  MA in Statistics  \n",
       "2  MA in Data Science  MA in Statistics  \n",
       "3  MA in Data Science  MA in Statistics  \n",
       "4  MA in Data Science  MA in Statistics  "
      ]
     },
     "execution_count": 7,
     "metadata": {},
     "output_type": "execute_result"
    }
   ],
   "source": [
    "# 读取 Excel 文件\n",
    "df = pd.read_excel(r\"C:\\Python&AI\\HW2_ApplicationsLetters_project\\EconUniversities_Programs_list.xlsx\")\n",
    "# 查看前几行数据\n",
    "df.head()"
   ]
  },
  {
   "cell_type": "code",
   "execution_count": 9,
   "id": "0ffffd29-b245-4269-9770-fc74cfeca107",
   "metadata": {},
   "outputs": [],
   "source": [
    "# 加载 Word 模板\n",
    "doc = DocxTemplate(r\"C:\\Python&AI\\HW2_ApplicationsLetters_project\\Template_application.docx\")"
   ]
  },
  {
   "cell_type": "code",
   "execution_count": 11,
   "id": "a81808de-07ef-4157-9937-97fbd95e1721",
   "metadata": {},
   "outputs": [
    {
     "name": "stdout",
     "output_type": "stream",
     "text": [
      "Generated: application_Harvard University_MA in Economics.docx\n",
      "Generated: application_Harvard University_MA in Data Science.docx\n",
      "Generated: application_Harvard University_MA in Statistics.docx\n",
      "Generated: application_Massachusetts Institute of Technology (MIT)_MA in Economics.docx\n",
      "Generated: application_Massachusetts Institute of Technology (MIT)_MA in Data Science.docx\n",
      "Generated: application_Massachusetts Institute of Technology (MIT)_MA in Statistics.docx\n",
      "Generated: application_Princeton University_MA in Economics.docx\n",
      "Generated: application_Princeton University_MA in Data Science.docx\n",
      "Generated: application_Princeton University_MA in Statistics.docx\n",
      "Generated: application_University of Chicago_MA in Economics.docx\n",
      "Generated: application_University of Chicago_MA in Data Science.docx\n",
      "Generated: application_University of Chicago_MA in Statistics.docx\n",
      "Generated: application_Stanford University_MA in Economics.docx\n",
      "Generated: application_Stanford University_MA in Data Science.docx\n",
      "Generated: application_Stanford University_MA in Statistics.docx\n",
      "Generated: application_University of California, Berkeley_MA in Economics.docx\n",
      "Generated: application_University of California, Berkeley_MA in Data Science.docx\n",
      "Generated: application_University of California, Berkeley_MA in Statistics.docx\n",
      "Generated: application_Yale University_MA in Economics.docx\n",
      "Generated: application_Yale University_MA in Data Science.docx\n",
      "Generated: application_Yale University_MA in Statistics.docx\n",
      "Generated: application_Columbia University_MA in Economics.docx\n",
      "Generated: application_Columbia University_MA in Data Science.docx\n",
      "Generated: application_Columbia University_MA in Statistics.docx\n",
      "Generated: application_University of Pennsylvania_MA in Economics.docx\n",
      "Generated: application_University of Pennsylvania_MA in Data Science.docx\n",
      "Generated: application_University of Pennsylvania_MA in Statistics.docx\n",
      "Generated: application_Northwestern University_MA in Economics.docx\n",
      "Generated: application_Northwestern University_MA in Data Science.docx\n",
      "Generated: application_Northwestern University_MA in Statistics.docx\n",
      "Generated: application_New York University (NYU)_MA in Economics.docx\n",
      "Generated: application_New York University (NYU)_MA in Data Science.docx\n",
      "Generated: application_New York University (NYU)_MA in Statistics.docx\n",
      "Generated: application_University of Michigan_MA in Economics.docx\n",
      "Generated: application_University of Michigan_MA in Data Science.docx\n",
      "Generated: application_University of Michigan_MA in Statistics.docx\n",
      "Generated: application_University of California, Los Angeles (UCLA)_MA in Economics.docx\n",
      "Generated: application_University of California, Los Angeles (UCLA)_MA in Data Science.docx\n",
      "Generated: application_University of California, Los Angeles (UCLA)_MA in Statistics.docx\n",
      "Generated: application_University of Wisconsin-Madison_MA in Economics.docx\n",
      "Generated: application_University of Wisconsin-Madison_MA in Data Science.docx\n",
      "Generated: application_University of Wisconsin-Madison_MA in Statistics.docx\n",
      "Generated: application_Duke University_MA in Economics.docx\n",
      "Generated: application_Duke University_MA in Data Science.docx\n",
      "Generated: application_Duke University_MA in Statistics.docx\n",
      "Generated: application_Cornell University_MA in Economics.docx\n",
      "Generated: application_Cornell University_MA in Data Science.docx\n",
      "Generated: application_Cornell University_MA in Statistics.docx\n",
      "Generated: application_Boston University_MA in Economics.docx\n",
      "Generated: application_Boston University_MA in Data Science.docx\n",
      "Generated: application_Boston University_MA in Statistics.docx\n",
      "Generated: application_University of Minnesota_MA in Economics.docx\n",
      "Generated: application_University of Minnesota_MA in Data Science.docx\n",
      "Generated: application_University of Minnesota_MA in Statistics.docx\n",
      "Generated: application_University of Texas at Austin_MA in Economics.docx\n",
      "Generated: application_University of Texas at Austin_MA in Data Science.docx\n",
      "Generated: application_University of Texas at Austin_MA in Statistics.docx\n",
      "Generated: application_University of Maryland_MA in Economics.docx\n",
      "Generated: application_University of Maryland_MA in Data Science.docx\n",
      "Generated: application_University of Maryland_MA in Statistics.docx\n",
      "Generated: application_University of Illinois at Urbana-Champaign_MA in Economics.docx\n",
      "Generated: application_University of Illinois at Urbana-Champaign_MA in Data Science.docx\n",
      "Generated: application_University of Illinois at Urbana-Champaign_MA in Statistics.docx\n",
      "Generated: application_University of Washington_MA in Economics.docx\n",
      "Generated: application_University of Washington_MA in Data Science.docx\n",
      "Generated: application_University of Washington_MA in Statistics.docx\n",
      "Generated: application_University of North Carolina at Chapel Hill_MA in Economics.docx\n",
      "Generated: application_University of North Carolina at Chapel Hill_MA in Data Science.docx\n",
      "Generated: application_University of North Carolina at Chapel Hill_MA in Statistics.docx\n",
      "Generated: application_Johns Hopkins University_MA in Economics.docx\n",
      "Generated: application_Johns Hopkins University_MA in Data Science.docx\n",
      "Generated: application_Johns Hopkins University_MA in Statistics.docx\n",
      "Generated: application_University of Virginia_MA in Economics.docx\n",
      "Generated: application_University of Virginia_MA in Data Science.docx\n",
      "Generated: application_University of Virginia_MA in Statistics.docx\n",
      "Generated: application_Brown University_MA in Economics.docx\n",
      "Generated: application_Brown University_MA in Data Science.docx\n",
      "Generated: application_Brown University_MA in Statistics.docx\n",
      "Generated: application_University of Rochester_MA in Economics.docx\n",
      "Generated: application_University of Rochester_MA in Data Science.docx\n",
      "Generated: application_University of Rochester_MA in Statistics.docx\n",
      "Generated: application_Carnegie Mellon University_MA in Economics.docx\n",
      "Generated: application_Carnegie Mellon University_MA in Data Science.docx\n",
      "Generated: application_Carnegie Mellon University_MA in Statistics.docx\n",
      "Generated: application_University of Southern California (USC)_MA in Economics.docx\n",
      "Generated: application_University of Southern California (USC)_MA in Data Science.docx\n",
      "Generated: application_University of Southern California (USC)_MA in Statistics.docx\n",
      "Generated: application_University of Florida_MA in Economics.docx\n",
      "Generated: application_University of Florida_MA in Data Science.docx\n",
      "Generated: application_University of Florida_MA in Statistics.docx\n"
     ]
    }
   ],
   "source": [
    "# 循环生成申请信\n",
    "for index, row in df.iterrows():\n",
    "    university_name = row[\"University Names\"]\n",
    "    \n",
    "    # 为每个专业生成一篇申请信\n",
    "    for major in [row[\"Major1\"], row[\"Major2\"], row[\"Major3\"]]:\n",
    "        # 替换模板中的占位符\n",
    "        context = {\n",
    "            \"university_name\": university_name,\n",
    "            \"major\": major,\n",
    "        }\n",
    "\n",
    "\n",
    "        # 渲染模板\n",
    "        doc.render(context)\n",
    "\n",
    "        # 保存生成的申请信\n",
    "        output_filename = f\"application_{university_name}_{major}.docx\"\n",
    "        doc.save(output_filename)\n",
    "        print(f\"Generated: {output_filename}\")"
   ]
  },
  {
   "cell_type": "code",
   "execution_count": 6,
   "id": "c7c2ac5e-b503-4397-bfd5-150407355f53",
   "metadata": {},
   "outputs": [
    {
     "data": {
      "application/vnd.jupyter.widget-view+json": {
       "model_id": "61b1cbf366b34f1aa60e14e835d88781",
       "version_major": 2,
       "version_minor": 0
      },
      "text/plain": [
       "  0%|          | 0/1 [00:00<?, ?it/s]"
      ]
     },
     "metadata": {},
     "output_type": "display_data"
    },
    {
     "name": "stdout",
     "output_type": "stream",
     "text": [
      "Converted: application_Boston University_MA in Data Science.docx -> application_Boston University_MA in Data Science.pdf\n"
     ]
    },
    {
     "data": {
      "application/vnd.jupyter.widget-view+json": {
       "model_id": "fdd8e556603949d1b3306fef5901afe0",
       "version_major": 2,
       "version_minor": 0
      },
      "text/plain": [
       "  0%|          | 0/1 [00:00<?, ?it/s]"
      ]
     },
     "metadata": {},
     "output_type": "display_data"
    },
    {
     "name": "stdout",
     "output_type": "stream",
     "text": [
      "Converted: application_Boston University_MA in Economics.docx -> application_Boston University_MA in Economics.pdf\n"
     ]
    },
    {
     "data": {
      "application/vnd.jupyter.widget-view+json": {
       "model_id": "a45235f234c947abb9904509ede95560",
       "version_major": 2,
       "version_minor": 0
      },
      "text/plain": [
       "  0%|          | 0/1 [00:00<?, ?it/s]"
      ]
     },
     "metadata": {},
     "output_type": "display_data"
    },
    {
     "ename": "AttributeError",
     "evalue": "Word.Application.Documents",
     "output_type": "error",
     "traceback": [
      "\u001b[1;31m---------------------------------------------------------------------------\u001b[0m",
      "\u001b[1;31mAttributeError\u001b[0m                            Traceback (most recent call last)",
      "Cell \u001b[1;32mIn[6], line 10\u001b[0m\n\u001b[0;32m      8\u001b[0m \u001b[38;5;28;01mfor\u001b[39;00m word_file \u001b[38;5;129;01min\u001b[39;00m word_files:\n\u001b[0;32m      9\u001b[0m     pdf_file \u001b[38;5;241m=\u001b[39m word_file\u001b[38;5;241m.\u001b[39mreplace(\u001b[38;5;124m\"\u001b[39m\u001b[38;5;124m.docx\u001b[39m\u001b[38;5;124m\"\u001b[39m, \u001b[38;5;124m\"\u001b[39m\u001b[38;5;124m.pdf\u001b[39m\u001b[38;5;124m\"\u001b[39m)\n\u001b[1;32m---> 10\u001b[0m     convert(word_file, pdf_file)\n\u001b[0;32m     11\u001b[0m     \u001b[38;5;28mprint\u001b[39m(\u001b[38;5;124mf\u001b[39m\u001b[38;5;124m\"\u001b[39m\u001b[38;5;124mConverted: \u001b[39m\u001b[38;5;132;01m{\u001b[39;00mword_file\u001b[38;5;132;01m}\u001b[39;00m\u001b[38;5;124m -> \u001b[39m\u001b[38;5;132;01m{\u001b[39;00mpdf_file\u001b[38;5;132;01m}\u001b[39;00m\u001b[38;5;124m\"\u001b[39m)\n",
      "File \u001b[1;32m~\\anaconda3\\Lib\\site-packages\\docx2pdf\\__init__.py:106\u001b[0m, in \u001b[0;36mconvert\u001b[1;34m(input_path, output_path, keep_active)\u001b[0m\n\u001b[0;32m    104\u001b[0m     \u001b[38;5;28;01mreturn\u001b[39;00m macos(paths, keep_active)\n\u001b[0;32m    105\u001b[0m \u001b[38;5;28;01melif\u001b[39;00m sys\u001b[38;5;241m.\u001b[39mplatform \u001b[38;5;241m==\u001b[39m \u001b[38;5;124m\"\u001b[39m\u001b[38;5;124mwin32\u001b[39m\u001b[38;5;124m\"\u001b[39m:\n\u001b[1;32m--> 106\u001b[0m     \u001b[38;5;28;01mreturn\u001b[39;00m windows(paths, keep_active)\n\u001b[0;32m    107\u001b[0m \u001b[38;5;28;01melse\u001b[39;00m:\n\u001b[0;32m    108\u001b[0m     \u001b[38;5;28;01mraise\u001b[39;00m \u001b[38;5;167;01mNotImplementedError\u001b[39;00m(\n\u001b[0;32m    109\u001b[0m         \u001b[38;5;124m\"\u001b[39m\u001b[38;5;124mdocx2pdf is not implemented for linux as it requires Microsoft Word to be installed\u001b[39m\u001b[38;5;124m\"\u001b[39m\n\u001b[0;32m    110\u001b[0m     )\n",
      "File \u001b[1;32m~\\anaconda3\\Lib\\site-packages\\docx2pdf\\__init__.py:32\u001b[0m, in \u001b[0;36mwindows\u001b[1;34m(paths, keep_active)\u001b[0m\n\u001b[0;32m     30\u001b[0m docx_filepath \u001b[38;5;241m=\u001b[39m Path(paths[\u001b[38;5;124m\"\u001b[39m\u001b[38;5;124minput\u001b[39m\u001b[38;5;124m\"\u001b[39m])\u001b[38;5;241m.\u001b[39mresolve()\n\u001b[0;32m     31\u001b[0m pdf_filepath \u001b[38;5;241m=\u001b[39m Path(paths[\u001b[38;5;124m\"\u001b[39m\u001b[38;5;124moutput\u001b[39m\u001b[38;5;124m\"\u001b[39m])\u001b[38;5;241m.\u001b[39mresolve()\n\u001b[1;32m---> 32\u001b[0m doc \u001b[38;5;241m=\u001b[39m word\u001b[38;5;241m.\u001b[39mDocuments\u001b[38;5;241m.\u001b[39mOpen(\u001b[38;5;28mstr\u001b[39m(docx_filepath))\n\u001b[0;32m     33\u001b[0m doc\u001b[38;5;241m.\u001b[39mSaveAs(\u001b[38;5;28mstr\u001b[39m(pdf_filepath), FileFormat\u001b[38;5;241m=\u001b[39mwdFormatPDF)\n\u001b[0;32m     34\u001b[0m doc\u001b[38;5;241m.\u001b[39mClose(\u001b[38;5;241m0\u001b[39m)\n",
      "File \u001b[1;32m~\\anaconda3\\Lib\\site-packages\\win32com\\client\\dynamic.py:639\u001b[0m, in \u001b[0;36mCDispatch.__getattr__\u001b[1;34m(self, attr)\u001b[0m\n\u001b[0;32m    636\u001b[0m     \u001b[38;5;28;01mreturn\u001b[39;00m \u001b[38;5;28mself\u001b[39m\u001b[38;5;241m.\u001b[39m_get_good_object_(ret)\n\u001b[0;32m    638\u001b[0m \u001b[38;5;66;03m# no where else to look.\u001b[39;00m\n\u001b[1;32m--> 639\u001b[0m \u001b[38;5;28;01mraise\u001b[39;00m \u001b[38;5;167;01mAttributeError\u001b[39;00m(\u001b[38;5;124m\"\u001b[39m\u001b[38;5;132;01m%s\u001b[39;00m\u001b[38;5;124m.\u001b[39m\u001b[38;5;132;01m%s\u001b[39;00m\u001b[38;5;124m\"\u001b[39m \u001b[38;5;241m%\u001b[39m (\u001b[38;5;28mself\u001b[39m\u001b[38;5;241m.\u001b[39m_username_, attr))\n",
      "\u001b[1;31mAttributeError\u001b[0m: Word.Application.Documents"
     ]
    }
   ],
   "source": [
    "from docx2pdf import convert\n",
    "import os\n",
    "\n",
    "# 获取当前目录下所有的 Word 文件\n",
    "word_files = [f for f in os.listdir() if f.endswith(\".docx\")]\n",
    "\n",
    "# 将每个 Word 文件转换为 PDF\n",
    "for word_file in word_files:\n",
    "    pdf_file = word_file.replace(\".docx\", \".pdf\")\n",
    "    convert(word_file, pdf_file)\n",
    "    print(f\"Converted: {word_file} -> {pdf_file}\")"
   ]
  },
  {
   "cell_type": "code",
   "execution_count": null,
   "id": "d0b56f56-95ec-4090-a549-81713d8c1693",
   "metadata": {},
   "outputs": [],
   "source": []
  }
 ],
 "metadata": {
  "kernelspec": {
   "display_name": "Python [conda env:base] *",
   "language": "python",
   "name": "conda-base-py"
  },
  "language_info": {
   "codemirror_mode": {
    "name": "ipython",
    "version": 3
   },
   "file_extension": ".py",
   "mimetype": "text/x-python",
   "name": "python",
   "nbconvert_exporter": "python",
   "pygments_lexer": "ipython3",
   "version": "3.12.7"
  }
 },
 "nbformat": 4,
 "nbformat_minor": 5
}
