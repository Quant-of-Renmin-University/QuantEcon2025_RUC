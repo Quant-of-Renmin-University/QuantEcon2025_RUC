{
 "cells": [
  {
   "cell_type": "code",
   "execution_count": 1,
   "id": "aa636417-3f12-4939-b734-00255abb53a6",
   "metadata": {},
   "outputs": [],
   "source": [
    "import pandas as pd\n",
    "from sklearn.model_selection import train_test_split\n",
    "from sklearn.compose import ColumnTransformer\n",
    "from sklearn.preprocessing import OneHotEncoder, StandardScaler\n",
    "from sklearn.pipeline import Pipeline\n",
    "from sklearn.linear_model import LinearRegression, Lasso, Ridge, ElasticNet\n",
    "from sklearn.metrics import mean_squared_error, r2_score\n",
    "from sklearn.preprocessing import PolynomialFeatures\n",
    "\n",
    "df = pd.read_parquet('C:/Users/86138/Tigercut/midterm/train_plus.parquet')\n",
    "\n",
    "# 数据预处理\n",
    "# 转换需要作为分类变量的列\n",
    "df['城市'] = df['城市'].astype('category')\n",
    "df['区域'] = df['区域'].astype('category')\n",
    "df['板块'] = df['板块'].astype('category')\n",
    "\n",
    "# 定义特征和标签\n",
    "X = df.drop(columns=['价格', '小区名称', '交易时间'])\n",
    "y = df['价格']\n",
    "\n",
    "# 划分训练集和测试集\n",
    "X_train, X_test, y_train, y_test = train_test_split(X, y, test_size=0.2, random_state=111)\n",
    "\n",
    "# 定义预处理器\n",
    "numeric_features = X.select_dtypes(include=['int32', 'int64', 'float64']).columns.tolist()\n",
    "categorical_features = X.select_dtypes(include=['category']).columns.tolist()\n",
    "\n",
    "preprocessor = ColumnTransformer([\n",
    "    ('num', Pipeline([\n",
    "        ('scaler', StandardScaler()),\n",
    "        ('poly', PolynomialFeatures(degree=2, include_bias=False))  # 二次项\n",
    "    ]), numeric_features),\n",
    "    ('cat', OneHotEncoder(handle_unknown='ignore'), categorical_features)\n",
    "])"
   ]
  },
  {
   "cell_type": "code",
   "execution_count": 2,
   "id": "ef95307b-f486-4885-b561-22af4b4316ad",
   "metadata": {},
   "outputs": [
    {
     "name": "stderr",
     "output_type": "stream",
     "text": [
      "C:\\Users\\86138\\anaconda3\\Lib\\site-packages\\sklearn\\linear_model\\_coordinate_descent.py:697: ConvergenceWarning: Objective did not converge. You might want to increase the number of iterations, check the scale of the features or consider increasing regularisation. Duality gap: 6.646e+15, tolerance: 1.762e+13\n",
      "  model = cd_fast.enet_coordinate_descent(\n",
      "C:\\Users\\86138\\anaconda3\\Lib\\site-packages\\sklearn\\linear_model\\_coordinate_descent.py:697: ConvergenceWarning: Objective did not converge. You might want to increase the number of iterations, check the scale of the features or consider increasing regularisation. Duality gap: 8.300e+15, tolerance: 1.762e+13\n",
      "  model = cd_fast.enet_coordinate_descent(\n"
     ]
    },
    {
     "name": "stdout",
     "output_type": "stream",
     "text": [
      "            Model          MSE          RMSE  R² Score\n",
      "Linear Regression 2.220564e+11 471228.633820  0.916471\n",
      "            Lasso 2.225014e+11 471700.496721  0.916304\n",
      "            Ridge 2.223108e+11 471498.416683  0.916376\n",
      "       ElasticNet 2.356048e+11 485391.345130  0.911375\n"
     ]
    }
   ],
   "source": [
    "# 构建不同模型的管道\n",
    "models = {\n",
    "    'Linear Regression': Pipeline([\n",
    "        ('preprocessor', preprocessor),\n",
    "        ('regressor', LinearRegression())\n",
    "    ]),\n",
    "    'Lasso': Pipeline([\n",
    "        ('preprocessor', preprocessor),\n",
    "        ('regressor', Lasso(alpha=1.0, max_iter=10000, tol=0.0001, random_state=111))\n",
    "    ]),\n",
    "    # 目前最高R方\n",
    "    'Ridge': Pipeline([\n",
    "        ('preprocessor', preprocessor),\n",
    "        ('regressor', Ridge(alpha=0.1, random_state=111))\n",
    "    ]),\n",
    "    'ElasticNet': Pipeline([\n",
    "        ('preprocessor', preprocessor),\n",
    "        ('regressor', ElasticNet(alpha=0.001, l1_ratio=0.8, max_iter=10000, random_state=111))\n",
    "    ])\n",
    "}\n",
    "\n",
    "# 训练和评估模型\n",
    "results = []\n",
    "for name, model in models.items():\n",
    "    # 训练模型\n",
    "    model.fit(X_train, y_train)\n",
    "    \n",
    "    # 预测测试集\n",
    "    y_pred = model.predict(X_test)\n",
    "    \n",
    "    # 计算评估指标\n",
    "    mse = mean_squared_error(y_test, y_pred)\n",
    "    rmse = mse ** 0.5\n",
    "    r2 = r2_score(y_test, y_pred)\n",
    "    \n",
    "    # 保存结果\n",
    "    results.append({\n",
    "        'Model': name,\n",
    "        'MSE': mse,\n",
    "        'RMSE': rmse,\n",
    "        'R² Score': r2\n",
    "    })\n",
    "\n",
    "# 展示结果\n",
    "results_df = pd.DataFrame(results)\n",
    "print(results_df.to_string(index=False))"
   ]
  },
  {
   "cell_type": "code",
   "execution_count": 3,
   "id": "25004f96-5096-413d-9ea7-4425630781ad",
   "metadata": {},
   "outputs": [],
   "source": [
    "from joblib import dump\n",
    "\n",
    "# 创建保存模型的目录（如果不存在）\n",
    "import os\n",
    "os.makedirs('C:/Users/86138/Tigercut/midterm/hypermodels', exist_ok=True)\n",
    "\n",
    "# 保存所有模型\n",
    "for name, model in models.items():\n",
    "    dump(model, f'C:/Users/86138/Tigercut/midterm/hypermodels/{name.lower().replace(\" \", \"_\")}.joblib')"
   ]
  },
  {
   "cell_type": "code",
   "execution_count": null,
   "id": "03429b8b-f810-4e83-bdc2-4bbe4198a397",
   "metadata": {},
   "outputs": [],
   "source": []
  }
 ],
 "metadata": {
  "kernelspec": {
   "display_name": "Python 3 (ipykernel)",
   "language": "python",
   "name": "python3"
  },
  "language_info": {
   "codemirror_mode": {
    "name": "ipython",
    "version": 3
   },
   "file_extension": ".py",
   "mimetype": "text/x-python",
   "name": "python",
   "nbconvert_exporter": "python",
   "pygments_lexer": "ipython3",
   "version": "3.12.3"
  }
 },
 "nbformat": 4,
 "nbformat_minor": 5
}
