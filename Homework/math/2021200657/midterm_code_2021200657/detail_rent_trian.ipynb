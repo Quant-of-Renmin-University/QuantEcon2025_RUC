{
 "cells": [
  {
   "cell_type": "code",
   "execution_count": 1,
   "id": "21cbc4e1-13cc-4042-9734-2952b96eea91",
   "metadata": {},
   "outputs": [],
   "source": [
    "import pandas as pd"
   ]
  },
  {
   "cell_type": "code",
   "execution_count": 2,
   "id": "6c80843e-2dca-4aae-8f89-8f0110f31207",
   "metadata": {},
   "outputs": [],
   "source": [
    "import pandas as pd\n",
    "import matplotlib.pyplot as plt\n",
    "import seaborn as sns\n",
    "import contextily as ctx\n",
    "\n",
    "plt.rcParams['font.sans-serif'] = ['Microsoft YaHei']\n",
    "plt.rcParams['axes.unicode_minus'] = False"
   ]
  },
  {
   "cell_type": "code",
   "execution_count": 3,
   "id": "de15e4b9-d75c-4500-bd70-56eab4b78d2a",
   "metadata": {},
   "outputs": [],
   "source": [
    "df1 = pd.read_parquet('C:/Users/86138/Tigercut/midterm/details.parquet')"
   ]
  },
  {
   "cell_type": "code",
   "execution_count": 4,
   "id": "d181f892-9945-4efc-b540-2bf7d48991b9",
   "metadata": {},
   "outputs": [
    {
     "name": "stdout",
     "output_type": "stream",
     "text": [
      "<class 'pandas.core.frame.DataFrame'>\n",
      "RangeIndex: 3100 entries, 0 to 3099\n",
      "Data columns (total 27 columns):\n",
      " #   Column   Non-Null Count  Dtype  \n",
      "---  ------   --------------  -----  \n",
      " 0   区县       3099 non-null   float64\n",
      " 1   名称       3100 non-null   object \n",
      " 2   城市       3100 non-null   int64  \n",
      " 3   板块       3095 non-null   float64\n",
      " 4   环线位置     1802 non-null   object \n",
      " 5   小区地址     3100 non-null   object \n",
      " 6   物业类别     3100 non-null   object \n",
      " 7   建筑年代     2912 non-null   object \n",
      " 8   开发商      2576 non-null   object \n",
      " 9   房屋总数     3100 non-null   object \n",
      " 10  楼栋总数     3100 non-null   object \n",
      " 11  物业公司     2445 non-null   object \n",
      " 12  绿 化 率    2714 non-null   object \n",
      " 13  容 积 率    2717 non-null   float64\n",
      " 14  物 业 费    2744 non-null   object \n",
      " 15  建筑结构     2957 non-null   object \n",
      " 16  物业办公电话   977 non-null    object \n",
      " 17  产权描述     3098 non-null   object \n",
      " 18  供水       2913 non-null   object \n",
      " 19  供暖       2366 non-null   object \n",
      " 20  供电       2930 non-null   object \n",
      " 21  燃气费      2668 non-null   object \n",
      " 22  供热费      1235 non-null   object \n",
      " 23  停车位      2546 non-null   float64\n",
      " 24  停车费用     2665 non-null   object \n",
      " 25  coord_x  3100 non-null   float64\n",
      " 26  coord_y  3100 non-null   float64\n",
      "dtypes: float64(6), int64(1), object(20)\n",
      "memory usage: 654.0+ KB\n"
     ]
    }
   ],
   "source": [
    "df1.info()"
   ]
  },
  {
   "cell_type": "code",
   "execution_count": 5,
   "id": "691dfd70-8d70-4c72-8769-c221aa232818",
   "metadata": {},
   "outputs": [
    {
     "data": {
      "text/plain": [
       "建筑年代\n",
       "2004年         46\n",
       "2002年         41\n",
       "2003年         41\n",
       "2000年         41\n",
       "1998年         39\n",
       "              ..\n",
       "1981-1992年     1\n",
       "1976-2001年     1\n",
       "1994-1997年     1\n",
       "1988-1993年     1\n",
       "1985-1994年     1\n",
       "Name: count, Length: 725, dtype: int64"
      ]
     },
     "execution_count": 5,
     "metadata": {},
     "output_type": "execute_result"
    }
   ],
   "source": [
    "df1['建筑年代'].value_counts()"
   ]
  },
  {
   "cell_type": "code",
   "execution_count": 6,
   "id": "2ddab3c1-8a73-4091-a6d5-b47ecd157f0e",
   "metadata": {},
   "outputs": [
    {
     "name": "stdout",
     "output_type": "stream",
     "text": [
      "            建筑年代       建筑年份\n",
      "2035  1998-2005年 2002-01-01\n",
      "389   2012-2018年 2015-01-01\n",
      "1120  2006-2008年 2007-01-01\n",
      "2925       2003年 2003-01-01\n",
      "245   2008-2010年 2009-01-01\n"
     ]
    }
   ],
   "source": [
    "import pandas as pd\n",
    "import re\n",
    "from datetime import datetime\n",
    "\n",
    "def process_construction_year(text):\n",
    "    # 提取所有四位数年份\n",
    "    years = list(map(int, re.findall(r'\\d{4}', str(text))))\n",
    "    \n",
    "    if not years:\n",
    "        return pd.NaT\n",
    "    \n",
    "    # 计算代表性年份\n",
    "    if len(years) == 1:\n",
    "        rep_year = years[0]\n",
    "    else:\n",
    "        # 对年份范围取中位数（四舍五入）\n",
    "        sorted_years = sorted(years)\n",
    "        median = (sorted_years[0] + sorted_years[-1]) / 2\n",
    "        rep_year = int(round(median))\n",
    "    \n",
    "    # 转换为datetime（默认1月1日）\n",
    "    try:\n",
    "        return datetime(year=rep_year, month=1, day=1)\n",
    "    except:\n",
    "        return pd.NaT\n",
    "\n",
    "# 应用处理函数\n",
    "df1['建筑年份'] = df1['建筑年代'].apply(process_construction_year)\n",
    "\n",
    "# 验证转换结果\n",
    "print(df1[['建筑年代', '建筑年份']].sample(5))"
   ]
  },
  {
   "cell_type": "code",
   "execution_count": 7,
   "id": "5793b9af-a763-4b2d-b559-7058c3bc2047",
   "metadata": {},
   "outputs": [],
   "source": [
    "df2 = pd.read_parquet('C:/Users/86138/Tigercut/midterm/rent.parquet')"
   ]
  },
  {
   "cell_type": "code",
   "execution_count": 8,
   "id": "9a22993d-696d-4af8-8327-29dac1383894",
   "metadata": {},
   "outputs": [
    {
     "name": "stdout",
     "output_type": "stream",
     "text": [
      "<class 'pandas.core.frame.DataFrame'>\n",
      "RangeIndex: 84150 entries, 0 to 84149\n",
      "Data columns (total 22 columns):\n",
      " #   Column  Non-Null Count  Dtype  \n",
      "---  ------  --------------  -----  \n",
      " 0   城市      84150 non-null  int64  \n",
      " 1   小区名称    84150 non-null  object \n",
      " 2   户型      84149 non-null  object \n",
      " 3   装修      29916 non-null  object \n",
      " 4   价格      84150 non-null  int64  \n",
      " 5   楼层      84145 non-null  object \n",
      " 6   面积      84150 non-null  object \n",
      " 7   朝向      84145 non-null  object \n",
      " 8   交易时间    84150 non-null  object \n",
      " 9   付款方式    69127 non-null  object \n",
      " 10  租赁方式    84150 non-null  object \n",
      " 11  电梯      84148 non-null  object \n",
      " 12  车位      21377 non-null  object \n",
      " 13  用水      72771 non-null  object \n",
      " 14  用电      73206 non-null  object \n",
      " 15  燃气      81965 non-null  object \n",
      " 16  采暖      61414 non-null  object \n",
      " 17  租期      44315 non-null  object \n",
      " 18  配套设施    58921 non-null  object \n",
      " 19  lon     84150 non-null  float64\n",
      " 20  lat     84150 non-null  float64\n",
      " 21  年份      84150 non-null  float64\n",
      "dtypes: float64(3), int64(2), object(17)\n",
      "memory usage: 14.1+ MB\n"
     ]
    }
   ],
   "source": [
    "df2.info()"
   ]
  },
  {
   "cell_type": "code",
   "execution_count": 9,
   "id": "afd1eb6c-9e3f-446a-a030-34242d460c5b",
   "metadata": {},
   "outputs": [],
   "source": [
    "df2['面积'] = df2['面积'].str.extract(r'(\\d+\\.?\\d*)\\s*㎡').astype(float)\n",
    "df2['平均租价'] = df2['价格'] / df2['面积']"
   ]
  },
  {
   "cell_type": "code",
   "execution_count": 10,
   "id": "3f7e3efc-9eb8-4b7e-bd86-7d9a3fdd0b5d",
   "metadata": {},
   "outputs": [],
   "source": [
    "df = pd.read_parquet('C:/Users/86138/Tigercut/midterm/train_cleaned.parquet')"
   ]
  },
  {
   "cell_type": "code",
   "execution_count": 11,
   "id": "1a75d6b4-7dd7-4a56-ad29-4de362d6c511",
   "metadata": {},
   "outputs": [],
   "source": [
    "coords_df = df[['lon', 'lat']].values\n",
    "coords_df1 = df1[['coord_x', 'coord_y']].values\n",
    "coords_df2 = df2[['lon', 'lat']].values"
   ]
  },
  {
   "cell_type": "code",
   "execution_count": 12,
   "id": "d6c43a5d-d132-4849-8860-da77e1e02801",
   "metadata": {},
   "outputs": [],
   "source": [
    "from sklearn.neighbors import NearestNeighbors\n",
    "\n",
    "# 匹配 df1 的 \"建筑年份\"\n",
    "nn = NearestNeighbors(n_neighbors=1, algorithm='ball_tree').fit(coords_df1)\n",
    "distances, indices = nn.kneighbors(coords_df)\n",
    "df['建筑年份'] = df1.iloc[indices.flatten()]['建筑年份'].values\n",
    "\n",
    "# 匹配 df2 的 \"平均租价\"\n",
    "nn = NearestNeighbors(n_neighbors=1, algorithm='ball_tree').fit(coords_df2)\n",
    "distances, indices = nn.kneighbors(coords_df)\n",
    "df['平均租价'] = df2.iloc[indices.flatten()]['平均租价'].values"
   ]
  },
  {
   "cell_type": "code",
   "execution_count": 13,
   "id": "620a08a0-59e5-4c79-8b67-253214e33228",
   "metadata": {},
   "outputs": [],
   "source": [
    "import pandas as pd\n",
    "import numpy as np\n",
    "\n",
    "# 计算每个小区的平均建筑年份（忽略缺失值）\n",
    "小区平均年份 = df.groupby('小区名称')['建筑年份'].transform(lambda x: x.mean(skipna=True))\n",
    "\n",
    "# 计算每个板块的平均建筑年份（忽略缺失值）\n",
    "板块平均年份 = df.groupby('板块')['建筑年份'].transform(lambda x: x.mean(skipna=True))"
   ]
  },
  {
   "cell_type": "code",
   "execution_count": 14,
   "id": "d3535abb-aff2-4532-82bb-701e36e40d01",
   "metadata": {},
   "outputs": [],
   "source": [
    "# 优先用小区平均值填充\n",
    "df['建筑年份'] = df['建筑年份'].fillna(小区平均年份)\n",
    "\n",
    "# 若小区平均值仍为NaN（说明该小区完全缺失建筑年份），则用板块平均值填充\n",
    "df['建筑年份'] = df['建筑年份'].fillna(板块平均年份)"
   ]
  },
  {
   "cell_type": "code",
   "execution_count": 15,
   "id": "b1e38d77-e74c-4b0d-9617-dc31c2b73ffa",
   "metadata": {},
   "outputs": [
    {
     "name": "stdout",
     "output_type": "stream",
     "text": [
      "<class 'pandas.core.frame.DataFrame'>\n",
      "RangeIndex: 83291 entries, 0 to 83290\n",
      "Data columns (total 50 columns):\n",
      " #   Column                   Non-Null Count  Dtype         \n",
      "---  ------                   --------------  -----         \n",
      " 0   城市                       83291 non-null  int64         \n",
      " 1   区域                       83291 non-null  float64       \n",
      " 2   板块                       83291 non-null  float64       \n",
      " 3   环线                       83291 non-null  category      \n",
      " 4   小区名称                     83291 non-null  object        \n",
      " 5   价格                       83291 non-null  int64         \n",
      " 6   建筑结构                     83291 non-null  category      \n",
      " 7   装修情况                     83291 non-null  category      \n",
      " 8   别墅类型                     83291 non-null  category      \n",
      " 9   交易时间                     83291 non-null  datetime64[ns]\n",
      " 10  交易权属                     83291 non-null  category      \n",
      " 11  房屋用途                     83291 non-null  category      \n",
      " 12  房屋年限                     83291 non-null  category      \n",
      " 13  产权所属                     83291 non-null  category      \n",
      " 14  lon                      83291 non-null  float64       \n",
      " 15  lat                      83291 non-null  float64       \n",
      " 16  年份                       83291 non-null  float64       \n",
      " 17  室                        83291 non-null  Int32         \n",
      " 18  厅                        83291 non-null  int64         \n",
      " 19  厨                        83291 non-null  Int32         \n",
      " 20  卫                        83291 non-null  int64         \n",
      " 21  相对楼层                     83291 non-null  category      \n",
      " 22  总楼层                      83291 non-null  Int32         \n",
      " 23  使用面积                     83291 non-null  float64       \n",
      " 24  has_东                    83291 non-null  int32         \n",
      " 25  has_南                    83291 non-null  int32         \n",
      " 26  has_西                    83291 non-null  int32         \n",
      " 27  has_北                    83291 non-null  int32         \n",
      " 28  has_东南                   83291 non-null  int32         \n",
      " 29  has_东北                   83291 non-null  int32         \n",
      " 30  has_西南                   83291 non-null  int32         \n",
      " 31  has_西北                   83291 non-null  int32         \n",
      " 32  户数                       83291 non-null  float64       \n",
      " 33  elevators_per_household  83291 non-null  float64       \n",
      " 34  距上次交易                    83291 non-null  int32         \n",
      " 35  优势_装修                    83291 non-null  Int32         \n",
      " 36  优势_地铁                    83291 non-null  Int32         \n",
      " 37  优势_满五                    83291 non-null  Int32         \n",
      " 38  优势_满二                    83291 non-null  Int32         \n",
      " 39  商业配套                     83291 non-null  int64         \n",
      " 40  教育配套                     83291 non-null  int64         \n",
      " 41  医疗配套                     83291 non-null  int64         \n",
      " 42  生态配套                     83291 non-null  int64         \n",
      " 43  金融配套                     83291 non-null  int64         \n",
      " 44  地铁线路数                    83291 non-null  int64         \n",
      " 45  公交线路数                    83291 non-null  int64         \n",
      " 46  主干道数                     83291 non-null  int64         \n",
      " 47  交通枢纽                     83291 non-null  int64         \n",
      " 48  建筑年份                     83195 non-null  datetime64[ns]\n",
      " 49  平均租价                     83291 non-null  float64       \n",
      "dtypes: Int32(7), category(9), datetime64[ns](2), float64(9), int32(9), int64(13), object(1)\n",
      "memory usage: 22.2+ MB\n"
     ]
    }
   ],
   "source": [
    "df.info()"
   ]
  },
  {
   "cell_type": "code",
   "execution_count": 16,
   "id": "5a7eed0f-aa1b-4605-b263-915c0590d33a",
   "metadata": {},
   "outputs": [],
   "source": [
    "df = df.dropna(subset=['建筑年份'])"
   ]
  },
  {
   "cell_type": "code",
   "execution_count": 17,
   "id": "a75f4514-ef35-4855-8982-50fae3ce340b",
   "metadata": {},
   "outputs": [],
   "source": [
    "# 提取年份并计算年龄\n",
    "df['建筑年龄'] = df['交易时间'].dt.year - df['建筑年份'].dt.year"
   ]
  },
  {
   "cell_type": "code",
   "execution_count": 19,
   "id": "9204d79b-e929-4368-8e00-c660407be782",
   "metadata": {},
   "outputs": [
    {
     "name": "stdout",
     "output_type": "stream",
     "text": [
      "原始数据量: 3100\n",
      "过滤后数据量: 82363\n",
      "异常值数量: 832\n"
     ]
    },
    {
     "data": {
      "image/png": "[encoded data removed]",
      "text/plain": [
       "<Figure size 640x480 with 1 Axes>"
      ]
     },
     "metadata": {},
     "output_type": "display_data"
    }
   ],
   "source": [
    "import numpy as np\n",
    "import pandas as pd\n",
    "import matplotlib.pyplot as plt\n",
    "from sklearn.covariance import EllipticEnvelope\n",
    "from sklearn.preprocessing import StandardScaler\n",
    "\n",
    "# 提取目标特征\n",
    "X = df[['价格', '平均租价']].values\n",
    "\n",
    "# 标准化数据（椭圆包络对尺度敏感）\n",
    "scaler = StandardScaler()\n",
    "X_scaled = scaler.fit_transform(X)\n",
    "\n",
    "# 拟合椭圆包络模型\n",
    "# contamination参数：预期异常值比例（根据数据调整）\n",
    "envelope = EllipticEnvelope(contamination=0.01, random_state=111)  \n",
    "envelope.fit(X_scaled)\n",
    "\n",
    "# 预测异常值（-1表示异常，1表示正常）\n",
    "outliers = envelope.predict(X_scaled) == -1\n",
    "df_clean = df[~outliers]\n",
    "\n",
    "# 输出结果\n",
    "print(f\"原始数据量: {len(df1)}\")\n",
    "print(f\"过滤后数据量: {len(df_clean)}\")\n",
    "print(f\"异常值数量: {outliers.sum()}\")\n",
    "\n",
    "# 可视化异常值\n",
    "plt.scatter(X_scaled[:, 0], X_scaled[:, 1], c='blue', label='正常值', alpha=0.5)\n",
    "plt.scatter(X_scaled[outliers, 0], X_scaled[outliers, 1], c='red', label='异常值', alpha=0.7)\n",
    "plt.xlabel('标准化价格')\n",
    "plt.ylabel('标准化平均租价')\n",
    "plt.title('椭圆包络法异常值检测')\n",
    "plt.legend()\n",
    "plt.show()"
   ]
  },
  {
   "cell_type": "code",
   "execution_count": 20,
   "id": "4615ec7d-bb75-4007-ba59-42b56a901ab9",
   "metadata": {},
   "outputs": [],
   "source": [
    "columns_to_keep = [\n",
    "'城市', '区域', '板块', '环线', '小区名称', '价格', '建筑结构', '装修情况', '别墅类型',\n",
    "'交易时间', '交易权属', '房屋用途', '房屋年限', '产权所属', 'lon', 'lat', '年份',\n",
    "'室', '厅', '厨', '卫', '相对楼层', '总楼层', '使用面积', 'has_东', 'has_南',\n",
    "'has_西', 'has_北', 'has_东南', 'has_东北', 'has_西南', 'has_西北', '户数',\n",
    "'elevators_per_household', '距上次交易', '优势_装修', '优势_地铁', '优势_满五',\n",
    "'优势_满二', '商业配套', '教育配套', '医疗配套', '生态配套', '金融配套', '地铁线路数',\n",
    "'公交线路数', '主干道数', '交通枢纽', '平均租价', '建筑年龄'\n",
    "]\n",
    "\n",
    "cleaned_df = df_clean[columns_to_keep]"
   ]
  },
  {
   "cell_type": "code",
   "execution_count": 21,
   "id": "b047c1b6-2909-4877-a60a-d272663d5f67",
   "metadata": {},
   "outputs": [],
   "source": [
    "cleaned_df.to_parquet(\n",
    "    path='C:/Users/86138/Tigercut/midterm/train_plus.parquet',  # 文件路径\n",
    "    engine='pyarrow',               # 推荐引擎（支持更全的数据类型）\n",
    "    compression='snappy',           # 压缩方式（可选：'snappy', 'gzip', 'brotli' 等）\n",
    "    index=False                      # 不保存索引\n",
    ")"
   ]
  },
  {
   "cell_type": "code",
   "execution_count": 22,
   "id": "b991dd91-da1f-4612-bee0-22d3ac2e687a",
   "metadata": {},
   "outputs": [
    {
     "name": "stdout",
     "output_type": "stream",
     "text": [
      "<class 'pandas.core.frame.DataFrame'>\n",
      "Index: 82363 entries, 0 to 83290\n",
      "Data columns (total 50 columns):\n",
      " #   Column                   Non-Null Count  Dtype         \n",
      "---  ------                   --------------  -----         \n",
      " 0   城市                       82363 non-null  int64         \n",
      " 1   区域                       82363 non-null  float64       \n",
      " 2   板块                       82363 non-null  float64       \n",
      " 3   环线                       82363 non-null  category      \n",
      " 4   小区名称                     82363 non-null  object        \n",
      " 5   价格                       82363 non-null  int64         \n",
      " 6   建筑结构                     82363 non-null  category      \n",
      " 7   装修情况                     82363 non-null  category      \n",
      " 8   别墅类型                     82363 non-null  category      \n",
      " 9   交易时间                     82363 non-null  datetime64[ns]\n",
      " 10  交易权属                     82363 non-null  category      \n",
      " 11  房屋用途                     82363 non-null  category      \n",
      " 12  房屋年限                     82363 non-null  category      \n",
      " 13  产权所属                     82363 non-null  category      \n",
      " 14  lon                      82363 non-null  float64       \n",
      " 15  lat                      82363 non-null  float64       \n",
      " 16  年份                       82363 non-null  float64       \n",
      " 17  室                        82363 non-null  Int32         \n",
      " 18  厅                        82363 non-null  int64         \n",
      " 19  厨                        82363 non-null  Int32         \n",
      " 20  卫                        82363 non-null  int64         \n",
      " 21  相对楼层                     82363 non-null  category      \n",
      " 22  总楼层                      82363 non-null  Int32         \n",
      " 23  使用面积                     82363 non-null  float64       \n",
      " 24  has_东                    82363 non-null  int32         \n",
      " 25  has_南                    82363 non-null  int32         \n",
      " 26  has_西                    82363 non-null  int32         \n",
      " 27  has_北                    82363 non-null  int32         \n",
      " 28  has_东南                   82363 non-null  int32         \n",
      " 29  has_东北                   82363 non-null  int32         \n",
      " 30  has_西南                   82363 non-null  int32         \n",
      " 31  has_西北                   82363 non-null  int32         \n",
      " 32  户数                       82363 non-null  float64       \n",
      " 33  elevators_per_household  82363 non-null  float64       \n",
      " 34  距上次交易                    82363 non-null  int32         \n",
      " 35  优势_装修                    82363 non-null  Int32         \n",
      " 36  优势_地铁                    82363 non-null  Int32         \n",
      " 37  优势_满五                    82363 non-null  Int32         \n",
      " 38  优势_满二                    82363 non-null  Int32         \n",
      " 39  商业配套                     82363 non-null  int64         \n",
      " 40  教育配套                     82363 non-null  int64         \n",
      " 41  医疗配套                     82363 non-null  int64         \n",
      " 42  生态配套                     82363 non-null  int64         \n",
      " 43  金融配套                     82363 non-null  int64         \n",
      " 44  地铁线路数                    82363 non-null  int64         \n",
      " 45  公交线路数                    82363 non-null  int64         \n",
      " 46  主干道数                     82363 non-null  int64         \n",
      " 47  交通枢纽                     82363 non-null  int64         \n",
      " 48  平均租价                     82363 non-null  float64       \n",
      " 49  建筑年龄                     82363 non-null  int32         \n",
      "dtypes: Int32(7), category(9), datetime64[ns](1), float64(9), int32(10), int64(13), object(1)\n",
      "memory usage: 22.3+ MB\n"
     ]
    }
   ],
   "source": [
    "cleaned_df.info()"
   ]
  },
  {
   "cell_type": "code",
   "execution_count": null,
   "id": "0166e687-43a5-4fd1-baec-1be6df0d77ce",
   "metadata": {},
   "outputs": [],
   "source": []
  }
 ],
 "metadata": {
  "kernelspec": {
   "display_name": "Python 3 (ipykernel)",
   "language": "python",
   "name": "python3"
  },
  "language_info": {
   "codemirror_mode": {
    "name": "ipython",
    "version": 3
   },
   "file_extension": ".py",
   "mimetype": "text/x-python",
   "name": "python",
   "nbconvert_exporter": "python",
   "pygments_lexer": "ipython3",
   "version": "3.12.3"
  }
 },
 "nbformat": 4,
 "nbformat_minor": 5
}
