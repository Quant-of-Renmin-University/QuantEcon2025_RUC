{
 "cells": [
  {
   "cell_type": "code",
   "execution_count": 1,
   "id": "da8b730a-173c-4f72-b7bc-48d7fd9e52da",
   "metadata": {},
   "outputs": [],
   "source": [
    "import pandas as pd\n",
    "df = pd.read_parquet('C:/Users/86138/Tigercut/midterm/test_plus.parquet')\n",
    "\n",
    "# 数据预处理\n",
    "# 转换需要作为分类变量的列\n",
    "df['城市'] = df['城市'].astype('category')\n",
    "df['区域'] = df['区域'].astype('category')\n",
    "df['板块'] = df['板块'].astype('category')\n",
    "df = df.drop(columns=['小区名称', '交易时间'])\n",
    "\n",
    "numeric_features = df.select_dtypes(include=['int32', 'int64', 'float64']).columns.tolist()\n",
    "categorical_features = df.select_dtypes(include=['category']).columns.tolist()"
   ]
  },
  {
   "cell_type": "code",
   "execution_count": 2,
   "id": "c9fbad38-f4e7-47cd-96e8-9d0bc73b438c",
   "metadata": {},
   "outputs": [],
   "source": [
    "from joblib import load\n",
    "import pandas as pd\n",
    "\n",
    "def load_and_predict(model_name, new_data):\n",
    "    \"\"\"\n",
    "    加载指定模型并进行预测\n",
    "    \n",
    "    参数:\n",
    "        model_name: 模型名称 ('Linear Regression', 'Lasso', 'Ridge', 'ElasticNet')\n",
    "        new_data: 新数据 (DataFrame格式，与训练数据相同的特征)\n",
    "    \n",
    "    返回:\n",
    "        预测结果 (numpy数组)\n",
    "    \"\"\"\n",
    "    # 构造文件名\n",
    "    filename = model_name.lower().replace(\" \", \"_\") + '.joblib'\n",
    "    model_path = f'C:/Users/86138/Tigercut/midterm/hypermodels_interaction_only/{filename}'\n",
    "    \n",
    "    # 加载模型\n",
    "    try:\n",
    "        model = load(model_path)\n",
    "    except FileNotFoundError:\n",
    "        raise ValueError(f\"模型 {model_name} 未找到，请检查模型名称或路径\")\n",
    "    \n",
    "    # 进行预测\n",
    "    predictions = model.predict(new_data)\n",
    "    return predictions"
   ]
  },
  {
   "cell_type": "code",
   "execution_count": 3,
   "id": "3119bc20-1124-4f15-93ef-54fec440702d",
   "metadata": {},
   "outputs": [],
   "source": [
    "models = ['Linear Regression', 'Lasso', 'Ridge', 'ElasticNet']\n",
    "final_predictions = {}\n",
    "for model_name in models:\n",
    "    preds = load_and_predict(model_name, df)\n",
    "    final_predictions[model_name] = preds"
   ]
  },
  {
   "cell_type": "code",
   "execution_count": 4,
   "id": "0485b47f-48c0-4127-8f67-ac188e16f853",
   "metadata": {},
   "outputs": [
    {
     "name": "stdout",
     "output_type": "stream",
     "text": [
      "       Linear Regression         Lasso         Ridge    ElasticNet\n",
      "0             12362606.0  1.241837e+07  1.236850e+07  1.141424e+07\n",
      "1              7728920.0  7.703361e+06  7.709564e+06  7.646691e+06\n",
      "2              3509408.0  3.515680e+06  3.514141e+06  3.532648e+06\n",
      "3              2761728.0  2.761994e+06  2.765250e+06  2.807023e+06\n",
      "4              5530936.0  5.513074e+06  5.501451e+06  4.866905e+06\n",
      "...                  ...           ...           ...           ...\n",
      "14781           435386.0  4.080046e+05  4.170134e+05  3.427799e+05\n",
      "14782           230900.0  2.488930e+05  2.464353e+05  8.994881e+05\n",
      "14783           968302.0  9.641425e+05  9.678584e+05  1.234309e+06\n",
      "14784          1175710.0  1.167828e+06  1.172378e+06  1.438294e+06\n",
      "14785           571766.0  5.879302e+05  5.854081e+05  1.234040e+06\n",
      "\n",
      "[14786 rows x 4 columns]\n"
     ]
    }
   ],
   "source": [
    "# 转换为DataFrame查看结果\n",
    "predictions_df = pd.DataFrame(final_predictions)\n",
    "print(predictions_df)"
   ]
  },
  {
   "cell_type": "code",
   "execution_count": 5,
   "id": "d322fa77-f8ab-42a6-9a42-dc79baf247c8",
   "metadata": {},
   "outputs": [],
   "source": [
    "# 分别保存为四个文件，预测列统一命名为Price\n",
    "for model in predictions_df.columns:\n",
    "    predictions_df[[model]].rename(columns={model: 'Price'}).to_csv(\n",
    "        f'C:/Users/86138/Tigercut/midterm/hyperprediction_interaction_only/{model}.csv', \n",
    "        index_label='ID'\n",
    "    )"
   ]
  },
  {
   "cell_type": "code",
   "execution_count": null,
   "id": "35017fad-8cf3-49b1-bf70-0cffa3644c8d",
   "metadata": {},
   "outputs": [],
   "source": []
  }
 ],
 "metadata": {
  "kernelspec": {
   "display_name": "Python 3 (ipykernel)",
   "language": "python",
   "name": "python3"
  },
  "language_info": {
   "codemirror_mode": {
    "name": "ipython",
    "version": 3
   },
   "file_extension": ".py",
   "mimetype": "text/x-python",
   "name": "python",
   "nbconvert_exporter": "python",
   "pygments_lexer": "ipython3",
   "version": "3.12.3"
  }
 },
 "nbformat": 4,
 "nbformat_minor": 5
}
