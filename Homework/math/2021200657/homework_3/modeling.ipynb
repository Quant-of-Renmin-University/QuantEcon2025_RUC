{
 "cells": [
  {
   "cell_type": "code",
   "execution_count": 1,
   "id": "22a80e0d-c76d-4089-b161-e69a78dc17c0",
   "metadata": {},
   "outputs": [],
   "source": [
    "import pandas as pd\n",
    "import statsmodels.formula.api as smf\n",
    "import matplotlib.pyplot as plt\n",
    "import seaborn as sns"
   ]
  },
  {
   "cell_type": "code",
   "execution_count": 2,
   "id": "8e5fcc28-5e19-4425-8b5c-f22f048150ed",
   "metadata": {},
   "outputs": [],
   "source": [
    "base_path = 'C:/Users/86138/Tigercut/Homework_3/cleaned_data'\n",
    "locations = ['xisanqi', 'qinghe', 'xierqi', 'shangdi']\n",
    "\n",
    "def combine_data(locations, data_type, base_path):\n",
    "    \"\"\"合并指定类型（housing/renting）的 CSV 数据\"\"\"\n",
    "    dfs = []\n",
    "    for loc in locations:\n",
    "        path = f\"{base_path}/{loc}_{data_type}.csv\"\n",
    "        df = pd.read_csv(path)\n",
    "        df.insert(0, 'location', loc)  # 插入地区列\n",
    "        dfs.append(df)\n",
    "    return pd.concat(dfs, ignore_index=True)"
   ]
  },
  {
   "cell_type": "code",
   "execution_count": 3,
   "id": "55f998bc-f071-439c-a0ad-e6c5c6543ecd",
   "metadata": {},
   "outputs": [],
   "source": [
    "# 合并 housing 和 renting 数据\n",
    "combined_housing = combine_data(locations, 'housing_clean', base_path)\n",
    "combined_renting = combine_data(locations, 'renting_clean', base_path)"
   ]
  },
  {
   "cell_type": "code",
   "execution_count": 4,
   "id": "bf229683-f48e-4e22-bba0-d87b7798c2aa",
   "metadata": {},
   "outputs": [],
   "source": [
    "def model_and_prediction(df, value_col):\n",
    "    \"\"\"\n",
    "    通用函数：构建模型并预测指定面积的值\n",
    "    参数：\n",
    "        df: 合并后的 DataFrame（包含 location 列）\n",
    "        value_col: 数值列名（如 'price' 或 'rent'）\n"
    "    \"\"\"\n",
    "    # 创建因变量（value_col/m²）\n",
    "    df[f'{value_col}_per_m2'] = df[value_col] / df['m2']\n",
    "    \n",
    "    # 构建回归模型\n",
    "    model = smf.ols(\n",
    "        formula=f'{value_col}_per_m2 ~ m2 + C(location) + m2:C(location)',\n",
    "        data=df\n",
    "    ).fit()\n",
    "    \n",
    "    # 生成预测数据（m²=50 和 100）\n",
    "    new_data = pd.DataFrame({\n",
    "        'location': [loc for loc in locations for _ in [50, 100]],\n",
    "        'm2': [50, 100] * len(locations)\n",
    "    })\n",
    "    \n",
    "    # 预测并合并结果\n",
    "    predictions = model.get_prediction(new_data).summary_frame(alpha=0.05)\n",
    "    results = pd.concat([new_data, predictions], axis=1)\n",
    "    results['total_value'] = results['mean'] * results['m2']\n",
    "\n",
    "    return model, results"
   ]
  },
  {
   "cell_type": "code",
   "execution_count": 5,
   "id": "805ac247-0fec-4de3-9bd4-262e66bcd39d",
   "metadata": {},
   "outputs": [
    {
     "name": "stdout",
     "output_type": "stream",
     "text": [
      "  location   m2       mean  mean_se  mean_ci_lower  mean_ci_upper  \\\n",
      "0  xisanqi   50   61475.31  3095.01       55406.11       67544.51   \n",
      "1  xisanqi  100   68212.65  1956.80       64375.44       72049.86   \n",
      "2   qinghe   50   91572.56  1082.67       89449.47       93695.64   \n",
      "3   qinghe  100  102716.33   689.83      101363.61      104069.05   \n",
      "4   xierqi   50   67487.90  1410.53       64721.91       70253.89   \n",
      "5   xierqi  100   72536.04  1014.50       70546.64       74525.43   \n",
      "6  shangdi   50  126989.06  1351.72      124338.40      129639.72   \n",
      "7  shangdi  100  109119.54   840.14      107472.05      110767.02   \n",
      "\n",
      "   obs_ci_lower  obs_ci_upper  total_value  \n",
      "0      21994.68     100955.94   3073765.64  \n",
      "1      29013.05     107412.26   6821265.48  \n",
      "2      52503.48     130641.63   4578627.77  \n",
      "3      63681.54     141751.12  10271633.08  \n",
      "4      28378.62     106597.18   3374394.85  \n",
      "5      33474.00     111598.07   7253603.84  \n",
      "6      87887.77     166090.35   6349453.07  \n",
      "7      70073.42     148165.65  10911953.62  \n"
     ]
    }
   ],
   "source": [
    "housing_model, housing_results = model_and_prediction(\n",
    "    df=combined_housing,\n",
    "    value_col='price'\n",
    ")\n",
    "\n",
    "print(housing_results.round(2))"
   ]
  },
  {
   "cell_type": "code",
   "execution_count": 6,
   "id": "9029d915-e699-4938-9905-ebdaf0aaebb3",
   "metadata": {},
   "outputs": [
    {
     "name": "stdout",
     "output_type": "stream",
     "text": [
      "  location   m2    mean  mean_se  mean_ci_lower  mean_ci_upper  obs_ci_lower  \\\n",
      "0  xisanqi   50   99.54     4.40          90.90         108.17          7.09   \n",
      "1  xisanqi  100   94.27     4.00          86.42         102.13          1.90   \n",
      "2   qinghe   50  127.88     2.12         123.71         132.04         35.74   \n",
      "3   qinghe  100  122.30     2.50         117.41         127.20         30.13   \n",
      "4   xierqi   50  119.73     3.59         112.68         126.78         27.42   \n",
      "5   xierqi  100  109.55     3.37         102.93         116.17         17.27   \n",
      "6  shangdi   50  123.54     2.49         118.65         128.43         31.37   \n",
      "7  shangdi  100  104.17     2.95          98.38         109.95         11.94   \n",
      "\n",
      "   obs_ci_upper  total_value  \n",
      "0        191.98      4976.81  \n",
      "1        186.65      9427.23  \n",
      "2        220.01      6393.76  \n",
      "3        214.47     12230.35  \n",
      "4        212.04      5986.50  \n",
      "5        201.83     10954.96  \n",
      "6        215.71      6177.02  \n",
      "7        196.39     10416.55  \n"
     ]
    }
   ],
   "source": [
    "renting_model, renting_results = model_and_prediction(\n",
    "    df=combined_renting,\n",
    "    value_col='rent'\n",
    ")\n",
    "\n",
    "print(renting_results.round(2))"
   ]
  },
  {
   "cell_type": "code",
   "execution_count": 7,
   "id": "6341671d-4df9-4483-963a-979c269e945c",
   "metadata": {},
   "outputs": [],
   "source": [
    "# 合并数据并计算房价租金比\n",
    "merged = pd.merge(\n",
    "    housing_results[['location', 'm2', 'total_value']],\n",
    "    renting_results[['location', 'm2', 'total_value']],\n",
    "    on=['location', 'm2'],\n",
    "    suffixes=('_price', '_rent')\n",
    ")\n",
    "\n",
    "merged['price_rent_ratio'] = merged['total_value_price'] / merged['total_value_rent']"
   ]
  },
  {
   "cell_type": "code",
   "execution_count": 8,
   "id": "e0732982-b2ae-437d-adc1-263fbb76cdee",
   "metadata": {},
   "outputs": [
    {
     "data": {
      "text/html": [
       "<div>\n",
       "<style scoped>\n",
       "    .dataframe tbody tr th:only-of-type {\n",
       "        vertical-align: middle;\n",
       "    }\n",
       "\n",
       "    .dataframe tbody tr th {\n",
       "        vertical-align: top;\n",
       "    }\n",
       "\n",
       "    .dataframe thead th {\n",
       "        text-align: right;\n",
       "    }\n",
       "</style>\n",
       "<table border=\"1\" class=\"dataframe\">\n",
       "  <thead>\n",
       "    <tr style=\"text-align: right;\">\n",
       "      <th></th>\n",
       "      <th>location</th>\n",
       "      <th>m2</th>\n",
       "      <th>total_value_price</th>\n",
       "      <th>total_value_rent</th>\n",
       "      <th>price_rent_ratio</th>\n",
       "    </tr>\n",
       "  </thead>\n",
       "  <tbody>\n",
       "    <tr>\n",
       "      <th>0</th>\n",
       "      <td>xisanqi</td>\n",
       "      <td>50</td>\n",
       "      <td>3.073766e+06</td>\n",
       "      <td>4976.812678</td>\n",
       "      <td>617.617307</td>\n",
       "    </tr>\n",
       "    <tr>\n",
       "      <th>1</th>\n",
       "      <td>xisanqi</td>\n",
       "      <td>100</td>\n",
       "      <td>6.821265e+06</td>\n",
       "      <td>9427.234290</td>\n",
       "      <td>723.570166</td>\n",
       "    </tr>\n",
       "    <tr>\n",
       "      <th>2</th>\n",
       "      <td>qinghe</td>\n",
       "      <td>50</td>\n",
       "      <td>4.578628e+06</td>\n",
       "      <td>6393.759211</td>\n",
       "      <td>716.108884</td>\n",
       "    </tr>\n",
       "    <tr>\n",
       "      <th>3</th>\n",
       "      <td>qinghe</td>\n",
       "      <td>100</td>\n",
       "      <td>1.027163e+07</td>\n",
       "      <td>12230.346028</td>\n",
       "      <td>839.848117</td>\n",
       "    </tr>\n",
       "    <tr>\n",
       "      <th>4</th>\n",
       "      <td>xierqi</td>\n",
       "      <td>50</td>\n",
       "      <td>3.374395e+06</td>\n",
       "      <td>5986.504140</td>\n",
       "      <td>563.667004</td>\n",
       "    </tr>\n",
       "    <tr>\n",
       "      <th>5</th>\n",
       "      <td>xierqi</td>\n",
       "      <td>100</td>\n",
       "      <td>7.253604e+06</td>\n",
       "      <td>10954.962168</td>\n",
       "      <td>662.129520</td>\n",
       "    </tr>\n",
       "    <tr>\n",
       "      <th>6</th>\n",
       "      <td>shangdi</td>\n",
       "      <td>50</td>\n",
       "      <td>6.349453e+06</td>\n",
       "      <td>6177.015838</td>\n",
       "      <td>1027.915945</td>\n",
       "    </tr>\n",
       "    <tr>\n",
       "      <th>7</th>\n",
       "      <td>shangdi</td>\n",
       "      <td>100</td>\n",
       "      <td>1.091195e+07</td>\n",
       "      <td>10416.547678</td>\n",
       "      <td>1047.559514</td>\n",
       "    </tr>\n",
       "  </tbody>\n",
       "</table>\n",
       "</div>"
      ],
      "text/plain": [
       "  location   m2  total_value_price  total_value_rent  price_rent_ratio\n",
       "0  xisanqi   50       3.073766e+06       4976.812678        617.617307\n",
       "1  xisanqi  100       6.821265e+06       9427.234290        723.570166\n",
       "2   qinghe   50       4.578628e+06       6393.759211        716.108884\n",
       "3   qinghe  100       1.027163e+07      12230.346028        839.848117\n",
       "4   xierqi   50       3.374395e+06       5986.504140        563.667004\n",
       "5   xierqi  100       7.253604e+06      10954.962168        662.129520\n",
       "6  shangdi   50       6.349453e+06       6177.015838       1027.915945\n",
       "7  shangdi  100       1.091195e+07      10416.547678       1047.559514"
      ]
     },
     "execution_count": 8,
     "metadata": {},
     "output_type": "execute_result"
    }
   ],
   "source": [
    "merged"
   ]
  },
  {
   "cell_type": "code",
   "execution_count": 9,
   "id": "e158b5d7-5169-4b20-be04-3c2c6db0a1c1",
   "metadata": {},
   "outputs": [
    {
     "data": {
      "image/png": "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",
      "text/plain": [
       "<Figure size 1200x600 with 1 Axes>"
      ]
     },
     "metadata": {},
     "output_type": "display_data"
    }
   ],
   "source": [
    "plt.figure(figsize=(12, 6))\n",
    "sns.set_theme(style=\"whitegrid\")\n",
    "\n",
    "# 分组柱状图参数\n",
    "bar_width = 0.35\n",
    "x = range(len(locations))\n",
    "\n",
    "# 分别提取 m2=50 和 m2=100 的数据\n",
    "ratio_50 = merged[merged['m2'] == 50].set_index('location')['price_rent_ratio']\n",
    "ratio_100 = merged[merged['m2'] == 100].set_index('location')['price_rent_ratio']\n",
    "\n",
    "# 绘制柱状图\n",
    "plt.bar(\n",
    "    x=[i - bar_width/2 for i in x],\n",
    "    height=ratio_50,\n",
    "    width=bar_width,\n",
    "    label='50 m²',\n",
    "    color='#1f77b4'\n",
    ")\n",
    "plt.bar(\n",
    "    x=[i + bar_width/2 for i in x],\n",
    "    height=ratio_100,\n",
    "    width=bar_width,\n",
    "    label='100 m²',\n",
    "    color='#ff7f0e'\n",
    ")\n",
    "\n",
    "# 标签和标题\n",
    "plt.title('Price to Rent Ratio by Block', fontsize=14, fontweight='bold')\n",
    "plt.xlabel('Block', fontsize=12)\n",
    "plt.ylabel('Price/Rent Ratio', fontsize=12)\n",
    "plt.xticks(x, labels=locations, ha='right')\n",
    "plt.legend()\n",
    "\n",
    "# 显示数值标签\n",
    "for i, loc in enumerate(locations):\n",
    "    plt.text(\n",
    "        x=i - bar_width/2, \n",
    "        y=ratio_50[loc] + 5, \n",
    "        s=f'{ratio_50[loc]:.1f}', \n",
    "        ha='center', \n",
    "        fontsize=9\n",
    "    )\n",
    "    plt.text(\n",
    "        x=i + bar_width/2, \n",
    "        y=ratio_100[loc] + 5, \n",
    "        s=f'{ratio_100[loc]:.1f}', \n",
    "        ha='center', \n",
    "        fontsize=9\n",
    "    )\n",
    "\n",
    "plt.tight_layout()\n",
    "plt.show()"
   ]
  },
  {
   "cell_type": "code",
   "execution_count": null,
   "id": "ca92c0c4-01ed-496b-a1c7-253a20ddf0e6",
   "metadata": {},
   "outputs": [],
   "source": []
  }
 ],
 "metadata": {
  "kernelspec": {
   "display_name": "Python 3 (ipykernel)",
   "language": "python",
   "name": "python3"
  },
  "language_info": {
   "codemirror_mode": {
    "name": "ipython",
    "version": 3
   },
   "file_extension": ".py",
   "mimetype": "text/x-python",
   "name": "python",
   "nbconvert_exporter": "python",
   "pygments_lexer": "ipython3",
   "version": "3.12.7"
  }
 },
 "nbformat": 4,
 "nbformat_minor": 5
}
