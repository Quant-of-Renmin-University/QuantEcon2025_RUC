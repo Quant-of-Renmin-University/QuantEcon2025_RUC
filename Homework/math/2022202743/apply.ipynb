{
 "cells": [
  {
   "cell_type": "code",
   "execution_count": 15,
   "id": "03aaa076-d984-48e8-9ef2-92f242eeb5ac",
   "metadata": {},
   "outputs": [
    {
     "name": "stdout",
     "output_type": "stream",
     "text": [
      "所有申请文件已生成，存储在: C:\\QuantEcon2025_RUC-main\\hw2\n"
     ]
    }
   ],
   "source": [
    "import pandas as pd\n",
    "from docx import Document\n",
    "from fpdf import FPDF\n",
    "import os\n",
    "\n",
    "# 读取 Excel 文件\n",
    "excel_path = r\"C:\\Users\\HP\\Desktop\\project.xlsx\"\n",
    "output_dir = r\"C:\\QuantEcon2025_RUC-main\\hw2\"\n",
    "\n",
    "df = pd.read_excel(excel_path)\n",
    "df.dropna(subset=[df.columns[0], df.columns[1]], inplace=True)  # 去除空值\n",
    "\n",
    "# 获取学校名称和项目名称\n",
    "schools = df.iloc[:, 0].tolist()  # 第一列是学校名称\n",
    "projects = df.iloc[:, 1].tolist()  # 第二列是项目名称\n",
    "\n",
    "# 申请信模板\n",
    "template = \"\"\"Dear Dr. Smith,\n",
    "\n",
    "I am writing to express my keen interest in applying for the {project_name} at {school_name}. My academic background in Economics and Mathematics and my research experience in Machine Learning make me a strong candidate for this opportunity.\n",
    "\n",
    "I am currently a third-year undergraduate student at Renmin University of China, where I have been actively involved in various AI-related research projects. My recent work on building NLP models for text analysis has strengthened my skills in Python, TensorFlow, and data analysis.\n",
    "\n",
    "I am particularly interested in your work on deep learning applications in NLP and believe that my background in natural language processing and AI aligns well with your research directions. I am confident that joining your team would be an invaluable experience for me.\n",
    "\n",
    "Please find my CV and other supporting documents attached. I would appreciate the opportunity to discuss how my background and skills can contribute to {project_name} at {school_name}.\n",
    "\n",
    "Thank you for your time and consideration. I look forward to your response.\n",
    "\n",
    "Sincerely,  \n",
    "Yuzi Ma  \n",
    "2022202743@ruc.edu.cn  \n",
    "+1-234-567-8901  \n",
    "\"\"\"\n",
    "\n",
    "# 确保输出文件夹存在\n",
    "os.makedirs(output_dir, exist_ok=True)\n",
    "\n",
    "for school_name, project_name in zip(schools, projects):\n",
    "    content = template.format(school_name=school_name, project_name=project_name)\n",
    "    \n",
    "    # 生成文件名\n",
    "    filename = f\"{school_name}_{project_name}\".replace(\" \", \"_\").replace(\"/\", \"_\")\n",
    "    \n",
    "    # 生成 Word 文件\n",
    "    word_path = os.path.join(output_dir, f\"{filename}.docx\")\n",
    "    doc = Document()\n",
    "    doc.add_paragraph(content)\n",
    "    doc.save(word_path)\n",
    "\n",
    "    # 生成 PDF 文件\n",
    "    pdf_path = os.path.join(output_dir, f\"{filename}.pdf\")\n",
    "    pdf = FPDF()\n",
    "    pdf.set_auto_page_break(auto=True, margin=15)\n",
    "    pdf.add_page()\n",
    "    pdf.set_font(\"Arial\", size=12)\n",
    "    \n",
    "    for line in content.split(\"\\n\"):\n",
    "        pdf.cell(200, 10, txt=line, ln=True, align='L')\n",
    "    \n",
    "    pdf.output(pdf_path)\n",
    "\n",
    "print(\"所有申请文件已生成，存储在:\", output_dir)\n"
   ]
  },
  {
   "cell_type": "code",
   "execution_count": null,
   "id": "4b671e56-0bba-4d6b-a709-5e24a908d69a",
   "metadata": {},
   "outputs": [],
   "source": []
  }
 ],
 "metadata": {
  "kernelspec": {
   "display_name": "Python [conda env:base] *",
   "language": "python",
   "name": "conda-base-py"
  },
  "language_info": {
   "codemirror_mode": {
    "name": "ipython",
    "version": 3
   },
   "file_extension": ".py",
   "mimetype": "text/x-python",
   "name": "python",
   "nbconvert_exporter": "python",
   "pygments_lexer": "ipython3",
   "version": "3.12.7"
  }
 },
 "nbformat": 4,
 "nbformat_minor": 5
}
