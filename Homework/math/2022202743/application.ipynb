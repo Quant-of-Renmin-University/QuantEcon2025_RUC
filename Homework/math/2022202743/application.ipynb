{
 "cells": [
  {
   "cell_type": "code",
   "execution_count": 3,
   "id": "a7857835-74be-4c8c-ae19-9dc876431a8c",
   "metadata": {},
   "outputs": [
    {
     "name": "stdout",
     "output_type": "stream",
     "text": [
      "Application letter generated successfully!\n"
     ]
    }
   ],
   "source": [
    "from jinja2 import Template\n",
    "\n",
    "# 申请书模板\n",
    "template_text = \"\"\"Dear {{ professor_name }},\n",
    "\n",
    "I am writing to express my keen interest in applying for the {{ project_name }} at {{ university_name }}. My academic background in {{ your_major }} and my research experience in {{ research_area }} make me a strong candidate for this opportunity.\n",
    "\n",
    "I am currently {{ current_status }} at {{ your_university }}, where I have been actively involved in {{ research_experience }}. My recent work on {{ project_or_paper }} has strengthened my skills in {{ relevant_skills }}.\n",
    "\n",
    "I am particularly interested in your work on {{ professor_research }} and believe that my background in {{ your_research_focus }} aligns well with your research directions. I am confident that joining your team would be an invaluable experience for me.\n",
    "\n",
    "Please find my CV and other supporting documents attached. I would appreciate the opportunity to discuss how my background and skills can contribute to {{ project_name }}.\n",
    "\n",
    "Thank you for your time and consideration. I look forward to your response.\n",
    "\n",
    "Sincerely,  \n",
    "{{ your_name }}  \n",
    "{{ your_email }}  \n",
    "{{ your_phone }}\"\"\"\n",
    "\n",
    "# 定义变量\n",
    "data = {\n",
    "    \"professor_name\": \"Dr. Smith\",\n",
    "    \"project_name\": \"AI Research Internship\",\n",
    "    \"university_name\": \"Stanford University\",\n",
    "    \"your_major\": \"Economics and Mathematics\",\n",
    "    \"research_area\": \"Machine Learning\",\n",
    "    \"current_status\": \"A third-year undergraduate student\",\n",
    "    \"your_university\": \"Renmin University of China\",\n",
    "    \"research_experience\": \"various AI-related research projects\",\n",
    "    \"project_or_paper\": \"building NLP models for text analysis\",\n",
    "    \"relevant_skills\": \"Python, TensorFlow, and data analysis\",\n",
    "    \"professor_research\": \"deep learning applications in NLP\",\n",
    "    \"your_research_focus\": \"natural language processing and AI\",\n",
    "    \"your_name\": \"Yuzi Ma\",\n",
    "    \"your_email\": \"2022202743@ruc.edu.cn\",\n",
    "    \"your_phone\": \"+1-234-567-8901\"\n",
    "}\n",
    "\n",
    "# 渲染模板\n",
    "template = Template(template_text)\n",
    "application_letter = template.render(data)\n",
    "\n",
    "# 保存到文件\n",
    "# 保存到指定文件夹\n",
    "with open(r\"C:\\QuantEcon2025_RUC-main\\application_letter.txt\", \"w\", encoding=\"utf-8\") as f:\n",
    "    f.write(application_letter)\n",
    "\n",
    "\n",
    "print(\"Application letter generated successfully!\")\n"
   ]
  },
  {
   "cell_type": "code",
   "execution_count": 23,
   "id": "3d8efbee-a53e-4864-b13a-94faecaa008e",
   "metadata": {},
   "outputs": [
    {
     "name": "stdout",
     "output_type": "stream",
     "text": [
      "PDF file generated successfully!\n"
     ]
    }
   ],
   "source": [
    "from reportlab.lib.pagesizes import letter\n",
    "from reportlab.pdfgen import canvas\n",
    "\n",
    "# 读取 .txt 文件内容\n",
    "txt_file = r\"C:\\QuantEcon2025_RUC-main\\application_letter.txt\"\n",
    "pdf_file = r\"C:\\QuantEcon2025_RUC-main\\application_letter.pdf\"\n",
    "\n",
    "with open(txt_file, \"r\", encoding=\"utf-8\") as f:\n",
    "    content = f.read()\n",
    "\n",
    "# 创建 PDF 文件\n",
    "c = canvas.Canvas(pdf_file, pagesize=letter)\n",
    "\n",
    "# 设置字体和大小\n",
    "c.setFont(\"Helvetica\", 12)\n",
    "\n",
    "# 逐行写入文本，避免换行问题\n",
    "y_position = 750  # 初始Y轴位置\n",
    "line_height = 16  # 每行的间隔\n",
    "\n",
    "for line in content.split(\"\\n\"):\n",
    "    c.drawString(50, y_position, line)\n",
    "    y_position -= line_height  # 向下移动\n",
    "\n",
    "# 保存 PDF\n",
    "c.save()\n",
    "\n",
    "print(\"PDF file generated successfully!\")\n"
   ]
  }
 ],
 "metadata": {
  "kernelspec": {
   "display_name": "Python [conda env:base] *",
   "language": "python",
   "name": "conda-base-py"
  },
  "language_info": {
   "codemirror_mode": {
    "name": "ipython",
    "version": 3
   },
   "file_extension": ".py",
   "mimetype": "text/x-python",
   "name": "python",
   "nbconvert_exporter": "python",
   "pygments_lexer": "ipython3",
   "version": "3.12.7"
  }
 },
 "nbformat": 4,
 "nbformat_minor": 5
}
