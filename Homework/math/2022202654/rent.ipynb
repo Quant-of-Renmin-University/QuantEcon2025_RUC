{
 "cells": [
  {
   "cell_type": "code",
   "execution_count": 1,
   "id": "47fdd5fc-cfa5-45bf-9f4d-a2251e8ca49e",
   "metadata": {},
   "outputs": [
    {
     "name": "stdout",
     "output_type": "stream",
     "text": [
      "爬取完成\n",
      "数据保存完毕\n"
     ]
    }
   ],
   "source": [
    "from selenium import webdriver\n",
    "from selenium.webdriver.common.by import By\n",
    "from selenium.webdriver.common.action_chains import ActionChains\n",
    "from selenium.common.exceptions import NoSuchElementException\n",
    "from time import sleep\n",
    "import pandas as pd\n",
    "import re\n",
    "\n",
    "# 初始化浏览器\n",
    "browser = webdriver.Edge()\n",
    "\n",
    "# 访问目标网页\n",
    "browser.get('https://zu.fang.com/')\n",
    "sleep(2)  # 等待页面加载\n",
    "\n",
    "# 鼠标悬停到城市选择区域\n",
    "target = browser.find_element(By.CSS_SELECTOR, \"div.s4Box\")\n",
    "ActionChains(browser).move_to_element(target).perform()\n",
    "sleep(1)\n",
    "\n",
    "# 选择“北京”\n",
    "browser.find_element(By.XPATH, \"//div[@id='cityi010']/a[text()='北京']\").click()\n",
    "sleep(2)\n",
    "\n",
    "# 依次进入“通州” -> “马驹桥”\n",
    "for area in [\"通州\", \"马驹桥\"]:\n",
    "    browser.find_element(By.LINK_TEXT, area).click()\n",
    "    sleep(2)\n",
    "\n",
    "# 存储房源信息\n",
    "data_list = []\n",
    "\n",
    "while True:\n",
    "    try:\n",
    "        container = browser.find_element(By.CSS_SELECTOR, \"div.houseList\")\n",
    "        listings = container.find_elements(By.TAG_NAME, \"dl\")\n",
    "    except NoSuchElementException:\n",
    "        print(\"未找到房源信息\")\n",
    "        break\n",
    "\n",
    "    for listing in listings:\n",
    "        try:\n",
    "            title = listing.find_element(By.XPATH, \".//a\").text.strip()\n",
    "            details = listing.find_element(By.XPATH, \".//p[@class='font15 mt12 bold']\").text.strip()\n",
    "            price = listing.find_element(By.XPATH, \".//span[@class='price']\").text.strip()\n",
    "            data_list.append({\"标题\": title, \"户型_面积等\": details, \"价格\": price})\n",
    "        except Exception as err:\n",
    "            print(f\"跳过异常房源: {err}\")\n",
    "\n",
    "    try:\n",
    "        next_btn = browser.find_element(By.LINK_TEXT, \"下一页\")\n",
    "        next_btn.click()\n",
    "        sleep(3)\n",
    "    except NoSuchElementException:\n",
    "        print(\"爬取完成\")\n",
    "        break\n",
    "\n",
    "# 处理数据\n",
    "df = pd.DataFrame(data_list)\n",
    "\n",
    "\n",
    "def extract_area(info):\n",
    "    match = re.search(r\"\\|\\s*([\\d.]+)㎡\\s*\\|\", info)\n",
    "    return float(match.group(1)) if match else None\n",
    "\n",
    "\n",
    "df[\"平方数（㎡）\"] = df[\"户型_面积等\"].apply(extract_area)\n",
    "df[\"价格（元/㎡）\"] = df[\"价格\"].str.replace(\"元/㎡\", \"\", regex=False).astype(float)\n",
    "df = df[[\"平方数（㎡）\", \"价格（元/㎡）\"]]\n",
    "\n",
    "# 存储结果\n",
    "df.to_csv(\"majuqiao_rental.csv\", index=False)\n",
    "print(\"数据保存完毕\")\n"
   ]
  },
  {
   "cell_type": "code",
   "execution_count": null,
   "id": "7c65c784-ea6b-4ec1-aec3-ce215a5876f9",
   "metadata": {},
   "outputs": [],
   "source": []
  }
 ],
 "metadata": {
  "kernelspec": {
   "display_name": "Python 3 (ipykernel)",
   "language": "python",
   "name": "python3"
  },
  "language_info": {
   "codemirror_mode": {
    "name": "ipython",
    "version": 3
   },
   "file_extension": ".py",
   "mimetype": "text/x-python",
   "name": "python",
   "nbconvert_exporter": "python",
   "pygments_lexer": "ipython3",
   "version": "3.13.2"
  }
 },
 "nbformat": 4,
 "nbformat_minor": 5
}
