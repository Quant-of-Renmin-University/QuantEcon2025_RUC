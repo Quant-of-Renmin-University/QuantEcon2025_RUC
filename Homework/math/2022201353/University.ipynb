{
 "cells": [
  {
   "cell_type": "code",
   "execution_count": null,
   "id": "3c9874a0-45c6-49cd-985e-6f2a22b61547",
   "metadata": {},
   "outputs": [],
   "source": [
    "import pandas as pd\n",
    "from docxtpl import DocxTemplate\n",
    "from docx2pdf import convert\n",
    "import time\n",
    "\n",
    "df = pd.read_excel(\"D:/QuantEcon2025_RUC-main/Homework/HW2/Unis.xlsx\")\n",
    "doc = DocxTemplate(\"D:/QuantEcon2025_RUC-main/Homework/HW2/Template.docx\")\n",
    "index=0\n",
    "while index<len(df):\n",
    "    row = df.iloc[index]\n",
    "    programs = [row['Program_1'], row['Program_2'], row['Program_3']]\n",
    "    name=row['Name']\n",
    "    for program in programs:\n",
    "        context = {\n",
    "            'Name': name,  \n",
    "            'Program': program,  \n",
    "        }\n",
    "        doc.render(context)\n",
    "        doc.save(f\"D:/QuantEcon2025_RUC-main/Homework/HW2/Application_{name}_{program}.docx\")\n",
    "        time.sleep(1)\n",
    "        convert(f\"D:/QuantEcon2025_RUC-main/Homework/HW2/Application_{name}_{program}.docx\", f\"D:/QuantEcon2025_RUC-main/Homework/HW2/Application_{name}_{program}.pdf\")\n",
    "        time.sleep(1)\n",
    "    index+=1\n",
    "    \n",
    "   "
   ]
  },
  {
   "cell_type": "code",
   "execution_count": null,
   "id": "62f99567-60b5-4772-acbc-7269931e0df9",
   "metadata": {},
   "outputs": [],
   "source": []
  }
 ],
 "metadata": {
  "kernelspec": {
   "display_name": "Python 3 (ipykernel)",
   "language": "python",
   "name": "python3"
  },
  "language_info": {
   "codemirror_mode": {
    "name": "ipython",
    "version": 3
   },
   "file_extension": ".py",
   "mimetype": "text/x-python",
   "name": "python",
   "nbconvert_exporter": "python",
   "pygments_lexer": "ipython3",
   "version": "3.12.7"
  }
 },
 "nbformat": 4,
 "nbformat_minor": 5
}
