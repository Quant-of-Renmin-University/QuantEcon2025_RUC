{
 "cells": [
  {
   "cell_type": "code",
   "execution_count": 9,
   "id": "bebfe192-41af-4abb-8775-3b782ef3e129",
   "metadata": {},
   "outputs": [
    {
     "name": "stdout",
     "output_type": "stream",
     "text": [
      "Requirement already satisfied: openpyxl in e:\\download\\lib\\site-packages (3.1.5)\n",
      "Requirement already satisfied: docxtpl in e:\\download\\lib\\site-packages (0.19.1)\n",
      "Requirement already satisfied: docx2pdf in e:\\download\\lib\\site-packages (0.1.8)\n",
      "Requirement already satisfied: et-xmlfile in e:\\download\\lib\\site-packages (from openpyxl) (1.1.0)\n",
      "Requirement already satisfied: python-docx>=1.1.1 in e:\\download\\lib\\site-packages (from docxtpl) (1.1.2)\n",
      "Requirement already satisfied: docxcompose in e:\\download\\lib\\site-packages (from docxtpl) (1.4.0)\n",
      "Requirement already satisfied: jinja2 in e:\\download\\lib\\site-packages (from docxtpl) (3.1.4)\n",
      "Requirement already satisfied: lxml in e:\\download\\lib\\site-packages (from docxtpl) (5.2.1)\n",
      "Requirement already satisfied: pywin32>=227 in e:\\download\\lib\\site-packages (from docx2pdf) (305.1)\n",
      "Requirement already satisfied: tqdm>=4.41.0 in e:\\download\\lib\\site-packages (from docx2pdf) (4.66.5)\n",
      "Requirement already satisfied: typing-extensions>=4.9.0 in e:\\download\\lib\\site-packages (from python-docx>=1.1.1->docxtpl) (4.11.0)\n",
      "Requirement already satisfied: colorama in e:\\download\\lib\\site-packages (from tqdm>=4.41.0->docx2pdf) (0.4.6)\n",
      "Requirement already satisfied: setuptools in e:\\download\\lib\\site-packages (from docxcompose->docxtpl) (75.1.0)\n",
      "Requirement already satisfied: six in e:\\download\\lib\\site-packages (from docxcompose->docxtpl) (1.16.0)\n",
      "Requirement already satisfied: babel in e:\\download\\lib\\site-packages (from docxcompose->docxtpl) (2.11.0)\n",
      "Requirement already satisfied: MarkupSafe>=2.0 in e:\\download\\lib\\site-packages (from jinja2->docxtpl) (2.1.3)\n",
      "Requirement already satisfied: pytz>=2015.7 in e:\\download\\lib\\site-packages (from babel->docxcompose->docxtpl) (2024.1)\n",
      "Note: you may need to restart the kernel to use updated packages.\n"
     ]
    }
   ],
   "source": [
    "pip install openpyxl docxtpl docx2pdf"
   ]
  },
  {
   "cell_type": "code",
   "execution_count": 21,
   "id": "475fe013-b144-4879-b3b3-6040c7c4fd44",
   "metadata": {},
   "outputs": [],
   "source": [
    "import os\n",
    "from openpyxl import load_workbook\n",
    "from docxtpl import DocxTemplate\n",
    "from docx2pdf import convert  # 仅适用于 Windows"
   ]
  },
  {
   "cell_type": "code",
   "execution_count": 23,
   "id": "1011cc59-a527-4ad5-b0d3-b98014ee36b8",
   "metadata": {},
   "outputs": [],
   "source": [
    "# 设置路径\n",
    "BASE_DIR = os.getcwd()  # 获取当前工作目录"
   ]
  },
  {
   "cell_type": "code",
   "execution_count": 25,
   "id": "b8a97965-e01b-43a9-a8b9-e7b7e80d3adb",
   "metadata": {},
   "outputs": [],
   "source": [
    "DATA_DIR = os.path.join(BASE_DIR, \"data\")\n",
    "RESULT_DIR = os.path.join(BASE_DIR, \"result\")\n",
    "WORD_OUTPUT_DIR = os.path.join(RESULT_DIR, \"word_files\")\n",
    "PDF_OUTPUT_DIR = os.path.join(RESULT_DIR, \"pdf_files\")"
   ]
  },
  {
   "cell_type": "code",
   "execution_count": 27,
   "id": "af248c82-3e1a-4619-bc90-036d64832b9c",
   "metadata": {},
   "outputs": [],
   "source": [
    "# 确保输出目录存在\n",
    "os.makedirs(WORD_OUTPUT_DIR, exist_ok=True)\n",
    "os.makedirs(PDF_OUTPUT_DIR, exist_ok=True)"
   ]
  },
  {
   "cell_type": "code",
   "execution_count": 29,
   "id": "9fc7d75c-d467-463c-8821-eee6e821eb53",
   "metadata": {},
   "outputs": [],
   "source": [
    "# 加载 Excel 数据\n",
    "def load_application_list(file_path):\n",
    "    workbook = load_workbook(file_path)\n",
    "    sheet = workbook.active\n",
    "    universities = []\n",
    "    for row in sheet.iter_rows(min_row=2, values_only=True):  # 跳过表头\n",
    "        university_name = row[0]\n",
    "        programs = [row[1], row[2], row[3]]  # 获取 3 个专业\n",
    "        universities.append((university_name, programs))\n",
    "    return universities"
   ]
  },
  {
   "cell_type": "code",
   "execution_count": 31,
   "id": "b24326c7-68c0-4af3-b19d-c6ff507b5bc6",
   "metadata": {},
   "outputs": [],
   "source": [
    "# 填充模板并生成 Word 文件\n",
    "def generate_word_files(template_path, universities):\n",
    "    for university, programs in universities:\n",
    "        for program in programs:\n",
    "            if not program:  # 如果专业为空，跳过\n",
    "                continue\n",
    "            context = {\n",
    "                \"program_name\": program,\n",
    "                \"university_name\": university\n",
    "            }\n",
    "            template = DocxTemplate(template_path)\n",
    "            output_file = f\"{university.replace(' ', '_')}_{program.replace(' ', '_')}.docx\"\n",
    "            output_path = os.path.join(WORD_OUTPUT_DIR, output_file)\n",
    "            template.render(context)\n",
    "            template.save(output_path)\n",
    "            print(f\"Generated Word file: {output_path}\")"
   ]
  },
  {
   "cell_type": "code",
   "execution_count": 33,
   "id": "bece869e-5a7f-4196-bede-636b1b45aa8e",
   "metadata": {},
   "outputs": [],
   "source": [
    "def convert_to_pdf():\n",
    "    for file_name in os.listdir(WORD_OUTPUT_DIR):\n",
    "        if file_name.endswith(\".docx\"):\n",
    "            word_path = os.path.join(WORD_OUTPUT_DIR, file_name)\n",
    "            pdf_path = os.path.join(PDF_OUTPUT_DIR, file_name.replace(\".docx\", \".pdf\"))\n",
    "            try:\n",
    "                convert(word_path, pdf_path)\n",
    "                print(f\"Converted to PDF: {pdf_path}\")\n",
    "            except Exception as e:\n",
    "                print(f\"Failed to convert {word_path} to PDF: {e}\")"
   ]
  },
  {
   "cell_type": "code",
   "execution_count": 35,
   "id": "e75803ce-28b8-4266-8f57-59b43ca99518",
   "metadata": {},
   "outputs": [
    {
     "name": "stdout",
     "output_type": "stream",
     "text": [
      "Generated Word file: C:\\Python_Math\\QuantEcon2025_RUC-main\\QuantEcon2025_RUC-main\\Homework\\result\\word_files\\Harvard_University_MA_in_Economics_Department.docx\n",
      "Generated Word file: C:\\Python_Math\\QuantEcon2025_RUC-main\\QuantEcon2025_RUC-main\\Homework\\result\\word_files\\Harvard_University_MA_in_Data_Science.docx\n",
      "Generated Word file: C:\\Python_Math\\QuantEcon2025_RUC-main\\QuantEcon2025_RUC-main\\Homework\\result\\word_files\\Harvard_University_PhD_in_Statistics.docx\n",
      "Generated Word file: C:\\Python_Math\\QuantEcon2025_RUC-main\\QuantEcon2025_RUC-main\\Homework\\result\\word_files\\MIT_MA_in_Economics_Department.docx\n",
      "Generated Word file: C:\\Python_Math\\QuantEcon2025_RUC-main\\QuantEcon2025_RUC-main\\Homework\\result\\word_files\\MIT_MA_in_Data_Science.docx\n",
      "Generated Word file: C:\\Python_Math\\QuantEcon2025_RUC-main\\QuantEcon2025_RUC-main\\Homework\\result\\word_files\\MIT_PhD_in_Statistics.docx\n",
      "Generated Word file: C:\\Python_Math\\QuantEcon2025_RUC-main\\QuantEcon2025_RUC-main\\Homework\\result\\word_files\\University_of_California-Berkeley_MA_in_Economics_Department.docx\n",
      "Generated Word file: C:\\Python_Math\\QuantEcon2025_RUC-main\\QuantEcon2025_RUC-main\\Homework\\result\\word_files\\University_of_California-Berkeley_MA_in_Data_Science.docx\n",
      "Generated Word file: C:\\Python_Math\\QuantEcon2025_RUC-main\\QuantEcon2025_RUC-main\\Homework\\result\\word_files\\University_of_California-Berkeley_PhD_in_Statistics.docx\n",
      "Generated Word file: C:\\Python_Math\\QuantEcon2025_RUC-main\\QuantEcon2025_RUC-main\\Homework\\result\\word_files\\University_of_Chicago_MA_in_Economics_Department.docx\n",
      "Generated Word file: C:\\Python_Math\\QuantEcon2025_RUC-main\\QuantEcon2025_RUC-main\\Homework\\result\\word_files\\University_of_Chicago_MA_in_Data_Science.docx\n",
      "Generated Word file: C:\\Python_Math\\QuantEcon2025_RUC-main\\QuantEcon2025_RUC-main\\Homework\\result\\word_files\\University_of_Chicago_PhD_in_Statistics.docx\n",
      "Generated Word file: C:\\Python_Math\\QuantEcon2025_RUC-main\\QuantEcon2025_RUC-main\\Homework\\result\\word_files\\Paris_School_of_Economics_MA_in_Economics_Department.docx\n",
      "Generated Word file: C:\\Python_Math\\QuantEcon2025_RUC-main\\QuantEcon2025_RUC-main\\Homework\\result\\word_files\\Paris_School_of_Economics_MA_in_Data_Science.docx\n",
      "Generated Word file: C:\\Python_Math\\QuantEcon2025_RUC-main\\QuantEcon2025_RUC-main\\Homework\\result\\word_files\\Paris_School_of_Economics_PhD_in_Statistics.docx\n",
      "Generated Word file: C:\\Python_Math\\QuantEcon2025_RUC-main\\QuantEcon2025_RUC-main\\Homework\\result\\word_files\\Princeton_University_MA_in_Economics_Department.docx\n",
      "Generated Word file: C:\\Python_Math\\QuantEcon2025_RUC-main\\QuantEcon2025_RUC-main\\Homework\\result\\word_files\\Princeton_University_MA_in_Data_Science.docx\n",
      "Generated Word file: C:\\Python_Math\\QuantEcon2025_RUC-main\\QuantEcon2025_RUC-main\\Homework\\result\\word_files\\Princeton_University_PhD_in_Statistics.docx\n",
      "Generated Word file: C:\\Python_Math\\QuantEcon2025_RUC-main\\QuantEcon2025_RUC-main\\Homework\\result\\word_files\\Stanford_University_MA_in_Economics_Department.docx\n",
      "Generated Word file: C:\\Python_Math\\QuantEcon2025_RUC-main\\QuantEcon2025_RUC-main\\Homework\\result\\word_files\\Stanford_University_MA_in_Data_Science.docx\n",
      "Generated Word file: C:\\Python_Math\\QuantEcon2025_RUC-main\\QuantEcon2025_RUC-main\\Homework\\result\\word_files\\Stanford_University_PhD_in_Statistics.docx\n",
      "Generated Word file: C:\\Python_Math\\QuantEcon2025_RUC-main\\QuantEcon2025_RUC-main\\Homework\\result\\word_files\\TSE_MA_in_Economics_Department.docx\n",
      "Generated Word file: C:\\Python_Math\\QuantEcon2025_RUC-main\\QuantEcon2025_RUC-main\\Homework\\result\\word_files\\TSE_MA_in_Data_Science.docx\n",
      "Generated Word file: C:\\Python_Math\\QuantEcon2025_RUC-main\\QuantEcon2025_RUC-main\\Homework\\result\\word_files\\TSE_PhD_in_Statistics.docx\n",
      "Generated Word file: C:\\Python_Math\\QuantEcon2025_RUC-main\\QuantEcon2025_RUC-main\\Homework\\result\\word_files\\Oxford_University_MA_in_Economics_Department.docx\n",
      "Generated Word file: C:\\Python_Math\\QuantEcon2025_RUC-main\\QuantEcon2025_RUC-main\\Homework\\result\\word_files\\Oxford_University_MA_in_Data_Science.docx\n",
      "Generated Word file: C:\\Python_Math\\QuantEcon2025_RUC-main\\QuantEcon2025_RUC-main\\Homework\\result\\word_files\\Oxford_University_PhD_in_Statistics.docx\n",
      "Generated Word file: C:\\Python_Math\\QuantEcon2025_RUC-main\\QuantEcon2025_RUC-main\\Homework\\result\\word_files\\Yale_University_MA_in_Economics_Department.docx\n",
      "Generated Word file: C:\\Python_Math\\QuantEcon2025_RUC-main\\QuantEcon2025_RUC-main\\Homework\\result\\word_files\\Yale_University_MA_in_Data_Science.docx\n",
      "Generated Word file: C:\\Python_Math\\QuantEcon2025_RUC-main\\QuantEcon2025_RUC-main\\Homework\\result\\word_files\\Yale_University_PhD_in_Statistics.docx\n",
      "Generated Word file: C:\\Python_Math\\QuantEcon2025_RUC-main\\QuantEcon2025_RUC-main\\Homework\\result\\word_files\\BSE_MA_in_Economics_Department.docx\n",
      "Generated Word file: C:\\Python_Math\\QuantEcon2025_RUC-main\\QuantEcon2025_RUC-main\\Homework\\result\\word_files\\BSE_MA_in_Data_Science.docx\n",
      "Generated Word file: C:\\Python_Math\\QuantEcon2025_RUC-main\\QuantEcon2025_RUC-main\\Homework\\result\\word_files\\BSE_PhD_in_Statistics.docx\n",
      "Generated Word file: C:\\Python_Math\\QuantEcon2025_RUC-main\\QuantEcon2025_RUC-main\\Homework\\result\\word_files\\Columbia_University_MA_in_Economics_Department.docx\n",
      "Generated Word file: C:\\Python_Math\\QuantEcon2025_RUC-main\\QuantEcon2025_RUC-main\\Homework\\result\\word_files\\Columbia_University_MA_in_Data_Science.docx\n",
      "Generated Word file: C:\\Python_Math\\QuantEcon2025_RUC-main\\QuantEcon2025_RUC-main\\Homework\\result\\word_files\\Columbia_University_PhD_in_Statistics.docx\n",
      "Generated Word file: C:\\Python_Math\\QuantEcon2025_RUC-main\\QuantEcon2025_RUC-main\\Homework\\result\\word_files\\NYU_MA_in_Economics_Department.docx\n",
      "Generated Word file: C:\\Python_Math\\QuantEcon2025_RUC-main\\QuantEcon2025_RUC-main\\Homework\\result\\word_files\\NYU_MA_in_Data_Science.docx\n",
      "Generated Word file: C:\\Python_Math\\QuantEcon2025_RUC-main\\QuantEcon2025_RUC-main\\Homework\\result\\word_files\\NYU_PhD_in_Statistics.docx\n",
      "Generated Word file: C:\\Python_Math\\QuantEcon2025_RUC-main\\QuantEcon2025_RUC-main\\Homework\\result\\word_files\\Brown_University_MA_in_Economics_Department.docx\n",
      "Generated Word file: C:\\Python_Math\\QuantEcon2025_RUC-main\\QuantEcon2025_RUC-main\\Homework\\result\\word_files\\Brown_University_MA_in_Data_Science.docx\n",
      "Generated Word file: C:\\Python_Math\\QuantEcon2025_RUC-main\\QuantEcon2025_RUC-main\\Homework\\result\\word_files\\Brown_University_PhD_in_Statistics.docx\n",
      "Generated Word file: C:\\Python_Math\\QuantEcon2025_RUC-main\\QuantEcon2025_RUC-main\\Homework\\result\\word_files\\University_of_Pennsylvania_MA_in_Economics_Department.docx\n",
      "Generated Word file: C:\\Python_Math\\QuantEcon2025_RUC-main\\QuantEcon2025_RUC-main\\Homework\\result\\word_files\\University_of_Pennsylvania_MA_in_Data_Science.docx\n",
      "Generated Word file: C:\\Python_Math\\QuantEcon2025_RUC-main\\QuantEcon2025_RUC-main\\Homework\\result\\word_files\\University_of_Pennsylvania_PhD_in_Statistics.docx\n",
      "Generated Word file: C:\\Python_Math\\QuantEcon2025_RUC-main\\QuantEcon2025_RUC-main\\Homework\\result\\word_files\\Boston_University_MA_in_Economics_Department.docx\n",
      "Generated Word file: C:\\Python_Math\\QuantEcon2025_RUC-main\\QuantEcon2025_RUC-main\\Homework\\result\\word_files\\Boston_University_MA_in_Data_Science.docx\n",
      "Generated Word file: C:\\Python_Math\\QuantEcon2025_RUC-main\\QuantEcon2025_RUC-main\\Homework\\result\\word_files\\Boston_University_PhD_in_Statistics.docx\n",
      "Generated Word file: C:\\Python_Math\\QuantEcon2025_RUC-main\\QuantEcon2025_RUC-main\\Homework\\result\\word_files\\LSE_MA_in_Economics_Department.docx\n",
      "Generated Word file: C:\\Python_Math\\QuantEcon2025_RUC-main\\QuantEcon2025_RUC-main\\Homework\\result\\word_files\\LSE_MA_in_Data_Science.docx\n",
      "Generated Word file: C:\\Python_Math\\QuantEcon2025_RUC-main\\QuantEcon2025_RUC-main\\Homework\\result\\word_files\\LSE_PhD_in_Statistics.docx\n",
      "Generated Word file: C:\\Python_Math\\QuantEcon2025_RUC-main\\QuantEcon2025_RUC-main\\Homework\\result\\word_files\\UCL_MA_in_Economics_Department.docx\n",
      "Generated Word file: C:\\Python_Math\\QuantEcon2025_RUC-main\\QuantEcon2025_RUC-main\\Homework\\result\\word_files\\UCL_MA_in_Data_Science.docx\n",
      "Generated Word file: C:\\Python_Math\\QuantEcon2025_RUC-main\\QuantEcon2025_RUC-main\\Homework\\result\\word_files\\UCL_PhD_in_Statistics.docx\n",
      "Generated Word file: C:\\Python_Math\\QuantEcon2025_RUC-main\\QuantEcon2025_RUC-main\\Homework\\result\\word_files\\UCSD_MA_in_Economics_Department.docx\n",
      "Generated Word file: C:\\Python_Math\\QuantEcon2025_RUC-main\\QuantEcon2025_RUC-main\\Homework\\result\\word_files\\UCSD_MA_in_Data_Science.docx\n",
      "Generated Word file: C:\\Python_Math\\QuantEcon2025_RUC-main\\QuantEcon2025_RUC-main\\Homework\\result\\word_files\\UCSD_PhD_in_Statistics.docx\n",
      "Generated Word file: C:\\Python_Math\\QuantEcon2025_RUC-main\\QuantEcon2025_RUC-main\\Homework\\result\\word_files\\Northwestern_University_MA_in_Economics_Department.docx\n",
      "Generated Word file: C:\\Python_Math\\QuantEcon2025_RUC-main\\QuantEcon2025_RUC-main\\Homework\\result\\word_files\\Northwestern_University_MA_in_Data_Science.docx\n",
      "Generated Word file: C:\\Python_Math\\QuantEcon2025_RUC-main\\QuantEcon2025_RUC-main\\Homework\\result\\word_files\\Northwestern_University_PhD_in_Statistics.docx\n",
      "Generated Word file: C:\\Python_Math\\QuantEcon2025_RUC-main\\QuantEcon2025_RUC-main\\Homework\\result\\word_files\\Dartmouth_College_MA_in_Economics_Department.docx\n",
      "Generated Word file: C:\\Python_Math\\QuantEcon2025_RUC-main\\QuantEcon2025_RUC-main\\Homework\\result\\word_files\\Dartmouth_College_MA_in_Data_Science.docx\n",
      "Generated Word file: C:\\Python_Math\\QuantEcon2025_RUC-main\\QuantEcon2025_RUC-main\\Homework\\result\\word_files\\Dartmouth_College_PhD_in_Statistics.docx\n",
      "Generated Word file: C:\\Python_Math\\QuantEcon2025_RUC-main\\QuantEcon2025_RUC-main\\Homework\\result\\word_files\\University_of_Michigan_MA_in_Economics_Department.docx\n",
      "Generated Word file: C:\\Python_Math\\QuantEcon2025_RUC-main\\QuantEcon2025_RUC-main\\Homework\\result\\word_files\\University_of_Michigan_MA_in_Data_Science.docx\n",
      "Generated Word file: C:\\Python_Math\\QuantEcon2025_RUC-main\\QuantEcon2025_RUC-main\\Homework\\result\\word_files\\University_of_Michigan_PhD_in_Statistics.docx\n",
      "Generated Word file: C:\\Python_Math\\QuantEcon2025_RUC-main\\QuantEcon2025_RUC-main\\Homework\\result\\word_files\\Universiteit_van_Tilburg_MA_in_Economics_Department.docx\n",
      "Generated Word file: C:\\Python_Math\\QuantEcon2025_RUC-main\\QuantEcon2025_RUC-main\\Homework\\result\\word_files\\Universiteit_van_Tilburg_MA_in_Data_Science.docx\n",
      "Generated Word file: C:\\Python_Math\\QuantEcon2025_RUC-main\\QuantEcon2025_RUC-main\\Homework\\result\\word_files\\Universiteit_van_Tilburg_PhD_in_Statistics.docx\n",
      "Generated Word file: C:\\Python_Math\\QuantEcon2025_RUC-main\\QuantEcon2025_RUC-main\\Homework\\result\\word_files\\UCLA_MA_in_Economics_Department.docx\n",
      "Generated Word file: C:\\Python_Math\\QuantEcon2025_RUC-main\\QuantEcon2025_RUC-main\\Homework\\result\\word_files\\UCLA_MA_in_Data_Science.docx\n",
      "Generated Word file: C:\\Python_Math\\QuantEcon2025_RUC-main\\QuantEcon2025_RUC-main\\Homework\\result\\word_files\\UCLA_PhD_in_Statistics.docx\n",
      "Generated Word file: C:\\Python_Math\\QuantEcon2025_RUC-main\\QuantEcon2025_RUC-main\\Homework\\result\\word_files\\University_of_Southern_California_MA_in_Economics_Department.docx\n",
      "Generated Word file: C:\\Python_Math\\QuantEcon2025_RUC-main\\QuantEcon2025_RUC-main\\Homework\\result\\word_files\\University_of_Southern_California_MA_in_Data_Science.docx\n",
      "Generated Word file: C:\\Python_Math\\QuantEcon2025_RUC-main\\QuantEcon2025_RUC-main\\Homework\\result\\word_files\\University_of_Southern_California_PhD_in_Statistics.docx\n",
      "Generated Word file: C:\\Python_Math\\QuantEcon2025_RUC-main\\QuantEcon2025_RUC-main\\Homework\\result\\word_files\\University_of_British_Columbia_MA_in_Economics_Department.docx\n",
      "Generated Word file: C:\\Python_Math\\QuantEcon2025_RUC-main\\QuantEcon2025_RUC-main\\Homework\\result\\word_files\\University_of_British_Columbia_MA_in_Data_Science.docx\n",
      "Generated Word file: C:\\Python_Math\\QuantEcon2025_RUC-main\\QuantEcon2025_RUC-main\\Homework\\result\\word_files\\University_of_British_Columbia_PhD_in_Statistics.docx\n",
      "Generated Word file: C:\\Python_Math\\QuantEcon2025_RUC-main\\QuantEcon2025_RUC-main\\Homework\\result\\word_files\\University_of_Wisconsin-Madison_MA_in_Economics_Department.docx\n",
      "Generated Word file: C:\\Python_Math\\QuantEcon2025_RUC-main\\QuantEcon2025_RUC-main\\Homework\\result\\word_files\\University_of_Wisconsin-Madison_MA_in_Data_Science.docx\n",
      "Generated Word file: C:\\Python_Math\\QuantEcon2025_RUC-main\\QuantEcon2025_RUC-main\\Homework\\result\\word_files\\University_of_Wisconsin-Madison_PhD_in_Statistics.docx\n",
      "Generated Word file: C:\\Python_Math\\QuantEcon2025_RUC-main\\QuantEcon2025_RUC-main\\Homework\\result\\word_files\\University_of_Toronto_MA_in_Economics_Department.docx\n",
      "Generated Word file: C:\\Python_Math\\QuantEcon2025_RUC-main\\QuantEcon2025_RUC-main\\Homework\\result\\word_files\\University_of_Toronto_MA_in_Data_Science.docx\n",
      "Generated Word file: C:\\Python_Math\\QuantEcon2025_RUC-main\\QuantEcon2025_RUC-main\\Homework\\result\\word_files\\University_of_Toronto_PhD_in_Statistics.docx\n",
      "Generated Word file: C:\\Python_Math\\QuantEcon2025_RUC-main\\QuantEcon2025_RUC-main\\Homework\\result\\word_files\\Duke_University_MA_in_Economics_Department.docx\n",
      "Generated Word file: C:\\Python_Math\\QuantEcon2025_RUC-main\\QuantEcon2025_RUC-main\\Homework\\result\\word_files\\Duke_University_MA_in_Data_Science.docx\n",
      "Generated Word file: C:\\Python_Math\\QuantEcon2025_RUC-main\\QuantEcon2025_RUC-main\\Homework\\result\\word_files\\Duke_University_PhD_in_Statistics.docx\n",
      "Generated Word file: C:\\Python_Math\\QuantEcon2025_RUC-main\\QuantEcon2025_RUC-main\\Homework\\result\\word_files\\Michigan_State_University_MA_in_Economics_Department.docx\n",
      "Generated Word file: C:\\Python_Math\\QuantEcon2025_RUC-main\\QuantEcon2025_RUC-main\\Homework\\result\\word_files\\Michigan_State_University_MA_in_Data_Science.docx\n",
      "Generated Word file: C:\\Python_Math\\QuantEcon2025_RUC-main\\QuantEcon2025_RUC-main\\Homework\\result\\word_files\\Michigan_State_University_PhD_in_Statistics.docx\n"
     ]
    },
    {
     "data": {
      "application/vnd.jupyter.widget-view+json": {
       "model_id": "04b55adae0e940649a8ae3194eb8ae40",
       "version_major": 2,
       "version_minor": 0
      },
      "text/plain": [
       "  0%|          | 0/1 [00:00<?, ?it/s]"
      ]
     },
     "metadata": {},
     "output_type": "display_data"
    },
    {
     "name": "stdout",
     "output_type": "stream",
     "text": [
      "Converted to PDF: C:\\Python_Math\\QuantEcon2025_RUC-main\\QuantEcon2025_RUC-main\\Homework\\result\\pdf_files\\Boston_University_MA_in_Data_Science.pdf\n"
     ]
    },
    {
     "data": {
      "application/vnd.jupyter.widget-view+json": {
       "model_id": "e3bd68ed566345028c592d7bbeddf05c",
       "version_major": 2,
       "version_minor": 0
      },
      "text/plain": [
       "  0%|          | 0/1 [00:00<?, ?it/s]"
      ]
     },
     "metadata": {},
     "output_type": "display_data"
    },
    {
     "name": "stdout",
     "output_type": "stream",
     "text": [
      "Converted to PDF: C:\\Python_Math\\QuantEcon2025_RUC-main\\QuantEcon2025_RUC-main\\Homework\\result\\pdf_files\\Boston_University_MA_in_Economics_Department.pdf\n"
     ]
    },
    {
     "data": {
      "application/vnd.jupyter.widget-view+json": {
       "model_id": "27d944c279ea4b2a9334c38b075e8a83",
       "version_major": 2,
       "version_minor": 0
      },
      "text/plain": [
       "  0%|          | 0/1 [00:00<?, ?it/s]"
      ]
     },
     "metadata": {},
     "output_type": "display_data"
    },
    {
     "name": "stdout",
     "output_type": "stream",
     "text": [
      "Converted to PDF: C:\\Python_Math\\QuantEcon2025_RUC-main\\QuantEcon2025_RUC-main\\Homework\\result\\pdf_files\\Boston_University_PhD_in_Statistics.pdf\n"
     ]
    },
    {
     "data": {
      "application/vnd.jupyter.widget-view+json": {
       "model_id": "3825169aef914b2b8b1aa0c45d021c6b",
       "version_major": 2,
       "version_minor": 0
      },
      "text/plain": [
       "  0%|          | 0/1 [00:00<?, ?it/s]"
      ]
     },
     "metadata": {},
     "output_type": "display_data"
    },
    {
     "name": "stdout",
     "output_type": "stream",
     "text": [
      "Converted to PDF: C:\\Python_Math\\QuantEcon2025_RUC-main\\QuantEcon2025_RUC-main\\Homework\\result\\pdf_files\\Brown_University_MA_in_Data_Science.pdf\n"
     ]
    },
    {
     "data": {
      "application/vnd.jupyter.widget-view+json": {
       "model_id": "c6f65980d1a2443cb796b28ccf3e95d8",
       "version_major": 2,
       "version_minor": 0
      },
      "text/plain": [
       "  0%|          | 0/1 [00:00<?, ?it/s]"
      ]
     },
     "metadata": {},
     "output_type": "display_data"
    },
    {
     "name": "stdout",
     "output_type": "stream",
     "text": [
      "Converted to PDF: C:\\Python_Math\\QuantEcon2025_RUC-main\\QuantEcon2025_RUC-main\\Homework\\result\\pdf_files\\Brown_University_MA_in_Economics_Department.pdf\n"
     ]
    },
    {
     "data": {
      "application/vnd.jupyter.widget-view+json": {
       "model_id": "acc66c4ea334487cb7e28bea091bc958",
       "version_major": 2,
       "version_minor": 0
      },
      "text/plain": [
       "  0%|          | 0/1 [00:00<?, ?it/s]"
      ]
     },
     "metadata": {},
     "output_type": "display_data"
    },
    {
     "name": "stdout",
     "output_type": "stream",
     "text": [
      "Converted to PDF: C:\\Python_Math\\QuantEcon2025_RUC-main\\QuantEcon2025_RUC-main\\Homework\\result\\pdf_files\\Brown_University_PhD_in_Statistics.pdf\n"
     ]
    },
    {
     "data": {
      "application/vnd.jupyter.widget-view+json": {
       "model_id": "5e4fb68dd567435088144662e20fa50a",
       "version_major": 2,
       "version_minor": 0
      },
      "text/plain": [
       "  0%|          | 0/1 [00:00<?, ?it/s]"
      ]
     },
     "metadata": {},
     "output_type": "display_data"
    },
    {
     "name": "stdout",
     "output_type": "stream",
     "text": [
      "Converted to PDF: C:\\Python_Math\\QuantEcon2025_RUC-main\\QuantEcon2025_RUC-main\\Homework\\result\\pdf_files\\BSE_MA_in_Data_Science.pdf\n"
     ]
    },
    {
     "data": {
      "application/vnd.jupyter.widget-view+json": {
       "model_id": "5f3565cb14e3476490b63a37a21d64f5",
       "version_major": 2,
       "version_minor": 0
      },
      "text/plain": [
       "  0%|          | 0/1 [00:00<?, ?it/s]"
      ]
     },
     "metadata": {},
     "output_type": "display_data"
    },
    {
     "name": "stdout",
     "output_type": "stream",
     "text": [
      "Converted to PDF: C:\\Python_Math\\QuantEcon2025_RUC-main\\QuantEcon2025_RUC-main\\Homework\\result\\pdf_files\\BSE_MA_in_Economics_Department.pdf\n"
     ]
    },
    {
     "data": {
      "application/vnd.jupyter.widget-view+json": {
       "model_id": "e89788848f864968a5c94bc9db2a440c",
       "version_major": 2,
       "version_minor": 0
      },
      "text/plain": [
       "  0%|          | 0/1 [00:00<?, ?it/s]"
      ]
     },
     "metadata": {},
     "output_type": "display_data"
    },
    {
     "name": "stdout",
     "output_type": "stream",
     "text": [
      "Converted to PDF: C:\\Python_Math\\QuantEcon2025_RUC-main\\QuantEcon2025_RUC-main\\Homework\\result\\pdf_files\\BSE_PhD_in_Statistics.pdf\n"
     ]
    },
    {
     "data": {
      "application/vnd.jupyter.widget-view+json": {
       "model_id": "5274d74afae04d59aa5c23d6ba1e423d",
       "version_major": 2,
       "version_minor": 0
      },
      "text/plain": [
       "  0%|          | 0/1 [00:00<?, ?it/s]"
      ]
     },
     "metadata": {},
     "output_type": "display_data"
    },
    {
     "name": "stdout",
     "output_type": "stream",
     "text": [
      "Converted to PDF: C:\\Python_Math\\QuantEcon2025_RUC-main\\QuantEcon2025_RUC-main\\Homework\\result\\pdf_files\\Columbia_University_MA_in_Data_Science.pdf\n"
     ]
    },
    {
     "data": {
      "application/vnd.jupyter.widget-view+json": {
       "model_id": "dbcc47089e3a46b2a3f2bb36cd57aa6c",
       "version_major": 2,
       "version_minor": 0
      },
      "text/plain": [
       "  0%|          | 0/1 [00:00<?, ?it/s]"
      ]
     },
     "metadata": {},
     "output_type": "display_data"
    },
    {
     "name": "stdout",
     "output_type": "stream",
     "text": [
      "Converted to PDF: C:\\Python_Math\\QuantEcon2025_RUC-main\\QuantEcon2025_RUC-main\\Homework\\result\\pdf_files\\Columbia_University_MA_in_Economics_Department.pdf\n"
     ]
    },
    {
     "data": {
      "application/vnd.jupyter.widget-view+json": {
       "model_id": "9797bf8199114031bd106fb0c24fc5f7",
       "version_major": 2,
       "version_minor": 0
      },
      "text/plain": [
       "  0%|          | 0/1 [00:00<?, ?it/s]"
      ]
     },
     "metadata": {},
     "output_type": "display_data"
    },
    {
     "name": "stdout",
     "output_type": "stream",
     "text": [
      "Converted to PDF: C:\\Python_Math\\QuantEcon2025_RUC-main\\QuantEcon2025_RUC-main\\Homework\\result\\pdf_files\\Columbia_University_PhD_in_Statistics.pdf\n"
     ]
    },
    {
     "data": {
      "application/vnd.jupyter.widget-view+json": {
       "model_id": "2d7249a6675a49718fccabf31e6e705d",
       "version_major": 2,
       "version_minor": 0
      },
      "text/plain": [
       "  0%|          | 0/1 [00:00<?, ?it/s]"
      ]
     },
     "metadata": {},
     "output_type": "display_data"
    },
    {
     "name": "stdout",
     "output_type": "stream",
     "text": [
      "Converted to PDF: C:\\Python_Math\\QuantEcon2025_RUC-main\\QuantEcon2025_RUC-main\\Homework\\result\\pdf_files\\Dartmouth_College_MA_in_Data_Science.pdf\n"
     ]
    },
    {
     "data": {
      "application/vnd.jupyter.widget-view+json": {
       "model_id": "89a155c9ef5d48ce9ce1de8874fea446",
       "version_major": 2,
       "version_minor": 0
      },
      "text/plain": [
       "  0%|          | 0/1 [00:00<?, ?it/s]"
      ]
     },
     "metadata": {},
     "output_type": "display_data"
    },
    {
     "name": "stdout",
     "output_type": "stream",
     "text": [
      "Converted to PDF: C:\\Python_Math\\QuantEcon2025_RUC-main\\QuantEcon2025_RUC-main\\Homework\\result\\pdf_files\\Dartmouth_College_MA_in_Economics_Department.pdf\n"
     ]
    },
    {
     "data": {
      "application/vnd.jupyter.widget-view+json": {
       "model_id": "e99926ce27ef4eefa44bcb1c400671a1",
       "version_major": 2,
       "version_minor": 0
      },
      "text/plain": [
       "  0%|          | 0/1 [00:00<?, ?it/s]"
      ]
     },
     "metadata": {},
     "output_type": "display_data"
    },
    {
     "name": "stdout",
     "output_type": "stream",
     "text": [
      "Converted to PDF: C:\\Python_Math\\QuantEcon2025_RUC-main\\QuantEcon2025_RUC-main\\Homework\\result\\pdf_files\\Dartmouth_College_PhD_in_Statistics.pdf\n"
     ]
    },
    {
     "data": {
      "application/vnd.jupyter.widget-view+json": {
       "model_id": "71f42ff9b29a46c3a582dddccbdd5338",
       "version_major": 2,
       "version_minor": 0
      },
      "text/plain": [
       "  0%|          | 0/1 [00:00<?, ?it/s]"
      ]
     },
     "metadata": {},
     "output_type": "display_data"
    },
    {
     "name": "stdout",
     "output_type": "stream",
     "text": [
      "Converted to PDF: C:\\Python_Math\\QuantEcon2025_RUC-main\\QuantEcon2025_RUC-main\\Homework\\result\\pdf_files\\Duke_University_MA_in_Data_Science.pdf\n"
     ]
    },
    {
     "data": {
      "application/vnd.jupyter.widget-view+json": {
       "model_id": "280ada69480e470eab78a222c4a00169",
       "version_major": 2,
       "version_minor": 0
      },
      "text/plain": [
       "  0%|          | 0/1 [00:00<?, ?it/s]"
      ]
     },
     "metadata": {},
     "output_type": "display_data"
    },
    {
     "name": "stdout",
     "output_type": "stream",
     "text": [
      "Converted to PDF: C:\\Python_Math\\QuantEcon2025_RUC-main\\QuantEcon2025_RUC-main\\Homework\\result\\pdf_files\\Duke_University_MA_in_Economics_Department.pdf\n"
     ]
    },
    {
     "data": {
      "application/vnd.jupyter.widget-view+json": {
       "model_id": "44263839f82744f6b7807053b5f44ed8",
       "version_major": 2,
       "version_minor": 0
      },
      "text/plain": [
       "  0%|          | 0/1 [00:00<?, ?it/s]"
      ]
     },
     "metadata": {},
     "output_type": "display_data"
    },
    {
     "name": "stdout",
     "output_type": "stream",
     "text": [
      "Converted to PDF: C:\\Python_Math\\QuantEcon2025_RUC-main\\QuantEcon2025_RUC-main\\Homework\\result\\pdf_files\\Duke_University_PhD_in_Statistics.pdf\n"
     ]
    },
    {
     "data": {
      "application/vnd.jupyter.widget-view+json": {
       "model_id": "ef9eeba2ac634e53a2f6a912a16a552e",
       "version_major": 2,
       "version_minor": 0
      },
      "text/plain": [
       "  0%|          | 0/1 [00:00<?, ?it/s]"
      ]
     },
     "metadata": {},
     "output_type": "display_data"
    },
    {
     "name": "stdout",
     "output_type": "stream",
     "text": [
      "Converted to PDF: C:\\Python_Math\\QuantEcon2025_RUC-main\\QuantEcon2025_RUC-main\\Homework\\result\\pdf_files\\Harvard_University_MA_in_Data_Science.pdf\n"
     ]
    },
    {
     "data": {
      "application/vnd.jupyter.widget-view+json": {
       "model_id": "4e54a30db58b47ce895dfda2ad607e10",
       "version_major": 2,
       "version_minor": 0
      },
      "text/plain": [
       "  0%|          | 0/1 [00:00<?, ?it/s]"
      ]
     },
     "metadata": {},
     "output_type": "display_data"
    },
    {
     "name": "stdout",
     "output_type": "stream",
     "text": [
      "Converted to PDF: C:\\Python_Math\\QuantEcon2025_RUC-main\\QuantEcon2025_RUC-main\\Homework\\result\\pdf_files\\Harvard_University_MA_in_Economics_Department.pdf\n"
     ]
    },
    {
     "data": {
      "application/vnd.jupyter.widget-view+json": {
       "model_id": "be1a8916799b4eb5ae4b74c6d188a563",
       "version_major": 2,
       "version_minor": 0
      },
      "text/plain": [
       "  0%|          | 0/1 [00:00<?, ?it/s]"
      ]
     },
     "metadata": {},
     "output_type": "display_data"
    },
    {
     "name": "stdout",
     "output_type": "stream",
     "text": [
      "Converted to PDF: C:\\Python_Math\\QuantEcon2025_RUC-main\\QuantEcon2025_RUC-main\\Homework\\result\\pdf_files\\Harvard_University_PhD_in_Statistics.pdf\n"
     ]
    },
    {
     "data": {
      "application/vnd.jupyter.widget-view+json": {
       "model_id": "dc0a64edfc434d32ab07fd3ef00b7c81",
       "version_major": 2,
       "version_minor": 0
      },
      "text/plain": [
       "  0%|          | 0/1 [00:00<?, ?it/s]"
      ]
     },
     "metadata": {},
     "output_type": "display_data"
    },
    {
     "name": "stdout",
     "output_type": "stream",
     "text": [
      "Converted to PDF: C:\\Python_Math\\QuantEcon2025_RUC-main\\QuantEcon2025_RUC-main\\Homework\\result\\pdf_files\\LSE_MA_in_Data_Science.pdf\n"
     ]
    },
    {
     "data": {
      "application/vnd.jupyter.widget-view+json": {
       "model_id": "96a617f2e25f4dce947bc550d5cf8a5f",
       "version_major": 2,
       "version_minor": 0
      },
      "text/plain": [
       "  0%|          | 0/1 [00:00<?, ?it/s]"
      ]
     },
     "metadata": {},
     "output_type": "display_data"
    },
    {
     "name": "stdout",
     "output_type": "stream",
     "text": [
      "Converted to PDF: C:\\Python_Math\\QuantEcon2025_RUC-main\\QuantEcon2025_RUC-main\\Homework\\result\\pdf_files\\LSE_MA_in_Economics_Department.pdf\n"
     ]
    },
    {
     "data": {
      "application/vnd.jupyter.widget-view+json": {
       "model_id": "e55f1df89d2d4ad9bf84c979b4ce5b3f",
       "version_major": 2,
       "version_minor": 0
      },
      "text/plain": [
       "  0%|          | 0/1 [00:00<?, ?it/s]"
      ]
     },
     "metadata": {},
     "output_type": "display_data"
    },
    {
     "name": "stdout",
     "output_type": "stream",
     "text": [
      "Converted to PDF: C:\\Python_Math\\QuantEcon2025_RUC-main\\QuantEcon2025_RUC-main\\Homework\\result\\pdf_files\\LSE_PhD_in_Statistics.pdf\n"
     ]
    },
    {
     "data": {
      "application/vnd.jupyter.widget-view+json": {
       "model_id": "9cc67b5989b0497489194d8d988e155c",
       "version_major": 2,
       "version_minor": 0
      },
      "text/plain": [
       "  0%|          | 0/1 [00:00<?, ?it/s]"
      ]
     },
     "metadata": {},
     "output_type": "display_data"
    },
    {
     "name": "stdout",
     "output_type": "stream",
     "text": [
      "Converted to PDF: C:\\Python_Math\\QuantEcon2025_RUC-main\\QuantEcon2025_RUC-main\\Homework\\result\\pdf_files\\Michigan_State_University_MA_in_Data_Science.pdf\n"
     ]
    },
    {
     "data": {
      "application/vnd.jupyter.widget-view+json": {
       "model_id": "836be3a3b6684122927d6d4816e9b51c",
       "version_major": 2,
       "version_minor": 0
      },
      "text/plain": [
       "  0%|          | 0/1 [00:00<?, ?it/s]"
      ]
     },
     "metadata": {},
     "output_type": "display_data"
    },
    {
     "name": "stdout",
     "output_type": "stream",
     "text": [
      "Converted to PDF: C:\\Python_Math\\QuantEcon2025_RUC-main\\QuantEcon2025_RUC-main\\Homework\\result\\pdf_files\\Michigan_State_University_MA_in_Economics_Department.pdf\n"
     ]
    },
    {
     "data": {
      "application/vnd.jupyter.widget-view+json": {
       "model_id": "54d0206e41a9433d8206b34a93182732",
       "version_major": 2,
       "version_minor": 0
      },
      "text/plain": [
       "  0%|          | 0/1 [00:00<?, ?it/s]"
      ]
     },
     "metadata": {},
     "output_type": "display_data"
    },
    {
     "name": "stdout",
     "output_type": "stream",
     "text": [
      "Converted to PDF: C:\\Python_Math\\QuantEcon2025_RUC-main\\QuantEcon2025_RUC-main\\Homework\\result\\pdf_files\\Michigan_State_University_PhD_in_Statistics.pdf\n"
     ]
    },
    {
     "data": {
      "application/vnd.jupyter.widget-view+json": {
       "model_id": "b7a8e40182d6474b9656e107fcefd783",
       "version_major": 2,
       "version_minor": 0
      },
      "text/plain": [
       "  0%|          | 0/1 [00:00<?, ?it/s]"
      ]
     },
     "metadata": {},
     "output_type": "display_data"
    },
    {
     "name": "stdout",
     "output_type": "stream",
     "text": [
      "Converted to PDF: C:\\Python_Math\\QuantEcon2025_RUC-main\\QuantEcon2025_RUC-main\\Homework\\result\\pdf_files\\MIT_MA_in_Data_Science.pdf\n"
     ]
    },
    {
     "data": {
      "application/vnd.jupyter.widget-view+json": {
       "model_id": "719e3a9680b34fc581119ec848865f29",
       "version_major": 2,
       "version_minor": 0
      },
      "text/plain": [
       "  0%|          | 0/1 [00:00<?, ?it/s]"
      ]
     },
     "metadata": {},
     "output_type": "display_data"
    },
    {
     "name": "stdout",
     "output_type": "stream",
     "text": [
      "Converted to PDF: C:\\Python_Math\\QuantEcon2025_RUC-main\\QuantEcon2025_RUC-main\\Homework\\result\\pdf_files\\MIT_MA_in_Economics_Department.pdf\n"
     ]
    },
    {
     "data": {
      "application/vnd.jupyter.widget-view+json": {
       "model_id": "4b06f1d74cd34a2db05f5b0c8641196d",
       "version_major": 2,
       "version_minor": 0
      },
      "text/plain": [
       "  0%|          | 0/1 [00:00<?, ?it/s]"
      ]
     },
     "metadata": {},
     "output_type": "display_data"
    },
    {
     "name": "stdout",
     "output_type": "stream",
     "text": [
      "Converted to PDF: C:\\Python_Math\\QuantEcon2025_RUC-main\\QuantEcon2025_RUC-main\\Homework\\result\\pdf_files\\MIT_PhD_in_Statistics.pdf\n"
     ]
    },
    {
     "data": {
      "application/vnd.jupyter.widget-view+json": {
       "model_id": "a741cb3e547543c5964e9e4a05700964",
       "version_major": 2,
       "version_minor": 0
      },
      "text/plain": [
       "  0%|          | 0/1 [00:00<?, ?it/s]"
      ]
     },
     "metadata": {},
     "output_type": "display_data"
    },
    {
     "name": "stdout",
     "output_type": "stream",
     "text": [
      "Converted to PDF: C:\\Python_Math\\QuantEcon2025_RUC-main\\QuantEcon2025_RUC-main\\Homework\\result\\pdf_files\\Northwestern_University_MA_in_Data_Science.pdf\n"
     ]
    },
    {
     "data": {
      "application/vnd.jupyter.widget-view+json": {
       "model_id": "95217d186cd54fb485aa92f25aee22b2",
       "version_major": 2,
       "version_minor": 0
      },
      "text/plain": [
       "  0%|          | 0/1 [00:00<?, ?it/s]"
      ]
     },
     "metadata": {},
     "output_type": "display_data"
    },
    {
     "name": "stdout",
     "output_type": "stream",
     "text": [
      "Converted to PDF: C:\\Python_Math\\QuantEcon2025_RUC-main\\QuantEcon2025_RUC-main\\Homework\\result\\pdf_files\\Northwestern_University_MA_in_Economics_Department.pdf\n"
     ]
    },
    {
     "data": {
      "application/vnd.jupyter.widget-view+json": {
       "model_id": "8b2fc6a7a9af4077a8e8373c54974413",
       "version_major": 2,
       "version_minor": 0
      },
      "text/plain": [
       "  0%|          | 0/1 [00:00<?, ?it/s]"
      ]
     },
     "metadata": {},
     "output_type": "display_data"
    },
    {
     "name": "stdout",
     "output_type": "stream",
     "text": [
      "Converted to PDF: C:\\Python_Math\\QuantEcon2025_RUC-main\\QuantEcon2025_RUC-main\\Homework\\result\\pdf_files\\Northwestern_University_PhD_in_Statistics.pdf\n"
     ]
    },
    {
     "data": {
      "application/vnd.jupyter.widget-view+json": {
       "model_id": "83d1de6a18924e8781fa390d848369cd",
       "version_major": 2,
       "version_minor": 0
      },
      "text/plain": [
       "  0%|          | 0/1 [00:00<?, ?it/s]"
      ]
     },
     "metadata": {},
     "output_type": "display_data"
    },
    {
     "name": "stdout",
     "output_type": "stream",
     "text": [
      "Converted to PDF: C:\\Python_Math\\QuantEcon2025_RUC-main\\QuantEcon2025_RUC-main\\Homework\\result\\pdf_files\\NYU_MA_in_Data_Science.pdf\n"
     ]
    },
    {
     "data": {
      "application/vnd.jupyter.widget-view+json": {
       "model_id": "9ab71ff6ee074232846e204a918bc6d2",
       "version_major": 2,
       "version_minor": 0
      },
      "text/plain": [
       "  0%|          | 0/1 [00:00<?, ?it/s]"
      ]
     },
     "metadata": {},
     "output_type": "display_data"
    },
    {
     "name": "stdout",
     "output_type": "stream",
     "text": [
      "Converted to PDF: C:\\Python_Math\\QuantEcon2025_RUC-main\\QuantEcon2025_RUC-main\\Homework\\result\\pdf_files\\NYU_MA_in_Economics_Department.pdf\n"
     ]
    },
    {
     "data": {
      "application/vnd.jupyter.widget-view+json": {
       "model_id": "ab463f810c574bbcadf75322758b008f",
       "version_major": 2,
       "version_minor": 0
      },
      "text/plain": [
       "  0%|          | 0/1 [00:00<?, ?it/s]"
      ]
     },
     "metadata": {},
     "output_type": "display_data"
    },
    {
     "name": "stdout",
     "output_type": "stream",
     "text": [
      "Converted to PDF: C:\\Python_Math\\QuantEcon2025_RUC-main\\QuantEcon2025_RUC-main\\Homework\\result\\pdf_files\\NYU_PhD_in_Statistics.pdf\n"
     ]
    },
    {
     "data": {
      "application/vnd.jupyter.widget-view+json": {
       "model_id": "c4b06ef7619b4e7a9c7c78df67937cef",
       "version_major": 2,
       "version_minor": 0
      },
      "text/plain": [
       "  0%|          | 0/1 [00:00<?, ?it/s]"
      ]
     },
     "metadata": {},
     "output_type": "display_data"
    },
    {
     "name": "stdout",
     "output_type": "stream",
     "text": [
      "Converted to PDF: C:\\Python_Math\\QuantEcon2025_RUC-main\\QuantEcon2025_RUC-main\\Homework\\result\\pdf_files\\Oxford_University_MA_in_Data_Science.pdf\n"
     ]
    },
    {
     "data": {
      "application/vnd.jupyter.widget-view+json": {
       "model_id": "8e6e9af13cf24e7b9e29d3a7cb4fc8fd",
       "version_major": 2,
       "version_minor": 0
      },
      "text/plain": [
       "  0%|          | 0/1 [00:00<?, ?it/s]"
      ]
     },
     "metadata": {},
     "output_type": "display_data"
    },
    {
     "name": "stdout",
     "output_type": "stream",
     "text": [
      "Converted to PDF: C:\\Python_Math\\QuantEcon2025_RUC-main\\QuantEcon2025_RUC-main\\Homework\\result\\pdf_files\\Oxford_University_MA_in_Economics_Department.pdf\n"
     ]
    },
    {
     "data": {
      "application/vnd.jupyter.widget-view+json": {
       "model_id": "c3d163def35247b08e5d72ace07e4358",
       "version_major": 2,
       "version_minor": 0
      },
      "text/plain": [
       "  0%|          | 0/1 [00:00<?, ?it/s]"
      ]
     },
     "metadata": {},
     "output_type": "display_data"
    },
    {
     "name": "stdout",
     "output_type": "stream",
     "text": [
      "Converted to PDF: C:\\Python_Math\\QuantEcon2025_RUC-main\\QuantEcon2025_RUC-main\\Homework\\result\\pdf_files\\Oxford_University_PhD_in_Statistics.pdf\n"
     ]
    },
    {
     "data": {
      "application/vnd.jupyter.widget-view+json": {
       "model_id": "80eaa6e37e094b0093e133f621a4c3b0",
       "version_major": 2,
       "version_minor": 0
      },
      "text/plain": [
       "  0%|          | 0/1 [00:00<?, ?it/s]"
      ]
     },
     "metadata": {},
     "output_type": "display_data"
    },
    {
     "name": "stdout",
     "output_type": "stream",
     "text": [
      "Converted to PDF: C:\\Python_Math\\QuantEcon2025_RUC-main\\QuantEcon2025_RUC-main\\Homework\\result\\pdf_files\\Paris_School_of_Economics_MA_in_Data_Science.pdf\n"
     ]
    },
    {
     "data": {
      "application/vnd.jupyter.widget-view+json": {
       "model_id": "a5d0709c8d2445c4bcf894a225b4dc64",
       "version_major": 2,
       "version_minor": 0
      },
      "text/plain": [
       "  0%|          | 0/1 [00:00<?, ?it/s]"
      ]
     },
     "metadata": {},
     "output_type": "display_data"
    },
    {
     "name": "stdout",
     "output_type": "stream",
     "text": [
      "Converted to PDF: C:\\Python_Math\\QuantEcon2025_RUC-main\\QuantEcon2025_RUC-main\\Homework\\result\\pdf_files\\Paris_School_of_Economics_MA_in_Economics_Department.pdf\n"
     ]
    },
    {
     "data": {
      "application/vnd.jupyter.widget-view+json": {
       "model_id": "29b5ab8e1f4a4fc3b04405ad7a9f3dcf",
       "version_major": 2,
       "version_minor": 0
      },
      "text/plain": [
       "  0%|          | 0/1 [00:00<?, ?it/s]"
      ]
     },
     "metadata": {},
     "output_type": "display_data"
    },
    {
     "name": "stdout",
     "output_type": "stream",
     "text": [
      "Converted to PDF: C:\\Python_Math\\QuantEcon2025_RUC-main\\QuantEcon2025_RUC-main\\Homework\\result\\pdf_files\\Paris_School_of_Economics_PhD_in_Statistics.pdf\n"
     ]
    },
    {
     "data": {
      "application/vnd.jupyter.widget-view+json": {
       "model_id": "00566ae96f114694b749921e0d2dae23",
       "version_major": 2,
       "version_minor": 0
      },
      "text/plain": [
       "  0%|          | 0/1 [00:00<?, ?it/s]"
      ]
     },
     "metadata": {},
     "output_type": "display_data"
    },
    {
     "name": "stdout",
     "output_type": "stream",
     "text": [
      "Converted to PDF: C:\\Python_Math\\QuantEcon2025_RUC-main\\QuantEcon2025_RUC-main\\Homework\\result\\pdf_files\\Princeton_University_MA_in_Data_Science.pdf\n"
     ]
    },
    {
     "data": {
      "application/vnd.jupyter.widget-view+json": {
       "model_id": "dffa1b43f77148609136a5639c9fcb54",
       "version_major": 2,
       "version_minor": 0
      },
      "text/plain": [
       "  0%|          | 0/1 [00:00<?, ?it/s]"
      ]
     },
     "metadata": {},
     "output_type": "display_data"
    },
    {
     "name": "stdout",
     "output_type": "stream",
     "text": [
      "Converted to PDF: C:\\Python_Math\\QuantEcon2025_RUC-main\\QuantEcon2025_RUC-main\\Homework\\result\\pdf_files\\Princeton_University_MA_in_Economics_Department.pdf\n"
     ]
    },
    {
     "data": {
      "application/vnd.jupyter.widget-view+json": {
       "model_id": "1260be415bea4eb08a0c4fb3e9a75a9f",
       "version_major": 2,
       "version_minor": 0
      },
      "text/plain": [
       "  0%|          | 0/1 [00:00<?, ?it/s]"
      ]
     },
     "metadata": {},
     "output_type": "display_data"
    },
    {
     "name": "stdout",
     "output_type": "stream",
     "text": [
      "Converted to PDF: C:\\Python_Math\\QuantEcon2025_RUC-main\\QuantEcon2025_RUC-main\\Homework\\result\\pdf_files\\Princeton_University_PhD_in_Statistics.pdf\n"
     ]
    },
    {
     "data": {
      "application/vnd.jupyter.widget-view+json": {
       "model_id": "02bce9418ac0401d8d35a44e334660fb",
       "version_major": 2,
       "version_minor": 0
      },
      "text/plain": [
       "  0%|          | 0/1 [00:00<?, ?it/s]"
      ]
     },
     "metadata": {},
     "output_type": "display_data"
    },
    {
     "name": "stdout",
     "output_type": "stream",
     "text": [
      "Converted to PDF: C:\\Python_Math\\QuantEcon2025_RUC-main\\QuantEcon2025_RUC-main\\Homework\\result\\pdf_files\\Stanford_University_MA_in_Data_Science.pdf\n"
     ]
    },
    {
     "data": {
      "application/vnd.jupyter.widget-view+json": {
       "model_id": "af5051ae42a84324856902981c254c54",
       "version_major": 2,
       "version_minor": 0
      },
      "text/plain": [
       "  0%|          | 0/1 [00:00<?, ?it/s]"
      ]
     },
     "metadata": {},
     "output_type": "display_data"
    },
    {
     "name": "stdout",
     "output_type": "stream",
     "text": [
      "Converted to PDF: C:\\Python_Math\\QuantEcon2025_RUC-main\\QuantEcon2025_RUC-main\\Homework\\result\\pdf_files\\Stanford_University_MA_in_Economics_Department.pdf\n"
     ]
    },
    {
     "data": {
      "application/vnd.jupyter.widget-view+json": {
       "model_id": "6d6455fbf7964f97b4fddcd222928ad9",
       "version_major": 2,
       "version_minor": 0
      },
      "text/plain": [
       "  0%|          | 0/1 [00:00<?, ?it/s]"
      ]
     },
     "metadata": {},
     "output_type": "display_data"
    },
    {
     "name": "stdout",
     "output_type": "stream",
     "text": [
      "Converted to PDF: C:\\Python_Math\\QuantEcon2025_RUC-main\\QuantEcon2025_RUC-main\\Homework\\result\\pdf_files\\Stanford_University_PhD_in_Statistics.pdf\n"
     ]
    },
    {
     "data": {
      "application/vnd.jupyter.widget-view+json": {
       "model_id": "ac0aa0324ea349149deabb8ca1201757",
       "version_major": 2,
       "version_minor": 0
      },
      "text/plain": [
       "  0%|          | 0/1 [00:00<?, ?it/s]"
      ]
     },
     "metadata": {},
     "output_type": "display_data"
    },
    {
     "name": "stdout",
     "output_type": "stream",
     "text": [
      "Converted to PDF: C:\\Python_Math\\QuantEcon2025_RUC-main\\QuantEcon2025_RUC-main\\Homework\\result\\pdf_files\\TSE_MA_in_Data_Science.pdf\n"
     ]
    },
    {
     "data": {
      "application/vnd.jupyter.widget-view+json": {
       "model_id": "5fd9ac29f7294410a4c7abe85e4dc83a",
       "version_major": 2,
       "version_minor": 0
      },
      "text/plain": [
       "  0%|          | 0/1 [00:00<?, ?it/s]"
      ]
     },
     "metadata": {},
     "output_type": "display_data"
    },
    {
     "name": "stdout",
     "output_type": "stream",
     "text": [
      "Converted to PDF: C:\\Python_Math\\QuantEcon2025_RUC-main\\QuantEcon2025_RUC-main\\Homework\\result\\pdf_files\\TSE_MA_in_Economics_Department.pdf\n"
     ]
    },
    {
     "data": {
      "application/vnd.jupyter.widget-view+json": {
       "model_id": "3e43d24f8dde4950adf45a26067443c2",
       "version_major": 2,
       "version_minor": 0
      },
      "text/plain": [
       "  0%|          | 0/1 [00:00<?, ?it/s]"
      ]
     },
     "metadata": {},
     "output_type": "display_data"
    },
    {
     "name": "stdout",
     "output_type": "stream",
     "text": [
      "Converted to PDF: C:\\Python_Math\\QuantEcon2025_RUC-main\\QuantEcon2025_RUC-main\\Homework\\result\\pdf_files\\TSE_PhD_in_Statistics.pdf\n"
     ]
    },
    {
     "data": {
      "application/vnd.jupyter.widget-view+json": {
       "model_id": "ec9500a63ff7478caa1cfef9e5ed9139",
       "version_major": 2,
       "version_minor": 0
      },
      "text/plain": [
       "  0%|          | 0/1 [00:00<?, ?it/s]"
      ]
     },
     "metadata": {},
     "output_type": "display_data"
    },
    {
     "name": "stdout",
     "output_type": "stream",
     "text": [
      "Converted to PDF: C:\\Python_Math\\QuantEcon2025_RUC-main\\QuantEcon2025_RUC-main\\Homework\\result\\pdf_files\\UCLA_MA_in_Data_Science.pdf\n"
     ]
    },
    {
     "data": {
      "application/vnd.jupyter.widget-view+json": {
       "model_id": "31406beeb15948f098e085c43e91876f",
       "version_major": 2,
       "version_minor": 0
      },
      "text/plain": [
       "  0%|          | 0/1 [00:00<?, ?it/s]"
      ]
     },
     "metadata": {},
     "output_type": "display_data"
    },
    {
     "name": "stdout",
     "output_type": "stream",
     "text": [
      "Converted to PDF: C:\\Python_Math\\QuantEcon2025_RUC-main\\QuantEcon2025_RUC-main\\Homework\\result\\pdf_files\\UCLA_MA_in_Economics_Department.pdf\n"
     ]
    },
    {
     "data": {
      "application/vnd.jupyter.widget-view+json": {
       "model_id": "8acbfc0deab14ab4b9fd5f0a7ed20911",
       "version_major": 2,
       "version_minor": 0
      },
      "text/plain": [
       "  0%|          | 0/1 [00:00<?, ?it/s]"
      ]
     },
     "metadata": {},
     "output_type": "display_data"
    },
    {
     "name": "stdout",
     "output_type": "stream",
     "text": [
      "Converted to PDF: C:\\Python_Math\\QuantEcon2025_RUC-main\\QuantEcon2025_RUC-main\\Homework\\result\\pdf_files\\UCLA_PhD_in_Statistics.pdf\n"
     ]
    },
    {
     "data": {
      "application/vnd.jupyter.widget-view+json": {
       "model_id": "9f270f2ee77544bc984c7b4c429bf452",
       "version_major": 2,
       "version_minor": 0
      },
      "text/plain": [
       "  0%|          | 0/1 [00:00<?, ?it/s]"
      ]
     },
     "metadata": {},
     "output_type": "display_data"
    },
    {
     "name": "stdout",
     "output_type": "stream",
     "text": [
      "Converted to PDF: C:\\Python_Math\\QuantEcon2025_RUC-main\\QuantEcon2025_RUC-main\\Homework\\result\\pdf_files\\UCL_MA_in_Data_Science.pdf\n"
     ]
    },
    {
     "data": {
      "application/vnd.jupyter.widget-view+json": {
       "model_id": "266a0dbaa94541279ac032459bcb37e9",
       "version_major": 2,
       "version_minor": 0
      },
      "text/plain": [
       "  0%|          | 0/1 [00:00<?, ?it/s]"
      ]
     },
     "metadata": {},
     "output_type": "display_data"
    },
    {
     "name": "stdout",
     "output_type": "stream",
     "text": [
      "Converted to PDF: C:\\Python_Math\\QuantEcon2025_RUC-main\\QuantEcon2025_RUC-main\\Homework\\result\\pdf_files\\UCL_MA_in_Economics_Department.pdf\n"
     ]
    },
    {
     "data": {
      "application/vnd.jupyter.widget-view+json": {
       "model_id": "7a8d2492d07b42b7a5f6bf2a7fea1a2b",
       "version_major": 2,
       "version_minor": 0
      },
      "text/plain": [
       "  0%|          | 0/1 [00:00<?, ?it/s]"
      ]
     },
     "metadata": {},
     "output_type": "display_data"
    },
    {
     "name": "stdout",
     "output_type": "stream",
     "text": [
      "Converted to PDF: C:\\Python_Math\\QuantEcon2025_RUC-main\\QuantEcon2025_RUC-main\\Homework\\result\\pdf_files\\UCL_PhD_in_Statistics.pdf\n"
     ]
    },
    {
     "data": {
      "application/vnd.jupyter.widget-view+json": {
       "model_id": "c18b0d1ad3c64bf78a96eb7a97d5d836",
       "version_major": 2,
       "version_minor": 0
      },
      "text/plain": [
       "  0%|          | 0/1 [00:00<?, ?it/s]"
      ]
     },
     "metadata": {},
     "output_type": "display_data"
    },
    {
     "name": "stdout",
     "output_type": "stream",
     "text": [
      "Converted to PDF: C:\\Python_Math\\QuantEcon2025_RUC-main\\QuantEcon2025_RUC-main\\Homework\\result\\pdf_files\\UCSD_MA_in_Data_Science.pdf\n"
     ]
    },
    {
     "data": {
      "application/vnd.jupyter.widget-view+json": {
       "model_id": "3865eacc8cd44b0684a40c5a05112c16",
       "version_major": 2,
       "version_minor": 0
      },
      "text/plain": [
       "  0%|          | 0/1 [00:00<?, ?it/s]"
      ]
     },
     "metadata": {},
     "output_type": "display_data"
    },
    {
     "name": "stdout",
     "output_type": "stream",
     "text": [
      "Converted to PDF: C:\\Python_Math\\QuantEcon2025_RUC-main\\QuantEcon2025_RUC-main\\Homework\\result\\pdf_files\\UCSD_MA_in_Economics_Department.pdf\n"
     ]
    },
    {
     "data": {
      "application/vnd.jupyter.widget-view+json": {
       "model_id": "533257a8d5cf4671bbfdd5d35ac7450f",
       "version_major": 2,
       "version_minor": 0
      },
      "text/plain": [
       "  0%|          | 0/1 [00:00<?, ?it/s]"
      ]
     },
     "metadata": {},
     "output_type": "display_data"
    },
    {
     "name": "stdout",
     "output_type": "stream",
     "text": [
      "Converted to PDF: C:\\Python_Math\\QuantEcon2025_RUC-main\\QuantEcon2025_RUC-main\\Homework\\result\\pdf_files\\UCSD_PhD_in_Statistics.pdf\n"
     ]
    },
    {
     "data": {
      "application/vnd.jupyter.widget-view+json": {
       "model_id": "309652aefbdd4e848bd11849774ce496",
       "version_major": 2,
       "version_minor": 0
      },
      "text/plain": [
       "  0%|          | 0/1 [00:00<?, ?it/s]"
      ]
     },
     "metadata": {},
     "output_type": "display_data"
    },
    {
     "name": "stdout",
     "output_type": "stream",
     "text": [
      "Converted to PDF: C:\\Python_Math\\QuantEcon2025_RUC-main\\QuantEcon2025_RUC-main\\Homework\\result\\pdf_files\\Universiteit_van_Tilburg_MA_in_Data_Science.pdf\n"
     ]
    },
    {
     "data": {
      "application/vnd.jupyter.widget-view+json": {
       "model_id": "4c3fc5c04a0c4f3b9bf043c55b54aba8",
       "version_major": 2,
       "version_minor": 0
      },
      "text/plain": [
       "  0%|          | 0/1 [00:00<?, ?it/s]"
      ]
     },
     "metadata": {},
     "output_type": "display_data"
    },
    {
     "name": "stdout",
     "output_type": "stream",
     "text": [
      "Converted to PDF: C:\\Python_Math\\QuantEcon2025_RUC-main\\QuantEcon2025_RUC-main\\Homework\\result\\pdf_files\\Universiteit_van_Tilburg_MA_in_Economics_Department.pdf\n"
     ]
    },
    {
     "data": {
      "application/vnd.jupyter.widget-view+json": {
       "model_id": "9616f4ac399949478861dc5c7bf37fcf",
       "version_major": 2,
       "version_minor": 0
      },
      "text/plain": [
       "  0%|          | 0/1 [00:00<?, ?it/s]"
      ]
     },
     "metadata": {},
     "output_type": "display_data"
    },
    {
     "name": "stdout",
     "output_type": "stream",
     "text": [
      "Converted to PDF: C:\\Python_Math\\QuantEcon2025_RUC-main\\QuantEcon2025_RUC-main\\Homework\\result\\pdf_files\\Universiteit_van_Tilburg_PhD_in_Statistics.pdf\n"
     ]
    },
    {
     "data": {
      "application/vnd.jupyter.widget-view+json": {
       "model_id": "fac100b87b0743b4a2a101f1964700f2",
       "version_major": 2,
       "version_minor": 0
      },
      "text/plain": [
       "  0%|          | 0/1 [00:00<?, ?it/s]"
      ]
     },
     "metadata": {},
     "output_type": "display_data"
    },
    {
     "name": "stdout",
     "output_type": "stream",
     "text": [
      "Converted to PDF: C:\\Python_Math\\QuantEcon2025_RUC-main\\QuantEcon2025_RUC-main\\Homework\\result\\pdf_files\\University_of_British_Columbia_MA_in_Data_Science.pdf\n"
     ]
    },
    {
     "data": {
      "application/vnd.jupyter.widget-view+json": {
       "model_id": "416cfd1451e64db1a20a7c9a24b65a5b",
       "version_major": 2,
       "version_minor": 0
      },
      "text/plain": [
       "  0%|          | 0/1 [00:00<?, ?it/s]"
      ]
     },
     "metadata": {},
     "output_type": "display_data"
    },
    {
     "name": "stdout",
     "output_type": "stream",
     "text": [
      "Converted to PDF: C:\\Python_Math\\QuantEcon2025_RUC-main\\QuantEcon2025_RUC-main\\Homework\\result\\pdf_files\\University_of_British_Columbia_MA_in_Economics_Department.pdf\n"
     ]
    },
    {
     "data": {
      "application/vnd.jupyter.widget-view+json": {
       "model_id": "d12605fa8eff4ec88ab42b20a03d7a95",
       "version_major": 2,
       "version_minor": 0
      },
      "text/plain": [
       "  0%|          | 0/1 [00:00<?, ?it/s]"
      ]
     },
     "metadata": {},
     "output_type": "display_data"
    },
    {
     "name": "stdout",
     "output_type": "stream",
     "text": [
      "Converted to PDF: C:\\Python_Math\\QuantEcon2025_RUC-main\\QuantEcon2025_RUC-main\\Homework\\result\\pdf_files\\University_of_British_Columbia_PhD_in_Statistics.pdf\n"
     ]
    },
    {
     "data": {
      "application/vnd.jupyter.widget-view+json": {
       "model_id": "cad200ceb4c74b18bbb5a666d955c83b",
       "version_major": 2,
       "version_minor": 0
      },
      "text/plain": [
       "  0%|          | 0/1 [00:00<?, ?it/s]"
      ]
     },
     "metadata": {},
     "output_type": "display_data"
    },
    {
     "name": "stdout",
     "output_type": "stream",
     "text": [
      "Converted to PDF: C:\\Python_Math\\QuantEcon2025_RUC-main\\QuantEcon2025_RUC-main\\Homework\\result\\pdf_files\\University_of_California-Berkeley_MA_in_Data_Science.pdf\n"
     ]
    },
    {
     "data": {
      "application/vnd.jupyter.widget-view+json": {
       "model_id": "03488b22bb8c49be89b88b4ecd152cda",
       "version_major": 2,
       "version_minor": 0
      },
      "text/plain": [
       "  0%|          | 0/1 [00:00<?, ?it/s]"
      ]
     },
     "metadata": {},
     "output_type": "display_data"
    },
    {
     "name": "stdout",
     "output_type": "stream",
     "text": [
      "Converted to PDF: C:\\Python_Math\\QuantEcon2025_RUC-main\\QuantEcon2025_RUC-main\\Homework\\result\\pdf_files\\University_of_California-Berkeley_MA_in_Economics_Department.pdf\n"
     ]
    },
    {
     "data": {
      "application/vnd.jupyter.widget-view+json": {
       "model_id": "597ca91c41d04825bff44bc186e161a4",
       "version_major": 2,
       "version_minor": 0
      },
      "text/plain": [
       "  0%|          | 0/1 [00:00<?, ?it/s]"
      ]
     },
     "metadata": {},
     "output_type": "display_data"
    },
    {
     "name": "stdout",
     "output_type": "stream",
     "text": [
      "Converted to PDF: C:\\Python_Math\\QuantEcon2025_RUC-main\\QuantEcon2025_RUC-main\\Homework\\result\\pdf_files\\University_of_California-Berkeley_PhD_in_Statistics.pdf\n"
     ]
    },
    {
     "data": {
      "application/vnd.jupyter.widget-view+json": {
       "model_id": "0bcf64ebc54e4154bf5f9c6c0cda7da4",
       "version_major": 2,
       "version_minor": 0
      },
      "text/plain": [
       "  0%|          | 0/1 [00:00<?, ?it/s]"
      ]
     },
     "metadata": {},
     "output_type": "display_data"
    },
    {
     "name": "stdout",
     "output_type": "stream",
     "text": [
      "Converted to PDF: C:\\Python_Math\\QuantEcon2025_RUC-main\\QuantEcon2025_RUC-main\\Homework\\result\\pdf_files\\University_of_Chicago_MA_in_Data_Science.pdf\n"
     ]
    },
    {
     "data": {
      "application/vnd.jupyter.widget-view+json": {
       "model_id": "f159a8c4423949af94a69746ceeb89f1",
       "version_major": 2,
       "version_minor": 0
      },
      "text/plain": [
       "  0%|          | 0/1 [00:00<?, ?it/s]"
      ]
     },
     "metadata": {},
     "output_type": "display_data"
    },
    {
     "name": "stdout",
     "output_type": "stream",
     "text": [
      "Converted to PDF: C:\\Python_Math\\QuantEcon2025_RUC-main\\QuantEcon2025_RUC-main\\Homework\\result\\pdf_files\\University_of_Chicago_MA_in_Economics_Department.pdf\n"
     ]
    },
    {
     "data": {
      "application/vnd.jupyter.widget-view+json": {
       "model_id": "1a15cf1a1d7c4d69928d07062119c835",
       "version_major": 2,
       "version_minor": 0
      },
      "text/plain": [
       "  0%|          | 0/1 [00:00<?, ?it/s]"
      ]
     },
     "metadata": {},
     "output_type": "display_data"
    },
    {
     "name": "stdout",
     "output_type": "stream",
     "text": [
      "Converted to PDF: C:\\Python_Math\\QuantEcon2025_RUC-main\\QuantEcon2025_RUC-main\\Homework\\result\\pdf_files\\University_of_Chicago_PhD_in_Statistics.pdf\n"
     ]
    },
    {
     "data": {
      "application/vnd.jupyter.widget-view+json": {
       "model_id": "c168699d5e194d51ba238fe23b0eb111",
       "version_major": 2,
       "version_minor": 0
      },
      "text/plain": [
       "  0%|          | 0/1 [00:00<?, ?it/s]"
      ]
     },
     "metadata": {},
     "output_type": "display_data"
    },
    {
     "name": "stdout",
     "output_type": "stream",
     "text": [
      "Converted to PDF: C:\\Python_Math\\QuantEcon2025_RUC-main\\QuantEcon2025_RUC-main\\Homework\\result\\pdf_files\\University_of_Michigan_MA_in_Data_Science.pdf\n"
     ]
    },
    {
     "data": {
      "application/vnd.jupyter.widget-view+json": {
       "model_id": "c4d2ba1fdec64b7c93b13b6ae86de33a",
       "version_major": 2,
       "version_minor": 0
      },
      "text/plain": [
       "  0%|          | 0/1 [00:00<?, ?it/s]"
      ]
     },
     "metadata": {},
     "output_type": "display_data"
    },
    {
     "name": "stdout",
     "output_type": "stream",
     "text": [
      "Converted to PDF: C:\\Python_Math\\QuantEcon2025_RUC-main\\QuantEcon2025_RUC-main\\Homework\\result\\pdf_files\\University_of_Michigan_MA_in_Economics_Department.pdf\n"
     ]
    },
    {
     "data": {
      "application/vnd.jupyter.widget-view+json": {
       "model_id": "333090ee9be34eafb45e928abc4218f4",
       "version_major": 2,
       "version_minor": 0
      },
      "text/plain": [
       "  0%|          | 0/1 [00:00<?, ?it/s]"
      ]
     },
     "metadata": {},
     "output_type": "display_data"
    },
    {
     "name": "stdout",
     "output_type": "stream",
     "text": [
      "Converted to PDF: C:\\Python_Math\\QuantEcon2025_RUC-main\\QuantEcon2025_RUC-main\\Homework\\result\\pdf_files\\University_of_Michigan_PhD_in_Statistics.pdf\n"
     ]
    },
    {
     "data": {
      "application/vnd.jupyter.widget-view+json": {
       "model_id": "9fe7305f81984b1bb30c3582ad406b0c",
       "version_major": 2,
       "version_minor": 0
      },
      "text/plain": [
       "  0%|          | 0/1 [00:00<?, ?it/s]"
      ]
     },
     "metadata": {},
     "output_type": "display_data"
    },
    {
     "name": "stdout",
     "output_type": "stream",
     "text": [
      "Converted to PDF: C:\\Python_Math\\QuantEcon2025_RUC-main\\QuantEcon2025_RUC-main\\Homework\\result\\pdf_files\\University_of_Pennsylvania_MA_in_Data_Science.pdf\n"
     ]
    },
    {
     "data": {
      "application/vnd.jupyter.widget-view+json": {
       "model_id": "a5fa52b2bad94216a54dc4768e6b58ad",
       "version_major": 2,
       "version_minor": 0
      },
      "text/plain": [
       "  0%|          | 0/1 [00:00<?, ?it/s]"
      ]
     },
     "metadata": {},
     "output_type": "display_data"
    },
    {
     "name": "stdout",
     "output_type": "stream",
     "text": [
      "Converted to PDF: C:\\Python_Math\\QuantEcon2025_RUC-main\\QuantEcon2025_RUC-main\\Homework\\result\\pdf_files\\University_of_Pennsylvania_MA_in_Economics_Department.pdf\n"
     ]
    },
    {
     "data": {
      "application/vnd.jupyter.widget-view+json": {
       "model_id": "ba7c8a5b396b40f8b0b8b4d6a6c53d7c",
       "version_major": 2,
       "version_minor": 0
      },
      "text/plain": [
       "  0%|          | 0/1 [00:00<?, ?it/s]"
      ]
     },
     "metadata": {},
     "output_type": "display_data"
    },
    {
     "name": "stdout",
     "output_type": "stream",
     "text": [
      "Converted to PDF: C:\\Python_Math\\QuantEcon2025_RUC-main\\QuantEcon2025_RUC-main\\Homework\\result\\pdf_files\\University_of_Pennsylvania_PhD_in_Statistics.pdf\n"
     ]
    },
    {
     "data": {
      "application/vnd.jupyter.widget-view+json": {
       "model_id": "52161226b53d4ea0a60a5a71196a5d6a",
       "version_major": 2,
       "version_minor": 0
      },
      "text/plain": [
       "  0%|          | 0/1 [00:00<?, ?it/s]"
      ]
     },
     "metadata": {},
     "output_type": "display_data"
    },
    {
     "name": "stdout",
     "output_type": "stream",
     "text": [
      "Converted to PDF: C:\\Python_Math\\QuantEcon2025_RUC-main\\QuantEcon2025_RUC-main\\Homework\\result\\pdf_files\\University_of_Southern_California_MA_in_Data_Science.pdf\n"
     ]
    },
    {
     "data": {
      "application/vnd.jupyter.widget-view+json": {
       "model_id": "0521d7139efd4b80b30dfcf90840ba9d",
       "version_major": 2,
       "version_minor": 0
      },
      "text/plain": [
       "  0%|          | 0/1 [00:00<?, ?it/s]"
      ]
     },
     "metadata": {},
     "output_type": "display_data"
    },
    {
     "name": "stdout",
     "output_type": "stream",
     "text": [
      "Converted to PDF: C:\\Python_Math\\QuantEcon2025_RUC-main\\QuantEcon2025_RUC-main\\Homework\\result\\pdf_files\\University_of_Southern_California_MA_in_Economics_Department.pdf\n"
     ]
    },
    {
     "data": {
      "application/vnd.jupyter.widget-view+json": {
       "model_id": "6eb5f45fe2624ef4a5ea0330d13b38a4",
       "version_major": 2,
       "version_minor": 0
      },
      "text/plain": [
       "  0%|          | 0/1 [00:00<?, ?it/s]"
      ]
     },
     "metadata": {},
     "output_type": "display_data"
    },
    {
     "name": "stdout",
     "output_type": "stream",
     "text": [
      "Converted to PDF: C:\\Python_Math\\QuantEcon2025_RUC-main\\QuantEcon2025_RUC-main\\Homework\\result\\pdf_files\\University_of_Southern_California_PhD_in_Statistics.pdf\n"
     ]
    },
    {
     "data": {
      "application/vnd.jupyter.widget-view+json": {
       "model_id": "489d5b0e883d4bbfae383abb5350babd",
       "version_major": 2,
       "version_minor": 0
      },
      "text/plain": [
       "  0%|          | 0/1 [00:00<?, ?it/s]"
      ]
     },
     "metadata": {},
     "output_type": "display_data"
    },
    {
     "name": "stdout",
     "output_type": "stream",
     "text": [
      "Converted to PDF: C:\\Python_Math\\QuantEcon2025_RUC-main\\QuantEcon2025_RUC-main\\Homework\\result\\pdf_files\\University_of_Toronto_MA_in_Data_Science.pdf\n"
     ]
    },
    {
     "data": {
      "application/vnd.jupyter.widget-view+json": {
       "model_id": "38e10754269847d8b1fa7052fc3c7d43",
       "version_major": 2,
       "version_minor": 0
      },
      "text/plain": [
       "  0%|          | 0/1 [00:00<?, ?it/s]"
      ]
     },
     "metadata": {},
     "output_type": "display_data"
    },
    {
     "name": "stdout",
     "output_type": "stream",
     "text": [
      "Converted to PDF: C:\\Python_Math\\QuantEcon2025_RUC-main\\QuantEcon2025_RUC-main\\Homework\\result\\pdf_files\\University_of_Toronto_MA_in_Economics_Department.pdf\n"
     ]
    },
    {
     "data": {
      "application/vnd.jupyter.widget-view+json": {
       "model_id": "2586364618de4767a01c8941ed4de3b7",
       "version_major": 2,
       "version_minor": 0
      },
      "text/plain": [
       "  0%|          | 0/1 [00:00<?, ?it/s]"
      ]
     },
     "metadata": {},
     "output_type": "display_data"
    },
    {
     "name": "stdout",
     "output_type": "stream",
     "text": [
      "Converted to PDF: C:\\Python_Math\\QuantEcon2025_RUC-main\\QuantEcon2025_RUC-main\\Homework\\result\\pdf_files\\University_of_Toronto_PhD_in_Statistics.pdf\n"
     ]
    },
    {
     "data": {
      "application/vnd.jupyter.widget-view+json": {
       "model_id": "abb0354d76e4487080da01f7ea4ee9a5",
       "version_major": 2,
       "version_minor": 0
      },
      "text/plain": [
       "  0%|          | 0/1 [00:00<?, ?it/s]"
      ]
     },
     "metadata": {},
     "output_type": "display_data"
    },
    {
     "name": "stdout",
     "output_type": "stream",
     "text": [
      "Converted to PDF: C:\\Python_Math\\QuantEcon2025_RUC-main\\QuantEcon2025_RUC-main\\Homework\\result\\pdf_files\\University_of_Wisconsin-Madison_MA_in_Data_Science.pdf\n"
     ]
    },
    {
     "data": {
      "application/vnd.jupyter.widget-view+json": {
       "model_id": "f7612a0ace494ea798bbfac425c75f11",
       "version_major": 2,
       "version_minor": 0
      },
      "text/plain": [
       "  0%|          | 0/1 [00:00<?, ?it/s]"
      ]
     },
     "metadata": {},
     "output_type": "display_data"
    },
    {
     "name": "stdout",
     "output_type": "stream",
     "text": [
      "Converted to PDF: C:\\Python_Math\\QuantEcon2025_RUC-main\\QuantEcon2025_RUC-main\\Homework\\result\\pdf_files\\University_of_Wisconsin-Madison_MA_in_Economics_Department.pdf\n"
     ]
    },
    {
     "data": {
      "application/vnd.jupyter.widget-view+json": {
       "model_id": "d147907f472d4b22b38dd44472cae8b4",
       "version_major": 2,
       "version_minor": 0
      },
      "text/plain": [
       "  0%|          | 0/1 [00:00<?, ?it/s]"
      ]
     },
     "metadata": {},
     "output_type": "display_data"
    },
    {
     "name": "stdout",
     "output_type": "stream",
     "text": [
      "Converted to PDF: C:\\Python_Math\\QuantEcon2025_RUC-main\\QuantEcon2025_RUC-main\\Homework\\result\\pdf_files\\University_of_Wisconsin-Madison_PhD_in_Statistics.pdf\n"
     ]
    },
    {
     "data": {
      "application/vnd.jupyter.widget-view+json": {
       "model_id": "793aff0ff74947548544f633d994b626",
       "version_major": 2,
       "version_minor": 0
      },
      "text/plain": [
       "  0%|          | 0/1 [00:00<?, ?it/s]"
      ]
     },
     "metadata": {},
     "output_type": "display_data"
    },
    {
     "name": "stdout",
     "output_type": "stream",
     "text": [
      "Converted to PDF: C:\\Python_Math\\QuantEcon2025_RUC-main\\QuantEcon2025_RUC-main\\Homework\\result\\pdf_files\\Yale_University_MA_in_Data_Science.pdf\n"
     ]
    },
    {
     "data": {
      "application/vnd.jupyter.widget-view+json": {
       "model_id": "78b6076460224dc8bbc20291bc072b35",
       "version_major": 2,
       "version_minor": 0
      },
      "text/plain": [
       "  0%|          | 0/1 [00:00<?, ?it/s]"
      ]
     },
     "metadata": {},
     "output_type": "display_data"
    },
    {
     "name": "stdout",
     "output_type": "stream",
     "text": [
      "Converted to PDF: C:\\Python_Math\\QuantEcon2025_RUC-main\\QuantEcon2025_RUC-main\\Homework\\result\\pdf_files\\Yale_University_MA_in_Economics_Department.pdf\n"
     ]
    },
    {
     "data": {
      "application/vnd.jupyter.widget-view+json": {
       "model_id": "7a1f5a240d504c328b8eaa9e66e75c2b",
       "version_major": 2,
       "version_minor": 0
      },
      "text/plain": [
       "  0%|          | 0/1 [00:00<?, ?it/s]"
      ]
     },
     "metadata": {},
     "output_type": "display_data"
    },
    {
     "name": "stdout",
     "output_type": "stream",
     "text": [
      "Converted to PDF: C:\\Python_Math\\QuantEcon2025_RUC-main\\QuantEcon2025_RUC-main\\Homework\\result\\pdf_files\\Yale_University_PhD_in_Statistics.pdf\n"
     ]
    }
   ],
   "source": [
    "# 主函数\n",
    "def main():\n",
    "    excel_file = os.path.join(DATA_DIR, \"application_list.xlsx\")\n",
    "    template_file = os.path.join(DATA_DIR, \"application_template.docx\")\n",
    "\n",
    "    if not os.path.exists(excel_file):\n",
    "        print(f\"Error: Excel file '{excel_file}' not found.\")\n",
    "        return\n",
    "    if not os.path.exists(template_file):\n",
    "        print(f\"Error: Template file '{template_file}' not found.\")\n",
    "        return\n",
    "\n",
    "    universities = load_application_list(excel_file)\n",
    "    generate_word_files(template_file, universities)\n",
    "    if os.name == 'nt': #判断是否为windows系统\n",
    "        convert_to_pdf()\n",
    "    else:\n",
    "        print(\"PDF conversion is only supported on Windows.\")\n",
    "\n",
    "if __name__ == \"__main__\":\n",
    "    main()"
   ]
  },
  {
   "cell_type": "code",
   "execution_count": null,
   "id": "696179b7-ce95-4cad-9b5d-38b49e687a31",
   "metadata": {},
   "outputs": [],
   "source": []
  }
 ],
 "metadata": {
  "kernelspec": {
   "display_name": "Python [conda env:base] *",
   "language": "python",
   "name": "conda-base-py"
  },
  "language_info": {
   "codemirror_mode": {
    "name": "ipython",
    "version": 3
   },
   "file_extension": ".py",
   "mimetype": "text/x-python",
   "name": "python",
   "nbconvert_exporter": "python",
   "pygments_lexer": "ipython3",
   "version": "3.12.7"
  }
 },
 "nbformat": 4,
 "nbformat_minor": 5
}
