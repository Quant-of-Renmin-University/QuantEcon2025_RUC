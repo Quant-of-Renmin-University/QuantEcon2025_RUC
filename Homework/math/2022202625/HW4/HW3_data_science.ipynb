{
 "cells": [
  {
   "cell_type": "code",
   "execution_count": 2,
   "metadata": {},
   "outputs": [
    {
     "name": "stdout",
     "output_type": "stream",
     "text": [
      "\n",
      "The following command must be run outside of the IPython shell:\n",
      "\n",
      "    $ pip install LinearRegression\n",
      "\n",
      "The Python package manager (pip) can only be used from outside of IPython.\n",
      "Please reissue the `pip` command in a separate terminal or command prompt.\n",
      "\n",
      "See the Python documentation for more information on how to install packages:\n",
      "\n",
      "    https://docs.python.org/3/installing/\n"
     ]
    }
   ],
   "source": [
    "pip install LinearRegression"
   ]
  },
  {
   "cell_type": "code",
   "execution_count": 3,
   "metadata": {},
   "outputs": [],
   "source": [
    "import pandas as pd\n",
    "from sklearn.linear_model import LinearRegression\n",
    "import matplotlib.pyplot as plt\n",
    "\n",
    "# 读取房价数据\n",
    "house_excel_file = pd.ExcelFile(r'C:\\Users\\DELL\\Desktop\\数据\\house_data.xlsx')\n",
    "house_df = house_excel_file.parse('Sheet1')\n",
    "\n",
    "# 读取租金数据\n",
    "rent_excel_file = pd.ExcelFile(r'C:\\Users\\DELL\\Desktop\\数据\\rent_data.xlsx')\n",
    "rent_df = rent_excel_file.parse('Sheet1')"
   ]
  },
  {
   "cell_type": "code",
   "execution_count": 4,
   "metadata": {},
   "outputs": [
    {
     "data": {
      "text/plain": [
       "LinearRegression(copy_X=True, fit_intercept=True, n_jobs=1, normalize=False)"
      ]
     },
     "execution_count": 4,
     "metadata": {},
     "output_type": "execute_result"
    }
   ],
   "source": [
    "# 将location列转换为虚拟变量\n",
    "house_dummies = pd.get_dummies(house_df['location'], prefix='location', drop_first=True)\n",
    "\n",
    "# 将虚拟变量与原始房价数据合并\n",
    "house_df = pd.concat([house_df, house_dummies], axis=1)\n",
    "\n",
    "# 构建房价数据中的交互项\n",
    "house_df['area_location_2'] = house_df['area'] * house_df['location_2']\n",
    "house_df['area_location_3'] = house_df['area'] * house_df['location_3']\n",
    "house_df['area_location_4'] = house_df['area'] * house_df['location_4']\n",
    "\n",
    "# 提取房价模型的自变量和因变量\n",
    "X_house = house_df[['area', 'location_2', 'location_3', 'location_4',\n",
    "                    'area_location_2', 'area_location_3', 'area_location_4']]\n",
    "y_house = house_df['price/m2']\n",
    "\n",
    "# 创建房价的线性回归模型对象\n",
    "house_model = LinearRegression()\n",
    "house_model.fit(X_house, y_house)"
   ]
  },
  {
   "cell_type": "code",
   "execution_count": 5,
   "metadata": {},
   "outputs": [
    {
     "data": {
      "text/plain": [
       "LinearRegression(copy_X=True, fit_intercept=True, n_jobs=1, normalize=False)"
      ]
     },
     "execution_count": 5,
     "metadata": {},
     "output_type": "execute_result"
    }
   ],
   "source": [
    "# 计算每平方米租金，即总租金除以面积\n",
    "rent_df['rent_price/m2'] = rent_df['rent_price'] / rent_df['area']\n",
    "\n",
    "# 将location列转换为虚拟变量\n",
    "rent_dummies = pd.get_dummies(rent_df['location'], prefix='location', drop_first=True)\n",
    "\n",
    "# 将生成的虚拟变量与原始数据合并\n",
    "rent_df = pd.concat([rent_df, rent_dummies], axis=1)\n",
    "\n",
    "# 构建交互项\n",
    "rent_df['area_location_2'] = rent_df['area'] * rent_df['location_2']\n",
    "rent_df['area_location_3'] = rent_df['area'] * rent_df['location_3']\n",
    "rent_df['area_location_4'] = rent_df['area'] * rent_df['location_4']\n",
    "\n",
    "# 提取自变量和因变量\n",
    "X_rent = rent_df[['area', 'location_2', 'location_3', 'location_4',\n",
    "                  'area_location_2', 'area_location_3', 'area_location_4']]\n",
    "y_rent = rent_df['rent_price/m2']\n",
    "\n",
    "# 创建线性回归模型对象\n",
    "rent_model = LinearRegression()\n",
    "rent_model.fit(X_rent, y_rent)"
   ]
  },
  {
   "cell_type": "code",
   "execution_count": 7,
   "metadata": {},
   "outputs": [],
   "source": [
    "# 定义不同的面积\n",
    "areas = [50, 100]\n",
    "# 区域映射字典，将区域编号映射为实际的区域名称\n",
    "location_mapping = {1: 'Huilongguan', 2: 'Tiantongyuan', 3: 'Huoying', 4: 'Shahe'}"
   ]
  },
  {
   "cell_type": "code",
   "execution_count": 8,
   "metadata": {},
   "outputs": [],
   "source": [
    "# 存储每个街区不同面积下的预测结果\n",
    "results = {}\n",
    "for area in areas:\n",
    "    for location_num, location_name in location_mapping.items():\n",
    "        input_data = [area] + [0] * 3\n",
    "        input_data.extend([0] * 3)\n",
    "        if location_num > 1:\n",
    "            input_data[location_num - 1] = 1\n",
    "            input_data[3 + location_num - 1] = area\n",
    "        input_df = pd.DataFrame([input_data], columns=X_rent.columns)\n",
    "\n",
    "        # 预测每平方米租金\n",
    "        rent_per_m2_pred = rent_model.predict(input_df)[0]\n",
    "        # 计算总租金\n",
    "        total_rent_pred = rent_per_m2_pred * area\n",
    "        # 预测每平方米售价\n",
    "        price_per_m2_pred = house_model.predict(input_df)[0]\n",
    "\n",
    "        if location_name not in results:\n",
    "            results[location_name] = []\n",
    "        results[location_name].append({\n",
    "            '面积': area,\n",
    "            '每平方米租金': rent_per_m2_pred,\n",
    "            '总租金': total_rent_pred,\n",
    "            '每平方米售价': price_per_m2_pred\n",
    "        })"
   ]
  },
  {
   "cell_type": "code",
   "execution_count": 9,
   "metadata": {},
   "outputs": [
    {
     "name": "stdout",
     "output_type": "stream",
     "text": [
      "街区: Huilongguan, 面积: 50 平方米, 每平方米租金: 90.15, 总租金: 4507.32, 每平方米售价: 53721.47\n",
      "街区: Huilongguan, 面积: 100 平方米, 每平方米租金: 73.73, 总租金: 7372.59, 每平方米售价: 52211.60\n",
      "街区: Tiantongyuan, 面积: 50 平方米, 每平方米租金: 89.00, 总租金: 4449.75, 每平方米售价: 34596.42\n",
      "街区: Tiantongyuan, 面积: 100 平方米, 每平方米租金: 54.53, 总租金: 5452.83, 每平方米售价: 34854.20\n",
      "街区: Huoying, 面积: 50 平方米, 每平方米租金: 81.52, 总租金: 4075.86, 每平方米售价: 48709.84\n",
      "街区: Huoying, 面积: 100 平方米, 每平方米租金: 42.69, 总租金: 4269.47, 每平方米售价: 48044.72\n",
      "街区: Shahe, 面积: 50 平方米, 每平方米租金: 57.87, 总租金: 2893.44, 每平方米售价: 40523.31\n",
      "街区: Shahe, 面积: 100 平方米, 每平方米租金: 58.55, 总租金: 5854.57, 每平方米售价: 43038.88\n"
     ]
    }
   ],
   "source": [
    "# 打印预测结果\n",
    "for location, data in results.items():\n",
    "    for item in data:\n",
    "        print(f\"街区: {location}, 面积: {item['面积']} 平方米, 每平方米租金: {item['每平方米租金']:.2f}, 总租金: {item['总租金']:.2f}, 每平方米售价: {item['每平方米售价']:.2f}\")"
   ]
  },
  {
   "cell_type": "code",
   "execution_count": 10,
   "metadata": {},
   "outputs": [
    {
     "data": {
      "text/plain": [
       "<matplotlib.legend.Legend at 0x26c175829b0>"
      ]
     },
     "execution_count": 10,
     "metadata": {},
     "output_type": "execute_result"
    },
    {
     "data": {
      "image/png": "[encoded data removed]",
      "text/plain": [
       "<Figure size 432x288 with 1 Axes>"
      ]
     },
     "metadata": {
      "needs_background": "light"
     },
     "output_type": "display_data"
    }
   ],
   "source": [
    "# 计算租售比并绘制柱状图\n",
    "rent_sale_ratios = {}\n",
    "for location, data in results.items():\n",
    "    rent_sale_ratios[location] = [item['每平方米租金'] / item['每平方米售价'] for item in data]\n",
    "\n",
    "bar_width = 0.35\n",
    "index = range(len(location_mapping))\n",
    "\n",
    "fig, ax = plt.subplots()\n",
    "bar1 = ax.bar([i - bar_width / 2 for i in index], [rent_sale_ratios[loc][0] for loc in location_mapping.values()],\n",
    "              bar_width, label='50')\n",
    "bar2 = ax.bar([i + bar_width / 2 for i in index], [rent_sale_ratios[loc][1] for loc in location_mapping.values()],\n",
    "              bar_width, label='100')\n",
    "\n",
    "ax.set_xlabel('location')\n",
    "ax.set_ylabel('ratio')\n",
    "ax.set_title('Ratio Bar Chart for Different Blocks and Areas')\n",
    "ax.set_xticks(index)\n",
    "ax.set_xticklabels(location_mapping.values())\n",
    "ax.legend()\n"
   ]
  }
 ],
 "metadata": {
  "kernelspec": {
   "display_name": "Python 3",
   "language": "python",
   "name": "python3"
  },
  "language_info": {
   "codemirror_mode": {
    "name": "ipython",
    "version": 3
   },
   "file_extension": ".py",
   "mimetype": "text/x-python",
   "name": "python",
   "nbconvert_exporter": "python",
   "pygments_lexer": "ipython3",
   "version": "3.7.0"
  }
 },
 "nbformat": 4,
 "nbformat_minor": 5
}
