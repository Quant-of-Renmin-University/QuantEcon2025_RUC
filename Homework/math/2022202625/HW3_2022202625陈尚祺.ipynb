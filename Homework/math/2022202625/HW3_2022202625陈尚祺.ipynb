{
 "cells": [
  {
   "cell_type": "code",
   "execution_count": null,
   "metadata": {
    "vscode": {
     "languageId": "plaintext"
    }
   },
   "outputs": [],
   "source": [
    "!pip install pandas docxtpl docx2pdf xlrd"
   ]
  },
  {
   "cell_type": "code",
   "execution_count": null,
   "metadata": {
    "vscode": {
     "languageId": "plaintext"
    }
   },
   "outputs": [],
   "source": [
    "import pandas as pd\n",
    "from docxtpl import DocxTemplate\n",
    "from docx2pdf import convert\n",
    "import os\n",
    "\n",
    "def generate_documents(docx_template_path, excel_path, output_dir):\n",
    "    df = pd.read_excel(excel_path, engine='xlrd')  # 确保 xlrd 适用于 .xls 文件\n",
    "    os.makedirs(output_dir, exist_ok=True)\n",
    "    \n",
    "    first_docx_path = None \n",
    "    \n",
    "    for _, row in df.iterrows():\n",
    "        university = row['Name_of_the_University']\n",
    "        \n",
    "        for i in range(1, 4):\n",
    "            program = row[f'Name_of_the_Program{i}']\n",
    "\n",
    "            doc = DocxTemplate(docx_template_path)\n",
    "            \n",
    "            context = {\n",
    "                'University': university,  \n",
    "                'Program': program  \n",
    "            }\n",
    "            doc.render(context)\n",
    "            \n",
    "            safe_program = program.replace(\"/\", \"-\").replace(\"\\\\\", \"-\")\n",
    "            docx_filename = f\"{university}_{safe_program}.docx\"\n",
    "            docx_path = os.path.join(output_dir, docx_filename)\n",
    "            doc.save(docx_path)\n",
    "            \n",
    "            # 第一份文件\n",
    "            if first_docx_path is None:\n",
    "                first_docx_path = docx_path\n",
    "    \n",
    "    # 转换第一份 .docx 为 .pdf\n",
    "    if first_docx_path:\n",
    "        convert(first_docx_path)\n",
    "        print(f\"第一份文件已转换为 PDF: {first_docx_path.replace('.docx', '.pdf')}\")\n",
    "    \n",
    "    print(\"所有申请书已生成！\")\n",
    "\n",
    "\n",
    "generate_documents(\"./申请信.docx\", \"./University and program.xls\", \"./output\")\n"
   ]
  }
 ],
 "metadata": {
  "language_info": {
   "name": "python"
  }
 },
 "nbformat": 4,
 "nbformat_minor": 2
}
