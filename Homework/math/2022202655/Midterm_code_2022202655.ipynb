{
 "cells": [
  {
   "cell_type": "code",
   "execution_count": 1,
   "id": "4a0c50b0",
   "metadata": {
    "id": "45B236C3E287417D92C5FF4514A8EFD6",
    "notebookId": "67ed3cb75302e998c322ee0f",
    "papermill": {
     "duration": 1.37815,
     "end_time": "2025-03-30T09:41:22.645314",
     "exception": false,
     "start_time": "2025-03-30T09:41:21.267164",
     "status": "completed"
    },
    "slideshow": {
     "slide_type": "slide"
    },
    "tags": []
   },
   "outputs": [],
   "source": [
    "import pandas as pd\n",
    "import numpy as np\n",
    "from sklearn.preprocessing import LabelEncoder, StandardScaler\n",
    "from sklearn.model_selection import train_test_split\n",
    "from sklearn.linear_model import LinearRegression\n",
    "from sklearn.linear_model import Ridge, Lasso, ElasticNet\n",
    "from sklearn.model_selection import GridSearchCV\n",
    "from sklearn.feature_selection import RFECV\n",
    "from sklearn.metrics import mean_squared_error, mean_absolute_error\n",
    "from sklearn.feature_selection import SelectKBest, f_regression, RFE\n",
    "import seaborn as sns\n",
    "import matplotlib.pyplot as plt\n",
    "from datetime import datetime\n"
   ]
  },
  {
   "cell_type": "code",
   "execution_count": 2,
   "id": "0f79c0a6-ea56-4bc9-a621-b36278927e1f",
   "metadata": {
    "id": "B1ED896C95C64A568DB2522AA756F94D",
    "notebookId": "67ed3cb75302e998c322ee0f",
    "papermill": {
     "duration": 0.89847,
     "end_time": "2025-03-30T09:41:23.641105",
     "exception": false,
     "start_time": "2025-03-30T09:41:22.742635",
     "status": "completed"
    },
    "slideshow": {
     "slide_type": "slide"
    },
    "tags": []
   },
   "outputs": [],
   "source": [
    "# 加载数据\n",
    "data = pd.read_csv('ruc_Class25Q1_train.csv')"
   ]
  },
  {
   "cell_type": "markdown",
   "id": "6a0543a9-fc02-4fc2-9187-decab10deb9e",
   "metadata": {},
   "source": [
    "# 数据预处理"
   ]
  },
  {
   "cell_type": "code",
   "execution_count": 3,
   "id": "f913843d",
   "metadata": {
    "id": "D393DD260A9545A893C30DFE2513ACF5",
    "notebookId": "67ed3cb75302e998c322ee0f",
    "papermill": {
     "duration": 0.248662,
     "end_time": "2025-03-30T09:41:24.702593",
     "exception": false,
     "start_time": "2025-03-30T09:41:24.453931",
     "status": "completed"
    },
    "slideshow": {
     "slide_type": "slide"
    },
    "tags": []
   },
   "outputs": [
    {
     "name": "stdout",
     "output_type": "stream",
     "text": [
      "      建筑面积  square\n",
      "0    52.3㎡   52.30\n",
      "1  127.44㎡  127.44\n",
      "2  228.54㎡  228.54\n",
      "3    43.6㎡   43.60\n",
      "4   39.85㎡   39.85\n"
     ]
    }
   ],
   "source": [
    "# 处理建筑面积的数据\n",
    "# 定义函数来提取建筑面积的数值\n",
    "def extract_area_value(area_str):\n",
    "    if isinstance(area_str, str):\n",
    "        # 提取所有数字和小数点\n",
    "        numbers = ''.join(filter(lambda x: x.isdigit() or x == '.', area_str))\n",
    "        try:\n",
    "            return float(numbers)\n",
    "        except ValueError:\n",
    "            return None\n",
    "    return None\n",
    "\n",
    "# 应用函数到建筑面积列\n",
    "data['square'] = data['建筑面积'].apply(extract_area_value)\n",
    "\n",
    "# 查看处理后的结果（前几行）\n",
    "print(data[['建筑面积','square']].head())"
   ]
  },
  {
   "cell_type": "code",
   "execution_count": 4,
   "id": "c9c4f263",
   "metadata": {
    "id": "FB41953FF4214FDF8BCA01DF744FA86D",
    "notebookId": "67ed3cb75302e998c322ee0f",
    "papermill": {
     "duration": 0.34874,
     "end_time": "2025-03-30T09:41:26.238881",
     "exception": false,
     "start_time": "2025-03-30T09:41:25.890141",
     "status": "completed"
    },
    "slideshow": {
     "slide_type": "slide"
    },
    "tags": []
   },
   "outputs": [
    {
     "name": "stdout",
     "output_type": "stream",
     "text": [
      "     梯户比例  units_elevator\n",
      "0    一梯三户        3.000000\n",
      "1    一梯两户        2.000000\n",
      "2    一梯一户        1.000000\n",
      "3  三梯二十三户        7.666667\n",
      "4   两梯十一户        5.500000\n"
     ]
    }
   ],
   "source": [
    "# 定义函数将汉字数字转换为阿拉伯数字\n",
    "def chinese_to_arabic(chinese_num):\n",
    "    chinese_num_map = {\n",
    "        '零': 0, '一': 1, '二': 2, '两': 2, '三': 3, '四': 4,\n",
    "        '五': 5, '六': 6, '七': 7, '八': 8, '九': 9,\n",
    "        '十': 10, '百': 100, '千': 1000, '万': 10000,\n",
    "        '亿': 100000000\n",
    "    }\n",
    "    result = 0\n",
    "    temp = 0\n",
    "    for char in chinese_num:\n",
    "        if char in ['十', '百', '千', '万', '亿']:\n",
    "            if temp == 0:\n",
    "                temp = 1\n",
    "            result += temp * chinese_num_map[char]\n",
    "            temp = 0\n",
    "        else:\n",
    "            temp = chinese_num_map[char]\n",
    "    result += temp\n",
    "    return result\n",
    "\n",
    "\n",
    "# 定义函数计算一梯有几户\n",
    "def calculate_units_per_elevator(ratio):\n",
    "    if isinstance(ratio, str):\n",
    "        try:\n",
    "            parts = ratio.split('梯')\n",
    "            if len(parts) == 2:\n",
    "                elevators = chinese_to_arabic(parts[0])\n",
    "                units = chinese_to_arabic(parts[1].split('户')[0])\n",
    "                return units / elevators if elevators > 0 else None\n",
    "        except ValueError:\n",
    "            pass\n",
    "    return None\n",
    "\n",
    "\n",
    "# 应用函数生成新列\n",
    "data['units_elevator'] = data['梯户比例'].apply(calculate_units_per_elevator)\n",
    "\n",
    "# 查看结果的前几行\n",
    "print(data[['梯户比例', 'units_elevator']].head())\n"
   ]
  },
  {
   "cell_type": "code",
   "execution_count": 6,
   "id": "d6867734",
   "metadata": {
    "id": "AB8A89DBDF4A436FA4F065B6B53730AE",
    "notebookId": "67ed3cb75302e998c322ee0f",
    "papermill": {
     "duration": 20.471282,
     "end_time": "2025-03-30T09:41:47.549409",
     "exception": false,
     "start_time": "2025-03-30T09:41:27.078127",
     "status": "completed"
    },
    "slideshow": {
     "slide_type": "slide"
    },
    "tags": []
   },
   "outputs": [
    {
     "name": "stdout",
     "output_type": "stream",
     "text": [
      "   time_interval\n",
      "0         2568.0\n",
      "1         3381.0\n",
      "2         2824.0\n",
      "3          892.0\n",
      "4          787.0\n"
     ]
    }
   ],
   "source": [
    "# 处理交易时间和上次交易的数据\n",
    "def time_interval(df):\n",
    "    time_list = []\n",
    "    for index, row in df.iterrows():\n",
    "        try:\n",
    "            # 尝试把交易时间转换为日期时间格式\n",
    "            transaction_time = pd.to_datetime(row['交易时间'])\n",
    "            # 尝试把上次交易时间转换为日期时间格式\n",
    "            last_transaction_time = pd.to_datetime(row['上次交易'])\n",
    "            # 计算时间间隔\n",
    "            interval = (transaction_time - last_transaction_time).days\n",
    "            time_list.append(interval)\n",
    "        except (ValueError, TypeError):\n",
    "            # 若转换失败，把该时间间隔设为 None\n",
    "            time_list.append(None)\n",
    "    # 把时间间隔列表添加为新的一列\n",
    "    df['time_interval'] = time_list\n",
    "    return df\n",
    "data=time_interval(data)\n",
    "print(data[['time_interval']].head())"
   ]
  },
  {
   "cell_type": "code",
   "execution_count": 5,
   "id": "7c3cbb08",
   "metadata": {
    "id": "C5384E97EEAC429BB8C996990EF5E322",
    "notebookId": "67ed3cb75302e998c322ee0f",
    "papermill": {
     "duration": 1.184422,
     "end_time": "2025-03-30T09:41:49.603400",
     "exception": false,
     "start_time": "2025-03-30T09:41:48.418978",
     "status": "completed"
    },
    "slideshow": {
     "slide_type": "slide"
    },
    "tags": []
   },
   "outputs": [],
   "source": [
    "# 处理核心卖点的数据\n",
    "def classify_core_selling_point(row):\n",
    "    if pd.notnull(row['核心卖点']) and row['核心卖点'] != '':\n",
    "        return 1\n",
    "    return 0\n",
    "data['selling_point']=data.apply(classify_core_selling_point, axis = 1)"
   ]
  },
  {
   "cell_type": "code",
   "execution_count": 7,
   "id": "ce6d7b43",
   "metadata": {
    "id": "CAA46DB65B804C109E6E932D10CEF0FE",
    "notebookId": "67ed3cb75302e998c322ee0f",
    "papermill": {
     "duration": 1.135273,
     "end_time": "2025-03-30T09:41:50.843192",
     "exception": false,
     "start_time": "2025-03-30T09:41:49.707919",
     "status": "completed"
    },
    "slideshow": {
     "slide_type": "slide"
    },
    "tags": []
   },
   "outputs": [],
   "source": [
    "# 处理周边配套的数据\n",
    "def classify_surrounding(row):\n",
    "    if pd.notnull(row['周边配套']) and row['周边配套'] != '':\n",
    "        return 1\n",
    "    return 0\n",
    "data['surrounding']=data.apply(classify_surrounding, axis = 1)"
   ]
  },
  {
   "cell_type": "code",
   "execution_count": 8,
   "id": "c0f7143c",
   "metadata": {
    "id": "1284406BD92E4F7C8D461D0D53BA1AE4",
    "notebookId": "67ed3cb75302e998c322ee0f",
    "papermill": {
     "duration": 1.139485,
     "end_time": "2025-03-30T09:41:52.086191",
     "exception": false,
     "start_time": "2025-03-30T09:41:50.946706",
     "status": "completed"
    },
    "slideshow": {
     "slide_type": "slide"
    },
    "tags": []
   },
   "outputs": [],
   "source": [
    "# 处理交通出行的数据\n",
    "def classify_traffic(row):\n",
    "    if pd.notnull(row['交通出行']) and row['交通出行'] != '':\n",
    "        return 1\n",
    "    return 0\n",
    "data['traffic']=data.apply(classify_traffic, axis = 1)"
   ]
  },
  {
   "cell_type": "code",
   "execution_count": 9,
   "id": "32bbd449",
   "metadata": {
    "id": "9774E827072E4E43B8EA7A7922938F57",
    "notebookId": "67ed3cb75302e998c322ee0f",
    "papermill": {
     "duration": 0.108811,
     "end_time": "2025-03-30T09:41:52.298929",
     "exception": false,
     "start_time": "2025-03-30T09:41:52.190118",
     "status": "completed"
    },
    "slideshow": {
     "slide_type": "slide"
    },
    "tags": []
   },
   "outputs": [],
   "source": [
    "# 处理登记年份的数据\n",
    "def calculate_year_interval(df):\n",
    "    # 获取当前年份\n",
    "    current_year = datetime.now().year\n",
    "    # 计算时间间隔（以年为单位）\n",
    "    df['time_year'] = current_year - df['年份']\n",
    "    return df\n",
    "\n",
    "\n",
    "data = calculate_year_interval(data)"
   ]
  },
  {
   "cell_type": "code",
   "execution_count": 10,
   "id": "b1bde686",
   "metadata": {
    "collapsed": false,
    "id": "05E0832B643B42EBA96881405A07A319",
    "jupyter": {
     "outputs_hidden": false
    },
    "notebookId": "67ed3cb75302e998c322ee0f",
    "slideshow": {
     "slide_type": "slide"
    },
    "tags": []
   },
   "outputs": [],
   "source": [
    "# 进行独热编码\n",
    "categorical_features = ['城市','区域','板块','环线','建筑结构','装修情况','交易权属','别墅类型','房屋用途','房屋年限','产权所属','配备电梯','房屋朝向','所在楼层','房屋户型']  \n",
    "data_encoded = pd.get_dummies(data, columns=categorical_features)\n",
    "\n",
    "# 获取独热编码后新增的特征名\n",
    "new_features = [col for col in data_encoded.columns if col not in data.columns]"
   ]
  },
  {
   "cell_type": "markdown",
   "id": "558bf1e3-065a-4b06-9c10-b7ae339166f5",
   "metadata": {},
   "source": [
    "# 建立模型"
   ]
  },
  {
   "cell_type": "code",
   "execution_count": 11,
   "id": "2a1d92a3",
   "metadata": {
    "id": "9010A37EACB94891A5005D7FF2064D7E",
    "notebookId": "67ed3cb75302e998c322ee0f",
    "papermill": {
     "duration": 4.068229,
     "end_time": "2025-03-30T09:41:56.470208",
     "exception": false,
     "start_time": "2025-03-30T09:41:52.401979",
     "status": "completed"
    },
    "slideshow": {
     "slide_type": "slide"
    },
    "tags": []
   },
   "outputs": [],
   "source": [
    "\n",
    "data['price'] = data['价格'] \n",
    "\n",
    "# 选择特定的特征\n",
    "selected_features = [\n",
    "    'square',\n",
    "    'units_elevator',\n",
    "    'time_interval',\n",
    "    'selling_point',\n",
    "    'surrounding',\n",
    "    'traffic',\n",
    "    'time_year',\n",
    "    'lon',\n",
    "    'lat']+new_features\n",
    "\n",
    "X = data_encoded[selected_features]\n",
    "\n",
    "# 计算每列的均值\n",
    "means = X.mean()\n",
    "\n",
    "# 使用均值填充缺失值\n",
    "X = X.fillna(means)\n",
    "\n",
    "\n",
    "y = data['price']\n",
    "\n",
    "\n",
    "# 划分训练集和测试集\n",
    "X_train, X_test, y_train, y_test = train_test_split(\n",
    "    X, y, test_size=0.2, random_state=111)"
   ]
  },
  {
   "cell_type": "code",
   "execution_count": 12,
   "id": "278803aa-cf6f-434a-869f-2b0f65e2aa86",
   "metadata": {},
   "outputs": [
    {
     "name": "stdout",
     "output_type": "stream",
     "text": [
      "均方误差 (MSE): 1598366013515.8877\n",
      "平均绝对误差 (MAE): 551471.9325790198\n",
      "均方根误差 (RMSE): 1264265.0092112364\n"
     ]
    }
   ],
   "source": [
    "# 使用选择后的特征进行训练\n",
    "model = LinearRegression()\n",
    "\n",
    "model.fit(X_train, y_train)\n",
    "\n",
    "# 进行预测\n",
    "y_pred = model.predict(X_test)\n",
    "\n",
    "# 计算 MSE\n",
    "mse = mean_squared_error(y_test, y_pred)\n",
    "print(f\"均方误差 (MSE): {mse}\")\n",
    "\n",
    "\n",
    "\n",
    "# 计算 MAE\n",
    "mae = mean_absolute_error(y_test, y_pred)\n",
    "print(f\"平均绝对误差 (MAE): {mae}\")\n",
    "\n",
    "# 计算 RMSE\n",
    "rmse = np.sqrt(mean_squared_error(y_test, y_pred))\n",
    "print(f\"均方根误差 (RMSE): {rmse}\")"
   ]
  },
  {
   "cell_type": "code",
   "execution_count": 17,
   "id": "cb52faa9",
   "metadata": {
    "collapsed": false,
    "id": "41C2043D648944CE953585AA98470950",
    "jupyter": {
     "outputs_hidden": false
    },
    "notebookId": "67ed3cb75302e998c322ee0f",
    "slideshow": {
     "slide_type": "slide"
    },
    "tags": []
   },
   "outputs": [
    {
     "name": "stdout",
     "output_type": "stream",
     "text": [
      "Ridge 回归均方误差 (MSE): 1574937423168.9668\n",
      "Ridge 平均绝对误差 (MAE):, 550754.6040536367\n",
      "Ridge 均方根误差 (RMSE): 1254965.1083472269\n"
     ]
    }
   ],
   "source": [
    "# Ridge 回归\n",
    "\n",
    "ridge_model = Ridge(alpha=0.1)\n",
    "ridge_model.fit(X_train, y_train)\n",
    "y_pred_ridge = ridge_model.predict(X_test)\n",
    "mse_ridge = mean_squared_error(y_test, y_pred_ridge)\n",
    "mae_ridge = mean_absolute_error(y_test, y_pred_ridge)\n",
    "rmse_ridge = np.sqrt(mean_squared_error(y_test, y_pred_ridge))\n",
    "print(f\"Ridge 回归均方误差 (MSE): {mse_ridge}\")\n",
    "print(f\"Ridge 平均绝对误差 (MAE): {mae_ridge}\")\n",
    "print(f\"Ridge 均方根误差 (RMSE): {rmse_ridge}\")"
   ]
  },
  {
   "cell_type": "code",
   "execution_count": 14,
   "id": "5a0950e0",
   "metadata": {
    "collapsed": false,
    "id": "137E9FF818D64098909597D301E0F445",
    "jupyter": {
     "outputs_hidden": false
    },
    "notebookId": "67ed3cb75302e998c322ee0f",
    "slideshow": {
     "slide_type": "slide"
    },
    "tags": []
   },
   "outputs": [
    {
     "name": "stderr",
     "output_type": "stream",
     "text": [
      "C:\\ProgramData\\anaconda3\\Lib\\site-packages\\sklearn\\linear_model\\_coordinate_descent.py:697: ConvergenceWarning: Objective did not converge. You might want to increase the number of iterations, check the scale of the features or consider increasing regularisation. Duality gap: 3.621e+16, tolerance: 4.700e+13\n",
      "  model = cd_fast.enet_coordinate_descent(\n"
     ]
    },
    {
     "name": "stdout",
     "output_type": "stream",
     "text": [
      "Lasso 回归均方误差 (MSE): 1567046402607.2651\n",
      "Lasso 平均绝对误差 (MAE): 551394.17733307\n",
      "Lasso 均方根误差 (RMSE): 1251817.2400982762\n"
     ]
    }
   ],
   "source": [
    "# Lasso 回归\n",
    "\n",
    "lasso_model = Lasso(alpha=1.0)\n",
    "lasso_model.fit(X_train, y_train)\n",
    "y_pred_lasso = lasso_model.predict(X_test)\n",
    "mse_lasso = mean_squared_error(y_test, y_pred_lasso)\n",
    "mae_lasso = mean_absolute_error(y_test, y_pred_lasso)\n",
    "rmse_lasso = np.sqrt(mean_squared_error(y_test, y_pred_lasso))\n",
    "print(f\"Lasso 回归均方误差 (MSE): {mse_lasso}\")\n",
    "print(f\"Lasso 平均绝对误差 (MAE): {mae_lasso}\")\n",
    "print(f\"Lasso 均方根误差 (RMSE): {rmse_lasso}\")"
   ]
  },
  {
   "cell_type": "code",
   "execution_count": 20,
   "id": "f0073d17",
   "metadata": {
    "collapsed": false,
    "id": "0DDCE4BA275A461EBAA3DE1335CE0DC0",
    "jupyter": {
     "outputs_hidden": false
    },
    "notebookId": "67ed3cb75302e998c322ee0f",
    "slideshow": {
     "slide_type": "slide"
    },
    "tags": []
   },
   "outputs": [
    {
     "name": "stderr",
     "output_type": "stream",
     "text": [
      "C:\\ProgramData\\anaconda3\\Lib\\site-packages\\sklearn\\linear_model\\_coordinate_descent.py:697: ConvergenceWarning: Objective did not converge. You might want to increase the number of iterations, check the scale of the features or consider increasing regularisation. Duality gap: 4.027e+16, tolerance: 4.700e+13\n",
      "  model = cd_fast.enet_coordinate_descent(\n"
     ]
    },
    {
     "name": "stdout",
     "output_type": "stream",
     "text": [
      "Elastic Net 回归均方误差 (MSE): 1660894123417.3818\n",
      "Elastic Net 平均绝对误差 (MAE): 552717.233477041\n",
      "Elastic Net 均方根误差 (RMSE): 1288756.8131410137\n"
     ]
    }
   ],
   "source": [
    "# Elastic Net 回归\n",
    "\n",
    "elastic_net_model = ElasticNet(alpha=0.1, l1_ratio=1)\n",
    "elastic_net_model.fit(X_train, y_train)\n",
    "y_pred_elastic_net = elastic_net_model.predict(X_test)\n",
    "mse_elastic_net = mean_squared_error(y_test, y_pred_elastic_net)\n",
    "mae_elastic_net = mean_absolute_error(y_test, y_pred_elastic_net)\n",
    "rmse_elastic_net = np.sqrt(mean_squared_error(y_test, y_pred_elastic_net))\n",
    "print(f\"Elastic Net 回归均方误差 (MSE): {mse_elastic_net}\")\n",
    "print(f\"Elastic Net 平均绝对误差 (MAE): {mae_elastic_net}\")\n",
    "print(f\"Elastic Net 均方根误差 (RMSE): {rmse_elastic_net}\")"
   ]
  },
  {
   "cell_type": "markdown",
   "id": "df5e161c-6eab-4bac-b5f8-f5739a048b7b",
   "metadata": {},
   "source": [
    "# 进行预测"
   ]
  },
  {
   "cell_type": "code",
   "execution_count": 16,
   "id": "3f8f4f6f",
   "metadata": {
    "id": "2CB46E264BD1425F8586BF50950E2874",
    "notebookId": "67ed3cb75302e998c322ee0f",
    "papermill": {
     "duration": 4.964534,
     "end_time": "2025-03-31T00:09:21.181973",
     "exception": false,
     "start_time": "2025-03-31T00:09:16.217439",
     "status": "completed"
    },
    "slideshow": {
     "slide_type": "slide"
    },
    "tags": []
   },
   "outputs": [],
   "source": [
    "test_data = pd.read_csv('ruc_Class25Q1_test.csv')\n",
    "\n",
    "\n",
    "\n",
    "test_data['square'] = test_data['建筑面积'].apply(extract_area_value)\n",
    "test_data['units_elevator'] = test_data['梯户比例'].apply(calculate_units_per_elevator)\n",
    "test_data = time_interval(test_data)\n",
    "test_data['selling_point'] = test_data.apply(classify_core_selling_point, axis = 1)\n",
    "test_data['surrounding'] = test_data.apply(classify_surrounding, axis = 1)\n",
    "test_data['traffic'] = test_data.apply(classify_traffic, axis = 1)\n",
    "test_data = calculate_year_interval(test_data)\n",
    "test_data = pd.get_dummies(test_data, columns=categorical_features)"
   ]
  },
  {
   "cell_type": "code",
   "execution_count": 22,
   "id": "2c1ce96e",
   "metadata": {
    "id": "F3AB68CA60AE4BCFBA3E9FBD8FC0741A",
    "notebookId": "67ed3cb75302e998c322ee0f",
    "papermill": {
     "duration": 0.76674,
     "end_time": "2025-03-31T00:09:22.520176",
     "exception": false,
     "start_time": "2025-03-31T00:09:21.753436",
     "status": "completed"
    },
    "slideshow": {
     "slide_type": "slide"
    },
    "tags": []
   },
   "outputs": [
    {
     "name": "stdout",
     "output_type": "stream",
     "text": [
      "预测结果已保存为 prediction_result1.csv\n"
     ]
    }
   ],
   "source": [
    "# 提取房屋 ID 列\n",
    "house_ids = test_data['ID']\n",
    "\n",
    "# 检查 selected_features 中的特征是否在 test_data 中缺失\n",
    "missing_features = [feature for feature in selected_features if feature not in test_data.columns]\n",
    "\n",
    "# 为缺失的特征添加列，并将值设为 0\n",
    "for feature in missing_features:\n",
    "    test_data[feature] = 0\n",
    "# 选择相同的特征\n",
    "X_test_new = test_data[selected_features]\n",
    "\n",
    "# 计算每列的均值\n",
    "means = X_test_new.mean()\n",
    "\n",
    "# 使用均值填充缺失值\n",
    "X_test_new = X_test_new.fillna(means)\n",
    "\n",
    "\n",
    "\n",
    "# 使用训练好的模型进行预测\n",
    "y_pred_new = model.predict(X_test_new)\n",
    "\n",
    "# 创建包含房屋 ID 和预测价格的 DataFrame\n",
    "result_df = pd.DataFrame({\n",
    "    'ID': house_ids,\n",
    "    'Price': y_pred_new\n",
    "})\n",
    "\n",
    "# 将结果保存为 CSV 文件\n",
    "result_df.to_csv('prediction_result1.csv', index=False)\n",
    "\n",
    "print(\"预测结果已保存为 prediction_result1.csv\")\n"
   ]
  },
  {
   "cell_type": "code",
   "execution_count": 21,
   "id": "6d8be521",
   "metadata": {
    "id": "E83CC07F1DE24110BA527747267AFEC9",
    "notebookId": "67ed3cb75302e998c322ee0f",
    "papermill": {
     "duration": 0.767813,
     "end_time": "2025-03-31T00:09:23.817755",
     "exception": false,
     "start_time": "2025-03-31T00:09:23.049942",
     "status": "completed"
    },
    "slideshow": {
     "slide_type": "slide"
    },
    "tags": []
   },
   "outputs": [
    {
     "name": "stdout",
     "output_type": "stream",
     "text": [
      "预测结果已保存为 prediction_result2.csv\n"
     ]
    }
   ],
   "source": [
    "# 提取房屋 ID 列\n",
    "house_ids = test_data['ID']\n",
    "\n",
    "# 检查 selected_features 中的特征是否在 test_data 中缺失\n",
    "missing_features = [feature for feature in selected_features if feature not in test_data.columns]\n",
    "\n",
    "# 为缺失的特征添加列，并将值设为 0\n",
    "for feature in missing_features:\n",
    "    test_data[feature] = 0\n",
    "# 选择相同的特征\n",
    "X_test_new = test_data[selected_features]\n",
    "\n",
    "# 计算每列的均值\n",
    "means = X_test_new.mean()\n",
    "\n",
    "# 使用均值填充缺失值\n",
    "X_test_new = X_test_new.fillna(means)\n",
    "\n",
    "# 使用训练好的模型进行预测\n",
    "y_pred_new = ridge_model.predict(X_test_new)\n",
    "\n",
    "# 创建包含房屋 ID 和预测价格的 DataFrame\n",
    "result_df = pd.DataFrame({\n",
    "    'ID': house_ids,\n",
    "    'Price': y_pred_new\n",
    "})\n",
    "\n",
    "# 将结果保存为 CSV 文件\n",
    "result_df.to_csv('prediction_result2.csv', index=False)\n",
    "\n",
    "print(\"预测结果已保存为 prediction_result2.csv\")\n"
   ]
  },
  {
   "cell_type": "code",
   "execution_count": 18,
   "id": "b5ee82ed",
   "metadata": {
    "id": "AD4CE934649F4BF5BCC2D54B97D81DFA",
    "notebookId": "67ed3cb75302e998c322ee0f",
    "papermill": {
     "duration": 0.80388,
     "end_time": "2025-03-31T00:09:25.116992",
     "exception": false,
     "start_time": "2025-03-31T00:09:24.313112",
     "status": "completed"
    },
    "slideshow": {
     "slide_type": "slide"
    },
    "tags": []
   },
   "outputs": [
    {
     "name": "stdout",
     "output_type": "stream",
     "text": [
      "预测结果已保存为 prediction_result3.csv\n"
     ]
    }
   ],
   "source": [
    "# 提取房屋 ID 列\n",
    "house_ids = test_data['ID']\n",
    "\n",
    "# 检查 selected_features 中的特征是否在 test_data 中缺失\n",
    "missing_features = [feature for feature in selected_features if feature not in test_data.columns]\n",
    "\n",
    "# 为缺失的特征添加列，并将值设为 0\n",
    "for feature in missing_features:\n",
    "    test_data[feature] = 0\n",
    "# 选择相同的特征\n",
    "X_test_new = test_data[selected_features]\n",
    "\n",
    "# 计算每列的均值\n",
    "means = X_test_new.mean()\n",
    "\n",
    "# 使用均值填充缺失值\n",
    "X_test_new = X_test_new.fillna(means)\n",
    "\n",
    "# 使用训练好的模型进行预测\n",
    "y_pred_new = lasso_model.predict(X_test_new)\n",
    "\n",
    "# 创建包含房屋 ID 和预测价格的 DataFrame\n",
    "result_df = pd.DataFrame({\n",
    "    'ID': house_ids,\n",
    "    'Price': y_pred_new\n",
    "})\n",
    "\n",
    "# 将结果保存为 CSV 文件\n",
    "result_df.to_csv('prediction_result3.csv', index=False)\n",
    "\n",
    "print(\"预测结果已保存为 prediction_result3.csv\")\n"
   ]
  },
  {
   "cell_type": "code",
   "execution_count": 21,
   "id": "51c7b80d",
   "metadata": {
    "collapsed": false,
    "id": "53CBFD0D1646475AA989ED84AB7466F1",
    "jupyter": {
     "outputs_hidden": false
    },
    "notebookId": "67ed3cb75302e998c322ee0f",
    "slideshow": {
     "slide_type": "slide"
    },
    "tags": []
   },
   "outputs": [
    {
     "name": "stdout",
     "output_type": "stream",
     "text": [
      "预测结果已保存为 prediction_result4.csv\n"
     ]
    }
   ],
   "source": [
    "# 提取房屋 ID 列\n",
    "house_ids = test_data['ID']\n",
    "\n",
    "# 检查 selected_features 中的特征是否在 test_data 中缺失\n",
    "missing_features = [feature for feature in selected_features if feature not in test_data.columns]\n",
    "\n",
    "# 为缺失的特征添加列，并将值设为 0\n",
    "for feature in missing_features:\n",
    "    test_data[feature] = 0\n",
    "# 选择相同的特征\n",
    "X_test_new = test_data[selected_features]\n",
    "\n",
    "# 计算每列的均值\n",
    "means = X_test_new.mean()\n",
    "\n",
    "# 使用均值填充缺失值\n",
    "X_test_new = X_test_new.fillna(means)\n",
    "\n",
    "# 使用训练好的模型进行预测\n",
    "y_pred_new = elastic_net_model.predict(X_test_new)\n",
    "\n",
    "# 创建包含房屋 ID 和预测价格的 DataFrame\n",
    "result_df = pd.DataFrame({\n",
    "    'ID': house_ids,\n",
    "    'Price': y_pred_new\n",
    "})\n",
    "\n",
    "# 将结果保存为 CSV 文件\n",
    "result_df.to_csv('prediction_result4.csv', index=False)\n",
    "\n",
    "print(\"预测结果已保存为 prediction_result4.csv\")\n"
   ]
  },
  {
   "cell_type": "code",
   "execution_count": null,
   "id": "5ea7ba1e-f22e-4bd6-b718-36ad5ef7afeb",
   "metadata": {},
   "outputs": [],
   "source": []
  }
 ],
 "metadata": {
  "kernelspec": {
   "display_name": "Python 3 (ipykernel)",
   "language": "python",
   "name": "python3"
  },
  "language_info": {
   "codemirror_mode": {
    "name": "ipython",
    "version": 3
   },
   "file_extension": ".py",
   "mimetype": "text/x-python",
   "name": "python",
   "nbconvert_exporter": "python",
   "pygments_lexer": "ipython3",
   "version": "3.12.7"
  },
  "papermill": {
   "default_parameters": {},
   "duration": 52086.83648,
   "end_time": "2025-03-31T00:09:26.104685",
   "environment_variables": {},
   "exception": null,
   "input_path": "s3://mpi-job-outputs/67e911a1d7998f955bd5ada9/job.io",
   "output_path": "s3://mpi-job-outputs/67e911a1d7998f955bd5ada9/0.ipynb",
   "parameters": {},
   "start_time": "2025-03-30T09:41:19.268205",
   "version": "2.3.1"
  }
 },
 "nbformat": 4,
 "nbformat_minor": 5
}
