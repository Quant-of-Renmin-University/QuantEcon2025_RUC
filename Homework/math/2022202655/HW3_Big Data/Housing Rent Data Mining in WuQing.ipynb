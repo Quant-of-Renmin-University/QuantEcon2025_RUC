{
 "cells": [
  {
   "cell_type": "code",
   "execution_count": 1,
   "id": "d8779ffd-e1ee-4ade-9781-95daff238774",
   "metadata": {},
   "outputs": [],
   "source": [
    "from selenium import webdriver\n",
    "from time import sleep\n",
    "import pandas as pd\n",
    "from io import StringIO\n",
    "from functools import partial\n",
    "import matplotlib.pyplot as plt\n",
    "from selenium.webdriver.support import expected_conditions as EC\n",
    "from selenium.webdriver.common.by import By\n",
    "from selenium.common import NoSuchElementException,StaleElementReferenceException\n",
    "from matplotlib import style\n",
    "import re\n",
    "%matplotlib inline\n",
    "\n",
    "driver=webdriver.Edge()\n",
    "\n",
    "# 打开网页\n",
    "url = 'https://tj.zu.fang.com/house-a052/'\n",
    "driver.get(url)"
   ]
  },
  {
   "cell_type": "code",
   "execution_count": 2,
   "id": "7f4e5b7c-09ad-485e-b7f1-a2365d7dd61a",
   "metadata": {},
   "outputs": [
    {
     "name": "stdout",
     "output_type": "stream",
     "text": [
      "已成功读取第1页\n",
      "已成功读取第2页\n",
      "已成功读取第3页\n",
      "已成功读取第4页\n",
      "已成功读取第5页\n",
      "已成功读取第6页\n",
      "已成功读取第7页\n",
      "已成功读取第8页\n",
      "已成功读取第9页\n",
      "已成功读取第10页\n",
      "已成功读取第11页\n",
      "已成功读取第12页\n",
      "已成功读取第13页\n",
      "已成功读取第14页\n",
      "已成功读取第15页\n",
      "已成功读取第16页\n",
      "已成功读取第17页\n",
      "已成功读取第18页\n",
      "已成功读取第19页\n",
      "已成功读取第20页\n"
     ]
    }
   ],
   "source": [
    "string_list = []\n",
    "\n",
    "i = 0\n",
    "\n",
    "while i < 20:\n",
    "    table = driver.find_element('class name','houseList')\n",
    "    # 搜索表格的行\n",
    "    rows = table.find_elements(By.TAG_NAME, 'dl')\n",
    "\n",
    "    # 定义正则表达式模式\n",
    "    area_pattern = re.compile(r'(\\d+)㎡')\n",
    "    rent_pattern = re.compile(r'(\\d+)元/月')\n",
    "\n",
    "    # 初始化存储租金和面积的列表\n",
    "    areas = []\n",
    "    rents = []\n",
    "\n",
    "    # 遍历每一行\n",
    "    for row in rows:\n",
    "        cells = row.find_elements(By.TAG_NAME, 'p')\n",
    "        cells_text = ' '.join([cell.text for cell in cells])  # 将所有 p 元素的文本内容拼接成一个字符串\n",
    "        area_match = area_pattern.search(cells_text)\n",
    "        rent_match = rent_pattern.search(cells_text)\n",
    "        area = area_match.group(1) if area_match else None\n",
    "        rent = rent_match.group(1) if rent_match else None\n",
    "        areas.append(area)\n",
    "        rents.append(rent)\n",
    "\n",
    "    # 存储数据到 df\n",
    "    df = pd.DataFrame({\n",
    "    '面积（㎡）': areas,\n",
    "    '租金（元/月）': rents\n",
    "    })\n",
    "    string_list.append(df)\n",
    "    # 点击下一页\n",
    "    try:\n",
    "        next_page = driver.find_element('css selector','#rentid_D10_01 > a:nth-child(5)')\n",
    "        next_page.click()\n",
    "        i += 1\n",
    "        print(f\"已成功读取第{i}页\")\n",
    "    except NoSuchElementException:\n",
    "        break"
   ]
  },
  {
   "cell_type": "code",
   "execution_count": 3,
   "id": "450fc040-fda5-47c7-b941-bd6607928e10",
   "metadata": {},
   "outputs": [],
   "source": [
    "# 关闭浏览器\n",
    "driver.quit()"
   ]
  },
  {
   "cell_type": "code",
   "execution_count": 4,
   "id": "0f2d0206-5e56-4801-a5a8-cb2366ee5bd5",
   "metadata": {},
   "outputs": [],
   "source": [
    "df_full = pd.concat(string_list)"
   ]
  },
  {
   "cell_type": "code",
   "execution_count": 5,
   "id": "609ee9a5-d220-4e78-b81a-d9debb1a34cf",
   "metadata": {},
   "outputs": [
    {
     "name": "stdout",
     "output_type": "stream",
     "text": [
      "   面积（㎡） 租金（元/月）\n",
      "0     89    1300\n",
      "1     86    1500\n",
      "2     93    1400\n",
      "3     90    1300\n",
      "4     89    1200\n",
      "..   ...     ...\n",
      "1     85    1000\n",
      "2     87    1600\n",
      "3    119     700\n",
      "4     90    1580\n",
      "5     96    1600\n",
      "\n",
      "[228 rows x 2 columns]\n"
     ]
    }
   ],
   "source": [
    "print(df_full)"
   ]
  },
  {
   "cell_type": "code",
   "execution_count": 6,
   "id": "da63aa5a-13a1-4dcf-acf1-917fa38fd919",
   "metadata": {},
   "outputs": [
    {
     "name": "stdout",
     "output_type": "stream",
     "text": [
      "数据已成功导出到 Housing Rent Data in WuQing.csv 文件。\n"
     ]
    }
   ],
   "source": [
    "# 保存数据到 csv 文件\n",
    "df_full.to_csv('Housing Rent Data in WuQing.csv', index=False)\n",
    "print(\"数据已成功导出到 Housing Rent Data in WuQing.csv 文件。\")"
   ]
  },
  {
   "cell_type": "code",
   "execution_count": null,
   "id": "13003690-a8a8-45cd-ba2f-3c70239da4f2",
   "metadata": {},
   "outputs": [],
   "source": []
  }
 ],
 "metadata": {
  "kernelspec": {
   "display_name": "Python 3 (ipykernel)",
   "language": "python",
   "name": "python3"
  },
  "language_info": {
   "codemirror_mode": {
    "name": "ipython",
    "version": 3
   },
   "file_extension": ".py",
   "mimetype": "text/x-python",
   "name": "python",
   "nbconvert_exporter": "python",
   "pygments_lexer": "ipython3",
   "version": "3.12.7"
  }
 },
 "nbformat": 4,
 "nbformat_minor": 5
}
