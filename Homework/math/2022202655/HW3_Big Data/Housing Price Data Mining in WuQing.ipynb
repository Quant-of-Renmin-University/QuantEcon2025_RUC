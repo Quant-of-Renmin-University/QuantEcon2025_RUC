{
 "cells": [
  {
   "cell_type": "code",
   "execution_count": 1,
   "id": "42943c86-0498-458c-85b1-69ba236a92cc",
   "metadata": {},
   "outputs": [],
   "source": [
    "from selenium import webdriver\n",
    "from time import sleep\n",
    "import pandas as pd\n",
    "from io import StringIO\n",
    "from functools import partial\n",
    "import matplotlib.pyplot as plt\n",
    "from selenium.webdriver.support import expected_conditions as EC\n",
    "from selenium.webdriver.common.by import By\n",
    "from selenium.common import NoSuchElementException,StaleElementReferenceException\n",
    "from matplotlib import style\n",
    "import re\n",
    "%matplotlib inline\n",
    "\n",
    "driver=webdriver.Edge()\n",
    "\n",
    "# 打开网页\n",
    "url = 'https://tj.esf.fang.com/house-a052/'\n",
    "driver.get(url)"
   ]
  },
  {
   "cell_type": "code",
   "execution_count": 2,
   "id": "a2090a49-6120-4d02-a79a-e1da07291ae8",
   "metadata": {},
   "outputs": [
    {
     "name": "stdout",
     "output_type": "stream",
     "text": [
      "已成功读取第1页\n",
      "已成功读取第2页\n",
      "已成功读取第3页\n",
      "已成功读取第4页\n",
      "已成功读取第5页\n",
      "已成功读取第6页\n",
      "已成功读取第7页\n",
      "已成功读取第8页\n",
      "已成功读取第9页\n",
      "已成功读取第10页\n",
      "已成功读取第11页\n",
      "已成功读取第12页\n",
      "已成功读取第13页\n",
      "已成功读取第14页\n",
      "已成功读取第15页\n",
      "已成功读取第16页\n",
      "已成功读取第17页\n",
      "已成功读取第18页\n",
      "已成功读取第19页\n",
      "已成功读取第20页\n"
     ]
    }
   ],
   "source": [
    "string_list = []\n",
    "\n",
    "i = 0\n",
    "\n",
    "while i < 1:\n",
    "    table = driver.find_element('class name','shop_list')\n",
    "    # 搜索表格的行\n",
    "    rows = table.find_elements(By.TAG_NAME, 'dl')\n",
    "\n",
    "    # 定义正则表达式模式\n",
    "    area_pattern = re.compile(r'(\\d+(?:\\.\\d+)?)㎡')\n",
    "    Tprice_pattern = re.compile(r'(?<!低于市场价)(\\d+(?:\\.\\d+)?)万(?=\\s*\\d+元/㎡|\\s*$)')\n",
    "    price_pattern = re.compile(r'(\\d+)元/㎡')\n",
    "    \n",
    "\n",
    "    # 初始化存储面积、总价和每平米房价的列表\n",
    "    areas = []\n",
    "    Tprices = []\n",
    "    prices = []\n",
    "\n",
    "    # 遍历每一行\n",
    "    for row in rows:\n",
    "        cells = row.find_elements(By.TAG_NAME, 'dd')\n",
    "        cells_text = ' '.join([cell.text for cell in cells])  # 将所有 dd 元素的文本内容拼接成一个字符串\n",
    "        area_match = area_pattern.search(cells_text)\n",
    "        Tprice_match = Tprice_pattern.search(cells_text)\n",
    "        price_match = price_pattern.search(cells_text)\n",
    "        area = area_match.group(1) if area_match else None\n",
    "        Tprice = Tprice_match.group(1) if Tprice_match else None\n",
    "        price = price_match.group(1) if price_match else None\n",
    "        areas.append(area)\n",
    "        Tprices.append(Tprice)\n",
    "        prices.append(price)\n",
    "\n",
    "    df = pd.DataFrame({\n",
    "    '面积（㎡）': areas,\n",
    "    '房价（万元）': Tprices,\n",
    "    '每平米房价（元/㎡）': prices\n",
    "    })\n",
    "    string_list.append(df)\n",
    "\n",
    "    # 点击下一页（第一页的 css selector 与后几页不同）\n",
    "    try:\n",
    "        next_page = driver.find_element('css selector','body > div.main1200.clearfix > div.main945.floatl > div.page_box > div > p:nth-child(10) > a')\n",
    "        next_page.click()\n",
    "        i += 1\n",
    "        print(f\"已成功读取第{i}页\")\n",
    "    except NoSuchElementException:\n",
    "        break\n",
    "\n",
    "\n",
    "while i < 20:\n",
    "    table = driver.find_element('class name','shop_list')\n",
    "    # 搜索表格的行\n",
    "    rows = table.find_elements(By.TAG_NAME, 'dl')\n",
    "\n",
    "    # 定义正则表达式模式\n",
    "    area_pattern = re.compile(r'(\\d+(?:\\.\\d+)?)㎡')\n",
    "    Tprice_pattern = re.compile(r'(?<!低于市场价)(\\d+(?:\\.\\d+)?)万(?=\\s*\\d+元/㎡|\\s*$)')\n",
    "    price_pattern = re.compile(r'(\\d+)元/㎡')\n",
    "    \n",
    "\n",
    "    # 初始化存储面积、总价和每平米房价的列表\n",
    "    areas = []\n",
    "    Tprices = []\n",
    "    prices = []\n",
    "\n",
    "    # 遍历每一行\n",
    "    for row in rows:\n",
    "        cells = row.find_elements(By.TAG_NAME, 'dd')\n",
    "        cells_text = ' '.join([cell.text for cell in cells])  # 将所有 dd 元素的文本内容拼接成一个字符串\n",
    "        area_match = area_pattern.search(cells_text)\n",
    "        Tprice_match = Tprice_pattern.search(cells_text)\n",
    "        price_match = price_pattern.search(cells_text)\n",
    "        area = area_match.group(1) if area_match else None\n",
    "        Tprice = Tprice_match.group(1) if Tprice_match else None\n",
    "        price = price_match.group(1) if price_match else None\n",
    "        areas.append(area)\n",
    "        Tprices.append(Tprice)\n",
    "        prices.append(price)\n",
    "\n",
    "    df = pd.DataFrame({\n",
    "    '面积（㎡）': areas,\n",
    "    '房价（万元）': Tprices,\n",
    "    '每平米房价（元/㎡）': prices\n",
    "    })\n",
    "    string_list.append(df)\n",
    "\n",
    "    # 点击下一页\n",
    "    try:\n",
    "        next_page = driver.find_element('css selector','body > div.main1200.clearfix > div.main945.floatl > div.page_box > div > p:nth-child(12) > a')\n",
    "        next_page.click()\n",
    "        i += 1\n",
    "        print(f\"已成功读取第{i}页\")\n",
    "    except NoSuchElementException:\n",
    "        break"
   ]
  },
  {
   "cell_type": "code",
   "execution_count": 3,
   "id": "ab8e8d31-e190-4f4f-862e-7c2b23ab17f2",
   "metadata": {},
   "outputs": [],
   "source": [
    "# 关闭浏览器\n",
    "driver.quit()"
   ]
  },
  {
   "cell_type": "code",
   "execution_count": 4,
   "id": "d6185508-78de-4877-b795-90eeb2f3ed30",
   "metadata": {},
   "outputs": [],
   "source": [
    "df_full = pd.concat(string_list)"
   ]
  },
  {
   "cell_type": "code",
   "execution_count": 5,
   "id": "f979e33d-54ef-4c53-9276-9d40683d97e4",
   "metadata": {},
   "outputs": [
    {
     "name": "stdout",
     "output_type": "stream",
     "text": [
      "     面积（㎡） 房价（万元） 每平米房价（元/㎡）\n",
      "0   134.19    152      11327\n",
      "1      107    105       9813\n",
      "2    85.43     91      10652\n",
      "3       98    100      10204\n",
      "4    79.51    115      14463\n",
      "..     ...    ...        ...\n",
      "55   81.74    136      16638\n",
      "56      96    100      10416\n",
      "57  102.36     95       9280\n",
      "58     158    158      10000\n",
      "59   83.88     57       6795\n",
      "\n",
      "[1200 rows x 3 columns]\n"
     ]
    }
   ],
   "source": [
    "print(df_full)"
   ]
  },
  {
   "cell_type": "code",
   "execution_count": 6,
   "id": "99933251-eb73-4e43-a3d0-eb2bfad259ae",
   "metadata": {},
   "outputs": [
    {
     "name": "stdout",
     "output_type": "stream",
     "text": [
      "数据已成功导出到 Housing Price Data in WuQing.csv 文件。\n"
     ]
    }
   ],
   "source": [
    "# 保存数据到 csv 文件\n",
    "df_full.to_csv('Housing Price Data in WuQing.csv', index=False)\n",
    "print(\"数据已成功导出到 Housing Price Data in WuQing.csv 文件。\")"
   ]
  },
  {
   "cell_type": "code",
   "execution_count": null,
   "id": "c0a7bdff-6144-4503-a925-af6f74f473a8",
   "metadata": {},
   "outputs": [],
   "source": []
  }
 ],
 "metadata": {
  "kernelspec": {
   "display_name": "Python 3 (ipykernel)",
   "language": "python",
   "name": "python3"
  },
  "language_info": {
   "codemirror_mode": {
    "name": "ipython",
    "version": 3
   },
   "file_extension": ".py",
   "mimetype": "text/x-python",
   "name": "python",
   "nbconvert_exporter": "python",
   "pygments_lexer": "ipython3",
   "version": "3.12.7"
  }
 },
 "nbformat": 4,
 "nbformat_minor": 5
}
