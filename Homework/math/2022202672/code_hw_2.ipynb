{
 "cells": [
  {
   "cell_type": "code",
   "execution_count": 1,
   "id": "44173ec1-f2b3-4a2a-b51d-641612f056da",
   "metadata": {},
   "outputs": [
    {
     "name": "stdout",
     "output_type": "stream",
     "text": [
      "Word生成成功: Applications\\Application_Harvard University_MA in Data Science.docx\n"
     ]
    },
    {
     "data": {
      "application/vnd.jupyter.widget-view+json": {
       "model_id": "833920718a9d4f449ddc473717f39e83",
       "version_major": 2,
       "version_minor": 0
      },
      "text/plain": [
       "  0%|          | 0/1 [00:00<?, ?it/s]"
      ]
     },
     "metadata": {},
     "output_type": "display_data"
    },
    {
     "name": "stdout",
     "output_type": "stream",
     "text": [
      "PDF生成成功: Applications\\Application_Harvard University_MA in Data Science.pdf\n",
      "Word生成成功: Applications\\Application_Harvard University_MA in Economics Department.docx\n"
     ]
    },
    {
     "data": {
      "application/vnd.jupyter.widget-view+json": {
       "model_id": "8a8761c95c8c425a9dea9fa903754230",
       "version_major": 2,
       "version_minor": 0
      },
      "text/plain": [
       "  0%|          | 0/1 [00:00<?, ?it/s]"
      ]
     },
     "metadata": {},
     "output_type": "display_data"
    },
    {
     "name": "stdout",
     "output_type": "stream",
     "text": [
      "PDF生成成功: Applications\\Application_Harvard University_MA in Economics Department.pdf\n",
      "Word生成成功: Applications\\Application_Harvard University_PhD in Statistics.docx\n"
     ]
    },
    {
     "data": {
      "application/vnd.jupyter.widget-view+json": {
       "model_id": "5bba6423b670492eb61df221d31dd5ee",
       "version_major": 2,
       "version_minor": 0
      },
      "text/plain": [
       "  0%|          | 0/1 [00:00<?, ?it/s]"
      ]
     },
     "metadata": {},
     "output_type": "display_data"
    },
    {
     "name": "stdout",
     "output_type": "stream",
     "text": [
      "PDF生成成功: Applications\\Application_Harvard University_PhD in Statistics.pdf\n",
      "Word生成成功: Applications\\Application_Massachusetts Insitute of Technology_PhD in Statistics.docx\n"
     ]
    },
    {
     "data": {
      "application/vnd.jupyter.widget-view+json": {
       "model_id": "1e0c53395c1244ab8c0cb03743f4b0aa",
       "version_major": 2,
       "version_minor": 0
      },
      "text/plain": [
       "  0%|          | 0/1 [00:00<?, ?it/s]"
      ]
     },
     "metadata": {},
     "output_type": "display_data"
    },
    {
     "name": "stdout",
     "output_type": "stream",
     "text": [
      "PDF生成成功: Applications\\Application_Massachusetts Insitute of Technology_PhD in Statistics.pdf\n",
      "Word生成成功: Applications\\Application_Massachusetts Insitute of Technology_MA in Data Science.docx\n"
     ]
    },
    {
     "data": {
      "application/vnd.jupyter.widget-view+json": {
       "model_id": "313eac8fbd964a4fae5d0b793cac3d21",
       "version_major": 2,
       "version_minor": 0
      },
      "text/plain": [
       "  0%|          | 0/1 [00:00<?, ?it/s]"
      ]
     },
     "metadata": {},
     "output_type": "display_data"
    },
    {
     "name": "stdout",
     "output_type": "stream",
     "text": [
      "PDF生成成功: Applications\\Application_Massachusetts Insitute of Technology_MA in Data Science.pdf\n",
      "Word生成成功: Applications\\Application_Massachusetts Insitute of Technology_MA in Economics Department.docx\n"
     ]
    },
    {
     "data": {
      "application/vnd.jupyter.widget-view+json": {
       "model_id": "af6ac0b0c3be42379aa4e2af1193f502",
       "version_major": 2,
       "version_minor": 0
      },
      "text/plain": [
       "  0%|          | 0/1 [00:00<?, ?it/s]"
      ]
     },
     "metadata": {},
     "output_type": "display_data"
    },
    {
     "name": "stdout",
     "output_type": "stream",
     "text": [
      "PDF生成成功: Applications\\Application_Massachusetts Insitute of Technology_MA in Economics Department.pdf\n",
      "Word生成成功: Applications\\Application_University pf California-Berkeley_MA in Data Science.docx\n"
     ]
    },
    {
     "data": {
      "application/vnd.jupyter.widget-view+json": {
       "model_id": "cdcf05f11b39439998d8d2a119e77415",
       "version_major": 2,
       "version_minor": 0
      },
      "text/plain": [
       "  0%|          | 0/1 [00:00<?, ?it/s]"
      ]
     },
     "metadata": {},
     "output_type": "display_data"
    },
    {
     "name": "stdout",
     "output_type": "stream",
     "text": [
      "PDF生成成功: Applications\\Application_University pf California-Berkeley_MA in Data Science.pdf\n",
      "Word生成成功: Applications\\Application_University pf California-Berkeley_MA in Economics Department.docx\n"
     ]
    },
    {
     "data": {
      "application/vnd.jupyter.widget-view+json": {
       "model_id": "6cb7efebeb744ab38f1a1a9ef236e7e2",
       "version_major": 2,
       "version_minor": 0
      },
      "text/plain": [
       "  0%|          | 0/1 [00:00<?, ?it/s]"
      ]
     },
     "metadata": {},
     "output_type": "display_data"
    },
    {
     "name": "stdout",
     "output_type": "stream",
     "text": [
      "PDF生成成功: Applications\\Application_University pf California-Berkeley_MA in Economics Department.pdf\n",
      "Word生成成功: Applications\\Application_University pf California-Berkeley_PhD in Statistics.docx\n"
     ]
    },
    {
     "data": {
      "application/vnd.jupyter.widget-view+json": {
       "model_id": "f636754ba53b411a92d7318512431380",
       "version_major": 2,
       "version_minor": 0
      },
      "text/plain": [
       "  0%|          | 0/1 [00:00<?, ?it/s]"
      ]
     },
     "metadata": {},
     "output_type": "display_data"
    },
    {
     "name": "stdout",
     "output_type": "stream",
     "text": [
      "PDF生成成功: Applications\\Application_University pf California-Berkeley_PhD in Statistics.pdf\n",
      "Word生成成功: Applications\\Application_University of Chicago_MA in Economics Department.docx\n"
     ]
    },
    {
     "data": {
      "application/vnd.jupyter.widget-view+json": {
       "model_id": "953b77ebe2fe4dcaaa5c14d6a15b0e9b",
       "version_major": 2,
       "version_minor": 0
      },
      "text/plain": [
       "  0%|          | 0/1 [00:00<?, ?it/s]"
      ]
     },
     "metadata": {},
     "output_type": "display_data"
    },
    {
     "name": "stdout",
     "output_type": "stream",
     "text": [
      "PDF生成成功: Applications\\Application_University of Chicago_MA in Economics Department.pdf\n",
      "Word生成成功: Applications\\Application_University of Chicago_PhD in Statistics.docx\n"
     ]
    },
    {
     "data": {
      "application/vnd.jupyter.widget-view+json": {
       "model_id": "b389bc9cd3694898803e1067edec3e86",
       "version_major": 2,
       "version_minor": 0
      },
      "text/plain": [
       "  0%|          | 0/1 [00:00<?, ?it/s]"
      ]
     },
     "metadata": {},
     "output_type": "display_data"
    },
    {
     "name": "stdout",
     "output_type": "stream",
     "text": [
      "PDF生成成功: Applications\\Application_University of Chicago_PhD in Statistics.pdf\n",
      "Word生成成功: Applications\\Application_University of Chicago_MA in Data Science.docx\n"
     ]
    },
    {
     "data": {
      "application/vnd.jupyter.widget-view+json": {
       "model_id": "0933e496bdd34241a1272bf9027cc94f",
       "version_major": 2,
       "version_minor": 0
      },
      "text/plain": [
       "  0%|          | 0/1 [00:00<?, ?it/s]"
      ]
     },
     "metadata": {},
     "output_type": "display_data"
    },
    {
     "name": "stdout",
     "output_type": "stream",
     "text": [
      "PDF生成成功: Applications\\Application_University of Chicago_MA in Data Science.pdf\n",
      "Word生成成功: Applications\\Application_Paris School of Economics_MA in Data Science.docx\n"
     ]
    },
    {
     "data": {
      "application/vnd.jupyter.widget-view+json": {
       "model_id": "bf9e80a8e491465c9131ce60a3b83e82",
       "version_major": 2,
       "version_minor": 0
      },
      "text/plain": [
       "  0%|          | 0/1 [00:00<?, ?it/s]"
      ]
     },
     "metadata": {},
     "output_type": "display_data"
    },
    {
     "name": "stdout",
     "output_type": "stream",
     "text": [
      "PDF生成成功: Applications\\Application_Paris School of Economics_MA in Data Science.pdf\n",
      "Word生成成功: Applications\\Application_Paris School of Economics_MA in Economics Department.docx\n"
     ]
    },
    {
     "data": {
      "application/vnd.jupyter.widget-view+json": {
       "model_id": "1dbb9ff401a24abf9cce9dc2e8f58f61",
       "version_major": 2,
       "version_minor": 0
      },
      "text/plain": [
       "  0%|          | 0/1 [00:00<?, ?it/s]"
      ]
     },
     "metadata": {},
     "output_type": "display_data"
    },
    {
     "name": "stdout",
     "output_type": "stream",
     "text": [
      "PDF生成成功: Applications\\Application_Paris School of Economics_MA in Economics Department.pdf\n",
      "Word生成成功: Applications\\Application_Paris School of Economics_PhD in Statistics.docx\n"
     ]
    },
    {
     "data": {
      "application/vnd.jupyter.widget-view+json": {
       "model_id": "128648f4b8d0490985ce77b1e088dcbb",
       "version_major": 2,
       "version_minor": 0
      },
      "text/plain": [
       "  0%|          | 0/1 [00:00<?, ?it/s]"
      ]
     },
     "metadata": {},
     "output_type": "display_data"
    },
    {
     "name": "stdout",
     "output_type": "stream",
     "text": [
      "PDF生成成功: Applications\\Application_Paris School of Economics_PhD in Statistics.pdf\n",
      "Word生成成功: Applications\\Application_Princeton University_MA in Economics Department.docx\n"
     ]
    },
    {
     "data": {
      "application/vnd.jupyter.widget-view+json": {
       "model_id": "75639123877c46ef9d1f48c5fe7fa110",
       "version_major": 2,
       "version_minor": 0
      },
      "text/plain": [
       "  0%|          | 0/1 [00:00<?, ?it/s]"
      ]
     },
     "metadata": {},
     "output_type": "display_data"
    },
    {
     "name": "stdout",
     "output_type": "stream",
     "text": [
      "PDF生成成功: Applications\\Application_Princeton University_MA in Economics Department.pdf\n",
      "Word生成成功: Applications\\Application_Princeton University_PhD in Statistics.docx\n"
     ]
    },
    {
     "data": {
      "application/vnd.jupyter.widget-view+json": {
       "model_id": "8e7d13a3db1c4099bf188c9ad35abe40",
       "version_major": 2,
       "version_minor": 0
      },
      "text/plain": [
       "  0%|          | 0/1 [00:00<?, ?it/s]"
      ]
     },
     "metadata": {},
     "output_type": "display_data"
    },
    {
     "name": "stdout",
     "output_type": "stream",
     "text": [
      "PDF生成成功: Applications\\Application_Princeton University_PhD in Statistics.pdf\n",
      "Word生成成功: Applications\\Application_Princeton University_MA in Data Science.docx\n"
     ]
    },
    {
     "data": {
      "application/vnd.jupyter.widget-view+json": {
       "model_id": "4744a149903a4b02ba1c385625e698f0",
       "version_major": 2,
       "version_minor": 0
      },
      "text/plain": [
       "  0%|          | 0/1 [00:00<?, ?it/s]"
      ]
     },
     "metadata": {},
     "output_type": "display_data"
    },
    {
     "name": "stdout",
     "output_type": "stream",
     "text": [
      "PDF生成成功: Applications\\Application_Princeton University_MA in Data Science.pdf\n",
      "Word生成成功: Applications\\Application_Stanford University_MA in Data Science.docx\n"
     ]
    },
    {
     "data": {
      "application/vnd.jupyter.widget-view+json": {
       "model_id": "4ab93cb1814b4070b52bfee290271348",
       "version_major": 2,
       "version_minor": 0
      },
      "text/plain": [
       "  0%|          | 0/1 [00:00<?, ?it/s]"
      ]
     },
     "metadata": {},
     "output_type": "display_data"
    },
    {
     "name": "stdout",
     "output_type": "stream",
     "text": [
      "PDF生成成功: Applications\\Application_Stanford University_MA in Data Science.pdf\n",
      "Word生成成功: Applications\\Application_Stanford University_MA in Data Science.docx\n"
     ]
    },
    {
     "data": {
      "application/vnd.jupyter.widget-view+json": {
       "model_id": "7e712e978ca7431fb3b6000f84c0d838",
       "version_major": 2,
       "version_minor": 0
      },
      "text/plain": [
       "  0%|          | 0/1 [00:00<?, ?it/s]"
      ]
     },
     "metadata": {},
     "output_type": "display_data"
    },
    {
     "name": "stdout",
     "output_type": "stream",
     "text": [
      "PDF生成成功: Applications\\Application_Stanford University_MA in Data Science.pdf\n",
      "Word生成成功: Applications\\Application_Stanford University_MA in Economics Department.docx\n"
     ]
    },
    {
     "data": {
      "application/vnd.jupyter.widget-view+json": {
       "model_id": "f92aa07034d34b80a5b7cec479723ee5",
       "version_major": 2,
       "version_minor": 0
      },
      "text/plain": [
       "  0%|          | 0/1 [00:00<?, ?it/s]"
      ]
     },
     "metadata": {},
     "output_type": "display_data"
    },
    {
     "name": "stdout",
     "output_type": "stream",
     "text": [
      "PDF生成成功: Applications\\Application_Stanford University_MA in Economics Department.pdf\n",
      "Word生成成功: Applications\\Application_Toulouse School of Economics_MA in Economics Department.docx\n"
     ]
    },
    {
     "data": {
      "application/vnd.jupyter.widget-view+json": {
       "model_id": "bbcdfa93e2dc4ba9bc568cf47dce4464",
       "version_major": 2,
       "version_minor": 0
      },
      "text/plain": [
       "  0%|          | 0/1 [00:00<?, ?it/s]"
      ]
     },
     "metadata": {},
     "output_type": "display_data"
    },
    {
     "name": "stdout",
     "output_type": "stream",
     "text": [
      "PDF生成成功: Applications\\Application_Toulouse School of Economics_MA in Economics Department.pdf\n",
      "Word生成成功: Applications\\Application_Toulouse School of Economics_PhD in Statistics.docx\n"
     ]
    },
    {
     "data": {
      "application/vnd.jupyter.widget-view+json": {
       "model_id": "5e029b9102804970ac839e0376ccf0ad",
       "version_major": 2,
       "version_minor": 0
      },
      "text/plain": [
       "  0%|          | 0/1 [00:00<?, ?it/s]"
      ]
     },
     "metadata": {},
     "output_type": "display_data"
    },
    {
     "name": "stdout",
     "output_type": "stream",
     "text": [
      "PDF生成成功: Applications\\Application_Toulouse School of Economics_PhD in Statistics.pdf\n",
      "Word生成成功: Applications\\Application_Toulouse School of Economics_MA in Data Science.docx\n"
     ]
    },
    {
     "data": {
      "application/vnd.jupyter.widget-view+json": {
       "model_id": "591af5c2ba3e46b59cdc5e81b88719f2",
       "version_major": 2,
       "version_minor": 0
      },
      "text/plain": [
       "  0%|          | 0/1 [00:00<?, ?it/s]"
      ]
     },
     "metadata": {},
     "output_type": "display_data"
    },
    {
     "name": "stdout",
     "output_type": "stream",
     "text": [
      "PDF生成成功: Applications\\Application_Toulouse School of Economics_MA in Data Science.pdf\n",
      "Word生成成功: Applications\\Application_Oxford University_MA in Economics Department.docx\n"
     ]
    },
    {
     "data": {
      "application/vnd.jupyter.widget-view+json": {
       "model_id": "97957a3080b04839b3b1fc2ea72c9f49",
       "version_major": 2,
       "version_minor": 0
      },
      "text/plain": [
       "  0%|          | 0/1 [00:00<?, ?it/s]"
      ]
     },
     "metadata": {},
     "output_type": "display_data"
    },
    {
     "name": "stdout",
     "output_type": "stream",
     "text": [
      "PDF生成成功: Applications\\Application_Oxford University_MA in Economics Department.pdf\n",
      "Word生成成功: Applications\\Application_Oxford University_MA in Data Science.docx\n"
     ]
    },
    {
     "data": {
      "application/vnd.jupyter.widget-view+json": {
       "model_id": "70bca897b1a14b5b9cb6c98e98cb920f",
       "version_major": 2,
       "version_minor": 0
      },
      "text/plain": [
       "  0%|          | 0/1 [00:00<?, ?it/s]"
      ]
     },
     "metadata": {},
     "output_type": "display_data"
    },
    {
     "name": "stdout",
     "output_type": "stream",
     "text": [
      "PDF生成成功: Applications\\Application_Oxford University_MA in Data Science.pdf\n",
      "Word生成成功: Applications\\Application_Oxford University_PhD in Statistics.docx\n"
     ]
    },
    {
     "data": {
      "application/vnd.jupyter.widget-view+json": {
       "model_id": "885347dc452e4ed89c92b205d50d0e87",
       "version_major": 2,
       "version_minor": 0
      },
      "text/plain": [
       "  0%|          | 0/1 [00:00<?, ?it/s]"
      ]
     },
     "metadata": {},
     "output_type": "display_data"
    },
    {
     "name": "stdout",
     "output_type": "stream",
     "text": [
      "PDF生成成功: Applications\\Application_Oxford University_PhD in Statistics.pdf\n",
      "Word生成成功: Applications\\Application_Yale University_MA in Data Science.docx\n"
     ]
    },
    {
     "data": {
      "application/vnd.jupyter.widget-view+json": {
       "model_id": "9389bc6acb104151910bb7f0535109ae",
       "version_major": 2,
       "version_minor": 0
      },
      "text/plain": [
       "  0%|          | 0/1 [00:00<?, ?it/s]"
      ]
     },
     "metadata": {},
     "output_type": "display_data"
    },
    {
     "name": "stdout",
     "output_type": "stream",
     "text": [
      "PDF生成成功: Applications\\Application_Yale University_MA in Data Science.pdf\n",
      "Word生成成功: Applications\\Application_Yale University_MA in Economics Department.docx\n"
     ]
    },
    {
     "data": {
      "application/vnd.jupyter.widget-view+json": {
       "model_id": "0bacd96d49b24d089654496c098a1f8e",
       "version_major": 2,
       "version_minor": 0
      },
      "text/plain": [
       "  0%|          | 0/1 [00:00<?, ?it/s]"
      ]
     },
     "metadata": {},
     "output_type": "display_data"
    },
    {
     "name": "stdout",
     "output_type": "stream",
     "text": [
      "PDF生成成功: Applications\\Application_Yale University_MA in Economics Department.pdf\n",
      "Word生成成功: Applications\\Application_Yale University_PhD in Statistics.docx\n"
     ]
    },
    {
     "data": {
      "application/vnd.jupyter.widget-view+json": {
       "model_id": "d6a35bb9f328435f8c06f2dba098c659",
       "version_major": 2,
       "version_minor": 0
      },
      "text/plain": [
       "  0%|          | 0/1 [00:00<?, ?it/s]"
      ]
     },
     "metadata": {},
     "output_type": "display_data"
    },
    {
     "name": "stdout",
     "output_type": "stream",
     "text": [
      "PDF生成成功: Applications\\Application_Yale University_PhD in Statistics.pdf\n",
      "Word生成成功: Applications\\Application_Barcelona School of Economics_PhD in Statistics.docx\n"
     ]
    },
    {
     "data": {
      "application/vnd.jupyter.widget-view+json": {
       "model_id": "db3f905c1ae447959c7118278c76cefc",
       "version_major": 2,
       "version_minor": 0
      },
      "text/plain": [
       "  0%|          | 0/1 [00:00<?, ?it/s]"
      ]
     },
     "metadata": {},
     "output_type": "display_data"
    },
    {
     "name": "stdout",
     "output_type": "stream",
     "text": [
      "PDF生成成功: Applications\\Application_Barcelona School of Economics_PhD in Statistics.pdf\n",
      "Word生成成功: Applications\\Application_Barcelona School of Economics_MA in Data Science.docx\n"
     ]
    },
    {
     "data": {
      "application/vnd.jupyter.widget-view+json": {
       "model_id": "7d613d5ac4a0461aac3a5f10e66f4a76",
       "version_major": 2,
       "version_minor": 0
      },
      "text/plain": [
       "  0%|          | 0/1 [00:00<?, ?it/s]"
      ]
     },
     "metadata": {},
     "output_type": "display_data"
    },
    {
     "name": "stdout",
     "output_type": "stream",
     "text": [
      "PDF生成成功: Applications\\Application_Barcelona School of Economics_MA in Data Science.pdf\n",
      "Word生成成功: Applications\\Application_Barcelona School of Economics_MA in Economics Department.docx\n"
     ]
    },
    {
     "data": {
      "application/vnd.jupyter.widget-view+json": {
       "model_id": "79ed79952cc141e1a11473643e559d39",
       "version_major": 2,
       "version_minor": 0
      },
      "text/plain": [
       "  0%|          | 0/1 [00:00<?, ?it/s]"
      ]
     },
     "metadata": {},
     "output_type": "display_data"
    },
    {
     "name": "stdout",
     "output_type": "stream",
     "text": [
      "PDF生成成功: Applications\\Application_Barcelona School of Economics_MA in Economics Department.pdf\n",
      "Word生成成功: Applications\\Application_New York University_PhD in Statistics.docx\n"
     ]
    },
    {
     "data": {
      "application/vnd.jupyter.widget-view+json": {
       "model_id": "db5e62bc7a1b4e6c9f87462c996e9426",
       "version_major": 2,
       "version_minor": 0
      },
      "text/plain": [
       "  0%|          | 0/1 [00:00<?, ?it/s]"
      ]
     },
     "metadata": {},
     "output_type": "display_data"
    },
    {
     "name": "stdout",
     "output_type": "stream",
     "text": [
      "PDF生成成功: Applications\\Application_New York University_PhD in Statistics.pdf\n",
      "Word生成成功: Applications\\Application_New York University_MA in Economics Department.docx\n"
     ]
    },
    {
     "data": {
      "application/vnd.jupyter.widget-view+json": {
       "model_id": "2f633c0cba284011b986969c758169d7",
       "version_major": 2,
       "version_minor": 0
      },
      "text/plain": [
       "  0%|          | 0/1 [00:00<?, ?it/s]"
      ]
     },
     "metadata": {},
     "output_type": "display_data"
    },
    {
     "name": "stdout",
     "output_type": "stream",
     "text": [
      "PDF生成成功: Applications\\Application_New York University_MA in Economics Department.pdf\n",
      "Word生成成功: Applications\\Application_New York University_MA in Data Science.docx\n"
     ]
    },
    {
     "data": {
      "application/vnd.jupyter.widget-view+json": {
       "model_id": "afba029b767f4ffa8e20ae08ea5e49b1",
       "version_major": 2,
       "version_minor": 0
      },
      "text/plain": [
       "  0%|          | 0/1 [00:00<?, ?it/s]"
      ]
     },
     "metadata": {},
     "output_type": "display_data"
    },
    {
     "name": "stdout",
     "output_type": "stream",
     "text": [
      "PDF生成成功: Applications\\Application_New York University_MA in Data Science.pdf\n",
      "Word生成成功: Applications\\Application_Brown University_MA in Data Science.docx\n"
     ]
    },
    {
     "data": {
      "application/vnd.jupyter.widget-view+json": {
       "model_id": "2d625162abee4f4787e67e07b01e10f0",
       "version_major": 2,
       "version_minor": 0
      },
      "text/plain": [
       "  0%|          | 0/1 [00:00<?, ?it/s]"
      ]
     },
     "metadata": {},
     "output_type": "display_data"
    },
    {
     "name": "stdout",
     "output_type": "stream",
     "text": [
      "PDF生成成功: Applications\\Application_Brown University_MA in Data Science.pdf\n",
      "Word生成成功: Applications\\Application_Brown University_MA in Economics Department.docx\n"
     ]
    },
    {
     "data": {
      "application/vnd.jupyter.widget-view+json": {
       "model_id": "056a71bbb8dc4cb0935e7e3b13defcbf",
       "version_major": 2,
       "version_minor": 0
      },
      "text/plain": [
       "  0%|          | 0/1 [00:00<?, ?it/s]"
      ]
     },
     "metadata": {},
     "output_type": "display_data"
    },
    {
     "name": "stdout",
     "output_type": "stream",
     "text": [
      "PDF生成成功: Applications\\Application_Brown University_MA in Economics Department.pdf\n",
      "Word生成成功: Applications\\Application_Brown University_PhD in Statistics.docx\n"
     ]
    },
    {
     "data": {
      "application/vnd.jupyter.widget-view+json": {
       "model_id": "59a2179f607649bbbbb345b47d2e4f20",
       "version_major": 2,
       "version_minor": 0
      },
      "text/plain": [
       "  0%|          | 0/1 [00:00<?, ?it/s]"
      ]
     },
     "metadata": {},
     "output_type": "display_data"
    },
    {
     "name": "stdout",
     "output_type": "stream",
     "text": [
      "PDF生成成功: Applications\\Application_Brown University_PhD in Statistics.pdf\n",
      "Word生成成功: Applications\\Application_University of Pennsylvania_MA in Economics Department.docx\n"
     ]
    },
    {
     "data": {
      "application/vnd.jupyter.widget-view+json": {
       "model_id": "4d91ac81408b45ecbe5c6e9ca59fb5e0",
       "version_major": 2,
       "version_minor": 0
      },
      "text/plain": [
       "  0%|          | 0/1 [00:00<?, ?it/s]"
      ]
     },
     "metadata": {},
     "output_type": "display_data"
    },
    {
     "name": "stdout",
     "output_type": "stream",
     "text": [
      "PDF生成成功: Applications\\Application_University of Pennsylvania_MA in Economics Department.pdf\n",
      "Word生成成功: Applications\\Application_University of Pennsylvania_PhD in Statistics.docx\n"
     ]
    },
    {
     "data": {
      "application/vnd.jupyter.widget-view+json": {
       "model_id": "8731335c73c94173ac7debf66ddce647",
       "version_major": 2,
       "version_minor": 0
      },
      "text/plain": [
       "  0%|          | 0/1 [00:00<?, ?it/s]"
      ]
     },
     "metadata": {},
     "output_type": "display_data"
    },
    {
     "name": "stdout",
     "output_type": "stream",
     "text": [
      "PDF生成成功: Applications\\Application_University of Pennsylvania_PhD in Statistics.pdf\n",
      "Word生成成功: Applications\\Application_University of Pennsylvania_MA in Data Science.docx\n"
     ]
    },
    {
     "data": {
      "application/vnd.jupyter.widget-view+json": {
       "model_id": "e8e96cc96c6d4de5b25818b998f6b05f",
       "version_major": 2,
       "version_minor": 0
      },
      "text/plain": [
       "  0%|          | 0/1 [00:00<?, ?it/s]"
      ]
     },
     "metadata": {},
     "output_type": "display_data"
    },
    {
     "name": "stdout",
     "output_type": "stream",
     "text": [
      "PDF生成成功: Applications\\Application_University of Pennsylvania_MA in Data Science.pdf\n",
      "Word生成成功: Applications\\Application_Bonston University_PhD in Statistics.docx\n"
     ]
    },
    {
     "data": {
      "application/vnd.jupyter.widget-view+json": {
       "model_id": "0c0aa536e73a4487946722e459c4f98e",
       "version_major": 2,
       "version_minor": 0
      },
      "text/plain": [
       "  0%|          | 0/1 [00:00<?, ?it/s]"
      ]
     },
     "metadata": {},
     "output_type": "display_data"
    },
    {
     "name": "stdout",
     "output_type": "stream",
     "text": [
      "PDF生成成功: Applications\\Application_Bonston University_PhD in Statistics.pdf\n",
      "Word生成成功: Applications\\Application_Bonston University_MA in Data Science.docx\n"
     ]
    },
    {
     "data": {
      "application/vnd.jupyter.widget-view+json": {
       "model_id": "ffe8b8b8a3b34306b19151789282a1b4",
       "version_major": 2,
       "version_minor": 0
      },
      "text/plain": [
       "  0%|          | 0/1 [00:00<?, ?it/s]"
      ]
     },
     "metadata": {},
     "output_type": "display_data"
    },
    {
     "name": "stdout",
     "output_type": "stream",
     "text": [
      "PDF生成成功: Applications\\Application_Bonston University_MA in Data Science.pdf\n",
      "Word生成成功: Applications\\Application_Bonston University_MA in Economics Department.docx\n"
     ]
    },
    {
     "data": {
      "application/vnd.jupyter.widget-view+json": {
       "model_id": "df9efb0560dd421fa80c9a1027ce9c5a",
       "version_major": 2,
       "version_minor": 0
      },
      "text/plain": [
       "  0%|          | 0/1 [00:00<?, ?it/s]"
      ]
     },
     "metadata": {},
     "output_type": "display_data"
    },
    {
     "name": "stdout",
     "output_type": "stream",
     "text": [
      "PDF生成成功: Applications\\Application_Bonston University_MA in Economics Department.pdf\n",
      "Word生成成功: Applications\\Application_London School of Economics_MA in Economics Department.docx\n"
     ]
    },
    {
     "data": {
      "application/vnd.jupyter.widget-view+json": {
       "model_id": "dd40b980be124f5aa5a47df10a6c5b08",
       "version_major": 2,
       "version_minor": 0
      },
      "text/plain": [
       "  0%|          | 0/1 [00:00<?, ?it/s]"
      ]
     },
     "metadata": {},
     "output_type": "display_data"
    },
    {
     "name": "stdout",
     "output_type": "stream",
     "text": [
      "PDF生成成功: Applications\\Application_London School of Economics_MA in Economics Department.pdf\n",
      "Word生成成功: Applications\\Application_London School of Economics_MA in Data Science.docx\n"
     ]
    },
    {
     "data": {
      "application/vnd.jupyter.widget-view+json": {
       "model_id": "b257e5af191f4606aa7851ba057aa51b",
       "version_major": 2,
       "version_minor": 0
      },
      "text/plain": [
       "  0%|          | 0/1 [00:00<?, ?it/s]"
      ]
     },
     "metadata": {},
     "output_type": "display_data"
    },
    {
     "name": "stdout",
     "output_type": "stream",
     "text": [
      "PDF生成成功: Applications\\Application_London School of Economics_MA in Data Science.pdf\n",
      "Word生成成功: Applications\\Application_London School of Economics_PhD in Statistics.docx\n"
     ]
    },
    {
     "data": {
      "application/vnd.jupyter.widget-view+json": {
       "model_id": "e4bf0bd410954113b31a89ad6e5fa2c9",
       "version_major": 2,
       "version_minor": 0
      },
      "text/plain": [
       "  0%|          | 0/1 [00:00<?, ?it/s]"
      ]
     },
     "metadata": {},
     "output_type": "display_data"
    },
    {
     "name": "stdout",
     "output_type": "stream",
     "text": [
      "PDF生成成功: Applications\\Application_London School of Economics_PhD in Statistics.pdf\n",
      "Word生成成功: Applications\\Application_University College London_MA in Data Science.docx\n"
     ]
    },
    {
     "data": {
      "application/vnd.jupyter.widget-view+json": {
       "model_id": "98b7608e126142f68cce1a64388edf7d",
       "version_major": 2,
       "version_minor": 0
      },
      "text/plain": [
       "  0%|          | 0/1 [00:00<?, ?it/s]"
      ]
     },
     "metadata": {},
     "output_type": "display_data"
    },
    {
     "name": "stdout",
     "output_type": "stream",
     "text": [
      "PDF生成成功: Applications\\Application_University College London_MA in Data Science.pdf\n",
      "Word生成成功: Applications\\Application_University College London_MA in Economics Department.docx\n"
     ]
    },
    {
     "data": {
      "application/vnd.jupyter.widget-view+json": {
       "model_id": "4c8a6fc519ae4b4eb910458721f87cde",
       "version_major": 2,
       "version_minor": 0
      },
      "text/plain": [
       "  0%|          | 0/1 [00:00<?, ?it/s]"
      ]
     },
     "metadata": {},
     "output_type": "display_data"
    },
    {
     "name": "stdout",
     "output_type": "stream",
     "text": [
      "PDF生成成功: Applications\\Application_University College London_MA in Economics Department.pdf\n",
      "Word生成成功: Applications\\Application_University College London_PhD in Statistics.docx\n"
     ]
    },
    {
     "data": {
      "application/vnd.jupyter.widget-view+json": {
       "model_id": "e805754c8e8c434ba8983d5e67550b4c",
       "version_major": 2,
       "version_minor": 0
      },
      "text/plain": [
       "  0%|          | 0/1 [00:00<?, ?it/s]"
      ]
     },
     "metadata": {},
     "output_type": "display_data"
    },
    {
     "name": "stdout",
     "output_type": "stream",
     "text": [
      "PDF生成成功: Applications\\Application_University College London_PhD in Statistics.pdf\n",
      "Word生成成功: Applications\\Application_University of California-San Diego_MA in Economics Department.docx\n"
     ]
    },
    {
     "data": {
      "application/vnd.jupyter.widget-view+json": {
       "model_id": "6d685ed3d5ec4083bb5dfac6c1a3d739",
       "version_major": 2,
       "version_minor": 0
      },
      "text/plain": [
       "  0%|          | 0/1 [00:00<?, ?it/s]"
      ]
     },
     "metadata": {},
     "output_type": "display_data"
    },
    {
     "name": "stdout",
     "output_type": "stream",
     "text": [
      "PDF生成成功: Applications\\Application_University of California-San Diego_MA in Economics Department.pdf\n",
      "Word生成成功: Applications\\Application_University of California-San Diego_PhD in Statistics.docx\n"
     ]
    },
    {
     "data": {
      "application/vnd.jupyter.widget-view+json": {
       "model_id": "52bc9f34296b4ee293729a69abab3cff",
       "version_major": 2,
       "version_minor": 0
      },
      "text/plain": [
       "  0%|          | 0/1 [00:00<?, ?it/s]"
      ]
     },
     "metadata": {},
     "output_type": "display_data"
    },
    {
     "name": "stdout",
     "output_type": "stream",
     "text": [
      "PDF生成成功: Applications\\Application_University of California-San Diego_PhD in Statistics.pdf\n",
      "Word生成成功: Applications\\Application_University of California-San Diego_MA in Data Science.docx\n"
     ]
    },
    {
     "data": {
      "application/vnd.jupyter.widget-view+json": {
       "model_id": "8b1ffeacff5d48c388f6ba420b0b73d1",
       "version_major": 2,
       "version_minor": 0
      },
      "text/plain": [
       "  0%|          | 0/1 [00:00<?, ?it/s]"
      ]
     },
     "metadata": {},
     "output_type": "display_data"
    },
    {
     "name": "stdout",
     "output_type": "stream",
     "text": [
      "PDF生成成功: Applications\\Application_University of California-San Diego_MA in Data Science.pdf\n",
      "Word生成成功: Applications\\Application_Northwestern University_MA in Data Science.docx\n"
     ]
    },
    {
     "data": {
      "application/vnd.jupyter.widget-view+json": {
       "model_id": "a0073ff953864e0aaa4dff8f3028558c",
       "version_major": 2,
       "version_minor": 0
      },
      "text/plain": [
       "  0%|          | 0/1 [00:00<?, ?it/s]"
      ]
     },
     "metadata": {},
     "output_type": "display_data"
    },
    {
     "name": "stdout",
     "output_type": "stream",
     "text": [
      "PDF生成成功: Applications\\Application_Northwestern University_MA in Data Science.pdf\n",
      "Word生成成功: Applications\\Application_Northwestern University_MA in Economics Department.docx\n"
     ]
    },
    {
     "data": {
      "application/vnd.jupyter.widget-view+json": {
       "model_id": "ebbd3879d73041bfad3efcf4bf8d68ef",
       "version_major": 2,
       "version_minor": 0
      },
      "text/plain": [
       "  0%|          | 0/1 [00:00<?, ?it/s]"
      ]
     },
     "metadata": {},
     "output_type": "display_data"
    },
    {
     "name": "stdout",
     "output_type": "stream",
     "text": [
      "PDF生成成功: Applications\\Application_Northwestern University_MA in Economics Department.pdf\n",
      "Word生成成功: Applications\\Application_Northwestern University_PhD in Statistics.docx\n"
     ]
    },
    {
     "data": {
      "application/vnd.jupyter.widget-view+json": {
       "model_id": "24eec0fd78804e3aa857e21a1f3282be",
       "version_major": 2,
       "version_minor": 0
      },
      "text/plain": [
       "  0%|          | 0/1 [00:00<?, ?it/s]"
      ]
     },
     "metadata": {},
     "output_type": "display_data"
    },
    {
     "name": "stdout",
     "output_type": "stream",
     "text": [
      "PDF生成成功: Applications\\Application_Northwestern University_PhD in Statistics.pdf\n",
      "Word生成成功: Applications\\Application_Dartmouth Collge_MA in Economics Department.docx\n"
     ]
    },
    {
     "data": {
      "application/vnd.jupyter.widget-view+json": {
       "model_id": "652374589ad24424b997bb2418ce239c",
       "version_major": 2,
       "version_minor": 0
      },
      "text/plain": [
       "  0%|          | 0/1 [00:00<?, ?it/s]"
      ]
     },
     "metadata": {},
     "output_type": "display_data"
    },
    {
     "name": "stdout",
     "output_type": "stream",
     "text": [
      "PDF生成成功: Applications\\Application_Dartmouth Collge_MA in Economics Department.pdf\n",
      "Word生成成功: Applications\\Application_Dartmouth Collge_PhD in Statistics.docx\n"
     ]
    },
    {
     "data": {
      "application/vnd.jupyter.widget-view+json": {
       "model_id": "6218ec27e8f94b9596f918005bcd7a5e",
       "version_major": 2,
       "version_minor": 0
      },
      "text/plain": [
       "  0%|          | 0/1 [00:00<?, ?it/s]"
      ]
     },
     "metadata": {},
     "output_type": "display_data"
    },
    {
     "name": "stdout",
     "output_type": "stream",
     "text": [
      "PDF生成成功: Applications\\Application_Dartmouth Collge_PhD in Statistics.pdf\n",
      "Word生成成功: Applications\\Application_Dartmouth Collge_MA in Data Science.docx\n"
     ]
    },
    {
     "data": {
      "application/vnd.jupyter.widget-view+json": {
       "model_id": "07a7817829524b008e3949e7bca36b36",
       "version_major": 2,
       "version_minor": 0
      },
      "text/plain": [
       "  0%|          | 0/1 [00:00<?, ?it/s]"
      ]
     },
     "metadata": {},
     "output_type": "display_data"
    },
    {
     "name": "stdout",
     "output_type": "stream",
     "text": [
      "PDF生成成功: Applications\\Application_Dartmouth Collge_MA in Data Science.pdf\n",
      "Word生成成功: Applications\\Application_University of Michigan_PhD in Statistics.docx\n"
     ]
    },
    {
     "data": {
      "application/vnd.jupyter.widget-view+json": {
       "model_id": "b5c5d4d7d73946a483d0bcc22613f6b9",
       "version_major": 2,
       "version_minor": 0
      },
      "text/plain": [
       "  0%|          | 0/1 [00:00<?, ?it/s]"
      ]
     },
     "metadata": {},
     "output_type": "display_data"
    },
    {
     "name": "stdout",
     "output_type": "stream",
     "text": [
      "PDF生成成功: Applications\\Application_University of Michigan_PhD in Statistics.pdf\n",
      "Word生成成功: Applications\\Application_University of Michigan_MA in Data Science.docx\n"
     ]
    },
    {
     "data": {
      "application/vnd.jupyter.widget-view+json": {
       "model_id": "a0d754ef59af4116bd6a9c82e96bbcad",
       "version_major": 2,
       "version_minor": 0
      },
      "text/plain": [
       "  0%|          | 0/1 [00:00<?, ?it/s]"
      ]
     },
     "metadata": {},
     "output_type": "display_data"
    },
    {
     "name": "stdout",
     "output_type": "stream",
     "text": [
      "PDF生成成功: Applications\\Application_University of Michigan_MA in Data Science.pdf\n",
      "Word生成成功: Applications\\Application_University of Michigan_MA in Economics Department.docx\n"
     ]
    },
    {
     "data": {
      "application/vnd.jupyter.widget-view+json": {
       "model_id": "3af53cde670c4a7ca4f310d13976db3b",
       "version_major": 2,
       "version_minor": 0
      },
      "text/plain": [
       "  0%|          | 0/1 [00:00<?, ?it/s]"
      ]
     },
     "metadata": {},
     "output_type": "display_data"
    },
    {
     "name": "stdout",
     "output_type": "stream",
     "text": [
      "PDF生成成功: Applications\\Application_University of Michigan_MA in Economics Department.pdf\n",
      "Word生成成功: Applications\\Application_Universiteit van Tilburg_MA in Economics Department.docx\n"
     ]
    },
    {
     "data": {
      "application/vnd.jupyter.widget-view+json": {
       "model_id": "4f0dadfa99dc44d6bc7570e283c24b47",
       "version_major": 2,
       "version_minor": 0
      },
      "text/plain": [
       "  0%|          | 0/1 [00:00<?, ?it/s]"
      ]
     },
     "metadata": {},
     "output_type": "display_data"
    },
    {
     "name": "stdout",
     "output_type": "stream",
     "text": [
      "PDF生成成功: Applications\\Application_Universiteit van Tilburg_MA in Economics Department.pdf\n",
      "Word生成成功: Applications\\Application_Universiteit van Tilburg_MA in Data Science.docx\n"
     ]
    },
    {
     "data": {
      "application/vnd.jupyter.widget-view+json": {
       "model_id": "e9c19b517ae94576b37f91d1894a0a63",
       "version_major": 2,
       "version_minor": 0
      },
      "text/plain": [
       "  0%|          | 0/1 [00:00<?, ?it/s]"
      ]
     },
     "metadata": {},
     "output_type": "display_data"
    },
    {
     "name": "stdout",
     "output_type": "stream",
     "text": [
      "PDF生成成功: Applications\\Application_Universiteit van Tilburg_MA in Data Science.pdf\n",
      "Word生成成功: Applications\\Application_Universiteit van Tilburg_PhD in Statistics.docx\n"
     ]
    },
    {
     "data": {
      "application/vnd.jupyter.widget-view+json": {
       "model_id": "d658ed9e4a1141c996a3dbcb60a41291",
       "version_major": 2,
       "version_minor": 0
      },
      "text/plain": [
       "  0%|          | 0/1 [00:00<?, ?it/s]"
      ]
     },
     "metadata": {},
     "output_type": "display_data"
    },
    {
     "name": "stdout",
     "output_type": "stream",
     "text": [
      "PDF生成成功: Applications\\Application_Universiteit van Tilburg_PhD in Statistics.pdf\n",
      "Word生成成功: Applications\\Application_Universtiy of California-Los Angeles_PhD in Statistics.docx\n"
     ]
    },
    {
     "data": {
      "application/vnd.jupyter.widget-view+json": {
       "model_id": "6565be524c414b18874019b435bf8d09",
       "version_major": 2,
       "version_minor": 0
      },
      "text/plain": [
       "  0%|          | 0/1 [00:00<?, ?it/s]"
      ]
     },
     "metadata": {},
     "output_type": "display_data"
    },
    {
     "name": "stdout",
     "output_type": "stream",
     "text": [
      "PDF生成成功: Applications\\Application_Universtiy of California-Los Angeles_PhD in Statistics.pdf\n",
      "Word生成成功: Applications\\Application_Universtiy of California-Los Angeles_MA in Economics Department.docx\n"
     ]
    },
    {
     "data": {
      "application/vnd.jupyter.widget-view+json": {
       "model_id": "c43166509fbb4329b2c4de6823e65314",
       "version_major": 2,
       "version_minor": 0
      },
      "text/plain": [
       "  0%|          | 0/1 [00:00<?, ?it/s]"
      ]
     },
     "metadata": {},
     "output_type": "display_data"
    },
    {
     "name": "stdout",
     "output_type": "stream",
     "text": [
      "PDF生成成功: Applications\\Application_Universtiy of California-Los Angeles_MA in Economics Department.pdf\n",
      "Word生成成功: Applications\\Application_Universtiy of California-Los Angeles_MA in Data Science.docx\n"
     ]
    },
    {
     "data": {
      "application/vnd.jupyter.widget-view+json": {
       "model_id": "913c352829a44febb071a457d924a3a5",
       "version_major": 2,
       "version_minor": 0
      },
      "text/plain": [
       "  0%|          | 0/1 [00:00<?, ?it/s]"
      ]
     },
     "metadata": {},
     "output_type": "display_data"
    },
    {
     "name": "stdout",
     "output_type": "stream",
     "text": [
      "PDF生成成功: Applications\\Application_Universtiy of California-Los Angeles_MA in Data Science.pdf\n",
      "Word生成成功: Applications\\Application_University of Southern California_MA in Data Science.docx\n"
     ]
    },
    {
     "data": {
      "application/vnd.jupyter.widget-view+json": {
       "model_id": "87c66c0bb5cb4964aca56dff3ad3b1e2",
       "version_major": 2,
       "version_minor": 0
      },
      "text/plain": [
       "  0%|          | 0/1 [00:00<?, ?it/s]"
      ]
     },
     "metadata": {},
     "output_type": "display_data"
    },
    {
     "name": "stdout",
     "output_type": "stream",
     "text": [
      "PDF生成成功: Applications\\Application_University of Southern California_MA in Data Science.pdf\n",
      "Word生成成功: Applications\\Application_University of Southern California_PhD in Statistics.docx\n"
     ]
    },
    {
     "data": {
      "application/vnd.jupyter.widget-view+json": {
       "model_id": "87fc01759e45491290416a88d65cb6cf",
       "version_major": 2,
       "version_minor": 0
      },
      "text/plain": [
       "  0%|          | 0/1 [00:00<?, ?it/s]"
      ]
     },
     "metadata": {},
     "output_type": "display_data"
    },
    {
     "name": "stdout",
     "output_type": "stream",
     "text": [
      "PDF生成成功: Applications\\Application_University of Southern California_PhD in Statistics.pdf\n",
      "Word生成成功: Applications\\Application_University of Southern California_MA in Economics Department.docx\n"
     ]
    },
    {
     "data": {
      "application/vnd.jupyter.widget-view+json": {
       "model_id": "1580804d78f44b49855dde2d2f3fcaf4",
       "version_major": 2,
       "version_minor": 0
      },
      "text/plain": [
       "  0%|          | 0/1 [00:00<?, ?it/s]"
      ]
     },
     "metadata": {},
     "output_type": "display_data"
    },
    {
     "name": "stdout",
     "output_type": "stream",
     "text": [
      "PDF生成成功: Applications\\Application_University of Southern California_MA in Economics Department.pdf\n",
      "Word生成成功: Applications\\Application_University of British Columbia_PhD in Statistics.docx\n"
     ]
    },
    {
     "data": {
      "application/vnd.jupyter.widget-view+json": {
       "model_id": "5a8306e15f95402fa3743277006682c9",
       "version_major": 2,
       "version_minor": 0
      },
      "text/plain": [
       "  0%|          | 0/1 [00:00<?, ?it/s]"
      ]
     },
     "metadata": {},
     "output_type": "display_data"
    },
    {
     "name": "stdout",
     "output_type": "stream",
     "text": [
      "PDF生成成功: Applications\\Application_University of British Columbia_PhD in Statistics.pdf\n",
      "Word生成成功: Applications\\Application_University of British Columbia_MA in Economics Department.docx\n"
     ]
    },
    {
     "data": {
      "application/vnd.jupyter.widget-view+json": {
       "model_id": "26f1a60929e94fb38b1b05f65a123994",
       "version_major": 2,
       "version_minor": 0
      },
      "text/plain": [
       "  0%|          | 0/1 [00:00<?, ?it/s]"
      ]
     },
     "metadata": {},
     "output_type": "display_data"
    },
    {
     "name": "stdout",
     "output_type": "stream",
     "text": [
      "PDF生成成功: Applications\\Application_University of British Columbia_MA in Economics Department.pdf\n",
      "Word生成成功: Applications\\Application_University of British Columbia_MA in Data Science.docx\n"
     ]
    },
    {
     "data": {
      "application/vnd.jupyter.widget-view+json": {
       "model_id": "9a870f4321ea4c908425c1c7a052021e",
       "version_major": 2,
       "version_minor": 0
      },
      "text/plain": [
       "  0%|          | 0/1 [00:00<?, ?it/s]"
      ]
     },
     "metadata": {},
     "output_type": "display_data"
    },
    {
     "name": "stdout",
     "output_type": "stream",
     "text": [
      "PDF生成成功: Applications\\Application_University of British Columbia_MA in Data Science.pdf\n",
      "Word生成成功: Applications\\Application_University of Wiesconsin-Madison_MA in Economics Department.docx\n"
     ]
    },
    {
     "data": {
      "application/vnd.jupyter.widget-view+json": {
       "model_id": "9fecfce6fb6b4c719e10fa3e22d91fcf",
       "version_major": 2,
       "version_minor": 0
      },
      "text/plain": [
       "  0%|          | 0/1 [00:00<?, ?it/s]"
      ]
     },
     "metadata": {},
     "output_type": "display_data"
    },
    {
     "name": "stdout",
     "output_type": "stream",
     "text": [
      "PDF生成成功: Applications\\Application_University of Wiesconsin-Madison_MA in Economics Department.pdf\n",
      "Word生成成功: Applications\\Application_University of Wiesconsin-Madison_MA in Data Science.docx\n"
     ]
    },
    {
     "data": {
      "application/vnd.jupyter.widget-view+json": {
       "model_id": "57a3ac71922a40aea8bff6a35353df49",
       "version_major": 2,
       "version_minor": 0
      },
      "text/plain": [
       "  0%|          | 0/1 [00:00<?, ?it/s]"
      ]
     },
     "metadata": {},
     "output_type": "display_data"
    },
    {
     "name": "stdout",
     "output_type": "stream",
     "text": [
      "PDF生成成功: Applications\\Application_University of Wiesconsin-Madison_MA in Data Science.pdf\n",
      "Word生成成功: Applications\\Application_University of Wiesconsin-Madison_PhD in Statistics.docx\n"
     ]
    },
    {
     "data": {
      "application/vnd.jupyter.widget-view+json": {
       "model_id": "eb291fe89300449e86cfaeb9ab7d0797",
       "version_major": 2,
       "version_minor": 0
      },
      "text/plain": [
       "  0%|          | 0/1 [00:00<?, ?it/s]"
      ]
     },
     "metadata": {},
     "output_type": "display_data"
    },
    {
     "name": "stdout",
     "output_type": "stream",
     "text": [
      "PDF生成成功: Applications\\Application_University of Wiesconsin-Madison_PhD in Statistics.pdf\n",
      "Word生成成功: Applications\\Application_University of Toronto_MA in Data Science.docx\n"
     ]
    },
    {
     "data": {
      "application/vnd.jupyter.widget-view+json": {
       "model_id": "65aaffbac9d04e1a89118235555c3f98",
       "version_major": 2,
       "version_minor": 0
      },
      "text/plain": [
       "  0%|          | 0/1 [00:00<?, ?it/s]"
      ]
     },
     "metadata": {},
     "output_type": "display_data"
    },
    {
     "name": "stdout",
     "output_type": "stream",
     "text": [
      "PDF生成成功: Applications\\Application_University of Toronto_MA in Data Science.pdf\n",
      "Word生成成功: Applications\\Application_University of Toronto_PhD in Statistics.docx\n"
     ]
    },
    {
     "data": {
      "application/vnd.jupyter.widget-view+json": {
       "model_id": "08ed557e825f4893ac1841379139d478",
       "version_major": 2,
       "version_minor": 0
      },
      "text/plain": [
       "  0%|          | 0/1 [00:00<?, ?it/s]"
      ]
     },
     "metadata": {},
     "output_type": "display_data"
    },
    {
     "name": "stdout",
     "output_type": "stream",
     "text": [
      "PDF生成成功: Applications\\Application_University of Toronto_PhD in Statistics.pdf\n",
      "Word生成成功: Applications\\Application_University of Toronto_MA in Economics Department.docx\n"
     ]
    },
    {
     "data": {
      "application/vnd.jupyter.widget-view+json": {
       "model_id": "a7ba7dfb2ff3444da5474f4d06073934",
       "version_major": 2,
       "version_minor": 0
      },
      "text/plain": [
       "  0%|          | 0/1 [00:00<?, ?it/s]"
      ]
     },
     "metadata": {},
     "output_type": "display_data"
    },
    {
     "name": "stdout",
     "output_type": "stream",
     "text": [
      "PDF生成成功: Applications\\Application_University of Toronto_MA in Economics Department.pdf\n",
      "Word生成成功: Applications\\Application_Duke University_PhD in Statistics.docx\n"
     ]
    },
    {
     "data": {
      "application/vnd.jupyter.widget-view+json": {
       "model_id": "f9d3cd68ece7457db8a1e01897095cde",
       "version_major": 2,
       "version_minor": 0
      },
      "text/plain": [
       "  0%|          | 0/1 [00:00<?, ?it/s]"
      ]
     },
     "metadata": {},
     "output_type": "display_data"
    },
    {
     "name": "stdout",
     "output_type": "stream",
     "text": [
      "PDF生成成功: Applications\\Application_Duke University_PhD in Statistics.pdf\n",
      "Word生成成功: Applications\\Application_Duke University_MA in Data Science.docx\n"
     ]
    },
    {
     "data": {
      "application/vnd.jupyter.widget-view+json": {
       "model_id": "07f2dbc5162d439392eb1c5990ec669a",
       "version_major": 2,
       "version_minor": 0
      },
      "text/plain": [
       "  0%|          | 0/1 [00:00<?, ?it/s]"
      ]
     },
     "metadata": {},
     "output_type": "display_data"
    },
    {
     "name": "stdout",
     "output_type": "stream",
     "text": [
      "PDF生成成功: Applications\\Application_Duke University_MA in Data Science.pdf\n",
      "Word生成成功: Applications\\Application_Duke University_MA in Economics Department.docx\n"
     ]
    },
    {
     "data": {
      "application/vnd.jupyter.widget-view+json": {
       "model_id": "5d6f0f7fc3894d5d8cf5d8ec905dca69",
       "version_major": 2,
       "version_minor": 0
      },
      "text/plain": [
       "  0%|          | 0/1 [00:00<?, ?it/s]"
      ]
     },
     "metadata": {},
     "output_type": "display_data"
    },
    {
     "name": "stdout",
     "output_type": "stream",
     "text": [
      "PDF生成成功: Applications\\Application_Duke University_MA in Economics Department.pdf\n",
      "Word生成成功: Applications\\Application_Michigan State University_MA in Economics Department.docx\n"
     ]
    },
    {
     "data": {
      "application/vnd.jupyter.widget-view+json": {
       "model_id": "8c36367f0276446fb563691676920d9a",
       "version_major": 2,
       "version_minor": 0
      },
      "text/plain": [
       "  0%|          | 0/1 [00:00<?, ?it/s]"
      ]
     },
     "metadata": {},
     "output_type": "display_data"
    },
    {
     "name": "stdout",
     "output_type": "stream",
     "text": [
      "PDF生成成功: Applications\\Application_Michigan State University_MA in Economics Department.pdf\n",
      "Word生成成功: Applications\\Application_Michigan State University_MA in Data Science.docx\n"
     ]
    },
    {
     "data": {
      "application/vnd.jupyter.widget-view+json": {
       "model_id": "18d1105c19ed408297204625f06bf6b0",
       "version_major": 2,
       "version_minor": 0
      },
      "text/plain": [
       "  0%|          | 0/1 [00:00<?, ?it/s]"
      ]
     },
     "metadata": {},
     "output_type": "display_data"
    },
    {
     "name": "stdout",
     "output_type": "stream",
     "text": [
      "PDF生成成功: Applications\\Application_Michigan State University_MA in Data Science.pdf\n",
      "Word生成成功: Applications\\Application_Michigan State University_PhD in Statistics.docx\n"
     ]
    },
    {
     "data": {
      "application/vnd.jupyter.widget-view+json": {
       "model_id": "cd9e86420a454900a725a93e8ec51263",
       "version_major": 2,
       "version_minor": 0
      },
      "text/plain": [
       "  0%|          | 0/1 [00:00<?, ?it/s]"
      ]
     },
     "metadata": {},
     "output_type": "display_data"
    },
    {
     "name": "stdout",
     "output_type": "stream",
     "text": [
      "PDF生成成功: Applications\\Application_Michigan State University_PhD in Statistics.pdf\n",
      "Word生成成功: Applications\\Application_University of Warwick_MA in Data Science.docx\n"
     ]
    },
    {
     "data": {
      "application/vnd.jupyter.widget-view+json": {
       "model_id": "5d4d83c0b671423da3daad04dcf205da",
       "version_major": 2,
       "version_minor": 0
      },
      "text/plain": [
       "  0%|          | 0/1 [00:00<?, ?it/s]"
      ]
     },
     "metadata": {},
     "output_type": "display_data"
    },
    {
     "name": "stdout",
     "output_type": "stream",
     "text": [
      "PDF生成成功: Applications\\Application_University of Warwick_MA in Data Science.pdf\n",
      "Word生成成功: Applications\\Application_University of Warwick_PhD in Statistics.docx\n"
     ]
    },
    {
     "data": {
      "application/vnd.jupyter.widget-view+json": {
       "model_id": "2ee869820a1a4034849bca3f948ba545",
       "version_major": 2,
       "version_minor": 0
      },
      "text/plain": [
       "  0%|          | 0/1 [00:00<?, ?it/s]"
      ]
     },
     "metadata": {},
     "output_type": "display_data"
    },
    {
     "name": "stdout",
     "output_type": "stream",
     "text": [
      "PDF生成成功: Applications\\Application_University of Warwick_PhD in Statistics.pdf\n",
      "Word生成成功: Applications\\Application_University of Warwick_MA in Economics Department.docx\n"
     ]
    },
    {
     "data": {
      "application/vnd.jupyter.widget-view+json": {
       "model_id": "b491f1c4f7f94212b9ec4ed5e47bb5cb",
       "version_major": 2,
       "version_minor": 0
      },
      "text/plain": [
       "  0%|          | 0/1 [00:00<?, ?it/s]"
      ]
     },
     "metadata": {},
     "output_type": "display_data"
    },
    {
     "name": "stdout",
     "output_type": "stream",
     "text": [
      "PDF生成成功: Applications\\Application_University of Warwick_MA in Economics Department.pdf\n",
      "所有文件生成完成！\n"
     ]
    }
   ],
   "source": [
    "import pandas as pd\n",
    "from docxtpl import DocxTemplate\n",
    "from docx2pdf import convert\n",
    "import os\n",
    "import re  \n",
    "\n",
    "# 文件名清理函数\n",
    "def sanitize_filename(name):\n",
    "    # 使用正则表达式替换非法字符\n",
    "    return re.sub(r'[\\\\/*?:\"<>|]', '_', name).strip()\n",
    "\n",
    "def process_universities():\n",
    "    try:\n",
    "        # 读取Excel数据\n",
    "        df = pd.read_excel(\"university.xlsx\", sheet_name=\"Sheet1\")\n",
    "        df.columns = df.columns.str.strip()  # 标准化列名\n",
    "    except Exception as e:\n",
    "        print(f\"读取Excel文件失败: {str(e)}\")\n",
    "        return\n",
    "\n",
    "    # 创建输出目录\n",
    "    output_dir = \"Applications\"\n",
    "    os.makedirs(output_dir, exist_ok=True)\n",
    "\n",
    "    for idx, row in df.iterrows():\n",
    "        try:\n",
    "            university = row[\"University Names\"].strip()\n",
    "            programs = [row[\"Major1\"], row[\"Major2\"], row[\"Major3\"]]\n",
    "            \n",
    "            for program in programs:\n",
    "                if pd.isna(program):\n",
    "                    continue\n",
    "                \n",
    "                # 修改模板，填入对应的学校名和专业名\n",
    "                doc = DocxTemplate(\"template.docx\")\n",
    "                context = {\"program_name\": program, \"university_name\": university}\n",
    "                doc.render(context)\n",
    "                \n",
    "                # 生成文件名\n",
    "                clean_univ = sanitize_filename(university)\n",
    "                clean_program = sanitize_filename(program)\n",
    "                word_path = os.path.join(output_dir, f\"Application_{clean_univ}_{clean_program}.docx\")\n",
    "                pdf_path = os.path.join(output_dir, f\"Application_{clean_univ}_{clean_program}.pdf\")\n",
    "                \n",
    "                # 保存Word并转换PDF\n",
    "                doc.save(word_path)\n",
    "                print(f\"Word生成成功: {word_path}\")\n",
    "                try:\n",
    "                    convert(word_path, pdf_path)\n",
    "                    print(f\"PDF生成成功: {pdf_path}\")\n",
    "                except Exception as e:\n",
    "                    print(f\"PDF转换失败（仅限Windows）: {str(e)}\")\n",
    "                    \n",
    "        except Exception as e:\n",
    "            print(f\"处理 {university} 时出错: {str(e)}\")\n",
    "\n",
    "if __name__ == \"__main__\":\n",
    "    process_universities()\n",
    "    print(\"所有文件生成完成！\")"
   ]
  }
 ],
 "metadata": {
  "kernelspec": {
   "display_name": "Python 3 (ipykernel)",
   "language": "python",
   "name": "python3"
  },
  "language_info": {
   "codemirror_mode": {
    "name": "ipython",
    "version": 3
   },
   "file_extension": ".py",
   "mimetype": "text/x-python",
   "name": "python",
   "nbconvert_exporter": "python",
   "pygments_lexer": "ipython3",
   "version": "3.12.1"
  }
 },
 "nbformat": 4,
 "nbformat_minor": 5
}
