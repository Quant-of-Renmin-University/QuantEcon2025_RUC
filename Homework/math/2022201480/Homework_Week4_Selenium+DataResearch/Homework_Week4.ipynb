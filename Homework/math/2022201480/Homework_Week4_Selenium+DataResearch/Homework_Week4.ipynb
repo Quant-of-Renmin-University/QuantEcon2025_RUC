{
 "cells": [
  {
   "cell_type": "markdown",
   "metadata": {},
   "source": [
    "# Homework-Data Mining"
   ]
  },
  {
   "cell_type": "markdown",
   "metadata": {},
   "source": [
    "Team3：大厂、燕郊、马驹桥、亦庄。"
   ]
  },
  {
   "cell_type": "code",
   "execution_count": 1,
   "metadata": {},
   "outputs": [
    {
     "name": "stderr",
     "output_type": "stream",
     "text": [
      "C:\\Users\\LHongMing\\AppData\\Local\\Temp\\ipykernel_18180\\1184200419.py:4: DeprecationWarning: \n",
      "Pyarrow will become a required dependency of pandas in the next major release of pandas (pandas 3.0),\n",
      "(to allow more performant data types, such as the Arrow string type, and better interoperability with other libraries)\n",
      "but was not found to be installed on your system.\n",
      "If this would cause problems for you,\n",
      "please provide us feedback at https://github.com/pandas-dev/pandas/issues/54466\n",
      "        \n",
      "  import pandas as pd\n"
     ]
    }
   ],
   "source": [
    "from selenium import webdriver\n",
    "from selenium.webdriver.common.by import By\n",
    "from selenium.common import NoSuchElementException\n",
    "import pandas as pd\n",
    "import re\n",
    "\n",
    "driver = webdriver.Edge()\n",
    "\n",
    "url_price = 'https://esf.fang.com/'\n",
    "url_rent = 'https://zu.fang.com/'"
   ]
  },
  {
   "cell_type": "markdown",
   "metadata": {},
   "source": [
    "## 爬取Price数据"
   ]
  },
  {
   "cell_type": "markdown",
   "metadata": {},
   "source": [
    "### 定义爬取特定地点网页的函数"
   ]
  },
  {
   "cell_type": "code",
   "execution_count": 2,
   "metadata": {},
   "outputs": [],
   "source": [
    "# 爬取网页的函数\n",
    "\n",
    "# 爬取一页\n",
    "def PageData_Price():\n",
    "    data = []\n",
    "    while True:\n",
    "        fix = driver.find_elements(By.TAG_NAME,'dl')\n",
    "        for dl in fix:\n",
    "            row = []\n",
    "\n",
    "            area = dl.find_elements(By.CLASS_NAME,'tel_shop')\n",
    "            if area:\n",
    "                row = re.findall(r'\\d+.\\d+|\\d+', re.findall(r'\\d+.\\d+㎡|\\d+㎡', area[0].text)[0]) # 用正则表达式提取数字\n",
    "\n",
    "            price = dl.find_elements(By.CLASS_NAME,'price_right')\n",
    "            if price:\n",
    "                row += re.findall(r'\\d+\\.\\d+|\\d+', price[0].text) # 用正则表达式提取数字\n",
    "                data.append(row)\n",
    "\n",
    "        break\n",
    "\n",
    "    df = pd.DataFrame(data)\n",
    "    if not df.empty:\n",
    "        df.columns=['area(m2)','price(10k,yuan)','price/m2']\n",
    "    return df\n",
    "\n",
    "# 爬取全部\n",
    "def AllPages_Price():\n",
    "    data = []\n",
    "    while True:\n",
    "        fix = driver.find_elements(By.TAG_NAME,'dl')\n",
    "        for dl in fix:\n",
    "            row = []\n",
    "\n",
    "            area = dl.find_elements(By.CLASS_NAME,'tel_shop')\n",
    "            if area:\n",
    "                row = re.findall(r'\\d+.\\d+|\\d+', re.findall(r'\\d+.\\d+㎡|\\d+㎡', area[0].text)[0]) # 用正则表达式提取数字\n",
    "\n",
    "            price = dl.find_elements(By.CLASS_NAME,'price_right')\n",
    "            if price:\n",
    "                row += re.findall(r'\\d+\\.\\d+|\\d+', price[0].text) # 用正则表达式提取数字\n",
    "                data.append(row)\n",
    "\n",
    "        # 打开下一页\n",
    "        try:\n",
    "            NextPage = driver.find_element(By.LINK_TEXT,'下一页')\n",
    "            driver.execute_script(\"arguments[0].click();\", NextPage)\n",
    "        except NoSuchElementException: # 若无下一页，结束循环\n",
    "            break\n",
    "\n",
    "    df = pd.DataFrame(data)\n",
    "    if not df.empty:\n",
    "        df.columns=['area(m2)','price(10k,yuan)','price/m2']\n",
    "    return df"
   ]
  },
  {
   "cell_type": "markdown",
   "metadata": {},
   "source": [
    "### 大厂Price数据"
   ]
  },
  {
   "cell_type": "code",
   "execution_count": 3,
   "metadata": {},
   "outputs": [],
   "source": [
    "driver.get(url_price)\n",
    "# 北京周边\n",
    "BeiJingZhouBian = driver.find_element(By.CSS_SELECTOR,'#kesfqbfylb_A01_03_01 > ul > li:nth-child(18) > a')\n",
    "BeiJingZhouBian.click()\n",
    "# 大厂\n",
    "DaChang = driver.find_element(By.CSS_SELECTOR,'#ri010 > div.screen_al > ul > li.area_sq > ul > li:nth-child(6) > a')\n",
    "DaChang.click()\n",
    "\n",
    "PriceDachang = AllPages_Price()\n",
    "PriceDachang['location'] = '大厂'"
   ]
  },
  {
   "cell_type": "markdown",
   "metadata": {},
   "source": [
    "### 燕郊Price数据"
   ]
  },
  {
   "cell_type": "code",
   "execution_count": 4,
   "metadata": {},
   "outputs": [],
   "source": [
    "driver.get(url_price)\n",
    "# 燕郊\n",
    "YanJiao = driver.find_element(By.CSS_SELECTOR,'#kesfqbfylb_A01_03_01 > ul > li:nth-child(17) > a')\n",
    "YanJiao.click()\n",
    "\n",
    "PriceYanJiao = AllPages_Price()\n",
    "PriceYanJiao['location'] = '燕郊'"
   ]
  },
  {
   "cell_type": "markdown",
   "metadata": {},
   "source": [
    "### 马驹桥Price数据"
   ]
  },
  {
   "cell_type": "code",
   "execution_count": 5,
   "metadata": {},
   "outputs": [],
   "source": [
    "driver.get(url_price)\n",
    "# 通州\n",
    "Tongzhou = driver.find_element(By.CSS_SELECTOR,'#kesfqbfylb_A01_03_01 > ul > li:nth-child(8) > a')\n",
    "Tongzhou.click()\n",
    "# 马驹桥\n",
    "MaJuQiao = driver.find_element(By.CSS_SELECTOR,'#ri010 > div.screen_al > ul > li.area_sq > ul > li:nth-child(8) > a')\n",
    "MaJuQiao.click()\n",
    "\n",
    "PriceMaJuQiao = AllPages_Price()\n",
    "PriceMaJuQiao['location'] = '马驹桥'"
   ]
  },
  {
   "cell_type": "markdown",
   "metadata": {},
   "source": [
    "### 亦庄Price数据"
   ]
  },
  {
   "cell_type": "code",
   "execution_count": 6,
   "metadata": {},
   "outputs": [],
   "source": [
    "driver.get(url_price)\n",
    "# 通州\n",
    "Tongzhou = driver.find_element(By.CSS_SELECTOR,'#kesfqbfylb_A01_03_01 > ul > li:nth-child(8) > a')\n",
    "Tongzhou.click()\n",
    "# 亦庄\n",
    "YiZhuang = driver.find_element(By.CSS_SELECTOR,'#ri010 > div.screen_al > ul > li.area_sq > ul > li:nth-child(16) > a')\n",
    "YiZhuang.click()\n",
    "\n",
    "PriceYiZhuang = AllPages_Price()\n",
    "PriceYiZhuang['location'] = '亦庄'"
   ]
  },
  {
   "cell_type": "markdown",
   "metadata": {},
   "source": [
    "### 合并Price数据表格\n",
    "合并price数据表格并保存结果到excel"
   ]
  },
  {
   "cell_type": "code",
   "execution_count": 8,
   "metadata": {},
   "outputs": [],
   "source": [
    "price = pd.concat([PriceDachang, PriceYanJiao, PriceMaJuQiao, PriceYiZhuang])\n",
    "price['area(m2)'] = pd.to_numeric(price['area(m2)'])\n",
    "price['price(10k,yuan)'] = pd.to_numeric(price['price(10k,yuan)'])\n",
    "price['price/m2'] = pd.to_numeric(price['price/m2'])"
   ]
  },
  {
   "cell_type": "code",
   "execution_count": 9,
   "metadata": {},
   "outputs": [],
   "source": [
    "price.to_excel('price.xlsx', index=False)"
   ]
  },
  {
   "cell_type": "code",
   "execution_count": 10,
   "metadata": {},
   "outputs": [],
   "source": [
    "del price"
   ]
  },
  {
   "cell_type": "markdown",
   "metadata": {},
   "source": [
    "## 爬取Rent数据"
   ]
  },
  {
   "cell_type": "markdown",
   "metadata": {},
   "source": [
    "### 定义爬取租房网页数据的函数"
   ]
  },
  {
   "cell_type": "code",
   "execution_count": 21,
   "metadata": {},
   "outputs": [],
   "source": [
    "# 爬取租房数据\n",
    "\n",
    "# 爬取一页\n",
    "def PageData_Rent():\n",
    "    data = []\n",
    "    while True:\n",
    "        infos = driver.find_elements(By.CLASS_NAME,'info.rel')\n",
    "        for info in infos:\n",
    "            row = []\n",
    "\n",
    "            area = info.find_elements(By.CLASS_NAME,'font15.mt12.bold')\n",
    "            if area:\n",
    "                row = re.findall(r'\\d+.\\d+|\\d+', re.findall(r'\\d+.\\d+㎡|\\d+㎡', area[0].text)[0])\n",
    "            \n",
    "            rent = info.find_elements(By.CLASS_NAME,'price')\n",
    "            if rent:\n",
    "                row += re.findall(r'\\d+.\\d+|\\d+',rent[0].text)\n",
    "                data.append(row)\n",
    "        \n",
    "        break\n",
    "    df = pd.DataFrame(data)\n",
    "    if not df.empty:\n",
    "        df.columns=['area(m2)','rent(yuan/month)']\n",
    "    return df\n",
    "\n",
    "# 爬取全部页\n",
    "def AllData_Rent():\n",
    "    data = []\n",
    "    while True:\n",
    "        infos = driver.find_elements(By.CLASS_NAME,'info.rel')\n",
    "        for info in infos:\n",
    "            row = []\n",
    "\n",
    "            area = info.find_elements(By.CLASS_NAME,'font15.mt12.bold')\n",
    "            if area:\n",
    "                row = re.findall(r'\\d+.\\d+|\\d+', re.findall(r'\\d+.\\d+㎡|\\d+㎡', area[0].text)[0])\n",
    "            \n",
    "            rent = info.find_elements(By.CLASS_NAME,'price')\n",
    "            if rent:\n",
    "                row += re.findall(r'\\d+.\\d+|\\d+',rent[0].text)\n",
    "                data.append(row)\n",
    "        \n",
    "        # 打开下一页\n",
    "        try:\n",
    "            NextPage = driver.find_element(By.LINK_TEXT,'下一页')\n",
    "            driver.execute_script(\"arguments[0].click();\", NextPage)\n",
    "        except NoSuchElementException: # 若无下一页，结束循环\n",
    "            break\n",
    "\n",
    "    df = pd.DataFrame(data)\n",
    "    if not df.empty:\n",
    "        df.columns=['area(m2)','rent(yuan/month)']\n",
    "    return df"
   ]
  },
  {
   "cell_type": "markdown",
   "metadata": {},
   "source": [
    "### 大厂Rent数据"
   ]
  },
  {
   "cell_type": "code",
   "execution_count": 22,
   "metadata": {},
   "outputs": [],
   "source": [
    "driver.get(url_rent)\n",
    "# 北京周边\n",
    "BeiJingNearby = driver.find_element(By.CSS_SELECTOR,'#rentid_D04_01 > dd > a:nth-child(19)')\n",
    "BeiJingNearby.click()\n",
    "# 大厂\n",
    "DaChangRent = driver.find_element(By.CSS_SELECTOR,'#rentid_D04_08 > a:nth-child(7)')\n",
    "DaChangRent.click()\n",
    "\n",
    "RentDaChang = AllData_Rent()\n",
    "RentDaChang['location'] = '大厂'"
   ]
  },
  {
   "cell_type": "markdown",
   "metadata": {},
   "source": [
    "事后发现网站上没有大厂的租房数据"
   ]
  },
  {
   "cell_type": "markdown",
   "metadata": {},
   "source": [
    "### 燕郊Rent数据"
   ]
  },
  {
   "cell_type": "code",
   "execution_count": 23,
   "metadata": {},
   "outputs": [],
   "source": [
    "driver.get(url_rent)\n",
    "# 燕郊\n",
    "YanJiaoRent = driver.find_element(By.CSS_SELECTOR,'#rentid_D04_01 > dd > a:nth-child(18)')\n",
    "YanJiaoRent.click()\n",
    "\n",
    "RentYanJiao = AllData_Rent()\n",
    "RentYanJiao['location'] = '燕郊'"
   ]
  },
  {
   "cell_type": "markdown",
   "metadata": {},
   "source": [
    "### 马驹桥Rent数据"
   ]
  },
  {
   "cell_type": "code",
   "execution_count": 24,
   "metadata": {},
   "outputs": [],
   "source": [
    "driver.get(url_rent)\n",
    "# 通州\n",
    "TongZhouRent = driver.find_element(By.CSS_SELECTOR,'#rentid_D04_01 > dd > a:nth-child(9)')\n",
    "TongZhouRent.click()\n",
    "# 马驹桥\n",
    "MaJuQiaoRent = driver.find_element(By.CSS_SELECTOR,'#rentid_D04_08 > a:nth-child(9)')\n",
    "MaJuQiaoRent.click()\n",
    "\n",
    "RentMaJuQiao = AllData_Rent()\n",
    "RentMaJuQiao['location'] = '马驹桥'"
   ]
  },
  {
   "cell_type": "markdown",
   "metadata": {},
   "source": [
    "### 亦庄Rent数据"
   ]
  },
  {
   "cell_type": "code",
   "execution_count": 27,
   "metadata": {},
   "outputs": [],
   "source": [
    "driver.get(url_rent)\n",
    "# 通州\n",
    "TongZhouRent = driver.find_element(By.CSS_SELECTOR,'#rentid_D04_01 > dd > a:nth-child(9)')\n",
    "TongZhouRent.click()\n",
    "# 亦庄\n",
    "YiZhuangRent = driver.find_element(By.CSS_SELECTOR,'#rentid_D04_08 > a:nth-child(18)')\n",
    "YiZhuangRent.click()\n",
    "\n",
    "RentYiZhuang = AllData_Rent()\n",
    "RentYiZhuang['location'] = '亦庄'"
   ]
  },
  {
   "cell_type": "markdown",
   "metadata": {},
   "source": [
    "### 合并Rent表格\n",
    "合并Rent数据表格并保存结果"
   ]
  },
  {
   "cell_type": "code",
   "execution_count": null,
   "metadata": {},
   "outputs": [],
   "source": [
    "rent = pd.concat([RentMaJuQiao, RentYanJiao, RentYiZhuang, RentDaChang])\n",
    "rent['area(m2)'] = pd.to_numeric(rent['area(m2)'])\n",
    "rent['rent(yuan/month)'] = pd.to_numeric(rent['rent(yuan/month)'])\n",
    "# 网站上没有每平米月租金的数据，故计算获得\n",
    "rent['rent/m2'] = rent['rent(yuan/month)'] / rent['area(m2)']"
   ]
  },
  {
   "cell_type": "code",
   "execution_count": 29,
   "metadata": {},
   "outputs": [],
   "source": [
    "rent.to_excel('rent.xlsx', index=False)"
   ]
  },
  {
   "cell_type": "code",
   "execution_count": 30,
   "metadata": {},
   "outputs": [],
   "source": [
    "del rent"
   ]
  },
  {
   "cell_type": "markdown",
   "metadata": {},
   "source": [
    "## 关闭chromedriver"
   ]
  },
  {
   "cell_type": "code",
   "execution_count": 31,
   "metadata": {},
   "outputs": [],
   "source": [
    "driver.quit()"
   ]
  },
  {
   "cell_type": "markdown",
   "metadata": {},
   "source": [
    "## 数据分析"
   ]
  },
  {
   "cell_type": "code",
   "execution_count": 2,
   "metadata": {},
   "outputs": [],
   "source": [
    "# 导入数据\n",
    "Price = pd.read_excel('price.xlsx')\n",
    "Rent = pd.read_excel('rent.xlsx')"
   ]
  },
  {
   "cell_type": "markdown",
   "metadata": {},
   "source": [
    "### Data Description"
   ]
  },
  {
   "cell_type": "code",
   "execution_count": 4,
   "metadata": {},
   "outputs": [
    {
     "data": {
      "text/html": [
       "<div>\n",
       "<style scoped>\n",
       "    .dataframe tbody tr th:only-of-type {\n",
       "        vertical-align: middle;\n",
       "    }\n",
       "\n",
       "    .dataframe tbody tr th {\n",
       "        vertical-align: top;\n",
       "    }\n",
       "\n",
       "    .dataframe thead th {\n",
       "        text-align: right;\n",
       "    }\n",
       "</style>\n",
       "<table border=\"1\" class=\"dataframe\">\n",
       "  <thead>\n",
       "    <tr style=\"text-align: right;\">\n",
       "      <th></th>\n",
       "      <th>area(m2)</th>\n",
       "      <th>price(10k,yuan)</th>\n",
       "      <th>price/m2</th>\n",
       "    </tr>\n",
       "  </thead>\n",
       "  <tbody>\n",
       "    <tr>\n",
       "      <th>count</th>\n",
       "      <td>7674.000000</td>\n",
       "      <td>7674.000000</td>\n",
       "      <td>7674.000000</td>\n",
       "    </tr>\n",
       "    <tr>\n",
       "      <th>mean</th>\n",
       "      <td>149.673198</td>\n",
       "      <td>847.639692</td>\n",
       "      <td>51109.501564</td>\n",
       "    </tr>\n",
       "    <tr>\n",
       "      <th>std</th>\n",
       "      <td>80.132014</td>\n",
       "      <td>719.414638</td>\n",
       "      <td>24435.705873</td>\n",
       "    </tr>\n",
       "    <tr>\n",
       "      <th>min</th>\n",
       "      <td>25.000000</td>\n",
       "      <td>15.000000</td>\n",
       "      <td>3383.000000</td>\n",
       "    </tr>\n",
       "    <tr>\n",
       "      <th>25%</th>\n",
       "      <td>90.610000</td>\n",
       "      <td>355.000000</td>\n",
       "      <td>35420.000000</td>\n",
       "    </tr>\n",
       "    <tr>\n",
       "      <th>50%</th>\n",
       "      <td>133.195000</td>\n",
       "      <td>690.000000</td>\n",
       "      <td>52808.000000</td>\n",
       "    </tr>\n",
       "    <tr>\n",
       "      <th>75%</th>\n",
       "      <td>181.280000</td>\n",
       "      <td>1180.000000</td>\n",
       "      <td>66666.000000</td>\n",
       "    </tr>\n",
       "    <tr>\n",
       "      <th>max</th>\n",
       "      <td>1016.230000</td>\n",
       "      <td>11500.000000</td>\n",
       "      <td>150722.000000</td>\n",
       "    </tr>\n",
       "  </tbody>\n",
       "</table>\n",
       "</div>"
      ],
      "text/plain": [
       "          area(m2)  price(10k,yuan)       price/m2\n",
       "count  7674.000000      7674.000000    7674.000000\n",
       "mean    149.673198       847.639692   51109.501564\n",
       "std      80.132014       719.414638   24435.705873\n",
       "min      25.000000        15.000000    3383.000000\n",
       "25%      90.610000       355.000000   35420.000000\n",
       "50%     133.195000       690.000000   52808.000000\n",
       "75%     181.280000      1180.000000   66666.000000\n",
       "max    1016.230000     11500.000000  150722.000000"
      ]
     },
     "execution_count": 4,
     "metadata": {},
     "output_type": "execute_result"
    }
   ],
   "source": [
    "Price.describe()"
   ]
  },
  {
   "cell_type": "markdown",
   "metadata": {},
   "source": [
    "可以观察到，这四个地方房价的中位数为52808元/㎡，每平米房价的最大值远大于上四分位数，说明有Outliers。"
   ]
  },
  {
   "cell_type": "code",
   "execution_count": 5,
   "metadata": {},
   "outputs": [
    {
     "data": {
      "text/html": [
       "<div>\n",
       "<style scoped>\n",
       "    .dataframe tbody tr th:only-of-type {\n",
       "        vertical-align: middle;\n",
       "    }\n",
       "\n",
       "    .dataframe tbody tr th {\n",
       "        vertical-align: top;\n",
       "    }\n",
       "\n",
       "    .dataframe thead th {\n",
       "        text-align: right;\n",
       "    }\n",
       "</style>\n",
       "<table border=\"1\" class=\"dataframe\">\n",
       "  <thead>\n",
       "    <tr style=\"text-align: right;\">\n",
       "      <th></th>\n",
       "      <th>area(m2)</th>\n",
       "      <th>rent(yuan/month)</th>\n",
       "      <th>rent/m2</th>\n",
       "    </tr>\n",
       "  </thead>\n",
       "  <tbody>\n",
       "    <tr>\n",
       "      <th>count</th>\n",
       "      <td>2947.000000</td>\n",
       "      <td>2947.000000</td>\n",
       "      <td>2947.000000</td>\n",
       "    </tr>\n",
       "    <tr>\n",
       "      <th>mean</th>\n",
       "      <td>129.272141</td>\n",
       "      <td>9873.920258</td>\n",
       "      <td>70.443836</td>\n",
       "    </tr>\n",
       "    <tr>\n",
       "      <th>std</th>\n",
       "      <td>91.854459</td>\n",
       "      <td>10271.128954</td>\n",
       "      <td>36.950485</td>\n",
       "    </tr>\n",
       "    <tr>\n",
       "      <th>min</th>\n",
       "      <td>10.000000</td>\n",
       "      <td>666.000000</td>\n",
       "      <td>1.000000</td>\n",
       "    </tr>\n",
       "    <tr>\n",
       "      <th>25%</th>\n",
       "      <td>81.000000</td>\n",
       "      <td>3700.000000</td>\n",
       "      <td>52.982713</td>\n",
       "    </tr>\n",
       "    <tr>\n",
       "      <th>50%</th>\n",
       "      <td>102.000000</td>\n",
       "      <td>7500.000000</td>\n",
       "      <td>72.916667</td>\n",
       "    </tr>\n",
       "    <tr>\n",
       "      <th>75%</th>\n",
       "      <td>162.000000</td>\n",
       "      <td>13000.000000</td>\n",
       "      <td>87.619048</td>\n",
       "    </tr>\n",
       "    <tr>\n",
       "      <th>max</th>\n",
       "      <td>1900.000000</td>\n",
       "      <td>160000.000000</td>\n",
       "      <td>833.333333</td>\n",
       "    </tr>\n",
       "  </tbody>\n",
       "</table>\n",
       "</div>"
      ],
      "text/plain": [
       "          area(m2)  rent(yuan/month)      rent/m2\n",
       "count  2947.000000       2947.000000  2947.000000\n",
       "mean    129.272141       9873.920258    70.443836\n",
       "std      91.854459      10271.128954    36.950485\n",
       "min      10.000000        666.000000     1.000000\n",
       "25%      81.000000       3700.000000    52.982713\n",
       "50%     102.000000       7500.000000    72.916667\n",
       "75%     162.000000      13000.000000    87.619048\n",
       "max    1900.000000     160000.000000   833.333333"
      ]
     },
     "execution_count": 5,
     "metadata": {},
     "output_type": "execute_result"
    }
   ],
   "source": [
    "Rent.describe()"
   ]
  },
  {
   "cell_type": "markdown",
   "metadata": {},
   "source": [
    "可以观察到，这四个地方租金的中位数为72.92元/㎡，每平米租金的最大值也远大于上四分位数，说明有Outliers。"
   ]
  },
  {
   "cell_type": "code",
   "execution_count": 4,
   "metadata": {},
   "outputs": [
    {
     "data": {
      "image/png": "[encoded data removed]",
      "text/plain": [
       "<Figure size 640x480 with 1 Axes>"
      ]
     },
     "metadata": {},
     "output_type": "display_data"
    }
   ],
   "source": [
    "import matplotlib.pyplot as plt\n",
    "plt.boxplot(Price['price/m2'])\n",
    "plt.show()"
   ]
  },
  {
   "cell_type": "code",
   "execution_count": 5,
   "metadata": {},
   "outputs": [
    {
     "data": {
      "image/png": "[encoded data removed]",
      "text/plain": [
       "<Figure size 640x480 with 1 Axes>"
      ]
     },
     "metadata": {},
     "output_type": "display_data"
    }
   ],
   "source": [
    "plt.boxplot(Rent['rent/m2'])\n",
    "plt.show()"
   ]
  },
  {
   "cell_type": "markdown",
   "metadata": {},
   "source": [
    "可以观察到，无论是房价还是租金，超过上四分位数的值有不少。但后续分析主要用到中位数，异常值影响不大。另外，特定房屋的售价或租赁价格虽然偏高，确实符合实际，可能是由于已有的变量无法捕捉到偏差。"
   ]
  },
  {
   "cell_type": "markdown",
   "metadata": {},
   "source": [
    "### Get housing price per m2 and housing rent per m2 (price/m2 and rent/m2) for each block"
   ]
  },
  {
   "cell_type": "code",
   "execution_count": 8,
   "metadata": {},
   "outputs": [],
   "source": [
    "PriceDaChang = Price[Price['location']  == '大厂']\n",
    "PriceYanJiao = Price[Price['location'] == '燕郊']\n",
    "PriceMaJuQiao = Price[Price['location'] == '马驹桥']\n",
    "PriceYiZhuang = Price[Price['location'] == '亦庄']\n",
    "RentDaChang = Rent[Rent['location']  == '大厂']\n",
    "RentYanJiao = Rent[Rent['location'] == '燕郊']\n",
    "RentMaJuQiao = Rent[Rent['location'] == '马驹桥']\n",
    "RentYiZhuang = Rent[Rent['location'] == '亦庄']"
   ]
  },
  {
   "cell_type": "markdown",
   "metadata": {},
   "source": [
    "### Median price to rent ratio for each block"
   ]
  },
  {
   "cell_type": "code",
   "execution_count": 9,
   "metadata": {},
   "outputs": [
    {
     "name": "stdout",
     "output_type": "stream",
     "text": [
      "大厂： nan\n",
      "燕郊 房价租金比： 440.5885714285715\n",
      "马驹桥 房价租金比： 620.3968337730871\n",
      "亦庄 房价租金比： 739.0974705882353\n"
     ]
    }
   ],
   "source": [
    "# 计算房价租金比\n",
    "RatioDaChang = PriceDaChang['price/m2'].median() / (RentDaChang['rent/m2'].median())\n",
    "RatioYanJiao = PriceYanJiao['price/m2'].median() / (RentYanJiao['rent/m2'].median())\n",
    "RatioMaJuQiao = PriceMaJuQiao['price/m2'].median() / (RentMaJuQiao['rent/m2'].median())\n",
    "RatioYiZhuang = PriceYiZhuang['price/m2'].median() / (RentYiZhuang['rent/m2'].median())\n",
    "\n",
    "print('大厂：',RatioDaChang)\n",
    "print('燕郊 房价租金比：',RatioYanJiao)\n",
    "print('马驹桥 房价租金比：',RatioMaJuQiao)\n",
    "print('亦庄 房价租金比：',RatioYiZhuang)"
   ]
  },
  {
   "cell_type": "markdown",
   "metadata": {},
   "source": [
    "大厂没有租房数据，无法计算房价租金比；燕郊、马驹桥和亦庄的房价租金比远大于200，可以认为在这三个地方租比买更好。"
   ]
  },
  {
   "cell_type": "markdown",
   "metadata": {},
   "source": [
    "### Bar Plot the median price to rent ratio for each block"
   ]
  },
  {
   "cell_type": "code",
   "execution_count": 11,
   "metadata": {},
   "outputs": [
    {
     "data": {
      "image/png": "[encoded data removed]",
      "text/plain": [
       "<Figure size 640x480 with 1 Axes>"
      ]
     },
     "metadata": {},
     "output_type": "display_data"
    }
   ],
   "source": [
    "bars = plt.bar(['燕郊','马驹桥','亦庄'],[RatioYanJiao, RatioMaJuQiao, RatioYiZhuang])\n",
    "# 显示具体数值\n",
    "for bar in bars:\n",
    "    height = bar.get_height()\n",
    "    plt.text(bar.get_x() + bar.get_width()/2., height, f'{height}', ha='center', va='bottom')\n",
    "plt.rc(\"font\",family='Microsoft YaHei')\n",
    "plt.title('Figure A: Bar Plot the median price to rent ratio for each block')\n",
    "plt.xlabel('Block')\n",
    "plt.ylabel('Median price to rent ratio')\n",
    "plt.show()"
   ]
  },
  {
   "cell_type": "markdown",
   "metadata": {},
   "source": [
    "## 回归分析"
   ]
  },
  {
   "cell_type": "markdown",
   "metadata": {},
   "source": [
    "### Model 1"
   ]
  },
  {
   "cell_type": "code",
   "execution_count": 11,
   "metadata": {},
   "outputs": [
    {
     "data": {
      "text/html": [
       "<div>\n",
       "<style scoped>\n",
       "    .dataframe tbody tr th:only-of-type {\n",
       "        vertical-align: middle;\n",
       "    }\n",
       "\n",
       "    .dataframe tbody tr th {\n",
       "        vertical-align: top;\n",
       "    }\n",
       "\n",
       "    .dataframe thead th {\n",
       "        text-align: right;\n",
       "    }\n",
       "</style>\n",
       "<table border=\"1\" class=\"dataframe\">\n",
       "  <thead>\n",
       "    <tr style=\"text-align: right;\">\n",
       "      <th></th>\n",
       "      <th>const</th>\n",
       "      <th>area(m2)</th>\n",
       "      <th>location_大厂</th>\n",
       "      <th>location_燕郊</th>\n",
       "      <th>location_马驹桥</th>\n",
       "      <th>area(m2)*location_大厂</th>\n",
       "      <th>area(m2)*location_燕郊</th>\n",
       "      <th>area(m2)*location_马驹桥</th>\n",
       "    </tr>\n",
       "  </thead>\n",
       "  <tbody>\n",
       "    <tr>\n",
       "      <th>0</th>\n",
       "      <td>1.0</td>\n",
       "      <td>88.63</td>\n",
       "      <td>True</td>\n",
       "      <td>False</td>\n",
       "      <td>False</td>\n",
       "      <td>88.63</td>\n",
       "      <td>0.0</td>\n",
       "      <td>0.0</td>\n",
       "    </tr>\n",
       "    <tr>\n",
       "      <th>1</th>\n",
       "      <td>1.0</td>\n",
       "      <td>130.70</td>\n",
       "      <td>True</td>\n",
       "      <td>False</td>\n",
       "      <td>False</td>\n",
       "      <td>130.70</td>\n",
       "      <td>0.0</td>\n",
       "      <td>0.0</td>\n",
       "    </tr>\n",
       "    <tr>\n",
       "      <th>2</th>\n",
       "      <td>1.0</td>\n",
       "      <td>130.70</td>\n",
       "      <td>True</td>\n",
       "      <td>False</td>\n",
       "      <td>False</td>\n",
       "      <td>130.70</td>\n",
       "      <td>0.0</td>\n",
       "      <td>0.0</td>\n",
       "    </tr>\n",
       "    <tr>\n",
       "      <th>3</th>\n",
       "      <td>1.0</td>\n",
       "      <td>119.00</td>\n",
       "      <td>True</td>\n",
       "      <td>False</td>\n",
       "      <td>False</td>\n",
       "      <td>119.00</td>\n",
       "      <td>0.0</td>\n",
       "      <td>0.0</td>\n",
       "    </tr>\n",
       "    <tr>\n",
       "      <th>4</th>\n",
       "      <td>1.0</td>\n",
       "      <td>89.00</td>\n",
       "      <td>True</td>\n",
       "      <td>False</td>\n",
       "      <td>False</td>\n",
       "      <td>89.00</td>\n",
       "      <td>0.0</td>\n",
       "      <td>0.0</td>\n",
       "    </tr>\n",
       "    <tr>\n",
       "      <th>...</th>\n",
       "      <td>...</td>\n",
       "      <td>...</td>\n",
       "      <td>...</td>\n",
       "      <td>...</td>\n",
       "      <td>...</td>\n",
       "      <td>...</td>\n",
       "      <td>...</td>\n",
       "      <td>...</td>\n",
       "    </tr>\n",
       "    <tr>\n",
       "      <th>7669</th>\n",
       "      <td>1.0</td>\n",
       "      <td>295.92</td>\n",
       "      <td>False</td>\n",
       "      <td>False</td>\n",
       "      <td>False</td>\n",
       "      <td>0.00</td>\n",
       "      <td>0.0</td>\n",
       "      <td>0.0</td>\n",
       "    </tr>\n",
       "    <tr>\n",
       "      <th>7670</th>\n",
       "      <td>1.0</td>\n",
       "      <td>205.25</td>\n",
       "      <td>False</td>\n",
       "      <td>False</td>\n",
       "      <td>False</td>\n",
       "      <td>0.00</td>\n",
       "      <td>0.0</td>\n",
       "      <td>0.0</td>\n",
       "    </tr>\n",
       "    <tr>\n",
       "      <th>7671</th>\n",
       "      <td>1.0</td>\n",
       "      <td>175.29</td>\n",
       "      <td>False</td>\n",
       "      <td>False</td>\n",
       "      <td>False</td>\n",
       "      <td>0.00</td>\n",
       "      <td>0.0</td>\n",
       "      <td>0.0</td>\n",
       "    </tr>\n",
       "    <tr>\n",
       "      <th>7672</th>\n",
       "      <td>1.0</td>\n",
       "      <td>80.00</td>\n",
       "      <td>False</td>\n",
       "      <td>False</td>\n",
       "      <td>False</td>\n",
       "      <td>0.00</td>\n",
       "      <td>0.0</td>\n",
       "      <td>0.0</td>\n",
       "    </tr>\n",
       "    <tr>\n",
       "      <th>7673</th>\n",
       "      <td>1.0</td>\n",
       "      <td>167.25</td>\n",
       "      <td>False</td>\n",
       "      <td>False</td>\n",
       "      <td>False</td>\n",
       "      <td>0.00</td>\n",
       "      <td>0.0</td>\n",
       "      <td>0.0</td>\n",
       "    </tr>\n",
       "  </tbody>\n",
       "</table>\n",
       "<p>7674 rows × 8 columns</p>\n",
       "</div>"
      ],
      "text/plain": [
       "      const  area(m2)  location_大厂  location_燕郊  location_马驹桥  \\\n",
       "0       1.0     88.63         True        False         False   \n",
       "1       1.0    130.70         True        False         False   \n",
       "2       1.0    130.70         True        False         False   \n",
       "3       1.0    119.00         True        False         False   \n",
       "4       1.0     89.00         True        False         False   \n",
       "...     ...       ...          ...          ...           ...   \n",
       "7669    1.0    295.92        False        False         False   \n",
       "7670    1.0    205.25        False        False         False   \n",
       "7671    1.0    175.29        False        False         False   \n",
       "7672    1.0     80.00        False        False         False   \n",
       "7673    1.0    167.25        False        False         False   \n",
       "\n",
       "      area(m2)*location_大厂  area(m2)*location_燕郊  area(m2)*location_马驹桥  \n",
       "0                    88.63                   0.0                    0.0  \n",
       "1                   130.70                   0.0                    0.0  \n",
       "2                   130.70                   0.0                    0.0  \n",
       "3                   119.00                   0.0                    0.0  \n",
       "4                    89.00                   0.0                    0.0  \n",
       "...                    ...                   ...                    ...  \n",
       "7669                  0.00                   0.0                    0.0  \n",
       "7670                  0.00                   0.0                    0.0  \n",
       "7671                  0.00                   0.0                    0.0  \n",
       "7672                  0.00                   0.0                    0.0  \n",
       "7673                  0.00                   0.0                    0.0  \n",
       "\n",
       "[7674 rows x 8 columns]"
      ]
     },
     "execution_count": 11,
     "metadata": {},
     "output_type": "execute_result"
    }
   ],
   "source": [
    "import statsmodels.api as sm\n",
    "\n",
    "X1 = Price.drop(columns = ['price(10k,yuan)','price/m2'])\n",
    "X1 = pd.get_dummies(X1,columns = ['location'], drop_first = True)\n",
    "X1['area(m2)*location_大厂'] = X1['area(m2)'] * X1['location_大厂']\n",
    "X1['area(m2)*location_燕郊'] = X1['area(m2)'] * X1['location_燕郊']\n",
    "X1['area(m2)*location_马驹桥'] = X1['area(m2)'] * X1['location_马驹桥']\n",
    "X1 = sm.add_constant(X1)\n",
    "\n",
    "y1 = Price['price/m2']\n",
    "X1"
   ]
  },
  {
   "cell_type": "code",
   "execution_count": 12,
   "metadata": {},
   "outputs": [
    {
     "data": {
      "text/html": [
       "<table class=\"simpletable\">\n",
       "<caption>OLS Regression Results</caption>\n",
       "<tr>\n",
       "  <th>Dep. Variable:</th>        <td>price/m2</td>     <th>  R-squared:         </th> <td>   0.572</td> \n",
       "</tr>\n",
       "<tr>\n",
       "  <th>Model:</th>                   <td>OLS</td>       <th>  Adj. R-squared:    </th> <td>   0.572</td> \n",
       "</tr>\n",
       "<tr>\n",
       "  <th>Method:</th>             <td>Least Squares</td>  <th>  F-statistic:       </th> <td>   1463.</td> \n",
       "</tr>\n",
       "<tr>\n",
       "  <th>Date:</th>             <td>Sun, 16 Mar 2025</td> <th>  Prob (F-statistic):</th>  <td>  0.00</td>  \n",
       "</tr>\n",
       "<tr>\n",
       "  <th>Time:</th>                 <td>18:13:30</td>     <th>  Log-Likelihood:    </th> <td> -85169.</td> \n",
       "</tr>\n",
       "<tr>\n",
       "  <th>No. Observations:</th>      <td>  7674</td>      <th>  AIC:               </th> <td>1.704e+05</td>\n",
       "</tr>\n",
       "<tr>\n",
       "  <th>Df Residuals:</th>          <td>  7666</td>      <th>  BIC:               </th> <td>1.704e+05</td>\n",
       "</tr>\n",
       "<tr>\n",
       "  <th>Df Model:</th>              <td>     7</td>      <th>                     </th>     <td> </td>    \n",
       "</tr>\n",
       "<tr>\n",
       "  <th>Covariance Type:</th>      <td>nonrobust</td>    <th>                     </th>     <td> </td>    \n",
       "</tr>\n",
       "</table>\n",
       "<table class=\"simpletable\">\n",
       "<tr>\n",
       "            <td></td>               <th>coef</th>     <th>std err</th>      <th>t</th>      <th>P>|t|</th>  <th>[0.025</th>    <th>0.975]</th>  \n",
       "</tr>\n",
       "<tr>\n",
       "  <th>const</th>                 <td> 5.166e+04</td> <td>  475.864</td> <td>  108.561</td> <td> 0.000</td> <td> 5.07e+04</td> <td> 5.26e+04</td>\n",
       "</tr>\n",
       "<tr>\n",
       "  <th>area(m2)</th>              <td>   51.8706</td> <td>    2.601</td> <td>   19.942</td> <td> 0.000</td> <td>   46.772</td> <td>   56.969</td>\n",
       "</tr>\n",
       "<tr>\n",
       "  <th>location_大厂</th>           <td>-4.355e+04</td> <td> 6886.997</td> <td>   -6.324</td> <td> 0.000</td> <td>-5.71e+04</td> <td>-3.01e+04</td>\n",
       "</tr>\n",
       "<tr>\n",
       "  <th>location_燕郊</th>           <td>-4.962e+04</td> <td> 1016.175</td> <td>  -48.831</td> <td> 0.000</td> <td>-5.16e+04</td> <td>-4.76e+04</td>\n",
       "</tr>\n",
       "<tr>\n",
       "  <th>location_马驹桥</th>          <td>-2.273e+04</td> <td> 1768.892</td> <td>  -12.847</td> <td> 0.000</td> <td>-2.62e+04</td> <td>-1.93e+04</td>\n",
       "</tr>\n",
       "<tr>\n",
       "  <th>area(m2)*location_大厂</th>  <td>  -61.4388</td> <td>   71.134</td> <td>   -0.864</td> <td> 0.388</td> <td> -200.881</td> <td>   78.004</td>\n",
       "</tr>\n",
       "<tr>\n",
       "  <th>area(m2)*location_燕郊</th>  <td>   45.7800</td> <td>    8.736</td> <td>    5.240</td> <td> 0.000</td> <td>   28.655</td> <td>   62.905</td>\n",
       "</tr>\n",
       "<tr>\n",
       "  <th>area(m2)*location_马驹桥</th> <td>  -19.3816</td> <td>   14.783</td> <td>   -1.311</td> <td> 0.190</td> <td>  -48.360</td> <td>    9.596</td>\n",
       "</tr>\n",
       "</table>\n",
       "<table class=\"simpletable\">\n",
       "<tr>\n",
       "  <th>Omnibus:</th>       <td>1075.653</td> <th>  Durbin-Watson:     </th> <td>   1.955</td>\n",
       "</tr>\n",
       "<tr>\n",
       "  <th>Prob(Omnibus):</th>  <td> 0.000</td>  <th>  Jarque-Bera (JB):  </th> <td>3004.409</td>\n",
       "</tr>\n",
       "<tr>\n",
       "  <th>Skew:</th>           <td> 0.760</td>  <th>  Prob(JB):          </th> <td>    0.00</td>\n",
       "</tr>\n",
       "<tr>\n",
       "  <th>Kurtosis:</th>       <td> 5.662</td>  <th>  Cond. No.          </th> <td>6.42e+03</td>\n",
       "</tr>\n",
       "</table><br/><br/>Notes:<br/>[1] Standard Errors assume that the covariance matrix of the errors is correctly specified.<br/>[2] The condition number is large, 6.42e+03. This might indicate that there are<br/>strong multicollinearity or other numerical problems."
      ],
      "text/latex": [
       "\\begin{center}\n",
       "\\begin{tabular}{lclc}\n",
       "\\toprule\n",
       "\\textbf{Dep. Variable:}         &     price/m2     & \\textbf{  R-squared:         } &     0.572   \\\\\n",
       "\\textbf{Model:}                 &       OLS        & \\textbf{  Adj. R-squared:    } &     0.572   \\\\\n",
       "\\textbf{Method:}                &  Least Squares   & \\textbf{  F-statistic:       } &     1463.   \\\\\n",
       "\\textbf{Date:}                  & Sun, 16 Mar 2025 & \\textbf{  Prob (F-statistic):} &     0.00    \\\\\n",
       "\\textbf{Time:}                  &     18:13:30     & \\textbf{  Log-Likelihood:    } &   -85169.   \\\\\n",
       "\\textbf{No. Observations:}      &        7674      & \\textbf{  AIC:               } & 1.704e+05   \\\\\n",
       "\\textbf{Df Residuals:}          &        7666      & \\textbf{  BIC:               } & 1.704e+05   \\\\\n",
       "\\textbf{Df Model:}              &           7      & \\textbf{                     } &             \\\\\n",
       "\\textbf{Covariance Type:}       &    nonrobust     & \\textbf{                     } &             \\\\\n",
       "\\bottomrule\n",
       "\\end{tabular}\n",
       "\\begin{tabular}{lcccccc}\n",
       "                                & \\textbf{coef} & \\textbf{std err} & \\textbf{t} & \\textbf{P$> |$t$|$} & \\textbf{[0.025} & \\textbf{0.975]}  \\\\\n",
       "\\midrule\n",
       "\\textbf{const}                  &    5.166e+04  &      475.864     &   108.561  &         0.000        &     5.07e+04    &     5.26e+04     \\\\\n",
       "\\textbf{area(m2)}               &      51.8706  &        2.601     &    19.942  &         0.000        &       46.772    &       56.969     \\\\\n",
       "\\textbf{location\\_大厂}           &   -4.355e+04  &     6886.997     &    -6.324  &         0.000        &    -5.71e+04    &    -3.01e+04     \\\\\n",
       "\\textbf{location\\_燕郊}           &   -4.962e+04  &     1016.175     &   -48.831  &         0.000        &    -5.16e+04    &    -4.76e+04     \\\\\n",
       "\\textbf{location\\_马驹桥}          &   -2.273e+04  &     1768.892     &   -12.847  &         0.000        &    -2.62e+04    &    -1.93e+04     \\\\\n",
       "\\textbf{area(m2)*location\\_大厂}  &     -61.4388  &       71.134     &    -0.864  &         0.388        &     -200.881    &       78.004     \\\\\n",
       "\\textbf{area(m2)*location\\_燕郊}  &      45.7800  &        8.736     &     5.240  &         0.000        &       28.655    &       62.905     \\\\\n",
       "\\textbf{area(m2)*location\\_马驹桥} &     -19.3816  &       14.783     &    -1.311  &         0.190        &      -48.360    &        9.596     \\\\\n",
       "\\bottomrule\n",
       "\\end{tabular}\n",
       "\\begin{tabular}{lclc}\n",
       "\\textbf{Omnibus:}       & 1075.653 & \\textbf{  Durbin-Watson:     } &    1.955  \\\\\n",
       "\\textbf{Prob(Omnibus):} &   0.000  & \\textbf{  Jarque-Bera (JB):  } & 3004.409  \\\\\n",
       "\\textbf{Skew:}          &   0.760  & \\textbf{  Prob(JB):          } &     0.00  \\\\\n",
       "\\textbf{Kurtosis:}      &   5.662  & \\textbf{  Cond. No.          } & 6.42e+03  \\\\\n",
       "\\bottomrule\n",
       "\\end{tabular}\n",
       "%\\caption{OLS Regression Results}\n",
       "\\end{center}\n",
       "\n",
       "Notes: \\newline\n",
       " [1] Standard Errors assume that the covariance matrix of the errors is correctly specified. \\newline\n",
       " [2] The condition number is large, 6.42e+03. This might indicate that there are \\newline\n",
       " strong multicollinearity or other numerical problems."
      ],
      "text/plain": [
       "<class 'statsmodels.iolib.summary.Summary'>\n",
       "\"\"\"\n",
       "                            OLS Regression Results                            \n",
       "==============================================================================\n",
       "Dep. Variable:               price/m2   R-squared:                       0.572\n",
       "Model:                            OLS   Adj. R-squared:                  0.572\n",
       "Method:                 Least Squares   F-statistic:                     1463.\n",
       "Date:                Sun, 16 Mar 2025   Prob (F-statistic):               0.00\n",
       "Time:                        18:13:30   Log-Likelihood:                -85169.\n",
       "No. Observations:                7674   AIC:                         1.704e+05\n",
       "Df Residuals:                    7666   BIC:                         1.704e+05\n",
       "Df Model:                           7                                         \n",
       "Covariance Type:            nonrobust                                         \n",
       "=========================================================================================\n",
       "                            coef    std err          t      P>|t|      [0.025      0.975]\n",
       "-----------------------------------------------------------------------------------------\n",
       "const                  5.166e+04    475.864    108.561      0.000    5.07e+04    5.26e+04\n",
       "area(m2)                 51.8706      2.601     19.942      0.000      46.772      56.969\n",
       "location_大厂           -4.355e+04   6886.997     -6.324      0.000   -5.71e+04   -3.01e+04\n",
       "location_燕郊           -4.962e+04   1016.175    -48.831      0.000   -5.16e+04   -4.76e+04\n",
       "location_马驹桥          -2.273e+04   1768.892    -12.847      0.000   -2.62e+04   -1.93e+04\n",
       "area(m2)*location_大厂    -61.4388     71.134     -0.864      0.388    -200.881      78.004\n",
       "area(m2)*location_燕郊     45.7800      8.736      5.240      0.000      28.655      62.905\n",
       "area(m2)*location_马驹桥   -19.3816     14.783     -1.311      0.190     -48.360       9.596\n",
       "==============================================================================\n",
       "Omnibus:                     1075.653   Durbin-Watson:                   1.955\n",
       "Prob(Omnibus):                  0.000   Jarque-Bera (JB):             3004.409\n",
       "Skew:                           0.760   Prob(JB):                         0.00\n",
       "Kurtosis:                       5.662   Cond. No.                     6.42e+03\n",
       "==============================================================================\n",
       "\n",
       "Notes:\n",
       "[1] Standard Errors assume that the covariance matrix of the errors is correctly specified.\n",
       "[2] The condition number is large, 6.42e+03. This might indicate that there are\n",
       "strong multicollinearity or other numerical problems.\n",
       "\"\"\""
      ]
     },
     "execution_count": 12,
     "metadata": {},
     "output_type": "execute_result"
    }
   ],
   "source": [
    "model1 = sm.OLS(y1, X1.astype(float)).fit()\n",
    "model1.summary()"
   ]
  },
  {
   "cell_type": "markdown",
   "metadata": {},
   "source": [
    "观察回归系数，在大厂和马驹桥，每平米房价与面积呈负相关；在燕郊和亦庄，每平米房价与面积呈正相关。"
   ]
  },
  {
   "cell_type": "markdown",
   "metadata": {},
   "source": [
    "### Model 2"
   ]
  },
  {
   "cell_type": "code",
   "execution_count": 13,
   "metadata": {},
   "outputs": [
    {
     "data": {
      "text/html": [
       "<div>\n",
       "<style scoped>\n",
       "    .dataframe tbody tr th:only-of-type {\n",
       "        vertical-align: middle;\n",
       "    }\n",
       "\n",
       "    .dataframe tbody tr th {\n",
       "        vertical-align: top;\n",
       "    }\n",
       "\n",
       "    .dataframe thead th {\n",
       "        text-align: right;\n",
       "    }\n",
       "</style>\n",
       "<table border=\"1\" class=\"dataframe\">\n",
       "  <thead>\n",
       "    <tr style=\"text-align: right;\">\n",
       "      <th></th>\n",
       "      <th>const</th>\n",
       "      <th>area(m2)</th>\n",
       "      <th>location_燕郊</th>\n",
       "      <th>location_马驹桥</th>\n",
       "      <th>area(m2)*location_燕郊</th>\n",
       "      <th>area(m2)*location_马驹桥</th>\n",
       "    </tr>\n",
       "  </thead>\n",
       "  <tbody>\n",
       "    <tr>\n",
       "      <th>0</th>\n",
       "      <td>1.0</td>\n",
       "      <td>41</td>\n",
       "      <td>False</td>\n",
       "      <td>True</td>\n",
       "      <td>0</td>\n",
       "      <td>41</td>\n",
       "    </tr>\n",
       "    <tr>\n",
       "      <th>1</th>\n",
       "      <td>1.0</td>\n",
       "      <td>60</td>\n",
       "      <td>False</td>\n",
       "      <td>True</td>\n",
       "      <td>0</td>\n",
       "      <td>60</td>\n",
       "    </tr>\n",
       "    <tr>\n",
       "      <th>2</th>\n",
       "      <td>1.0</td>\n",
       "      <td>20</td>\n",
       "      <td>False</td>\n",
       "      <td>True</td>\n",
       "      <td>0</td>\n",
       "      <td>20</td>\n",
       "    </tr>\n",
       "    <tr>\n",
       "      <th>3</th>\n",
       "      <td>1.0</td>\n",
       "      <td>85</td>\n",
       "      <td>False</td>\n",
       "      <td>True</td>\n",
       "      <td>0</td>\n",
       "      <td>85</td>\n",
       "    </tr>\n",
       "    <tr>\n",
       "      <th>4</th>\n",
       "      <td>1.0</td>\n",
       "      <td>20</td>\n",
       "      <td>False</td>\n",
       "      <td>True</td>\n",
       "      <td>0</td>\n",
       "      <td>20</td>\n",
       "    </tr>\n",
       "    <tr>\n",
       "      <th>...</th>\n",
       "      <td>...</td>\n",
       "      <td>...</td>\n",
       "      <td>...</td>\n",
       "      <td>...</td>\n",
       "      <td>...</td>\n",
       "      <td>...</td>\n",
       "    </tr>\n",
       "    <tr>\n",
       "      <th>2942</th>\n",
       "      <td>1.0</td>\n",
       "      <td>50</td>\n",
       "      <td>False</td>\n",
       "      <td>False</td>\n",
       "      <td>0</td>\n",
       "      <td>0</td>\n",
       "    </tr>\n",
       "    <tr>\n",
       "      <th>2943</th>\n",
       "      <td>1.0</td>\n",
       "      <td>91</td>\n",
       "      <td>False</td>\n",
       "      <td>False</td>\n",
       "      <td>0</td>\n",
       "      <td>0</td>\n",
       "    </tr>\n",
       "    <tr>\n",
       "      <th>2944</th>\n",
       "      <td>1.0</td>\n",
       "      <td>72</td>\n",
       "      <td>False</td>\n",
       "      <td>False</td>\n",
       "      <td>0</td>\n",
       "      <td>0</td>\n",
       "    </tr>\n",
       "    <tr>\n",
       "      <th>2945</th>\n",
       "      <td>1.0</td>\n",
       "      <td>67</td>\n",
       "      <td>False</td>\n",
       "      <td>False</td>\n",
       "      <td>0</td>\n",
       "      <td>0</td>\n",
       "    </tr>\n",
       "    <tr>\n",
       "      <th>2946</th>\n",
       "      <td>1.0</td>\n",
       "      <td>127</td>\n",
       "      <td>False</td>\n",
       "      <td>False</td>\n",
       "      <td>0</td>\n",
       "      <td>0</td>\n",
       "    </tr>\n",
       "  </tbody>\n",
       "</table>\n",
       "<p>2947 rows × 6 columns</p>\n",
       "</div>"
      ],
      "text/plain": [
       "      const  area(m2)  location_燕郊  location_马驹桥  area(m2)*location_燕郊  \\\n",
       "0       1.0        41        False          True                     0   \n",
       "1       1.0        60        False          True                     0   \n",
       "2       1.0        20        False          True                     0   \n",
       "3       1.0        85        False          True                     0   \n",
       "4       1.0        20        False          True                     0   \n",
       "...     ...       ...          ...           ...                   ...   \n",
       "2942    1.0        50        False         False                     0   \n",
       "2943    1.0        91        False         False                     0   \n",
       "2944    1.0        72        False         False                     0   \n",
       "2945    1.0        67        False         False                     0   \n",
       "2946    1.0       127        False         False                     0   \n",
       "\n",
       "      area(m2)*location_马驹桥  \n",
       "0                        41  \n",
       "1                        60  \n",
       "2                        20  \n",
       "3                        85  \n",
       "4                        20  \n",
       "...                     ...  \n",
       "2942                      0  \n",
       "2943                      0  \n",
       "2944                      0  \n",
       "2945                      0  \n",
       "2946                      0  \n",
       "\n",
       "[2947 rows x 6 columns]"
      ]
     },
     "execution_count": 13,
     "metadata": {},
     "output_type": "execute_result"
    }
   ],
   "source": [
    "X2 = Rent.drop(columns = ['rent(yuan/month)', 'rent/m2'])\n",
    "X2 = pd.get_dummies(X2,columns = ['location'], drop_first = True)\n",
    "X2 = sm.add_constant(X2)\n",
    "X2['area(m2)*location_燕郊'] = X2['area(m2)'] * X2['location_燕郊']\n",
    "X2['area(m2)*location_马驹桥'] = X2['area(m2)'] * X2['location_马驹桥']\n",
    "\n",
    "y2 = Rent['rent/m2']\n",
    "X2"
   ]
  },
  {
   "cell_type": "code",
   "execution_count": 14,
   "metadata": {},
   "outputs": [
    {
     "data": {
      "text/html": [
       "<table class=\"simpletable\">\n",
       "<caption>OLS Regression Results</caption>\n",
       "<tr>\n",
       "  <th>Dep. Variable:</th>         <td>rent/m2</td>     <th>  R-squared:         </th> <td>   0.400</td> \n",
       "</tr>\n",
       "<tr>\n",
       "  <th>Model:</th>                   <td>OLS</td>       <th>  Adj. R-squared:    </th> <td>   0.399</td> \n",
       "</tr>\n",
       "<tr>\n",
       "  <th>Method:</th>             <td>Least Squares</td>  <th>  F-statistic:       </th> <td>   391.8</td> \n",
       "</tr>\n",
       "<tr>\n",
       "  <th>Date:</th>             <td>Sun, 16 Mar 2025</td> <th>  Prob (F-statistic):</th> <td>1.09e-322</td>\n",
       "</tr>\n",
       "<tr>\n",
       "  <th>Time:</th>                 <td>18:13:30</td>     <th>  Log-Likelihood:    </th> <td> -14066.</td> \n",
       "</tr>\n",
       "<tr>\n",
       "  <th>No. Observations:</th>      <td>  2947</td>      <th>  AIC:               </th> <td>2.814e+04</td>\n",
       "</tr>\n",
       "<tr>\n",
       "  <th>Df Residuals:</th>          <td>  2941</td>      <th>  BIC:               </th> <td>2.818e+04</td>\n",
       "</tr>\n",
       "<tr>\n",
       "  <th>Df Model:</th>              <td>     5</td>      <th>                     </th>     <td> </td>    \n",
       "</tr>\n",
       "<tr>\n",
       "  <th>Covariance Type:</th>      <td>nonrobust</td>    <th>                     </th>     <td> </td>    \n",
       "</tr>\n",
       "</table>\n",
       "<table class=\"simpletable\">\n",
       "<tr>\n",
       "            <td></td>               <th>coef</th>     <th>std err</th>      <th>t</th>      <th>P>|t|</th>  <th>[0.025</th>    <th>0.975]</th>  \n",
       "</tr>\n",
       "<tr>\n",
       "  <th>const</th>                 <td>   74.5648</td> <td>    1.101</td> <td>   67.696</td> <td> 0.000</td> <td>   72.405</td> <td>   76.725</td>\n",
       "</tr>\n",
       "<tr>\n",
       "  <th>area(m2)</th>              <td>    0.0534</td> <td>    0.007</td> <td>    8.061</td> <td> 0.000</td> <td>    0.040</td> <td>    0.066</td>\n",
       "</tr>\n",
       "<tr>\n",
       "  <th>location_燕郊</th>           <td>  -49.5760</td> <td>    2.031</td> <td>  -24.414</td> <td> 0.000</td> <td>  -53.558</td> <td>  -45.594</td>\n",
       "</tr>\n",
       "<tr>\n",
       "  <th>location_马驹桥</th>          <td>   -7.2837</td> <td>    6.321</td> <td>   -1.152</td> <td> 0.249</td> <td>  -19.678</td> <td>    5.110</td>\n",
       "</tr>\n",
       "<tr>\n",
       "  <th>area(m2)*location_燕郊</th>  <td>   -0.0715</td> <td>    0.015</td> <td>   -4.806</td> <td> 0.000</td> <td>   -0.101</td> <td>   -0.042</td>\n",
       "</tr>\n",
       "<tr>\n",
       "  <th>area(m2)*location_马驹桥</th> <td>   -0.2215</td> <td>    0.062</td> <td>   -3.573</td> <td> 0.000</td> <td>   -0.343</td> <td>   -0.100</td>\n",
       "</tr>\n",
       "</table>\n",
       "<table class=\"simpletable\">\n",
       "<tr>\n",
       "  <th>Omnibus:</th>       <td>4702.057</td> <th>  Durbin-Watson:     </th>  <td>   1.985</td>  \n",
       "</tr>\n",
       "<tr>\n",
       "  <th>Prob(Omnibus):</th>  <td> 0.000</td>  <th>  Jarque-Bera (JB):  </th> <td>5418565.335</td>\n",
       "</tr>\n",
       "<tr>\n",
       "  <th>Skew:</th>           <td> 9.880</td>  <th>  Prob(JB):          </th>  <td>    0.00</td>  \n",
       "</tr>\n",
       "<tr>\n",
       "  <th>Kurtosis:</th>       <td>212.136</td> <th>  Cond. No.          </th>  <td>1.92e+03</td>  \n",
       "</tr>\n",
       "</table><br/><br/>Notes:<br/>[1] Standard Errors assume that the covariance matrix of the errors is correctly specified.<br/>[2] The condition number is large, 1.92e+03. This might indicate that there are<br/>strong multicollinearity or other numerical problems."
      ],
      "text/latex": [
       "\\begin{center}\n",
       "\\begin{tabular}{lclc}\n",
       "\\toprule\n",
       "\\textbf{Dep. Variable:}         &     rent/m2      & \\textbf{  R-squared:         } &      0.400   \\\\\n",
       "\\textbf{Model:}                 &       OLS        & \\textbf{  Adj. R-squared:    } &      0.399   \\\\\n",
       "\\textbf{Method:}                &  Least Squares   & \\textbf{  F-statistic:       } &      391.8   \\\\\n",
       "\\textbf{Date:}                  & Sun, 16 Mar 2025 & \\textbf{  Prob (F-statistic):} &  1.09e-322   \\\\\n",
       "\\textbf{Time:}                  &     18:13:30     & \\textbf{  Log-Likelihood:    } &    -14066.   \\\\\n",
       "\\textbf{No. Observations:}      &        2947      & \\textbf{  AIC:               } &  2.814e+04   \\\\\n",
       "\\textbf{Df Residuals:}          &        2941      & \\textbf{  BIC:               } &  2.818e+04   \\\\\n",
       "\\textbf{Df Model:}              &           5      & \\textbf{                     } &              \\\\\n",
       "\\textbf{Covariance Type:}       &    nonrobust     & \\textbf{                     } &              \\\\\n",
       "\\bottomrule\n",
       "\\end{tabular}\n",
       "\\begin{tabular}{lcccccc}\n",
       "                                & \\textbf{coef} & \\textbf{std err} & \\textbf{t} & \\textbf{P$> |$t$|$} & \\textbf{[0.025} & \\textbf{0.975]}  \\\\\n",
       "\\midrule\n",
       "\\textbf{const}                  &      74.5648  &        1.101     &    67.696  &         0.000        &       72.405    &       76.725     \\\\\n",
       "\\textbf{area(m2)}               &       0.0534  &        0.007     &     8.061  &         0.000        &        0.040    &        0.066     \\\\\n",
       "\\textbf{location\\_燕郊}           &     -49.5760  &        2.031     &   -24.414  &         0.000        &      -53.558    &      -45.594     \\\\\n",
       "\\textbf{location\\_马驹桥}          &      -7.2837  &        6.321     &    -1.152  &         0.249        &      -19.678    &        5.110     \\\\\n",
       "\\textbf{area(m2)*location\\_燕郊}  &      -0.0715  &        0.015     &    -4.806  &         0.000        &       -0.101    &       -0.042     \\\\\n",
       "\\textbf{area(m2)*location\\_马驹桥} &      -0.2215  &        0.062     &    -3.573  &         0.000        &       -0.343    &       -0.100     \\\\\n",
       "\\bottomrule\n",
       "\\end{tabular}\n",
       "\\begin{tabular}{lclc}\n",
       "\\textbf{Omnibus:}       & 4702.057 & \\textbf{  Durbin-Watson:     } &      1.985   \\\\\n",
       "\\textbf{Prob(Omnibus):} &   0.000  & \\textbf{  Jarque-Bera (JB):  } & 5418565.335  \\\\\n",
       "\\textbf{Skew:}          &   9.880  & \\textbf{  Prob(JB):          } &       0.00   \\\\\n",
       "\\textbf{Kurtosis:}      & 212.136  & \\textbf{  Cond. No.          } &   1.92e+03   \\\\\n",
       "\\bottomrule\n",
       "\\end{tabular}\n",
       "%\\caption{OLS Regression Results}\n",
       "\\end{center}\n",
       "\n",
       "Notes: \\newline\n",
       " [1] Standard Errors assume that the covariance matrix of the errors is correctly specified. \\newline\n",
       " [2] The condition number is large, 1.92e+03. This might indicate that there are \\newline\n",
       " strong multicollinearity or other numerical problems."
      ],
      "text/plain": [
       "<class 'statsmodels.iolib.summary.Summary'>\n",
       "\"\"\"\n",
       "                            OLS Regression Results                            \n",
       "==============================================================================\n",
       "Dep. Variable:                rent/m2   R-squared:                       0.400\n",
       "Model:                            OLS   Adj. R-squared:                  0.399\n",
       "Method:                 Least Squares   F-statistic:                     391.8\n",
       "Date:                Sun, 16 Mar 2025   Prob (F-statistic):          1.09e-322\n",
       "Time:                        18:13:30   Log-Likelihood:                -14066.\n",
       "No. Observations:                2947   AIC:                         2.814e+04\n",
       "Df Residuals:                    2941   BIC:                         2.818e+04\n",
       "Df Model:                           5                                         \n",
       "Covariance Type:            nonrobust                                         \n",
       "=========================================================================================\n",
       "                            coef    std err          t      P>|t|      [0.025      0.975]\n",
       "-----------------------------------------------------------------------------------------\n",
       "const                    74.5648      1.101     67.696      0.000      72.405      76.725\n",
       "area(m2)                  0.0534      0.007      8.061      0.000       0.040       0.066\n",
       "location_燕郊             -49.5760      2.031    -24.414      0.000     -53.558     -45.594\n",
       "location_马驹桥             -7.2837      6.321     -1.152      0.249     -19.678       5.110\n",
       "area(m2)*location_燕郊     -0.0715      0.015     -4.806      0.000      -0.101      -0.042\n",
       "area(m2)*location_马驹桥    -0.2215      0.062     -3.573      0.000      -0.343      -0.100\n",
       "==============================================================================\n",
       "Omnibus:                     4702.057   Durbin-Watson:                   1.985\n",
       "Prob(Omnibus):                  0.000   Jarque-Bera (JB):          5418565.335\n",
       "Skew:                           9.880   Prob(JB):                         0.00\n",
       "Kurtosis:                     212.136   Cond. No.                     1.92e+03\n",
       "==============================================================================\n",
       "\n",
       "Notes:\n",
       "[1] Standard Errors assume that the covariance matrix of the errors is correctly specified.\n",
       "[2] The condition number is large, 1.92e+03. This might indicate that there are\n",
       "strong multicollinearity or other numerical problems.\n",
       "\"\"\""
      ]
     },
     "execution_count": 14,
     "metadata": {},
     "output_type": "execute_result"
    }
   ],
   "source": [
    "model2 = sm.OLS(y2,X2.astype(float)).fit()\n",
    "model2.summary()"
   ]
  },
  {
   "cell_type": "markdown",
   "metadata": {},
   "source": [
    "观察回归系数，在马驹桥和燕郊，每平米月租金与面积呈负相关；在亦庄，每平米月租金与面积呈正相关。"
   ]
  },
  {
   "cell_type": "markdown",
   "metadata": {},
   "source": [
    "### Prediction"
   ]
  },
  {
   "cell_type": "markdown",
   "metadata": {},
   "source": [
    "#### Price prediction for m2 = 50 and m2 = 100"
   ]
  },
  {
   "cell_type": "code",
   "execution_count": 15,
   "metadata": {},
   "outputs": [
    {
     "data": {
      "text/html": [
       "<div>\n",
       "<style scoped>\n",
       "    .dataframe tbody tr th:only-of-type {\n",
       "        vertical-align: middle;\n",
       "    }\n",
       "\n",
       "    .dataframe tbody tr th {\n",
       "        vertical-align: top;\n",
       "    }\n",
       "\n",
       "    .dataframe thead th {\n",
       "        text-align: right;\n",
       "    }\n",
       "</style>\n",
       "<table border=\"1\" class=\"dataframe\">\n",
       "  <thead>\n",
       "    <tr style=\"text-align: right;\">\n",
       "      <th></th>\n",
       "      <th>area(m2)</th>\n",
       "      <th>location</th>\n",
       "      <th>PricePrediction</th>\n",
       "    </tr>\n",
       "  </thead>\n",
       "  <tbody>\n",
       "    <tr>\n",
       "      <th>0</th>\n",
       "      <td>50</td>\n",
       "      <td>大厂</td>\n",
       "      <td>7631.235165</td>\n",
       "    </tr>\n",
       "    <tr>\n",
       "      <th>1</th>\n",
       "      <td>50</td>\n",
       "      <td>燕郊</td>\n",
       "      <td>6922.411829</td>\n",
       "    </tr>\n",
       "    <tr>\n",
       "      <th>2</th>\n",
       "      <td>50</td>\n",
       "      <td>马驹桥</td>\n",
       "      <td>31528.125172</td>\n",
       "    </tr>\n",
       "    <tr>\n",
       "      <th>3</th>\n",
       "      <td>50</td>\n",
       "      <td>亦庄</td>\n",
       "      <td>54253.730467</td>\n",
       "    </tr>\n",
       "    <tr>\n",
       "      <th>4</th>\n",
       "      <td>100</td>\n",
       "      <td>大厂</td>\n",
       "      <td>7152.828039</td>\n",
       "    </tr>\n",
       "    <tr>\n",
       "      <th>5</th>\n",
       "      <td>100</td>\n",
       "      <td>燕郊</td>\n",
       "      <td>11804.945096</td>\n",
       "    </tr>\n",
       "    <tr>\n",
       "      <th>6</th>\n",
       "      <td>100</td>\n",
       "      <td>马驹桥</td>\n",
       "      <td>34121.656254</td>\n",
       "    </tr>\n",
       "    <tr>\n",
       "      <th>7</th>\n",
       "      <td>100</td>\n",
       "      <td>亦庄</td>\n",
       "      <td>56847.261549</td>\n",
       "    </tr>\n",
       "  </tbody>\n",
       "</table>\n",
       "</div>"
      ],
      "text/plain": [
       "   area(m2) location  PricePrediction\n",
       "0        50       大厂      7631.235165\n",
       "1        50       燕郊      6922.411829\n",
       "2        50      马驹桥     31528.125172\n",
       "3        50       亦庄     54253.730467\n",
       "4       100       大厂      7152.828039\n",
       "5       100       燕郊     11804.945096\n",
       "6       100      马驹桥     34121.656254\n",
       "7       100       亦庄     56847.261549"
      ]
     },
     "execution_count": 15,
     "metadata": {},
     "output_type": "execute_result"
    }
   ],
   "source": [
    "PricePrediction  = []\n",
    "for m2 in [50,100]:\n",
    "    for location in ['大厂', '燕郊', '马驹桥', '亦庄']:\n",
    "        x = [1, m2, location == '大厂', location == '燕郊', location == '马驹桥',\n",
    "              m2*(location == '大厂'), m2*(location == '燕郊'), m2*location == '马驹桥']\n",
    "        y_predict =  model1.predict(x)\n",
    "        row = [m2, location, y_predict[0]]\n",
    "        PricePrediction.append(row)\n",
    "PricePrediction = pd.DataFrame(PricePrediction)\n",
    "PricePrediction.columns = ['area(m2)', 'location', 'PricePrediction']\n",
    "PricePrediction"
   ]
  },
  {
   "cell_type": "markdown",
   "metadata": {},
   "source": [
    "#### Rent prediction for m2 = 50 and m2 = 100"
   ]
  },
  {
   "cell_type": "code",
   "execution_count": 16,
   "metadata": {},
   "outputs": [
    {
     "data": {
      "text/html": [
       "<div>\n",
       "<style scoped>\n",
       "    .dataframe tbody tr th:only-of-type {\n",
       "        vertical-align: middle;\n",
       "    }\n",
       "\n",
       "    .dataframe tbody tr th {\n",
       "        vertical-align: top;\n",
       "    }\n",
       "\n",
       "    .dataframe thead th {\n",
       "        text-align: right;\n",
       "    }\n",
       "</style>\n",
       "<table border=\"1\" class=\"dataframe\">\n",
       "  <thead>\n",
       "    <tr style=\"text-align: right;\">\n",
       "      <th></th>\n",
       "      <th>area(m2)</th>\n",
       "      <th>location</th>\n",
       "      <th>RentPrediction</th>\n",
       "    </tr>\n",
       "  </thead>\n",
       "  <tbody>\n",
       "    <tr>\n",
       "      <th>0</th>\n",
       "      <td>50</td>\n",
       "      <td>燕郊</td>\n",
       "      <td>24.081595</td>\n",
       "    </tr>\n",
       "    <tr>\n",
       "      <th>1</th>\n",
       "      <td>50</td>\n",
       "      <td>马驹桥</td>\n",
       "      <td>69.950109</td>\n",
       "    </tr>\n",
       "    <tr>\n",
       "      <th>2</th>\n",
       "      <td>50</td>\n",
       "      <td>亦庄</td>\n",
       "      <td>77.233835</td>\n",
       "    </tr>\n",
       "    <tr>\n",
       "      <th>3</th>\n",
       "      <td>100</td>\n",
       "      <td>燕郊</td>\n",
       "      <td>23.174356</td>\n",
       "    </tr>\n",
       "    <tr>\n",
       "      <th>4</th>\n",
       "      <td>100</td>\n",
       "      <td>马驹桥</td>\n",
       "      <td>72.619103</td>\n",
       "    </tr>\n",
       "    <tr>\n",
       "      <th>5</th>\n",
       "      <td>100</td>\n",
       "      <td>亦庄</td>\n",
       "      <td>79.902829</td>\n",
       "    </tr>\n",
       "  </tbody>\n",
       "</table>\n",
       "</div>"
      ],
      "text/plain": [
       "   area(m2) location  RentPrediction\n",
       "0        50       燕郊       24.081595\n",
       "1        50      马驹桥       69.950109\n",
       "2        50       亦庄       77.233835\n",
       "3       100       燕郊       23.174356\n",
       "4       100      马驹桥       72.619103\n",
       "5       100       亦庄       79.902829"
      ]
     },
     "execution_count": 16,
     "metadata": {},
     "output_type": "execute_result"
    }
   ],
   "source": [
    "RentPrediction  = []\n",
    "for m2 in [50,100]:\n",
    "    for location in ['燕郊', '马驹桥', '亦庄']:\n",
    "        x = [1, m2, location == '燕郊', location == '马驹桥', m2*(location == '燕郊'), m2*location == '马驹桥']\n",
    "        y_predict =  model2.predict(x)\n",
    "        row = [m2, location, y_predict[0]]\n",
    "        RentPrediction.append(row)\n",
    "RentPrediction = pd.DataFrame(RentPrediction)\n",
    "RentPrediction.columns = ['area(m2)', 'location', 'RentPrediction']\n",
    "RentPrediction"
   ]
  },
  {
   "cell_type": "markdown",
   "metadata": {},
   "source": [
    "### Figure B and C: Bar Plot the price to rent ratio for each block for the m2 = 50, m2 = 100"
   ]
  },
  {
   "cell_type": "markdown",
   "metadata": {},
   "source": [
    "#### Calculate the price to rent ratio"
   ]
  },
  {
   "cell_type": "code",
   "execution_count": null,
   "metadata": {},
   "outputs": [
    {
     "data": {
      "text/html": [
       "<div>\n",
       "<style scoped>\n",
       "    .dataframe tbody tr th:only-of-type {\n",
       "        vertical-align: middle;\n",
       "    }\n",
       "\n",
       "    .dataframe tbody tr th {\n",
       "        vertical-align: top;\n",
       "    }\n",
       "\n",
       "    .dataframe thead th {\n",
       "        text-align: right;\n",
       "    }\n",
       "</style>\n",
       "<table border=\"1\" class=\"dataframe\">\n",
       "  <thead>\n",
       "    <tr style=\"text-align: right;\">\n",
       "      <th></th>\n",
       "      <th>area(m2)</th>\n",
       "      <th>location</th>\n",
       "      <th>Ratio</th>\n",
       "    </tr>\n",
       "  </thead>\n",
       "  <tbody>\n",
       "    <tr>\n",
       "      <th>0</th>\n",
       "      <td>50</td>\n",
       "      <td>燕郊</td>\n",
       "      <td>287.456539</td>\n",
       "    </tr>\n",
       "    <tr>\n",
       "      <th>1</th>\n",
       "      <td>50</td>\n",
       "      <td>马驹桥</td>\n",
       "      <td>450.723031</td>\n",
       "    </tr>\n",
       "    <tr>\n",
       "      <th>2</th>\n",
       "      <td>50</td>\n",
       "      <td>亦庄</td>\n",
       "      <td>702.460654</td>\n",
       "    </tr>\n",
       "    <tr>\n",
       "      <th>3</th>\n",
       "      <td>100</td>\n",
       "      <td>燕郊</td>\n",
       "      <td>509.396904</td>\n",
       "    </tr>\n",
       "    <tr>\n",
       "      <th>4</th>\n",
       "      <td>100</td>\n",
       "      <td>马驹桥</td>\n",
       "      <td>469.871631</td>\n",
       "    </tr>\n",
       "    <tr>\n",
       "      <th>5</th>\n",
       "      <td>100</td>\n",
       "      <td>亦庄</td>\n",
       "      <td>711.454929</td>\n",
       "    </tr>\n",
       "  </tbody>\n",
       "</table>\n",
       "</div>"
      ],
      "text/plain": [
       "   area(m2) location       Ratio\n",
       "0        50       燕郊  287.456539\n",
       "1        50      马驹桥  450.723031\n",
       "2        50       亦庄  702.460654\n",
       "3       100       燕郊  509.396904\n",
       "4       100      马驹桥  469.871631\n",
       "5       100       亦庄  711.454929"
      ]
     },
     "execution_count": 17,
     "metadata": {},
     "output_type": "execute_result"
    }
   ],
   "source": [
    "PricePrediction1 = PricePrediction[~(PricePrediction['location'] == '大厂')]\n",
    "PricePrediction1.reset_index(drop = True,inplace = True)\n",
    "Ratio = []\n",
    "i = 0\n",
    "for m2 in [50,100]:\n",
    "    for location in ['燕郊', '马驹桥', '亦庄']:\n",
    "        ratio = PricePrediction1['PricePrediction'][i] / RentPrediction['RentPrediction'][i]\n",
    "        row = [m2, location, ratio]\n",
    "        Ratio.append(row)\n",
    "        i += 1\n",
    "Ratio = pd.DataFrame(Ratio)\n",
    "Ratio.columns = ['area(m2)', 'location', 'Ratio']\n",
    "Ratio"
   ]
  },
  {
   "cell_type": "markdown",
   "metadata": {},
   "source": [
    "#### Bar plot"
   ]
  },
  {
   "cell_type": "code",
   "execution_count": 18,
   "metadata": {},
   "outputs": [
    {
     "data": {
      "image/png": "[encoded data removed]",
      "text/plain": [
       "<Figure size 640x480 with 1 Axes>"
      ]
     },
     "metadata": {},
     "output_type": "display_data"
    }
   ],
   "source": [
    "bars = plt.bar(Ratio[Ratio['area(m2)'] == 50]['location'],Ratio[Ratio['area(m2)'] == 50]['Ratio'])\n",
    "# 显示具体数值\n",
    "for bar in bars:\n",
    "    height = bar.get_height()\n",
    "    plt.text(bar.get_x() + bar.get_width()/2., height, f'{height}', ha='center', va='bottom')\n",
    "plt.rc(\"font\",family='Microsoft YaHei')\n",
    "plt.title('Figure B: Bar Plot the median price to rent ratio for each block for the m2 = 50')\n",
    "plt.xlabel('Block')\n",
    "plt.ylabel('Price to rent ratio')\n",
    "plt.show()"
   ]
  },
  {
   "cell_type": "code",
   "execution_count": 19,
   "metadata": {},
   "outputs": [
    {
     "data": {
      "image/png": "[encoded data removed]",
      "text/plain": [
       "<Figure size 640x480 with 1 Axes>"
      ]
     },
     "metadata": {},
     "output_type": "display_data"
    }
   ],
   "source": [
    "bars = plt.bar(Ratio[Ratio['area(m2)'] == 100]['location'],Ratio[Ratio['area(m2)'] == 100]['Ratio'])\n",
    "# 显示具体数值\n",
    "for bar in bars:\n",
    "    height = bar.get_height()\n",
    "    plt.text(bar.get_x() + bar.get_width()/2., height, f'{height}', ha='center', va='bottom')\n",
    "plt.rc(\"font\",family='Microsoft YaHei')\n",
    "plt.title('Figure C: Bar Plot the median price to rent ratio for each block for the m2 = 100')\n",
    "plt.xlabel('Block')\n",
    "plt.ylabel('Price to rent ratio')\n",
    "plt.show()"
   ]
  }
 ],
 "metadata": {
  "kernelspec": {
   "display_name": "Python 3",
   "language": "python",
   "name": "python3"
  },
  "language_info": {
   "codemirror_mode": {
    "name": "ipython",
    "version": 3
   },
   "file_extension": ".py",
   "mimetype": "text/x-python",
   "name": "python",
   "nbconvert_exporter": "python",
   "pygments_lexer": "ipython3",
   "version": "3.12.1"
  }
 },
 "nbformat": 4,
 "nbformat_minor": 2
}
