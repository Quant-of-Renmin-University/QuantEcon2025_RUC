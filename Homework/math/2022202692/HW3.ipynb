{
 "cells": [
  {
   "cell_type": "markdown",
   "id": "7babacd4-e541-42ab-a275-af1ec8af39b7",
   "metadata": {
    "jp-MarkdownHeadingCollapsed": true
   },
   "source": [
    "## 1 获取买房价格"
   ]
  },
  {
   "cell_type": "code",
   "execution_count": 48,
   "id": "1eef63bc-759c-4b59-b435-4957ff341c03",
   "metadata": {
    "scrolled": true
   },
   "outputs": [
    {
     "name": "stdout",
     "output_type": "stream",
     "text": [
      "         0         1         2\n",
      "0     165万  13200元/㎡  低于市场价58万\n",
      "1     210万  16068元/㎡      None\n",
      "2     300万  20689元/㎡      None\n",
      "3     145万  13567元/㎡  低于市场价34万\n",
      "4     268万  16441元/㎡      None\n",
      "...    ...       ...       ...\n",
      "1195  150万  16814元/㎡  低于市场价33万\n",
      "1196  188万  12702元/㎡  低于市场价35万\n",
      "1197  110万   9243元/㎡      None\n",
      "1198   85万  11038元/㎡      None\n",
      "1199  110万  11767元/㎡      None\n",
      "\n",
      "[1200 rows x 3 columns]\n"
     ]
    }
   ],
   "source": [
    "from selenium import webdriver\n",
    "import pandas as pd\n",
    "\n",
    "driver=webdriver.Firefox()\n",
    "\n",
    "ur1=\"https://cq.esf.fang.com/house-a056/\"\n",
    "\n",
    "driver.get(ur1)\n",
    "\n",
    "#用于收集数据\n",
    "data=[]\n",
    "\n",
    "#循环抓取页面内容\n",
    "for pagenum in range(20):\n",
    "\n",
    "\n",
    "    #找到价格信息\n",
    "    price=driver.find_elements('class name','price_right')\n",
    "    house_count=len(price)\n",
    "    # 查看该面有多少房print(house_count)\n",
    "\n",
    "    #循环录入该页的价格信息\n",
    "    for i in range(house_count):\n",
    "        #读取为字符串，以\\n分割\n",
    "        price_information=price[i].text.split('\\n')\n",
    "        # 查看是否正确读取： print(price_information)\n",
    "        #添加到数据集\n",
    "        data.append(price_information)\n",
    "        \n",
    "    #检查数据：print(data)\n",
    "\n",
    "    if i<20:\n",
    "        #找到翻页键\n",
    "        try:\n",
    "            #需要注意，有两个完全重名的class，因此用elemnets。当然，用element也可以，但只会读取第一个。\n",
    "            find_next_page=driver.find_elements('class name','last')\n",
    "            # print(find_next_page)\n",
    "            next_page=find_next_page[0]\n",
    "            # print(next_page)\n",
    "        except:\n",
    "            print('Do not find the element')\n",
    "        #该面录入完成后，翻页\n",
    "        next_page.click()\n",
    "\n",
    "driver.quit()\n",
    "#导入到pandas格式\n",
    "df=pd.DataFrame(data)\n",
    "print(df)\n"
   ]
  },
  {
   "cell_type": "code",
   "execution_count": 50,
   "id": "fc538669-5a31-42c8-9f34-6b790841a508",
   "metadata": {
    "scrolled": true
   },
   "outputs": [
    {
     "name": "stdout",
     "output_type": "stream",
     "text": [
      "      总价（万元）  单价（元/㎡）  总面积\n",
      "0      165.0  13200.0  125\n",
      "1      210.0  16068.0  130\n",
      "2      300.0  20689.0  145\n",
      "3      145.0  13567.0  106\n",
      "4      268.0  16441.0  163\n",
      "...      ...      ...  ...\n",
      "1195   150.0  16814.0   89\n",
      "1196   188.0  12702.0  148\n",
      "1197   110.0   9243.0  119\n",
      "1198    85.0  11038.0   77\n",
      "1199   110.0  11767.0   93\n",
      "\n",
      "[1200 rows x 3 columns]\n",
      "File has been saved\n"
     ]
    }
   ],
   "source": [
    "#清洗数据\n",
    "df[0]=df[0].str.replace('万','')\n",
    "df[1]=df[1].str.replace('元/㎡','')\n",
    "df.drop(columns=[2], inplace=True)\n",
    "df.columns = ['总价（万元）', '单价（元/㎡）']\n",
    "df['总价（万元）']=df['总价（万元）'].astype(\"float\")\n",
    "df['单价（元/㎡）']=df['单价（元/㎡）'].astype(\"float\")\n",
    "df[\"总面积\"]=df['总价（万元）']*10000/df['单价（元/㎡）']\n",
    "df[\"总面积\"]=df[\"总面积\"].astype(\"int\")\n",
    "print(df)\n",
    "# 保存\n",
    "df.to_excel(\"Price_of_buying.xlsx\",header=True,index=False)\n",
    "print(\"File has been saved\")"
   ]
  },
  {
   "cell_type": "markdown",
   "id": "a5605357-4271-49ce-8858-88d65eb9d0bc",
   "metadata": {
    "jp-MarkdownHeadingCollapsed": true
   },
   "source": [
    "## 2 获取租房价格"
   ]
  },
  {
   "cell_type": "code",
   "execution_count": 52,
   "id": "590ef9c1-59da-4e9d-bfc3-59fe22aac20e",
   "metadata": {},
   "outputs": [
    {
     "name": "stdout",
     "output_type": "stream",
     "text": [
      "    总价格（元）   0     1     2    3\n",
      "0     6000  整租  4室2厅  207㎡  朝东北\n",
      "1     8000  整租  5室2厅  245㎡   朝南\n",
      "2     6000  整租  3室2厅  130㎡   朝南\n",
      "3     8000  整租  3室2厅  147㎡   朝南\n",
      "4     4500  整租  2室2厅  113㎡   朝东\n",
      "..     ...  ..   ...   ...  ...\n",
      "454   6000  整租  3室2厅  134㎡   朝南\n",
      "455   4500  整租  2室1厅   59㎡   朝南\n",
      "456   1500  整租  1室0厅   28㎡  朝东南\n",
      "457   1800  整租  3室2厅   97㎡   朝南\n",
      "458   2600  整租  2室1厅   55㎡   朝南\n",
      "\n",
      "[459 rows x 5 columns]\n"
     ]
    }
   ],
   "source": [
    "from selenium import webdriver\n",
    "import pandas as pd\n",
    "\n",
    "driver2=webdriver.Firefox()\n",
    "\n",
    "ur2='https://cq.zu.fang.com/house-a056/'\n",
    "\n",
    "driver2.get(ur2)\n",
    "\n",
    "#用于收集数据\n",
    "data1=[]\n",
    "data2=[]\n",
    "\n",
    "#循环抓取页面内容\n",
    "for pagenum in range(8):\n",
    "    \n",
    "    #找到价格信息\n",
    "    rent_information=driver2.find_elements('class name','price') #总价\n",
    "    rent_information2=driver2.find_elements('class name','font15') #面积等\n",
    "    Total_num=len(rent_information)\n",
    "    \n",
    "    #print(Total_num)\n",
    "    for i in range(Total_num):\n",
    "        #出租信息\n",
    "        data1.append(rent_information2[i].text.split('|'))\n",
    "        #出租价格\n",
    "        data2.append(rent_information[i].text)\n",
    "    #检查数据：print(data2)\n",
    "    \n",
    "    #该面录入完成后，翻页，注意该信息仅8页，最后一页不应再翻页\n",
    "    if pagenum<7:\n",
    "        try:\n",
    "            #需要注意，有两个完全重名的class，因此用elemnets。当然，用element也可以，但只会读取第一个。\n",
    "            find_next_page=driver2.find_elements('link text',\"下一页\")\n",
    "            # print(find_next_page)\n",
    "        except:\n",
    "            print('Do not find the element in page',i+1)\n",
    "        find_next_page[0].click()\n",
    "\n",
    "#导入到pandas格式\n",
    "df2=pd.DataFrame(data1)\n",
    "df2.insert(0,'总价格（元）',data2)\n",
    "print(df2)\n",
    "driver2.quit()"
   ]
  },
  {
   "cell_type": "code",
   "execution_count": 53,
   "id": "3ffcc5c3-4faf-435c-92ef-271c2436a440",
   "metadata": {},
   "outputs": [
    {
     "name": "stdout",
     "output_type": "stream",
     "text": [
      "    总价（元） 面积（㎡）\n",
      "0    6000   207\n",
      "1    8000   245\n",
      "2    6000   130\n",
      "3    8000   147\n",
      "4    4500   113\n",
      "..    ...   ...\n",
      "454  6000   134\n",
      "455  4500    59\n",
      "456  1500    28\n",
      "457  1800    97\n",
      "458  2600    55\n",
      "\n",
      "[459 rows x 2 columns]\n",
      "      总价（元）  面积（㎡）      每平米价格\n",
      "0    6000.0  207.0  28.985507\n",
      "1    8000.0  245.0  32.653061\n",
      "2    6000.0  130.0  46.153846\n",
      "3    8000.0  147.0  54.421769\n",
      "4    4500.0  113.0  39.823009\n",
      "..      ...    ...        ...\n",
      "454  6000.0  134.0  44.776119\n",
      "455  4500.0   59.0  76.271186\n",
      "456  1500.0   28.0  53.571429\n",
      "457  1800.0   97.0  18.556701\n",
      "458  2600.0   55.0  47.272727\n",
      "\n",
      "[459 rows x 3 columns]\n"
     ]
    }
   ],
   "source": [
    "#清洗数据\n",
    "#df1=df2\n",
    "df2.columns = ['总价（元）', '合租类型','户型','面积（㎡）','朝向']\n",
    "df2['面积（㎡）']=df2['面积（㎡）'].str.replace('㎡','')\n",
    "\n",
    "df2.drop(columns=['户型'], inplace=True)\n",
    "df2.drop(columns=['朝向'], inplace=True)\n",
    "df2.drop(columns=['合租类型'],inplace=True)\n",
    "print(df2)\n",
    "df2['总价（元）']=df2['总价（元）'].astype(\"float\")\n",
    "df2['面积（㎡）']=df2['面积（㎡）'].astype(\"float\")\n",
    "df2[\"每平米价格\"]=df2[\"总价（元）\"]/df2[\"面积（㎡）\"]\n",
    "print(df2)\n",
    "#print(df1)\n",
    "\n",
    "df2.to_excel(\"Price_of_Renting.xlsx\",header=True,index=False)\n"
   ]
  },
  {
   "cell_type": "markdown",
   "id": "0d9bb5f6-0fa8-425d-aecc-106078f97df8",
   "metadata": {
    "jp-MarkdownHeadingCollapsed": true
   },
   "source": [
    "## 3、描述性统计：\n",
    "### 注：由于不同组员的数据格式不同，总体数据的处理主要由excel完成。用python处理的方式，可参考上一部分数据清洗步骤。\n",
    "#### 经汇总本组数据，在excel文件中对数据进行了基本的清洗和汇总。再次读取处理后数据，进行描述性统计如下所示。\n",
    "\n",
    "1、可以看到，购房价格数据中均价为16053元每平米，中位数为14765元每平米。从最大值和各个四分位数来看，数据存在位于三个标准差外的数值。\n",
    "\n",
    "2、租房价格数据中均价为49元每平米每月，中位数为31元每平米每月。从最大值和各个四分位数来看，数据存在位于三个标准差外的数值。"
   ]
  },
  {
   "cell_type": "code",
   "execution_count": 35,
   "id": "6e978f47-759e-4343-87f6-e50a3db3861f",
   "metadata": {},
   "outputs": [
    {
     "name": "stdout",
     "output_type": "stream",
     "text": [
      "以下为购房数据的描述性统计：\n",
      "\n",
      "       Total price  squareMeter  PricePerSquare    Location1    Location2  \\\n",
      "count  4786.000000  4786.000000     4786.000000  4786.000000  4786.000000   \n",
      "mean    270.871431   155.216047    16053.825533     0.250731     0.247806   \n",
      "std     299.642944    94.948212     6424.853251     0.433479     0.431784   \n",
      "min      31.600000    31.000000     5237.000000     0.000000     0.000000   \n",
      "25%     130.000000   100.000000    11736.750000     0.000000     0.000000   \n",
      "50%     198.000000   134.000000    14765.000000     0.000000     0.000000   \n",
      "75%     310.000000   172.000000    18645.000000     1.000000     0.000000   \n",
      "max    4997.000000  1229.000000    91090.000000     1.000000     1.000000   \n",
      "\n",
      "         Location3    Location4  \n",
      "count  4786.000000  4786.000000  \n",
      "mean      0.250731     0.250731  \n",
      "std       0.433479     0.433479  \n",
      "min       0.000000     0.000000  \n",
      "25%       0.000000     0.000000  \n",
      "50%       0.000000     0.000000  \n",
      "75%       1.000000     1.000000  \n",
      "max       1.000000     1.000000   \n",
      "\n",
      "       Total price  squareMeter  PricePerSquare  Location1  Location2  \\\n",
      "count  1200.000000  1200.000000     1200.000000     1200.0     1200.0   \n",
      "mean    239.208667   134.748333    15859.620833        1.0        0.0   \n",
      "std     239.154038    71.339349     7435.630502        0.0        0.0   \n",
      "min      36.000000    31.000000     5430.000000        1.0        0.0   \n",
      "25%     100.000000    91.000000    10612.000000        1.0        0.0   \n",
      "50%     153.000000   118.000000    13758.500000        1.0        0.0   \n",
      "75%     287.250000   152.000000    18234.500000        1.0        0.0   \n",
      "max    2518.000000   465.000000    56839.000000        1.0        0.0   \n",
      "\n",
      "       Location3  Location4  \n",
      "count     1200.0     1200.0  \n",
      "mean         0.0        0.0  \n",
      "std          0.0        0.0  \n",
      "min          0.0        0.0  \n",
      "25%          0.0        0.0  \n",
      "50%          0.0        0.0  \n",
      "75%          0.0        0.0  \n",
      "max          0.0        0.0   \n",
      "\n",
      "       Total price  squareMeter  PricePerSquare  Location1  Location2  \\\n",
      "count  1186.000000  1186.000000     1186.000000     1186.0     1186.0   \n",
      "mean    337.348229   168.857504    17709.618887        0.0        1.0   \n",
      "std     462.218820   137.299632     7126.489111        0.0        0.0   \n",
      "min      40.000000    47.000000     5306.000000        0.0        1.0   \n",
      "25%     137.000000    98.000000    13023.250000        0.0        1.0   \n",
      "50%     218.000000   133.000000    16179.000000        0.0        1.0   \n",
      "75%     349.000000   171.000000    20215.000000        0.0        1.0   \n",
      "max    4997.000000  1229.000000    91090.000000        0.0        1.0   \n",
      "\n",
      "       Location3  Location4  \n",
      "count     1186.0     1186.0  \n",
      "mean         0.0        0.0  \n",
      "std          0.0        0.0  \n",
      "min          0.0        0.0  \n",
      "25%          0.0        0.0  \n",
      "50%          0.0        0.0  \n",
      "75%          0.0        0.0  \n",
      "max          0.0        0.0   \n",
      "\n",
      "       Total price  squareMeter  PricePerSquare  Location1  Location2  \\\n",
      "count  1200.000000  1200.000000     1200.000000     1200.0     1200.0   \n",
      "mean    248.877400   164.000833    14123.665833        0.0        0.0   \n",
      "std     250.122617    83.718814     5397.380708        0.0        0.0   \n",
      "min      31.600000    38.000000     6083.000000        0.0        0.0   \n",
      "25%     138.000000   114.000000    10714.000000        0.0        0.0   \n",
      "50%     186.000000   142.000000    12484.500000        0.0        0.0   \n",
      "75%     260.000000   180.000000    16129.000000        0.0        0.0   \n",
      "max    3500.000000   758.000000    46174.000000        0.0        0.0   \n",
      "\n",
      "       Location3  Location4  \n",
      "count     1200.0     1200.0  \n",
      "mean         1.0        0.0  \n",
      "std          0.0        0.0  \n",
      "min          1.0        0.0  \n",
      "25%          1.0        0.0  \n",
      "50%          1.0        0.0  \n",
      "75%          1.0        0.0  \n",
      "max          1.0        0.0   \n",
      "\n",
      "       Total price  squareMeter  PricePerSquare  Location1  Location2  \\\n",
      "count  1200.000000  1200.000000     1200.000000     1200.0     1200.0   \n",
      "mean    258.826992   153.416667    16541.714167        0.0        0.0   \n",
      "std     146.315781    67.564047     4837.929717        0.0        0.0   \n",
      "min      35.000000    32.000000     5237.000000        0.0        0.0   \n",
      "25%     157.750000   107.000000    13441.000000        0.0        0.0   \n",
      "50%     229.000000   141.000000    16340.000000        0.0        0.0   \n",
      "75%     325.000000   186.000000    18844.000000        0.0        0.0   \n",
      "max    1300.000000   522.000000    39048.000000        0.0        0.0   \n",
      "\n",
      "       Location3  Location4  \n",
      "count     1200.0     1200.0  \n",
      "mean         0.0        1.0  \n",
      "std          0.0        0.0  \n",
      "min          0.0        1.0  \n",
      "25%          0.0        1.0  \n",
      "50%          0.0        1.0  \n",
      "75%          0.0        1.0  \n",
      "max          0.0        1.0   \n",
      "\n",
      "------------------------------------------------------------------ \n",
      "\n",
      "以下为租房数据的描述性统计：\n",
      "\n",
      "        Total price  squareMeter  PricePerSquare    Location1    Location2  \\\n",
      "count   2574.000000  2574.000000     2574.000000  2574.000000  2574.000000   \n",
      "mean    3594.114608    90.764569       48.766511     0.183761     0.466200   \n",
      "std     5095.705016    85.091710      110.169482     0.387364     0.498953   \n",
      "min      400.000000     8.000000        0.000000     0.000000     0.000000   \n",
      "25%     1499.250000    45.000000       22.000000     0.000000     0.000000   \n",
      "50%     2300.000000    81.000000       31.000000     0.000000     0.000000   \n",
      "75%     3600.000000   108.000000       45.000000     0.000000     1.000000   \n",
      "max    58000.000000  2021.000000     2500.000000     1.000000     1.000000   \n",
      "\n",
      "         Location3    Location4  \n",
      "count  2574.000000  2574.000000  \n",
      "mean      0.103341     0.246698  \n",
      "std       0.304463     0.431173  \n",
      "min       0.000000     0.000000  \n",
      "25%       0.000000     0.000000  \n",
      "50%       0.000000     0.000000  \n",
      "75%       0.000000     0.000000  \n",
      "max       1.000000     1.000000   \n",
      "\n",
      "        Total price  squareMeter  PricePerSquare  Location1  Location2  \\\n",
      "count    473.000000   473.000000      473.000000      473.0      473.0   \n",
      "mean    3918.959831    96.668076       36.604651        1.0        0.0   \n",
      "std     4125.646161    62.473840       14.104563        0.0        0.0   \n",
      "min      500.000000    15.000000        4.000000        1.0        0.0   \n",
      "25%     1600.000000    52.000000       27.000000        1.0        0.0   \n",
      "50%     2700.000000    82.000000       36.000000        1.0        0.0   \n",
      "75%     4500.000000   118.000000       43.000000        1.0        0.0   \n",
      "max    26000.000000   347.000000       88.000000        1.0        0.0   \n",
      "\n",
      "       Location3  Location4  \n",
      "count      473.0      473.0  \n",
      "mean         0.0        0.0  \n",
      "std          0.0        0.0  \n",
      "min          0.0        0.0  \n",
      "25%          0.0        0.0  \n",
      "50%          0.0        0.0  \n",
      "75%          0.0        0.0  \n",
      "max          0.0        0.0   \n",
      "\n",
      "        Total price  squareMeter  PricePerSquare  Location1  Location2  \\\n",
      "count   1200.000000  1200.000000     1200.000000     1200.0     1200.0   \n",
      "mean    3547.791667    85.625833       65.218333        0.0        1.0   \n",
      "std     5594.561295    70.406724      158.924310        0.0        0.0   \n",
      "min      400.000000     8.000000        0.000000        0.0        1.0   \n",
      "25%     1400.000000    40.000000       16.750000        0.0        1.0   \n",
      "50%     2100.000000    79.000000       30.000000        0.0        1.0   \n",
      "75%     3499.250000    99.000000       63.000000        0.0        1.0   \n",
      "max    50000.000000   593.000000     2500.000000        0.0        1.0   \n",
      "\n",
      "       Location3  Location4  \n",
      "count     1200.0     1200.0  \n",
      "mean         0.0        0.0  \n",
      "std          0.0        0.0  \n",
      "min          0.0        0.0  \n",
      "25%          0.0        0.0  \n",
      "50%          0.0        0.0  \n",
      "75%          0.0        0.0  \n",
      "max          0.0        0.0   \n",
      "\n",
      "        Total price  squareMeter  PricePerSquare  Location1  Location2  \\\n",
      "count    266.000000   266.000000      266.000000      266.0      266.0   \n",
      "mean    3437.458647    84.432331       30.868421        0.0        0.0   \n",
      "std     6358.877055    81.753132       15.902106        0.0        0.0   \n",
      "min      450.000000    12.000000        5.000000        0.0        0.0   \n",
      "25%      650.000000    25.000000       22.000000        0.0        0.0   \n",
      "50%     1500.000000    60.000000       27.000000        0.0        0.0   \n",
      "75%     2500.000000   100.000000       33.750000        0.0        0.0   \n",
      "max    45000.000000   423.000000      120.000000        0.0        0.0   \n",
      "\n",
      "       Location3  Location4  \n",
      "count      266.0      266.0  \n",
      "mean         1.0        0.0  \n",
      "std          0.0        0.0  \n",
      "min          1.0        0.0  \n",
      "25%          1.0        0.0  \n",
      "50%          1.0        0.0  \n",
      "75%          1.0        0.0  \n",
      "max          1.0        0.0   \n",
      "\n",
      "        Total price  squareMeter  PricePerSquare  Location1  Location2  \\\n",
      "count    635.000000   635.000000      635.000000      635.0      635.0   \n",
      "mean    3505.305512    98.730709       34.233071        0.0        0.0   \n",
      "std     4063.793829   118.973004       16.434532        0.0        0.0   \n",
      "min      450.000000    17.000000        1.000000        0.0        0.0   \n",
      "25%     1950.000000    62.000000       26.000000        0.0        0.0   \n",
      "50%     2700.000000    87.000000       31.000000        0.0        0.0   \n",
      "75%     3800.000000   120.000000       41.000000        0.0        0.0   \n",
      "max    58000.000000  2021.000000      178.000000        0.0        0.0   \n",
      "\n",
      "       Location3  Location4  \n",
      "count      635.0      635.0  \n",
      "mean         0.0        1.0  \n",
      "std          0.0        0.0  \n",
      "min          0.0        1.0  \n",
      "25%          0.0        1.0  \n",
      "50%          0.0        1.0  \n",
      "75%          0.0        1.0  \n",
      "max          0.0        1.0   \n",
      "\n"
     ]
    }
   ],
   "source": [
    "import numpy as np\n",
    "import matplotlib.pyplot as plt\n",
    "import statsmodels.api as sm\n",
    "\n",
    "# 读取购房数据 0为汇总数据，1到4为4个地区分数据\n",
    "buydata0=pd.read_excel(r'D:\\大三 下\\人工智能与python程序设计\\homework\\HW3\\Buyprice.xlsx')\n",
    "buydata1=pd.read_excel(r'D:\\大三 下\\人工智能与python程序设计\\homework\\HW3\\渝中Price_of_buying.xlsx')\n",
    "buydata2=pd.read_excel(r'D:\\大三 下\\人工智能与python程序设计\\homework\\HW3\\渝北Price_of_buying.xlsx')\n",
    "buydata3=pd.read_excel(r'D:\\大三 下\\人工智能与python程序设计\\homework\\HW3\\南岸Price_of_buying.xlsx')\n",
    "buydata4=pd.read_excel(r'D:\\大三 下\\人工智能与python程序设计\\homework\\HW3\\江北Price_of_buying.xlsx')\n",
    "\n",
    "# 读取租房数据 同上\n",
    "rentdata0=pd.read_excel(r'D:\\大三 下\\人工智能与python程序设计\\homework\\HW3\\Rentprice.xlsx')\n",
    "rentdata1=pd.read_excel(r'D:\\大三 下\\人工智能与python程序设计\\homework\\HW3\\渝中Price_of_Renting.xlsx')\n",
    "rentdata2=pd.read_excel(r'D:\\大三 下\\人工智能与python程序设计\\homework\\HW3\\渝北Price_of_Renting.xlsx')\n",
    "rentdata3=pd.read_excel(r'D:\\大三 下\\人工智能与python程序设计\\homework\\HW3\\南岸Price_of_Renting.xlsx')\n",
    "rentdata4=pd.read_excel(r'D:\\大三 下\\人工智能与python程序设计\\homework\\HW3\\江北Price_of_Renting.xlsx')\n",
    "\n",
    "# 描述性统计\n",
    "print('以下为购房数据的描述性统计：\\n')\n",
    "print(buydata0.describe(),'\\n')\n",
    "print(buydata1.describe(),'\\n')\n",
    "print(buydata2.describe(),'\\n')\n",
    "print(buydata3.describe(),'\\n')\n",
    "print(buydata4.describe(),'\\n')\n",
    "\n",
    "print('------------------------------------------------------------------','\\n')\n",
    "print('以下为租房数据的描述性统计：\\n')\n",
    "print(rentdata0.describe(),'\\n')\n",
    "print(rentdata1.describe(),'\\n')\n",
    "print(rentdata2.describe(),'\\n')\n",
    "print(rentdata3.describe(),'\\n')\n",
    "print(rentdata4.describe(),'\\n')"
   ]
  },
  {
   "cell_type": "markdown",
   "id": "10c2da32-c8da-491f-87ef-a68d299dd89a",
   "metadata": {},
   "source": [
    "## 4、计算租售比，绘图"
   ]
  },
  {
   "cell_type": "code",
   "execution_count": 37,
   "id": "24eb857d-128d-4717-9a6f-55570533db87",
   "metadata": {},
   "outputs": [
    {
     "name": "stdout",
     "output_type": "stream",
     "text": [
      "总租售比: 476 \n",
      "\n",
      "渝中租售比: 410 \n",
      "\n",
      "渝北租售比: 492 \n",
      "\n",
      "南岸租售比: 546 \n",
      "\n",
      "江北租售比: 476 \n",
      "\n"
     ]
    },
    {
     "data": {
      "image/png": "[encoded data removed]",
      "text/plain": [
       "<Figure size 640x480 with 1 Axes>"
      ]
     },
     "metadata": {},
     "output_type": "display_data"
    }
   ],
   "source": [
    "import matplotlib.pyplot as plt\n",
    "\n",
    "# 计算租售比\n",
    "Ratio0=buydata0['PricePerSquare'].median()/rentdata0['PricePerSquare'].median()\n",
    "Ratio1=buydata0['PricePerSquare'].median()/rentdata1['PricePerSquare'].median()\n",
    "Ratio2=buydata0['PricePerSquare'].median()/rentdata2['PricePerSquare'].median()\n",
    "Ratio3=buydata0['PricePerSquare'].median()/rentdata3['PricePerSquare'].median()\n",
    "Ratio4=buydata0['PricePerSquare'].median()/rentdata4['PricePerSquare'].median()\n",
    "print('总租售比:',int(Ratio0),'\\n')\n",
    "print('渝中租售比:',int(Ratio1),'\\n')\n",
    "print('渝北租售比:',int(Ratio2),'\\n')\n",
    "print('南岸租售比:',int(Ratio3),'\\n')\n",
    "print('江北租售比:',int(Ratio4),'\\n')\n",
    "\n",
    "# 绘图\n",
    "\n",
    "# 设置字体，防止无法显示中文\n",
    "plt.rcParams['font.sans-serif'] = ['SimHei']\n",
    "plt.rcParams['axes.unicode_minus'] = False\n",
    "\n",
    "catagory=['总数据','渝中','渝北','南岸','江北','全球200']\n",
    "value=[Ratio0,Ratio1,Ratio2,Ratio3,Ratio4,200]\n",
    "plt.bar(catagory,value,width=0.5,color='blue')\n",
    "plt.title('租售比柱状图')\n",
    "plt.show()\n"
   ]
  },
  {
   "cell_type": "markdown",
   "id": "0ca2857d-25df-4828-aabd-b538439de904",
   "metadata": {},
   "source": [
    "## 5、回归分析"
   ]
  },
  {
   "cell_type": "markdown",
   "id": "d01611ed-f784-40d3-b348-14a46811992f",
   "metadata": {},
   "source": [
    "#### 预处理数据 "
   ]
  },
  {
   "cell_type": "code",
   "execution_count": 144,
   "id": "faf6c6cc-3a5e-4ac6-a1bc-d1be187eb0f4",
   "metadata": {},
   "outputs": [],
   "source": [
    "# 读取数据, 检查数据格式\n",
    "#buydata0=pd.read_excel(r'D:\\大三 下\\人工智能与python程序设计\\homework\\HW3\\Buyprice.xlsx')\n",
    "#rentdata0=pd.read_excel(r'D:\\大三 下\\人工智能与python程序设计\\homework\\HW3\\Rentprice.xlsx')\n",
    "\n",
    "#生成交叉项\n",
    "buydata0['Location1*totalsquare']=buydata0['Location1']*buydata0['squareMeter']\n",
    "buydata0['Location2*totalsquare']=buydata0['Location2']*buydata0['squareMeter']\n",
    "buydata0['Location3*totalsquare']=buydata0['Location3']*buydata0['squareMeter']\n",
    "buydata0['Location4*totalsquare']=buydata0['Location4']*buydata0['squareMeter']\n",
    "\n",
    "rentdata0['Location1*totalsquare']=rentdata0['Location1']*rentdata0['squareMeter']\n",
    "rentdata0['Location2*totalsquare']=rentdata0['Location2']*rentdata0['squareMeter']\n",
    "rentdata0['Location3*totalsquare']=rentdata0['Location3']*rentdata0['squareMeter']\n",
    "rentdata0['Location4*totalsquare']=rentdata0['Location4']*rentdata0['squareMeter']\n",
    "\n",
    "# print(buydata0)\n",
    "# print(rentdata0)"
   ]
  },
  {
   "cell_type": "code",
   "execution_count": 106,
   "id": "c93a25ce-7b45-4a63-8554-91e7c2adee8f",
   "metadata": {},
   "outputs": [],
   "source": [
    "# 生成新的预测数据\n",
    "new_x_50_1=[50,1,0,0,0,50,0,0,0]\n",
    "new_x_50_2=[50,0,1,0,0,0,50,0,0]\n",
    "new_x_50_3=[50,0,0,1,0,0,0,50,0]\n",
    "new_x_50_4=[50,0,0,0,1,0,0,0,50]\n",
    "\n",
    "new_x_100_1=[100,1,0,0,0,100,0,0,0]\n",
    "new_x_100_2=[100,0,1,0,0,0,100,0,0]\n",
    "new_x_100_3=[100,0,0,1,0,0,0,100,0]\n",
    "new_x_100_4=[100,0,0,0,1,0,0,0,100]"
   ]
  },
  {
   "cell_type": "markdown",
   "id": "37769579-fc8c-4e0f-bb13-4c4cdc3ace59",
   "metadata": {},
   "source": [
    "#### 回归分析"
   ]
  },
  {
   "cell_type": "markdown",
   "id": "3fc7c3be-f035-4260-bfff-cfac5a5c443f",
   "metadata": {},
   "source": [
    "以下为回归分析结果：\n",
    "\n",
    "可以看到，绝大多数系数显著。\n",
    "\n",
    "总体来说，售房价格与面积和地区有关，且与二者交叉项也显著。租房价格关于面积和地区有关，但面积的检验系数不如售房的系数显著。说明从租房来说，区位可能是更主要的影响因素。"
   ]
  },
  {
   "cell_type": "markdown",
   "id": "508beefb-eedb-4ac4-9c5b-45ef6d967ce7",
   "metadata": {},
   "source": [
    "#### 售房价格回归："
   ]
  },
  {
   "cell_type": "code",
   "execution_count": 136,
   "id": "93855987-3fde-4a2e-bad5-77d1039ebbd5",
   "metadata": {},
   "outputs": [
    {
     "name": "stdout",
     "output_type": "stream",
     "text": [
      "-----------------------------------------------------\n",
      "\n",
      "以下为售房价格的回归 ：\n",
      "\n",
      "                            OLS Regression Results                            \n",
      "==============================================================================\n",
      "Dep. Variable:         PricePerSquare   R-squared:                       0.054\n",
      "Model:                            OLS   Adj. R-squared:                  0.052\n",
      "Method:                 Least Squares   F-statistic:                     21.07\n",
      "Date:                Thu, 20 Mar 2025   Prob (F-statistic):           9.30e-28\n",
      "Time:                        17:43:48   Log-Likelihood:                -15683.\n",
      "No. Observations:                2574   AIC:                         3.138e+04\n",
      "Df Residuals:                    2566   BIC:                         3.143e+04\n",
      "Df Model:                           7                                         \n",
      "Covariance Type:            nonrobust                                         \n",
      "=========================================================================================\n",
      "                            coef    std err          t      P>|t|      [0.025      0.975]\n",
      "-----------------------------------------------------------------------------------------\n",
      "squareMeter              -0.0417      0.025     -1.650      0.099      -0.091       0.008\n",
      "Location1                28.2831      9.095      3.110      0.002      10.449      46.117\n",
      "Location2               101.1048      4.877     20.730      0.000      91.541     110.669\n",
      "Location3                20.8112      9.465      2.199      0.028       2.251      39.371\n",
      "Location4                33.6938      5.534      6.088      0.000      22.842      44.545\n",
      "Location1*totalsquare     0.1278      0.066      1.929      0.054      -0.002       0.258\n",
      "Location2*totalsquare    -0.3774      0.042     -8.895      0.000      -0.461      -0.294\n",
      "Location3*totalsquare     0.1608      0.067      2.387      0.017       0.029       0.293\n",
      "Location4*totalsquare     0.0472      0.038      1.257      0.209      -0.026       0.121\n",
      "==============================================================================\n",
      "Omnibus:                     5028.933   Durbin-Watson:                   1.496\n",
      "Prob(Omnibus):                  0.000   Jarque-Bera (JB):          9639198.838\n",
      "Skew:                          15.240   Prob(JB):                         0.00\n",
      "Kurtosis:                     301.240   Cond. No.                     6.79e+15\n",
      "==============================================================================\n",
      "\n",
      "Notes:\n",
      "[1] Standard Errors assume that the covariance matrix of the errors is correctly specified.\n",
      "[2] The smallest eigenvalue is 1.15e-24. This might indicate that there are\n",
      "strong multicollinearity problems or that the design matrix is singular.\n",
      "\n",
      "-----------------------------------------------------\n",
      "\n",
      "以下为租房价格的回归 ：\n",
      "\n",
      "                            OLS Regression Results                            \n",
      "==============================================================================\n",
      "Dep. Variable:         PricePerSquare   R-squared:                       0.054\n",
      "Model:                            OLS   Adj. R-squared:                  0.052\n",
      "Method:                 Least Squares   F-statistic:                     21.07\n",
      "Date:                Thu, 20 Mar 2025   Prob (F-statistic):           9.30e-28\n",
      "Time:                        17:43:48   Log-Likelihood:                -15683.\n",
      "No. Observations:                2574   AIC:                         3.138e+04\n",
      "Df Residuals:                    2566   BIC:                         3.143e+04\n",
      "Df Model:                           7                                         \n",
      "Covariance Type:            nonrobust                                         \n",
      "=========================================================================================\n",
      "                            coef    std err          t      P>|t|      [0.025      0.975]\n",
      "-----------------------------------------------------------------------------------------\n",
      "squareMeter              -0.0417      0.025     -1.650      0.099      -0.091       0.008\n",
      "Location1                28.2831      9.095      3.110      0.002      10.449      46.117\n",
      "Location2               101.1048      4.877     20.730      0.000      91.541     110.669\n",
      "Location3                20.8112      9.465      2.199      0.028       2.251      39.371\n",
      "Location4                33.6938      5.534      6.088      0.000      22.842      44.545\n",
      "Location1*totalsquare     0.1278      0.066      1.929      0.054      -0.002       0.258\n",
      "Location2*totalsquare    -0.3774      0.042     -8.895      0.000      -0.461      -0.294\n",
      "Location3*totalsquare     0.1608      0.067      2.387      0.017       0.029       0.293\n",
      "Location4*totalsquare     0.0472      0.038      1.257      0.209      -0.026       0.121\n",
      "==============================================================================\n",
      "Omnibus:                     5028.933   Durbin-Watson:                   1.496\n",
      "Prob(Omnibus):                  0.000   Jarque-Bera (JB):          9639198.838\n",
      "Skew:                          15.240   Prob(JB):                         0.00\n",
      "Kurtosis:                     301.240   Cond. No.                     6.79e+15\n",
      "==============================================================================\n",
      "\n",
      "Notes:\n",
      "[1] Standard Errors assume that the covariance matrix of the errors is correctly specified.\n",
      "[2] The smallest eigenvalue is 1.15e-24. This might indicate that there are\n",
      "strong multicollinearity problems or that the design matrix is singular.\n"
     ]
    }
   ],
   "source": [
    "import statsmodels.api as sm\n",
    "\n",
    "print('-----------------------------------------------------\\n')\n",
    "print('以下为售房价格的回归 ：\\n')\n",
    "\n",
    "y_buy=buydata0['PricePerSquare']\n",
    "x_buy=buydata0[['squareMeter','Location1','Location2','Location3','Location4','Location1*totalsquare','Location2*totalsquare','Location3*totalsquare','Location4*totalsquare']]\n",
    "model_buy=sm.OLS(y,x)\n",
    "result_buy=model_buy.fit()\n",
    "print(result_buy.summary())\n",
    "\n",
    "print('\\n-----------------------------------------------------\\n')\n",
    "print('以下为租房价格的回归 ：\\n')\n",
    "\n",
    "y_rent=rentdata0['PricePerSquare']\n",
    "x_rent=rentdata0[['squareMeter','Location1','Location2','Location3','Location4','Location1*totalsquare','Location2*totalsquare','Location3*totalsquare','Location4*totalsquare']]\n",
    "model_rent=sm.OLS(y,x)\n",
    "result_rent=model_rent.fit()\n",
    "print(result_rent.summary())"
   ]
  },
  {
   "cell_type": "markdown",
   "id": "456180ec-3c16-4557-b476-893a5304968c",
   "metadata": {},
   "source": [
    "#### 售房价格预测"
   ]
  },
  {
   "cell_type": "code",
   "execution_count": 130,
   "id": "5886f2e9-0d44-4401-a7dc-bf5979adc99a",
   "metadata": {},
   "outputs": [
    {
     "name": "stdout",
     "output_type": "stream",
     "text": [
      "50平 渝中 售房价格预测： [32.58726656]\n",
      "50平 渝北 售房价格预测： [80.14939199]\n",
      "50平 南岸 售房价格预测： [26.76697658]\n",
      "50平 江北 售房价格预测： [33.96689906]\n",
      "100平 渝中 售房价格预测： [36.89147721]\n",
      "100平 渝北 售房价格预测： [59.19401038]\n",
      "100平 南岸 售房价格预测： [32.72278087]\n",
      "100平 江北 售房价格预测： [34.24000386]\n"
     ]
    }
   ],
   "source": [
    "\n",
    "print('50平 渝中 售房价格预测：',result_buy.predict(new_x_50_1))\n",
    "print('50平 渝北 售房价格预测：',result_buy.predict(new_x_50_2))\n",
    "print('50平 南岸 售房价格预测：',result_buy.predict(new_x_50_3))\n",
    "print('50平 江北 售房价格预测：',result_buy.predict(new_x_50_4))\n",
    "print('100平 渝中 售房价格预测：',result_buy.predict(new_x_100_1))\n",
    "print('100平 渝北 售房价格预测：',result_buy.predict(new_x_100_2))\n",
    "print('100平 南岸 售房价格预测：',result_buy.predict(new_x_100_3))\n",
    "print('100平 江北 售房价格预测：',result_buy.predict(new_x_100_4))\n"
   ]
  },
  {
   "cell_type": "markdown",
   "id": "702f3403-676f-4826-9e50-db7942da1f53",
   "metadata": {},
   "source": [
    "#### 租房价格回归"
   ]
  },
  {
   "cell_type": "code",
   "execution_count": 132,
   "id": "e00c1167-f0db-4ef1-99d8-1379f6b210ee",
   "metadata": {},
   "outputs": [
    {
     "name": "stdout",
     "output_type": "stream",
     "text": [
      "\n",
      "-----------------------------------------------------\n",
      "\n",
      "以下为租房价格的回归 ：\n",
      "\n",
      "                            OLS Regression Results                            \n",
      "==============================================================================\n",
      "Dep. Variable:         PricePerSquare   R-squared:                       0.054\n",
      "Model:                            OLS   Adj. R-squared:                  0.052\n",
      "Method:                 Least Squares   F-statistic:                     21.07\n",
      "Date:                Thu, 20 Mar 2025   Prob (F-statistic):           9.30e-28\n",
      "Time:                        17:43:28   Log-Likelihood:                -15683.\n",
      "No. Observations:                2574   AIC:                         3.138e+04\n",
      "Df Residuals:                    2566   BIC:                         3.143e+04\n",
      "Df Model:                           7                                         \n",
      "Covariance Type:            nonrobust                                         \n",
      "=========================================================================================\n",
      "                            coef    std err          t      P>|t|      [0.025      0.975]\n",
      "-----------------------------------------------------------------------------------------\n",
      "squareMeter              -0.0417      0.025     -1.650      0.099      -0.091       0.008\n",
      "Location1                28.2831      9.095      3.110      0.002      10.449      46.117\n",
      "Location2               101.1048      4.877     20.730      0.000      91.541     110.669\n",
      "Location3                20.8112      9.465      2.199      0.028       2.251      39.371\n",
      "Location4                33.6938      5.534      6.088      0.000      22.842      44.545\n",
      "Location1*totalsquare     0.1278      0.066      1.929      0.054      -0.002       0.258\n",
      "Location2*totalsquare    -0.3774      0.042     -8.895      0.000      -0.461      -0.294\n",
      "Location3*totalsquare     0.1608      0.067      2.387      0.017       0.029       0.293\n",
      "Location4*totalsquare     0.0472      0.038      1.257      0.209      -0.026       0.121\n",
      "==============================================================================\n",
      "Omnibus:                     5028.933   Durbin-Watson:                   1.496\n",
      "Prob(Omnibus):                  0.000   Jarque-Bera (JB):          9639198.838\n",
      "Skew:                          15.240   Prob(JB):                         0.00\n",
      "Kurtosis:                     301.240   Cond. No.                     6.79e+15\n",
      "==============================================================================\n",
      "\n",
      "Notes:\n",
      "[1] Standard Errors assume that the covariance matrix of the errors is correctly specified.\n",
      "[2] The smallest eigenvalue is 1.15e-24. This might indicate that there are\n",
      "strong multicollinearity problems or that the design matrix is singular.\n"
     ]
    }
   ],
   "source": [
    "\n",
    "print('\\n-----------------------------------------------------\\n')\n",
    "print('以下为租房价格的回归 ：\\n')\n",
    "\n",
    "y_rent=rentdata0['PricePerSquare']\n",
    "x_rent=rentdata0[['squareMeter','Location1','Location2','Location3','Location4','Location1*totalsquare','Location2*totalsquare','Location3*totalsquare','Location4*totalsquare']]\n",
    "model_rent=sm.OLS(y,x)\n",
    "result_rent=model_rent.fit()\n",
    "print(result_rent.summary())"
   ]
  },
  {
   "cell_type": "markdown",
   "id": "1a13fe49-4dc4-4c23-84b4-fef637382a3b",
   "metadata": {},
   "source": [
    "#### 租房价格预测"
   ]
  },
  {
   "cell_type": "code",
   "execution_count": 134,
   "id": "05c4028c-29ee-48c1-bfcf-0b35233fd4bc",
   "metadata": {},
   "outputs": [
    {
     "name": "stdout",
     "output_type": "stream",
     "text": [
      "\n",
      "-----------------------------------------------------\n",
      "\n",
      "以下为租房价格的预测 ：\n",
      "\n",
      "50平 渝中 租房价格预测： [32.58726656]\n",
      "50平 渝北 租房价格预测： [80.14939199]\n",
      "50平 南岸 租房价格预测： [26.76697658]\n",
      "50平 江北 租房价格预测： [33.96689906]\n",
      "100平 渝中 租房价格预测： [36.89147721]\n",
      "100平 渝北 租房价格预测： [59.19401038]\n",
      "100平 南岸 租房价格预测： [32.72278087]\n",
      "100平 江北 租房价格预测： [34.24000386]\n"
     ]
    }
   ],
   "source": [
    "\n",
    "print('\\n-----------------------------------------------------\\n')\n",
    "print('以下为租房价格的预测 ：\\n')\n",
    "\n",
    "print('50平 渝中 租房价格预测：',result_rent.predict(new_x_50_1))\n",
    "print('50平 渝北 租房价格预测：',result_rent.predict(new_x_50_2))\n",
    "print('50平 南岸 租房价格预测：',result_rent.predict(new_x_50_3))\n",
    "print('50平 江北 租房价格预测：',result_rent.predict(new_x_50_4))\n",
    "print('100平 渝中 租房价格预测：',result_rent.predict(new_x_100_1))\n",
    "print('100平 渝北 租房价格预测：',result_rent.predict(new_x_100_2))\n",
    "print('100平 南岸 租房价格预测：',result_rent.predict(new_x_100_3))\n",
    "print('100平 江北 租房价格预测：',result_rent.predict(new_x_100_4))"
   ]
  },
  {
   "cell_type": "markdown",
   "id": "b7deae21-a614-44dc-a95b-589874128e0d",
   "metadata": {},
   "source": [
    "## 6、预测和绘图"
   ]
  },
  {
   "cell_type": "markdown",
   "id": "ff57fc75-652f-44fc-82fb-90fd1ed31d53",
   "metadata": {},
   "source": [
    "#### 预测："
   ]
  },
  {
   "cell_type": "code",
   "execution_count": 90,
   "id": "8439cfe1-f68b-44ad-8630-bf0a8a857cfe",
   "metadata": {},
   "outputs": [],
   "source": [
    "# 生成新的预测数据\n",
    "new_x_50_1=[50,1,0,0,0,50,0,0,0]\n",
    "new_x_50_2=[50,0,1,0,0,0,50,0,0]\n",
    "new_x_50_3=[50,0,0,1,0,0,0,50,0]\n",
    "new_x_50_4=[50,0,0,0,1,0,0,0,50]\n",
    "\n",
    "new_x_100_1=[100,1,0,0,0,100,0,0,0]\n",
    "new_x_100_2=[100,0,1,0,0,0,100,0,0]\n",
    "new_x_100_3=[100,0,0,1,0,0,0,100,0]\n",
    "new_x_100_4=[100,0,0,0,1,0,0,0,100]"
   ]
  },
  {
   "cell_type": "code",
   "execution_count": 102,
   "id": "9d593cf7-24ef-4129-93ba-13b683c717c7",
   "metadata": {},
   "outputs": [
    {
     "name": "stdout",
     "output_type": "stream",
     "text": [
      "50平 渝中 售房价格预测： [32.58726656]\n",
      "50平 渝北 售房价格预测： [80.14939199]\n",
      "50平 南岸 售房价格预测： [26.76697658]\n",
      "50平 江北 售房价格预测： [33.96689906]\n",
      "100平 渝中 售房价格预测： [36.89147721]\n",
      "100平 渝北 售房价格预测： [59.19401038]\n",
      "100平 南岸 售房价格预测： [32.72278087]\n",
      "100平 江北 售房价格预测： [34.24000386]\n",
      "50平 渝中 租房价格预测： [32.58726656]\n",
      "50平 渝北 租房价格预测： [80.14939199]\n",
      "50平 南岸 租房价格预测： [26.76697658]\n",
      "50平 江北 租房价格预测： [33.96689906]\n",
      "100平 渝中 租房价格预测： [36.89147721]\n",
      "100平 渝北 租房价格预测： [59.19401038]\n",
      "100平 南岸 租房价格预测： [32.72278087]\n",
      "100平 江北 租房价格预测： [34.24000386]\n"
     ]
    }
   ],
   "source": [
    "print('50平 渝中 售房价格预测：',result_buy.predict(new_x_50_1))\n",
    "print('50平 渝北 售房价格预测：',result_buy.predict(new_x_50_2))\n",
    "print('50平 南岸 售房价格预测：',result_buy.predict(new_x_50_3))\n",
    "print('50平 江北 售房价格预测：',result_buy.predict(new_x_50_4))\n",
    "print('100平 渝中 售房价格预测：',result_buy.predict(new_x_100_1))\n",
    "print('100平 渝北 售房价格预测：',result_buy.predict(new_x_100_2))\n",
    "print('100平 南岸 售房价格预测：',result_buy.predict(new_x_100_3))\n",
    "print('100平 江北 售房价格预测：',result_buy.predict(new_x_100_4))\n",
    "\n",
    "print('50平 渝中 租房价格预测：',result_rent.predict(new_x_50_1))\n",
    "print('50平 渝北 租房价格预测：',result_rent.predict(new_x_50_2))\n",
    "print('50平 南岸 租房价格预测：',result_rent.predict(new_x_50_3))\n",
    "print('50平 江北 租房价格预测：',result_rent.predict(new_x_50_4))\n",
    "print('100平 渝中 租房价格预测：',result_rent.predict(new_x_100_1))\n",
    "print('100平 渝北 租房价格预测：',result_rent.predict(new_x_100_2))\n",
    "print('100平 南岸 租房价格预测：',result_rent.predict(new_x_100_3))\n",
    "print('100平 江北 租房价格预测：',result_rent.predict(new_x_100_4))\n"
   ]
  },
  {
   "cell_type": "markdown",
   "id": "b5885187-53e7-41c9-99ff-6e5ea18886fa",
   "metadata": {},
   "source": [
    "## 7、绘图："
   ]
  },
  {
   "cell_type": "markdown",
   "id": "8ce06f5d-ba19-4502-ad3c-11acda9707fb",
   "metadata": {},
   "source": [
    "#### Plot A SquareMeter=50"
   ]
  },
  {
   "cell_type": "code",
   "execution_count": 148,
   "id": "679e4d93-8ed0-4ee3-a3fa-dff8fea87098",
   "metadata": {},
   "outputs": [
    {
     "name": "stdout",
     "output_type": "stream",
     "text": [
      "总租售比: 476 \n",
      "\n",
      "渝中租售比: 410 \n",
      "\n",
      "渝北租售比: 492 \n",
      "\n",
      "南岸租售比: 546 \n",
      "\n",
      "江北租售比: 476 \n",
      "\n"
     ]
    },
    {
     "data": {
      "image/png": "[encoded data removed]",
      "text/plain": [
       "<Figure size 640x480 with 1 Axes>"
      ]
     },
     "metadata": {},
     "output_type": "display_data"
    }
   ],
   "source": [
    "import matplotlib.pyplot as plt\n",
    "\n",
    "# 计算租售比\n",
    "Ratio0=buydata0['PricePerSquare'].median()/rentdata0['PricePerSquare'].median()\n",
    "Ratio1=buydata0['PricePerSquare'].median()/rentdata1['PricePerSquare'].median()\n",
    "Ratio2=buydata0['PricePerSquare'].median()/rentdata2['PricePerSquare'].median()\n",
    "Ratio3=buydata0['PricePerSquare'].median()/rentdata3['PricePerSquare'].median()\n",
    "Ratio4=buydata0['PricePerSquare'].median()/rentdata4['PricePerSquare'].median()\n",
    "print('总租售比:',int(Ratio0),'\\n')\n",
    "print('渝中租售比:',int(Ratio1),'\\n')\n",
    "print('渝北租售比:',int(Ratio2),'\\n')\n",
    "print('南岸租售比:',int(Ratio3),'\\n')\n",
    "print('江北租售比:',int(Ratio4),'\\n')\n",
    "\n",
    "# 绘图\n",
    "\n",
    "# 设置字体，防止无法显示中文\n",
    "plt.rcParams['font.sans-serif'] = ['SimHei']\n",
    "plt.rcParams['axes.unicode_minus'] = False\n",
    "\n",
    "catagory=['渝中','渝北','南岸','江北','全球200']\n",
    "value=[Ratio1,Ratio2,Ratio3,Ratio4,200]\n",
    "plt.bar(catagory,value,width=0.5,color='blue')\n",
    "plt.title('租售比预测柱状图 M2=50')\n",
    "plt.show()\n"
   ]
  },
  {
   "cell_type": "markdown",
   "id": "2df51226-db96-4747-81c1-b732399a9156",
   "metadata": {},
   "source": [
    "#### Plot B SquareMeter=100"
   ]
  },
  {
   "cell_type": "code",
   "execution_count": 146,
   "id": "9503804f-5899-45b6-b28b-ae49d12c2e70",
   "metadata": {},
   "outputs": [
    {
     "name": "stdout",
     "output_type": "stream",
     "text": [
      "总租售比: 476 \n",
      "\n",
      "渝中租售比: 410 \n",
      "\n",
      "渝北租售比: 492 \n",
      "\n",
      "南岸租售比: 546 \n",
      "\n",
      "江北租售比: 476 \n",
      "\n"
     ]
    },
    {
     "data": {
      "image/png": "[encoded data removed]",
      "text/plain": [
       "<Figure size 640x480 with 1 Axes>"
      ]
     },
     "metadata": {},
     "output_type": "display_data"
    }
   ],
   "source": [
    "import matplotlib.pyplot as plt\n",
    "\n",
    "# 计算租售比\n",
    "Ratio0=buydata0['PricePerSquare'].median()/rentdata0['PricePerSquare'].median()\n",
    "Ratio1=buydata0['PricePerSquare'].median()/rentdata1['PricePerSquare'].median()\n",
    "Ratio2=buydata0['PricePerSquare'].median()/rentdata2['PricePerSquare'].median()\n",
    "Ratio3=buydata0['PricePerSquare'].median()/rentdata3['PricePerSquare'].median()\n",
    "Ratio4=buydata0['PricePerSquare'].median()/rentdata4['PricePerSquare'].median()\n",
    "print('总租售比:',int(Ratio0),'\\n')\n",
    "print('渝中租售比:',int(Ratio1),'\\n')\n",
    "print('渝北租售比:',int(Ratio2),'\\n')\n",
    "print('南岸租售比:',int(Ratio3),'\\n')\n",
    "print('江北租售比:',int(Ratio4),'\\n')\n",
    "\n",
    "# 绘图\n",
    "\n",
    "# 设置字体，防止无法显示中文\n",
    "plt.rcParams['font.sans-serif'] = ['SimHei']\n",
    "plt.rcParams['axes.unicode_minus'] = False\n",
    "\n",
    "catagory=['渝中','渝北','南岸','江北','全球200']\n",
    "value=[Ratio1,Ratio2,Ratio3,Ratio4,200]\n",
    "plt.bar(catagory,value,width=0.5,color='blue')\n",
    "plt.title('租售比预测柱状图 M2=100')\n",
    "plt.show()\n"
   ]
  },
  {
   "cell_type": "code",
   "execution_count": null,
   "id": "7ab71675-54e0-441b-8a38-82552b41b007",
   "metadata": {},
   "outputs": [],
   "source": []
  }
 ],
 "metadata": {
  "kernelspec": {
   "display_name": "Python 3 (ipykernel)",
   "language": "python",
   "name": "python3"
  },
  "language_info": {
   "codemirror_mode": {
    "name": "ipython",
    "version": 3
   },
   "file_extension": ".py",
   "mimetype": "text/x-python",
   "name": "python",
   "nbconvert_exporter": "python",
   "pygments_lexer": "ipython3",
   "version": "3.11.7"
  }
 },
 "nbformat": 4,
 "nbformat_minor": 5
}
