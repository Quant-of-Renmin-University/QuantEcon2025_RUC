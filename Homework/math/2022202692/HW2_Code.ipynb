{
 "cells": [
  {
   "cell_type": "markdown",
   "id": "22ff5900-9eb6-478a-96c2-aa352c4b6ac3",
   "metadata": {},
   "source": [
    "## 1、读取数据和\n"
   ]
  },
  {
   "cell_type": "code",
   "execution_count": 2,
   "id": "fa860be4-3c98-4de6-9b59-947c037c26a8",
   "metadata": {},
   "outputs": [],
   "source": [
    "import pandas as pd\n",
    "\n",
    "schoolinformation=pd.read_excel('D:\\\\workspace_for_programs\\\\PYTHONworkspace\\\\school information.xls',header=None)\n",
    "#check whether the data is read properly\n",
    "#print(schoolinformation)"
   ]
  },
  {
   "cell_type": "code",
   "execution_count": 4,
   "id": "62377a8e-3674-4434-b8b6-c2ee5e2554d6",
   "metadata": {},
   "outputs": [],
   "source": [
    "schoolname=schoolinformation.iloc[:,0]\n",
    "program1=schoolinformation.iloc[:,1]\n",
    "program2=schoolinformation.iloc[:,2]\n",
    "program3=schoolinformation.iloc[:,3]\n",
    "total_num=len(schoolname)\n"
   ]
  },
  {
   "cell_type": "markdown",
   "id": "c8ed0018-8717-421b-97a6-5f211e86a428",
   "metadata": {},
   "source": [
    "## 2、 读取模板，替换，并保存为docx文件"
   ]
  },
  {
   "cell_type": "code",
   "execution_count": 6,
   "id": "3b42182a-6d15-47ab-bb86-ce2006d55598",
   "metadata": {},
   "outputs": [],
   "source": [
    "from docxtpl import DocxTemplate\n",
    "\n",
    "template=DocxTemplate('D:\\\\workspace_for_programs\\\\PYTHONworkspace\\\\ApplicationTemplate.docx')\n",
    "\n",
    "for i in range(total_num):\n",
    "    for t in range(3):\n",
    "        schoolname=schoolinformation.iloc[i,0]\n",
    "        program=schoolinformation.iloc[i,t+1]\n",
    "\n",
    "        context={\n",
    "        'School_Name':schoolname,\n",
    "        'Program_Name':program\n",
    "        }\n",
    "        template.render(context)\n",
    "        file_name=f\"D:\\\\Python_Output\\\\Application\\\\{schoolname}_{program}.docx\"\n",
    "        template.save(file_name)\n",
    "    "
   ]
  },
  {
   "cell_type": "markdown",
   "id": "10601806-65ec-4c35-8aeb-9b95e160a9e4",
   "metadata": {},
   "source": [
    "## 3、将文件夹中所有docx转化为pdf文件"
   ]
  },
  {
   "cell_type": "code",
   "execution_count": 10,
   "id": "842e5f25-5722-4d65-9380-7aa7f3e4c644",
   "metadata": {},
   "outputs": [
    {
     "data": {
      "application/vnd.jupyter.widget-view+json": {
       "model_id": "a7db4b2ed9864074a1eca6c8dd876e91",
       "version_major": 2,
       "version_minor": 0
      },
      "text/plain": [
       "  0%|          | 0/87 [00:00<?, ?it/s]"
      ]
     },
     "metadata": {},
     "output_type": "display_data"
    }
   ],
   "source": [
    "from docx2pdf import convert\n",
    "convert(\"D:\\\\Python_Output\\\\Application\\\\\",\"D:\\\\Python_Output\\\\ApplicationPdf\\\\\")\n"
   ]
  },
  {
   "cell_type": "markdown",
   "id": "8c756c77-2e4b-456c-9dd3-661ea1569708",
   "metadata": {},
   "source": [
    "## 完整代码"
   ]
  },
  {
   "cell_type": "code",
   "execution_count": 15,
   "id": "939f68e4-6c4f-40a6-a466-5af2ac84bc72",
   "metadata": {},
   "outputs": [
    {
     "data": {
      "application/vnd.jupyter.widget-view+json": {
       "model_id": "0b011351ab444d7889f6ee4ec6b5b231",
       "version_major": 2,
       "version_minor": 0
      },
      "text/plain": [
       "  0%|          | 0/87 [00:00<?, ?it/s]"
      ]
     },
     "metadata": {},
     "output_type": "display_data"
    }
   ],
   "source": [
    "#pip install docxtpl\n",
    "#pip install docx2pdf\n",
    "#install doxtpl and docx2pdf if not installed before\n",
    "import pandas as pd\n",
    "from docxtpl import DocxTemplate\n",
    "from docx2pdf import convert\n",
    "\n",
    "# Step1: Read the information \n",
    "schoolinformation=pd.read_excel('D:\\\\workspace_for_programs\\\\PYTHONworkspace\\\\school information.xls',header=None)\n",
    "#check whether the data is read properly\n",
    "#print(schoolinformation)\n",
    "schoolname=schoolinformation.iloc[:,0]\n",
    "total_num=len(schoolname)\n",
    "\n",
    "\n",
    "# Step2: Read the template\n",
    "template=DocxTemplate('D:\\\\workspace_for_programs\\\\PYTHONworkspace\\\\ApplicationTemplate.docx')\n",
    "\n",
    "# Step3: Loop to substitute the content & Save as docx \n",
    "for i in range(total_num):\n",
    "    for t in range(3):\n",
    "        schoolname=schoolinformation.iloc[i,0]\n",
    "        program=schoolinformation.iloc[i,t+1]\n",
    "\n",
    "        context={\n",
    "        'School_Name':schoolname,\n",
    "        'Program_Name':program\n",
    "        }\n",
    "        template.render(context)\n",
    "        file_name=f\"D:\\\\Python_Output\\\\Application\\\\{schoolname}_{program}.docx\"\n",
    "        template.save(file_name)\n",
    "\n",
    "# Step4: Convert all the docx into Pdf and save in another folder.\n",
    "convert(\"D:\\\\Python_Output\\\\Application\\\\\",\"D:\\\\Python_Output\\\\ApplicationPdf\\\\\")\n"
   ]
  }
 ],
 "metadata": {
  "kernelspec": {
   "display_name": "Python 3 (ipykernel)",
   "language": "python",
   "name": "python3"
  },
  "language_info": {
   "codemirror_mode": {
    "name": "ipython",
    "version": 3
   },
   "file_extension": ".py",
   "mimetype": "text/x-python",
   "name": "python",
   "nbconvert_exporter": "python",
   "pygments_lexer": "ipython3",
   "version": "3.11.7"
  }
 },
 "nbformat": 4,
 "nbformat_minor": 5
}
