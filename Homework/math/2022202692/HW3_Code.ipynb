{
 "cells": [
  {
   "cell_type": "markdown",
   "id": "7babacd4-e541-42ab-a275-af1ec8af39b7",
   "metadata": {},
   "source": [
    "## 1 获取买房价格"
   ]
  },
  {
   "cell_type": "code",
   "execution_count": 3,
   "id": "1eef63bc-759c-4b59-b435-4957ff341c03",
   "metadata": {
    "scrolled": true
   },
   "outputs": [
    {
     "name": "stdout",
     "output_type": "stream",
     "text": [
      "         0         1          2\n",
      "0     165万  13200元/㎡   低于市场价58万\n",
      "1     268万  16441元/㎡       None\n",
      "2     210万  16068元/㎡       None\n",
      "3     288万   8635元/㎡  低于市场价127万\n",
      "4     145万  13567元/㎡   低于市场价34万\n",
      "...    ...       ...        ...\n",
      "1195  148万  11384元/㎡       None\n",
      "1196  120万   7594元/㎡   低于市场价19万\n",
      "1197  143万  11818元/㎡       None\n",
      "1198  362万  30853元/㎡       None\n",
      "1199  100万  14534元/㎡       None\n",
      "\n",
      "[1200 rows x 3 columns]\n"
     ]
    }
   ],
   "source": [
    "from selenium import webdriver\n",
    "import pandas as pd\n",
    "\n",
    "driver=webdriver.Firefox()\n",
    "\n",
    "ur1=\"https://cq.esf.fang.com/house-a056/\"\n",
    "\n",
    "driver.get(ur1)\n",
    "\n",
    "#用于收集数据\n",
    "data=[]\n",
    "\n",
    "#循环抓取页面内容\n",
    "for pagenum in range(20):\n",
    "\n",
    "    #找到价格信息\n",
    "    price=driver.find_elements('class name','price_right')\n",
    "    house_count=len(price)\n",
    "    # 查看该面有多少房print(house_count)\n",
    "    \n",
    "    #找到翻页键\n",
    "    try:\n",
    "        #需要注意，有两个完全重名的class，因此用elemnets。当然，用element也可以，但只会读取第一个。\n",
    "        find_next_page=driver.find_elements('class name','last')\n",
    "        # print(find_next_page)\n",
    "        next_page=find_next_page[0]\n",
    "        # print(next_page)\n",
    "    except:\n",
    "        print('Do not find the element')\n",
    "    #循环录入该页的价格信息\n",
    "    for i in range(house_count):\n",
    "        #读取为字符串，以\\n分割\n",
    "        price_information=price[i].text.split('\\n')\n",
    "        # 查看是否正确读取： print(price_information)\n",
    "        #添加到数据集\n",
    "        data.append(price_information)\n",
    "        \n",
    "    #检查数据：print(data)\n",
    "    \n",
    "    #该面录入完成后，翻页\n",
    "    next_page.click()\n",
    "\n",
    "driver.quit()\n",
    "#导入到pandas格式\n",
    "df=pd.DataFrame(data)\n",
    "print(df)\n"
   ]
  },
  {
   "cell_type": "code",
   "execution_count": 5,
   "id": "fc538669-5a31-42c8-9f34-6b790841a508",
   "metadata": {
    "scrolled": true
   },
   "outputs": [
    {
     "name": "stdout",
     "output_type": "stream",
     "text": [
      "     总价（万元） 单价（元/㎡）\n",
      "0       165   13200\n",
      "1       268   16441\n",
      "2       210   16068\n",
      "3       288    8635\n",
      "4       145   13567\n",
      "...     ...     ...\n",
      "1195    148   11384\n",
      "1196    120    7594\n",
      "1197    143   11818\n",
      "1198    362   30853\n",
      "1199    100   14534\n",
      "\n",
      "[1200 rows x 2 columns]\n",
      "File has been saved\n"
     ]
    }
   ],
   "source": [
    "#清洗数据\n",
    "df[0]=df[0].str.replace('万','')\n",
    "df[1]=df[1].str.replace('元/㎡','')\n",
    "df.drop(columns=[2], inplace=True)\n",
    "df.columns = ['总价（万元）', '单价（元/㎡）']\n",
    "print(df)\n",
    "# 保存\n",
    "df.to_excel(\"Price_of_buying.xlsx\",header=True,index=False)\n",
    "print(\"File has been saved\")"
   ]
  },
  {
   "cell_type": "markdown",
   "id": "a5605357-4271-49ce-8858-88d65eb9d0bc",
   "metadata": {},
   "source": [
    "## 2 获取租房价格"
   ]
  },
  {
   "cell_type": "code",
   "execution_count": 160,
   "id": "590ef9c1-59da-4e9d-bfc3-59fe22aac20e",
   "metadata": {},
   "outputs": [
    {
     "name": "stdout",
     "output_type": "stream",
     "text": [
      "    总价格（元）   0     1     2    3\n",
      "0     4000  整租  3室2厅  145㎡   朝南\n",
      "1     6000  整租  4室2厅  207㎡  朝东北\n",
      "2     5000  整租  1室1厅   68㎡   朝南\n",
      "3     8000  整租  5室2厅  245㎡   朝南\n",
      "4     8000  整租  3室2厅  147㎡   朝南\n",
      "..     ...  ..   ...   ...  ...\n",
      "468   4500  整租  2室1厅   59㎡   朝南\n",
      "469   2600  整租  2室1厅   55㎡   朝南\n",
      "470   4000  整租  3室2厅   93㎡   朝南\n",
      "471   6000  整租  3室2厅  134㎡   朝南\n",
      "472   7500  整租  3室2厅  111㎡   朝南\n",
      "\n",
      "[473 rows x 5 columns]\n"
     ]
    }
   ],
   "source": [
    "from selenium import webdriver\n",
    "import pandas as pd\n",
    "\n",
    "driver2=webdriver.Firefox()\n",
    "\n",
    "ur2='https://cq.zu.fang.com/house-a056/'\n",
    "\n",
    "driver2.get(ur2)\n",
    "\n",
    "#用于收集数据\n",
    "data1=[]\n",
    "data2=[]\n",
    "\n",
    "#循环抓取页面内容\n",
    "for pagenum in range(8):\n",
    "    \n",
    "    #找到价格信息\n",
    "    rent_information=driver2.find_elements('class name','price') #总价\n",
    "    rent_information2=driver2.find_elements('class name','font15') #面积等\n",
    "    Total_num=len(rent_information)\n",
    "    \n",
    "    #print(Total_num)\n",
    "    for i in range(Total_num):\n",
    "        #出租信息\n",
    "        data1.append(rent_information2[i].text.split('|'))\n",
    "        #出租价格\n",
    "        data2.append(rent_information[i].text)\n",
    "    #检查数据：print(data2)\n",
    "    \n",
    "    #该面录入完成后，翻页，注意该信息仅8页，最后一页不应再翻页\n",
    "    if pagenum<7:\n",
    "        try:\n",
    "            #需要注意，有两个完全重名的class，因此用elemnets。当然，用element也可以，但只会读取第一个。\n",
    "            find_next_page=driver2.find_elements('link text',\"下一页\")\n",
    "            # print(find_next_page)\n",
    "        except:\n",
    "            print('Do not find the element in page',i+1)\n",
    "        find_next_page[0].click()\n",
    "\n",
    "#导入到pandas格式\n",
    "df2=pd.DataFrame(data1)\n",
    "df2.insert(0,'总价格（元）',data2)\n",
    "print(df2)\n",
    "driver2.quit()"
   ]
  },
  {
   "cell_type": "code",
   "execution_count": 154,
   "id": "3ffcc5c3-4faf-435c-92ef-271c2436a440",
   "metadata": {},
   "outputs": [
    {
     "name": "stdout",
     "output_type": "stream",
     "text": [
      "     总价（元） 面积（㎡）\n",
      "0     4000   145\n",
      "1     6000   207\n",
      "2     8000   147\n",
      "3    12000   300\n",
      "4     3500   117\n",
      "..     ...   ...\n",
      "468   4500    59\n",
      "469   2600    55\n",
      "470   4000    93\n",
      "471   6000   134\n",
      "472   7500   111\n",
      "\n",
      "[473 rows x 2 columns]\n"
     ]
    }
   ],
   "source": [
    "#清洗数据\n",
    "#df1=df2\n",
    "df2.columns = ['总价（元）', '合租类型','户型','面积（㎡）','朝向']\n",
    "df2['面积（㎡）']=df2['面积（㎡）'].str.replace('㎡','')\n",
    "\n",
    "df2.drop(columns=['户型'], inplace=True)\n",
    "df2.drop(columns=['朝向'], inplace=True)\n",
    "df2.drop(columns=['合租类型'],inplace=True)\n",
    "print(df2)\n",
    "#print(df1)\n",
    "\n",
    "df2.to_excel(\"Price_of_Renting.xlsx\",header=True,index=False)\n"
   ]
  },
  {
   "cell_type": "code",
   "execution_count": null,
   "id": "cea44b26-4953-49b8-8f0c-3089384cf678",
   "metadata": {},
   "outputs": [],
   "source": []
  }
 ],
 "metadata": {
  "kernelspec": {
   "display_name": "Python 3 (ipykernel)",
   "language": "python",
   "name": "python3"
  },
  "language_info": {
   "codemirror_mode": {
    "name": "ipython",
    "version": 3
   },
   "file_extension": ".py",
   "mimetype": "text/x-python",
   "name": "python",
   "nbconvert_exporter": "python",
   "pygments_lexer": "ipython3",
   "version": "3.11.7"
  }
 },
 "nbformat": 4,
 "nbformat_minor": 5
}
