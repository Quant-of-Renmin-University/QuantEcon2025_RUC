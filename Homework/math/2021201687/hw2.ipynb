{
 "cells": [
  {
   "cell_type": "markdown",
   "id": "5bc62d15-0313-4e67-975b-dfa7b5ac8a1c",
   "metadata": {},
   "source": [
    "<font face='华文中宋' size=5>\n",
    "<center>\n",
    "<b>\n",
    "朱堃琳 2021201687 第二次作业\n",
    "</b>\n",
    "</center>\n",
    "</font>"
   ]
  },
  {
   "cell_type": "code",
   "execution_count": null,
   "id": "1b9feb4d-208a-498a-a7fe-9987a5523cb0",
   "metadata": {},
   "outputs": [],
   "source": [
    "!pip install docxtpl\n",
    "\n",
    "!pip install docx2pdf\n",
    "\n",
    "import pandas as pd\n",
    "from docxtpl import DocxTemplate\n",
    "from docx2pdf import convert\n",
    "import os\n",
    "\n",
    "# Load the Excel file\n",
    "df = pd.read_excel(\"C:\\\\Users\\\\DELL\\\\Desktop\\\\universities.xlsx.xlsx\")\n",
    "\n",
    "# Load the Word template\n",
    "template = DocxTemplate(\"C:\\\\Users\\\\DELL\\\\Desktop\\\\sop_template.docx.docx\")\n",
    "\n",
    "# Create a directory to store the generated files\n",
    "if not os.path.exists(\"generated_sops\"):\n",
    "    os.makedirs(\"generated_sops\")\n",
    "\n",
    "# Loop through each university and program\n",
    "for index, row in df.iterrows():\n",
    "    university = row[\"University Names\"]\n",
    "    for i in range(1, 4):  # Loop through Major1, Major2, Major3\n",
    "        program = row[f\"Major{i}\"]\n",
    "        \n",
    "        # Context to fill the template\n",
    "        context = {\n",
    "            \"university\": university,\n",
    "            \"program\": program,\n",
    "        }\n",
    "        \n",
    "        # Render the template\n",
    "        template.render(context)\n",
    "        \n",
    "        # Save the generated SOP\n",
    "        output_file = f\"generated_sops/SOP_{university.replace(' ', '_')}_{program.replace(' ', '_')}.docx\"\n",
    "        template.save(output_file)\n",
    "        \n",
    "        # Convert to PDF (Windows only)\n",
    "        # convert(output_file)\n",
    "\n",
    "print(\"SOPs generated successfully!\")"
   ]
  },
  {
   "cell_type": "code",
   "execution_count": 9,
   "id": "23d743fd-0bf2-4f59-a3ac-165622e9923d",
   "metadata": {},
   "outputs": [
    {
     "data": {
      "application/vnd.jupyter.widget-view+json": {
       "model_id": "4a256af8deb04948979ada292cb942f8",
       "version_major": 2,
       "version_minor": 0
      },
      "text/plain": [
       "  0%|          | 0/1 [00:00<?, ?it/s]"
      ]
     },
     "metadata": {},
     "output_type": "display_data"
    }
   ],
   "source": [
    "from docx2pdf import convert\n",
    "\n",
    "# generate PDFs from the Word documents\n",
    "convert(output_file)"
   ]
  }
 ],
 "metadata": {
  "kernelspec": {
   "display_name": "Python 3 (ipykernel)",
   "language": "python",
   "name": "python3"
  },
  "language_info": {
   "codemirror_mode": {
    "name": "ipython",
    "version": 3
   },
   "file_extension": ".py",
   "mimetype": "text/x-python",
   "name": "python",
   "nbconvert_exporter": "python",
   "pygments_lexer": "ipython3",
   "version": "3.11.7"
  }
 },
 "nbformat": 4,
 "nbformat_minor": 5
}
