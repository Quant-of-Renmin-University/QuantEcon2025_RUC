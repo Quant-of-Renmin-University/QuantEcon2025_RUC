{
 "cells": [
  {
   "cell_type": "markdown",
   "id": "9575a619-bc40-4ad1-bed3-ac36f6d856fe",
   "metadata": {},
   "source": [
    "<font face='华文中宋' size=5>\n",
    "<center>\n",
    "<b>\n",
    "朱堃琳 2021201687 第三次作业\n",
    "</b>\n",
    "</center>\n",
    "</font>"
   ]
  },
  {
   "cell_type": "code",
   "execution_count": 115,
   "id": "1befb69a-e318-450b-96ef-0dd892d7871e",
   "metadata": {},
   "outputs": [
    {
     "name": "stdout",
     "output_type": "stream",
     "text": [
      "Looking in indexes: https://pypi.tuna.tsinghua.edu.cn/simple\n",
      "Requirement already satisfied: selenium in d:\\python\\lib\\site-packages (4.29.0)\n",
      "Requirement already satisfied: urllib3<3,>=1.26 in d:\\python\\lib\\site-packages (from urllib3[socks]<3,>=1.26->selenium) (2.2.3)\n",
      "Requirement already satisfied: trio~=0.17 in d:\\python\\lib\\site-packages (from selenium) (0.29.0)\n",
      "Requirement already satisfied: trio-websocket~=0.9 in d:\\python\\lib\\site-packages (from selenium) (0.12.2)\n",
      "Requirement already satisfied: certifi>=2021.10.8 in d:\\python\\lib\\site-packages (from selenium) (2025.1.31)\n",
      "Requirement already satisfied: typing_extensions~=4.9 in d:\\python\\lib\\site-packages (from selenium) (4.11.0)\n",
      "Requirement already satisfied: websocket-client~=1.8 in d:\\python\\lib\\site-packages (from selenium) (1.8.0)\n",
      "Requirement already satisfied: attrs>=23.2.0 in d:\\python\\lib\\site-packages (from trio~=0.17->selenium) (25.3.0)\n",
      "Requirement already satisfied: sortedcontainers in d:\\python\\lib\\site-packages (from trio~=0.17->selenium) (2.4.0)\n",
      "Requirement already satisfied: idna in d:\\python\\lib\\site-packages (from trio~=0.17->selenium) (3.7)\n",
      "Requirement already satisfied: outcome in d:\\python\\lib\\site-packages (from trio~=0.17->selenium) (1.3.0.post0)\n",
      "Requirement already satisfied: sniffio>=1.3.0 in d:\\python\\lib\\site-packages (from trio~=0.17->selenium) (1.3.0)\n",
      "Requirement already satisfied: cffi>=1.14 in d:\\python\\lib\\site-packages (from trio~=0.17->selenium) (1.17.1)\n",
      "Requirement already satisfied: wsproto>=0.14 in d:\\python\\lib\\site-packages (from trio-websocket~=0.9->selenium) (1.2.0)\n",
      "Requirement already satisfied: pysocks!=1.5.7,<2.0,>=1.5.6 in d:\\python\\lib\\site-packages (from urllib3[socks]<3,>=1.26->selenium) (1.7.1)\n",
      "Requirement already satisfied: pycparser in d:\\python\\lib\\site-packages (from cffi>=1.14->trio~=0.17->selenium) (2.21)\n",
      "Requirement already satisfied: h11<1,>=0.9.0 in d:\\python\\lib\\site-packages (from wsproto>=0.14->trio-websocket~=0.9->selenium) (0.14.0)\n",
      "Note: you may need to restart the kernel to use updated packages.\n"
     ]
    }
   ],
   "source": [
    "pip install selenium -i https://pypi.tuna.tsinghua.edu.cn/simple"
   ]
  },
  {
   "cell_type": "code",
   "execution_count": 117,
   "id": "bbf65058-8333-4d86-b9ef-67fa4d96afdc",
   "metadata": {},
   "outputs": [],
   "source": [
    "from selenium import webdriver\n",
    "from selenium.webdriver.edge.service import Service\n",
    "from selenium.webdriver.common.by import By\n",
    "from selenium.common.exceptions import NoSuchElementException\n",
    "import re\n",
    "import pandas as pd\n",
    "import time\n",
    "import numpy as np\n",
    "import matplotlib.pyplot as plt\n",
    "import seaborn as sns"
   ]
  },
  {
   "cell_type": "code",
   "execution_count": 119,
   "id": "7968d1bd-cc32-47ff-a0eb-27e149901111",
   "metadata": {},
   "outputs": [],
   "source": [
    "def InitDriver(driver_path: str):\n",
    "    \"\"\"\n",
    "    初始化驱动器\n",
    "    \"\"\"\n",
    "    service = Service(driver_path)\n",
    "    driver = webdriver.Edge(service=service)\n",
    "    driver.implicitly_wait(15)\n",
    "    return driver"
   ]
  },
  {
   "cell_type": "markdown",
   "id": "6d7b0eaf-f941-4633-b338-33dd31035d39",
   "metadata": {},
   "source": [
    "<font face='华文中宋' size=3>\n",
    "一、二手房价格数据爬取\n",
    "</font>"
   ]
  },
  {
   "cell_type": "code",
   "execution_count": 122,
   "id": "49237dc6-951d-4185-928a-f3006f8b7422",
   "metadata": {},
   "outputs": [
    {
     "name": "stdout",
     "output_type": "stream",
     "text": [
      "         0         1         2\n",
      "0     150万  10489元/㎡      None\n",
      "1     179万  11933元/㎡  低于市场价11万\n",
      "2     188万  12965元/㎡      None\n",
      "3     598万  20480元/㎡      None\n",
      "4     230万  13294元/㎡      None\n",
      "...    ...       ...       ...\n",
      "1195  225万  13417元/㎡      None\n",
      "1196  329万  21671元/㎡      None\n",
      "1197  380万  21341元/㎡      None\n",
      "1198  265万  19064元/㎡      None\n",
      "1199  210万  12491元/㎡      None\n",
      "\n",
      "[1200 rows x 3 columns]\n"
     ]
    }
   ],
   "source": [
    "\n",
    "    PATH_1 = r\"C:\\Program Files (x86)\\Microsoft\\Edge\\Application\\msedgedriver.exe\"  # 驱动器地址\n",
    "    URL_1 = \"https://cq.esf.fang.com/\"  # 网页url\n",
    "    df_list_1 = []  # 用来存放每个街区的网页的 DataFrame\n",
    "\n",
    "    # 打开网页，翻到“南岸”\n",
    "    driver = InitDriver(PATH_1)\n",
    "    driver.get(URL_1)\n",
    "    driver.find_element(by=By.LINK_TEXT, value = '南岸').click()\n",
    "\n",
    "    # 只爬取前二十面网页\n",
    "    for pagenum in range(20):\n",
    "        price = driver.find_elements(By.CLASS_NAME, 'price_right')  # 总价\n",
    "        other_information = driver.find_elements(By.CLASS_NAME,'tel_shop')  # 其他信息\n",
    "        total_sale = len(other_information)  # 获取在售房总数\n",
    "\n",
    "        for i in range(total_sale):\n",
    "            price_information = price[i].text.split('\\n')  # 读取text\n",
    "            df_list_1.append(price_information)  # 添加到数据集\n",
    "\n",
    "        try:\n",
    "            button = driver.find_element(by=By.PARTIAL_LINK_TEXT, value = '下一页')\n",
    "            driver.execute_script(\"arguments[0].click();\", button)\n",
    "        except NoSuchElementException:\n",
    "            break\n",
    "\n",
    "    driver.quit()\n",
    "    df_1 = pd.DataFrame(df_list_1)\n",
    "    print(df_1)    "
   ]
  },
  {
   "cell_type": "code",
   "execution_count": 124,
   "id": "7fd2b88f-9790-4f50-b197-1ecdb4694ec3",
   "metadata": {},
   "outputs": [
    {
     "name": "stdout",
     "output_type": "stream",
     "text": [
      "      总价（万元）  单价（元/㎡）\n",
      "0      150.0    10489\n",
      "1      179.0    11933\n",
      "2      188.0    12965\n",
      "3      598.0    20480\n",
      "4      230.0    13294\n",
      "...      ...      ...\n",
      "1195   225.0    13417\n",
      "1196   329.0    21671\n",
      "1197   380.0    21341\n",
      "1198   265.0    19064\n",
      "1199   210.0    12491\n",
      "\n",
      "[1200 rows x 2 columns]\n"
     ]
    }
   ],
   "source": [
    "    # 整理获得二手房总价-单价数据文件\n",
    "    df_1[0]=df_1[0].str.replace('万','')\n",
    "    df_1[0] = pd.to_numeric(df_1[0], errors='coerce')  # 把总价转化为数值变量\n",
    "    df_1[1]=df_1[1].str.replace('元/㎡','')\n",
    "    df_1[1] = pd.to_numeric(df_1[1], errors='coerce')  # 把单价转化为数值变量\n",
    "    df_1.drop(columns=[2], inplace=True)\n",
    "    df_1.columns = ['总价（万元）', '单价（元/㎡）']\n",
    "    print(df_1)\n",
    "    df_1.to_excel(\"重庆南岸房价.xlsx\",header=True,index=False)"
   ]
  },
  {
   "cell_type": "markdown",
   "id": "8e8fac8f-0c15-461d-bcec-a6279afde5e1",
   "metadata": {},
   "source": [
    "<font face='华文中宋' size=3>\n",
    "二、租房价格数据爬取\n",
    "</font>"
   ]
  },
  {
   "cell_type": "code",
   "execution_count": 127,
   "id": "0845bcdc-3200-4240-9065-3b89774e416e",
   "metadata": {},
   "outputs": [
    {
     "name": "stdout",
     "output_type": "stream",
     "text": [
      "    总价格（元）   0     1     2    3\n",
      "0      650  整租  1室0厅   35㎡   朝南\n",
      "1      650  整租  1室0厅   35㎡   朝南\n",
      "2     8000  整租  1室2厅  122㎡   朝南\n",
      "3    22000  整租  5室2厅  400㎡  朝西南\n",
      "4     5800  整租  3室2厅  108㎡   朝东\n",
      "..     ...  ..   ...   ...  ...\n",
      "262   1400  整租  2室1厅   52㎡   朝南\n",
      "263   1800  整租  3室2厅  120㎡   朝南\n",
      "264   1550  整租  2室1厅   43㎡   朝南\n",
      "265   1500  整租  2室1厅   43㎡   朝南\n",
      "266   2500  整租  3室2厅   91㎡   朝南\n",
      "\n",
      "[267 rows x 5 columns]\n"
     ]
    }
   ],
   "source": [
    "\n",
    "    PATH_2 = r\"C:\\Program Files (x86)\\Microsoft\\Edge\\Application\\msedgedriver.exe\"  # 驱动器地址\n",
    "    URL_2 = \"https://cq.zu.fang.com/\"  # 网页url\n",
    "    df_list_2_1 = []  # 用来存放每个街区的总价的 DataFrame\n",
    "    df_list_2_2 = []  # 用来存放每个街区的其他信息的 DateFrame\n",
    "\n",
    "    # 打开网页，翻到“南岸”\n",
    "    driver_2 = InitDriver(PATH_2)\n",
    "    driver_2.get(URL_2)\n",
    "    driver_2.find_element(by=By.LINK_TEXT, value = '南岸').click()\n",
    "\n",
    "    # 爬取全部六面\n",
    "    for pagenum in range(5):\n",
    "        rent_price = driver_2.find_elements(By.CLASS_NAME, 'price')  # 出租总价\n",
    "        other_rent_information = driver_2.find_elements(By.CLASS_NAME,'font15')  # 面积等其他信息\n",
    "        total_rent = len(other_rent_information)  # 获取在售房总数\n",
    "\n",
    "        for i in range(total_rent):\n",
    "            df_list_2_1.append(rent_price[i].text)  # 出租总价添加到数据集1\n",
    "            df_list_2_2.append(other_rent_information[i].text.split('|'))  # 面积等其他信息添加到数据集2\n",
    "\n",
    "        try:\n",
    "            button = driver_2.find_element(by=By.PARTIAL_LINK_TEXT, value = '下一页')\n",
    "            driver_2.execute_script(\"arguments[0].click();\", button)\n",
    "        except NoSuchElementException:\n",
    "            break\n",
    "\n",
    "    driver_2.quit()\n",
    "    df_2 = pd.DataFrame(df_list_2_2)\n",
    "    df_2.insert(0, '总价格（元）', df_list_2_1)\n",
    "    print(df_2)  "
   ]
  },
  {
   "cell_type": "code",
   "execution_count": 129,
   "id": "6b089d17-48e8-4774-af71-96029a0d237d",
   "metadata": {},
   "outputs": [
    {
     "name": "stdout",
     "output_type": "stream",
     "text": [
      "     总价（元）    单价（元/㎡）\n",
      "0      650  18.571429\n",
      "1      650  18.571429\n",
      "2     8000  65.573770\n",
      "3    22000  55.000000\n",
      "4     5800  53.703704\n",
      "..     ...        ...\n",
      "262   1400  26.923077\n",
      "263   1800  15.000000\n",
      "264   1550  36.046512\n",
      "265   1500  34.883721\n",
      "266   2500  27.472527\n",
      "\n",
      "[267 rows x 2 columns]\n"
     ]
    }
   ],
   "source": [
    "    # 整理获得租房总价-单价数据文件\n",
    "    df_2.columns = ['总价（元）', '合租类型','户型','面积（㎡）','朝向']\n",
    "    df_2['面积（㎡）'] = df_2['面积（㎡）'].str.replace('㎡','')\n",
    "    df_2['总价（元）'] = pd.to_numeric(df_2['总价（元）'], errors='coerce')  # 把总价转化为数值变量\n",
    "    df_2['面积（㎡）'] = pd.to_numeric(df_2['面积（㎡）'], errors='coerce')  # 把面积转化为数值变量\n",
    "    df_2['面积（㎡）'] = df_2['总价（元）'] / df_2['面积（㎡）']  # 计算单价\n",
    "    df_2.drop(columns=['户型'], inplace=True)\n",
    "    df_2.drop(columns=['朝向'], inplace=True)\n",
    "    df_2.drop(columns=['合租类型'],inplace=True)\n",
    "    df_2.columns = ['总价（元）', '单价（元/㎡）']\n",
    "    print(df_2)\n",
    "    df_2.to_excel(\"重庆南岸租房.xlsx\",header=True,index=False) "
   ]
  },
  {
   "cell_type": "markdown",
   "id": "cd6823b3-4017-4832-b80d-c07347495fbc",
   "metadata": {},
   "source": [
    "<font face='华文中宋' size=3>\n",
    "三、数据描述与异常值检测\n",
    "</font>"
   ]
  },
  {
   "cell_type": "markdown",
   "id": "c9120692-9c17-4bf2-8c9c-c9416a7385ac",
   "metadata": {},
   "source": [
    "<font face='华文中宋' size=2>\n",
    "通过上述两步获得了重庆南岸的二手房和租房数据文件，以下进行数据描述及缺失值异常值检测\n",
    "</font>"
   ]
  },
  {
   "cell_type": "code",
   "execution_count": 133,
   "id": "23672699-39a4-4484-a99f-3978b2d4f0eb",
   "metadata": {},
   "outputs": [
    {
     "name": "stdout",
     "output_type": "stream",
     "text": [
      "df_1 的统计描述：\n",
      "            总价（万元）       单价（元/㎡）\n",
      "count  1200.000000   1200.000000\n",
      "mean    244.666917  14200.705000\n",
      "std     216.253264   5336.990074\n",
      "min      36.000000   5829.000000\n",
      "25%     138.800000  10886.000000\n",
      "50%     185.000000  12477.500000\n",
      "75%     260.000000  16135.250000\n",
      "max    1800.000000  44187.000000\n",
      "\n",
      "\n",
      "df_2 的统计描述：\n",
      "              总价（元）     单价（元/㎡）\n",
      "count    267.000000  267.000000\n",
      "mean    3334.752809   31.487861\n",
      "std     5977.815341   16.105768\n",
      "min      399.000000    5.555556\n",
      "25%      650.000000   22.330927\n",
      "50%     1500.000000   27.960000\n",
      "75%     2500.000000   34.615385\n",
      "max    45000.000000  120.643432\n",
      "\n",
      "\n"
     ]
    }
   ],
   "source": [
    "# 1. 统计描述\n",
    "print(\"df_1 的统计描述：\")\n",
    "print(df_1.describe())\n",
    "print(\"\\n\")\n",
    "\n",
    "print(\"df_2 的统计描述：\")\n",
    "print(df_2.describe())\n",
    "print(\"\\n\")"
   ]
  },
  {
   "cell_type": "code",
   "execution_count": 135,
   "id": "2600f272-85a4-468b-af96-61dba489b65d",
   "metadata": {},
   "outputs": [
    {
     "name": "stdout",
     "output_type": "stream",
     "text": [
      "df_1 的缺失值情况：\n",
      "总价（万元）     0\n",
      "单价（元/㎡）    0\n",
      "dtype: int64\n",
      "\n",
      "\n",
      "df_2 的缺失值情况：\n",
      "总价（元）      0\n",
      "单价（元/㎡）    0\n",
      "dtype: int64\n",
      "\n",
      "\n"
     ]
    }
   ],
   "source": [
    "# 2. 缺失值分析\n",
    "print(\"df_1 的缺失值情况：\")\n",
    "print(df_1.isnull().sum())\n",
    "print(\"\\n\")\n",
    "\n",
    "print(\"df_2 的缺失值情况：\")\n",
    "print(df_2.isnull().sum())\n",
    "print(\"\\n\")"
   ]
  },
  {
   "cell_type": "code",
   "execution_count": 137,
   "id": "f6179a51-7544-46b1-b8eb-fe0f1f26c1c9",
   "metadata": {},
   "outputs": [
    {
     "name": "stdout",
     "output_type": "stream",
     "text": [
      "df_1 单价异常值：\n",
      "      总价（万元）  单价（元/㎡）\n",
      "8     1250.0    31215\n",
      "278    368.0    27198\n",
      "318    498.0    24977\n",
      "342    570.0    28934\n",
      "382    368.0    27198\n",
      "...      ...      ...\n",
      "1165   336.0    26656\n",
      "1168   750.0    29828\n",
      "1171   345.0    25873\n",
      "1172   463.0    32345\n",
      "1181  1425.0    33490\n",
      "\n",
      "[65 rows x 2 columns]\n",
      "\n",
      "\n",
      "df_1 总价异常值：\n",
      "      总价（万元）  单价（元/㎡）\n",
      "3      598.0    20480\n",
      "8     1250.0    31215\n",
      "26     468.0    11848\n",
      "73     515.0    16108\n",
      "136    496.0    13589\n",
      "...      ...      ...\n",
      "1180   545.0    12105\n",
      "1181  1425.0    33490\n",
      "1182   688.0    15112\n",
      "1184   570.0    14629\n",
      "1190   480.0    14318\n",
      "\n",
      "[122 rows x 2 columns]\n",
      "\n",
      "\n",
      "df_2 单价异常值：\n",
      "     总价（元）     单价（元/㎡）\n",
      "2     8000   65.573770\n",
      "3    22000   55.000000\n",
      "4     5800   53.703704\n",
      "7    13000   64.039409\n",
      "9     6500   60.185185\n",
      "16    6000   55.555556\n",
      "17   13000   65.656566\n",
      "20   18000   65.217391\n",
      "22   30000  109.090909\n",
      "25   13000   66.326531\n",
      "26   45000  120.643432\n",
      "44   24000   62.337662\n",
      "58   40000   94.562648\n",
      "71    4000   57.142857\n",
      "73   12000   59.113300\n",
      "86   40000   94.562648\n",
      "94   10000   81.967213\n",
      "104  16800   61.764706\n",
      "118  12500   61.576355\n",
      "122  12000   59.113300\n",
      "137   4800   62.337662\n",
      "148  12500   61.576355\n",
      "155  25000   64.935065\n",
      "196   4500   81.818182\n",
      "198  10000   81.967213\n",
      "239   8888   59.253333\n",
      "\n",
      "\n",
      "df_2 总价异常值：\n",
      "     总价（元）     单价（元/㎡）\n",
      "2     8000   65.573770\n",
      "3    22000   55.000000\n",
      "4     5800   53.703704\n",
      "7    13000   64.039409\n",
      "9     6500   60.185185\n",
      "10    7000   30.837004\n",
      "14   10000   52.083333\n",
      "16    6000   55.555556\n",
      "17   13000   65.656566\n",
      "20   18000   65.217391\n",
      "22   30000  109.090909\n",
      "25   13000   66.326531\n",
      "26   45000  120.643432\n",
      "30    9000   45.000000\n",
      "44   24000   62.337662\n",
      "51   20000   51.948052\n",
      "54    7500   33.936652\n",
      "58   40000   94.562648\n",
      "73   12000   59.113300\n",
      "77    7500   33.936652\n",
      "82   10000   49.261084\n",
      "86   40000   94.562648\n",
      "94   10000   81.967213\n",
      "104  16800   61.764706\n",
      "112   6000   38.461538\n",
      "117  20000   51.948052\n",
      "118  12500   61.576355\n",
      "122  12000   59.113300\n",
      "136  15000   47.021944\n",
      "148  12500   61.576355\n",
      "152   6500   42.483660\n",
      "155  25000   64.935065\n",
      "179   8500   44.270833\n",
      "188   8999   27.519878\n",
      "194   6000   38.461538\n",
      "198  10000   81.967213\n",
      "239   8888   59.253333\n",
      "\n",
      "\n"
     ]
    }
   ],
   "source": [
    "# 3. 异常值分析（使用 IQR 方法）\n",
    "def detect_outliers_iqr(df, column):\n",
    "    Q1 = df[column].quantile(0.25)\n",
    "    Q3 = df[column].quantile(0.75)\n",
    "    IQR = Q3 - Q1\n",
    "    lower_bound = Q1 - 1.5 * IQR\n",
    "    upper_bound = Q3 + 1.5 * IQR\n",
    "    outliers = df[(df[column] < lower_bound) | (df[column] > upper_bound)]\n",
    "    return outliers\n",
    "\n",
    "print(\"df_1 单价异常值：\")\n",
    "print(detect_outliers_iqr(df_1, '单价（元/㎡）'))\n",
    "print(\"\\n\")\n",
    "\n",
    "print(\"df_1 总价异常值：\")\n",
    "print(detect_outliers_iqr(df_1, '总价（万元）'))\n",
    "print(\"\\n\")\n",
    "\n",
    "print(\"df_2 单价异常值：\")\n",
    "print(detect_outliers_iqr(df_2, '单价（元/㎡）'))\n",
    "print(\"\\n\")\n",
    "\n",
    "print(\"df_2 总价异常值：\")\n",
    "print(detect_outliers_iqr(df_2, '总价（元）'))\n",
    "print(\"\\n\")"
   ]
  },
  {
   "cell_type": "markdown",
   "id": "3cae4592-3147-4276-a7bc-84e4e42ddd9b",
   "metadata": {},
   "source": [
    "<font face='华文中宋' size=3>\n",
    "三、获取各区二手房和租房单价\n",
    "</font>"
   ]
  },
  {
   "cell_type": "markdown",
   "id": "612d8136-bf00-4457-aee5-cf52cc4805bc",
   "metadata": {},
   "source": [
    "<font face='华文中宋' size=2>\n",
    "由于我在前面已经通过对dataframe的处理获得该block的单价（元/㎡），故以下不再重新求该block。以下通过其他组员爬取的数据文件，获取其他三个block的二手房和租房单价。\n",
    "</font>"
   ]
  },
  {
   "cell_type": "code",
   "execution_count": 254,
   "id": "4cb2a197-5d36-4245-9577-a1d8b083ec6b",
   "metadata": {},
   "outputs": [
    {
     "name": "stdout",
     "output_type": "stream",
     "text": [
      "已加载文件: 渝北房价.xlsx 为 DataFrame: 渝北房价\n",
      "已加载文件: 渝北租金.xlsx 为 DataFrame: 渝北租金\n",
      "已加载文件: 渝中Price_of_buying.xlsx 为 DataFrame: 渝中Price_of_buying\n",
      "已加载文件: 渝中Price_of_Renting.xlsx 为 DataFrame: 渝中Price_of_Renting\n",
      "已加载文件: 江北Price_of_buying.xlsx 为 DataFrame: 江北Price_of_buying\n",
      "已加载文件: 江北Price_of_Renting.xlsx 为 DataFrame: 江北Price_of_Renting\n"
     ]
    }
   ],
   "source": [
    "import os\n",
    "\n",
    "# 读取组员的数据文件\n",
    "desktop_path = r\"C:\\Users\\DELL\\Desktop\"  # 桌面的路径\n",
    "file_names = ['渝北房价.xlsx', '渝北租金.xlsx', '渝中Price_of_buying.xlsx', '渝中Price_of_Renting.xlsx', '江北Price_of_buying.xlsx', '江北Price_of_Renting.xlsx']\n",
    "dataframes = {}  # 存储datadframe\n",
    "for file_name in file_names:\n",
    "    file_path = os.path.join(desktop_path, file_name)\n",
    "    df_name = file_name.replace('.xlsx', '')   # 去掉文件扩展名作为 DataFrame 的名字\n",
    "    dataframes[df_name] = pd.read_excel(file_path)  # 通过 dataframes['文件名']访问每个 dataframe\n",
    "    print(f\"已加载文件: {file_name} 为 DataFrame: {df_name}\")  # 打印加载成功的信息"
   ]
  },
  {
   "cell_type": "code",
   "execution_count": 256,
   "id": "07e86985-8579-4f19-8269-19a1a2aefdb1",
   "metadata": {},
   "outputs": [],
   "source": [
    "# 渝北房价\n",
    "df_3 = dataframes['渝北房价']\n",
    "df_3['面积（㎡）'] = pd.to_numeric(df_3['面积（㎡）'], errors='coerce')  # 把面积转化为数值变量 \n",
    "df_3['面积（㎡）'] = df_3['面积（㎡）']*df_3['单价（元/㎡）']/10000\n",
    "df_3.columns = ['总价（万元）','单价（元/㎡）']"
   ]
  },
  {
   "cell_type": "code",
   "execution_count": 258,
   "id": "6df873ac-2482-4ffe-92bc-e6307eb84190",
   "metadata": {},
   "outputs": [
    {
     "name": "stdout",
     "output_type": "stream",
     "text": [
      "          总价（万元）  单价（元/㎡）\n",
      "0     178.996088    10502\n",
      "1     114.995748     9366\n",
      "2     179.983860    10555\n",
      "3     139.986775    15511\n",
      "4     282.979476    11302\n",
      "...          ...      ...\n",
      "1181  157.992000    18160\n",
      "1182  519.993950    17717\n",
      "1183  409.985718    23393\n",
      "1184  174.992800    20348\n",
      "1185  359.992601    25229\n",
      "\n",
      "[1186 rows x 2 columns]\n"
     ]
    }
   ],
   "source": [
    "print(df_3)"
   ]
  },
  {
   "cell_type": "code",
   "execution_count": 260,
   "id": "5d168e15-3540-4a3b-95ab-e2d0cfa3ffc0",
   "metadata": {},
   "outputs": [],
   "source": [
    "# 渝北租金\n",
    "df_4 = dataframes['渝北租金']\n",
    "df_4['面积（㎡）'] = pd.to_numeric(df_4['面积（㎡）'], errors='coerce')  # 把面积转化为数值变量\n",
    "df_4['租金（元/月）'] = pd.to_numeric(df_4['租金（元/月）'], errors='coerce')  # 把租金转化为数值变量\n",
    "df_4['面积（㎡）'] = df_4['租金（元/月）']/df_4['面积（㎡）']  # 把面积转化为单价\n",
    "df_4.columns = ['总价（元）', '单价（元/㎡）']"
   ]
  },
  {
   "cell_type": "code",
   "execution_count": 262,
   "id": "6c1a51d0-624f-409e-be31-e045c72ac8d3",
   "metadata": {},
   "outputs": [
    {
     "data": {
      "text/plain": [
       "dtype('int64')"
      ]
     },
     "execution_count": 262,
     "metadata": {},
     "output_type": "execute_result"
    }
   ],
   "source": [
    "# 渝中Price_of_buying\n",
    "df_5 = dataframes['渝中Price_of_buying']\n",
    "column_name = df_5.columns[1]  \n",
    "column_dtype = df_5[column_name].dtype  # 查询单价的数据类型\n",
    "column_dtype"
   ]
  },
  {
   "cell_type": "code",
   "execution_count": 264,
   "id": "c93279de-7f21-4a8f-9eba-98b8ad08a72f",
   "metadata": {},
   "outputs": [],
   "source": [
    "# 渝中Price_of_Renting\n",
    "df_6 = dataframes['渝中Price_of_Renting']\n",
    "df_6['面积（㎡）'] = df_6['总价（元）']/df_6['面积（㎡）']  # 把面积转化为单价\n",
    "df_6.columns = ['总价（元）','单价（元/㎡）']"
   ]
  },
  {
   "cell_type": "code",
   "execution_count": 266,
   "id": "2294d238-0eb1-48b3-83b2-1ccfa0bbaf9d",
   "metadata": {},
   "outputs": [
    {
     "data": {
      "text/plain": [
       "dtype('int64')"
      ]
     },
     "execution_count": 266,
     "metadata": {},
     "output_type": "execute_result"
    }
   ],
   "source": [
    "# 江北Price_of_buying\n",
    "df_7 = dataframes['江北Price_of_buying']\n",
    "column_name = df_7.columns[1]  \n",
    "column_dtype = df_7[column_name].dtype  # 查询单价的数据类型\n",
    "column_dtype"
   ]
  },
  {
   "cell_type": "code",
   "execution_count": 268,
   "id": "1318d4d1-04f5-4d62-ac5e-c295f6d99039",
   "metadata": {},
   "outputs": [],
   "source": [
    "# 江北Price_of_Renting\n",
    "df_8 = dataframes['江北Price_of_Renting']\n",
    "df_8['面积（㎡）'] = df_8['总价（元）']/df_8['面积（㎡）']  # 把租金转化为单价\n",
    "df_8.columns = ['总价（元）', '单价（元/㎡）']"
   ]
  },
  {
   "cell_type": "markdown",
   "id": "de0eb672-1b1c-4f95-8810-43609ae11611",
   "metadata": {},
   "source": [
    "<font face='华文中宋' size=3>\n",
    "四、计算各block的median price to rent ratio\n",
    "</font>"
   ]
  },
  {
   "cell_type": "code",
   "execution_count": 271,
   "id": "53b54487-aff8-4a69-8e4a-ef7d9e948177",
   "metadata": {},
   "outputs": [
    {
     "name": "stdout",
     "output_type": "stream",
     "text": [
      "南岸二手房单价中位数是: 12477.5\n",
      "南岸租房单价中位数是: 27.96\n",
      "渝北二手房单价中位数是: 16179.0\n",
      "渝北租房单价中位数是: 30.347110754414125\n",
      "渝中二手房单价中位数是: 13758.5\n",
      "渝中租房单价中位数是: 36.0\n",
      "江北二手房单价中位数是: 16340.0\n",
      "江北租房单价中位数是: 31.70731707317073\n"
     ]
    }
   ],
   "source": [
    "# 获取各block的price和rent的中位数\n",
    "median_nanan_esf = df_1['单价（元/㎡）'].median()\n",
    "print(f\"南岸二手房单价中位数是: {median_nanan_esf}\")\n",
    "median_nanan_zf = df_2['单价（元/㎡）'].median()\n",
    "print(f\"南岸租房单价中位数是: {median_nanan_zf}\")\n",
    "median_yubei_esf = df_3['单价（元/㎡）'].median()\n",
    "print(f\"渝北二手房单价中位数是: {median_yubei_esf}\")\n",
    "median_yubei_zf = df_4['单价（元/㎡）'].median()\n",
    "print(f\"渝北租房单价中位数是: {median_yubei_zf}\")\n",
    "median_yuzhong_esf = df_5['单价（元/㎡）'].median()\n",
    "print(f\"渝中二手房单价中位数是: {median_yuzhong_esf}\")\n",
    "median_yuzhong_zf = df_6['单价（元/㎡）'].median()\n",
    "print(f\"渝中租房单价中位数是: {median_yuzhong_zf}\")\n",
    "median_jiangbei_esf = df_7['单价（元/㎡）'].median()\n",
    "print(f\"江北二手房单价中位数是: {median_jiangbei_esf}\")\n",
    "median_jiangbei_zf = df_8['单价（元/㎡）'].median()\n",
    "print(f\"江北租房单价中位数是: {median_jiangbei_zf}\")"
   ]
  },
  {
   "cell_type": "code",
   "execution_count": 273,
   "id": "424eb79d-0f03-4c2f-ae96-719fddf1299b",
   "metadata": {},
   "outputs": [
    {
     "name": "stdout",
     "output_type": "stream",
     "text": [
      "南岸中位数房价租金比是: 446.26251788268956\n",
      "渝北中位数房价租金比是: 533.1314776859505\n",
      "渝中中位数房价租金比是: 382.18055555555554\n",
      "江北中位数房价租金比是: 515.3384615384615\n"
     ]
    }
   ],
   "source": [
    "# 计算各block的median price to rent ratio\n",
    "median_ratio_nanan =  median_nanan_esf/median_nanan_zf\n",
    "print(f\"南岸中位数房价租金比是: {median_ratio_nanan}\")\n",
    "median_ratio_yubei =  median_yubei_esf/median_yubei_zf\n",
    "print(f\"渝北中位数房价租金比是: {median_ratio_yubei}\")\n",
    "median_ratio_yuzhong =  median_yuzhong_esf/median_yuzhong_zf\n",
    "print(f\"渝中中位数房价租金比是: {median_ratio_yuzhong}\")\n",
    "median_ratio_jiangbei =  median_jiangbei_esf/median_jiangbei_zf\n",
    "print(f\"江北中位数房价租金比是: {median_ratio_jiangbei}\")"
   ]
  },
  {
   "cell_type": "markdown",
   "id": "286c1a8a-6a63-4189-976e-b96c4f01d54f",
   "metadata": {},
   "source": [
    "<font face='华文中宋' size=3>\n",
    "五、绘制各block的median price to rent ratio的图\n",
    "</font>"
   ]
  },
  {
   "cell_type": "code",
   "execution_count": 276,
   "id": "7c2760e2-0c66-4175-973c-7df37d965220",
   "metadata": {},
   "outputs": [
    {
     "data": {
      "image/png": "[encoded data removed]",
      "text/plain": [
       "<Figure size 1000x600 with 1 Axes>"
      ]
     },
     "metadata": {},
     "output_type": "display_data"
    }
   ],
   "source": [
    "# 设置 Matplotlib 支持中文\n",
    "plt.rcParams['font.sans-serif'] = ['SimHei']   # 设置字体为 SimHei\n",
    "plt.rcParams['axes.unicode_minus'] = False   # 解决负号显示问题\n",
    "\n",
    "# 建立一个data包含街区和中位数房价租金比\n",
    "data = {\n",
    "    'Block': ['南岸', '渝北', '渝中', '江北'],\n",
    "    'Median_Price_to_Rent_Ratio': [median_ratio_nanan, median_ratio_yubei, median_ratio_yuzhong, median_ratio_jiangbei]}\n",
    "\n",
    "df = pd.DataFrame(data)\n",
    "\n",
    "# 计算中位数\n",
    "median_ratio = df['Median_Price_to_Rent_Ratio'].median()  # 计算中位数\n",
    "\n",
    "# 绘制柱状图\n",
    "plt.figure(figsize=(10, 6))\n",
    "bars = plt.bar(df['Block'], df['Median_Price_to_Rent_Ratio'], color='skyblue') \n",
    "\n",
    "plt.axhline(y=200, color='red', linestyle='--', label='Global Fair Value (200)')  # 全局合理值线（200）\n",
    "\n",
    "plt.axhline(y=median_ratio, color='green', linestyle='--', label=f'Median Ratio ({median_ratio})')  # 中位数线\n",
    "\n",
    "plt.xlabel('Block')  # x轴标签\n",
    "plt.ylabel('Median Price to Rent Ratio')  # y轴标签\n",
    "plt.title('Median Price to Rent Ratio for Each Block')  # 图的标题\n",
    "plt.legend()\n",
    "\n",
    "for bar in bars:\n",
    "    height = bar.get_height()\n",
    "    plt.text(bar.get_x() + bar.get_width() / 2, height, f'{height}', ha='center', va='bottom')\n",
    "\n",
    "# 显示图表\n",
    "plt.show()"
   ]
  },
  {
   "cell_type": "markdown",
   "id": "522a67d4-0f5a-48c3-8c70-af6c81bc73d0",
   "metadata": {},
   "source": [
    "<font face='华文中宋' size=3>\n",
    "六、用两个model预测price和rent\n",
    "</font>"
   ]
  },
  {
   "cell_type": "markdown",
   "id": "59a901c4-b5ba-4ded-8914-7c476dc85b4d",
   "metadata": {},
   "source": [
    "<font face='华文中宋' size=2>\n",
    "1、建立拟合模型\n",
    "</font>"
   ]
  },
  {
   "cell_type": "code",
   "execution_count": null,
   "id": "e73b0f3c-ecb9-4123-87c5-ca04de04c0ff",
   "metadata": {},
   "outputs": [],
   "source": [
    "# 1、二手房和租房数据集准备\n",
    "\n",
    "# 添加位置变量（为避免多重共线性，仅设置前三个区块的变量）\n",
    "df_1['location_1'] = 1  # 南岸记为区块1\n",
    "df_2['location_1'] = 1\n",
    "df_1['location_2'] = 0  # 渝北记为区块2\n",
    "df_2['location_2'] = 0\n",
    "df_1['location_3'] = 0  # 渝中记为区块3\n",
    "df_2['location_3'] = 0  \n",
    "df_3['location_1'] = 0 \n",
    "df_4['location_1'] = 0\n",
    "df_3['location_2'] = 1\n",
    "df_4['location_2'] = 1\n",
    "df_3['location_3'] = 0 \n",
    "df_4['location_3'] = 0\n",
    "df_5['location_1'] = 0 \n",
    "df_6['location_1'] = 0\n",
    "df_5['location_2'] = 0\n",
    "df_6['location_2'] = 0\n",
    "df_5['location_3'] = 1 \n",
    "df_6['location_3'] = 1\n",
    "df_7['location_1'] = 0 \n",
    "df_8['location_1'] = 0\n",
    "df_7['location_2'] = 0\n",
    "df_8['location_2'] = 0\n",
    "df_7['location_3'] = 0 \n",
    "df_8['location_3'] = 0\n",
    "\n",
    "# 合并四个block的二手房和租房数据\n",
    "df_esf = pd.concat([df_1, df_3, df_5, df_7], ignore_index=True)\n",
    "df_zf = pd.concat([df_2, df_4, df_6, df_8], ignore_index=True)\n",
    "\n",
    "# 添加面积变量\n",
    "df_esf['面积（㎡）'] = df_esf['总价（万元）']*10000/df_esf['单价（元/㎡）']\n",
    "df_zf['面积（㎡）'] = df_zf['总价（元）']/df_zf['单价（元/㎡）']\n",
    "\n",
    "# 添加面积*位置交互项\n",
    "df_esf['面积_location_1'] = df_esf['面积（㎡）'] * df_esf['location_1']\n",
    "df_esf['面积_location_2'] = df_esf['面积（㎡）'] * df_esf['location_2']\n",
    "df_esf['面积_location_3'] = df_esf['面积（㎡）'] * df_esf['location_3']\n",
    "df_zf['面积_location_1'] = df_zf['面积（㎡）'] * df_zf['location_1']\n",
    "df_zf['面积_location_2'] = df_zf['面积（㎡）'] * df_zf['location_2']\n",
    "df_zf['面积_location_3'] = df_zf['面积（㎡）'] * df_zf['location_3']\n",
    "\n",
    "print(df_esf)\n",
    "print(df_zf)"
   ]
  },
  {
   "cell_type": "code",
   "execution_count": 281,
   "id": "c37c97ad-fe75-445d-a980-a4d25878ed01",
   "metadata": {},
   "outputs": [
    {
     "name": "stdout",
     "output_type": "stream",
     "text": [
      "总价（万元）           0\n",
      "单价（元/㎡）          0\n",
      "location_1       0\n",
      "location_2       0\n",
      "location_3       0\n",
      "面积（㎡）            0\n",
      "面积_location_1    0\n",
      "面积_location_2    0\n",
      "面积_location_3    0\n",
      "dtype: int64\n",
      "总价（元）            0\n",
      "单价（元/㎡）          0\n",
      "location_1       0\n",
      "location_2       0\n",
      "location_3       0\n",
      "面积（㎡）            0\n",
      "面积_location_1    0\n",
      "面积_location_2    0\n",
      "面积_location_3    0\n",
      "dtype: int64\n"
     ]
    }
   ],
   "source": [
    "# 2、检查数据集中的 NaN\n",
    "print(df_esf.isna().sum())\n",
    "print(df_zf.isna().sum())"
   ]
  },
  {
   "cell_type": "code",
   "execution_count": 283,
   "id": "9335910f-e4bd-4c36-b176-c356b5ef5a18",
   "metadata": {},
   "outputs": [],
   "source": [
    "# 清除单价为0的行\n",
    "df_esf = df_esf.dropna()\n",
    "df_zf = df_zf.dropna()"
   ]
  },
  {
   "cell_type": "code",
   "execution_count": null,
   "id": "5d57551e-6750-40ec-91db-39217247d3fb",
   "metadata": {},
   "outputs": [],
   "source": [
    "# 3、生成完整数据文件\n",
    "df_zf.to_excel(\"租房数据汇总.xlsx\",header=True,index=False) \n",
    "df_esf.to_excel(\"二手房数据汇总.xlsx\",header=True,index=False) "
   ]
  },
  {
   "cell_type": "code",
   "execution_count": 285,
   "id": "6445a1bd-cb25-4d74-bdf8-727e181e5c72",
   "metadata": {},
   "outputs": [
    {
     "name": "stdout",
     "output_type": "stream",
     "text": [
      "模型 1 的回归结果：\n",
      "                            OLS Regression Results                            \n",
      "==============================================================================\n",
      "Dep. Variable:                单价（元/㎡）   R-squared:                       0.185\n",
      "Model:                            OLS   Adj. R-squared:                  0.183\n",
      "Method:                 Least Squares   F-statistic:                     154.6\n",
      "Date:                Fri, 21 Mar 2025   Prob (F-statistic):          1.83e-206\n",
      "Time:                        00:29:05   Log-Likelihood:                -48252.\n",
      "No. Observations:                4786   AIC:                         9.652e+04\n",
      "Df Residuals:                    4778   BIC:                         9.657e+04\n",
      "Df Model:                           7                                         \n",
      "Covariance Type:            nonrobust                                         \n",
      "=================================================================================\n",
      "                    coef    std err          t      P>|t|      [0.025      0.975]\n",
      "---------------------------------------------------------------------------------\n",
      "const          1.501e+04    415.364     36.131      0.000    1.42e+04    1.58e+04\n",
      "面积（㎡）             9.9799      2.474      4.034      0.000       5.130      14.830\n",
      "location_1    -4264.9286    558.448     -7.637      0.000   -5359.743   -3170.114\n",
      "location_2     -798.4523    493.671     -1.617      0.106   -1766.275     169.370\n",
      "location_3    -5807.6337    548.161    -10.595      0.000   -6882.281   -4732.986\n",
      "面积_location_1    11.3157      3.216      3.518      0.000       5.010      17.621\n",
      "面积_location_2    10.7108      2.760      3.880      0.000       5.299      16.122\n",
      "面积_location_3    39.3500      3.407     11.550      0.000      32.671      46.029\n",
      "==============================================================================\n",
      "Omnibus:                     1739.141   Durbin-Watson:                   1.916\n",
      "Prob(Omnibus):                  0.000   Jarque-Bera (JB):            17246.813\n",
      "Skew:                           1.447   Prob(JB):                         0.00\n",
      "Kurtosis:                      11.838   Cond. No.                     2.13e+03\n",
      "==============================================================================\n",
      "\n",
      "Notes:\n",
      "[1] Standard Errors assume that the covariance matrix of the errors is correctly specified.\n",
      "[2] The condition number is large, 2.13e+03. This might indicate that there are\n",
      "strong multicollinearity or other numerical problems.\n",
      "\n",
      "模型 2 的回归结果：\n",
      "                            OLS Regression Results                            \n",
      "==============================================================================\n",
      "Dep. Variable:                单价（元/㎡）   R-squared:                       0.054\n",
      "Model:                            OLS   Adj. R-squared:                  0.051\n",
      "Method:                 Least Squares   F-statistic:                     20.95\n",
      "Date:                Fri, 21 Mar 2025   Prob (F-statistic):           1.33e-27\n",
      "Time:                        00:29:05   Log-Likelihood:                -15688.\n",
      "No. Observations:                2575   AIC:                         3.139e+04\n",
      "Df Residuals:                    2567   BIC:                         3.144e+04\n",
      "Df Model:                           7                                         \n",
      "Covariance Type:            nonrobust                                         \n",
      "=================================================================================\n",
      "                    coef    std err          t      P>|t|      [0.025      0.975]\n",
      "---------------------------------------------------------------------------------\n",
      "const            34.1312      5.533      6.169      0.000      23.282      44.980\n",
      "面积（㎡）             0.0057      0.036      0.158      0.874      -0.065       0.076\n",
      "location_1      -11.6753     11.034     -1.058      0.290     -33.311       9.960\n",
      "location_2       67.3695      7.375      9.135      0.000      52.908      81.831\n",
      "location_3       -5.4350     10.644     -0.511      0.610     -26.306      15.436\n",
      "面积_location_1     0.1015      0.090      1.132      0.258      -0.074       0.278\n",
      "面积_location_2    -0.4243      0.057     -7.481      0.000      -0.536      -0.313\n",
      "面积_location_3     0.0808      0.087      0.931      0.352      -0.089       0.251\n",
      "==============================================================================\n",
      "Omnibus:                     5030.904   Durbin-Watson:                   1.496\n",
      "Prob(Omnibus):                  0.000   Jarque-Bera (JB):          9645480.640\n",
      "Skew:                          15.240   Prob(JB):                         0.00\n",
      "Kurtosis:                     301.279   Cond. No.                         870.\n",
      "==============================================================================\n",
      "\n",
      "Notes:\n",
      "[1] Standard Errors assume that the covariance matrix of the errors is correctly specified.\n"
     ]
    }
   ],
   "source": [
    "# 4、拟合模型\n",
    "import statsmodels.api as sm\n",
    "\n",
    "# 模型 1：预测每平方米房价\n",
    "X1 = df_esf[['面积（㎡）', 'location_1', 'location_2', 'location_3', '面积_location_1', '面积_location_2', '面积_location_3']]  # 自变量\n",
    "X1 = sm.add_constant(X1)  # 添加常数项\n",
    "y1 = df_esf['单价（元/㎡）']  # 因变量\n",
    "\n",
    "model1 = sm.OLS(y1, X1).fit()  # 拟合模型1\n",
    "print(\"模型 1 的回归结果：\")\n",
    "print(model1.summary())\n",
    "\n",
    "# 模型 2：预测每平方米租金\n",
    "X2 = df_zf[['面积（㎡）', 'location_1', 'location_2', 'location_3', '面积_location_1', '面积_location_2', '面积_location_3']]  # 自变量\n",
    "X2 = sm.add_constant(X2)  # 添加常数项\n",
    "y2 = df_zf[['单价（元/㎡）']]  # 因变量\n",
    "\n",
    "model2 = sm.OLS(y2, X2).fit()  # 拟合模型2\n",
    "print(\"\\n模型 2 的回归结果：\")\n",
    "print(model2.summary())"
   ]
  },
  {
   "cell_type": "markdown",
   "id": "d826f8d1-0a11-4d66-9215-0e2c1b17ce2d",
   "metadata": {},
   "source": [
    "<font face='华文中宋' size=2>\n",
    "2、预测房价和租金\n",
    "</font>"
   ]
  },
  {
   "cell_type": "code",
   "execution_count": 289,
   "id": "e4e24a68-a751-47a8-811d-f252b4d31f11",
   "metadata": {},
   "outputs": [
    {
     "name": "stdout",
     "output_type": "stream",
     "text": [
      "\n",
      "预测结果（m2 = 50, location = 南岸）：\n",
      "每平方米房价: 11807.49\n",
      "每平方米租金: 27.82\n",
      "\n",
      "预测结果（m2 = 50, location = 渝北）：\n",
      "每平方米房价: 15243.72\n",
      "每平方米租金: 80.57\n",
      "\n",
      "预测结果（m2 = 50, location = 渝中）：\n",
      "每平方米房价: 11666.50\n",
      "每平方米租金: 33.02\n",
      "\n",
      "预测结果（m2 = 50, location = 江北）：\n",
      "每平方米房价: 15506.64\n",
      "每平方米租金: 34.41\n",
      "\n",
      "预测结果（m2 = 100, location = 南岸）：\n",
      "每平方米房价: 12872.28\n",
      "每平方米租金: 33.18\n",
      "\n",
      "预测结果（m2 = 100, location = 渝北）：\n",
      "每平方米房价: 16278.26\n",
      "每平方米租金: 59.63\n",
      "\n",
      "预测结果（m2 = 100, location = 渝中）：\n",
      "每平方米房价: 14133.00\n",
      "每平方米租金: 37.34\n",
      "\n",
      "预测结果（m2 = 100, location = 江北）：\n",
      "每平方米房价: 16005.63\n",
      "每平方米租金: 34.70\n"
     ]
    }
   ],
   "source": [
    "# 预测函数\n",
    "def predict_price_rent(m2, location):\n",
    "    # 构造输入数据\n",
    "    if location == '南岸':\n",
    "        input_data = pd.DataFrame({\n",
    "            'const': [1],  # 常数项\n",
    "            '面积（㎡）': [m2],\n",
    "            'location_1': [1],\n",
    "            'location_2': [0],\n",
    "            'location_3': [0],\n",
    "            '面积_location_1': [m2],\n",
    "            '面积_location_2': [0],\n",
    "            '面积_location_3': [0],\n",
    "        })\n",
    "        \n",
    "    elif location == '渝北':\n",
    "        input_data = pd.DataFrame({\n",
    "            'const': [1],  # 常数项\n",
    "            '面积（㎡）': [m2],\n",
    "            'location_1': [0],\n",
    "            'location_2': [1],\n",
    "            'location_3': [0],\n",
    "            '面积_location_1': [0],\n",
    "            '面积_location_2': [m2],\n",
    "            '面积_location_3': [0],\n",
    "        })\n",
    "    elif location == '渝中':\n",
    "        input_data = pd.DataFrame({\n",
    "            'const': [1],  # 常数项\n",
    "            '面积（㎡）': [m2],\n",
    "            'location_1': [0],\n",
    "            'location_2': [0],\n",
    "            'location_3': [1],\n",
    "            '面积_location_1': [0],\n",
    "            '面积_location_2': [0],\n",
    "            '面积_location_3': [m2],\n",
    "        })\n",
    "    elif location == '江北':\n",
    "        input_data = pd.DataFrame({\n",
    "            'const': [1],  # 常数项\n",
    "            '面积（㎡）': [m2],\n",
    "            'location_1': [0],\n",
    "            'location_2': [0],\n",
    "            'location_3': [0],\n",
    "            '面积_location_1': [0],\n",
    "            '面积_location_2': [0],\n",
    "            '面积_location_3': [0],\n",
    "        })\n",
    "    \n",
    "    # 预测房价\n",
    "    price_pred = model1.predict(input_data)[0]\n",
    "    \n",
    "    # 预测租金\n",
    "    rent_pred = model2.predict(input_data)[0]\n",
    "    \n",
    "    return price_pred, rent_pred\n",
    "\n",
    "# 预测 m2 = 50, location = 南岸\n",
    "price_50_南岸, rent_50_南岸 = predict_price_rent(50, '南岸')\n",
    "print(f\"\\n预测结果（m2 = 50, location = 南岸）：\")\n",
    "print(f\"每平方米房价: {price_50_南岸:.2f}\")\n",
    "print(f\"每平方米租金: {rent_50_南岸:.2f}\")\n",
    "\n",
    "# 预测 m2 = 50, location = 渝北\n",
    "price_50_渝北, rent_50_渝北 = predict_price_rent(50, '渝北')\n",
    "print(f\"\\n预测结果（m2 = 50, location = 渝北）：\")\n",
    "print(f\"每平方米房价: {price_50_渝北:.2f}\")\n",
    "print(f\"每平方米租金: {rent_50_渝北:.2f}\")\n",
    "\n",
    "# 预测 m2 = 50, location = 渝中\n",
    "price_50_渝中, rent_50_渝中 = predict_price_rent(50, '渝中')\n",
    "print(f\"\\n预测结果（m2 = 50, location = 渝中）：\")\n",
    "print(f\"每平方米房价: {price_50_渝中:.2f}\")\n",
    "print(f\"每平方米租金: {rent_50_渝中:.2f}\")\n",
    "\n",
    "# 预测 m2 = 50, location = 江北\n",
    "price_50_江北, rent_50_江北 = predict_price_rent(50, '江北')\n",
    "print(f\"\\n预测结果（m2 = 50, location = 江北）：\")\n",
    "print(f\"每平方米房价: {price_50_江北:.2f}\")\n",
    "print(f\"每平方米租金: {rent_50_江北:.2f}\")\n",
    "\n",
    "# 预测 m2 = 100, location = 南岸\n",
    "price_100_南岸, rent_100_南岸 = predict_price_rent(100, '南岸')\n",
    "print(f\"\\n预测结果（m2 = 100, location = 南岸）：\")\n",
    "print(f\"每平方米房价: {price_100_南岸:.2f}\")\n",
    "print(f\"每平方米租金: {rent_100_南岸:.2f}\")\n",
    "\n",
    "# 预测 m2 = 100, location = 渝北\n",
    "price_100_渝北, rent_100_渝北 = predict_price_rent(100, '渝北')\n",
    "print(f\"\\n预测结果（m2 = 100, location = 渝北）：\")\n",
    "print(f\"每平方米房价: {price_100_渝北:.2f}\")\n",
    "print(f\"每平方米租金: {rent_100_渝北:.2f}\")\n",
    "\n",
    "# 预测 m2 = 100, location = 渝中\n",
    "price_100_渝中, rent_100_渝中 = predict_price_rent(100, '渝中')\n",
    "print(f\"\\n预测结果（m2 = 100, location = 渝中）：\")\n",
    "print(f\"每平方米房价: {price_100_渝中:.2f}\")\n",
    "print(f\"每平方米租金: {rent_100_渝中:.2f}\")\n",
    "\n",
    "# 预测 m2 = 100, location = 江北\n",
    "price_100_江北, rent_100_江北 = predict_price_rent(100, '江北')\n",
    "print(f\"\\n预测结果（m2 = 100, location = 江北）：\")\n",
    "print(f\"每平方米房价: {price_100_江北:.2f}\")\n",
    "print(f\"每平方米租金: {rent_100_江北:.2f}\")"
   ]
  },
  {
   "cell_type": "markdown",
   "id": "54a120c7-7423-4b48-9107-821db4bf5511",
   "metadata": {},
   "source": [
    "<font face='华文中宋' size=3>\n",
    "七、绘制预测图\n",
    "</font>"
   ]
  },
  {
   "cell_type": "code",
   "execution_count": 303,
   "id": "444e4208-4b43-4bea-b80a-9c6acbfa4f82",
   "metadata": {},
   "outputs": [
    {
     "data": {
      "image/png": "[encoded data removed]",
      "text/plain": [
       "<Figure size 1000x600 with 1 Axes>"
      ]
     },
     "metadata": {},
     "output_type": "display_data"
    },
    {
     "data": {
      "image/png": "[encoded data removed]",
      "text/plain": [
       "<Figure size 1000x600 with 1 Axes>"
      ]
     },
     "metadata": {},
     "output_type": "display_data"
    }
   ],
   "source": [
    "predict_data = {\n",
    "    'Block': ['南岸', '渝北', '渝中', '江北'],\n",
    "    'Price_per_m2_50': [price_50_南岸, price_50_渝北, price_50_渝中, price_50_江北],  # m2 = 50 时预测的每平方米房价\n",
    "    'Rent_per_m2_50': [rent_50_南岸, rent_50_渝北, rent_50_渝中, rent_50_江北],  # m2 = 50 时预测的每平方米租金\n",
    "    'Price_per_m2_100': [price_100_南岸, price_100_渝北, price_100_渝中, price_100_江北],  # m2 = 100 时预测的每平方米房价\n",
    "    'Rent_per_m2_100': [rent_100_南岸, rent_100_渝北, rent_100_渝中, rent_100_江北]  # m2 = 100 时预测的每平方米租金\n",
    "}\n",
    "\n",
    "predict_df = pd.DataFrame(predict_data)\n",
    "\n",
    "# 计算房价租金比\n",
    "predict_df['Price_to_Rent_Ratio_50'] = predict_df['Price_per_m2_50'] / predict_df['Rent_per_m2_50']\n",
    "predict_df['Price_to_Rent_Ratio_100'] = predict_df['Price_per_m2_100'] / predict_df['Rent_per_m2_100']\n",
    "\n",
    "# 绘制 Figure B：m2 = 50 时的房价租金比\n",
    "plt.figure(figsize=(10, 6))\n",
    "plt.bar(df['Block'], predict_df['Price_to_Rent_Ratio_50'], color='skyblue')\n",
    "plt.xlabel('Block')\n",
    "plt.ylabel('Price to Rent Ratio')\n",
    "plt.title('Price to Rent Ratio for Each Block (m2 = 50)')\n",
    "plt.axhline(y=200, color='red', linestyle='--', label='Global Fair Value (200)')\n",
    "plt.legend()\n",
    "plt.show()\n",
    "\n",
    "# 绘制 Figure C：m2 = 100 时的房价租金比\n",
    "plt.figure(figsize=(10, 6))\n",
    "plt.bar(df['Block'], predict_df['Price_to_Rent_Ratio_100'], color='lightgreen')\n",
    "plt.xlabel('Block')\n",
    "plt.ylabel('Price to Rent Ratio')\n",
    "plt.title('Price to Rent Ratio for Each Block (m2 = 100)')\n",
    "plt.axhline(y=200, color='red', linestyle='--', label='Global Fair Value (200)')\n",
    "plt.legend()\n",
    "plt.show()"
   ]
  }
 ],
 "metadata": {
  "kernelspec": {
   "display_name": "Python [conda env:base] *",
   "language": "python",
   "name": "conda-base-py"
  },
  "language_info": {
   "codemirror_mode": {
    "name": "ipython",
    "version": 3
   },
   "file_extension": ".py",
   "mimetype": "text/x-python",
   "name": "python",
   "nbconvert_exporter": "python",
   "pygments_lexer": "ipython3",
   "version": "3.12.7"
  }
 },
 "nbformat": 4,
 "nbformat_minor": 5
}
