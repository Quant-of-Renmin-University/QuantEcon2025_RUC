{
 "cells": [
  {
   "cell_type": "code",
   "execution_count": 7,
   "metadata": {},
   "outputs": [],
   "source": [
    "import pandas as pd\n",
    "import numpy as np\n",
    "import matplotlib.pyplot as plt\n",
    "import statsmodels.formula.api as smf\n"
   ]
  },
  {
   "cell_type": "code",
   "execution_count": 8,
   "metadata": {},
   "outputs": [
    {
     "name": "stdout",
     "output_type": "stream",
     "text": [
      "检测到的文件编码: utf-8\n"
     ]
    }
   ],
   "source": [
    "import chardet\n",
    "import pandas as pd\n",
    "\n",
    "file_path = \"rental_data_中新.csv\"\n",
    "\n",
    "# 检测文件编码\n",
    "with open(file_path, \"rb\") as f:\n",
    "    raw_data = f.read(10000)  # 读取前 10KB 数据进行检测\n",
    "    result = chardet.detect(raw_data)\n",
    "    detected_encoding = result[\"encoding\"]\n",
    "    print(f\"检测到的文件编码: {detected_encoding}\")\n",
    "\n",
    "# 用检测到的编码读取 CSV\n",
    "df_zhongxin_rent = pd.read_csv(file_path, encoding=detected_encoding)\n"
   ]
  },
  {
   "cell_type": "code",
   "execution_count": 9,
   "metadata": {},
   "outputs": [],
   "source": [
    "###################################\n",
    "# 1. 数据收集与合并\n",
    "###################################\n",
    "\n",
    "# 读取租价数据\n",
    "df_zhongxin_rent = pd.read_csv('rental_data_中新.csv', encoding=\"utf-8\")\n",
    "df_wuqing_rent = pd.read_csv('rental_data_武清.csv', encoding=\"utf-8\")\n",
    "df_balitai_rent = pd.read_csv('rental_data_八里台.csv', encoding=\"utf-8\")\n",
    "df_quanyechang_rent = pd.read_csv('rental_data_劝业场.csv', encoding=\"utf-8\")\n"
   ]
  },
  {
   "cell_type": "code",
   "execution_count": 10,
   "metadata": {},
   "outputs": [],
   "source": [
    "# 在每个数据表中添加 location 标识\n",
    "df_zhongxin_rent['location'] = 'Zhongxin'\n",
    "df_wuqing_rent['location'] = 'Wuqing'\n",
    "df_balitai_rent['location'] = 'BaliTai'\n",
    "df_quanyechang_rent['location'] = 'Quanyechang'"
   ]
  },
  {
   "cell_type": "code",
   "execution_count": 11,
   "metadata": {},
   "outputs": [],
   "source": [
    "# 纵向合并（租价数据）\n",
    "rent_all = pd.concat([df_zhongxin_rent, df_wuqing_rent, df_balitai_rent,df_quanyechang_rent], ignore_index=True)"
   ]
  },
  {
   "cell_type": "code",
   "execution_count": 12,
   "metadata": {},
   "outputs": [],
   "source": [
    "\n",
    "# 读取售价数据\n",
    "df_zhongxin_sale = pd.read_csv('selling_data_中新.csv', encoding=\"utf-8\")\n",
    "df_wuqing_sale = pd.read_csv('selling_data_武清.csv', encoding=\"utf-8\")\n",
    "df_balitai_sale = pd.read_csv('selling_data_八里台.csv', encoding=\"utf-8\")\n",
    "df_quanyechang_sale = pd.read_csv('selling_data_劝业场.csv', encoding=\"utf-8\")\n",
    "# 在每个数据表中添加 location 标识\n",
    "df_zhongxin_sale['location'] = 'Zhongxin'\n",
    "df_wuqing_sale['location'] = 'Wuqing'\n",
    "df_balitai_sale['location'] = 'BaliTai'\n",
    "df_quanyechang_sale['location'] = 'Quanyechang'\n",
    "# 纵向合并（售价数据）\n",
    "sale_all = pd.concat([df_zhongxin_sale, df_wuqing_sale, df_balitai_sale,df_quanyechang_sale], ignore_index=True)"
   ]
  },
  {
   "cell_type": "code",
   "execution_count": 13,
   "metadata": {},
   "outputs": [
    {
     "name": "stdout",
     "output_type": "stream",
     "text": [
      "===== 租价数据描述 =====\n",
      "             面积(㎡)      月租金(元/月)\n",
      "count  1061.000000   1061.000000\n",
      "mean     99.060320   4030.767201\n",
      "std      55.642645   4365.730253\n",
      "min      10.000000    500.000000\n",
      "25%      67.000000   2000.000000\n",
      "50%      90.000000   3000.000000\n",
      "75%     118.000000   4500.000000\n",
      "max     633.000000  55000.000000\n",
      "\n",
      "===== 售价数据描述 =====\n",
      "            平方数(㎡)        总价（万）        单价（元/㎡）\n",
      "count  9225.000000  9225.000000    9225.000000\n",
      "mean     77.969927   276.058536   45040.866992\n",
      "std      57.202511   232.349129   25331.313986\n",
      "min       4.800000    24.000000    4190.000000\n",
      "25%      34.660000   128.000000   22962.000000\n",
      "50%      63.950000   230.000000   46026.000000\n",
      "75%     107.840000   340.000000   60422.000000\n",
      "max     673.850000  3960.000000  188802.000000\n"
     ]
    }
   ],
   "source": [
    "###################################\n",
    "# 2. 数据描述与异常值检查\n",
    "###################################\n",
    "\n",
    "# 查看租价数据基本信息\n",
    "print(\"===== 租价数据描述 =====\")\n",
    "print(rent_all.describe())\n",
    "\n",
    "# 查看售价数据基本信息\n",
    "print(\"\\n===== 售价数据描述 =====\")\n",
    "print(sale_all.describe())"
   ]
  },
  {
   "cell_type": "code",
   "execution_count": 14,
   "metadata": {},
   "outputs": [
    {
     "name": "stdout",
     "output_type": "stream",
     "text": [
      "\n",
      "===== 租价数据（含 rent_per_m2） =====\n",
      "   面积(㎡)  月租金(元/月)  location  rent_per_m2\n",
      "0   89.0    3000.0  Zhongxin    33.707865\n",
      "1   83.0    2800.0  Zhongxin    33.734940\n",
      "2  135.0    4000.0  Zhongxin    29.629630\n",
      "3   94.0    3200.0  Zhongxin    34.042553\n",
      "4   80.0    2800.0  Zhongxin    35.000000\n",
      "\n",
      "===== 售价数据（含 price_per_m2） =====\n",
      "   平方数(㎡)  总价（万）  单价（元/㎡）  location  price_per_m2\n",
      "0   89.50   80.0   8938.0  Zhongxin        8938.0\n",
      "1   83.00  120.0  14457.0  Zhongxin       14457.0\n",
      "2   76.00   65.0   8552.0  Zhongxin        8552.0\n",
      "3   89.47   85.0   9500.0  Zhongxin        9500.0\n",
      "4   98.00   85.0   8673.0  Zhongxin        8673.0\n"
     ]
    }
   ],
   "source": [
    "###################################\n",
    "# 3. 计算价格和租金（单位面积）\n",
    "###################################\n",
    "\n",
    "# 对租价数据，计算每平米月租 (rent_per_m2)\n",
    "# 假设 rent_all 中有列 'rent' 表示总月租金，'m2' 表示面积\n",
    "rent_all['rent_per_m2'] = rent_all['月租金(元/月)'] / rent_all['面积(㎡)']\n",
    "\n",
    "# 对售价数据，计算每平米售价 (price_per_m2)\n",
    "# 如果已经有单位售价列(如 'unit_price')，可以直接使用；否则用 price/m2 计算\n",
    "# 这里假设我们不依赖 unit_price，直接自己算\n",
    "sale_all['price_per_m2'] = sale_all['单价（元/㎡）']\n",
    "\n",
    "# 检查是否正确\n",
    "print(\"\\n===== 租价数据（含 rent_per_m2） =====\")\n",
    "print(rent_all.head())\n",
    "\n",
    "print(\"\\n===== 售价数据（含 price_per_m2） =====\")\n",
    "print(sale_all.head())"
   ]
  },
  {
   "cell_type": "code",
   "execution_count": 15,
   "metadata": {},
   "outputs": [
    {
     "name": "stdout",
     "output_type": "stream",
     "text": [
      "\n",
      "===== 各街区房价与租金比（中位数） =====\n",
      "location\n",
      "BaliTai        660.636145\n",
      "Quanyechang    820.214115\n",
      "Wuqing         671.986291\n",
      "Zhongxin       559.884600\n",
      "dtype: float64\n"
     ]
    }
   ],
   "source": [
    "###################################\n",
    "# 4. 计算房价与租金比（中位数）\n",
    "###################################\n",
    "\n",
    "# 分别计算各街区的房价中位数（price/m2）与租金中位数（rent/m2）\n",
    "median_price = sale_all.groupby('location')['price_per_m2'].median()\n",
    "median_rent = rent_all.groupby('location')['rent_per_m2'].median()\n",
    "\n",
    "# 计算 ratio = median_price / median_rent\n",
    "location_ratio = median_price / median_rent\n",
    "print(\"\\n===== 各街区房价与租金比（中位数） =====\")\n",
    "print(location_ratio)"
   ]
  },
  {
   "cell_type": "code",
   "execution_count": 16,
   "metadata": {},
   "outputs": [
    {
     "data": {
      "image/png": "[encoded data removed]",
      "text/plain": [
       "<Figure size 600x400 with 1 Axes>"
      ]
     },
     "metadata": {},
     "output_type": "display_data"
    }
   ],
   "source": [
    "###################################\n",
    "# 5. 绘制柱状图 (Figure A)\n",
    "#    每个街区的房价与租金比\n",
    "###################################\n",
    "\n",
    "plt.figure(figsize=(6,4))\n",
    "location_ratio.plot(kind='bar')\n",
    "plt.title('Median Price-to-Rent Ratio by Location (Figure A)')\n",
    "plt.ylabel('Price / Rent')\n",
    "plt.xlabel('Location')\n",
    "plt.axhline(y=200, color='r', linestyle='--')  # 全球公平值约为200，可做参考线\n",
    "plt.show()"
   ]
  },
  {
   "cell_type": "code",
   "execution_count": 22,
   "metadata": {},
   "outputs": [],
   "source": [
    "sale_all.rename(columns={\"平方数(㎡)\": \"m2\"}, inplace=True)\n",
    "rent_all.rename(columns={\"面积(㎡)\": \"m2\"}, inplace=True)\n"
   ]
  },
  {
   "cell_type": "code",
   "execution_count": 24,
   "metadata": {},
   "outputs": [
    {
     "name": "stdout",
     "output_type": "stream",
     "text": [
      "\n",
      "===== 模型 1 回归结果（price_per_m2） =====\n",
      "                            OLS Regression Results                            \n",
      "==============================================================================\n",
      "Dep. Variable:           price_per_m2   R-squared:                       0.645\n",
      "Model:                            OLS   Adj. R-squared:                  0.644\n",
      "Method:                 Least Squares   F-statistic:                     2387.\n",
      "Date:                Thu, 20 Mar 2025   Prob (F-statistic):               0.00\n",
      "Time:                        10:17:41   Log-Likelihood:            -1.0186e+05\n",
      "No. Observations:                9225   AIC:                         2.037e+05\n",
      "Df Residuals:                    9217   BIC:                         2.038e+05\n",
      "Df Model:                           7                                         \n",
      "Covariance Type:            nonrobust                                         \n",
      "=================================================================================================\n",
      "                                    coef    std err          t      P>|t|      [0.025      0.975]\n",
      "-------------------------------------------------------------------------------------------------\n",
      "Intercept                      1.724e+04   1090.378     15.814      0.000    1.51e+04    1.94e+04\n",
      "C(location)[T.Quanyechang]     5.037e+04   1132.870     44.459      0.000    4.81e+04    5.26e+04\n",
      "C(location)[T.Wuqing]         -7192.3008   2268.926     -3.170      0.002   -1.16e+04   -2744.704\n",
      "C(location)[T.Zhongxin]       -6410.9465   1447.669     -4.428      0.000   -9248.697   -3573.196\n",
      "m2                              113.8860      8.754     13.010      0.000      96.727     131.045\n",
      "m2:C(location)[T.Quanyechang]  -272.3379      9.751    -27.929      0.000    -291.452    -253.223\n",
      "m2:C(location)[T.Wuqing]        -97.0752     19.225     -5.049      0.000    -134.760     -59.390\n",
      "m2:C(location)[T.Zhongxin]      -82.6701     11.061     -7.474      0.000    -104.353     -60.988\n",
      "==============================================================================\n",
      "Omnibus:                     3352.813   Durbin-Watson:                   1.993\n",
      "Prob(Omnibus):                  0.000   Jarque-Bera (JB):            19496.166\n",
      "Skew:                           1.634   Prob(JB):                         0.00\n",
      "Kurtosis:                       9.328   Cond. No.                     1.80e+03\n",
      "==============================================================================\n",
      "\n",
      "Notes:\n",
      "[1] Standard Errors assume that the covariance matrix of the errors is correctly specified.\n",
      "[2] The condition number is large, 1.8e+03. This might indicate that there are\n",
      "strong multicollinearity or other numerical problems.\n",
      "\n",
      "===== 模型 2 回归结果（rent_per_m2） =====\n",
      "                            OLS Regression Results                            \n",
      "==============================================================================\n",
      "Dep. Variable:            rent_per_m2   R-squared:                       0.782\n",
      "Model:                            OLS   Adj. R-squared:                  0.781\n",
      "Method:                 Least Squares   F-statistic:                     539.7\n",
      "Date:                Thu, 20 Mar 2025   Prob (F-statistic):               0.00\n",
      "Time:                        10:17:41   Log-Likelihood:                -4073.7\n",
      "No. Observations:                1061   AIC:                             8163.\n",
      "Df Residuals:                    1053   BIC:                             8203.\n",
      "Df Model:                           7                                         \n",
      "Covariance Type:            nonrobust                                         \n",
      "=================================================================================================\n",
      "                                    coef    std err          t      P>|t|      [0.025      0.975]\n",
      "-------------------------------------------------------------------------------------------------\n",
      "Intercept                        36.4410      2.544     14.324      0.000      31.449      41.433\n",
      "C(location)[T.Quanyechang]       29.0487      2.706     10.735      0.000      23.739      34.359\n",
      "C(location)[T.Wuqing]           -21.8089      3.346     -6.517      0.000     -28.375     -15.243\n",
      "C(location)[T.Zhongxin]          -8.4833      2.977     -2.850      0.004     -14.324      -2.642\n",
      "m2                                0.0677      0.023      2.951      0.003       0.023       0.113\n",
      "m2:C(location)[T.Quanyechang]    -0.0442      0.024     -1.817      0.070      -0.092       0.004\n",
      "m2:C(location)[T.Wuqing]         -0.0400      0.030     -1.337      0.181      -0.099       0.019\n",
      "m2:C(location)[T.Zhongxin]       -0.0931      0.027     -3.496      0.000      -0.145      -0.041\n",
      "==============================================================================\n",
      "Omnibus:                      417.757   Durbin-Watson:                   2.011\n",
      "Prob(Omnibus):                  0.000   Jarque-Bera (JB):             4898.626\n",
      "Skew:                           1.470   Prob(JB):                         0.00\n",
      "Kurtosis:                      13.108   Cond. No.                     2.02e+03\n",
      "==============================================================================\n",
      "\n",
      "Notes:\n",
      "[1] Standard Errors assume that the covariance matrix of the errors is correctly specified.\n",
      "[2] The condition number is large, 2.02e+03. This might indicate that there are\n",
      "strong multicollinearity or other numerical problems.\n"
     ]
    }
   ],
   "source": [
    "###################################\n",
    "# 6. 建立回归模型\n",
    "#\n",
    "# 模型 1（预测房价 price/m²）： \n",
    "#   price_per_m2_i = β0 + β1*m2_i + β2*location_i + β3*(m2_i×location_i) + εi\n",
    "#\n",
    "# 模型 2（预测租金 rent/m²）： \n",
    "#   rent_per_m2_i = β0 + β1*m2_i + β2*location_i + β3*(m2_i×location_i) + εi\n",
    "#\n",
    "# location_i 为分类变量，可通过哑变量自动处理\n",
    "###################################\n",
    "\n",
    "# 使用 statsmodels 库，通过公式接口建模\n",
    "# 在公式中使用 C(location) 表示将 location 视作分类变量，同时使用 m2*C(location) 表示交互项\n",
    "model_price = smf.ols(\"price_per_m2 ~ m2 * C(location)\", data=sale_all).fit()\n",
    "model_rent = smf.ols(\"rent_per_m2 ~ m2 * C(location)\", data=rent_all).fit()\n",
    "\n",
    "print(\"\\n===== 模型 1 回归结果（price_per_m2） =====\")\n",
    "print(model_price.summary())\n",
    "\n",
    "print(\"\\n===== 模型 2 回归结果（rent_per_m2） =====\")\n",
    "print(model_rent.summary())"
   ]
  },
  {
   "cell_type": "code",
   "execution_count": 29,
   "metadata": {},
   "outputs": [
    {
     "name": "stdout",
     "output_type": "stream",
     "text": [
      "\n",
      "===== 不同 m2 与 location 的预测结果 =====\n",
      "    m2     location  pred_price_per_m2  pred_rent_per_m2  price_rent_ratio\n",
      "0   50     Zhongxin       12393.610314         26.685543        464.431637\n",
      "1   50       Wuqing       10891.997258         16.016731        680.038730\n",
      "2   50      BaliTai       22938.060409         39.824863        575.973373\n",
      "3   50  Quanyechang       59687.426136         66.663876        895.348877\n",
      "4  100     Zhongxin       13954.408016         25.413446        549.095462\n",
      "5  100       Wuqing       11732.536273         17.401354        674.231230\n",
      "6  100      BaliTai       28632.361746         43.208759        662.651797\n",
      "7  100  Quanyechang       51764.833891         67.838039        763.065013\n"
     ]
    }
   ],
   "source": [
    "###################################\n",
    "# 7. 使用模型预测：\n",
    "#    预测 m2 = 50 和 m2 = 100 时，不同 location 的房价和租金\n",
    "###################################\n",
    "\n",
    "# 构造用于预测的 DataFrame（不同 m2，不同 location）\n",
    "predict_df = pd.DataFrame({\n",
    "    'm2': [50, 50, 50, 50,100, 100, 100,100],\n",
    "    'location': ['Zhongxin', 'Wuqing', 'BaliTai', 'Quanyechang','Zhongxin', 'Wuqing', 'BaliTai','Quanyechang']\n",
    "})\n",
    "\n",
    "pred_price = model_price.predict(predict_df)\n",
    "pred_rent = model_rent.predict(predict_df)\n",
    "\n",
    "# 将预测结果合并到一个表格中方便查看\n",
    "predict_df['pred_price_per_m2'] = pred_price\n",
    "predict_df['pred_rent_per_m2'] = pred_rent\n",
    "predict_df['price_rent_ratio'] = predict_df['pred_price_per_m2'] / predict_df['pred_rent_per_m2']\n",
    "\n",
    "print(\"\\n===== 不同 m2 与 location 的预测结果 =====\")\n",
    "print(predict_df)"
   ]
  },
  {
   "cell_type": "code",
   "execution_count": 30,
   "metadata": {},
   "outputs": [
    {
     "data": {
      "image/png": "[encoded data removed]",
      "text/plain": [
       "<Figure size 600x400 with 1 Axes>"
      ]
     },
     "metadata": {},
     "output_type": "display_data"
    },
    {
     "data": {
      "image/png": "[encoded data removed]",
      "text/plain": [
       "<Figure size 600x400 with 1 Axes>"
      ]
     },
     "metadata": {},
     "output_type": "display_data"
    }
   ],
   "source": [
    "###################################\n",
    "# 8. 绘制柱状图 (Figure B, Figure C)\n",
    "#    绘制在 m2=50 和 m2=100 时，各地点的 price/rent 比率\n",
    "###################################\n",
    "\n",
    "# 分别筛选 m2=50 和 m2=100 的预测数据\n",
    "df_50 = predict_df[predict_df['m2'] == 50]\n",
    "df_100 = predict_df[predict_df['m2'] == 100]\n",
    "\n",
    "# Figure B: m2=50\n",
    "plt.figure(figsize=(6,4))\n",
    "plt.bar(df_50['location'], df_50['price_rent_ratio'])\n",
    "plt.title('Predicted Price-to-Rent Ratio (m2=50) (Figure B)')\n",
    "plt.ylabel('Price / Rent')\n",
    "plt.xlabel('Location')\n",
    "plt.axhline(y=200, color='r', linestyle='--')  # 参考线\n",
    "plt.show()\n",
    "\n",
    "# Figure C: m2=100\n",
    "plt.figure(figsize=(6,4))\n",
    "plt.bar(df_100['location'], df_100['price_rent_ratio'])\n",
    "plt.title('Predicted Price-to-Rent Ratio (m2=100) (Figure C)')\n",
    "plt.ylabel('Price / Rent')\n",
    "plt.xlabel('Location')\n",
    "plt.axhline(y=200, color='r', linestyle='--')  # 参考线\n",
    "plt.show()"
   ]
  }
 ],
 "metadata": {
  "kernelspec": {
   "display_name": "Python 3",
   "language": "python",
   "name": "python3"
  },
  "language_info": {
   "codemirror_mode": {
    "name": "ipython",
    "version": 3
   },
   "file_extension": ".py",
   "mimetype": "text/x-python",
   "name": "python",
   "nbconvert_exporter": "python",
   "pygments_lexer": "ipython3",
   "version": "3.13.2"
  }
 },
 "nbformat": 4,
 "nbformat_minor": 2
}
