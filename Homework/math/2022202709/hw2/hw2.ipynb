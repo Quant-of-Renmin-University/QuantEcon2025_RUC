{
 "cells": [
  {
   "cell_type": "code",
   "execution_count": 1,
   "metadata": {},
   "outputs": [
    {
     "name": "stdout",
     "output_type": "stream",
     "text": [
      "Requirement already satisfied: pandas in c:\\users\\15842\\appdata\\local\\programs\\python\\python313\\lib\\site-packages (2.2.3)\n",
      "Collecting openpyxl\n",
      "  Downloading openpyxl-3.1.5-py2.py3-none-any.whl.metadata (2.5 kB)\n",
      "Collecting docxtpl\n",
      "  Downloading docxtpl-0.19.1-py2.py3-none-any.whl.metadata (9.1 kB)\n",
      "Collecting docx2pdf\n",
      "  Downloading docx2pdf-0.1.8-py3-none-any.whl.metadata (3.3 kB)\n",
      "Requirement already satisfied: numpy>=1.26.0 in c:\\users\\15842\\appdata\\local\\programs\\python\\python313\\lib\\site-packages (from pandas) (2.1.3)\n",
      "Requirement already satisfied: python-dateutil>=2.8.2 in c:\\users\\15842\\appdata\\local\\programs\\python\\python313\\lib\\site-packages (from pandas) (2.9.0.post0)\n",
      "Requirement already satisfied: pytz>=2020.1 in c:\\users\\15842\\appdata\\local\\programs\\python\\python313\\lib\\site-packages (from pandas) (2025.1)\n",
      "Requirement already satisfied: tzdata>=2022.7 in c:\\users\\15842\\appdata\\local\\programs\\python\\python313\\lib\\site-packages (from pandas) (2025.1)\n",
      "Collecting et-xmlfile (from openpyxl)\n",
      "  Downloading et_xmlfile-2.0.0-py3-none-any.whl.metadata (2.7 kB)\n",
      "Collecting python-docx>=1.1.1 (from docxtpl)\n",
      "  Downloading python_docx-1.1.2-py3-none-any.whl.metadata (2.0 kB)\n",
      "Collecting docxcompose (from docxtpl)\n",
      "  Downloading docxcompose-1.4.0.tar.gz (20 kB)\n",
      "  Installing build dependencies: started\n",
      "  Installing build dependencies: finished with status 'done'\n",
      "  Getting requirements to build wheel: started\n",
      "  Getting requirements to build wheel: finished with status 'done'\n",
      "  Preparing metadata (pyproject.toml): started\n",
      "  Preparing metadata (pyproject.toml): finished with status 'done'\n",
      "Requirement already satisfied: jinja2 in c:\\users\\15842\\appdata\\local\\programs\\python\\python313\\lib\\site-packages (from docxtpl) (3.1.6)\n",
      "Collecting lxml (from docxtpl)\n",
      "  Downloading lxml-5.3.1-cp313-cp313-win_amd64.whl.metadata (3.8 kB)\n",
      "Requirement already satisfied: pywin32>=227 in c:\\users\\15842\\appdata\\roaming\\python\\python313\\site-packages (from docx2pdf) (308)\n",
      "Collecting tqdm>=4.41.0 (from docx2pdf)\n",
      "  Downloading tqdm-4.67.1-py3-none-any.whl.metadata (57 kB)\n",
      "Requirement already satisfied: six>=1.5 in c:\\users\\15842\\appdata\\local\\programs\\python\\python313\\lib\\site-packages (from python-dateutil>=2.8.2->pandas) (1.17.0)\n",
      "Requirement already satisfied: typing-extensions>=4.9.0 in c:\\users\\15842\\appdata\\local\\programs\\python\\python313\\lib\\site-packages (from python-docx>=1.1.1->docxtpl) (4.12.2)\n",
      "Requirement already satisfied: colorama in c:\\users\\15842\\appdata\\roaming\\python\\python313\\site-packages (from tqdm>=4.41.0->docx2pdf) (0.4.6)\n",
      "Requirement already satisfied: setuptools in c:\\users\\15842\\appdata\\local\\programs\\python\\python313\\lib\\site-packages (from docxcompose->docxtpl) (75.8.2)\n",
      "Requirement already satisfied: babel in c:\\users\\15842\\appdata\\local\\programs\\python\\python313\\lib\\site-packages (from docxcompose->docxtpl) (2.17.0)\n",
      "Requirement already satisfied: MarkupSafe>=2.0 in c:\\users\\15842\\appdata\\local\\programs\\python\\python313\\lib\\site-packages (from jinja2->docxtpl) (3.0.2)\n",
      "Downloading openpyxl-3.1.5-py2.py3-none-any.whl (250 kB)\n",
      "Downloading docxtpl-0.19.1-py2.py3-none-any.whl (29 kB)\n",
      "Downloading docx2pdf-0.1.8-py3-none-any.whl (6.7 kB)\n",
      "Downloading python_docx-1.1.2-py3-none-any.whl (244 kB)\n",
      "Downloading lxml-5.3.1-cp313-cp313-win_amd64.whl (3.8 MB)\n",
      "   ---------------------------------------- 0.0/3.8 MB ? eta -:--:--\n",
      "   ---------- ----------------------------- 1.0/3.8 MB 4.6 MB/s eta 0:00:01\n",
      "   ----------------------------------- ---- 3.4/3.8 MB 10.5 MB/s eta 0:00:01\n",
      "   ---------------------------------------- 3.8/3.8 MB 8.5 MB/s eta 0:00:00\n",
      "Downloading tqdm-4.67.1-py3-none-any.whl (78 kB)\n",
      "Downloading et_xmlfile-2.0.0-py3-none-any.whl (18 kB)\n",
      "Building wheels for collected packages: docxcompose\n",
      "  Building wheel for docxcompose (pyproject.toml): started\n",
      "  Building wheel for docxcompose (pyproject.toml): finished with status 'done'\n",
      "  Created wheel for docxcompose: filename=docxcompose-1.4.0-py3-none-any.whl size=23353 sha256=e7d87bf1489379666b33910af50b423ae9e7a1df0449c3392a833e097864ca1d\n",
      "  Stored in directory: c:\\users\\15842\\appdata\\local\\pip\\cache\\wheels\\85\\55\\3a\\fd2d62be91ca244b338415d6e6e96b4c0d85056130790f9feb\n",
      "Successfully built docxcompose\n",
      "Installing collected packages: tqdm, lxml, et-xmlfile, python-docx, openpyxl, docx2pdf, docxcompose, docxtpl\n",
      "Successfully installed docx2pdf-0.1.8 docxcompose-1.4.0 docxtpl-0.19.1 et-xmlfile-2.0.0 lxml-5.3.1 openpyxl-3.1.5 python-docx-1.1.2 tqdm-4.67.1\n",
      "Note: you may need to restart the kernel to use updated packages.\n"
     ]
    },
    {
     "name": "stderr",
     "output_type": "stream",
     "text": [
      "\n",
      "[notice] A new release of pip is available: 24.3.1 -> 25.0.1\n",
      "[notice] To update, run: python.exe -m pip install --upgrade pip\n"
     ]
    }
   ],
   "source": [
    "%pip install pandas openpyxl docxtpl docx2pdf"
   ]
  },
  {
   "cell_type": "code",
   "execution_count": 4,
   "metadata": {},
   "outputs": [
    {
     "name": "stdout",
     "output_type": "stream",
     "text": [
      "已成功生成 90 份申请信，保存在 generated_docs 文件夹中。\n"
     ]
    }
   ],
   "source": [
    "import pandas as pd\n",
    "from docxtpl import DocxTemplate\n",
    "import os\n",
    "\n",
    "# 1. 读取 Excel 文件\n",
    "excel_file = 'hw2.xlsx'  # 请替换为你自己的路径\n",
    "df = pd.read_excel(excel_file)\n",
    "\n",
    "# 2. 批量生成 docx 文档\n",
    "template_file = 'hw2.docx'  # 申请信模板\n",
    "output_folder = 'generated_docs'  # 输出文件夹\n",
    "\n",
    "# 如果文件夹不存在，自动创建\n",
    "if not os.path.exists(output_folder):\n",
    "    os.makedirs(output_folder)\n",
    "\n",
    "for index, row in df.iterrows():\n",
    "    university_name = row['University Names']\n",
    "    majors = [row['Major1'], row['Major2'], row['Major3']]\n",
    "    \n",
    "    for major in majors:\n",
    "        # 使用 docxtpl 填充模板\n",
    "        doc = DocxTemplate(template_file)\n",
    "        context = {\n",
    "            'university_name': university_name,\n",
    "            'major': major,\n",
    "            'my_name': 'Your Name Here',\n",
    "            'my_unique_story': 'Your unique story goes here...'\n",
    "        }\n",
    "        doc.render(context)\n",
    "        \n",
    "        # 处理文件名，避免空格或特殊字符影响\n",
    "        output_filename = f\"{university_name.replace(' ', '_')}_{major.replace(' ', '_')}.docx\"\n",
    "        output_path = os.path.join(output_folder, output_filename)\n",
    "        doc.save(output_path)\n",
    "\n",
    "print(f\"已成功生成 {len(df) * 3} 份申请信，保存在 {output_folder} 文件夹中。\")\n"
   ]
  }
 ],
 "metadata": {
  "kernelspec": {
   "display_name": "Python 3",
   "language": "python",
   "name": "python3"
  },
  "language_info": {
   "codemirror_mode": {
    "name": "ipython",
    "version": 3
   },
   "file_extension": ".py",
   "mimetype": "text/x-python",
   "name": "python",
   "nbconvert_exporter": "python",
   "pygments_lexer": "ipython3",
   "version": "3.13.2"
  }
 },
 "nbformat": 4,
 "nbformat_minor": 2
}
