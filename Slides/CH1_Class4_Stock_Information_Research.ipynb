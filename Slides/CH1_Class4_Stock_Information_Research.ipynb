{
 "cells": [
  {
   "cell_type": "code",
   "execution_count": 5,
   "id": "52e2e3fe-e71f-42f7-8986-ce6f5daa7c36",
   "metadata": {
    "tags": []
   },
   "outputs": [
    {
     "name": "stdout",
     "output_type": "stream",
     "text": [
      "['Solarize_Light2', '_classic_test_patch', '_mpl-gallery', '_mpl-gallery-nogrid', 'bmh', 'classic', 'dark_background', 'fast', 'fivethirtyeight', 'ggplot', 'grayscale', 'seaborn', 'seaborn-bright', 'seaborn-colorblind', 'seaborn-dark', 'seaborn-dark-palette', 'seaborn-darkgrid', 'seaborn-deep', 'seaborn-muted', 'seaborn-notebook', 'seaborn-paper', 'seaborn-pastel', 'seaborn-poster', 'seaborn-talk', 'seaborn-ticks', 'seaborn-white', 'seaborn-whitegrid', 'tableau-colorblind10']\n"
     ]
    }
   ],
   "source": [
    "from selenium import webdriver\n",
    "from time import sleep\n",
    "import pandas as pd\n",
    "from io import StringIO\n",
    "from functools import partial\n",
    "import matplotlib.pyplot as plt\n",
    "from selenium.webdriver.support import expected_conditions as EC\n",
    "from selenium.webdriver.common.by import By\n",
    "from selenium.common import NoSuchElementException,StaleElementReferenceException\n",
    "from matplotlib import style\n",
    "\n",
    "print(plt.style.available)\n",
    "%matplotlib inline\n",
    "\n",
    "driver=webdriver.Edge()\n",
    "\n",
    "url='https://guba.eastmoney.com/list,hk01810.html'\n",
    "driver.get(url)"
   ]
  },
  {
   "cell_type": "code",
   "execution_count": 10,
   "id": "99701335-daaa-423e-9b00-6c2d29596eb5",
   "metadata": {
    "tags": []
   },
   "outputs": [],
   "source": [
    "try:\n",
    "    next_page=driver.find_element('class name','nextp')\n",
    "    next_page.click()\n",
    "except NoSuchElementException:\n",
    "    print(\"NoSuchElementException\")"
   ]
  },
  {
   "cell_type": "code",
   "execution_count": 62,
   "id": "a22fca7a-4df8-4e94-ad32-d962aed40f6f",
   "metadata": {},
   "outputs": [],
   "source": [
    "table =driver.find_element('class name','listbody')"
   ]
  },
  {
   "cell_type": "code",
   "execution_count": 63,
   "id": "be917935-d4f2-47ef-9c17-5716eb767e99",
   "metadata": {
    "tags": []
   },
   "outputs": [
    {
     "data": {
      "text/plain": [
       "'98\\n1\\n作为小米的销售就是好，业绩完全不用自己去做，老板已经给完成了八成，网络博主完成两\\n港股通ATM提款机\\n03-03 11:31\\n178\\n1\\n小米集团港股股价预测的格局需要依据汽车消费市场情绪对小米汽车的高度认可，客观的小\\n大道兮至简\\n03-03 11:31\\n6522\\n29\\n半夜醒来，看了下大家的评论，目前多空双方分歧严重，但是看多的人远多于看空的人，看\\n爱钓鱼的姜子牙\\n03-03 11:30\\n112\\n1\\n说实话，我是米粉，一直看好小米，也一直对消息持乐观态度，但今天普涨情况下，小米一\\n股友63212A023o\\n03-03 11:29\\n25.7万\\n666\\n资讯雷军超钟睒睒登顶中国首富 身家近4400亿元\\n小米集团-W资讯\\n03-03 11:27\\n69\\n0\\n似乎是买入机会，下午再看看。\\n我是踏空狗\\n03-03 11:27\\n25\\n0\\n估值反应一年的预期了，回购才能突破\\n跑步的蚂蚁1\\n03-03 11:27\\n68\\n0\\n都是炒股赚点钱，留下点理智吧!当然，有人买多，有人买空，都符合市场逻辑。为了黑而\\n布衣以头抢地耳\\n03-03 11:26\\n2585\\n9\\n小米发布会有感，万亿小米刀下魂又要多一个\\n我是踏空狗\\n03-03 11:26\\n1397\\n5\\n转发财联社小米股价新高后为何巨震？百亿空头或正遭外资“极限逼仓”财联社8分钟前约\\n坚持满仓\\n03-03 11:26\\n73\\n0\\n这股做空的都国内的耐心资本，国外的黑心资本家都是在买进持有\\n宏图成章的千道流\\n03-03 11:24\\n73\\n0\\n小米这一波外资炒起来的，看看我们内资，挂了多少空单，一直被外资逼空，诶。\\n远离股市2\\n03-03 11:24\\n250\\n2\\n小米SU7Ultra作为一款高端新能源汽车，凭借其强大的性能、豪华配置以及极具竞\\n布衣以头抢地耳\\n03-03 11:23\\n240\\n4\\n同行比亚迪才1万亿左右市值，小米造车+手机1.3万亿了，没造车之前也就是3千亿左\\n精准打击\\n03-03 11:23\\n64\\n0\\n洗几天也挺好，洗下来让我买入，埋伏YU7\\n大道必简\\n03-03 11:22\\n68\\n0\\n空苟拼命在唱空，可惜呀！\\n二五年赚二十万\\n03-03 11:22\\n146\\n2\\n一个预言：今年将会出现一项能引发业界震动的手机新品：\"万能照像手机\"。1\"万能照\\n轻快的乔伟涛\\n03-03 11:22\\n159\\n0\\n手机现在和m系列价格差不多车比问界9还贵小米的优势荡然无存研发又不咋滴有没有属于\\nmartinz0716\\n03-03 11:21\\n63\\n0\\n利好出尽\\n煮豆燃肚脐\\n03-03 11:21\\n420\\n11\\n调整，我更放心\\n简D粗暴\\n03-03 11:20\\n69\\n0\\nYU才是大杀器，能捂住的厉害\\n大道必简\\n03-03 11:20\\n2683\\n58\\n谈谈小米最近风口浪尖也是我持仓最重的一只票，其实一直不理解为什么网上对小米的攻击\\n股友528C552l96\\n03-03 11:19\\n65\\n0\\n爱咋咋滴吧\\n江河湖海财财财\\n03-03 11:19\\n97\\n1\\n珍惜手中的筹码\\n友爱之米老鼠\\n03-03 11:18\\n82\\n0\\n雷总交车新闻满天飞，现在却回调了，回调点位合适的话，可以考虑搞点了\\n随便起个名字好啦\\n03-03 11:17\\n182\\n0\\n小米SU7 Ultra杀疯，颠覆豪车认知\\n梧桐居士2010\\n03-03 11:17\\n147\\n2\\n明天早上10点钟直播看交车小米SU7Ultra\\n港股通ATM提款机\\n03-03 11:17\\n142\\n2\\n2月28日，部分北京市推荐的全国政协委员在经开区视察考察，来到小米超级工厂参观。\\n勤于思考地伊诺克\\n03-03 11:16\\n363\\n2\\n我如何看小米：小米是中国手机，电动车和电器三位合一的龙头之一。同时也是Al的搞手\\n介儒评话\\n03-03 11:16\\n64\\n0\\n这一波很多人赚到了\\n玉火三少\\n03-03 11:15\\n57\\n0\\n军儿一定稳稳首富\\n老股东啦\\n03-03 11:15\\n58\\n0\\n福建米粉和湖南米线大比拼。\\n阿三哥春节不打烊\\n03-03 11:14\\n120\\n0\\n#雷军说大家不要觉得我们赢得很容易#雷军谈征战纽北的艰辛#雷军发布会返场直播3月2日，小米CEO雷军在直播中回应了征战纽北（纽博格林北环赛道）的艰辛，他表示，征战纽北的过程中有太多困难，大家不要觉得我\\n北京商报\\n03-03 11:13\\n234\\n3\\n这波回调小插曲，主要有两个原因，一是雷军倒车接人，想让更多的民众都财富自由。二是\\n头脑不要发热\\n03-03 11:13\\n142\\n3\\n最新大定19000\\n瑶钱树5\\n03-03 11:13\\n63\\n0\\n冲啊，我们自己呵护\\n老股东啦\\n03-03 11:13\\n78\\n1\\n为小米保时捷点赞。锁单量突破10000台！小米SU7Ultra发布仅三天就完成全\\n纳斯达克1\\n03-03 11:12\\n7332\\n25\\n小米在港股和美股今天都是巨量下跌，用DeepSeek推测一下明天走势，大家参考一\\n水无常形股无常势顺势而为\\n03-03 11:10\\n59\\n0\\n三只乌鸦\\n铜锣亿响\\n03-03 11:09\\n67\\n0\\n主力太坏了，阴跌最好怕，还要套一批人\\n基民8ii1O3\\n03-03 11:09\\n72\\n0\\n有意思吗，连着大跌三天了，还要回到8块？\\n股友3G2V192837\\n03-03 11:09\\n60\\n0\\n20再来\\n股友lcoze\\n03-03 11:08\\n262\\n9\\n今天高位站岗了\\n乘风破浪地罗汉松\\n03-03 11:06\\n62\\n0\\n买吧套不死的\\n卡卡罗特骑贝吉塔\\n03-03 11:05\\n1647\\n5\\n重估中国的故事，才刚刚开始\\n小麦养基\\n03-03 11:04\\n56\\n0\\n千年大顶\\n何事偏向别时圆\\n03-03 11:02\\n65\\n0\\n要a杀了嘛\\n楚楚可怜的智星6\\n03-03 11:02\\n346\\n4\\n小米造车每辆亏5万元，现在还是靠手机挣钱，家电也不怎么挣钱，1万5千亿市值利润不\\n大道无形我更行\\n03-03 11:02\\n198\\n1\\n军哥：怎么投资股票 ？小米集团可以好好学习！\\n上海炒股冠军军哥\\n03-03 11:01\\n63\\n0\\n看涨的是喜欢小米的车，看出货的是喜欢到手的钱\\n股友6026i150I6\\n03-03 11:00\\n66\\n0\\n都是长线客，能拿的住也是一种本事\\nMinglol\\n03-03 11:00\\n63\\n0\\n好家伙这成交量很大啊\\n小米是下一个华为\\n03-03 11:00\\n337\\n1\\n小米15Ultra在发布后市场反应热烈，预售情况非常火爆。根据发布信息，小米15\\n中国股市独行侠\\n03-03 11:00\\n267\\n2\\n小米连续5个月交付量破2万要说最近最为风光的车企，我想非小米汽车莫属，在小米SU\\n有自制力的魏炯7\\n03-03 10:59\\n549\\n3\\n小米五年高端化交作业：小米15 Ultra、SU7 Ultra、米家中央空调Pro等重磅发布，向超高端进发！\\n小米公司\\n03-03 10:59\\n102\\n1\\n小米SU7 Ultra锁单量已突破10000台，提前完成全年任务\\n江湖新韭菜\\n03-03 10:58\\n63\\n0\\n这票只能长拿，心理素质不够很容易t飞\\n宏图成章的千道流\\n03-03 10:58\\n202\\n1\\n52.99万元起！小米SU7Ultra正式发布2025年2月27日，小米正式发布\\n车圈搬砖小锅\\n03-03 10:58\\n2215\\n10\\n小米新品发布，相关概念股一览\\n倾斜45度冲\\n03-03 10:57\\n72\\n0\\n连续三个交易日高开低走出货\\n助我一把力\\n03-03 10:56\\n2806\\n7\\n资讯最强主线！中国科技股，爆发！长期前景仍被看好\\n阿里健康资讯\\n03-03 10:56\\n90\\n1\\n内地什么时候可以买港股？\\n漯河小子\\n03-03 10:56\\n63\\n0\\n小米这次才是中国汽车行业正式介入汽车高端市场，宣布特斯拉已经在挂的路上了。\\n大道兮至简\\n03-03 10:55\\n61\\n0\\n$小米集团-W(HK|01810)$\\n友爱之米老鼠\\n03-03 10:55\\n104\\n1\\n从小米集团港股股价驱动因素来看，小米SU7Ultra订单已经超预期，大概率触发空\\n大道兮至简\\n03-03 10:54\\n1860\\n9\\nDeepseek预测下周小米走势，大家参考一下：根据近期小米股价的巨量下跌现象及\\n水无常形股无常势顺势而为\\n03-03 10:53\\n143\\n1\\n项庄舞剑志在沛公：SU7Ultra采用与标准版分离的生产线，当前月产能达5000\\n港股通ATM提款机\\n03-03 10:53\\n327\\n0\\n小米SU7系列热销但申请的“小米 SU7 PRO”“小米 SU7 MAX”商标处于驳回状态\\n海闻财经\\n03-03 10:52\\n78\\n0\\n下一目标100，很快会到达。\\n股友225G37l750\\n03-03 10:52\\n59\\n0\\n拉圾\\n基民d9nD6T\\n03-03 10:51\\n156\\n1\\n坚定持有小米到2030年。\\n股友Eg86529372\\n03-03 10:51\\n119\\n2\\n被洗出去了。卧槽了\\nez0457\\n03-03 10:49\\n792\\n12\\n被小米ultra的大定刷屏了，很多黑子开始带节奏，说小米把比亚迪的跑车甚至高端之\\nLinkMore\\n03-03 10:48\\n105\\n1\\n大佬在冲，怕个球。\\njacques860216\\n03-03 10:46\\n64\\n1\\n抄底，快快快，进入\\n后知后觉者的坚韧\\n03-03 10:45\\n157\\n3\\n各位大哥你们快拉啊快拉呀ultra截止时间定了六十万台了明天这个时候就是二百万台\\n宏图来财的王重阳\\n03-03 10:44\\n409\\n2\\n上周四网红哥54.3把小米全出了，买了一辆ultra致敬雷总。加仓了融创中国20\\n网红哥\\n03-03 10:42\\n135\\n0\\n在小米第一款SUV车型上市前，还有一个潜在的利好可进一步支持股价，那就是小米汽车\\n阿青师\\n03-03 10:41\\n64\\n0\\n小米股价很快就会超过腾讯，拭目以待吧\\n宁静的伊集院翼\\n03-03 10:39\\n597\\n5\\n【天量见天价】还是【辉煌直上】！\\n天痕带你飞\\n03-03 10:38'"
      ]
     },
     "execution_count": 63,
     "metadata": {},
     "output_type": "execute_result"
    }
   ],
   "source": [
    "table.text"
   ]
  },
  {
   "cell_type": "code",
   "execution_count": 52,
   "id": "430f922b-351e-4fb6-8527-cba9e411d662",
   "metadata": {
    "tags": []
   },
   "outputs": [],
   "source": [
    "# Extract table rows\n",
    "rows = table.find_elements(By.TAG_NAME, 'tr')\n",
    "\n",
    "# Initialize lists to store data\n",
    "data = []\n",
    "\n",
    "# Loop through rows and extract data\n",
    "for row in rows:\n",
    "    cells = row.find_elements(By.TAG_NAME, 'td')\n",
    "    if cells:  # Skip rows without data (e.g., headers)\n",
    "        row_data = [cell.text for cell in cells]\n",
    "        data.append(row_data)\n",
    "\n",
    "df = pd.DataFrame(data)\n"
   ]
  },
  {
   "cell_type": "code",
   "execution_count": 53,
   "id": "ab318d6f-3930-4c6a-a4ed-3a1c8d66c78a",
   "metadata": {
    "tags": []
   },
   "outputs": [
    {
     "data": {
      "text/html": [
       "<div>\n",
       "<style scoped>\n",
       "    .dataframe tbody tr th:only-of-type {\n",
       "        vertical-align: middle;\n",
       "    }\n",
       "\n",
       "    .dataframe tbody tr th {\n",
       "        vertical-align: top;\n",
       "    }\n",
       "\n",
       "    .dataframe thead th {\n",
       "        text-align: right;\n",
       "    }\n",
       "</style>\n",
       "<table border=\"1\" class=\"dataframe\">\n",
       "  <thead>\n",
       "    <tr style=\"text-align: right;\">\n",
       "      <th></th>\n",
       "      <th>0</th>\n",
       "      <th>1</th>\n",
       "      <th>2</th>\n",
       "      <th>3</th>\n",
       "      <th>4</th>\n",
       "    </tr>\n",
       "  </thead>\n",
       "  <tbody>\n",
       "    <tr>\n",
       "      <th>0</th>\n",
       "      <td>107</td>\n",
       "      <td>1</td>\n",
       "      <td>尊敬的小米集团董秘：你好！想问一下集团的电子邮箱在正常使用吗？为什么我给雷军董事</td>\n",
       "      <td>轻快的乔伟涛</td>\n",
       "      <td>03-03 15:33</td>\n",
       "    </tr>\n",
       "    <tr>\n",
       "      <th>1</th>\n",
       "      <td>79</td>\n",
       "      <td>0</td>\n",
       "      <td>明天就去香港开户等我来接盘</td>\n",
       "      <td>梭哈打板</td>\n",
       "      <td>03-03 15:33</td>\n",
       "    </tr>\n",
       "    <tr>\n",
       "      <th>2</th>\n",
       "      <td>85</td>\n",
       "      <td>0</td>\n",
       "      <td>新高后回调很正常，参考纳斯达克。</td>\n",
       "      <td>纳斯达克1</td>\n",
       "      <td>03-03 15:31</td>\n",
       "    </tr>\n",
       "    <tr>\n",
       "      <th>3</th>\n",
       "      <td>128</td>\n",
       "      <td>2</td>\n",
       "      <td>小米汽车大卖挡不住股价暴跌</td>\n",
       "      <td>king3660</td>\n",
       "      <td>03-03 15:31</td>\n",
       "    </tr>\n",
       "    <tr>\n",
       "      <th>4</th>\n",
       "      <td>74</td>\n",
       "      <td>0</td>\n",
       "      <td>发利好是为了套人的？</td>\n",
       "      <td>Vincycwx</td>\n",
       "      <td>03-03 15:31</td>\n",
       "    </tr>\n",
       "    <tr>\n",
       "      <th>...</th>\n",
       "      <td>...</td>\n",
       "      <td>...</td>\n",
       "      <td>...</td>\n",
       "      <td>...</td>\n",
       "      <td>...</td>\n",
       "    </tr>\n",
       "    <tr>\n",
       "      <th>75</th>\n",
       "      <td>98</td>\n",
       "      <td>2</td>\n",
       "      <td>大家准备好，我要拉了，谁有纸巾谢谢</td>\n",
       "      <td>股友56c68z6568</td>\n",
       "      <td>03-03 14:43</td>\n",
       "    </tr>\n",
       "    <tr>\n",
       "      <th>76</th>\n",
       "      <td>113</td>\n",
       "      <td>1</td>\n",
       "      <td>看不懂，超大单在进怎么反而绿了</td>\n",
       "      <td>否极泰来来来来</td>\n",
       "      <td>03-03 14:42</td>\n",
       "    </tr>\n",
       "    <tr>\n",
       "      <th>77</th>\n",
       "      <td>61</td>\n",
       "      <td>0</td>\n",
       "      <td>真诚感动一切，来点人给雷军站岗</td>\n",
       "      <td>小白菜菜菜菜菜菜</td>\n",
       "      <td>03-03 14:42</td>\n",
       "    </tr>\n",
       "    <tr>\n",
       "      <th>78</th>\n",
       "      <td>162</td>\n",
       "      <td>3</td>\n",
       "      <td>高位三只乌鸦，懂的都懂，之前提示过风险结果被喷</td>\n",
       "      <td>左满舵</td>\n",
       "      <td>03-03 14:42</td>\n",
       "    </tr>\n",
       "    <tr>\n",
       "      <th>79</th>\n",
       "      <td>522</td>\n",
       "      <td>18</td>\n",
       "      <td>此股现在非常危险，千万不要买了</td>\n",
       "      <td>股市的春天888</td>\n",
       "      <td>03-03 14:41</td>\n",
       "    </tr>\n",
       "  </tbody>\n",
       "</table>\n",
       "<p>80 rows × 5 columns</p>\n",
       "</div>"
      ],
      "text/plain": [
       "      0   1                                         2             3  \\\n",
       "0   107   1  尊敬的小米集团董秘：你好！想问一下集团的电子邮箱在正常使用吗？为什么我给雷军董事        轻快的乔伟涛   \n",
       "1    79   0                             明天就去香港开户等我来接盘          梭哈打板   \n",
       "2    85   0                          新高后回调很正常，参考纳斯达克。         纳斯达克1   \n",
       "3   128   2                             小米汽车大卖挡不住股价暴跌      king3660   \n",
       "4    74   0                                发利好是为了套人的？      Vincycwx   \n",
       "..  ...  ..                                       ...           ...   \n",
       "75   98   2                         大家准备好，我要拉了，谁有纸巾谢谢  股友56c68z6568   \n",
       "76  113   1                           看不懂，超大单在进怎么反而绿了       否极泰来来来来   \n",
       "77   61   0                           真诚感动一切，来点人给雷军站岗      小白菜菜菜菜菜菜   \n",
       "78  162   3                   高位三只乌鸦，懂的都懂，之前提示过风险结果被喷           左满舵   \n",
       "79  522  18                           此股现在非常危险，千万不要买了      股市的春天888   \n",
       "\n",
       "              4  \n",
       "0   03-03 15:33  \n",
       "1   03-03 15:33  \n",
       "2   03-03 15:31  \n",
       "3   03-03 15:31  \n",
       "4   03-03 15:31  \n",
       "..          ...  \n",
       "75  03-03 14:43  \n",
       "76  03-03 14:42  \n",
       "77  03-03 14:42  \n",
       "78  03-03 14:42  \n",
       "79  03-03 14:41  \n",
       "\n",
       "[80 rows x 5 columns]"
      ]
     },
     "execution_count": 53,
     "metadata": {},
     "output_type": "execute_result"
    }
   ],
   "source": [
    "df"
   ]
  },
  {
   "cell_type": "code",
   "execution_count": 56,
   "id": "7d652a67-e1dc-48e9-a645-87379ce55fe0",
   "metadata": {
    "tags": []
   },
   "outputs": [],
   "source": [
    "string_list=[]\n",
    "\n",
    "i=0\n",
    "\n",
    "while i<2:\n",
    "    table=driver.find_element('class name','listbody')#.text\n",
    "    # Extract table rows\n",
    "    rows = table.find_elements(By.TAG_NAME, 'tr')\n",
    "\n",
    "    # Initialize lists to store data\n",
    "    data = []\n",
    "\n",
    "    # Loop through rows and extract data\n",
    "    for row in rows:\n",
    "        cells = row.find_elements(By.TAG_NAME, 'td')\n",
    "        if cells:  # Skip rows without data (e.g., headers)\n",
    "            row_data = [cell.text for cell in cells]\n",
    "            data.append(row_data)\n",
    "\n",
    "    df = pd.DataFrame(data)\n",
    "    string_list.append(df)\n",
    "    #driver.refresh()\n",
    "    try:\n",
    "        next_page=driver.find_element('class name','nextp')\n",
    "        next_page.click()\n",
    "        i+=1\n",
    "    except NoSuchElementException:\n",
    "        break"
   ]
  },
  {
   "cell_type": "code",
   "execution_count": 74,
   "id": "2491d94f-70c6-4c9c-80cb-dc6616e4fe56",
   "metadata": {
    "tags": []
   },
   "outputs": [],
   "source": [
    "driver.quit()"
   ]
  },
  {
   "cell_type": "code",
   "execution_count": 78,
   "id": "6124cae4-b203-49f0-a91a-15d85ffde51b",
   "metadata": {
    "tags": []
   },
   "outputs": [],
   "source": [
    "df_full=pd.concat(string_list)\n",
    "df_full.columns=['阅读',\n",
    "'评论',\n",
    "'标题',\n",
    "'作者',\n",
    "'最后更新']"
   ]
  },
  {
   "cell_type": "code",
   "execution_count": 79,
   "id": "d48001a9-be55-4c6c-8c89-a032a8aec11a",
   "metadata": {
    "tags": []
   },
   "outputs": [
    {
     "data": {
      "text/html": [
       "<div>\n",
       "<style scoped>\n",
       "    .dataframe tbody tr th:only-of-type {\n",
       "        vertical-align: middle;\n",
       "    }\n",
       "\n",
       "    .dataframe tbody tr th {\n",
       "        vertical-align: top;\n",
       "    }\n",
       "\n",
       "    .dataframe thead th {\n",
       "        text-align: right;\n",
       "    }\n",
       "</style>\n",
       "<table border=\"1\" class=\"dataframe\">\n",
       "  <thead>\n",
       "    <tr style=\"text-align: right;\">\n",
       "      <th></th>\n",
       "      <th>阅读</th>\n",
       "      <th>评论</th>\n",
       "      <th>标题</th>\n",
       "      <th>作者</th>\n",
       "      <th>最后更新</th>\n",
       "    </tr>\n",
       "  </thead>\n",
       "  <tbody>\n",
       "    <tr>\n",
       "      <th>count</th>\n",
       "      <td>160</td>\n",
       "      <td>160</td>\n",
       "      <td>160</td>\n",
       "      <td>160</td>\n",
       "      <td>160</td>\n",
       "    </tr>\n",
       "    <tr>\n",
       "      <th>unique</th>\n",
       "      <td>80</td>\n",
       "      <td>13</td>\n",
       "      <td>158</td>\n",
       "      <td>129</td>\n",
       "      <td>93</td>\n",
       "    </tr>\n",
       "    <tr>\n",
       "      <th>top</th>\n",
       "      <td>64</td>\n",
       "      <td>0</td>\n",
       "      <td>压不住啦量太大。空头没赚的空间</td>\n",
       "      <td>小米集团-W资讯</td>\n",
       "      <td>03-03 14:13</td>\n",
       "    </tr>\n",
       "    <tr>\n",
       "      <th>freq</th>\n",
       "      <td>8</td>\n",
       "      <td>108</td>\n",
       "      <td>2</td>\n",
       "      <td>7</td>\n",
       "      <td>7</td>\n",
       "    </tr>\n",
       "  </tbody>\n",
       "</table>\n",
       "</div>"
      ],
      "text/plain": [
       "         阅读   评论               标题        作者         最后更新\n",
       "count   160  160              160       160          160\n",
       "unique   80   13              158       129           93\n",
       "top      64    0  压不住啦量太大。空头没赚的空间  小米集团-W资讯  03-03 14:13\n",
       "freq      8  108                2         7            7"
      ]
     },
     "execution_count": 79,
     "metadata": {},
     "output_type": "execute_result"
    }
   ],
   "source": [
    "df_full.describe()"
   ]
  },
  {
   "cell_type": "code",
   "execution_count": 81,
   "id": "03c6a8df-48d7-4513-8ba1-1582a8c5d409",
   "metadata": {
    "tags": []
   },
   "outputs": [],
   "source": [
    "df_full['阅读']=pd.to_numeric(df_full['阅读'])\n",
    "\n",
    "df_full['评论']=pd.to_numeric(df_full['评论'])"
   ]
  },
  {
   "cell_type": "code",
   "execution_count": 84,
   "id": "d8ada156-eb6a-45d9-b164-e1f830f1cca4",
   "metadata": {
    "tags": []
   },
   "outputs": [
    {
     "data": {
      "text/html": [
       "<div>\n",
       "<style scoped>\n",
       "    .dataframe tbody tr th:only-of-type {\n",
       "        vertical-align: middle;\n",
       "    }\n",
       "\n",
       "    .dataframe tbody tr th {\n",
       "        vertical-align: top;\n",
       "    }\n",
       "\n",
       "    .dataframe thead th {\n",
       "        text-align: right;\n",
       "    }\n",
       "</style>\n",
       "<table border=\"1\" class=\"dataframe\">\n",
       "  <thead>\n",
       "    <tr style=\"text-align: right;\">\n",
       "      <th></th>\n",
       "      <th>阅读</th>\n",
       "      <th>评论</th>\n",
       "    </tr>\n",
       "  </thead>\n",
       "  <tbody>\n",
       "    <tr>\n",
       "      <th>count</th>\n",
       "      <td>160.000000</td>\n",
       "      <td>160.000000</td>\n",
       "    </tr>\n",
       "    <tr>\n",
       "      <th>mean</th>\n",
       "      <td>270.825000</td>\n",
       "      <td>1.531250</td>\n",
       "    </tr>\n",
       "    <tr>\n",
       "      <th>std</th>\n",
       "      <td>815.664752</td>\n",
       "      <td>5.427535</td>\n",
       "    </tr>\n",
       "    <tr>\n",
       "      <th>min</th>\n",
       "      <td>25.000000</td>\n",
       "      <td>0.000000</td>\n",
       "    </tr>\n",
       "    <tr>\n",
       "      <th>25%</th>\n",
       "      <td>63.000000</td>\n",
       "      <td>0.000000</td>\n",
       "    </tr>\n",
       "    <tr>\n",
       "      <th>50%</th>\n",
       "      <td>70.000000</td>\n",
       "      <td>0.000000</td>\n",
       "    </tr>\n",
       "    <tr>\n",
       "      <th>75%</th>\n",
       "      <td>100.250000</td>\n",
       "      <td>1.000000</td>\n",
       "    </tr>\n",
       "    <tr>\n",
       "      <th>max</th>\n",
       "      <td>6018.000000</td>\n",
       "      <td>55.000000</td>\n",
       "    </tr>\n",
       "  </tbody>\n",
       "</table>\n",
       "</div>"
      ],
      "text/plain": [
       "                阅读          评论\n",
       "count   160.000000  160.000000\n",
       "mean    270.825000    1.531250\n",
       "std     815.664752    5.427535\n",
       "min      25.000000    0.000000\n",
       "25%      63.000000    0.000000\n",
       "50%      70.000000    0.000000\n",
       "75%     100.250000    1.000000\n",
       "max    6018.000000   55.000000"
      ]
     },
     "execution_count": 84,
     "metadata": {},
     "output_type": "execute_result"
    }
   ],
   "source": [
    "df_full.describe()"
   ]
  },
  {
   "cell_type": "code",
   "execution_count": 85,
   "id": "15ca077f-b8f7-459d-a9b8-2afe7c09eb8e",
   "metadata": {
    "tags": []
   },
   "outputs": [
    {
     "data": {
      "text/plain": [
       "array([[<AxesSubplot:title={'center':'阅读'}>,\n",
       "        <AxesSubplot:title={'center':'评论'}>]], dtype=object)"
      ]
     },
     "execution_count": 85,
     "metadata": {},
     "output_type": "execute_result"
    },
    {
     "name": "stderr",
     "output_type": "stream",
     "text": [
      "C:\\Users\\Ray Ge\\anaconda3\\lib\\site-packages\\IPython\\core\\pylabtools.py:151: UserWarning: Glyph 38405 (\\N{CJK UNIFIED IDEOGRAPH-9605}) missing from current font.\n",
      "  fig.canvas.print_figure(bytes_io, **kw)\n",
      "C:\\Users\\Ray Ge\\anaconda3\\lib\\site-packages\\IPython\\core\\pylabtools.py:151: UserWarning: Glyph 35835 (\\N{CJK UNIFIED IDEOGRAPH-8BFB}) missing from current font.\n",
      "  fig.canvas.print_figure(bytes_io, **kw)\n",
      "C:\\Users\\Ray Ge\\anaconda3\\lib\\site-packages\\IPython\\core\\pylabtools.py:151: UserWarning: Glyph 35780 (\\N{CJK UNIFIED IDEOGRAPH-8BC4}) missing from current font.\n",
      "  fig.canvas.print_figure(bytes_io, **kw)\n",
      "C:\\Users\\Ray Ge\\anaconda3\\lib\\site-packages\\IPython\\core\\pylabtools.py:151: UserWarning: Glyph 35770 (\\N{CJK UNIFIED IDEOGRAPH-8BBA}) missing from current font.\n",
      "  fig.canvas.print_figure(bytes_io, **kw)\n"
     ]
    },
    {
     "data": {
      "image/png": "[encoded data removed]",
      "text/plain": [
       "<Figure size 640x480 with 2 Axes>"
      ]
     },
     "metadata": {},
     "output_type": "display_data"
    }
   ],
   "source": [
    "df_full.hist()"
   ]
  },
  {
   "cell_type": "code",
   "execution_count": null,
   "id": "bdd7f794-91a9-4449-85c4-eb040cfd97a2",
   "metadata": {},
   "outputs": [],
   "source": []
  }
 ],
 "metadata": {
  "kernelspec": {
   "display_name": "Python 3 (ipykernel)",
   "language": "python",
   "name": "python3"
  },
  "language_info": {
   "codemirror_mode": {
    "name": "ipython",
    "version": 3
   },
   "file_extension": ".py",
   "mimetype": "text/x-python",
   "name": "python",
   "nbconvert_exporter": "python",
   "pygments_lexer": "ipython3",
   "version": "3.9.13"
  }
 },
 "nbformat": 4,
 "nbformat_minor": 5
}
