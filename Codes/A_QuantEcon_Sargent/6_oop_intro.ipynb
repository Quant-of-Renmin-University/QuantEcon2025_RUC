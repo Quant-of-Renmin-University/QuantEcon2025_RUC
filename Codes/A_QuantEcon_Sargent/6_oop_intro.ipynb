{
 "cells": [
  {
   "cell_type": "markdown",
   "id": "ac3965e6",
   "metadata": {},
   "source": [
    "\n",
    "<a id='oop-intro'></a>\n",
    "<div id=\"qe-notebook-header\" align=\"right\" style=\"text-align:right;\">\n",
    "        <a href=\"https://quantecon.org/\" title=\"quantecon.org\">\n",
    "                <img style=\"width:250px;display:inline;\" width=\"250px\" src=\"https://assets.quantecon.org/img/qe-menubar-logo.svg\" alt=\"QuantEcon\">\n",
    "        </a>\n",
    "</div>"
   ]
  },
  {
   "cell_type": "markdown",
   "id": "4a486277",
   "metadata": {},
   "source": [
    "# OOP I: Introduction to Object Oriented Programming"
   ]
  },
  {
   "cell_type": "markdown",
   "id": "78b2871f",
   "metadata": {},
   "source": [
    "## Contents\n",
    "\n",
    "- [OOP I: Introduction to Object Oriented Programming](#OOP-I:-Introduction-to-Object-Oriented-Programming)  \n",
    "  - [Overview](#Overview)  \n",
    "  - [Objects](#Objects)  \n",
    "  - [Summary](#Summary)  "
   ]
  },
  {
   "cell_type": "markdown",
   "id": "9889d88b",
   "metadata": {},
   "source": [
    "## Overview\n",
    "\n",
    "[OOP](https://en.wikipedia.org/wiki/Object-oriented_programming) is one of the major paradigms in programming.\n",
    "\n",
    "The traditional programming paradigm (think Fortran, C, MATLAB, etc.) is called *procedural*.\n",
    "\n",
    "It works as follows\n",
    "\n",
    "- The program has a state corresponding to the values of its variables.  \n",
    "- Functions are called to act on these data.  \n",
    "- Data are passed back and forth via function calls.  \n",
    "\n",
    "\n",
    "In contrast, in the OOP paradigm\n",
    "\n",
    "- data and functions are “bundled together” into “objects”  \n",
    "\n",
    "\n",
    "(Functions in this context are referred to as **methods**)"
   ]
  },
  {
   "cell_type": "markdown",
   "id": "949915d3",
   "metadata": {},
   "source": [
    "### Python and OOP\n",
    "\n",
    "Python is a pragmatic language that blends object-oriented and procedural styles, rather than taking a purist approach.\n",
    "\n",
    "However, at a foundational level, Python *is* object-oriented.\n",
    "\n",
    "In particular, in Python, *everything is an object*.\n",
    "\n",
    "In this lecture, we explain what that statement means and why it matters."
   ]
  },
  {
   "cell_type": "markdown",
   "id": "3787596e",
   "metadata": {},
   "source": [
    "## Objects\n",
    "\n",
    "\n",
    "<a id='index-0'></a>\n",
    "In Python, an *object* is a collection of data and instructions held in computer memory that consists of\n",
    "\n",
    "1. a type  \n",
    "1. a unique identity  \n",
    "1. data (i.e., content)  \n",
    "1. methods  \n",
    "\n",
    "\n",
    "These concepts are defined and discussed sequentially below.\n",
    "\n",
    "\n",
    "<a id='type'></a>"
   ]
  },
  {
   "cell_type": "markdown",
   "id": "2676e2e7",
   "metadata": {},
   "source": [
    "### Type\n",
    "\n",
    "\n",
    "<a id='index-1'></a>\n",
    "Python provides for different types of objects, to accommodate different categories of data.\n",
    "\n",
    "For example"
   ]
  },
  {
   "cell_type": "code",
   "execution_count": 1,
   "id": "27eac835",
   "metadata": {
    "hide-output": false,
    "tags": []
   },
   "outputs": [
    {
     "data": {
      "text/plain": [
       "str"
      ]
     },
     "execution_count": 1,
     "metadata": {},
     "output_type": "execute_result"
    }
   ],
   "source": [
    "s = 'This is a string'\n",
    "type(s)"
   ]
  },
  {
   "cell_type": "code",
   "execution_count": 2,
   "id": "ee0fd752-498e-4ff0-ae46-1abce1f6be80",
   "metadata": {
    "tags": []
   },
   "outputs": [],
   "source": [
    "s =\"\"\"\n",
    "here is\n",
    "multiple lines\n",
    "string\n",
    "\"\"\""
   ]
  },
  {
   "cell_type": "code",
   "execution_count": 3,
   "id": "6d5bc67d-0a18-4dc5-9646-d7906c37e7b5",
   "metadata": {
    "tags": []
   },
   "outputs": [
    {
     "data": {
      "text/plain": [
       "'\\nhere is\\nmultiple lines\\nstring\\n'"
      ]
     },
     "execution_count": 3,
     "metadata": {},
     "output_type": "execute_result"
    }
   ],
   "source": [
    "s"
   ]
  },
  {
   "cell_type": "code",
   "execution_count": 4,
   "id": "ffa1de71-8bb7-43fb-a4e8-c1b26c5f0f70",
   "metadata": {
    "tags": []
   },
   "outputs": [
    {
     "name": "stdout",
     "output_type": "stream",
     "text": [
      "\n",
      "here is\n",
      "multiple lines\n",
      "string\n",
      "\n"
     ]
    }
   ],
   "source": [
    "print(s)"
   ]
  },
  {
   "cell_type": "code",
   "execution_count": 5,
   "id": "bcc49fa0",
   "metadata": {
    "hide-output": false,
    "tags": []
   },
   "outputs": [
    {
     "data": {
      "text/plain": [
       "int"
      ]
     },
     "execution_count": 5,
     "metadata": {},
     "output_type": "execute_result"
    }
   ],
   "source": [
    "x = 42   # Now let's create an integer\n",
    "type(x)"
   ]
  },
  {
   "cell_type": "markdown",
   "id": "9ece4fc8",
   "metadata": {},
   "source": [
    "The type of an object matters for many expressions.\n",
    "\n",
    "For example, the addition operator between two strings means concatenation"
   ]
  },
  {
   "cell_type": "code",
   "execution_count": 6,
   "id": "208f09b2",
   "metadata": {
    "hide-output": false,
    "tags": []
   },
   "outputs": [
    {
     "data": {
      "text/plain": [
       "'300cc'"
      ]
     },
     "execution_count": 6,
     "metadata": {},
     "output_type": "execute_result"
    }
   ],
   "source": [
    "'300' + 'cc'"
   ]
  },
  {
   "cell_type": "code",
   "execution_count": 8,
   "id": "5c0d0ccc-6400-4dd1-9e72-27b6e43e14ae",
   "metadata": {
    "tags": []
   },
   "outputs": [
    {
     "data": {
      "text/plain": [
       "'200cc'"
      ]
     },
     "execution_count": 8,
     "metadata": {},
     "output_type": "execute_result"
    }
   ],
   "source": [
    "x='200'\n",
    "y='cc'\n",
    "'{}{}'.format(x,y)"
   ]
  },
  {
   "cell_type": "code",
   "execution_count": 9,
   "id": "ee22c43c-8f69-4eb5-905b-991db155d172",
   "metadata": {
    "tags": []
   },
   "outputs": [
    {
     "data": {
      "text/plain": [
       "'C:\\\\Class_Git\\\\quantecon24_fin\\\\Codes\\\\QuantEcon'"
      ]
     },
     "execution_count": 9,
     "metadata": {},
     "output_type": "execute_result"
    }
   ],
   "source": [
    "pwd"
   ]
  },
  {
   "cell_type": "markdown",
   "id": "1d9042b5",
   "metadata": {},
   "source": [
    "On the other hand, between two numbers it means ordinary addition"
   ]
  },
  {
   "cell_type": "code",
   "execution_count": 13,
   "id": "96c91699",
   "metadata": {
    "hide-output": false,
    "tags": []
   },
   "outputs": [
    {
     "data": {
      "text/plain": [
       "700"
      ]
     },
     "execution_count": 13,
     "metadata": {},
     "output_type": "execute_result"
    }
   ],
   "source": [
    "300 + 400"
   ]
  },
  {
   "cell_type": "markdown",
   "id": "618be633",
   "metadata": {},
   "source": [
    "Consider the following expression"
   ]
  },
  {
   "cell_type": "code",
   "execution_count": 7,
   "id": "f3fb1ec5",
   "metadata": {
    "hide-output": false,
    "tags": []
   },
   "outputs": [
    {
     "ename": "TypeError",
     "evalue": "can only concatenate str (not \"int\") to str",
     "output_type": "error",
     "traceback": [
      "\u001b[0;31m---------------------------------------------------------------------------\u001b[0m",
      "\u001b[0;31mTypeError\u001b[0m                                 Traceback (most recent call last)",
      "Cell \u001b[0;32mIn[7], line 1\u001b[0m\n\u001b[0;32m----> 1\u001b[0m \u001b[38;5;124;43m'\u001b[39;49m\u001b[38;5;124;43m300\u001b[39;49m\u001b[38;5;124;43m'\u001b[39;49m\u001b[43m \u001b[49m\u001b[38;5;241;43m+\u001b[39;49m\u001b[43m \u001b[49m\u001b[38;5;241;43m400\u001b[39;49m\n",
      "\u001b[0;31mTypeError\u001b[0m: can only concatenate str (not \"int\") to str"
     ]
    }
   ],
   "source": [
    "'300' + 400"
   ]
  },
  {
   "cell_type": "markdown",
   "id": "d69cd72c",
   "metadata": {},
   "source": [
    "Here we are mixing types, and it’s unclear to Python whether the user wants to\n",
    "\n",
    "- convert `'300'` to an integer and then add it to `400`, or  \n",
    "- convert `400` to string and then concatenate it with `'300'`  \n",
    "\n",
    "\n",
    "Some languages might try to guess but Python is *strongly typed*\n",
    "\n",
    "- Type is important, and implicit type conversion is rare.  \n",
    "- Python will respond instead by raising a `TypeError`.  \n",
    "\n",
    "\n",
    "To avoid the error, you need to clarify by changing the relevant type.\n",
    "\n",
    "For example,"
   ]
  },
  {
   "cell_type": "code",
   "execution_count": 8,
   "id": "7fb9f0e6",
   "metadata": {
    "hide-output": false,
    "tags": []
   },
   "outputs": [
    {
     "data": {
      "text/plain": [
       "700"
      ]
     },
     "execution_count": 8,
     "metadata": {},
     "output_type": "execute_result"
    }
   ],
   "source": [
    "int('300') + 400   # To add as numbers, change the string to an integer"
   ]
  },
  {
   "cell_type": "markdown",
   "id": "04d4279a",
   "metadata": {},
   "source": [
    "\n",
    "<a id='identity'></a>"
   ]
  },
  {
   "cell_type": "markdown",
   "id": "bc31e0c9",
   "metadata": {},
   "source": [
    "### Identity\n",
    "\n",
    "\n",
    "<a id='index-2'></a>\n",
    "In Python, each object has a unique identifier, which helps Python (and us) keep track of the object.\n",
    "\n",
    "The identity of an object can be obtained via the `id()` function"
   ]
  },
  {
   "cell_type": "code",
   "execution_count": 9,
   "id": "1f518cba",
   "metadata": {
    "hide-output": false
   },
   "outputs": [
    {
     "data": {
      "text/plain": [
       "139949467837232"
      ]
     },
     "execution_count": 9,
     "metadata": {},
     "output_type": "execute_result"
    }
   ],
   "source": [
    "y = 2.5\n",
    "z = 2.5\n",
    "id(y)"
   ]
  },
  {
   "cell_type": "code",
   "execution_count": 10,
   "id": "4b2df287",
   "metadata": {
    "hide-output": false
   },
   "outputs": [
    {
     "data": {
      "text/plain": [
       "139949467835312"
      ]
     },
     "execution_count": 10,
     "metadata": {},
     "output_type": "execute_result"
    }
   ],
   "source": [
    "id(z)"
   ]
  },
  {
   "cell_type": "markdown",
   "id": "d7119351",
   "metadata": {},
   "source": [
    "In this example, `y` and `z` happen to have the same value (i.e., `2.5`), but they are not the same object.\n",
    "\n",
    "The identity of an object is in fact just the address of the object in memory."
   ]
  },
  {
   "cell_type": "markdown",
   "id": "5a139570",
   "metadata": {},
   "source": [
    "### Object Content: Data and Attributes\n",
    "\n",
    "\n",
    "<a id='index-3'></a>\n",
    "If we set `x = 42` then we create an object of type `int` that contains\n",
    "the data `42`.\n",
    "\n",
    "In fact, it contains more, as the following example shows"
   ]
  },
  {
   "cell_type": "code",
   "execution_count": 14,
   "id": "50a0b248",
   "metadata": {
    "hide-output": false,
    "tags": []
   },
   "outputs": [
    {
     "data": {
      "text/plain": [
       "42"
      ]
     },
     "execution_count": 14,
     "metadata": {},
     "output_type": "execute_result"
    }
   ],
   "source": [
    "x = 42\n",
    "x"
   ]
  },
  {
   "cell_type": "code",
   "execution_count": 12,
   "id": "f85e74da-9121-4e6b-907c-581fd17fc728",
   "metadata": {
    "tags": []
   },
   "outputs": [
    {
     "data": {
      "text/plain": [
       "['__abs__',\n",
       " '__add__',\n",
       " '__and__',\n",
       " '__bool__',\n",
       " '__ceil__',\n",
       " '__class__',\n",
       " '__delattr__',\n",
       " '__dir__',\n",
       " '__divmod__',\n",
       " '__doc__',\n",
       " '__eq__',\n",
       " '__float__',\n",
       " '__floor__',\n",
       " '__floordiv__',\n",
       " '__format__',\n",
       " '__ge__',\n",
       " '__getattribute__',\n",
       " '__getnewargs__',\n",
       " '__gt__',\n",
       " '__hash__',\n",
       " '__index__',\n",
       " '__init__',\n",
       " '__init_subclass__',\n",
       " '__int__',\n",
       " '__invert__',\n",
       " '__le__',\n",
       " '__lshift__',\n",
       " '__lt__',\n",
       " '__mod__',\n",
       " '__mul__',\n",
       " '__ne__',\n",
       " '__neg__',\n",
       " '__new__',\n",
       " '__or__',\n",
       " '__pos__',\n",
       " '__pow__',\n",
       " '__radd__',\n",
       " '__rand__',\n",
       " '__rdivmod__',\n",
       " '__reduce__',\n",
       " '__reduce_ex__',\n",
       " '__repr__',\n",
       " '__rfloordiv__',\n",
       " '__rlshift__',\n",
       " '__rmod__',\n",
       " '__rmul__',\n",
       " '__ror__',\n",
       " '__round__',\n",
       " '__rpow__',\n",
       " '__rrshift__',\n",
       " '__rshift__',\n",
       " '__rsub__',\n",
       " '__rtruediv__',\n",
       " '__rxor__',\n",
       " '__setattr__',\n",
       " '__sizeof__',\n",
       " '__str__',\n",
       " '__sub__',\n",
       " '__subclasshook__',\n",
       " '__truediv__',\n",
       " '__trunc__',\n",
       " '__xor__',\n",
       " 'as_integer_ratio',\n",
       " 'bit_count',\n",
       " 'bit_length',\n",
       " 'conjugate',\n",
       " 'denominator',\n",
       " 'from_bytes',\n",
       " 'imag',\n",
       " 'numerator',\n",
       " 'real',\n",
       " 'to_bytes']"
      ]
     },
     "execution_count": 12,
     "metadata": {},
     "output_type": "execute_result"
    }
   ],
   "source": [
    "dir(x)"
   ]
  },
  {
   "cell_type": "code",
   "execution_count": 16,
   "id": "e6d718a4-a393-4860-bfb3-7480338a9d8c",
   "metadata": {
    "tags": []
   },
   "outputs": [],
   "source": [
    "import pandas as pd"
   ]
  },
  {
   "cell_type": "code",
   "execution_count": 17,
   "id": "b43e96bc-a925-4c2e-838f-f3f968fcd1ac",
   "metadata": {
    "tags": []
   },
   "outputs": [],
   "source": [
    "from sklearn import random"
   ]
  },
  {
   "cell_type": "code",
   "execution_count": 19,
   "id": "4ebd34c5-f844-4862-a759-735f35fbd0f0",
   "metadata": {
    "tags": []
   },
   "outputs": [
    {
     "name": "stdout",
     "output_type": "stream",
     "text": [
      "Object `random.gamma` not found.\n"
     ]
    }
   ],
   "source": [
    "random."
   ]
  },
  {
   "cell_type": "code",
   "execution_count": 5,
   "id": "49b24e7d",
   "metadata": {
    "hide-output": false
   },
   "outputs": [
    {
     "data": {
      "text/plain": [
       "0"
      ]
     },
     "execution_count": 5,
     "metadata": {},
     "output_type": "execute_result"
    }
   ],
   "source": [
    "x.imag"
   ]
  },
  {
   "cell_type": "code",
   "execution_count": 6,
   "id": "3788db32",
   "metadata": {
    "hide-output": false
   },
   "outputs": [
    {
     "data": {
      "text/plain": [
       "int"
      ]
     },
     "execution_count": 6,
     "metadata": {},
     "output_type": "execute_result"
    }
   ],
   "source": [
    "x.__class__"
   ]
  },
  {
   "cell_type": "markdown",
   "id": "02b08a71",
   "metadata": {},
   "source": [
    "When Python creates this integer object, it stores with it various auxiliary information, such as the imaginary part, and the type.\n",
    "\n",
    "Any name following a dot is called an *attribute* of the object to the left of the dot.\n",
    "\n",
    "- e.g.,`imag` and `__class__` are attributes of `x`.  \n",
    "\n",
    "\n",
    "We see from this example that objects have attributes that contain auxiliary information.\n",
    "\n",
    "They also have attributes that act like functions, called *methods*.\n",
    "\n",
    "These attributes are important, so let’s discuss them in-depth.\n",
    "\n",
    "\n",
    "<a id='methods'></a>"
   ]
  },
  {
   "cell_type": "markdown",
   "id": "fb2d4a7a",
   "metadata": {},
   "source": [
    "### Methods\n",
    "\n",
    "\n",
    "<a id='index-4'></a>\n",
    "Methods are *functions that are bundled with objects*.\n",
    "\n",
    "Formally, methods are attributes of objects that are callable (i.e., can be called as functions)"
   ]
  },
  {
   "cell_type": "code",
   "execution_count": null,
   "id": "dda87609-f2c7-4529-a71b-66449b5ec6f4",
   "metadata": {},
   "outputs": [],
   "source": []
  },
  {
   "cell_type": "code",
   "execution_count": 21,
   "id": "489c2053",
   "metadata": {
    "hide-output": false,
    "tags": []
   },
   "outputs": [
    {
     "data": {
      "text/plain": [
       "True"
      ]
     },
     "execution_count": 21,
     "metadata": {},
     "output_type": "execute_result"
    }
   ],
   "source": [
    "x = ['foo', 'bar']\n",
    "callable(x.append)"
   ]
  },
  {
   "cell_type": "code",
   "execution_count": 23,
   "id": "e7b95d86-673f-44a5-bb91-76f75389e17f",
   "metadata": {
    "tags": []
   },
   "outputs": [],
   "source": [
    "x.append('third')"
   ]
  },
  {
   "cell_type": "code",
   "execution_count": 16,
   "id": "4292e008",
   "metadata": {
    "hide-output": false,
    "tags": []
   },
   "outputs": [
    {
     "data": {
      "text/plain": [
       "False"
      ]
     },
     "execution_count": 16,
     "metadata": {},
     "output_type": "execute_result"
    }
   ],
   "source": [
    "callable(x.__doc__)"
   ]
  },
  {
   "cell_type": "markdown",
   "id": "a7d762b3",
   "metadata": {},
   "source": [
    "Methods typically act on the data contained in the object they belong to, or combine that data with other data"
   ]
  },
  {
   "cell_type": "code",
   "execution_count": 17,
   "id": "2d2aa96c",
   "metadata": {
    "hide-output": false,
    "tags": []
   },
   "outputs": [
    {
     "data": {
      "text/plain": [
       "'THIS IS A STRING'"
      ]
     },
     "execution_count": 17,
     "metadata": {},
     "output_type": "execute_result"
    }
   ],
   "source": [
    "x = ['a', 'b']\n",
    "x.append('c')\n",
    "s = 'This is a string'\n",
    "s.upper()"
   ]
  },
  {
   "cell_type": "code",
   "execution_count": 18,
   "id": "6dd1adae",
   "metadata": {
    "hide-output": false,
    "tags": []
   },
   "outputs": [
    {
     "data": {
      "text/plain": [
       "'this is a string'"
      ]
     },
     "execution_count": 18,
     "metadata": {},
     "output_type": "execute_result"
    }
   ],
   "source": [
    "s.lower()"
   ]
  },
  {
   "cell_type": "code",
   "execution_count": 19,
   "id": "675f98a9",
   "metadata": {
    "hide-output": false,
    "tags": []
   },
   "outputs": [
    {
     "data": {
      "text/plain": [
       "'That is a string'"
      ]
     },
     "execution_count": 19,
     "metadata": {},
     "output_type": "execute_result"
    }
   ],
   "source": [
    "s.replace('This', 'That')"
   ]
  },
  {
   "cell_type": "markdown",
   "id": "be282b3b",
   "metadata": {},
   "source": [
    "A great deal of Python functionality is organized around method calls.\n",
    "\n",
    "For example, consider the following piece of code"
   ]
  },
  {
   "cell_type": "code",
   "execution_count": 20,
   "id": "0a397693",
   "metadata": {
    "hide-output": false,
    "tags": []
   },
   "outputs": [
    {
     "data": {
      "text/plain": [
       "['aa', 'b']"
      ]
     },
     "execution_count": 20,
     "metadata": {},
     "output_type": "execute_result"
    }
   ],
   "source": [
    "x = ['a', 'b']\n",
    "x[0] = 'aa'  # Item assignment using square bracket notation\n",
    "x"
   ]
  },
  {
   "cell_type": "markdown",
   "id": "ea1406cb",
   "metadata": {},
   "source": [
    "It doesn’t look like there are any methods used here, but in fact the square bracket assignment notation is just a convenient interface to a method call.\n",
    "\n",
    "What actually happens is that Python calls the `__setitem__` method, as follows"
   ]
  },
  {
   "cell_type": "code",
   "execution_count": 21,
   "id": "16d49ec5",
   "metadata": {
    "hide-output": false,
    "tags": []
   },
   "outputs": [
    {
     "data": {
      "text/plain": [
       "['aa', 'b']"
      ]
     },
     "execution_count": 21,
     "metadata": {},
     "output_type": "execute_result"
    }
   ],
   "source": [
    "x = ['a', 'b']\n",
    "x.__setitem__(0, 'aa')  # Equivalent to x[0] = 'aa'\n",
    "x"
   ]
  },
  {
   "cell_type": "markdown",
   "id": "a3c6b4c8",
   "metadata": {},
   "source": [
    "(If you wanted to you could modify the `__setitem__` method, so that square bracket assignment does something totally different)"
   ]
  },
  {
   "cell_type": "markdown",
   "id": "3fb6e7ce",
   "metadata": {},
   "source": [
    "## Summary\n",
    "\n",
    "In Python, *everything in memory is treated as an object*.\n",
    "\n",
    "This includes not just lists, strings, etc., but also less obvious things, such as\n",
    "\n",
    "- functions (once they have been read into memory)  \n",
    "- modules  (ditto)  \n",
    "- files opened for reading or writing  \n",
    "- integers, etc.  \n",
    "\n",
    "\n",
    "Consider, for example, functions.\n",
    "\n",
    "When Python reads a function definition, it creates a **function object** and stores it in memory.\n",
    "\n",
    "The following code illustrates"
   ]
  },
  {
   "cell_type": "code",
   "execution_count": null,
   "id": "9e8433ef",
   "metadata": {
    "hide-output": false
   },
   "outputs": [],
   "source": [
    "def f(x): return x**2\n",
    "f"
   ]
  },
  {
   "cell_type": "code",
   "execution_count": null,
   "id": "1c004ead",
   "metadata": {
    "hide-output": false
   },
   "outputs": [],
   "source": [
    "type(f)"
   ]
  },
  {
   "cell_type": "code",
   "execution_count": null,
   "id": "f05fc755",
   "metadata": {
    "hide-output": false
   },
   "outputs": [],
   "source": [
    "id(f)"
   ]
  },
  {
   "cell_type": "code",
   "execution_count": null,
   "id": "681f2522",
   "metadata": {
    "hide-output": false
   },
   "outputs": [],
   "source": [
    "f.__name__"
   ]
  },
  {
   "cell_type": "markdown",
   "id": "e42a2ba1",
   "metadata": {},
   "source": [
    "We can see that `f` has type, identity, attributes and so on—just like any other object.\n",
    "\n",
    "It also has methods.\n",
    "\n",
    "One example is the `__call__` method, which just evaluates the function"
   ]
  },
  {
   "cell_type": "code",
   "execution_count": null,
   "id": "f0c80b22",
   "metadata": {
    "hide-output": false
   },
   "outputs": [],
   "source": [
    "f.__call__(3)"
   ]
  },
  {
   "cell_type": "markdown",
   "id": "0d00fb81",
   "metadata": {},
   "source": [
    "Another is the `__dir__` method, which returns a list of attributes.\n",
    "\n",
    "Modules loaded into memory are also treated as objects"
   ]
  },
  {
   "cell_type": "code",
   "execution_count": null,
   "id": "d32f545f",
   "metadata": {
    "hide-output": false
   },
   "outputs": [],
   "source": [
    "import math\n",
    "\n",
    "id(math)"
   ]
  },
  {
   "cell_type": "markdown",
   "id": "0ba97b68",
   "metadata": {},
   "source": [
    "This uniform treatment of data in Python (everything is an object) helps keep the language simple and consistent."
   ]
  }
 ],
 "metadata": {
  "date": 1662429779.0862887,
  "filename": "oop_intro.md",
  "kernelspec": {
   "display_name": "Python 3 (ipykernel)",
   "language": "python",
   "name": "python3"
  },
  "language_info": {
   "codemirror_mode": {
    "name": "ipython",
    "version": 3
   },
   "file_extension": ".py",
   "mimetype": "text/x-python",
   "name": "python",
   "nbconvert_exporter": "python",
   "pygments_lexer": "ipython3",
   "version": "3.9.13"
  },
  "title": "OOP I: Introduction to Object Oriented Programming"
 },
 "nbformat": 4,
 "nbformat_minor": 5
}
