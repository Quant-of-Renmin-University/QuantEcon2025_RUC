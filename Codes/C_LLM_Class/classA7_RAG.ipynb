{
 "cells": [
  {
   "cell_type": "code",
   "execution_count": null,
   "metadata": {},
   "outputs": [],
   "source": [
    "import torch\n",
    "from transformers import LlamaForCausalLM, LlamaTokenizer\n",
    "from llama_parse import LlamaParse\n",
    "from llama_index.embeddings.huggingface import HuggingFaceEmbedding\n",
    "\n",
    "# Load and parse the document\n",
    "documents = LlamaParse(result_type=\"markdown\").load_data(\"./data/sample_document*.pdf\")\n",
    "\n",
    "# Load the embedding model\n",
    "embed_model = HuggingFaceEmbedding(model_name=\"sentence-transformers/all-MiniLM-L6-v2\")\n",
    "\n",
    "# Generate embeddings for the document\n",
    "document_embeddings = embed_model.encode(documents)\n",
    "\n",
    "# Load the LLaMA model and tokenizer\n",
    "model_name = \"meta-llama/Llama-3.2-1B\"\n",
    "tokenizer = LlamaTokenizer.from_pretrained(model_name)\n",
    "model = LlamaForCausalLM.from_pretrained(model_name)\n",
    "\n",
    "def rag_pipeline(query, documents, document_embeddings, model, tokenizer):\n",
    "    # Retrieve relevant documents based on the query\n",
    "    query_embedding = embed_model.encode([query])\n",
    "    similarities = document_embeddings @ query_embedding.T\n",
    "    top_docs = [documents[i] for i in similarities.argsort(axis=0)[-5:].flatten()]\n",
    "\n",
    "# Concatenate the top documents into a single context\n",
    "context = \" \".join(top_docs)\n",
    "\n",
    "# Generate a response using the LLaMA model\n",
    "inputs = tokenizer.encode(query + context, return_tensors=\"pt\")\n",
    "outputs = model.generate(inputs, max_length=512, num_return_sequences=1)\n",
    "response = tokenizer.decode(outputs[0], skip_special_tokens=True)\n",
    "\n",
    "return response\n",
    "\n",
    "# Example usage\n",
    "query = \"How do I bake a chocolate cake?\"\n",
    "response = rag_pipeline(query, documents, document_embeddings, model, tokenizer)\n",
    "print(response)"
   ]
  }
 ],
 "metadata": {
  "kernelspec": {
   "display_name": "base",
   "language": "python",
   "name": "python3"
  },
  "language_info": {
   "name": "python",
   "version": "3.9.13"
  }
 },
 "nbformat": 4,
 "nbformat_minor": 2
}
