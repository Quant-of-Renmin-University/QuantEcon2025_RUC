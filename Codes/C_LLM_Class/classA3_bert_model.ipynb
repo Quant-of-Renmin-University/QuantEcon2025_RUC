{
 "cells": [
  {
   "cell_type": "code",
   "execution_count": 28,
   "id": "1bc93958-d56a-4e0c-a537-63b0b5b2726c",
   "metadata": {
    "tags": []
   },
   "outputs": [
    {
     "name": "stderr",
     "output_type": "stream",
     "text": [
      "Some weights of BertForSequenceClassification were not initialized from the model checkpoint at prajjwal1/bert-tiny and are newly initialized: ['classifier.bias', 'classifier.weight']\n",
      "You should probably TRAIN this model on a down-stream task to be able to use it for predictions and inference.\n"
     ]
    }
   ],
   "source": [
    "from transformers import AutoTokenizer, AutoModelForSequenceClassification, AutoModel\n",
    "import torch\n",
    "model_id='prajjwal1/bert-tiny'\n",
    "# model_id='bert-base-uncased'\n",
    "# Load the tokenizer and model\n",
    "tokenizer = AutoTokenizer.from_pretrained(model_id)\n",
    "model_classification = AutoModelForSequenceClassification.from_pretrained(model_id,num_labels=2)\n",
    "model = AutoModel.from_pretrained(model_id)"
   ]
  },
  {
   "cell_type": "markdown",
   "id": "b319dbe7",
   "metadata": {},
   "source": [
    "### I. Bert Embedding \n",
    "note:  pooler_output or token_embeddings are useful for data science analysis"
   ]
  },
  {
   "cell_type": "code",
   "execution_count": 29,
   "id": "4ce3f2e4",
   "metadata": {},
   "outputs": [
    {
     "data": {
      "text/plain": [
       "['bert', 'is', 'amazing', '.']"
      ]
     },
     "execution_count": 29,
     "metadata": {},
     "output_type": "execute_result"
    }
   ],
   "source": [
    "\n",
    "# Tokenize input text\n",
    "text = \"BERT is amazing.\"\n",
    "\n",
    "tokenizer.tokenize(text)\n"
   ]
  },
  {
   "cell_type": "code",
   "execution_count": 30,
   "id": "2a6c4f28",
   "metadata": {},
   "outputs": [
    {
     "name": "stdout",
     "output_type": "stream",
     "text": [
      "Tokenized sentence \"BERT is amazing.\": tensor([[  101, 14324,  2003,  6429,  1012,   102]])\n"
     ]
    }
   ],
   "source": [
    "# Bert tokenizer \n",
    "inputs = tokenizer(text, return_tensors='pt')\n",
    "\n",
    "print('Tokenized sentence \"{}\":'.format(text),inputs['input_ids'])"
   ]
  },
  {
   "cell_type": "code",
   "execution_count": 31,
   "id": "6ddddf00",
   "metadata": {},
   "outputs": [
    {
     "name": "stdout",
     "output_type": "stream",
     "text": [
      "Token Embeddings: torch.Size([6, 128])\n",
      "CLS Embedding: torch.Size([128])\n",
      "pooler_output: torch.Size([1, 128])\n",
      "hidden_states torch.Size([1, 6, 128])\n"
     ]
    }
   ],
   "source": [
    "inputs = tokenizer(text, return_tensors='pt')\n",
    "\n",
    "# Get hidden states\n",
    "with torch.no_grad():\n",
    "    outputs = model(**inputs)\n",
    "    hidden_states = outputs.last_hidden_state\n",
    "    pooler_output = outputs.pooler_output\n",
    "\n",
    "# Extract word embeddings\n",
    "cls_embedding = hidden_states[0][0]  # Embedding for [CLS] token\n",
    "token_embeddings = hidden_states[0]  # Embeddings for all tokens\n",
    "\n",
    "# Print the embeddings\n",
    "print(\"Token Embeddings:\", token_embeddings.shape)\n",
    "print(\"CLS Embedding:\", cls_embedding.shape)\n",
    "print(\"pooler_output:\", pooler_output.shape)\n",
    "print(\"hidden_states\", hidden_states.shape)"
   ]
  },
  {
   "cell_type": "code",
   "execution_count": 32,
   "id": "916fbe49",
   "metadata": {},
   "outputs": [
    {
     "name": "stderr",
     "output_type": "stream",
     "text": [
      "Asking to truncate to max_length but no maximum length is provided and the model has no predefined maximum length. Default to no truncation.\n"
     ]
    },
    {
     "name": "stdout",
     "output_type": "stream",
     "text": [
      "pooler_output: torch.Size([3, 128])\n",
      "Token Embeddings: torch.Size([3, 7, 128])\n",
      "CLS Embeddings: torch.Size([3, 128])\n"
     ]
    }
   ],
   "source": [
    "### for multiple sentence\n",
    "\n",
    "# Prepare multiple sequences\n",
    "sentences = [\"BERT is amazing.\", \"Transformers are powerful.\", \"NLP is fascinating.\"]\n",
    "\n",
    "# Tokenize input texts\n",
    "inputs = tokenizer(sentences, return_tensors='pt', padding=True, truncation=True)\n",
    "\n",
    "# Get hidden states\n",
    "with torch.no_grad():\n",
    "    outputs = model(**inputs)\n",
    "    hidden_states = outputs.last_hidden_state\n",
    "    pooler_output = outputs.pooler_output\n",
    "\n",
    "# Extract word embeddings\n",
    "cls_embeddings = hidden_states[:, 0, :]  # Embeddings for [CLS] token for each sequence\n",
    "token_embeddings = hidden_states  # Embeddings for all tokens in all sequences\n",
    "\n",
    "# Print the embeddings\n",
    "print(\"pooler_output:\", pooler_output.shape)\n",
    "print(\"Token Embeddings:\", token_embeddings.shape)\n",
    "print(\"CLS Embeddings:\", cls_embeddings.shape)\n"
   ]
  },
  {
   "cell_type": "markdown",
   "id": "ed0150e9",
   "metadata": {},
   "source": [
    "### II. Bert for classificaiton (Sentiment Analysis)\n",
    "note: model_classification needs fine-tuning (must)"
   ]
  },
  {
   "cell_type": "code",
   "execution_count": 33,
   "id": "ff8eafe9-0d13-40a3-b5f5-fa6cd66c1133",
   "metadata": {
    "tags": []
   },
   "outputs": [
    {
     "name": "stdout",
     "output_type": "stream",
     "text": [
      "Softmax output: tensor([[0.4117, 0.5883]])\n",
      "Predicted class: 1\n"
     ]
    }
   ],
   "source": [
    " \n",
    "# Example text of classificaiotn\n",
    "text = \"BERT Tiny is a smaller version of BERT.\"\n",
    "\n",
    "# Tokenize the input text\n",
    "inputs = tokenizer(text, return_tensors='pt', max_length=512, truncation=True, padding='max_length')\n",
    "# Perform inference\n",
    "with torch.no_grad():\n",
    "    outputs = model_classification(**inputs)\n",
    "    logits = outputs.logits\n",
    "\n",
    "# Get the predicted class\n",
    "soft_output = torch.softmax(logits, dim=1)\n",
    "print(f'Softmax output: {soft_output}')\n",
    "\n",
    "predicted_class = torch.argmax(logits, dim=1).item()\n",
    "print(f'Predicted class: {predicted_class}')"
   ]
  }
 ],
 "metadata": {
  "kernelspec": {
   "display_name": "base",
   "language": "python",
   "name": "python3"
  },
  "language_info": {
   "codemirror_mode": {
    "name": "ipython",
    "version": 3
   },
   "file_extension": ".py",
   "mimetype": "text/x-python",
   "name": "python",
   "nbconvert_exporter": "python",
   "pygments_lexer": "ipython3",
   "version": "3.9.13"
  }
 },
 "nbformat": 4,
 "nbformat_minor": 5
}
