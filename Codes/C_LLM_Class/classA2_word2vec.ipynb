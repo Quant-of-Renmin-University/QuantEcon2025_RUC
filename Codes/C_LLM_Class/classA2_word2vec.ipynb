{
 "cells": [
  {
   "cell_type": "code",
   "execution_count": 3,
   "id": "27509373-b5c2-40ef-8b2c-9ac20a272eb4",
   "metadata": {
    "tags": []
   },
   "outputs": [
    {
     "name": "stdout",
     "output_type": "stream",
     "text": [
      "Vector for 'financial':\n",
      "[-0.0960355   0.05007293 -0.08759587 -0.04391825 -0.000351   -0.00296183\n",
      " -0.0766124   0.09614742  0.04982056  0.09233143]\n",
      "\n",
      "Most similar words to 'this':\n",
      "one: 0.6144\n",
      "first: 0.2495\n",
      "economic: 0.0426\n",
      "second: 0.0268\n",
      "sentence: -0.2242\n",
      "third: -0.2879\n",
      "and: -0.3019\n",
      "is: -0.3209\n",
      "this: -0.3663\n",
      "the: -0.5382\n"
     ]
    }
   ],
   "source": [
    "from gensim.models import Word2Vec\n",
    "\n",
    "# Example corpus: a list of sentences (each sentence is a list of words)\n",
    "corpus = [\n",
    "    ['this', 'is', 'the', 'first', 'financial','sentence'],\n",
    "    ['this', 'sentence', 'is', 'the', 'second','economic', 'sentence'],\n",
    "    ['and', 'this', 'is', 'the', 'third', 'one'],\n",
    "    ['is', 'this', 'the', 'first',  'financial','sentence'],\n",
    "]\n",
    "\n",
    "# Train the Word2Vec model\n",
    "model = Word2Vec(sentences=corpus, vector_size=10, window=5, min_count=1, workers=4)\n",
    "\n",
    "# Save the model\n",
    "model.save(\"word2vec.model\")\n",
    "\n",
    "# Load the model\n",
    "model = Word2Vec.load(\"word2vec.model\")\n",
    "\n",
    "# Get the vector for a word\n",
    "word_vector = model.wv['financial']\n",
    "print(f\"Vector for 'financial':\\n{word_vector}\")\n",
    "\n",
    "# Find most similar words\n",
    "similar_words = model.wv.most_similar('financial')\n",
    "print(\"\\nMost similar words to 'this':\")\n",
    "for word, similarity in similar_words:\n",
    "    print(f\"{word}: {similarity:.4f}\")\n"
   ]
  },
  {
   "cell_type": "code",
   "execution_count": null,
   "id": "7ac0cfb6-a859-427c-90e2-938c8dfd45de",
   "metadata": {},
   "outputs": [],
   "source": []
  }
 ],
 "metadata": {
  "kernelspec": {
   "display_name": "base",
   "language": "python",
   "name": "python3"
  },
  "language_info": {
   "codemirror_mode": {
    "name": "ipython",
    "version": 3
   },
   "file_extension": ".py",
   "mimetype": "text/x-python",
   "name": "python",
   "nbconvert_exporter": "python",
   "pygments_lexer": "ipython3",
   "version": "3.9.13"
  }
 },
 "nbformat": 4,
 "nbformat_minor": 5
}
