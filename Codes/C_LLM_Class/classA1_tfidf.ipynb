{
 "cells": [
  {
   "cell_type": "code",
   "execution_count": 1,
   "id": "872469fe-fb78-44b9-9526-db0c290dd888",
   "metadata": {
    "tags": []
   },
   "outputs": [
    {
     "name": "stdout",
     "output_type": "stream",
     "text": [
      "TF-IDF vector dimension: 11\n"
     ]
    }
   ],
   "source": [
    "from sklearn.feature_extraction.text import TfidfVectorizer\n",
    "\n",
    "# Sample corpus\n",
    "corpus = [\n",
    "\"The quick brown fox jumped over the lazy dog.\",\n",
    "\"Never jump over the lazy dog quickly.\"\n",
    "]\n",
    "\n",
    "# Initialize the vectorizer\n",
    "vectorizer = TfidfVectorizer()\n",
    "\n",
    "# Fit and transform the corpus\n",
    "tfidf_matrix = vectorizer.fit_transform(corpus)\n",
    "\n",
    "# Get the dimension of the TF-IDF vectors\n",
    "print(f\"TF-IDF vector dimension: {tfidf_matrix.shape[1]}\")"
   ]
  },
  {
   "cell_type": "code",
   "execution_count": 5,
   "id": "844484de-7c7f-4cce-9c61-e098dcc6e109",
   "metadata": {
    "tags": []
   },
   "outputs": [
    {
     "data": {
      "text/plain": [
       "array([[0.36408901, 0.25905233, 0.36408901, 0.        , 0.36408901,\n",
       "        0.25905233, 0.        , 0.25905233, 0.36408901, 0.        ,\n",
       "        0.51810466],\n",
       "       [0.        , 0.3174044 , 0.        , 0.44610081, 0.        ,\n",
       "        0.3174044 , 0.44610081, 0.3174044 , 0.        , 0.44610081,\n",
       "        0.3174044 ]])"
      ]
     },
     "execution_count": 5,
     "metadata": {},
     "output_type": "execute_result"
    }
   ],
   "source": [
    "tfidf_matrix.toarray()"
   ]
  },
  {
   "cell_type": "code",
   "execution_count": null,
   "id": "4c397f95-cc6c-4977-a62f-a64437f3f6f0",
   "metadata": {},
   "outputs": [],
   "source": []
  }
 ],
 "metadata": {
  "kernelspec": {
   "display_name": "Python 3 (ipykernel)",
   "language": "python",
   "name": "python3"
  },
  "language_info": {
   "codemirror_mode": {
    "name": "ipython",
    "version": 3
   },
   "file_extension": ".py",
   "mimetype": "text/x-python",
   "name": "python",
   "nbconvert_exporter": "python",
   "pygments_lexer": "ipython3",
   "version": "3.9.13"
  }
 },
 "nbformat": 4,
 "nbformat_minor": 5
}
